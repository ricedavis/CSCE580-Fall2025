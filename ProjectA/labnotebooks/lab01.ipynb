{
  "cells": [
    {
      "cell_type": "markdown",
      "id": "d7a95c77",
      "metadata": {
        "id": "d7a95c77"
      },
      "source": [
        "# Lab 1: Decision Trees and Accuracy-based Diagnostics\n",
        "\n",
        "All artificial intelligence systems have the potential to fail, and in some domains\n",
        "(like health) failures can have grave consequences.  When we work in these domains,\n",
        "it's important for us to understand our algorithmic errors and their potential risk.\n",
        "\n",
        "In this sequence of three lab sequences, we will use data from\n",
        "The National Health and Nutrition Examination Survey [NHANES](https://www.cdc.gov/nchs/nhanes/index.htm) from the United States.\n",
        "This survey runs annually to assess people's health and nutritional status,\n",
        "and it combines data from interviews and physical examinations. We will be exploring a\n",
        "handful of attributes from the 2014 instance of this survey and their ability to predict heart disease.\n",
        "Making decisions using health data is particularly high risk, so we will use this opportunity to discuss\n",
        "how to assess our model prior to using it.\n",
        "\n",
        "In this lab, we will explore the features in this data set, use `sklearn` to fit a\n",
        "decision tree to our data, and do some work to select hyperparameters that maximize\n",
        "accuracy (or minimize the number of our classification mistakes). In future labs, we\n",
        "will be exploring our mistakes, relating them to important subgroups, and reflecting\n",
        "on our model's robustness. We will also consider how assessments of risk associated\n",
        "with our errors should or could inform our decision making criteria.\n",
        "\n",
        "By the end of this lab, you will be able to:\n",
        "\n",
        "1. Perform an exploratory analysis to understand the features that we use to make predictions.\n",
        "2. Transform features into formats amenable to machine learning (i.e. using one-hot embeddings).\n",
        "3. Use `sklearn` to fit a decision tree to our data and determine its training/validation/test accuracy.\n",
        "4. Visualize, understand and interpret a decision tree diagram.\n",
        "5. Explain how various hyperparameter choices may cause our decision tree to underfit or overfit data.\n",
        "6. Perform hyperparameter tuning to search for the optimal hyperparameters of a decision tree.\n",
        "\n",
        "Thanks to https://www.kaggle.com/code/tobyanderson/health-survey-analysis for some utilities to decode NHANES categories!  \n",
        "\n",
        "## Google Colab Setup\n",
        "\n",
        "We will import `matplotlib` and `numpy` for plotting and linear algebra\n",
        "manipulations."
      ]
    },
    {
      "cell_type": "code",
      "execution_count": 63,
      "id": "5b74d426",
      "metadata": {
        "id": "5b74d426"
      },
      "outputs": [],
      "source": [
        "import matplotlib.pyplot as plt # For plotting\n",
        "import numpy as np              # Linear algebra library"
      ]
    },
    {
      "cell_type": "markdown",
      "id": "affc1aa9",
      "metadata": {
        "id": "affc1aa9"
      },
      "source": [
        "In addition to using `numpy` for its linear algebra functionalities, we will also use\n",
        "a library called `pandas` to help us read CSV files and manipulate tabular data.\n",
        "The below code reads each of the csv files into a **data frame**, which is a way that\n",
        "`pandas` stores tabular data.\n",
        "As an added bonus, Jupyter notebooks display these data frames in a human-readable way."
      ]
    },
    {
      "cell_type": "code",
      "execution_count": 64,
      "id": "f35ab205",
      "metadata": {
        "id": "f35ab205"
      },
      "outputs": [],
      "source": [
        "import pandas as pd"
      ]
    },
    {
      "cell_type": "markdown",
      "id": "ebbcde47",
      "metadata": {
        "id": "ebbcde47"
      },
      "source": [
        "As before, we will start by downloading the data to Google Colab."
      ]
    },
    {
      "cell_type": "code",
      "execution_count": 65,
      "id": "3d46a454",
      "metadata": {
        "colab": {
          "base_uri": "https://localhost:8080/"
        },
        "id": "3d46a454",
        "outputId": "7b350d48-397d-4dc8-d9e4-facad67a40f4"
      },
      "outputs": [
        {
          "output_type": "stream",
          "name": "stdout",
          "text": [
            "--2025-09-18 15:37:37--  https://url/TO/NHANES-heart.csv\n",
            "Resolving url (url)... failed: Name or service not known.\n",
            "wget: unable to resolve host address ‘url’\n"
          ]
        }
      ],
      "source": [
        "!wget https://URL/TO/NHANES-heart.csv"
      ]
    },
    {
      "cell_type": "markdown",
      "id": "ff66a965",
      "metadata": {
        "id": "ff66a965"
      },
      "source": [
        "Use pandas to read the dataset."
      ]
    },
    {
      "cell_type": "code",
      "execution_count": 66,
      "id": "283d30f0",
      "metadata": {
        "colab": {
          "base_uri": "https://localhost:8080/",
          "height": 226
        },
        "id": "283d30f0",
        "outputId": "0ac5fe1b-38dc-445e-f540-563840aec988"
      },
      "outputs": [
        {
          "output_type": "execute_result",
          "data": {
            "text/plain": [
              "   gender  race_ethnicity  chest_pain_ever  drink_alcohol  age   BMI  \\\n",
              "0       1               4              1.0            1.0   62  29.1   \n",
              "1       1               6              2.0            1.0   50  20.9   \n",
              "2       2               1              2.0            2.0   62  16.6   \n",
              "3       1               3              2.0            1.0   61  17.6   \n",
              "4       1               4              2.0            1.0   69  13.5   \n",
              "\n",
              "   weight_kg  blood_pressure_sys  diastolic_bp  blood_cholesterol  calories  \\\n",
              "0       77.3               104.0          56.0               5.64     815.0   \n",
              "1       42.9               118.0          46.0               5.25    2339.0   \n",
              "2       27.3               116.0          66.0               3.23    1405.0   \n",
              "3       26.2                90.0          52.0               3.67    1735.0   \n",
              "4       21.0               116.0          66.0               4.50    1735.0   \n",
              "\n",
              "   family_income  target_heart  \n",
              "0           0.87           0.0  \n",
              "1           3.63           0.0  \n",
              "2           3.09           0.0  \n",
              "3           2.13           0.0  \n",
              "4           1.74           0.0  "
            ],
            "text/html": [
              "\n",
              "  <div id=\"df-1c8a7b9f-4cfd-4f93-b272-ab142438b464\" class=\"colab-df-container\">\n",
              "    <div>\n",
              "<style scoped>\n",
              "    .dataframe tbody tr th:only-of-type {\n",
              "        vertical-align: middle;\n",
              "    }\n",
              "\n",
              "    .dataframe tbody tr th {\n",
              "        vertical-align: top;\n",
              "    }\n",
              "\n",
              "    .dataframe thead th {\n",
              "        text-align: right;\n",
              "    }\n",
              "</style>\n",
              "<table border=\"1\" class=\"dataframe\">\n",
              "  <thead>\n",
              "    <tr style=\"text-align: right;\">\n",
              "      <th></th>\n",
              "      <th>gender</th>\n",
              "      <th>race_ethnicity</th>\n",
              "      <th>chest_pain_ever</th>\n",
              "      <th>drink_alcohol</th>\n",
              "      <th>age</th>\n",
              "      <th>BMI</th>\n",
              "      <th>weight_kg</th>\n",
              "      <th>blood_pressure_sys</th>\n",
              "      <th>diastolic_bp</th>\n",
              "      <th>blood_cholesterol</th>\n",
              "      <th>calories</th>\n",
              "      <th>family_income</th>\n",
              "      <th>target_heart</th>\n",
              "    </tr>\n",
              "  </thead>\n",
              "  <tbody>\n",
              "    <tr>\n",
              "      <th>0</th>\n",
              "      <td>1</td>\n",
              "      <td>4</td>\n",
              "      <td>1.0</td>\n",
              "      <td>1.0</td>\n",
              "      <td>62</td>\n",
              "      <td>29.1</td>\n",
              "      <td>77.3</td>\n",
              "      <td>104.0</td>\n",
              "      <td>56.0</td>\n",
              "      <td>5.64</td>\n",
              "      <td>815.0</td>\n",
              "      <td>0.87</td>\n",
              "      <td>0.0</td>\n",
              "    </tr>\n",
              "    <tr>\n",
              "      <th>1</th>\n",
              "      <td>1</td>\n",
              "      <td>6</td>\n",
              "      <td>2.0</td>\n",
              "      <td>1.0</td>\n",
              "      <td>50</td>\n",
              "      <td>20.9</td>\n",
              "      <td>42.9</td>\n",
              "      <td>118.0</td>\n",
              "      <td>46.0</td>\n",
              "      <td>5.25</td>\n",
              "      <td>2339.0</td>\n",
              "      <td>3.63</td>\n",
              "      <td>0.0</td>\n",
              "    </tr>\n",
              "    <tr>\n",
              "      <th>2</th>\n",
              "      <td>2</td>\n",
              "      <td>1</td>\n",
              "      <td>2.0</td>\n",
              "      <td>2.0</td>\n",
              "      <td>62</td>\n",
              "      <td>16.6</td>\n",
              "      <td>27.3</td>\n",
              "      <td>116.0</td>\n",
              "      <td>66.0</td>\n",
              "      <td>3.23</td>\n",
              "      <td>1405.0</td>\n",
              "      <td>3.09</td>\n",
              "      <td>0.0</td>\n",
              "    </tr>\n",
              "    <tr>\n",
              "      <th>3</th>\n",
              "      <td>1</td>\n",
              "      <td>3</td>\n",
              "      <td>2.0</td>\n",
              "      <td>1.0</td>\n",
              "      <td>61</td>\n",
              "      <td>17.6</td>\n",
              "      <td>26.2</td>\n",
              "      <td>90.0</td>\n",
              "      <td>52.0</td>\n",
              "      <td>3.67</td>\n",
              "      <td>1735.0</td>\n",
              "      <td>2.13</td>\n",
              "      <td>0.0</td>\n",
              "    </tr>\n",
              "    <tr>\n",
              "      <th>4</th>\n",
              "      <td>1</td>\n",
              "      <td>4</td>\n",
              "      <td>2.0</td>\n",
              "      <td>1.0</td>\n",
              "      <td>69</td>\n",
              "      <td>13.5</td>\n",
              "      <td>21.0</td>\n",
              "      <td>116.0</td>\n",
              "      <td>66.0</td>\n",
              "      <td>4.50</td>\n",
              "      <td>1735.0</td>\n",
              "      <td>1.74</td>\n",
              "      <td>0.0</td>\n",
              "    </tr>\n",
              "  </tbody>\n",
              "</table>\n",
              "</div>\n",
              "    <div class=\"colab-df-buttons\">\n",
              "\n",
              "  <div class=\"colab-df-container\">\n",
              "    <button class=\"colab-df-convert\" onclick=\"convertToInteractive('df-1c8a7b9f-4cfd-4f93-b272-ab142438b464')\"\n",
              "            title=\"Convert this dataframe to an interactive table.\"\n",
              "            style=\"display:none;\">\n",
              "\n",
              "  <svg xmlns=\"http://www.w3.org/2000/svg\" height=\"24px\" viewBox=\"0 -960 960 960\">\n",
              "    <path d=\"M120-120v-720h720v720H120Zm60-500h600v-160H180v160Zm220 220h160v-160H400v160Zm0 220h160v-160H400v160ZM180-400h160v-160H180v160Zm440 0h160v-160H620v160ZM180-180h160v-160H180v160Zm440 0h160v-160H620v160Z\"/>\n",
              "  </svg>\n",
              "    </button>\n",
              "\n",
              "  <style>\n",
              "    .colab-df-container {\n",
              "      display:flex;\n",
              "      gap: 12px;\n",
              "    }\n",
              "\n",
              "    .colab-df-convert {\n",
              "      background-color: #E8F0FE;\n",
              "      border: none;\n",
              "      border-radius: 50%;\n",
              "      cursor: pointer;\n",
              "      display: none;\n",
              "      fill: #1967D2;\n",
              "      height: 32px;\n",
              "      padding: 0 0 0 0;\n",
              "      width: 32px;\n",
              "    }\n",
              "\n",
              "    .colab-df-convert:hover {\n",
              "      background-color: #E2EBFA;\n",
              "      box-shadow: 0px 1px 2px rgba(60, 64, 67, 0.3), 0px 1px 3px 1px rgba(60, 64, 67, 0.15);\n",
              "      fill: #174EA6;\n",
              "    }\n",
              "\n",
              "    .colab-df-buttons div {\n",
              "      margin-bottom: 4px;\n",
              "    }\n",
              "\n",
              "    [theme=dark] .colab-df-convert {\n",
              "      background-color: #3B4455;\n",
              "      fill: #D2E3FC;\n",
              "    }\n",
              "\n",
              "    [theme=dark] .colab-df-convert:hover {\n",
              "      background-color: #434B5C;\n",
              "      box-shadow: 0px 1px 3px 1px rgba(0, 0, 0, 0.15);\n",
              "      filter: drop-shadow(0px 1px 2px rgba(0, 0, 0, 0.3));\n",
              "      fill: #FFFFFF;\n",
              "    }\n",
              "  </style>\n",
              "\n",
              "    <script>\n",
              "      const buttonEl =\n",
              "        document.querySelector('#df-1c8a7b9f-4cfd-4f93-b272-ab142438b464 button.colab-df-convert');\n",
              "      buttonEl.style.display =\n",
              "        google.colab.kernel.accessAllowed ? 'block' : 'none';\n",
              "\n",
              "      async function convertToInteractive(key) {\n",
              "        const element = document.querySelector('#df-1c8a7b9f-4cfd-4f93-b272-ab142438b464');\n",
              "        const dataTable =\n",
              "          await google.colab.kernel.invokeFunction('convertToInteractive',\n",
              "                                                    [key], {});\n",
              "        if (!dataTable) return;\n",
              "\n",
              "        const docLinkHtml = 'Like what you see? Visit the ' +\n",
              "          '<a target=\"_blank\" href=https://colab.research.google.com/notebooks/data_table.ipynb>data table notebook</a>'\n",
              "          + ' to learn more about interactive tables.';\n",
              "        element.innerHTML = '';\n",
              "        dataTable['output_type'] = 'display_data';\n",
              "        await google.colab.output.renderOutput(dataTable, element);\n",
              "        const docLink = document.createElement('div');\n",
              "        docLink.innerHTML = docLinkHtml;\n",
              "        element.appendChild(docLink);\n",
              "      }\n",
              "    </script>\n",
              "  </div>\n",
              "\n",
              "\n",
              "    <div id=\"df-eed89c7c-fb15-451b-873b-b830d06c3106\">\n",
              "      <button class=\"colab-df-quickchart\" onclick=\"quickchart('df-eed89c7c-fb15-451b-873b-b830d06c3106')\"\n",
              "                title=\"Suggest charts\"\n",
              "                style=\"display:none;\">\n",
              "\n",
              "<svg xmlns=\"http://www.w3.org/2000/svg\" height=\"24px\"viewBox=\"0 0 24 24\"\n",
              "     width=\"24px\">\n",
              "    <g>\n",
              "        <path d=\"M19 3H5c-1.1 0-2 .9-2 2v14c0 1.1.9 2 2 2h14c1.1 0 2-.9 2-2V5c0-1.1-.9-2-2-2zM9 17H7v-7h2v7zm4 0h-2V7h2v10zm4 0h-2v-4h2v4z\"/>\n",
              "    </g>\n",
              "</svg>\n",
              "      </button>\n",
              "\n",
              "<style>\n",
              "  .colab-df-quickchart {\n",
              "      --bg-color: #E8F0FE;\n",
              "      --fill-color: #1967D2;\n",
              "      --hover-bg-color: #E2EBFA;\n",
              "      --hover-fill-color: #174EA6;\n",
              "      --disabled-fill-color: #AAA;\n",
              "      --disabled-bg-color: #DDD;\n",
              "  }\n",
              "\n",
              "  [theme=dark] .colab-df-quickchart {\n",
              "      --bg-color: #3B4455;\n",
              "      --fill-color: #D2E3FC;\n",
              "      --hover-bg-color: #434B5C;\n",
              "      --hover-fill-color: #FFFFFF;\n",
              "      --disabled-bg-color: #3B4455;\n",
              "      --disabled-fill-color: #666;\n",
              "  }\n",
              "\n",
              "  .colab-df-quickchart {\n",
              "    background-color: var(--bg-color);\n",
              "    border: none;\n",
              "    border-radius: 50%;\n",
              "    cursor: pointer;\n",
              "    display: none;\n",
              "    fill: var(--fill-color);\n",
              "    height: 32px;\n",
              "    padding: 0;\n",
              "    width: 32px;\n",
              "  }\n",
              "\n",
              "  .colab-df-quickchart:hover {\n",
              "    background-color: var(--hover-bg-color);\n",
              "    box-shadow: 0 1px 2px rgba(60, 64, 67, 0.3), 0 1px 3px 1px rgba(60, 64, 67, 0.15);\n",
              "    fill: var(--button-hover-fill-color);\n",
              "  }\n",
              "\n",
              "  .colab-df-quickchart-complete:disabled,\n",
              "  .colab-df-quickchart-complete:disabled:hover {\n",
              "    background-color: var(--disabled-bg-color);\n",
              "    fill: var(--disabled-fill-color);\n",
              "    box-shadow: none;\n",
              "  }\n",
              "\n",
              "  .colab-df-spinner {\n",
              "    border: 2px solid var(--fill-color);\n",
              "    border-color: transparent;\n",
              "    border-bottom-color: var(--fill-color);\n",
              "    animation:\n",
              "      spin 1s steps(1) infinite;\n",
              "  }\n",
              "\n",
              "  @keyframes spin {\n",
              "    0% {\n",
              "      border-color: transparent;\n",
              "      border-bottom-color: var(--fill-color);\n",
              "      border-left-color: var(--fill-color);\n",
              "    }\n",
              "    20% {\n",
              "      border-color: transparent;\n",
              "      border-left-color: var(--fill-color);\n",
              "      border-top-color: var(--fill-color);\n",
              "    }\n",
              "    30% {\n",
              "      border-color: transparent;\n",
              "      border-left-color: var(--fill-color);\n",
              "      border-top-color: var(--fill-color);\n",
              "      border-right-color: var(--fill-color);\n",
              "    }\n",
              "    40% {\n",
              "      border-color: transparent;\n",
              "      border-right-color: var(--fill-color);\n",
              "      border-top-color: var(--fill-color);\n",
              "    }\n",
              "    60% {\n",
              "      border-color: transparent;\n",
              "      border-right-color: var(--fill-color);\n",
              "    }\n",
              "    80% {\n",
              "      border-color: transparent;\n",
              "      border-right-color: var(--fill-color);\n",
              "      border-bottom-color: var(--fill-color);\n",
              "    }\n",
              "    90% {\n",
              "      border-color: transparent;\n",
              "      border-bottom-color: var(--fill-color);\n",
              "    }\n",
              "  }\n",
              "</style>\n",
              "\n",
              "      <script>\n",
              "        async function quickchart(key) {\n",
              "          const quickchartButtonEl =\n",
              "            document.querySelector('#' + key + ' button');\n",
              "          quickchartButtonEl.disabled = true;  // To prevent multiple clicks.\n",
              "          quickchartButtonEl.classList.add('colab-df-spinner');\n",
              "          try {\n",
              "            const charts = await google.colab.kernel.invokeFunction(\n",
              "                'suggestCharts', [key], {});\n",
              "          } catch (error) {\n",
              "            console.error('Error during call to suggestCharts:', error);\n",
              "          }\n",
              "          quickchartButtonEl.classList.remove('colab-df-spinner');\n",
              "          quickchartButtonEl.classList.add('colab-df-quickchart-complete');\n",
              "        }\n",
              "        (() => {\n",
              "          let quickchartButtonEl =\n",
              "            document.querySelector('#df-eed89c7c-fb15-451b-873b-b830d06c3106 button');\n",
              "          quickchartButtonEl.style.display =\n",
              "            google.colab.kernel.accessAllowed ? 'block' : 'none';\n",
              "        })();\n",
              "      </script>\n",
              "    </div>\n",
              "\n",
              "    </div>\n",
              "  </div>\n"
            ],
            "application/vnd.google.colaboratory.intrinsic+json": {
              "type": "dataframe",
              "variable_name": "data",
              "summary": "{\n  \"name\": \"data\",\n  \"rows\": 8000,\n  \"fields\": [\n    {\n      \"column\": \"gender\",\n      \"properties\": {\n        \"dtype\": \"number\",\n        \"std\": 0,\n        \"min\": 1,\n        \"max\": 2,\n        \"num_unique_values\": 2,\n        \"samples\": [\n          2,\n          1\n        ],\n        \"semantic_type\": \"\",\n        \"description\": \"\"\n      }\n    },\n    {\n      \"column\": \"race_ethnicity\",\n      \"properties\": {\n        \"dtype\": \"number\",\n        \"std\": 1,\n        \"min\": 1,\n        \"max\": 7,\n        \"num_unique_values\": 6,\n        \"samples\": [\n          4,\n          6\n        ],\n        \"semantic_type\": \"\",\n        \"description\": \"\"\n      }\n    },\n    {\n      \"column\": \"chest_pain_ever\",\n      \"properties\": {\n        \"dtype\": \"number\",\n        \"std\": 0.47727372455543154,\n        \"min\": 1.0,\n        \"max\": 2.0,\n        \"num_unique_values\": 2,\n        \"samples\": [\n          2.0,\n          1.0\n        ],\n        \"semantic_type\": \"\",\n        \"description\": \"\"\n      }\n    },\n    {\n      \"column\": \"drink_alcohol\",\n      \"properties\": {\n        \"dtype\": \"number\",\n        \"std\": 0.46017097805176493,\n        \"min\": 1.0,\n        \"max\": 2.0,\n        \"num_unique_values\": 2,\n        \"samples\": [\n          2.0,\n          1.0\n        ],\n        \"semantic_type\": \"\",\n        \"description\": \"\"\n      }\n    },\n    {\n      \"column\": \"age\",\n      \"properties\": {\n        \"dtype\": \"number\",\n        \"std\": 12,\n        \"min\": 40,\n        \"max\": 80,\n        \"num_unique_values\": 41,\n        \"samples\": [\n          57,\n          47\n        ],\n        \"semantic_type\": \"\",\n        \"description\": \"\"\n      }\n    },\n    {\n      \"column\": \"BMI\",\n      \"properties\": {\n        \"dtype\": \"number\",\n        \"std\": 7.6834655093013104,\n        \"min\": 12.9,\n        \"max\": 82.9,\n        \"num_unique_values\": 349,\n        \"samples\": [\n          24.4,\n          46.8\n        ],\n        \"semantic_type\": \"\",\n        \"description\": \"\"\n      }\n    },\n    {\n      \"column\": \"weight_kg\",\n      \"properties\": {\n        \"dtype\": \"number\",\n        \"std\": 32.80324239692345,\n        \"min\": 3.3,\n        \"max\": 201.6,\n        \"num_unique_values\": 1023,\n        \"samples\": [\n          3.9,\n          59.3\n        ],\n        \"semantic_type\": \"\",\n        \"description\": \"\"\n      }\n    },\n    {\n      \"column\": \"blood_pressure_sys\",\n      \"properties\": {\n        \"dtype\": \"number\",\n        \"std\": 15.050114716976,\n        \"min\": 82.0,\n        \"max\": 220.0,\n        \"num_unique_values\": 57,\n        \"samples\": [\n          104.0,\n          100.0\n        ],\n        \"semantic_type\": \"\",\n        \"description\": \"\"\n      }\n    },\n    {\n      \"column\": \"diastolic_bp\",\n      \"properties\": {\n        \"dtype\": \"number\",\n        \"std\": 11.610892584264533,\n        \"min\": 0.0,\n        \"max\": 116.0,\n        \"num_unique_values\": 46,\n        \"samples\": [\n          28.0,\n          94.0\n        ],\n        \"semantic_type\": \"\",\n        \"description\": \"\"\n      }\n    },\n    {\n      \"column\": \"blood_cholesterol\",\n      \"properties\": {\n        \"dtype\": \"number\",\n        \"std\": 0.9084032890202964,\n        \"min\": 2.02,\n        \"max\": 11.97,\n        \"num_unique_values\": 209,\n        \"samples\": [\n          4.63,\n          6.57\n        ],\n        \"semantic_type\": \"\",\n        \"description\": \"\"\n      }\n    },\n    {\n      \"column\": \"calories\",\n      \"properties\": {\n        \"dtype\": \"number\",\n        \"std\": 867.4943115089055,\n        \"min\": 171.0,\n        \"max\": 8496.0,\n        \"num_unique_values\": 1576,\n        \"samples\": [\n          844.0,\n          2259.0\n        ],\n        \"semantic_type\": \"\",\n        \"description\": \"\"\n      }\n    },\n    {\n      \"column\": \"family_income\",\n      \"properties\": {\n        \"dtype\": \"number\",\n        \"std\": 1.532800386326236,\n        \"min\": 0.0,\n        \"max\": 5.0,\n        \"num_unique_values\": 366,\n        \"samples\": [\n          1.23,\n          4.45\n        ],\n        \"semantic_type\": \"\",\n        \"description\": \"\"\n      }\n    },\n    {\n      \"column\": \"target_heart\",\n      \"properties\": {\n        \"dtype\": \"number\",\n        \"std\": 0.5000312529299927,\n        \"min\": 0.0,\n        \"max\": 1.0,\n        \"num_unique_values\": 2,\n        \"samples\": [\n          1.0,\n          0.0\n        ],\n        \"semantic_type\": \"\",\n        \"description\": \"\"\n      }\n    }\n  ]\n}"
            }
          },
          "metadata": {},
          "execution_count": 66
        }
      ],
      "source": [
        "# read each of the csv files as a *pandas data frame*\n",
        "data = pd.read_csv(\"NHANES-heart.csv\")\n",
        "\n",
        "# display one the dataframes in the notebook\n",
        "data.head()"
      ]
    },
    {
      "cell_type": "markdown",
      "id": "119cf2f0",
      "metadata": {
        "id": "119cf2f0"
      },
      "source": [
        "## Part 1. Data\n",
        "\n",
        "We will be focusing on NHANES survey data relevant to the assessment of heart disease.\n",
        "Note, however, that assessing the presence of heart disease based on this survey data is not an easy task.\n",
        "This is because people may have heart disease but not know it, or people may think they have heart disease\n",
        "when they do not. In our data, we have defined an individual as having heart disease if they answered \"Yes\"\n",
        "to this question on the NHANES survey: \"Have you ever been told by a doctor that you had congestive heart\n",
        "failure, coronary heart disease, a heart attack, or a stroke?\".  This is, as you may notice, not the perfect\n",
        "measure of heart disease! It is, however, the information we have in hand and it is consistent with the way others\n",
        "have defined heart disease in the [literature](https://www.ncbi.nlm.nih.gov/pmc/articles/PMC6836338/).\n",
        "\n",
        "If you are interested in better understanding the NHANES survey responses, we encourage you to look at\n",
        "the [NHANES data dictionary](https://wwwn.cdc.gov/nchs/nhanes/continuousnhanes/default.aspx). Understanding\n",
        "your data is extremely important, as there are often situations in which measurements may be ambiguous or\n",
        "inaccurate, and these inaccuracies impact any decision making algorithm you create.\n",
        "\n",
        "If you do data gathering work, it will be your responsibility to document the data.\n",
        "And if you use data to\n",
        "create an algorithm, it will be your responsibility to understand the limitations\n",
        "of the data.  If you are interested in\n",
        "best practices related to data documentation, we encourage you to read [Dr. Gebru and collaborators' article on this topic](https://arxiv.org/pdf/1803.09010.pdf).\n",
        "You may also be interested in current data [reporting standards](https://www.bmj.com/content/370/bmj.m3164) for clinical trials that involve automated decision making tools.\n",
        "\n",
        "In this lab, we will be looking at 10 features from the NHANES data set. We have already cleaned the data for you to make the lab more approachable, but we encourage you to take a look at the raw data.  The definitions of the features are as follows:\n",
        "\n",
        "- `gender` (RIAGENDR): which is binary 2=female, 1=male\n",
        "- `race_ethnicity` (RIDRETH3): which can be 1=mexican american, 2=other hispanic, 3=white, 4=black, 6=asian, ...\n",
        "- `age` (RIDAGEYR): Age in years\n",
        "- `drink_alcohol` (ALQ101): which is binary; 1 indicates the individual reportedly drinks alcohol and 2 indicates they do not\n",
        "- `blood_cholesterol` (LBDTCSI): Results of an individual's blood cholesterol tests (mmol of cholesterol/L of blood)\n",
        "- `blood_pressure_sys` (BPXSY1): an individual's systolic blood pressure\n",
        "- `diastolic_bp` (BPXDI1): an individual's diastolic blood pressure\n",
        "- `calories` (DR1TKCAL): the number of calories an individual eats per day\n",
        "- `BMI` (BMXBMI): an individual's Body Mass Index (which can be used to assess obesity)\n",
        "- `chest_pain_ever` (CDQ001): If an individual has ever reported chest pain.\n",
        "- `family_income` (INDFMPIR): Ratio of a family's income to poverty threshold\n",
        "\n",
        "We will be using these features to predict the column `target_heart`:\n",
        "\n",
        "- `target_heart`: An individual reports that they have heart disease (1=yes, 0=no).\n",
        "\n",
        "\n",
        "Let's start by exploring the data that we have in hand. Pandas has a nice function to summarize the mean and dispersion of each feature in our data frame:"
      ]
    },
    {
      "cell_type": "code",
      "execution_count": 67,
      "id": "0630129d",
      "metadata": {
        "colab": {
          "base_uri": "https://localhost:8080/",
          "height": 320
        },
        "id": "0630129d",
        "outputId": "2a58a5b1-7780-4b6a-8d61-e9b104bd5f9c"
      },
      "outputs": [
        {
          "output_type": "execute_result",
          "data": {
            "text/plain": [
              "            gender  race_ethnicity  chest_pain_ever  drink_alcohol  \\\n",
              "count  8000.000000     8000.000000      8000.000000    8000.000000   \n",
              "mean      1.498375        3.222000         1.649125       1.304375   \n",
              "std       0.500029        1.330672         0.477274       0.460171   \n",
              "min       1.000000        1.000000         1.000000       1.000000   \n",
              "25%       1.000000        3.000000         1.000000       1.000000   \n",
              "50%       1.000000        3.000000         2.000000       1.000000   \n",
              "75%       2.000000        4.000000         2.000000       2.000000   \n",
              "max       2.000000        7.000000         2.000000       2.000000   \n",
              "\n",
              "               age          BMI    weight_kg  blood_pressure_sys  \\\n",
              "count  8000.000000  8000.000000  8000.000000         8000.000000   \n",
              "mean     62.627875    25.352687    61.112887          117.135500   \n",
              "std      12.225806     7.683466    32.803242           15.050115   \n",
              "min      40.000000    12.900000     3.300000           82.000000   \n",
              "25%      52.000000    19.700000    33.600000          108.000000   \n",
              "50%      63.000000    24.600000    63.700000          116.000000   \n",
              "75%      73.000000    29.500000    83.000000          122.000000   \n",
              "max      80.000000    82.900000   201.600000          220.000000   \n",
              "\n",
              "       diastolic_bp  blood_cholesterol     calories  family_income  \\\n",
              "count   8000.000000        8000.000000  8000.000000    8000.000000   \n",
              "mean      65.705000           4.584376  1866.986875       2.456017   \n",
              "std       11.610893           0.908403   867.494312       1.532800   \n",
              "min        0.000000           2.020000   171.000000       0.000000   \n",
              "25%       60.000000           4.090000  1337.750000       1.180000   \n",
              "50%       66.000000           4.500000  1735.000000       2.050000   \n",
              "75%       72.000000           4.970000  2215.250000       3.800000   \n",
              "max      116.000000          11.970000  8496.000000       5.000000   \n",
              "\n",
              "       target_heart  \n",
              "count   8000.000000  \n",
              "mean       0.500000  \n",
              "std        0.500031  \n",
              "min        0.000000  \n",
              "25%        0.000000  \n",
              "50%        0.500000  \n",
              "75%        1.000000  \n",
              "max        1.000000  "
            ],
            "text/html": [
              "\n",
              "  <div id=\"df-8aa25c4a-b203-48f2-a9fc-915f4dd27022\" class=\"colab-df-container\">\n",
              "    <div>\n",
              "<style scoped>\n",
              "    .dataframe tbody tr th:only-of-type {\n",
              "        vertical-align: middle;\n",
              "    }\n",
              "\n",
              "    .dataframe tbody tr th {\n",
              "        vertical-align: top;\n",
              "    }\n",
              "\n",
              "    .dataframe thead th {\n",
              "        text-align: right;\n",
              "    }\n",
              "</style>\n",
              "<table border=\"1\" class=\"dataframe\">\n",
              "  <thead>\n",
              "    <tr style=\"text-align: right;\">\n",
              "      <th></th>\n",
              "      <th>gender</th>\n",
              "      <th>race_ethnicity</th>\n",
              "      <th>chest_pain_ever</th>\n",
              "      <th>drink_alcohol</th>\n",
              "      <th>age</th>\n",
              "      <th>BMI</th>\n",
              "      <th>weight_kg</th>\n",
              "      <th>blood_pressure_sys</th>\n",
              "      <th>diastolic_bp</th>\n",
              "      <th>blood_cholesterol</th>\n",
              "      <th>calories</th>\n",
              "      <th>family_income</th>\n",
              "      <th>target_heart</th>\n",
              "    </tr>\n",
              "  </thead>\n",
              "  <tbody>\n",
              "    <tr>\n",
              "      <th>count</th>\n",
              "      <td>8000.000000</td>\n",
              "      <td>8000.000000</td>\n",
              "      <td>8000.000000</td>\n",
              "      <td>8000.000000</td>\n",
              "      <td>8000.000000</td>\n",
              "      <td>8000.000000</td>\n",
              "      <td>8000.000000</td>\n",
              "      <td>8000.000000</td>\n",
              "      <td>8000.000000</td>\n",
              "      <td>8000.000000</td>\n",
              "      <td>8000.000000</td>\n",
              "      <td>8000.000000</td>\n",
              "      <td>8000.000000</td>\n",
              "    </tr>\n",
              "    <tr>\n",
              "      <th>mean</th>\n",
              "      <td>1.498375</td>\n",
              "      <td>3.222000</td>\n",
              "      <td>1.649125</td>\n",
              "      <td>1.304375</td>\n",
              "      <td>62.627875</td>\n",
              "      <td>25.352687</td>\n",
              "      <td>61.112887</td>\n",
              "      <td>117.135500</td>\n",
              "      <td>65.705000</td>\n",
              "      <td>4.584376</td>\n",
              "      <td>1866.986875</td>\n",
              "      <td>2.456017</td>\n",
              "      <td>0.500000</td>\n",
              "    </tr>\n",
              "    <tr>\n",
              "      <th>std</th>\n",
              "      <td>0.500029</td>\n",
              "      <td>1.330672</td>\n",
              "      <td>0.477274</td>\n",
              "      <td>0.460171</td>\n",
              "      <td>12.225806</td>\n",
              "      <td>7.683466</td>\n",
              "      <td>32.803242</td>\n",
              "      <td>15.050115</td>\n",
              "      <td>11.610893</td>\n",
              "      <td>0.908403</td>\n",
              "      <td>867.494312</td>\n",
              "      <td>1.532800</td>\n",
              "      <td>0.500031</td>\n",
              "    </tr>\n",
              "    <tr>\n",
              "      <th>min</th>\n",
              "      <td>1.000000</td>\n",
              "      <td>1.000000</td>\n",
              "      <td>1.000000</td>\n",
              "      <td>1.000000</td>\n",
              "      <td>40.000000</td>\n",
              "      <td>12.900000</td>\n",
              "      <td>3.300000</td>\n",
              "      <td>82.000000</td>\n",
              "      <td>0.000000</td>\n",
              "      <td>2.020000</td>\n",
              "      <td>171.000000</td>\n",
              "      <td>0.000000</td>\n",
              "      <td>0.000000</td>\n",
              "    </tr>\n",
              "    <tr>\n",
              "      <th>25%</th>\n",
              "      <td>1.000000</td>\n",
              "      <td>3.000000</td>\n",
              "      <td>1.000000</td>\n",
              "      <td>1.000000</td>\n",
              "      <td>52.000000</td>\n",
              "      <td>19.700000</td>\n",
              "      <td>33.600000</td>\n",
              "      <td>108.000000</td>\n",
              "      <td>60.000000</td>\n",
              "      <td>4.090000</td>\n",
              "      <td>1337.750000</td>\n",
              "      <td>1.180000</td>\n",
              "      <td>0.000000</td>\n",
              "    </tr>\n",
              "    <tr>\n",
              "      <th>50%</th>\n",
              "      <td>1.000000</td>\n",
              "      <td>3.000000</td>\n",
              "      <td>2.000000</td>\n",
              "      <td>1.000000</td>\n",
              "      <td>63.000000</td>\n",
              "      <td>24.600000</td>\n",
              "      <td>63.700000</td>\n",
              "      <td>116.000000</td>\n",
              "      <td>66.000000</td>\n",
              "      <td>4.500000</td>\n",
              "      <td>1735.000000</td>\n",
              "      <td>2.050000</td>\n",
              "      <td>0.500000</td>\n",
              "    </tr>\n",
              "    <tr>\n",
              "      <th>75%</th>\n",
              "      <td>2.000000</td>\n",
              "      <td>4.000000</td>\n",
              "      <td>2.000000</td>\n",
              "      <td>2.000000</td>\n",
              "      <td>73.000000</td>\n",
              "      <td>29.500000</td>\n",
              "      <td>83.000000</td>\n",
              "      <td>122.000000</td>\n",
              "      <td>72.000000</td>\n",
              "      <td>4.970000</td>\n",
              "      <td>2215.250000</td>\n",
              "      <td>3.800000</td>\n",
              "      <td>1.000000</td>\n",
              "    </tr>\n",
              "    <tr>\n",
              "      <th>max</th>\n",
              "      <td>2.000000</td>\n",
              "      <td>7.000000</td>\n",
              "      <td>2.000000</td>\n",
              "      <td>2.000000</td>\n",
              "      <td>80.000000</td>\n",
              "      <td>82.900000</td>\n",
              "      <td>201.600000</td>\n",
              "      <td>220.000000</td>\n",
              "      <td>116.000000</td>\n",
              "      <td>11.970000</td>\n",
              "      <td>8496.000000</td>\n",
              "      <td>5.000000</td>\n",
              "      <td>1.000000</td>\n",
              "    </tr>\n",
              "  </tbody>\n",
              "</table>\n",
              "</div>\n",
              "    <div class=\"colab-df-buttons\">\n",
              "\n",
              "  <div class=\"colab-df-container\">\n",
              "    <button class=\"colab-df-convert\" onclick=\"convertToInteractive('df-8aa25c4a-b203-48f2-a9fc-915f4dd27022')\"\n",
              "            title=\"Convert this dataframe to an interactive table.\"\n",
              "            style=\"display:none;\">\n",
              "\n",
              "  <svg xmlns=\"http://www.w3.org/2000/svg\" height=\"24px\" viewBox=\"0 -960 960 960\">\n",
              "    <path d=\"M120-120v-720h720v720H120Zm60-500h600v-160H180v160Zm220 220h160v-160H400v160Zm0 220h160v-160H400v160ZM180-400h160v-160H180v160Zm440 0h160v-160H620v160ZM180-180h160v-160H180v160Zm440 0h160v-160H620v160Z\"/>\n",
              "  </svg>\n",
              "    </button>\n",
              "\n",
              "  <style>\n",
              "    .colab-df-container {\n",
              "      display:flex;\n",
              "      gap: 12px;\n",
              "    }\n",
              "\n",
              "    .colab-df-convert {\n",
              "      background-color: #E8F0FE;\n",
              "      border: none;\n",
              "      border-radius: 50%;\n",
              "      cursor: pointer;\n",
              "      display: none;\n",
              "      fill: #1967D2;\n",
              "      height: 32px;\n",
              "      padding: 0 0 0 0;\n",
              "      width: 32px;\n",
              "    }\n",
              "\n",
              "    .colab-df-convert:hover {\n",
              "      background-color: #E2EBFA;\n",
              "      box-shadow: 0px 1px 2px rgba(60, 64, 67, 0.3), 0px 1px 3px 1px rgba(60, 64, 67, 0.15);\n",
              "      fill: #174EA6;\n",
              "    }\n",
              "\n",
              "    .colab-df-buttons div {\n",
              "      margin-bottom: 4px;\n",
              "    }\n",
              "\n",
              "    [theme=dark] .colab-df-convert {\n",
              "      background-color: #3B4455;\n",
              "      fill: #D2E3FC;\n",
              "    }\n",
              "\n",
              "    [theme=dark] .colab-df-convert:hover {\n",
              "      background-color: #434B5C;\n",
              "      box-shadow: 0px 1px 3px 1px rgba(0, 0, 0, 0.15);\n",
              "      filter: drop-shadow(0px 1px 2px rgba(0, 0, 0, 0.3));\n",
              "      fill: #FFFFFF;\n",
              "    }\n",
              "  </style>\n",
              "\n",
              "    <script>\n",
              "      const buttonEl =\n",
              "        document.querySelector('#df-8aa25c4a-b203-48f2-a9fc-915f4dd27022 button.colab-df-convert');\n",
              "      buttonEl.style.display =\n",
              "        google.colab.kernel.accessAllowed ? 'block' : 'none';\n",
              "\n",
              "      async function convertToInteractive(key) {\n",
              "        const element = document.querySelector('#df-8aa25c4a-b203-48f2-a9fc-915f4dd27022');\n",
              "        const dataTable =\n",
              "          await google.colab.kernel.invokeFunction('convertToInteractive',\n",
              "                                                    [key], {});\n",
              "        if (!dataTable) return;\n",
              "\n",
              "        const docLinkHtml = 'Like what you see? Visit the ' +\n",
              "          '<a target=\"_blank\" href=https://colab.research.google.com/notebooks/data_table.ipynb>data table notebook</a>'\n",
              "          + ' to learn more about interactive tables.';\n",
              "        element.innerHTML = '';\n",
              "        dataTable['output_type'] = 'display_data';\n",
              "        await google.colab.output.renderOutput(dataTable, element);\n",
              "        const docLink = document.createElement('div');\n",
              "        docLink.innerHTML = docLinkHtml;\n",
              "        element.appendChild(docLink);\n",
              "      }\n",
              "    </script>\n",
              "  </div>\n",
              "\n",
              "\n",
              "    <div id=\"df-b824efc0-10b1-4351-86ff-e193683aa176\">\n",
              "      <button class=\"colab-df-quickchart\" onclick=\"quickchart('df-b824efc0-10b1-4351-86ff-e193683aa176')\"\n",
              "                title=\"Suggest charts\"\n",
              "                style=\"display:none;\">\n",
              "\n",
              "<svg xmlns=\"http://www.w3.org/2000/svg\" height=\"24px\"viewBox=\"0 0 24 24\"\n",
              "     width=\"24px\">\n",
              "    <g>\n",
              "        <path d=\"M19 3H5c-1.1 0-2 .9-2 2v14c0 1.1.9 2 2 2h14c1.1 0 2-.9 2-2V5c0-1.1-.9-2-2-2zM9 17H7v-7h2v7zm4 0h-2V7h2v10zm4 0h-2v-4h2v4z\"/>\n",
              "    </g>\n",
              "</svg>\n",
              "      </button>\n",
              "\n",
              "<style>\n",
              "  .colab-df-quickchart {\n",
              "      --bg-color: #E8F0FE;\n",
              "      --fill-color: #1967D2;\n",
              "      --hover-bg-color: #E2EBFA;\n",
              "      --hover-fill-color: #174EA6;\n",
              "      --disabled-fill-color: #AAA;\n",
              "      --disabled-bg-color: #DDD;\n",
              "  }\n",
              "\n",
              "  [theme=dark] .colab-df-quickchart {\n",
              "      --bg-color: #3B4455;\n",
              "      --fill-color: #D2E3FC;\n",
              "      --hover-bg-color: #434B5C;\n",
              "      --hover-fill-color: #FFFFFF;\n",
              "      --disabled-bg-color: #3B4455;\n",
              "      --disabled-fill-color: #666;\n",
              "  }\n",
              "\n",
              "  .colab-df-quickchart {\n",
              "    background-color: var(--bg-color);\n",
              "    border: none;\n",
              "    border-radius: 50%;\n",
              "    cursor: pointer;\n",
              "    display: none;\n",
              "    fill: var(--fill-color);\n",
              "    height: 32px;\n",
              "    padding: 0;\n",
              "    width: 32px;\n",
              "  }\n",
              "\n",
              "  .colab-df-quickchart:hover {\n",
              "    background-color: var(--hover-bg-color);\n",
              "    box-shadow: 0 1px 2px rgba(60, 64, 67, 0.3), 0 1px 3px 1px rgba(60, 64, 67, 0.15);\n",
              "    fill: var(--button-hover-fill-color);\n",
              "  }\n",
              "\n",
              "  .colab-df-quickchart-complete:disabled,\n",
              "  .colab-df-quickchart-complete:disabled:hover {\n",
              "    background-color: var(--disabled-bg-color);\n",
              "    fill: var(--disabled-fill-color);\n",
              "    box-shadow: none;\n",
              "  }\n",
              "\n",
              "  .colab-df-spinner {\n",
              "    border: 2px solid var(--fill-color);\n",
              "    border-color: transparent;\n",
              "    border-bottom-color: var(--fill-color);\n",
              "    animation:\n",
              "      spin 1s steps(1) infinite;\n",
              "  }\n",
              "\n",
              "  @keyframes spin {\n",
              "    0% {\n",
              "      border-color: transparent;\n",
              "      border-bottom-color: var(--fill-color);\n",
              "      border-left-color: var(--fill-color);\n",
              "    }\n",
              "    20% {\n",
              "      border-color: transparent;\n",
              "      border-left-color: var(--fill-color);\n",
              "      border-top-color: var(--fill-color);\n",
              "    }\n",
              "    30% {\n",
              "      border-color: transparent;\n",
              "      border-left-color: var(--fill-color);\n",
              "      border-top-color: var(--fill-color);\n",
              "      border-right-color: var(--fill-color);\n",
              "    }\n",
              "    40% {\n",
              "      border-color: transparent;\n",
              "      border-right-color: var(--fill-color);\n",
              "      border-top-color: var(--fill-color);\n",
              "    }\n",
              "    60% {\n",
              "      border-color: transparent;\n",
              "      border-right-color: var(--fill-color);\n",
              "    }\n",
              "    80% {\n",
              "      border-color: transparent;\n",
              "      border-right-color: var(--fill-color);\n",
              "      border-bottom-color: var(--fill-color);\n",
              "    }\n",
              "    90% {\n",
              "      border-color: transparent;\n",
              "      border-bottom-color: var(--fill-color);\n",
              "    }\n",
              "  }\n",
              "</style>\n",
              "\n",
              "      <script>\n",
              "        async function quickchart(key) {\n",
              "          const quickchartButtonEl =\n",
              "            document.querySelector('#' + key + ' button');\n",
              "          quickchartButtonEl.disabled = true;  // To prevent multiple clicks.\n",
              "          quickchartButtonEl.classList.add('colab-df-spinner');\n",
              "          try {\n",
              "            const charts = await google.colab.kernel.invokeFunction(\n",
              "                'suggestCharts', [key], {});\n",
              "          } catch (error) {\n",
              "            console.error('Error during call to suggestCharts:', error);\n",
              "          }\n",
              "          quickchartButtonEl.classList.remove('colab-df-spinner');\n",
              "          quickchartButtonEl.classList.add('colab-df-quickchart-complete');\n",
              "        }\n",
              "        (() => {\n",
              "          let quickchartButtonEl =\n",
              "            document.querySelector('#df-b824efc0-10b1-4351-86ff-e193683aa176 button');\n",
              "          quickchartButtonEl.style.display =\n",
              "            google.colab.kernel.accessAllowed ? 'block' : 'none';\n",
              "        })();\n",
              "      </script>\n",
              "    </div>\n",
              "\n",
              "    </div>\n",
              "  </div>\n"
            ],
            "application/vnd.google.colaboratory.intrinsic+json": {
              "type": "dataframe",
              "summary": "{\n  \"name\": \"data\",\n  \"rows\": 8,\n  \"fields\": [\n    {\n      \"column\": \"gender\",\n      \"properties\": {\n        \"dtype\": \"number\",\n        \"std\": 2827.9726854238465,\n        \"min\": 0.5000286121329514,\n        \"max\": 8000.0,\n        \"num_unique_values\": 5,\n        \"samples\": [\n          1.498375,\n          2.0,\n          0.5000286121329514\n        ],\n        \"semantic_type\": \"\",\n        \"description\": \"\"\n      }\n    },\n    {\n      \"column\": \"race_ethnicity\",\n      \"properties\": {\n        \"dtype\": \"number\",\n        \"std\": 2827.288636297873,\n        \"min\": 1.0,\n        \"max\": 8000.0,\n        \"num_unique_values\": 7,\n        \"samples\": [\n          8000.0,\n          3.222,\n          4.0\n        ],\n        \"semantic_type\": \"\",\n        \"description\": \"\"\n      }\n    },\n    {\n      \"column\": \"chest_pain_ever\",\n      \"properties\": {\n        \"dtype\": \"number\",\n        \"std\": 2827.91572242477,\n        \"min\": 0.47727372455543154,\n        \"max\": 8000.0,\n        \"num_unique_values\": 5,\n        \"samples\": [\n          1.649125,\n          2.0,\n          0.47727372455543154\n        ],\n        \"semantic_type\": \"\",\n        \"description\": \"\"\n      }\n    },\n    {\n      \"column\": \"drink_alcohol\",\n      \"properties\": {\n        \"dtype\": \"number\",\n        \"std\": 2827.984497306394,\n        \"min\": 0.46017097805176493,\n        \"max\": 8000.0,\n        \"num_unique_values\": 5,\n        \"samples\": [\n          1.304375,\n          2.0,\n          0.46017097805176493\n        ],\n        \"semantic_type\": \"\",\n        \"description\": \"\"\n      }\n    },\n    {\n      \"column\": \"age\",\n      \"properties\": {\n        \"dtype\": \"number\",\n        \"std\": 2809.169786901361,\n        \"min\": 12.225805976533609,\n        \"max\": 8000.0,\n        \"num_unique_values\": 8,\n        \"samples\": [\n          62.627875,\n          63.0,\n          8000.0\n        ],\n        \"semantic_type\": \"\",\n        \"description\": \"\"\n      }\n    },\n    {\n      \"column\": \"BMI\",\n      \"properties\": {\n        \"dtype\": \"number\",\n        \"std\": 2818.2871984865915,\n        \"min\": 7.6834655093013104,\n        \"max\": 8000.0,\n        \"num_unique_values\": 8,\n        \"samples\": [\n          25.3526875,\n          24.6,\n          8000.0\n        ],\n        \"semantic_type\": \"\",\n        \"description\": \"\"\n      }\n    },\n    {\n      \"column\": \"weight_kg\",\n      \"properties\": {\n        \"dtype\": \"number\",\n        \"std\": 2804.8583780060617,\n        \"min\": 3.3,\n        \"max\": 8000.0,\n        \"num_unique_values\": 8,\n        \"samples\": [\n          61.1128875,\n          63.7,\n          8000.0\n        ],\n        \"semantic_type\": \"\",\n        \"description\": \"\"\n      }\n    },\n    {\n      \"column\": \"blood_pressure_sys\",\n      \"properties\": {\n        \"dtype\": \"number\",\n        \"std\": 2789.5882390136485,\n        \"min\": 15.050114716976,\n        \"max\": 8000.0,\n        \"num_unique_values\": 8,\n        \"samples\": [\n          117.1355,\n          116.0,\n          8000.0\n        ],\n        \"semantic_type\": \"\",\n        \"description\": \"\"\n      }\n    },\n    {\n      \"column\": \"diastolic_bp\",\n      \"properties\": {\n        \"dtype\": \"number\",\n        \"std\": 2808.8959488105297,\n        \"min\": 0.0,\n        \"max\": 8000.0,\n        \"num_unique_values\": 8,\n        \"samples\": [\n          65.705,\n          66.0,\n          8000.0\n        ],\n        \"semantic_type\": \"\",\n        \"description\": \"\"\n      }\n    },\n    {\n      \"column\": \"blood_cholesterol\",\n      \"properties\": {\n        \"dtype\": \"number\",\n        \"std\": 2826.7601051573447,\n        \"min\": 0.9084032890202964,\n        \"max\": 8000.0,\n        \"num_unique_values\": 8,\n        \"samples\": [\n          4.584376249999999,\n          4.5,\n          8000.0\n        ],\n        \"semantic_type\": \"\",\n        \"description\": \"\"\n      }\n    },\n    {\n      \"column\": \"calories\",\n      \"properties\": {\n        \"dtype\": \"number\",\n        \"std\": 3250.5003096128016,\n        \"min\": 171.0,\n        \"max\": 8496.0,\n        \"num_unique_values\": 8,\n        \"samples\": [\n          1866.986875,\n          1735.0,\n          8000.0\n        ],\n        \"semantic_type\": \"\",\n        \"description\": \"\"\n      }\n    },\n    {\n      \"column\": \"family_income\",\n      \"properties\": {\n        \"dtype\": \"number\",\n        \"std\": 2827.6184756108432,\n        \"min\": 0.0,\n        \"max\": 8000.0,\n        \"num_unique_values\": 8,\n        \"samples\": [\n          2.4560174999999997,\n          2.05,\n          8000.0\n        ],\n        \"semantic_type\": \"\",\n        \"description\": \"\"\n      }\n    },\n    {\n      \"column\": \"target_heart\",\n      \"properties\": {\n        \"dtype\": \"number\",\n        \"std\": 2828.250371727774,\n        \"min\": 0.0,\n        \"max\": 8000.0,\n        \"num_unique_values\": 5,\n        \"samples\": [\n          0.5,\n          1.0,\n          0.5000312529299927\n        ],\n        \"semantic_type\": \"\",\n        \"description\": \"\"\n      }\n    }\n  ]\n}"
            }
          },
          "metadata": {},
          "execution_count": 67
        }
      ],
      "source": [
        "data.describe()"
      ]
    },
    {
      "cell_type": "markdown",
      "id": "402580ad",
      "metadata": {
        "id": "402580ad"
      },
      "source": [
        "We can also visualize the spread of numerical features using *box plots*. A box plot visually summarizes much of the information that is produced by a call to data.describe(). The orange line in the middle of each box represents the median (or 50th percentile) of the data.  Each box spans a range from the 25th to 75th percentile of the attribute in question. Outliers are plotted as points outside of the box.\n",
        "\n",
        "If, after you review some box plots, you are not comfortable with how box plots work, [Khan Academy has a good series of videos that explain how to read and interpret them.](https://www.khanacademy.org/math/statistics-probability/summarizing-quantitative-data/box-whisker-plots/v/reading-box-and-whisker-plots)"
      ]
    },
    {
      "cell_type": "code",
      "execution_count": 68,
      "id": "df977614",
      "metadata": {
        "colab": {
          "base_uri": "https://localhost:8080/",
          "height": 595
        },
        "id": "df977614",
        "outputId": "7df3e63c-2ea9-4b30-8143-38d66199b2a7"
      },
      "outputs": [
        {
          "output_type": "execute_result",
          "data": {
            "text/plain": [
              "{'whiskers': [<matplotlib.lines.Line2D at 0x7874f315a030>,\n",
              "  <matplotlib.lines.Line2D at 0x7874f315a360>],\n",
              " 'caps': [<matplotlib.lines.Line2D at 0x7874f315a660>,\n",
              "  <matplotlib.lines.Line2D at 0x7874f315a900>],\n",
              " 'boxes': [<matplotlib.lines.Line2D at 0x787513fbe330>],\n",
              " 'medians': [<matplotlib.lines.Line2D at 0x7874f315aae0>],\n",
              " 'fliers': [<matplotlib.lines.Line2D at 0x7874f315ade0>],\n",
              " 'means': []}"
            ]
          },
          "metadata": {},
          "execution_count": 68
        },
        {
          "output_type": "display_data",
          "data": {
            "text/plain": [
              "<Figure size 640x480 with 1 Axes>"
            ],
            "image/png": "[encoded data removed]"
          },
          "metadata": {}
        }
      ],
      "source": [
        "plt.title(\"Box Plot Showing the Distribution of 'weight_kg'\")\n",
        "plt.boxplot(data[\"weight_kg\"])"
      ]
    },
    {
      "cell_type": "code",
      "execution_count": 69,
      "id": "3c671fa3",
      "metadata": {
        "colab": {
          "base_uri": "https://localhost:8080/",
          "height": 595
        },
        "id": "3c671fa3",
        "outputId": "cd4439f1-a744-47a3-d325-1e4a5ae3dafa"
      },
      "outputs": [
        {
          "output_type": "execute_result",
          "data": {
            "text/plain": [
              "{'whiskers': [<matplotlib.lines.Line2D at 0x7874f31e0500>,\n",
              "  <matplotlib.lines.Line2D at 0x7874f31e0830>],\n",
              " 'caps': [<matplotlib.lines.Line2D at 0x7874f31e0b00>,\n",
              "  <matplotlib.lines.Line2D at 0x7874f31e0e00>],\n",
              " 'boxes': [<matplotlib.lines.Line2D at 0x7874f3cf8da0>],\n",
              " 'medians': [<matplotlib.lines.Line2D at 0x7874f31e10d0>],\n",
              " 'fliers': [<matplotlib.lines.Line2D at 0x7874f31e1400>],\n",
              " 'means': []}"
            ]
          },
          "metadata": {},
          "execution_count": 69
        },
        {
          "output_type": "display_data",
          "data": {
            "text/plain": [
              "<Figure size 640x480 with 1 Axes>"
            ],
            "image/png": "[encoded data removed]"
          },
          "metadata": {}
        }
      ],
      "source": [
        "plt.title(\"Box Plot Showing the Distribution of 'age'\")\n",
        "plt.boxplot(data[\"age\"])"
      ]
    },
    {
      "cell_type": "markdown",
      "id": "3cc54901",
      "metadata": {
        "id": "3cc54901"
      },
      "source": [
        "In the first box plot, we see that half of the people in the data set are under 64 kg,\n",
        "just as shown in the table generated by `data.describe()`. We see also that there are some outliers who weigh more than the general population of people in our data set.\n",
        "\n",
        "\n",
        "**Task:** Plot box plots for the remaining numerical features."
      ]
    },
    {
      "cell_type": "code",
      "execution_count": 70,
      "id": "79f3292c",
      "metadata": {
        "colab": {
          "base_uri": "https://localhost:8080/",
          "height": 595
        },
        "id": "79f3292c",
        "outputId": "a52fd3da-a422-4e22-ad8d-9627ed510e76"
      },
      "outputs": [
        {
          "output_type": "execute_result",
          "data": {
            "text/plain": [
              "{'whiskers': [<matplotlib.lines.Line2D at 0x7874f1830f50>,\n",
              "  <matplotlib.lines.Line2D at 0x7874f1832540>],\n",
              " 'caps': [<matplotlib.lines.Line2D at 0x7874f1832810>,\n",
              "  <matplotlib.lines.Line2D at 0x7874f1832b10>],\n",
              " 'boxes': [<matplotlib.lines.Line2D at 0x7874f1832180>],\n",
              " 'medians': [<matplotlib.lines.Line2D at 0x7874f1832e10>],\n",
              " 'fliers': [<matplotlib.lines.Line2D at 0x7874f18330e0>],\n",
              " 'means': []}"
            ]
          },
          "metadata": {},
          "execution_count": 70
        },
        {
          "output_type": "display_data",
          "data": {
            "text/plain": [
              "<Figure size 640x480 with 1 Axes>"
            ],
            "image/png": "[encoded data removed]"
          },
          "metadata": {}
        }
      ],
      "source": [
        "# TODO\n",
        "plt.title(\"Blood Cholesterol Distribution\")\n",
        "plt.boxplot(data['blood_cholesterol'])"
      ]
    },
    {
      "cell_type": "code",
      "source": [
        "plt.title(\"BMI Distribution\")\n",
        "plt.boxplot(data['BMI'])"
      ],
      "metadata": {
        "id": "h4wfd70kGjhn",
        "outputId": "5c902e5b-7473-4439-e5bb-e7d39a34f6fa",
        "colab": {
          "base_uri": "https://localhost:8080/",
          "height": 595
        }
      },
      "id": "h4wfd70kGjhn",
      "execution_count": 71,
      "outputs": [
        {
          "output_type": "execute_result",
          "data": {
            "text/plain": [
              "{'whiskers': [<matplotlib.lines.Line2D at 0x7874f1899100>,\n",
              "  <matplotlib.lines.Line2D at 0x7874f1899430>],\n",
              " 'caps': [<matplotlib.lines.Line2D at 0x7874f1899760>,\n",
              "  <matplotlib.lines.Line2D at 0x7874f1877cb0>],\n",
              " 'boxes': [<matplotlib.lines.Line2D at 0x7874f1898e60>],\n",
              " 'medians': [<matplotlib.lines.Line2D at 0x7874f1899c70>],\n",
              " 'fliers': [<matplotlib.lines.Line2D at 0x7874f1899f10>],\n",
              " 'means': []}"
            ]
          },
          "metadata": {},
          "execution_count": 71
        },
        {
          "output_type": "display_data",
          "data": {
            "text/plain": [
              "<Figure size 640x480 with 1 Axes>"
            ],
            "image/png": "[encoded data removed]"
          },
          "metadata": {}
        }
      ]
    },
    {
      "cell_type": "code",
      "source": [
        "plt.title(\"Family Income Distribution\")\n",
        "plt.boxplot(data['family_income'])"
      ],
      "metadata": {
        "id": "T0GgebkfQqAK",
        "outputId": "cc4cc7f2-a543-4a13-ca58-ef4a8c4d0ca6",
        "colab": {
          "base_uri": "https://localhost:8080/",
          "height": 595
        }
      },
      "id": "T0GgebkfQqAK",
      "execution_count": 72,
      "outputs": [
        {
          "output_type": "execute_result",
          "data": {
            "text/plain": [
              "{'whiskers': [<matplotlib.lines.Line2D at 0x7874f16fdac0>,\n",
              "  <matplotlib.lines.Line2D at 0x7874f16fdc70>],\n",
              " 'caps': [<matplotlib.lines.Line2D at 0x7874f16fdf40>,\n",
              "  <matplotlib.lines.Line2D at 0x7874f16fe270>],\n",
              " 'boxes': [<matplotlib.lines.Line2D at 0x7874f16fd760>],\n",
              " 'medians': [<matplotlib.lines.Line2D at 0x7874f16fe570>],\n",
              " 'fliers': [<matplotlib.lines.Line2D at 0x7874f16fe840>],\n",
              " 'means': []}"
            ]
          },
          "metadata": {},
          "execution_count": 72
        },
        {
          "output_type": "display_data",
          "data": {
            "text/plain": [
              "<Figure size 640x480 with 1 Axes>"
            ],
            "image/png": "[encoded data removed]"
          },
          "metadata": {}
        }
      ]
    },
    {
      "cell_type": "code",
      "source": [
        "plt.title(\"Calorie Distribution\")\n",
        "plt.boxplot(data['calories'])"
      ],
      "metadata": {
        "id": "g_LM6CB2QlFW",
        "outputId": "eeb0927f-a5ff-4eb2-d7f3-bbdc004213a4",
        "colab": {
          "base_uri": "https://localhost:8080/",
          "height": 595
        }
      },
      "id": "g_LM6CB2QlFW",
      "execution_count": 73,
      "outputs": [
        {
          "output_type": "execute_result",
          "data": {
            "text/plain": [
              "{'whiskers': [<matplotlib.lines.Line2D at 0x7874f1764770>,\n",
              "  <matplotlib.lines.Line2D at 0x7874f1764a10>],\n",
              " 'caps': [<matplotlib.lines.Line2D at 0x7874f1764d40>,\n",
              "  <matplotlib.lines.Line2D at 0x7874f1765070>],\n",
              " 'boxes': [<matplotlib.lines.Line2D at 0x7874f17644a0>],\n",
              " 'medians': [<matplotlib.lines.Line2D at 0x7874f17651f0>],\n",
              " 'fliers': [<matplotlib.lines.Line2D at 0x7874f17654f0>],\n",
              " 'means': []}"
            ]
          },
          "metadata": {},
          "execution_count": 73
        },
        {
          "output_type": "display_data",
          "data": {
            "text/plain": [
              "<Figure size 640x480 with 1 Axes>"
            ],
            "image/png": "[encoded data removed]"
          },
          "metadata": {}
        }
      ]
    },
    {
      "cell_type": "code",
      "source": [
        "plt.title(\"Systolic Blood Pressure Distribution\")\n",
        "plt.boxplot(data['blood_pressure_sys'])"
      ],
      "metadata": {
        "id": "5UGtZI3UQN7S",
        "outputId": "9552828f-df8a-4f7c-9990-4c3f23069f18",
        "colab": {
          "base_uri": "https://localhost:8080/",
          "height": 595
        }
      },
      "id": "5UGtZI3UQN7S",
      "execution_count": 74,
      "outputs": [
        {
          "output_type": "execute_result",
          "data": {
            "text/plain": [
              "{'whiskers': [<matplotlib.lines.Line2D at 0x7874f179e870>,\n",
              "  <matplotlib.lines.Line2D at 0x7874f179eb10>],\n",
              " 'caps': [<matplotlib.lines.Line2D at 0x7874f179edb0>,\n",
              "  <matplotlib.lines.Line2D at 0x7874f179f0e0>],\n",
              " 'boxes': [<matplotlib.lines.Line2D at 0x7874f31a8da0>],\n",
              " 'medians': [<matplotlib.lines.Line2D at 0x7874f179f380>],\n",
              " 'fliers': [<matplotlib.lines.Line2D at 0x7874f179f680>],\n",
              " 'means': []}"
            ]
          },
          "metadata": {},
          "execution_count": 74
        },
        {
          "output_type": "display_data",
          "data": {
            "text/plain": [
              "<Figure size 640x480 with 1 Axes>"
            ],
            "image/png": "[encoded data removed]"
          },
          "metadata": {}
        }
      ]
    },
    {
      "cell_type": "markdown",
      "id": "cb69fe11",
      "metadata": {
        "id": "cb69fe11"
      },
      "source": [
        "For the categorical features, we can also tabulate the frequency that each category\n",
        "occurs in the data set:"
      ]
    },
    {
      "cell_type": "code",
      "execution_count": 75,
      "id": "e7264e44",
      "metadata": {
        "colab": {
          "base_uri": "https://localhost:8080/",
          "height": 178
        },
        "id": "e7264e44",
        "outputId": "3b3990bc-38a4-4512-cb73-0238cef945ce"
      },
      "outputs": [
        {
          "output_type": "execute_result",
          "data": {
            "text/plain": [
              "gender\n",
              "1    4013\n",
              "2    3987\n",
              "Name: count, dtype: int64"
            ],
            "text/html": [
              "<div>\n",
              "<style scoped>\n",
              "    .dataframe tbody tr th:only-of-type {\n",
              "        vertical-align: middle;\n",
              "    }\n",
              "\n",
              "    .dataframe tbody tr th {\n",
              "        vertical-align: top;\n",
              "    }\n",
              "\n",
              "    .dataframe thead th {\n",
              "        text-align: right;\n",
              "    }\n",
              "</style>\n",
              "<table border=\"1\" class=\"dataframe\">\n",
              "  <thead>\n",
              "    <tr style=\"text-align: right;\">\n",
              "      <th></th>\n",
              "      <th>count</th>\n",
              "    </tr>\n",
              "    <tr>\n",
              "      <th>gender</th>\n",
              "      <th></th>\n",
              "    </tr>\n",
              "  </thead>\n",
              "  <tbody>\n",
              "    <tr>\n",
              "      <th>1</th>\n",
              "      <td>4013</td>\n",
              "    </tr>\n",
              "    <tr>\n",
              "      <th>2</th>\n",
              "      <td>3987</td>\n",
              "    </tr>\n",
              "  </tbody>\n",
              "</table>\n",
              "</div><br><label><b>dtype:</b> int64</label>"
            ]
          },
          "metadata": {},
          "execution_count": 75
        }
      ],
      "source": [
        "data['gender'].value_counts()"
      ]
    },
    {
      "cell_type": "code",
      "execution_count": 76,
      "id": "4699978b",
      "metadata": {
        "colab": {
          "base_uri": "https://localhost:8080/",
          "height": 178
        },
        "id": "4699978b",
        "outputId": "6c6d3655-67c3-4240-f034-55407da9cd91"
      },
      "outputs": [
        {
          "output_type": "execute_result",
          "data": {
            "text/plain": [
              "drink_alcohol\n",
              "1.0    5565\n",
              "2.0    2435\n",
              "Name: count, dtype: int64"
            ],
            "text/html": [
              "<div>\n",
              "<style scoped>\n",
              "    .dataframe tbody tr th:only-of-type {\n",
              "        vertical-align: middle;\n",
              "    }\n",
              "\n",
              "    .dataframe tbody tr th {\n",
              "        vertical-align: top;\n",
              "    }\n",
              "\n",
              "    .dataframe thead th {\n",
              "        text-align: right;\n",
              "    }\n",
              "</style>\n",
              "<table border=\"1\" class=\"dataframe\">\n",
              "  <thead>\n",
              "    <tr style=\"text-align: right;\">\n",
              "      <th></th>\n",
              "      <th>count</th>\n",
              "    </tr>\n",
              "    <tr>\n",
              "      <th>drink_alcohol</th>\n",
              "      <th></th>\n",
              "    </tr>\n",
              "  </thead>\n",
              "  <tbody>\n",
              "    <tr>\n",
              "      <th>1.0</th>\n",
              "      <td>5565</td>\n",
              "    </tr>\n",
              "    <tr>\n",
              "      <th>2.0</th>\n",
              "      <td>2435</td>\n",
              "    </tr>\n",
              "  </tbody>\n",
              "</table>\n",
              "</div><br><label><b>dtype:</b> int64</label>"
            ]
          },
          "metadata": {},
          "execution_count": 76
        }
      ],
      "source": [
        "data['drink_alcohol'].value_counts()"
      ]
    },
    {
      "cell_type": "code",
      "execution_count": 77,
      "id": "fd61544f",
      "metadata": {
        "colab": {
          "base_uri": "https://localhost:8080/",
          "height": 178
        },
        "id": "fd61544f",
        "outputId": "fa359d7c-c7ee-44b0-ccf6-179277729eb3"
      },
      "outputs": [
        {
          "output_type": "execute_result",
          "data": {
            "text/plain": [
              "chest_pain_ever\n",
              "2.0    5193\n",
              "1.0    2807\n",
              "Name: count, dtype: int64"
            ],
            "text/html": [
              "<div>\n",
              "<style scoped>\n",
              "    .dataframe tbody tr th:only-of-type {\n",
              "        vertical-align: middle;\n",
              "    }\n",
              "\n",
              "    .dataframe tbody tr th {\n",
              "        vertical-align: top;\n",
              "    }\n",
              "\n",
              "    .dataframe thead th {\n",
              "        text-align: right;\n",
              "    }\n",
              "</style>\n",
              "<table border=\"1\" class=\"dataframe\">\n",
              "  <thead>\n",
              "    <tr style=\"text-align: right;\">\n",
              "      <th></th>\n",
              "      <th>count</th>\n",
              "    </tr>\n",
              "    <tr>\n",
              "      <th>chest_pain_ever</th>\n",
              "      <th></th>\n",
              "    </tr>\n",
              "  </thead>\n",
              "  <tbody>\n",
              "    <tr>\n",
              "      <th>2.0</th>\n",
              "      <td>5193</td>\n",
              "    </tr>\n",
              "    <tr>\n",
              "      <th>1.0</th>\n",
              "      <td>2807</td>\n",
              "    </tr>\n",
              "  </tbody>\n",
              "</table>\n",
              "</div><br><label><b>dtype:</b> int64</label>"
            ]
          },
          "metadata": {},
          "execution_count": 77
        }
      ],
      "source": [
        "data['chest_pain_ever'].value_counts()"
      ]
    },
    {
      "cell_type": "markdown",
      "id": "2bfdc8f7",
      "metadata": {
        "id": "2bfdc8f7"
      },
      "source": [
        "We see there are roughly equal numbers of men and women in the dataset and the majority report they drink alcohol.  About 1 in 4 report that they have experienced chest pain at some point in their lives.\n",
        "\n",
        "Finally, let's take a look at the distribution of our target variable."
      ]
    },
    {
      "cell_type": "code",
      "execution_count": 78,
      "id": "a87db5d3",
      "metadata": {
        "colab": {
          "base_uri": "https://localhost:8080/",
          "height": 178
        },
        "id": "a87db5d3",
        "outputId": "97dba2ba-502f-45e9-dbd9-9ae88c4a43ff"
      },
      "outputs": [
        {
          "output_type": "execute_result",
          "data": {
            "text/plain": [
              "target_heart\n",
              "0.0    4000\n",
              "1.0    4000\n",
              "Name: count, dtype: int64"
            ],
            "text/html": [
              "<div>\n",
              "<style scoped>\n",
              "    .dataframe tbody tr th:only-of-type {\n",
              "        vertical-align: middle;\n",
              "    }\n",
              "\n",
              "    .dataframe tbody tr th {\n",
              "        vertical-align: top;\n",
              "    }\n",
              "\n",
              "    .dataframe thead th {\n",
              "        text-align: right;\n",
              "    }\n",
              "</style>\n",
              "<table border=\"1\" class=\"dataframe\">\n",
              "  <thead>\n",
              "    <tr style=\"text-align: right;\">\n",
              "      <th></th>\n",
              "      <th>count</th>\n",
              "    </tr>\n",
              "    <tr>\n",
              "      <th>target_heart</th>\n",
              "      <th></th>\n",
              "    </tr>\n",
              "  </thead>\n",
              "  <tbody>\n",
              "    <tr>\n",
              "      <th>0.0</th>\n",
              "      <td>4000</td>\n",
              "    </tr>\n",
              "    <tr>\n",
              "      <th>1.0</th>\n",
              "      <td>4000</td>\n",
              "    </tr>\n",
              "  </tbody>\n",
              "</table>\n",
              "</div><br><label><b>dtype:</b> int64</label>"
            ]
          },
          "metadata": {},
          "execution_count": 78
        }
      ],
      "source": [
        "data['target_heart'].value_counts()"
      ]
    },
    {
      "cell_type": "markdown",
      "id": "ad1efefc",
      "metadata": {
        "id": "ad1efefc"
      },
      "source": [
        "Note there are an equal number of cases that are labelled as having heart disease as not having heart disease.  This is both curious and convenient but it is absolutely **NOT** representative of the distribution of heart disease in the general population.  In the general population of Canada, about 1 in 12 (or 8%) have heart disease.  This is roughly the same as the distribution of reported heart disease across all NHANES survey respondents.  So why doesn't the data we are analyzing here reflect this distribution?  This is because we have sampled the NHANES survey data so as to **balance** the cases of heart disease against the cases without.\n",
        "\n",
        "**Task**: Why did we create a dataset with a roughly equal number of data points that have `target_heart=1` and `target_heart=0`? In particular, what do you think might happen to our decision tree if we allowed 92% our training data to reflect the true prevalence of heart disease?"
      ]
    },
    {
      "cell_type": "code",
      "execution_count": 79,
      "id": "7d7af0b3",
      "metadata": {
        "id": "7d7af0b3"
      },
      "outputs": [],
      "source": [
        "# TODO\n",
        "# Predictions may be skewed towards people having heart disease due to the dataset.\n",
        "# The decision tree could have a high accuracy, but could be incorectly predicting people with heart\n",
        "# disease."
      ]
    },
    {
      "cell_type": "markdown",
      "id": "000a001c",
      "metadata": {
        "id": "000a001c"
      },
      "source": [
        "**Task**: Let's continue exploring our data by plotting separate box plots for people with heart disease and people without heart disease. These box plots (for `blood_cholesterol`, `age`, `calories` and `BMI`) should give you a sense of whether people with heart disease are\n",
        "different from those without heart disease, according to each of these characteristics. You should see that those with heart disease are, on average, older."
      ]
    },
    {
      "cell_type": "code",
      "execution_count": 80,
      "id": "cbff4c02",
      "metadata": {
        "colab": {
          "base_uri": "https://localhost:8080/",
          "height": 1000
        },
        "id": "cbff4c02",
        "outputId": "b096f067-5540-4f30-de41-ea6c744887eb"
      },
      "outputs": [
        {
          "output_type": "execute_result",
          "data": {
            "text/plain": [
              "<Axes: title={'center': 'BMI'}, xlabel='target_heart'>"
            ]
          },
          "metadata": {},
          "execution_count": 80
        },
        {
          "output_type": "display_data",
          "data": {
            "text/plain": [
              "<Figure size 640x480 with 1 Axes>"
            ],
            "image/png": "[encoded data removed]"
          },
          "metadata": {}
        },
        {
          "output_type": "display_data",
          "data": {
            "text/plain": [
              "<Figure size 640x480 with 1 Axes>"
            ],
            "image/png": "[encoded data removed]"
          },
          "metadata": {}
        },
        {
          "output_type": "display_data",
          "data": {
            "text/plain": [
              "<Figure size 640x480 with 1 Axes>"
            ],
            "image/png": "[encoded data removed]"
          },
          "metadata": {}
        },
        {
          "output_type": "display_data",
          "data": {
            "text/plain": [
              "<Figure size 640x480 with 1 Axes>"
            ],
            "image/png": "[encoded data removed]"
          },
          "metadata": {}
        }
      ],
      "source": [
        "# analyze the distribution of blood_cholesterol for people with and without heart disease\n",
        "data.boxplot(column='blood_cholesterol', by='target_heart')\n",
        "\n",
        "# TODO do the same for 'age', 'calories', and 'BMI'\n",
        "data.boxplot(column = 'age', by='target_heart')\n",
        "data.boxplot(column = 'calories', by='target_heart')\n",
        "data.boxplot(column = 'BMI', by='target_heart')"
      ]
    },
    {
      "cell_type": "markdown",
      "id": "c090f449",
      "metadata": {
        "id": "c090f449"
      },
      "source": [
        "**Task**: We will do the same type of exploration for the categorical\n",
        "variables. Read the documentation for\n",
        "[pandas.crosstab](https://pandas.pydata.org/docs/reference/api/pandas.crosstab.html)\n",
        "so that you can explain the results of the following calls:"
      ]
    },
    {
      "cell_type": "code",
      "execution_count": 81,
      "id": "78575db6",
      "metadata": {
        "colab": {
          "base_uri": "https://localhost:8080/",
          "height": 143
        },
        "id": "78575db6",
        "outputId": "05dcef13-463a-4d70-879e-82afa3c6b418"
      },
      "outputs": [
        {
          "output_type": "execute_result",
          "data": {
            "text/plain": [
              "gender           1     2\n",
              "target_heart            \n",
              "0.0           1819  2181\n",
              "1.0           2194  1806"
            ],
            "text/html": [
              "\n",
              "  <div id=\"df-b17165af-78df-4808-b68d-7538e08c4164\" class=\"colab-df-container\">\n",
              "    <div>\n",
              "<style scoped>\n",
              "    .dataframe tbody tr th:only-of-type {\n",
              "        vertical-align: middle;\n",
              "    }\n",
              "\n",
              "    .dataframe tbody tr th {\n",
              "        vertical-align: top;\n",
              "    }\n",
              "\n",
              "    .dataframe thead th {\n",
              "        text-align: right;\n",
              "    }\n",
              "</style>\n",
              "<table border=\"1\" class=\"dataframe\">\n",
              "  <thead>\n",
              "    <tr style=\"text-align: right;\">\n",
              "      <th>gender</th>\n",
              "      <th>1</th>\n",
              "      <th>2</th>\n",
              "    </tr>\n",
              "    <tr>\n",
              "      <th>target_heart</th>\n",
              "      <th></th>\n",
              "      <th></th>\n",
              "    </tr>\n",
              "  </thead>\n",
              "  <tbody>\n",
              "    <tr>\n",
              "      <th>0.0</th>\n",
              "      <td>1819</td>\n",
              "      <td>2181</td>\n",
              "    </tr>\n",
              "    <tr>\n",
              "      <th>1.0</th>\n",
              "      <td>2194</td>\n",
              "      <td>1806</td>\n",
              "    </tr>\n",
              "  </tbody>\n",
              "</table>\n",
              "</div>\n",
              "    <div class=\"colab-df-buttons\">\n",
              "\n",
              "  <div class=\"colab-df-container\">\n",
              "    <button class=\"colab-df-convert\" onclick=\"convertToInteractive('df-b17165af-78df-4808-b68d-7538e08c4164')\"\n",
              "            title=\"Convert this dataframe to an interactive table.\"\n",
              "            style=\"display:none;\">\n",
              "\n",
              "  <svg xmlns=\"http://www.w3.org/2000/svg\" height=\"24px\" viewBox=\"0 -960 960 960\">\n",
              "    <path d=\"M120-120v-720h720v720H120Zm60-500h600v-160H180v160Zm220 220h160v-160H400v160Zm0 220h160v-160H400v160ZM180-400h160v-160H180v160Zm440 0h160v-160H620v160ZM180-180h160v-160H180v160Zm440 0h160v-160H620v160Z\"/>\n",
              "  </svg>\n",
              "    </button>\n",
              "\n",
              "  <style>\n",
              "    .colab-df-container {\n",
              "      display:flex;\n",
              "      gap: 12px;\n",
              "    }\n",
              "\n",
              "    .colab-df-convert {\n",
              "      background-color: #E8F0FE;\n",
              "      border: none;\n",
              "      border-radius: 50%;\n",
              "      cursor: pointer;\n",
              "      display: none;\n",
              "      fill: #1967D2;\n",
              "      height: 32px;\n",
              "      padding: 0 0 0 0;\n",
              "      width: 32px;\n",
              "    }\n",
              "\n",
              "    .colab-df-convert:hover {\n",
              "      background-color: #E2EBFA;\n",
              "      box-shadow: 0px 1px 2px rgba(60, 64, 67, 0.3), 0px 1px 3px 1px rgba(60, 64, 67, 0.15);\n",
              "      fill: #174EA6;\n",
              "    }\n",
              "\n",
              "    .colab-df-buttons div {\n",
              "      margin-bottom: 4px;\n",
              "    }\n",
              "\n",
              "    [theme=dark] .colab-df-convert {\n",
              "      background-color: #3B4455;\n",
              "      fill: #D2E3FC;\n",
              "    }\n",
              "\n",
              "    [theme=dark] .colab-df-convert:hover {\n",
              "      background-color: #434B5C;\n",
              "      box-shadow: 0px 1px 3px 1px rgba(0, 0, 0, 0.15);\n",
              "      filter: drop-shadow(0px 1px 2px rgba(0, 0, 0, 0.3));\n",
              "      fill: #FFFFFF;\n",
              "    }\n",
              "  </style>\n",
              "\n",
              "    <script>\n",
              "      const buttonEl =\n",
              "        document.querySelector('#df-b17165af-78df-4808-b68d-7538e08c4164 button.colab-df-convert');\n",
              "      buttonEl.style.display =\n",
              "        google.colab.kernel.accessAllowed ? 'block' : 'none';\n",
              "\n",
              "      async function convertToInteractive(key) {\n",
              "        const element = document.querySelector('#df-b17165af-78df-4808-b68d-7538e08c4164');\n",
              "        const dataTable =\n",
              "          await google.colab.kernel.invokeFunction('convertToInteractive',\n",
              "                                                    [key], {});\n",
              "        if (!dataTable) return;\n",
              "\n",
              "        const docLinkHtml = 'Like what you see? Visit the ' +\n",
              "          '<a target=\"_blank\" href=https://colab.research.google.com/notebooks/data_table.ipynb>data table notebook</a>'\n",
              "          + ' to learn more about interactive tables.';\n",
              "        element.innerHTML = '';\n",
              "        dataTable['output_type'] = 'display_data';\n",
              "        await google.colab.output.renderOutput(dataTable, element);\n",
              "        const docLink = document.createElement('div');\n",
              "        docLink.innerHTML = docLinkHtml;\n",
              "        element.appendChild(docLink);\n",
              "      }\n",
              "    </script>\n",
              "  </div>\n",
              "\n",
              "\n",
              "    <div id=\"df-ed4d7d45-f647-4ce8-91a4-10a68045b298\">\n",
              "      <button class=\"colab-df-quickchart\" onclick=\"quickchart('df-ed4d7d45-f647-4ce8-91a4-10a68045b298')\"\n",
              "                title=\"Suggest charts\"\n",
              "                style=\"display:none;\">\n",
              "\n",
              "<svg xmlns=\"http://www.w3.org/2000/svg\" height=\"24px\"viewBox=\"0 0 24 24\"\n",
              "     width=\"24px\">\n",
              "    <g>\n",
              "        <path d=\"M19 3H5c-1.1 0-2 .9-2 2v14c0 1.1.9 2 2 2h14c1.1 0 2-.9 2-2V5c0-1.1-.9-2-2-2zM9 17H7v-7h2v7zm4 0h-2V7h2v10zm4 0h-2v-4h2v4z\"/>\n",
              "    </g>\n",
              "</svg>\n",
              "      </button>\n",
              "\n",
              "<style>\n",
              "  .colab-df-quickchart {\n",
              "      --bg-color: #E8F0FE;\n",
              "      --fill-color: #1967D2;\n",
              "      --hover-bg-color: #E2EBFA;\n",
              "      --hover-fill-color: #174EA6;\n",
              "      --disabled-fill-color: #AAA;\n",
              "      --disabled-bg-color: #DDD;\n",
              "  }\n",
              "\n",
              "  [theme=dark] .colab-df-quickchart {\n",
              "      --bg-color: #3B4455;\n",
              "      --fill-color: #D2E3FC;\n",
              "      --hover-bg-color: #434B5C;\n",
              "      --hover-fill-color: #FFFFFF;\n",
              "      --disabled-bg-color: #3B4455;\n",
              "      --disabled-fill-color: #666;\n",
              "  }\n",
              "\n",
              "  .colab-df-quickchart {\n",
              "    background-color: var(--bg-color);\n",
              "    border: none;\n",
              "    border-radius: 50%;\n",
              "    cursor: pointer;\n",
              "    display: none;\n",
              "    fill: var(--fill-color);\n",
              "    height: 32px;\n",
              "    padding: 0;\n",
              "    width: 32px;\n",
              "  }\n",
              "\n",
              "  .colab-df-quickchart:hover {\n",
              "    background-color: var(--hover-bg-color);\n",
              "    box-shadow: 0 1px 2px rgba(60, 64, 67, 0.3), 0 1px 3px 1px rgba(60, 64, 67, 0.15);\n",
              "    fill: var(--button-hover-fill-color);\n",
              "  }\n",
              "\n",
              "  .colab-df-quickchart-complete:disabled,\n",
              "  .colab-df-quickchart-complete:disabled:hover {\n",
              "    background-color: var(--disabled-bg-color);\n",
              "    fill: var(--disabled-fill-color);\n",
              "    box-shadow: none;\n",
              "  }\n",
              "\n",
              "  .colab-df-spinner {\n",
              "    border: 2px solid var(--fill-color);\n",
              "    border-color: transparent;\n",
              "    border-bottom-color: var(--fill-color);\n",
              "    animation:\n",
              "      spin 1s steps(1) infinite;\n",
              "  }\n",
              "\n",
              "  @keyframes spin {\n",
              "    0% {\n",
              "      border-color: transparent;\n",
              "      border-bottom-color: var(--fill-color);\n",
              "      border-left-color: var(--fill-color);\n",
              "    }\n",
              "    20% {\n",
              "      border-color: transparent;\n",
              "      border-left-color: var(--fill-color);\n",
              "      border-top-color: var(--fill-color);\n",
              "    }\n",
              "    30% {\n",
              "      border-color: transparent;\n",
              "      border-left-color: var(--fill-color);\n",
              "      border-top-color: var(--fill-color);\n",
              "      border-right-color: var(--fill-color);\n",
              "    }\n",
              "    40% {\n",
              "      border-color: transparent;\n",
              "      border-right-color: var(--fill-color);\n",
              "      border-top-color: var(--fill-color);\n",
              "    }\n",
              "    60% {\n",
              "      border-color: transparent;\n",
              "      border-right-color: var(--fill-color);\n",
              "    }\n",
              "    80% {\n",
              "      border-color: transparent;\n",
              "      border-right-color: var(--fill-color);\n",
              "      border-bottom-color: var(--fill-color);\n",
              "    }\n",
              "    90% {\n",
              "      border-color: transparent;\n",
              "      border-bottom-color: var(--fill-color);\n",
              "    }\n",
              "  }\n",
              "</style>\n",
              "\n",
              "      <script>\n",
              "        async function quickchart(key) {\n",
              "          const quickchartButtonEl =\n",
              "            document.querySelector('#' + key + ' button');\n",
              "          quickchartButtonEl.disabled = true;  // To prevent multiple clicks.\n",
              "          quickchartButtonEl.classList.add('colab-df-spinner');\n",
              "          try {\n",
              "            const charts = await google.colab.kernel.invokeFunction(\n",
              "                'suggestCharts', [key], {});\n",
              "          } catch (error) {\n",
              "            console.error('Error during call to suggestCharts:', error);\n",
              "          }\n",
              "          quickchartButtonEl.classList.remove('colab-df-spinner');\n",
              "          quickchartButtonEl.classList.add('colab-df-quickchart-complete');\n",
              "        }\n",
              "        (() => {\n",
              "          let quickchartButtonEl =\n",
              "            document.querySelector('#df-ed4d7d45-f647-4ce8-91a4-10a68045b298 button');\n",
              "          quickchartButtonEl.style.display =\n",
              "            google.colab.kernel.accessAllowed ? 'block' : 'none';\n",
              "        })();\n",
              "      </script>\n",
              "    </div>\n",
              "\n",
              "    </div>\n",
              "  </div>\n"
            ],
            "application/vnd.google.colaboratory.intrinsic+json": {
              "type": "dataframe",
              "summary": "{\n  \"name\": \"# Males have a higher rate of heart disease than females\",\n  \"rows\": 2,\n  \"fields\": [\n    {\n      \"column\": \"target_heart\",\n      \"properties\": {\n        \"dtype\": \"number\",\n        \"std\": 0.7071067811865476,\n        \"min\": 0.0,\n        \"max\": 1.0,\n        \"num_unique_values\": 2,\n        \"samples\": [\n          1.0,\n          0.0\n        ],\n        \"semantic_type\": \"\",\n        \"description\": \"\"\n      }\n    },\n    {\n      \"column\": 1,\n      \"properties\": {\n        \"dtype\": \"number\",\n        \"std\": 265,\n        \"min\": 1819,\n        \"max\": 2194,\n        \"num_unique_values\": 2,\n        \"samples\": [\n          2194,\n          1819\n        ],\n        \"semantic_type\": \"\",\n        \"description\": \"\"\n      }\n    },\n    {\n      \"column\": 2,\n      \"properties\": {\n        \"dtype\": \"number\",\n        \"std\": 265,\n        \"min\": 1806,\n        \"max\": 2181,\n        \"num_unique_values\": 2,\n        \"samples\": [\n          1806,\n          2181\n        ],\n        \"semantic_type\": \"\",\n        \"description\": \"\"\n      }\n    }\n  ]\n}"
            }
          },
          "metadata": {},
          "execution_count": 81
        }
      ],
      "source": [
        "pd.crosstab(data[\"target_heart\"], data[\"gender\"])\n",
        "# Males have a higher rate of heart disease than females"
      ]
    },
    {
      "cell_type": "code",
      "execution_count": 82,
      "id": "c53a7e99",
      "metadata": {
        "colab": {
          "base_uri": "https://localhost:8080/",
          "height": 143
        },
        "id": "c53a7e99",
        "outputId": "b3cf78a1-7ef5-4f3a-907f-c16dcc5bdeb9"
      },
      "outputs": [
        {
          "output_type": "execute_result",
          "data": {
            "text/plain": [
              "drink_alcohol   1.0   2.0\n",
              "target_heart             \n",
              "0.0            2824  1176\n",
              "1.0            2741  1259"
            ],
            "text/html": [
              "\n",
              "  <div id=\"df-f2e01f68-958f-4326-a424-4c8280b03669\" class=\"colab-df-container\">\n",
              "    <div>\n",
              "<style scoped>\n",
              "    .dataframe tbody tr th:only-of-type {\n",
              "        vertical-align: middle;\n",
              "    }\n",
              "\n",
              "    .dataframe tbody tr th {\n",
              "        vertical-align: top;\n",
              "    }\n",
              "\n",
              "    .dataframe thead th {\n",
              "        text-align: right;\n",
              "    }\n",
              "</style>\n",
              "<table border=\"1\" class=\"dataframe\">\n",
              "  <thead>\n",
              "    <tr style=\"text-align: right;\">\n",
              "      <th>drink_alcohol</th>\n",
              "      <th>1.0</th>\n",
              "      <th>2.0</th>\n",
              "    </tr>\n",
              "    <tr>\n",
              "      <th>target_heart</th>\n",
              "      <th></th>\n",
              "      <th></th>\n",
              "    </tr>\n",
              "  </thead>\n",
              "  <tbody>\n",
              "    <tr>\n",
              "      <th>0.0</th>\n",
              "      <td>2824</td>\n",
              "      <td>1176</td>\n",
              "    </tr>\n",
              "    <tr>\n",
              "      <th>1.0</th>\n",
              "      <td>2741</td>\n",
              "      <td>1259</td>\n",
              "    </tr>\n",
              "  </tbody>\n",
              "</table>\n",
              "</div>\n",
              "    <div class=\"colab-df-buttons\">\n",
              "\n",
              "  <div class=\"colab-df-container\">\n",
              "    <button class=\"colab-df-convert\" onclick=\"convertToInteractive('df-f2e01f68-958f-4326-a424-4c8280b03669')\"\n",
              "            title=\"Convert this dataframe to an interactive table.\"\n",
              "            style=\"display:none;\">\n",
              "\n",
              "  <svg xmlns=\"http://www.w3.org/2000/svg\" height=\"24px\" viewBox=\"0 -960 960 960\">\n",
              "    <path d=\"M120-120v-720h720v720H120Zm60-500h600v-160H180v160Zm220 220h160v-160H400v160Zm0 220h160v-160H400v160ZM180-400h160v-160H180v160Zm440 0h160v-160H620v160ZM180-180h160v-160H180v160Zm440 0h160v-160H620v160Z\"/>\n",
              "  </svg>\n",
              "    </button>\n",
              "\n",
              "  <style>\n",
              "    .colab-df-container {\n",
              "      display:flex;\n",
              "      gap: 12px;\n",
              "    }\n",
              "\n",
              "    .colab-df-convert {\n",
              "      background-color: #E8F0FE;\n",
              "      border: none;\n",
              "      border-radius: 50%;\n",
              "      cursor: pointer;\n",
              "      display: none;\n",
              "      fill: #1967D2;\n",
              "      height: 32px;\n",
              "      padding: 0 0 0 0;\n",
              "      width: 32px;\n",
              "    }\n",
              "\n",
              "    .colab-df-convert:hover {\n",
              "      background-color: #E2EBFA;\n",
              "      box-shadow: 0px 1px 2px rgba(60, 64, 67, 0.3), 0px 1px 3px 1px rgba(60, 64, 67, 0.15);\n",
              "      fill: #174EA6;\n",
              "    }\n",
              "\n",
              "    .colab-df-buttons div {\n",
              "      margin-bottom: 4px;\n",
              "    }\n",
              "\n",
              "    [theme=dark] .colab-df-convert {\n",
              "      background-color: #3B4455;\n",
              "      fill: #D2E3FC;\n",
              "    }\n",
              "\n",
              "    [theme=dark] .colab-df-convert:hover {\n",
              "      background-color: #434B5C;\n",
              "      box-shadow: 0px 1px 3px 1px rgba(0, 0, 0, 0.15);\n",
              "      filter: drop-shadow(0px 1px 2px rgba(0, 0, 0, 0.3));\n",
              "      fill: #FFFFFF;\n",
              "    }\n",
              "  </style>\n",
              "\n",
              "    <script>\n",
              "      const buttonEl =\n",
              "        document.querySelector('#df-f2e01f68-958f-4326-a424-4c8280b03669 button.colab-df-convert');\n",
              "      buttonEl.style.display =\n",
              "        google.colab.kernel.accessAllowed ? 'block' : 'none';\n",
              "\n",
              "      async function convertToInteractive(key) {\n",
              "        const element = document.querySelector('#df-f2e01f68-958f-4326-a424-4c8280b03669');\n",
              "        const dataTable =\n",
              "          await google.colab.kernel.invokeFunction('convertToInteractive',\n",
              "                                                    [key], {});\n",
              "        if (!dataTable) return;\n",
              "\n",
              "        const docLinkHtml = 'Like what you see? Visit the ' +\n",
              "          '<a target=\"_blank\" href=https://colab.research.google.com/notebooks/data_table.ipynb>data table notebook</a>'\n",
              "          + ' to learn more about interactive tables.';\n",
              "        element.innerHTML = '';\n",
              "        dataTable['output_type'] = 'display_data';\n",
              "        await google.colab.output.renderOutput(dataTable, element);\n",
              "        const docLink = document.createElement('div');\n",
              "        docLink.innerHTML = docLinkHtml;\n",
              "        element.appendChild(docLink);\n",
              "      }\n",
              "    </script>\n",
              "  </div>\n",
              "\n",
              "\n",
              "    <div id=\"df-f9e7aea6-6394-4b7f-a202-25b595f01077\">\n",
              "      <button class=\"colab-df-quickchart\" onclick=\"quickchart('df-f9e7aea6-6394-4b7f-a202-25b595f01077')\"\n",
              "                title=\"Suggest charts\"\n",
              "                style=\"display:none;\">\n",
              "\n",
              "<svg xmlns=\"http://www.w3.org/2000/svg\" height=\"24px\"viewBox=\"0 0 24 24\"\n",
              "     width=\"24px\">\n",
              "    <g>\n",
              "        <path d=\"M19 3H5c-1.1 0-2 .9-2 2v14c0 1.1.9 2 2 2h14c1.1 0 2-.9 2-2V5c0-1.1-.9-2-2-2zM9 17H7v-7h2v7zm4 0h-2V7h2v10zm4 0h-2v-4h2v4z\"/>\n",
              "    </g>\n",
              "</svg>\n",
              "      </button>\n",
              "\n",
              "<style>\n",
              "  .colab-df-quickchart {\n",
              "      --bg-color: #E8F0FE;\n",
              "      --fill-color: #1967D2;\n",
              "      --hover-bg-color: #E2EBFA;\n",
              "      --hover-fill-color: #174EA6;\n",
              "      --disabled-fill-color: #AAA;\n",
              "      --disabled-bg-color: #DDD;\n",
              "  }\n",
              "\n",
              "  [theme=dark] .colab-df-quickchart {\n",
              "      --bg-color: #3B4455;\n",
              "      --fill-color: #D2E3FC;\n",
              "      --hover-bg-color: #434B5C;\n",
              "      --hover-fill-color: #FFFFFF;\n",
              "      --disabled-bg-color: #3B4455;\n",
              "      --disabled-fill-color: #666;\n",
              "  }\n",
              "\n",
              "  .colab-df-quickchart {\n",
              "    background-color: var(--bg-color);\n",
              "    border: none;\n",
              "    border-radius: 50%;\n",
              "    cursor: pointer;\n",
              "    display: none;\n",
              "    fill: var(--fill-color);\n",
              "    height: 32px;\n",
              "    padding: 0;\n",
              "    width: 32px;\n",
              "  }\n",
              "\n",
              "  .colab-df-quickchart:hover {\n",
              "    background-color: var(--hover-bg-color);\n",
              "    box-shadow: 0 1px 2px rgba(60, 64, 67, 0.3), 0 1px 3px 1px rgba(60, 64, 67, 0.15);\n",
              "    fill: var(--button-hover-fill-color);\n",
              "  }\n",
              "\n",
              "  .colab-df-quickchart-complete:disabled,\n",
              "  .colab-df-quickchart-complete:disabled:hover {\n",
              "    background-color: var(--disabled-bg-color);\n",
              "    fill: var(--disabled-fill-color);\n",
              "    box-shadow: none;\n",
              "  }\n",
              "\n",
              "  .colab-df-spinner {\n",
              "    border: 2px solid var(--fill-color);\n",
              "    border-color: transparent;\n",
              "    border-bottom-color: var(--fill-color);\n",
              "    animation:\n",
              "      spin 1s steps(1) infinite;\n",
              "  }\n",
              "\n",
              "  @keyframes spin {\n",
              "    0% {\n",
              "      border-color: transparent;\n",
              "      border-bottom-color: var(--fill-color);\n",
              "      border-left-color: var(--fill-color);\n",
              "    }\n",
              "    20% {\n",
              "      border-color: transparent;\n",
              "      border-left-color: var(--fill-color);\n",
              "      border-top-color: var(--fill-color);\n",
              "    }\n",
              "    30% {\n",
              "      border-color: transparent;\n",
              "      border-left-color: var(--fill-color);\n",
              "      border-top-color: var(--fill-color);\n",
              "      border-right-color: var(--fill-color);\n",
              "    }\n",
              "    40% {\n",
              "      border-color: transparent;\n",
              "      border-right-color: var(--fill-color);\n",
              "      border-top-color: var(--fill-color);\n",
              "    }\n",
              "    60% {\n",
              "      border-color: transparent;\n",
              "      border-right-color: var(--fill-color);\n",
              "    }\n",
              "    80% {\n",
              "      border-color: transparent;\n",
              "      border-right-color: var(--fill-color);\n",
              "      border-bottom-color: var(--fill-color);\n",
              "    }\n",
              "    90% {\n",
              "      border-color: transparent;\n",
              "      border-bottom-color: var(--fill-color);\n",
              "    }\n",
              "  }\n",
              "</style>\n",
              "\n",
              "      <script>\n",
              "        async function quickchart(key) {\n",
              "          const quickchartButtonEl =\n",
              "            document.querySelector('#' + key + ' button');\n",
              "          quickchartButtonEl.disabled = true;  // To prevent multiple clicks.\n",
              "          quickchartButtonEl.classList.add('colab-df-spinner');\n",
              "          try {\n",
              "            const charts = await google.colab.kernel.invokeFunction(\n",
              "                'suggestCharts', [key], {});\n",
              "          } catch (error) {\n",
              "            console.error('Error during call to suggestCharts:', error);\n",
              "          }\n",
              "          quickchartButtonEl.classList.remove('colab-df-spinner');\n",
              "          quickchartButtonEl.classList.add('colab-df-quickchart-complete');\n",
              "        }\n",
              "        (() => {\n",
              "          let quickchartButtonEl =\n",
              "            document.querySelector('#df-f9e7aea6-6394-4b7f-a202-25b595f01077 button');\n",
              "          quickchartButtonEl.style.display =\n",
              "            google.colab.kernel.accessAllowed ? 'block' : 'none';\n",
              "        })();\n",
              "      </script>\n",
              "    </div>\n",
              "\n",
              "    </div>\n",
              "  </div>\n"
            ],
            "application/vnd.google.colaboratory.intrinsic+json": {
              "type": "dataframe",
              "summary": "{\n  \"name\": \"# 50/50, similar to those who do not drink alcohol\",\n  \"rows\": 2,\n  \"fields\": [\n    {\n      \"column\": \"target_heart\",\n      \"properties\": {\n        \"dtype\": \"number\",\n        \"std\": 0.7071067811865476,\n        \"min\": 0.0,\n        \"max\": 1.0,\n        \"num_unique_values\": 2,\n        \"samples\": [\n          1.0,\n          0.0\n        ],\n        \"semantic_type\": \"\",\n        \"description\": \"\"\n      }\n    },\n    {\n      \"column\": 1.0,\n      \"properties\": {\n        \"dtype\": \"number\",\n        \"std\": 58,\n        \"min\": 2741,\n        \"max\": 2824,\n        \"num_unique_values\": 2,\n        \"samples\": [\n          2741,\n          2824\n        ],\n        \"semantic_type\": \"\",\n        \"description\": \"\"\n      }\n    },\n    {\n      \"column\": 2.0,\n      \"properties\": {\n        \"dtype\": \"number\",\n        \"std\": 58,\n        \"min\": 1176,\n        \"max\": 1259,\n        \"num_unique_values\": 2,\n        \"samples\": [\n          1259,\n          1176\n        ],\n        \"semantic_type\": \"\",\n        \"description\": \"\"\n      }\n    }\n  ]\n}"
            }
          },
          "metadata": {},
          "execution_count": 82
        }
      ],
      "source": [
        "pd.crosstab(data[\"target_heart\"], data[\"drink_alcohol\"])\n",
        "# Although more people drink alcohol, the amount of people with heart disease is still about\n",
        "# 50/50, similar to those who do not drink alcohol."
      ]
    },
    {
      "cell_type": "code",
      "execution_count": 83,
      "id": "c9a69759",
      "metadata": {
        "colab": {
          "base_uri": "https://localhost:8080/",
          "height": 143
        },
        "id": "c9a69759",
        "outputId": "81bbda0a-327a-4254-a73f-e60af0c1ad3e"
      },
      "outputs": [
        {
          "output_type": "execute_result",
          "data": {
            "text/plain": [
              "chest_pain_ever   1.0   2.0\n",
              "target_heart               \n",
              "0.0               791  3209\n",
              "1.0              2016  1984"
            ],
            "text/html": [
              "\n",
              "  <div id=\"df-ed6117e4-b4e5-4e0a-8190-1701ab093294\" class=\"colab-df-container\">\n",
              "    <div>\n",
              "<style scoped>\n",
              "    .dataframe tbody tr th:only-of-type {\n",
              "        vertical-align: middle;\n",
              "    }\n",
              "\n",
              "    .dataframe tbody tr th {\n",
              "        vertical-align: top;\n",
              "    }\n",
              "\n",
              "    .dataframe thead th {\n",
              "        text-align: right;\n",
              "    }\n",
              "</style>\n",
              "<table border=\"1\" class=\"dataframe\">\n",
              "  <thead>\n",
              "    <tr style=\"text-align: right;\">\n",
              "      <th>chest_pain_ever</th>\n",
              "      <th>1.0</th>\n",
              "      <th>2.0</th>\n",
              "    </tr>\n",
              "    <tr>\n",
              "      <th>target_heart</th>\n",
              "      <th></th>\n",
              "      <th></th>\n",
              "    </tr>\n",
              "  </thead>\n",
              "  <tbody>\n",
              "    <tr>\n",
              "      <th>0.0</th>\n",
              "      <td>791</td>\n",
              "      <td>3209</td>\n",
              "    </tr>\n",
              "    <tr>\n",
              "      <th>1.0</th>\n",
              "      <td>2016</td>\n",
              "      <td>1984</td>\n",
              "    </tr>\n",
              "  </tbody>\n",
              "</table>\n",
              "</div>\n",
              "    <div class=\"colab-df-buttons\">\n",
              "\n",
              "  <div class=\"colab-df-container\">\n",
              "    <button class=\"colab-df-convert\" onclick=\"convertToInteractive('df-ed6117e4-b4e5-4e0a-8190-1701ab093294')\"\n",
              "            title=\"Convert this dataframe to an interactive table.\"\n",
              "            style=\"display:none;\">\n",
              "\n",
              "  <svg xmlns=\"http://www.w3.org/2000/svg\" height=\"24px\" viewBox=\"0 -960 960 960\">\n",
              "    <path d=\"M120-120v-720h720v720H120Zm60-500h600v-160H180v160Zm220 220h160v-160H400v160Zm0 220h160v-160H400v160ZM180-400h160v-160H180v160Zm440 0h160v-160H620v160ZM180-180h160v-160H180v160Zm440 0h160v-160H620v160Z\"/>\n",
              "  </svg>\n",
              "    </button>\n",
              "\n",
              "  <style>\n",
              "    .colab-df-container {\n",
              "      display:flex;\n",
              "      gap: 12px;\n",
              "    }\n",
              "\n",
              "    .colab-df-convert {\n",
              "      background-color: #E8F0FE;\n",
              "      border: none;\n",
              "      border-radius: 50%;\n",
              "      cursor: pointer;\n",
              "      display: none;\n",
              "      fill: #1967D2;\n",
              "      height: 32px;\n",
              "      padding: 0 0 0 0;\n",
              "      width: 32px;\n",
              "    }\n",
              "\n",
              "    .colab-df-convert:hover {\n",
              "      background-color: #E2EBFA;\n",
              "      box-shadow: 0px 1px 2px rgba(60, 64, 67, 0.3), 0px 1px 3px 1px rgba(60, 64, 67, 0.15);\n",
              "      fill: #174EA6;\n",
              "    }\n",
              "\n",
              "    .colab-df-buttons div {\n",
              "      margin-bottom: 4px;\n",
              "    }\n",
              "\n",
              "    [theme=dark] .colab-df-convert {\n",
              "      background-color: #3B4455;\n",
              "      fill: #D2E3FC;\n",
              "    }\n",
              "\n",
              "    [theme=dark] .colab-df-convert:hover {\n",
              "      background-color: #434B5C;\n",
              "      box-shadow: 0px 1px 3px 1px rgba(0, 0, 0, 0.15);\n",
              "      filter: drop-shadow(0px 1px 2px rgba(0, 0, 0, 0.3));\n",
              "      fill: #FFFFFF;\n",
              "    }\n",
              "  </style>\n",
              "\n",
              "    <script>\n",
              "      const buttonEl =\n",
              "        document.querySelector('#df-ed6117e4-b4e5-4e0a-8190-1701ab093294 button.colab-df-convert');\n",
              "      buttonEl.style.display =\n",
              "        google.colab.kernel.accessAllowed ? 'block' : 'none';\n",
              "\n",
              "      async function convertToInteractive(key) {\n",
              "        const element = document.querySelector('#df-ed6117e4-b4e5-4e0a-8190-1701ab093294');\n",
              "        const dataTable =\n",
              "          await google.colab.kernel.invokeFunction('convertToInteractive',\n",
              "                                                    [key], {});\n",
              "        if (!dataTable) return;\n",
              "\n",
              "        const docLinkHtml = 'Like what you see? Visit the ' +\n",
              "          '<a target=\"_blank\" href=https://colab.research.google.com/notebooks/data_table.ipynb>data table notebook</a>'\n",
              "          + ' to learn more about interactive tables.';\n",
              "        element.innerHTML = '';\n",
              "        dataTable['output_type'] = 'display_data';\n",
              "        await google.colab.output.renderOutput(dataTable, element);\n",
              "        const docLink = document.createElement('div');\n",
              "        docLink.innerHTML = docLinkHtml;\n",
              "        element.appendChild(docLink);\n",
              "      }\n",
              "    </script>\n",
              "  </div>\n",
              "\n",
              "\n",
              "    <div id=\"df-12aa5b17-d2a7-429a-af54-bcc928ef008c\">\n",
              "      <button class=\"colab-df-quickchart\" onclick=\"quickchart('df-12aa5b17-d2a7-429a-af54-bcc928ef008c')\"\n",
              "                title=\"Suggest charts\"\n",
              "                style=\"display:none;\">\n",
              "\n",
              "<svg xmlns=\"http://www.w3.org/2000/svg\" height=\"24px\"viewBox=\"0 0 24 24\"\n",
              "     width=\"24px\">\n",
              "    <g>\n",
              "        <path d=\"M19 3H5c-1.1 0-2 .9-2 2v14c0 1.1.9 2 2 2h14c1.1 0 2-.9 2-2V5c0-1.1-.9-2-2-2zM9 17H7v-7h2v7zm4 0h-2V7h2v10zm4 0h-2v-4h2v4z\"/>\n",
              "    </g>\n",
              "</svg>\n",
              "      </button>\n",
              "\n",
              "<style>\n",
              "  .colab-df-quickchart {\n",
              "      --bg-color: #E8F0FE;\n",
              "      --fill-color: #1967D2;\n",
              "      --hover-bg-color: #E2EBFA;\n",
              "      --hover-fill-color: #174EA6;\n",
              "      --disabled-fill-color: #AAA;\n",
              "      --disabled-bg-color: #DDD;\n",
              "  }\n",
              "\n",
              "  [theme=dark] .colab-df-quickchart {\n",
              "      --bg-color: #3B4455;\n",
              "      --fill-color: #D2E3FC;\n",
              "      --hover-bg-color: #434B5C;\n",
              "      --hover-fill-color: #FFFFFF;\n",
              "      --disabled-bg-color: #3B4455;\n",
              "      --disabled-fill-color: #666;\n",
              "  }\n",
              "\n",
              "  .colab-df-quickchart {\n",
              "    background-color: var(--bg-color);\n",
              "    border: none;\n",
              "    border-radius: 50%;\n",
              "    cursor: pointer;\n",
              "    display: none;\n",
              "    fill: var(--fill-color);\n",
              "    height: 32px;\n",
              "    padding: 0;\n",
              "    width: 32px;\n",
              "  }\n",
              "\n",
              "  .colab-df-quickchart:hover {\n",
              "    background-color: var(--hover-bg-color);\n",
              "    box-shadow: 0 1px 2px rgba(60, 64, 67, 0.3), 0 1px 3px 1px rgba(60, 64, 67, 0.15);\n",
              "    fill: var(--button-hover-fill-color);\n",
              "  }\n",
              "\n",
              "  .colab-df-quickchart-complete:disabled,\n",
              "  .colab-df-quickchart-complete:disabled:hover {\n",
              "    background-color: var(--disabled-bg-color);\n",
              "    fill: var(--disabled-fill-color);\n",
              "    box-shadow: none;\n",
              "  }\n",
              "\n",
              "  .colab-df-spinner {\n",
              "    border: 2px solid var(--fill-color);\n",
              "    border-color: transparent;\n",
              "    border-bottom-color: var(--fill-color);\n",
              "    animation:\n",
              "      spin 1s steps(1) infinite;\n",
              "  }\n",
              "\n",
              "  @keyframes spin {\n",
              "    0% {\n",
              "      border-color: transparent;\n",
              "      border-bottom-color: var(--fill-color);\n",
              "      border-left-color: var(--fill-color);\n",
              "    }\n",
              "    20% {\n",
              "      border-color: transparent;\n",
              "      border-left-color: var(--fill-color);\n",
              "      border-top-color: var(--fill-color);\n",
              "    }\n",
              "    30% {\n",
              "      border-color: transparent;\n",
              "      border-left-color: var(--fill-color);\n",
              "      border-top-color: var(--fill-color);\n",
              "      border-right-color: var(--fill-color);\n",
              "    }\n",
              "    40% {\n",
              "      border-color: transparent;\n",
              "      border-right-color: var(--fill-color);\n",
              "      border-top-color: var(--fill-color);\n",
              "    }\n",
              "    60% {\n",
              "      border-color: transparent;\n",
              "      border-right-color: var(--fill-color);\n",
              "    }\n",
              "    80% {\n",
              "      border-color: transparent;\n",
              "      border-right-color: var(--fill-color);\n",
              "      border-bottom-color: var(--fill-color);\n",
              "    }\n",
              "    90% {\n",
              "      border-color: transparent;\n",
              "      border-bottom-color: var(--fill-color);\n",
              "    }\n",
              "  }\n",
              "</style>\n",
              "\n",
              "      <script>\n",
              "        async function quickchart(key) {\n",
              "          const quickchartButtonEl =\n",
              "            document.querySelector('#' + key + ' button');\n",
              "          quickchartButtonEl.disabled = true;  // To prevent multiple clicks.\n",
              "          quickchartButtonEl.classList.add('colab-df-spinner');\n",
              "          try {\n",
              "            const charts = await google.colab.kernel.invokeFunction(\n",
              "                'suggestCharts', [key], {});\n",
              "          } catch (error) {\n",
              "            console.error('Error during call to suggestCharts:', error);\n",
              "          }\n",
              "          quickchartButtonEl.classList.remove('colab-df-spinner');\n",
              "          quickchartButtonEl.classList.add('colab-df-quickchart-complete');\n",
              "        }\n",
              "        (() => {\n",
              "          let quickchartButtonEl =\n",
              "            document.querySelector('#df-12aa5b17-d2a7-429a-af54-bcc928ef008c button');\n",
              "          quickchartButtonEl.style.display =\n",
              "            google.colab.kernel.accessAllowed ? 'block' : 'none';\n",
              "        })();\n",
              "      </script>\n",
              "    </div>\n",
              "\n",
              "    </div>\n",
              "  </div>\n"
            ],
            "application/vnd.google.colaboratory.intrinsic+json": {
              "type": "dataframe",
              "summary": "{\n  \"name\": \"# have heart disease\",\n  \"rows\": 2,\n  \"fields\": [\n    {\n      \"column\": \"target_heart\",\n      \"properties\": {\n        \"dtype\": \"number\",\n        \"std\": 0.7071067811865476,\n        \"min\": 0.0,\n        \"max\": 1.0,\n        \"num_unique_values\": 2,\n        \"samples\": [\n          1.0,\n          0.0\n        ],\n        \"semantic_type\": \"\",\n        \"description\": \"\"\n      }\n    },\n    {\n      \"column\": 1.0,\n      \"properties\": {\n        \"dtype\": \"number\",\n        \"std\": 866,\n        \"min\": 791,\n        \"max\": 2016,\n        \"num_unique_values\": 2,\n        \"samples\": [\n          2016,\n          791\n        ],\n        \"semantic_type\": \"\",\n        \"description\": \"\"\n      }\n    },\n    {\n      \"column\": 2.0,\n      \"properties\": {\n        \"dtype\": \"number\",\n        \"std\": 866,\n        \"min\": 1984,\n        \"max\": 3209,\n        \"num_unique_values\": 2,\n        \"samples\": [\n          1984,\n          3209\n        ],\n        \"semantic_type\": \"\",\n        \"description\": \"\"\n      }\n    }\n  ]\n}"
            }
          },
          "metadata": {},
          "execution_count": 83
        }
      ],
      "source": [
        "pd.crosstab(data[\"target_heart\"], data[\"chest_pain_ever\"])\n",
        "# More people have reported having chest pain ever, but the data shows that there are about the same\n",
        "# amount of people who have reported having chest pain, and haven't reported having chest pain, that\n",
        "# have heart disease."
      ]
    },
    {
      "cell_type": "markdown",
      "id": "e8a5ea2f",
      "metadata": {
        "id": "e8a5ea2f"
      },
      "source": [
        "**Task**:\n",
        "Do you expect each of \"blood_cholesterol\", \"age\", \"calories\",\n",
        "and \"BMI\" to be an informative predictor for \"target_heart\"?\n",
        "What about \"gender\", \"drink_alcohol\" and \"chest_pain_ever\"?\n",
        "Using your output from above, briefly explain why or why not."
      ]
    },
    {
      "cell_type": "code",
      "execution_count": 84,
      "id": "2e45bd75",
      "metadata": {
        "id": "2e45bd75"
      },
      "outputs": [],
      "source": [
        "# TODO: Your prediction as to whether these features are informative predictors.\n",
        "# Blood Cholesterol: Could be a predictor of heart disease, boxplot outliers seem to skew higher for\n",
        "# people with heart disease\n",
        "# Age: Older age seems to be a good predictor of heart disease\n",
        "# Calories: Calories is likely not a good predictor of heart disease because different people need\n",
        "# different amounts of calories, not necessarilly overweight\n",
        "# BMI, Gender, chest pain ever variables have been addressed next to their figures"
      ]
    },
    {
      "cell_type": "markdown",
      "id": "19812770",
      "metadata": {
        "id": "19812770"
      },
      "source": [
        "**Task**: Complete the exploratory data analysis by visualizing the remaining features.\n",
        "You should get a sense of whether these features may be informative predictors,\n",
        "and the distribution of these features.\n",
        "\n",
        "As a side note, this is also a great time to look for unexpected issues with the data.\n",
        "Is there missing data? Is there data that is outside the normal range that you would expect\n",
        "(e.g. an age of 500)? Are there features that almost always take on the same value,\n",
        "and would therefore likely not to be useful?"
      ]
    },
    {
      "cell_type": "code",
      "execution_count": 85,
      "id": "da8fd10f",
      "metadata": {
        "id": "da8fd10f",
        "outputId": "605b80e1-42a4-4733-8e76-d2322407a72b",
        "colab": {
          "base_uri": "https://localhost:8080/",
          "height": 1000
        }
      },
      "outputs": [
        {
          "output_type": "display_data",
          "data": {
            "text/plain": [
              "<Figure size 640x480 with 1 Axes>"
            ],
            "image/png": "[encoded data removed]"
          },
          "metadata": {}
        },
        {
          "output_type": "display_data",
          "data": {
            "text/plain": [
              "<Figure size 640x480 with 1 Axes>"
            ],
            "image/png": "[encoded data removed]"
          },
          "metadata": {}
        },
        {
          "output_type": "display_data",
          "data": {
            "text/plain": [
              "<Figure size 640x480 with 1 Axes>"
            ],
            "image/png": "[encoded data removed]"
          },
          "metadata": {}
        }
      ],
      "source": [
        "# TODO\n",
        "plt.boxplot(data['blood_pressure_sys'])\n",
        "plt.title(\"Systolic Blood Pressure Distribution\")\n",
        "plt.show()\n",
        "\n",
        "plt.boxplot(data['diastolic_bp'])\n",
        "plt.title(\"Diastolic Blood Pressure Distribution\")\n",
        "plt.show()\n",
        "\n",
        "plt.boxplot(data['weight_kg'])\n",
        "plt.title(\"Weight Distribution\")\n",
        "plt.show()"
      ]
    },
    {
      "cell_type": "code",
      "source": [
        "# Check for missing or unusual values\n",
        "print(data.isnull().sum())\n",
        "print(data.describe())"
      ],
      "metadata": {
        "id": "PoWbO3ZQWYCs",
        "outputId": "178e0862-7400-4d30-e744-5b263e05245e",
        "colab": {
          "base_uri": "https://localhost:8080/"
        }
      },
      "id": "PoWbO3ZQWYCs",
      "execution_count": 86,
      "outputs": [
        {
          "output_type": "stream",
          "name": "stdout",
          "text": [
            "gender                0\n",
            "race_ethnicity        0\n",
            "chest_pain_ever       0\n",
            "drink_alcohol         0\n",
            "age                   0\n",
            "BMI                   0\n",
            "weight_kg             0\n",
            "blood_pressure_sys    0\n",
            "diastolic_bp          0\n",
            "blood_cholesterol     0\n",
            "calories              0\n",
            "family_income         0\n",
            "target_heart          0\n",
            "dtype: int64\n",
            "            gender  race_ethnicity  chest_pain_ever  drink_alcohol  \\\n",
            "count  8000.000000     8000.000000      8000.000000    8000.000000   \n",
            "mean      1.498375        3.222000         1.649125       1.304375   \n",
            "std       0.500029        1.330672         0.477274       0.460171   \n",
            "min       1.000000        1.000000         1.000000       1.000000   \n",
            "25%       1.000000        3.000000         1.000000       1.000000   \n",
            "50%       1.000000        3.000000         2.000000       1.000000   \n",
            "75%       2.000000        4.000000         2.000000       2.000000   \n",
            "max       2.000000        7.000000         2.000000       2.000000   \n",
            "\n",
            "               age          BMI    weight_kg  blood_pressure_sys  \\\n",
            "count  8000.000000  8000.000000  8000.000000         8000.000000   \n",
            "mean     62.627875    25.352687    61.112887          117.135500   \n",
            "std      12.225806     7.683466    32.803242           15.050115   \n",
            "min      40.000000    12.900000     3.300000           82.000000   \n",
            "25%      52.000000    19.700000    33.600000          108.000000   \n",
            "50%      63.000000    24.600000    63.700000          116.000000   \n",
            "75%      73.000000    29.500000    83.000000          122.000000   \n",
            "max      80.000000    82.900000   201.600000          220.000000   \n",
            "\n",
            "       diastolic_bp  blood_cholesterol     calories  family_income  \\\n",
            "count   8000.000000        8000.000000  8000.000000    8000.000000   \n",
            "mean      65.705000           4.584376  1866.986875       2.456017   \n",
            "std       11.610893           0.908403   867.494312       1.532800   \n",
            "min        0.000000           2.020000   171.000000       0.000000   \n",
            "25%       60.000000           4.090000  1337.750000       1.180000   \n",
            "50%       66.000000           4.500000  1735.000000       2.050000   \n",
            "75%       72.000000           4.970000  2215.250000       3.800000   \n",
            "max      116.000000          11.970000  8496.000000       5.000000   \n",
            "\n",
            "       target_heart  \n",
            "count   8000.000000  \n",
            "mean       0.500000  \n",
            "std        0.500031  \n",
            "min        0.000000  \n",
            "25%        0.000000  \n",
            "50%        0.500000  \n",
            "75%        1.000000  \n",
            "max        1.000000  \n"
          ]
        }
      ]
    },
    {
      "cell_type": "code",
      "source": [
        "# no missing values, some outliers in BMI, weight_kg, blood pressure, and\n",
        "# calories. No values outside reasonable ranges."
      ],
      "metadata": {
        "id": "5X7mRQtoWhpt"
      },
      "id": "5X7mRQtoWhpt",
      "execution_count": 87,
      "outputs": []
    },
    {
      "cell_type": "markdown",
      "id": "72508104",
      "metadata": {
        "id": "72508104"
      },
      "source": [
        "**Task**: Before being able to use our data to train a decision tree model,\n",
        "we need to transform some of the ways that our features are encoded. In particular, we need to change our current encoding of `gender`\n",
        "and `race_ethnicity`.  Explain why the current encoding should not be used with a decision tree classifier."
      ]
    },
    {
      "cell_type": "code",
      "execution_count": 88,
      "id": "94eabca3",
      "metadata": {
        "id": "94eabca3"
      },
      "outputs": [],
      "source": [
        "# TODO: your explanation\n",
        "# Current encoding assigns arbitrary numeric values (1,2,3,4...)\n",
        "# which may be interpreted as ordinal by the decision tree.\n",
        "# This could cause the tree to infer a false order or distance between\n",
        "# categories. Using indicator variables avoids this issue."
      ]
    },
    {
      "cell_type": "markdown",
      "id": "c1e756f2",
      "metadata": {
        "id": "c1e756f2"
      },
      "source": [
        "To solve the problem with our current encoding, we will encode categorical features using\n",
        "**indicator variables**. We will construct an indicator variable for every possible\n",
        "*value* or *category*.  More specifically, we will make a separate indicator variable for `race_ethicity_white`,\n",
        "`race_ethicity_black`, etc, with each feature taking on a value of 1 or 0.\n",
        "\n",
        "We will also group together `race_ethnicity=1` and\n",
        "`race_ethnicity=2` since these groups represent \"Mexican American\" and\n",
        "\"Other Hispanic\" and these groups are smaller than the others.\n",
        "This is a modeling decision born out of our understanding of the data,\n",
        "**and it may not be the correct decision**!\n",
        "Typically, many factors would go into decisions like this, including discussions\n",
        "with colleagues to understand where the data comes from and how the model will be used.\n",
        "Model building is also an iterative process: we may want to build multiple models with different\n",
        "feature representations, and compare the performance and other characteristics of\n",
        "these models.\n",
        "\n",
        "**Task**: Convert `data` into a numpy array `data_fets` with $N=8000$\n",
        "rows and with the following columns:\n",
        "\n",
        "- An indicator feature with value 1 iff `gender=2` (female)\n",
        "- An indicator feature with value 1 iff `race_ethnicity=1` or `race_ethnicity=2` (hispanic)\n",
        "- An indicator feature with value 1 iff `race_ethnicity=3` (white)\n",
        "- An indicator feature with value 1 iff `race_ethnicity=4` (black)\n",
        "- An indicator feature with value 1 iff `race_ethnicity=6` (asian)\n",
        "- An indicator feature with value 1 iff `chest_pain_ever=1`\n",
        "- An indicator feature with value 1 iff `drink_alcohol=1`\n",
        "- The numerical `age` feature\n",
        "- The numerical `blood_cholesterol` feature\n",
        "- The numerical `BMI` feature\n",
        "- The numerical `blood_pressure_sys` feature\n",
        "- The numerical `diastolic_bp` feature\n",
        "- The numerical `calories` feature\n",
        "- The numerical `family_income` feature\n",
        "\n",
        "Some of the features are provided for you. Complete the remaining features.\n",
        "\n",
        "This code works by creating individual numpy (1D) arrays for each feature,\n",
        "and then stacking them together into a single (2D) numpy array."
      ]
    },
    {
      "cell_type": "code",
      "execution_count": 89,
      "id": "af786ca4",
      "metadata": {
        "id": "af786ca4",
        "outputId": "d8e1af2d-cc7b-4e8b-bef3-4407bd066c02",
        "colab": {
          "base_uri": "https://localhost:8080/"
        }
      },
      "outputs": [
        {
          "output_type": "stream",
          "name": "stdout",
          "text": [
            "(8000, 14)\n"
          ]
        }
      ],
      "source": [
        "data_fets = np.stack([\n",
        "    data[\"gender\"] == 2,                          # gender_female\n",
        "    (data[\"race_ethnicity\"] == 1) + (data[\"race_ethnicity\"] == 2),  # re_hispanic\n",
        "    data[\"race_ethnicity\"] == 3,                  # re_white\n",
        "    data[\"race_ethnicity\"] == 4,                  # re_black\n",
        "    data[\"race_ethnicity\"] == 6,                  # re_asian\n",
        "    data[\"chest_pain_ever\"] == 1,                 # chest_pain\n",
        "    data[\"drink_alcohol\"] == 1,                   # drink_alcohol\n",
        "    data[\"age\"],                                  # age\n",
        "    data[\"blood_cholesterol\"],                    # blood_cholesterol\n",
        "    data[\"BMI\"],                                  # BMI\n",
        "    data[\"blood_pressure_sys\"],                   # blood_pressure_sys\n",
        "    data[\"diastolic_bp\"],                         # diastolic_bp\n",
        "    data[\"calories\"],                             # calories\n",
        "    data[\"family_income\"]                         # family_income\n",
        "], axis=1)\n",
        "\n",
        "print(data_fets.shape)  # Should now print (8000, 14)\n"
      ]
    },
    {
      "cell_type": "markdown",
      "id": "e8616eaf",
      "metadata": {
        "id": "e8616eaf"
      },
      "source": [
        "We will also declare a new array to store all the feature names. This will come in handy later when we visualize decision trees."
      ]
    },
    {
      "cell_type": "code",
      "execution_count": 90,
      "id": "53b00a86",
      "metadata": {
        "id": "53b00a86"
      },
      "outputs": [],
      "source": [
        "feature_names = [\n",
        "    \"gender_female\",\n",
        "    \"re_hispanic\",\n",
        "    \"re_white\",\n",
        "    \"re_black\",\n",
        "    \"re_asian\",\n",
        "    \"chest_pain\",\n",
        "    \"drink_alcohol\",\n",
        "    \"age\",\n",
        "    \"blood_cholesterol\",\n",
        "    \"BMI\",\n",
        "    \"blood_pressure_sys\",\n",
        "    \"diastolic_bp\",\n",
        "    \"calories\",\n",
        "    \"family_income\"]"
      ]
    },
    {
      "cell_type": "markdown",
      "id": "c9685e55",
      "metadata": {
        "id": "c9685e55"
      },
      "source": [
        "**Task**: Finally, let's separate our data into training, validation, and test sets.\n",
        "We will use 5000 data points for training, 1500 for validation, and 1500 for test.\n",
        "\n",
        "Instead of manually splitting the data into two sets, we will use a function provided by `sklearn` which randomly splits the data for us. Use the `train_test_split` function to split the data into training and test sets. To ensure that the randomization is consistent across runs, please supply the following parameter to the `train_test_split` function: 'random_state=1'.  This will ensure that the each time you run your code, you are placing the same data points in your training, test and validation sets.\n",
        "\n",
        "You will likely need to read the [documentation](https://scikit-learn.org/stable/modules/generated/sklearn.model_selection.train_test_split.html) for the `sklearn.model_selection.train_test_splits` to get this job done."
      ]
    },
    {
      "cell_type": "code",
      "execution_count": 91,
      "id": "97e1ffa1",
      "metadata": {
        "id": "97e1ffa1"
      },
      "outputs": [],
      "source": [
        "\n",
        "from sklearn.model_selection import train_test_split\n",
        "\n",
        "# Split the data into X (dependent variables) and t (response variable)\n",
        "X = data_fets\n",
        "t = np.array(data[\"target_heart\"])\n",
        "\n",
        "# First, we will use `train_test_split` to split the data set into\n",
        "# 6500 training+validation, and 1500 test:\n",
        "X_tv, X_test, t_tv, t_test = train_test_split(X, t, test_size=1500/8000, random_state=1)\n",
        "\n",
        "# Then, use `train_test_split` to split the training+validation data\n",
        "# into 5000 train and 1500 validation\n",
        "X_train, X_valid, t_train, t_valid = train_test_split(X_tv, t_tv, test_size=1500/6500, random_state=1)\n"
      ]
    },
    {
      "cell_type": "markdown",
      "id": "8d36070b",
      "metadata": {
        "id": "8d36070b"
      },
      "source": [
        "**Task**: For some models, normalizing the input features can yield a\n",
        "marked improvement in the performance (accuracy).\n",
        "Explain why normalizing our features will likely *not* improve a\n",
        "decision tree classifier.\n",
        "\n",
        "Your explanation serves as justification for *not* normalizing our features before continuing."
      ]
    },
    {
      "cell_type": "code",
      "execution_count": 92,
      "id": "ed14df96",
      "metadata": {
        "id": "ed14df96"
      },
      "outputs": [],
      "source": [
        "# TODO\n",
        "# Decision trees split on feature thresholds rather than distances or magnitudes.\n",
        "# Scaling or normalizing the features does not change the split points or\n",
        "# feature importance, so normalization provides no benefit."
      ]
    },
    {
      "cell_type": "markdown",
      "id": "3aa4df3a",
      "metadata": {
        "id": "3aa4df3a"
      },
      "source": [
        "## Part 2. Using `sklearn` to Implement and Visualize Decision Trees\n",
        "\n",
        "One advantage of decision trees over other models is that they are easy\n",
        "to interpret and visualize. The function `visualize_tree` below can be used to plot an `sklearn` decision tree model in your Colab Notebook."
      ]
    },
    {
      "cell_type": "code",
      "execution_count": 93,
      "id": "abc1db0c",
      "metadata": {
        "id": "abc1db0c"
      },
      "outputs": [],
      "source": [
        "from sklearn.tree import DecisionTreeClassifier\n",
        "\n",
        "# imports to visualize tree\n",
        "from sklearn import tree as treeViz\n",
        "import graphviz\n",
        "import pydotplus\n",
        "from IPython.display import display"
      ]
    },
    {
      "cell_type": "code",
      "execution_count": 94,
      "id": "dc7a8be0",
      "metadata": {
        "id": "dc7a8be0"
      },
      "outputs": [],
      "source": [
        "def visualize_tree(model, max_depth=5):\n",
        "    \"\"\"\n",
        "    Generate and return an image representing an Sklearn decision tree.\n",
        "\n",
        "    Each node in the visualization represents a node in the decision tree.\n",
        "    In addition, visualization for each node contains:\n",
        "        - The feature that is split on\n",
        "        - The entropy (of the outputs `t`) at the node\n",
        "        - The number of training samples at the node\n",
        "        - The number of training samples with true/false values\n",
        "        - The majority class (heart disease or not)\n",
        "    The colour of the node also shows the majority class and purity\n",
        "\n",
        "    See here: https://scikit-learn.org/stable/modules/generated/sklearn.tree.export_graphviz.html\n",
        "\n",
        "    Parameters:\n",
        "        `model` - An Sklearn decision tree model\n",
        "        `max_depth` - Max depth of decision tree to be rendered in the notebook.\n",
        "         This is useful since the tree can get very large if the max_depth is\n",
        "         set too high and thus making the resulting figure difficult to interpret.\n",
        "    \"\"\"\n",
        "    dot_data = treeViz.export_graphviz(model,\n",
        "                                       feature_names=feature_names,\n",
        "                                       max_depth=max_depth,\n",
        "                                       class_names=[\"heart_no\", \"heart_yes\"],\n",
        "                                       filled=True,\n",
        "                                       rounded=True)\n",
        "    return display(graphviz.Source(dot_data))\n"
      ]
    },
    {
      "cell_type": "markdown",
      "id": "4bb8e62e",
      "metadata": {
        "id": "4bb8e62e"
      },
      "source": [
        "Next, we will use sklearn's `DecisionTreeClassifier` to create some decision trees to fit to our data.\n",
        "\n",
        "**Task:** Fit a `DecisionTreeClassifier` to our dataset. Use `entropy` to measure the quality of a decision tree split, and set the `max_depth` to 3. Then, print the training and validation scores (accuracy).\n",
        "\n",
        "You might wish to read the sklearn documentation of the class\n",
        " `DecisionTreeClassifier` here: https://scikit-learn.org/stable/modules/generated/sklearn.tree.DecisionTreeClassifier.html"
      ]
    },
    {
      "cell_type": "code",
      "execution_count": 95,
      "id": "d25055a4",
      "metadata": {
        "id": "d25055a4",
        "outputId": "9b32352b-003a-4a10-c0c4-b8779ead640c",
        "colab": {
          "base_uri": "https://localhost:8080/"
        }
      },
      "outputs": [
        {
          "output_type": "stream",
          "name": "stdout",
          "text": [
            "Training Accuracy: 0.7152\n",
            "Validation Accuracy: 0.7193333333333334\n"
          ]
        }
      ],
      "source": [
        "# Creating a DecisionTreeClassifier\n",
        "tree = DecisionTreeClassifier(criterion=\"entropy\", max_depth=3)\n",
        "\n",
        "# TODO: fit it to our data\n",
        "X = data_fets\n",
        "t = np.array(data[\"target_heart\"])\n",
        "\n",
        "tree.fit(X_train, t_train)\n",
        "\n",
        "# Print the training and validation scores (accuracy)\n",
        "print(\"Training Accuracy:\", tree.score(X_train, t_train))\n",
        "print(\"Validation Accuracy:\", tree.score(X_valid, t_valid))"
      ]
    },
    {
      "cell_type": "markdown",
      "id": "1efbd430",
      "metadata": {
        "id": "1efbd430"
      },
      "source": [
        "**Task:** Use `visualize_tree` to visualize the decision tree that was fit."
      ]
    },
    {
      "cell_type": "code",
      "execution_count": 96,
      "id": "c365ff41",
      "metadata": {
        "id": "c365ff41",
        "outputId": "b15f170b-3a52-4654-ba63-3d92e7699dba",
        "colab": {
          "base_uri": "https://localhost:8080/",
          "height": 618
        }
      },
      "outputs": [
        {
          "output_type": "display_data",
          "data": {
            "image/svg+xml": "<?xml version=\"1.0\" encoding=\"UTF-8\" standalone=\"no\"?>\n<!DOCTYPE svg PUBLIC \"-//W3C//DTD SVG 1.1//EN\"\n \"http://www.w3.org/Graphics/SVG/1.1/DTD/svg11.dtd\">\n<!-- Generated by graphviz version 2.43.0 (0)\n -->\n<!-- Title: Tree Pages: 1 -->\n<svg width=\"1143pt\" height=\"433pt\"\n viewBox=\"0.00 0.00 1142.50 433.00\" xmlns=\"http://www.w3.org/2000/svg\" xmlns:xlink=\"http://www.w3.org/1999/xlink\">\n<g id=\"graph0\" class=\"graph\" transform=\"scale(1 1) rotate(0) translate(4 429)\">\n<title>Tree</title>\n<polygon fill=\"white\" stroke=\"transparent\" points=\"-4,4 -4,-429 1138.5,-429 1138.5,4 -4,4\"/>\n<!-- 0 -->\n<g id=\"node1\" class=\"node\">\n<title>0</title>\n<path fill=\"#fefcfb\" stroke=\"black\" d=\"M636.5,-425C636.5,-425 498.5,-425 498.5,-425 492.5,-425 486.5,-419 486.5,-413 486.5,-413 486.5,-354 486.5,-354 486.5,-348 492.5,-342 498.5,-342 498.5,-342 636.5,-342 636.5,-342 642.5,-342 648.5,-348 648.5,-354 648.5,-354 648.5,-413 648.5,-413 648.5,-419 642.5,-425 636.5,-425\"/>\n<text text-anchor=\"middle\" x=\"567.5\" y=\"-409.8\" font-family=\"Helvetica,sans-Serif\" font-size=\"14.00\">age &lt;= 64.5</text>\n<text text-anchor=\"middle\" x=\"567.5\" y=\"-394.8\" font-family=\"Helvetica,sans-Serif\" font-size=\"14.00\">entropy = 1.0</text>\n<text text-anchor=\"middle\" x=\"567.5\" y=\"-379.8\" font-family=\"Helvetica,sans-Serif\" font-size=\"14.00\">samples = 5000</text>\n<text text-anchor=\"middle\" x=\"567.5\" y=\"-364.8\" font-family=\"Helvetica,sans-Serif\" font-size=\"14.00\">value = [2528.0, 2472.0]</text>\n<text text-anchor=\"middle\" x=\"567.5\" y=\"-349.8\" font-family=\"Helvetica,sans-Serif\" font-size=\"14.00\">class = heart_no</text>\n</g>\n<!-- 1 -->\n<g id=\"node2\" class=\"node\">\n<title>1</title>\n<path fill=\"#f1be98\" stroke=\"black\" d=\"M481,-306C481,-306 350,-306 350,-306 344,-306 338,-300 338,-294 338,-294 338,-235 338,-235 338,-229 344,-223 350,-223 350,-223 481,-223 481,-223 487,-223 493,-229 493,-235 493,-235 493,-294 493,-294 493,-300 487,-306 481,-306\"/>\n<text text-anchor=\"middle\" x=\"415.5\" y=\"-290.8\" font-family=\"Helvetica,sans-Serif\" font-size=\"14.00\">chest_pain &lt;= 0.5</text>\n<text text-anchor=\"middle\" x=\"415.5\" y=\"-275.8\" font-family=\"Helvetica,sans-Serif\" font-size=\"14.00\">entropy = 0.909</text>\n<text text-anchor=\"middle\" x=\"415.5\" y=\"-260.8\" font-family=\"Helvetica,sans-Serif\" font-size=\"14.00\">samples = 2652</text>\n<text text-anchor=\"middle\" x=\"415.5\" y=\"-245.8\" font-family=\"Helvetica,sans-Serif\" font-size=\"14.00\">value = [1791.0, 861.0]</text>\n<text text-anchor=\"middle\" x=\"415.5\" y=\"-230.8\" font-family=\"Helvetica,sans-Serif\" font-size=\"14.00\">class = heart_no</text>\n</g>\n<!-- 0&#45;&gt;1 -->\n<g id=\"edge1\" class=\"edge\">\n<title>0&#45;&gt;1</title>\n<path fill=\"none\" stroke=\"black\" d=\"M514.76,-341.91C502.38,-332.38 489.09,-322.15 476.39,-312.37\"/>\n<polygon fill=\"black\" stroke=\"black\" points=\"478.2,-309.35 468.14,-306.02 473.93,-314.89 478.2,-309.35\"/>\n<text text-anchor=\"middle\" x=\"471.37\" y=\"-327.11\" font-family=\"Helvetica,sans-Serif\" font-size=\"14.00\">True</text>\n</g>\n<!-- 8 -->\n<g id=\"node9\" class=\"node\">\n<title>8</title>\n<path fill=\"#94caf1\" stroke=\"black\" d=\"M753.5,-306C753.5,-306 645.5,-306 645.5,-306 639.5,-306 633.5,-300 633.5,-294 633.5,-294 633.5,-235 633.5,-235 633.5,-229 639.5,-223 645.5,-223 645.5,-223 753.5,-223 753.5,-223 759.5,-223 765.5,-229 765.5,-235 765.5,-235 765.5,-294 765.5,-294 765.5,-300 759.5,-306 753.5,-306\"/>\n<text text-anchor=\"middle\" x=\"699.5\" y=\"-290.8\" font-family=\"Helvetica,sans-Serif\" font-size=\"14.00\">chest_pain &lt;= 0.5</text>\n<text text-anchor=\"middle\" x=\"699.5\" y=\"-275.8\" font-family=\"Helvetica,sans-Serif\" font-size=\"14.00\">entropy = 0.898</text>\n<text text-anchor=\"middle\" x=\"699.5\" y=\"-260.8\" font-family=\"Helvetica,sans-Serif\" font-size=\"14.00\">samples = 2348</text>\n<text text-anchor=\"middle\" x=\"699.5\" y=\"-245.8\" font-family=\"Helvetica,sans-Serif\" font-size=\"14.00\">value = [737, 1611]</text>\n<text text-anchor=\"middle\" x=\"699.5\" y=\"-230.8\" font-family=\"Helvetica,sans-Serif\" font-size=\"14.00\">class = heart_yes</text>\n</g>\n<!-- 0&#45;&gt;8 -->\n<g id=\"edge8\" class=\"edge\">\n<title>0&#45;&gt;8</title>\n<path fill=\"none\" stroke=\"black\" d=\"M613.3,-341.91C623.84,-332.56 635.15,-322.54 645.99,-312.93\"/>\n<polygon fill=\"black\" stroke=\"black\" points=\"648.62,-315.27 653.78,-306.02 643.98,-310.03 648.62,-315.27\"/>\n<text text-anchor=\"middle\" x=\"652.28\" y=\"-327.28\" font-family=\"Helvetica,sans-Serif\" font-size=\"14.00\">False</text>\n</g>\n<!-- 2 -->\n<g id=\"node3\" class=\"node\">\n<title>2</title>\n<path fill=\"#eca36f\" stroke=\"black\" d=\"M251.5,-187C251.5,-187 143.5,-187 143.5,-187 137.5,-187 131.5,-181 131.5,-175 131.5,-175 131.5,-116 131.5,-116 131.5,-110 137.5,-104 143.5,-104 143.5,-104 251.5,-104 251.5,-104 257.5,-104 263.5,-110 263.5,-116 263.5,-116 263.5,-175 263.5,-175 263.5,-181 257.5,-187 251.5,-187\"/>\n<text text-anchor=\"middle\" x=\"197.5\" y=\"-171.8\" font-family=\"Helvetica,sans-Serif\" font-size=\"14.00\">age &lt;= 47.5</text>\n<text text-anchor=\"middle\" x=\"197.5\" y=\"-156.8\" font-family=\"Helvetica,sans-Serif\" font-size=\"14.00\">entropy = 0.747</text>\n<text text-anchor=\"middle\" x=\"197.5\" y=\"-141.8\" font-family=\"Helvetica,sans-Serif\" font-size=\"14.00\">samples = 1818</text>\n<text text-anchor=\"middle\" x=\"197.5\" y=\"-126.8\" font-family=\"Helvetica,sans-Serif\" font-size=\"14.00\">value = [1431, 387]</text>\n<text text-anchor=\"middle\" x=\"197.5\" y=\"-111.8\" font-family=\"Helvetica,sans-Serif\" font-size=\"14.00\">class = heart_no</text>\n</g>\n<!-- 1&#45;&gt;2 -->\n<g id=\"edge2\" class=\"edge\">\n<title>1&#45;&gt;2</title>\n<path fill=\"none\" stroke=\"black\" d=\"M339.87,-222.91C318.03,-211.19 294.22,-198.41 272.43,-186.72\"/>\n<polygon fill=\"black\" stroke=\"black\" points=\"274.02,-183.6 263.55,-181.95 270.71,-189.76 274.02,-183.6\"/>\n</g>\n<!-- 5 -->\n<g id=\"node6\" class=\"node\">\n<title>5</title>\n<path fill=\"#cfe7f9\" stroke=\"black\" d=\"M466,-187C466,-187 365,-187 365,-187 359,-187 353,-181 353,-175 353,-175 353,-116 353,-116 353,-110 359,-104 365,-104 365,-104 466,-104 466,-104 472,-104 478,-110 478,-116 478,-116 478,-175 478,-175 478,-181 472,-187 466,-187\"/>\n<text text-anchor=\"middle\" x=\"415.5\" y=\"-171.8\" font-family=\"Helvetica,sans-Serif\" font-size=\"14.00\">age &lt;= 56.5</text>\n<text text-anchor=\"middle\" x=\"415.5\" y=\"-156.8\" font-family=\"Helvetica,sans-Serif\" font-size=\"14.00\">entropy = 0.986</text>\n<text text-anchor=\"middle\" x=\"415.5\" y=\"-141.8\" font-family=\"Helvetica,sans-Serif\" font-size=\"14.00\">samples = 834</text>\n<text text-anchor=\"middle\" x=\"415.5\" y=\"-126.8\" font-family=\"Helvetica,sans-Serif\" font-size=\"14.00\">value = [360, 474]</text>\n<text text-anchor=\"middle\" x=\"415.5\" y=\"-111.8\" font-family=\"Helvetica,sans-Serif\" font-size=\"14.00\">class = heart_yes</text>\n</g>\n<!-- 1&#45;&gt;5 -->\n<g id=\"edge5\" class=\"edge\">\n<title>1&#45;&gt;5</title>\n<path fill=\"none\" stroke=\"black\" d=\"M415.5,-222.91C415.5,-214.65 415.5,-205.86 415.5,-197.3\"/>\n<polygon fill=\"black\" stroke=\"black\" points=\"419,-197.02 415.5,-187.02 412,-197.02 419,-197.02\"/>\n</g>\n<!-- 3 -->\n<g id=\"node4\" class=\"node\">\n<title>3</title>\n<path fill=\"#e68641\" stroke=\"black\" d=\"M105,-68C105,-68 12,-68 12,-68 6,-68 0,-62 0,-56 0,-56 0,-12 0,-12 0,-6 6,0 12,0 12,0 105,0 105,0 111,0 117,-6 117,-12 117,-12 117,-56 117,-56 117,-62 111,-68 105,-68\"/>\n<text text-anchor=\"middle\" x=\"58.5\" y=\"-52.8\" font-family=\"Helvetica,sans-Serif\" font-size=\"14.00\">entropy = 0.232</text>\n<text text-anchor=\"middle\" x=\"58.5\" y=\"-37.8\" font-family=\"Helvetica,sans-Serif\" font-size=\"14.00\">samples = 529</text>\n<text text-anchor=\"middle\" x=\"58.5\" y=\"-22.8\" font-family=\"Helvetica,sans-Serif\" font-size=\"14.00\">value = [509, 20]</text>\n<text text-anchor=\"middle\" x=\"58.5\" y=\"-7.8\" font-family=\"Helvetica,sans-Serif\" font-size=\"14.00\">class = heart_no</text>\n</g>\n<!-- 2&#45;&gt;3 -->\n<g id=\"edge3\" class=\"edge\">\n<title>2&#45;&gt;3</title>\n<path fill=\"none\" stroke=\"black\" d=\"M145.74,-103.73C133.7,-94.24 120.9,-84.16 108.92,-74.72\"/>\n<polygon fill=\"black\" stroke=\"black\" points=\"110.79,-71.74 100.77,-68.3 106.46,-77.24 110.79,-71.74\"/>\n</g>\n<!-- 4 -->\n<g id=\"node5\" class=\"node\">\n<title>4</title>\n<path fill=\"#efb388\" stroke=\"black\" d=\"M248,-68C248,-68 147,-68 147,-68 141,-68 135,-62 135,-56 135,-56 135,-12 135,-12 135,-6 141,0 147,0 147,0 248,0 248,0 254,0 260,-6 260,-12 260,-12 260,-56 260,-56 260,-62 254,-68 248,-68\"/>\n<text text-anchor=\"middle\" x=\"197.5\" y=\"-52.8\" font-family=\"Helvetica,sans-Serif\" font-size=\"14.00\">entropy = 0.862</text>\n<text text-anchor=\"middle\" x=\"197.5\" y=\"-37.8\" font-family=\"Helvetica,sans-Serif\" font-size=\"14.00\">samples = 1289</text>\n<text text-anchor=\"middle\" x=\"197.5\" y=\"-22.8\" font-family=\"Helvetica,sans-Serif\" font-size=\"14.00\">value = [922, 367]</text>\n<text text-anchor=\"middle\" x=\"197.5\" y=\"-7.8\" font-family=\"Helvetica,sans-Serif\" font-size=\"14.00\">class = heart_no</text>\n</g>\n<!-- 2&#45;&gt;4 -->\n<g id=\"edge4\" class=\"edge\">\n<title>2&#45;&gt;4</title>\n<path fill=\"none\" stroke=\"black\" d=\"M197.5,-103.73C197.5,-95.52 197.5,-86.86 197.5,-78.56\"/>\n<polygon fill=\"black\" stroke=\"black\" points=\"201,-78.3 197.5,-68.3 194,-78.3 201,-78.3\"/>\n</g>\n<!-- 6 -->\n<g id=\"node7\" class=\"node\">\n<title>6</title>\n<path fill=\"#fae6d7\" stroke=\"black\" d=\"M391,-68C391,-68 290,-68 290,-68 284,-68 278,-62 278,-56 278,-56 278,-12 278,-12 278,-6 284,0 290,0 290,0 391,0 391,0 397,0 403,-6 403,-12 403,-12 403,-56 403,-56 403,-62 397,-68 391,-68\"/>\n<text text-anchor=\"middle\" x=\"340.5\" y=\"-52.8\" font-family=\"Helvetica,sans-Serif\" font-size=\"14.00\">entropy = 0.991</text>\n<text text-anchor=\"middle\" x=\"340.5\" y=\"-37.8\" font-family=\"Helvetica,sans-Serif\" font-size=\"14.00\">samples = 448</text>\n<text text-anchor=\"middle\" x=\"340.5\" y=\"-22.8\" font-family=\"Helvetica,sans-Serif\" font-size=\"14.00\">value = [249, 199]</text>\n<text text-anchor=\"middle\" x=\"340.5\" y=\"-7.8\" font-family=\"Helvetica,sans-Serif\" font-size=\"14.00\">class = heart_no</text>\n</g>\n<!-- 5&#45;&gt;6 -->\n<g id=\"edge6\" class=\"edge\">\n<title>5&#45;&gt;6</title>\n<path fill=\"none\" stroke=\"black\" d=\"M387.57,-103.73C381.51,-94.88 375.1,-85.51 369.01,-76.63\"/>\n<polygon fill=\"black\" stroke=\"black\" points=\"371.85,-74.57 363.31,-68.3 366.07,-78.53 371.85,-74.57\"/>\n</g>\n<!-- 7 -->\n<g id=\"node8\" class=\"node\">\n<title>7</title>\n<path fill=\"#89c5ef\" stroke=\"black\" d=\"M556,-68C556,-68 433,-68 433,-68 427,-68 421,-62 421,-56 421,-56 421,-12 421,-12 421,-6 427,0 433,0 433,0 556,0 556,0 562,0 568,-6 568,-12 568,-12 568,-56 568,-56 568,-62 562,-68 556,-68\"/>\n<text text-anchor=\"middle\" x=\"494.5\" y=\"-52.8\" font-family=\"Helvetica,sans-Serif\" font-size=\"14.00\">entropy = 0.866</text>\n<text text-anchor=\"middle\" x=\"494.5\" y=\"-37.8\" font-family=\"Helvetica,sans-Serif\" font-size=\"14.00\">samples = 386</text>\n<text text-anchor=\"middle\" x=\"494.5\" y=\"-22.8\" font-family=\"Helvetica,sans-Serif\" font-size=\"14.00\">value = [111.0, 275.0]</text>\n<text text-anchor=\"middle\" x=\"494.5\" y=\"-7.8\" font-family=\"Helvetica,sans-Serif\" font-size=\"14.00\">class = heart_yes</text>\n</g>\n<!-- 5&#45;&gt;7 -->\n<g id=\"edge7\" class=\"edge\">\n<title>5&#45;&gt;7</title>\n<path fill=\"none\" stroke=\"black\" d=\"M444.92,-103.73C451.3,-94.88 458.06,-85.51 464.47,-76.63\"/>\n<polygon fill=\"black\" stroke=\"black\" points=\"467.46,-78.46 470.48,-68.3 461.79,-74.36 467.46,-78.46\"/>\n</g>\n<!-- 9 -->\n<g id=\"node10\" class=\"node\">\n<title>9</title>\n<path fill=\"#c8e4f8\" stroke=\"black\" d=\"M761,-187C761,-187 638,-187 638,-187 632,-187 626,-181 626,-175 626,-175 626,-116 626,-116 626,-110 632,-104 638,-104 638,-104 761,-104 761,-104 767,-104 773,-110 773,-116 773,-116 773,-175 773,-175 773,-181 767,-187 761,-187\"/>\n<text text-anchor=\"middle\" x=\"699.5\" y=\"-171.8\" font-family=\"Helvetica,sans-Serif\" font-size=\"14.00\">age &lt;= 77.5</text>\n<text text-anchor=\"middle\" x=\"699.5\" y=\"-156.8\" font-family=\"Helvetica,sans-Serif\" font-size=\"14.00\">entropy = 0.981</text>\n<text text-anchor=\"middle\" x=\"699.5\" y=\"-141.8\" font-family=\"Helvetica,sans-Serif\" font-size=\"14.00\">samples = 1465</text>\n<text text-anchor=\"middle\" x=\"699.5\" y=\"-126.8\" font-family=\"Helvetica,sans-Serif\" font-size=\"14.00\">value = [614.0, 851.0]</text>\n<text text-anchor=\"middle\" x=\"699.5\" y=\"-111.8\" font-family=\"Helvetica,sans-Serif\" font-size=\"14.00\">class = heart_yes</text>\n</g>\n<!-- 8&#45;&gt;9 -->\n<g id=\"edge9\" class=\"edge\">\n<title>8&#45;&gt;9</title>\n<path fill=\"none\" stroke=\"black\" d=\"M699.5,-222.91C699.5,-214.65 699.5,-205.86 699.5,-197.3\"/>\n<polygon fill=\"black\" stroke=\"black\" points=\"703,-197.02 699.5,-187.02 696,-197.02 703,-197.02\"/>\n</g>\n<!-- 12 -->\n<g id=\"node13\" class=\"node\">\n<title>12</title>\n<path fill=\"#59ade9\" stroke=\"black\" d=\"M1011.5,-187C1011.5,-187 855.5,-187 855.5,-187 849.5,-187 843.5,-181 843.5,-175 843.5,-175 843.5,-116 843.5,-116 843.5,-110 849.5,-104 855.5,-104 855.5,-104 1011.5,-104 1011.5,-104 1017.5,-104 1023.5,-110 1023.5,-116 1023.5,-116 1023.5,-175 1023.5,-175 1023.5,-181 1017.5,-187 1011.5,-187\"/>\n<text text-anchor=\"middle\" x=\"933.5\" y=\"-171.8\" font-family=\"Helvetica,sans-Serif\" font-size=\"14.00\">blood_cholesterol &lt;= 3.605</text>\n<text text-anchor=\"middle\" x=\"933.5\" y=\"-156.8\" font-family=\"Helvetica,sans-Serif\" font-size=\"14.00\">entropy = 0.582</text>\n<text text-anchor=\"middle\" x=\"933.5\" y=\"-141.8\" font-family=\"Helvetica,sans-Serif\" font-size=\"14.00\">samples = 883</text>\n<text text-anchor=\"middle\" x=\"933.5\" y=\"-126.8\" font-family=\"Helvetica,sans-Serif\" font-size=\"14.00\">value = [123.0, 760.0]</text>\n<text text-anchor=\"middle\" x=\"933.5\" y=\"-111.8\" font-family=\"Helvetica,sans-Serif\" font-size=\"14.00\">class = heart_yes</text>\n</g>\n<!-- 8&#45;&gt;12 -->\n<g id=\"edge12\" class=\"edge\">\n<title>8&#45;&gt;12</title>\n<path fill=\"none\" stroke=\"black\" d=\"M765.62,-230.44C789.67,-218.41 817.3,-204.6 843.1,-191.7\"/>\n<polygon fill=\"black\" stroke=\"black\" points=\"844.76,-194.78 852.14,-187.18 841.63,-188.52 844.76,-194.78\"/>\n</g>\n<!-- 10 -->\n<g id=\"node11\" class=\"node\">\n<title>10</title>\n<path fill=\"#fefcfb\" stroke=\"black\" d=\"M699,-68C699,-68 598,-68 598,-68 592,-68 586,-62 586,-56 586,-56 586,-12 586,-12 586,-6 592,0 598,0 598,0 699,0 699,0 705,0 711,-6 711,-12 711,-12 711,-56 711,-56 711,-62 705,-68 699,-68\"/>\n<text text-anchor=\"middle\" x=\"648.5\" y=\"-52.8\" font-family=\"Helvetica,sans-Serif\" font-size=\"14.00\">entropy = 1.0</text>\n<text text-anchor=\"middle\" x=\"648.5\" y=\"-37.8\" font-family=\"Helvetica,sans-Serif\" font-size=\"14.00\">samples = 936</text>\n<text text-anchor=\"middle\" x=\"648.5\" y=\"-22.8\" font-family=\"Helvetica,sans-Serif\" font-size=\"14.00\">value = [473, 463]</text>\n<text text-anchor=\"middle\" x=\"648.5\" y=\"-7.8\" font-family=\"Helvetica,sans-Serif\" font-size=\"14.00\">class = heart_no</text>\n</g>\n<!-- 9&#45;&gt;10 -->\n<g id=\"edge10\" class=\"edge\">\n<title>9&#45;&gt;10</title>\n<path fill=\"none\" stroke=\"black\" d=\"M680.51,-103.73C676.52,-95.15 672.29,-86.09 668.27,-77.46\"/>\n<polygon fill=\"black\" stroke=\"black\" points=\"671.4,-75.89 664.01,-68.3 665.06,-78.84 671.4,-75.89\"/>\n</g>\n<!-- 11 -->\n<g id=\"node12\" class=\"node\">\n<title>11</title>\n<path fill=\"#81c1ee\" stroke=\"black\" d=\"M842,-68C842,-68 741,-68 741,-68 735,-68 729,-62 729,-56 729,-56 729,-12 729,-12 729,-6 735,0 741,0 741,0 842,0 842,0 848,0 854,-6 854,-12 854,-12 854,-56 854,-56 854,-62 848,-68 842,-68\"/>\n<text text-anchor=\"middle\" x=\"791.5\" y=\"-52.8\" font-family=\"Helvetica,sans-Serif\" font-size=\"14.00\">entropy = 0.836</text>\n<text text-anchor=\"middle\" x=\"791.5\" y=\"-37.8\" font-family=\"Helvetica,sans-Serif\" font-size=\"14.00\">samples = 529</text>\n<text text-anchor=\"middle\" x=\"791.5\" y=\"-22.8\" font-family=\"Helvetica,sans-Serif\" font-size=\"14.00\">value = [141, 388]</text>\n<text text-anchor=\"middle\" x=\"791.5\" y=\"-7.8\" font-family=\"Helvetica,sans-Serif\" font-size=\"14.00\">class = heart_yes</text>\n</g>\n<!-- 9&#45;&gt;11 -->\n<g id=\"edge11\" class=\"edge\">\n<title>9&#45;&gt;11</title>\n<path fill=\"none\" stroke=\"black\" d=\"M733.76,-103.73C741.34,-94.7 749.39,-85.12 756.98,-76.08\"/>\n<polygon fill=\"black\" stroke=\"black\" points=\"759.77,-78.21 763.52,-68.3 754.41,-73.7 759.77,-78.21\"/>\n</g>\n<!-- 13 -->\n<g id=\"node14\" class=\"node\">\n<title>13</title>\n<path fill=\"#bddef6\" stroke=\"black\" d=\"M982.5,-68C982.5,-68 884.5,-68 884.5,-68 878.5,-68 872.5,-62 872.5,-56 872.5,-56 872.5,-12 872.5,-12 872.5,-6 878.5,0 884.5,0 884.5,0 982.5,0 982.5,0 988.5,0 994.5,-6 994.5,-12 994.5,-12 994.5,-56 994.5,-56 994.5,-62 988.5,-68 982.5,-68\"/>\n<text text-anchor=\"middle\" x=\"933.5\" y=\"-52.8\" font-family=\"Helvetica,sans-Serif\" font-size=\"14.00\">entropy = 0.971</text>\n<text text-anchor=\"middle\" x=\"933.5\" y=\"-37.8\" font-family=\"Helvetica,sans-Serif\" font-size=\"14.00\">samples = 60</text>\n<text text-anchor=\"middle\" x=\"933.5\" y=\"-22.8\" font-family=\"Helvetica,sans-Serif\" font-size=\"14.00\">value = [24, 36]</text>\n<text text-anchor=\"middle\" x=\"933.5\" y=\"-7.8\" font-family=\"Helvetica,sans-Serif\" font-size=\"14.00\">class = heart_yes</text>\n</g>\n<!-- 12&#45;&gt;13 -->\n<g id=\"edge13\" class=\"edge\">\n<title>12&#45;&gt;13</title>\n<path fill=\"none\" stroke=\"black\" d=\"M933.5,-103.73C933.5,-95.52 933.5,-86.86 933.5,-78.56\"/>\n<polygon fill=\"black\" stroke=\"black\" points=\"937,-78.3 933.5,-68.3 930,-78.3 937,-78.3\"/>\n</g>\n<!-- 14 -->\n<g id=\"node15\" class=\"node\">\n<title>14</title>\n<path fill=\"#54aae9\" stroke=\"black\" d=\"M1122.5,-68C1122.5,-68 1024.5,-68 1024.5,-68 1018.5,-68 1012.5,-62 1012.5,-56 1012.5,-56 1012.5,-12 1012.5,-12 1012.5,-6 1018.5,0 1024.5,0 1024.5,0 1122.5,0 1122.5,0 1128.5,0 1134.5,-6 1134.5,-12 1134.5,-12 1134.5,-56 1134.5,-56 1134.5,-62 1128.5,-68 1122.5,-68\"/>\n<text text-anchor=\"middle\" x=\"1073.5\" y=\"-52.8\" font-family=\"Helvetica,sans-Serif\" font-size=\"14.00\">entropy = 0.53</text>\n<text text-anchor=\"middle\" x=\"1073.5\" y=\"-37.8\" font-family=\"Helvetica,sans-Serif\" font-size=\"14.00\">samples = 823</text>\n<text text-anchor=\"middle\" x=\"1073.5\" y=\"-22.8\" font-family=\"Helvetica,sans-Serif\" font-size=\"14.00\">value = [99, 724]</text>\n<text text-anchor=\"middle\" x=\"1073.5\" y=\"-7.8\" font-family=\"Helvetica,sans-Serif\" font-size=\"14.00\">class = heart_yes</text>\n</g>\n<!-- 12&#45;&gt;14 -->\n<g id=\"edge14\" class=\"edge\">\n<title>12&#45;&gt;14</title>\n<path fill=\"none\" stroke=\"black\" d=\"M985.63,-103.73C997.76,-94.24 1010.65,-84.16 1022.72,-74.72\"/>\n<polygon fill=\"black\" stroke=\"black\" points=\"1025.2,-77.22 1030.93,-68.3 1020.89,-71.7 1025.2,-77.22\"/>\n</g>\n</g>\n</svg>\n",
            "text/plain": [
              "<graphviz.sources.Source at 0x7874f42d3a10>"
            ]
          },
          "metadata": {}
        }
      ],
      "source": [
        "# TODO: call visualize_tree on the tree that was fit\n",
        "visualize_tree(tree, max_depth=3)  # same max_depth as your fitted tree"
      ]
    },
    {
      "cell_type": "markdown",
      "id": "13202256",
      "metadata": {
        "id": "13202256"
      },
      "source": [
        "If this is done correctly, you should see your decision tree rendered above in your notebook.\n",
        "\n",
        "Let's try to interpret the decision tree we just generated!\n",
        "\n",
        "**Task:** Using the decision tree you generated above, classify the training example `X_train[5]` by hand.\n",
        "In your write up, determine the set of nodes in the decision tree that we must visit to classify this training example."
      ]
    },
    {
      "cell_type": "code",
      "execution_count": 97,
      "id": "5d7a58a8",
      "metadata": {
        "id": "5d7a58a8",
        "outputId": "4aae5ab5-b954-4ad1-ced8-5b163aac1594",
        "colab": {
          "base_uri": "https://localhost:8080/"
        }
      },
      "outputs": [
        {
          "output_type": "stream",
          "name": "stdout",
          "text": [
            "{'gender_female': np.float64(1.0), 're_hispanic': np.float64(1.0), 're_white': np.float64(0.0), 're_black': np.float64(0.0), 're_asian': np.float64(0.0), 'chest_pain': np.float64(1.0), 'drink_alcohol': np.float64(0.0), 'age': np.float64(44.0), 'blood_cholesterol': np.float64(2.9), 'BMI': np.float64(18.8), 'blood_pressure_sys': np.float64(96.0), 'diastolic_bp': np.float64(58.0), 'calories': np.float64(2588.0), 'family_income': np.float64(0.81)}\n"
          ]
        }
      ],
      "source": [
        "# TODO: Perform the classification of this data point by hand\n",
        "print(dict(zip(feature_names, X_train[5])))\n",
        "\n",
        "# 1. Root node -> age <= 64.5, yes, go left\n",
        "# 2. Node 2 -> chest_pain <= 0.5, no, go right\n",
        "# 3. Node 3. -> age <= 56.5, yes, go left\n",
        "# 4. Leaf node -> predict class, heart_no\n",
        "# This data point is predicted to not have heart disease\n"
      ]
    },
    {
      "cell_type": "markdown",
      "id": "03ece326",
      "metadata": {
        "id": "03ece326"
      },
      "source": [
        "We will now explore some hyperparameter choices that may cause our decision tree to underfit or overfit our data. Recall that overfitting means that, while our model may accurately capture relationships between inputs and our classification target in training data, it may not capture such relationships in the validation data. By contrast, underfitting occurs when our model lacks the complexity to model relationships in either training or validation data.  \n",
        "\n",
        "**Task:** Similar to what you did above, create another `DecisionTreeClassifier` that uses `entropy` to measure the quality of a split. Set the `max_depth` to a value that will cause the tree to *underfit*. Report the accuracy on the validation and training sets. Visualize the tree by calling `visualize_tree`."
      ]
    },
    {
      "cell_type": "code",
      "execution_count": 98,
      "id": "29d1e5ad",
      "metadata": {
        "id": "29d1e5ad",
        "outputId": "316c2ee6-9431-4cdc-e417-8181e100b638",
        "colab": {
          "base_uri": "https://localhost:8080/",
          "height": 317
        }
      },
      "outputs": [
        {
          "output_type": "stream",
          "name": "stdout",
          "text": [
            "Training Accuracy: 0.7152\n",
            "Validation Accuracy: 0.7193333333333334\n"
          ]
        },
        {
          "output_type": "display_data",
          "data": {
            "image/svg+xml": "<?xml version=\"1.0\" encoding=\"UTF-8\" standalone=\"no\"?>\n<!DOCTYPE svg PUBLIC \"-//W3C//DTD SVG 1.1//EN\"\n \"http://www.w3.org/Graphics/SVG/1.1/DTD/svg11.dtd\">\n<!-- Generated by graphviz version 2.43.0 (0)\n -->\n<!-- Title: Tree Pages: 1 -->\n<svg width=\"314pt\" height=\"195pt\"\n viewBox=\"0.00 0.00 313.50 195.00\" xmlns=\"http://www.w3.org/2000/svg\" xmlns:xlink=\"http://www.w3.org/1999/xlink\">\n<g id=\"graph0\" class=\"graph\" transform=\"scale(1 1) rotate(0) translate(4 191)\">\n<title>Tree</title>\n<polygon fill=\"white\" stroke=\"transparent\" points=\"-4,4 -4,-191 309.5,-191 309.5,4 -4,4\"/>\n<!-- 0 -->\n<g id=\"node1\" class=\"node\">\n<title>0</title>\n<path fill=\"#fefcfb\" stroke=\"black\" d=\"M227.5,-187C227.5,-187 89.5,-187 89.5,-187 83.5,-187 77.5,-181 77.5,-175 77.5,-175 77.5,-116 77.5,-116 77.5,-110 83.5,-104 89.5,-104 89.5,-104 227.5,-104 227.5,-104 233.5,-104 239.5,-110 239.5,-116 239.5,-116 239.5,-175 239.5,-175 239.5,-181 233.5,-187 227.5,-187\"/>\n<text text-anchor=\"middle\" x=\"158.5\" y=\"-171.8\" font-family=\"Helvetica,sans-Serif\" font-size=\"14.00\">age &lt;= 64.5</text>\n<text text-anchor=\"middle\" x=\"158.5\" y=\"-156.8\" font-family=\"Helvetica,sans-Serif\" font-size=\"14.00\">entropy = 1.0</text>\n<text text-anchor=\"middle\" x=\"158.5\" y=\"-141.8\" font-family=\"Helvetica,sans-Serif\" font-size=\"14.00\">samples = 5000</text>\n<text text-anchor=\"middle\" x=\"158.5\" y=\"-126.8\" font-family=\"Helvetica,sans-Serif\" font-size=\"14.00\">value = [2528.0, 2472.0]</text>\n<text text-anchor=\"middle\" x=\"158.5\" y=\"-111.8\" font-family=\"Helvetica,sans-Serif\" font-size=\"14.00\">class = heart_no</text>\n</g>\n<!-- 1 -->\n<g id=\"node2\" class=\"node\">\n<title>1</title>\n<path fill=\"#f1be98\" stroke=\"black\" d=\"M143,-68C143,-68 12,-68 12,-68 6,-68 0,-62 0,-56 0,-56 0,-12 0,-12 0,-6 6,0 12,0 12,0 143,0 143,0 149,0 155,-6 155,-12 155,-12 155,-56 155,-56 155,-62 149,-68 143,-68\"/>\n<text text-anchor=\"middle\" x=\"77.5\" y=\"-52.8\" font-family=\"Helvetica,sans-Serif\" font-size=\"14.00\">entropy = 0.909</text>\n<text text-anchor=\"middle\" x=\"77.5\" y=\"-37.8\" font-family=\"Helvetica,sans-Serif\" font-size=\"14.00\">samples = 2652</text>\n<text text-anchor=\"middle\" x=\"77.5\" y=\"-22.8\" font-family=\"Helvetica,sans-Serif\" font-size=\"14.00\">value = [1791.0, 861.0]</text>\n<text text-anchor=\"middle\" x=\"77.5\" y=\"-7.8\" font-family=\"Helvetica,sans-Serif\" font-size=\"14.00\">class = heart_no</text>\n</g>\n<!-- 0&#45;&gt;1 -->\n<g id=\"edge1\" class=\"edge\">\n<title>0&#45;&gt;1</title>\n<path fill=\"none\" stroke=\"black\" d=\"M128.34,-103.73C121.73,-94.79 114.72,-85.32 108.09,-76.36\"/>\n<polygon fill=\"black\" stroke=\"black\" points=\"110.89,-74.26 102.13,-68.3 105.27,-78.42 110.89,-74.26\"/>\n<text text-anchor=\"middle\" x=\"98.43\" y=\"-89.32\" font-family=\"Helvetica,sans-Serif\" font-size=\"14.00\">True</text>\n</g>\n<!-- 2 -->\n<g id=\"node3\" class=\"node\">\n<title>2</title>\n<path fill=\"#94caf1\" stroke=\"black\" d=\"M293.5,-68C293.5,-68 185.5,-68 185.5,-68 179.5,-68 173.5,-62 173.5,-56 173.5,-56 173.5,-12 173.5,-12 173.5,-6 179.5,0 185.5,0 185.5,0 293.5,0 293.5,0 299.5,0 305.5,-6 305.5,-12 305.5,-12 305.5,-56 305.5,-56 305.5,-62 299.5,-68 293.5,-68\"/>\n<text text-anchor=\"middle\" x=\"239.5\" y=\"-52.8\" font-family=\"Helvetica,sans-Serif\" font-size=\"14.00\">entropy = 0.898</text>\n<text text-anchor=\"middle\" x=\"239.5\" y=\"-37.8\" font-family=\"Helvetica,sans-Serif\" font-size=\"14.00\">samples = 2348</text>\n<text text-anchor=\"middle\" x=\"239.5\" y=\"-22.8\" font-family=\"Helvetica,sans-Serif\" font-size=\"14.00\">value = [737, 1611]</text>\n<text text-anchor=\"middle\" x=\"239.5\" y=\"-7.8\" font-family=\"Helvetica,sans-Serif\" font-size=\"14.00\">class = heart_yes</text>\n</g>\n<!-- 0&#45;&gt;2 -->\n<g id=\"edge2\" class=\"edge\">\n<title>0&#45;&gt;2</title>\n<path fill=\"none\" stroke=\"black\" d=\"M188.66,-103.73C195.27,-94.79 202.28,-85.32 208.91,-76.36\"/>\n<polygon fill=\"black\" stroke=\"black\" points=\"211.73,-78.42 214.87,-68.3 206.11,-74.26 211.73,-78.42\"/>\n<text text-anchor=\"middle\" x=\"218.57\" y=\"-89.32\" font-family=\"Helvetica,sans-Serif\" font-size=\"14.00\">False</text>\n</g>\n</g>\n</svg>\n",
            "text/plain": [
              "<graphviz.sources.Source at 0x7874f1587830>"
            ]
          },
          "metadata": {}
        }
      ],
      "source": [
        "# TODO: create a DecisionTreeClassifier\n",
        "underfit_tree = DecisionTreeClassifier(criterion=\"entropy\", max_depth=1)\n",
        "\n",
        "# TODO: fit it to our data\n",
        "underfit_tree.fit(X_train, t_train)\n",
        "\n",
        "# Print the training and validation accuracy\n",
        "print(\"Training Accuracy:\", tree.score(X_train, t_train))\n",
        "print(\"Validation Accuracy:\", tree.score(X_valid, t_valid))\n",
        "\n",
        "# TODO: visualize the tree\n",
        "visualize_tree(underfit_tree)\n"
      ]
    },
    {
      "cell_type": "markdown",
      "id": "02fdc6e1",
      "metadata": {
        "id": "02fdc6e1"
      },
      "source": [
        "**Task:** Repeat the same computation as above, but set the `max_depth` to a value that will cause the tree to *overfit*. When using `visualize_tree` to visualize the tree, leave the default max depth parameter as 5."
      ]
    },
    {
      "cell_type": "code",
      "execution_count": 99,
      "id": "7e9a7ff0",
      "metadata": {
        "id": "7e9a7ff0",
        "outputId": "f0b370b1-bc37-4279-c2af-506a869ea834",
        "colab": {
          "base_uri": "https://localhost:8080/",
          "height": 1000
        }
      },
      "outputs": [
        {
          "output_type": "stream",
          "name": "stdout",
          "text": [
            "Training Accuracy: 1.0\n",
            "Validation Accuracy: 0.9646666666666667\n"
          ]
        },
        {
          "output_type": "display_data",
          "data": {
            "image/svg+xml": "<?xml version=\"1.0\" encoding=\"UTF-8\" standalone=\"no\"?>\n<!DOCTYPE svg PUBLIC \"-//W3C//DTD SVG 1.1//EN\"\n \"http://www.w3.org/Graphics/SVG/1.1/DTD/svg11.dtd\">\n<!-- Generated by graphviz version 2.43.0 (0)\n -->\n<!-- Title: Tree Pages: 1 -->\n<svg width=\"4352pt\" height=\"758pt\"\n viewBox=\"0.00 0.00 4352.00 758.00\" xmlns=\"http://www.w3.org/2000/svg\" xmlns:xlink=\"http://www.w3.org/1999/xlink\">\n<g id=\"graph0\" class=\"graph\" transform=\"scale(1 1) rotate(0) translate(4 754)\">\n<title>Tree</title>\n<polygon fill=\"white\" stroke=\"transparent\" points=\"-4,4 -4,-754 4348,-754 4348,4 -4,4\"/>\n<!-- 0 -->\n<g id=\"node1\" class=\"node\">\n<title>0</title>\n<path fill=\"#fefcfb\" stroke=\"black\" d=\"M2384.5,-750C2384.5,-750 2246.5,-750 2246.5,-750 2240.5,-750 2234.5,-744 2234.5,-738 2234.5,-738 2234.5,-679 2234.5,-679 2234.5,-673 2240.5,-667 2246.5,-667 2246.5,-667 2384.5,-667 2384.5,-667 2390.5,-667 2396.5,-673 2396.5,-679 2396.5,-679 2396.5,-738 2396.5,-738 2396.5,-744 2390.5,-750 2384.5,-750\"/>\n<text text-anchor=\"middle\" x=\"2315.5\" y=\"-734.8\" font-family=\"Helvetica,sans-Serif\" font-size=\"14.00\">age &lt;= 64.5</text>\n<text text-anchor=\"middle\" x=\"2315.5\" y=\"-719.8\" font-family=\"Helvetica,sans-Serif\" font-size=\"14.00\">entropy = 1.0</text>\n<text text-anchor=\"middle\" x=\"2315.5\" y=\"-704.8\" font-family=\"Helvetica,sans-Serif\" font-size=\"14.00\">samples = 5000</text>\n<text text-anchor=\"middle\" x=\"2315.5\" y=\"-689.8\" font-family=\"Helvetica,sans-Serif\" font-size=\"14.00\">value = [2528.0, 2472.0]</text>\n<text text-anchor=\"middle\" x=\"2315.5\" y=\"-674.8\" font-family=\"Helvetica,sans-Serif\" font-size=\"14.00\">class = heart_no</text>\n</g>\n<!-- 1 -->\n<g id=\"node2\" class=\"node\">\n<title>1</title>\n<path fill=\"#f1be98\" stroke=\"black\" d=\"M1757,-631C1757,-631 1626,-631 1626,-631 1620,-631 1614,-625 1614,-619 1614,-619 1614,-560 1614,-560 1614,-554 1620,-548 1626,-548 1626,-548 1757,-548 1757,-548 1763,-548 1769,-554 1769,-560 1769,-560 1769,-619 1769,-619 1769,-625 1763,-631 1757,-631\"/>\n<text text-anchor=\"middle\" x=\"1691.5\" y=\"-615.8\" font-family=\"Helvetica,sans-Serif\" font-size=\"14.00\">chest_pain &lt;= 0.5</text>\n<text text-anchor=\"middle\" x=\"1691.5\" y=\"-600.8\" font-family=\"Helvetica,sans-Serif\" font-size=\"14.00\">entropy = 0.909</text>\n<text text-anchor=\"middle\" x=\"1691.5\" y=\"-585.8\" font-family=\"Helvetica,sans-Serif\" font-size=\"14.00\">samples = 2652</text>\n<text text-anchor=\"middle\" x=\"1691.5\" y=\"-570.8\" font-family=\"Helvetica,sans-Serif\" font-size=\"14.00\">value = [1791.0, 861.0]</text>\n<text text-anchor=\"middle\" x=\"1691.5\" y=\"-555.8\" font-family=\"Helvetica,sans-Serif\" font-size=\"14.00\">class = heart_no</text>\n</g>\n<!-- 0&#45;&gt;1 -->\n<g id=\"edge1\" class=\"edge\">\n<title>0&#45;&gt;1</title>\n<path fill=\"none\" stroke=\"black\" d=\"M2234.24,-692.26C2116.74,-670.23 1900.26,-629.64 1779.24,-606.95\"/>\n<polygon fill=\"black\" stroke=\"black\" points=\"1779.73,-603.48 1769.26,-605.08 1778.44,-610.36 1779.73,-603.48\"/>\n<text text-anchor=\"middle\" x=\"1783.38\" y=\"-622.01\" font-family=\"Helvetica,sans-Serif\" font-size=\"14.00\">True</text>\n</g>\n<!-- 334 -->\n<g id=\"node53\" class=\"node\">\n<title>334</title>\n<path fill=\"#94caf1\" stroke=\"black\" d=\"M2875.5,-631C2875.5,-631 2767.5,-631 2767.5,-631 2761.5,-631 2755.5,-625 2755.5,-619 2755.5,-619 2755.5,-560 2755.5,-560 2755.5,-554 2761.5,-548 2767.5,-548 2767.5,-548 2875.5,-548 2875.5,-548 2881.5,-548 2887.5,-554 2887.5,-560 2887.5,-560 2887.5,-619 2887.5,-619 2887.5,-625 2881.5,-631 2875.5,-631\"/>\n<text text-anchor=\"middle\" x=\"2821.5\" y=\"-615.8\" font-family=\"Helvetica,sans-Serif\" font-size=\"14.00\">chest_pain &lt;= 0.5</text>\n<text text-anchor=\"middle\" x=\"2821.5\" y=\"-600.8\" font-family=\"Helvetica,sans-Serif\" font-size=\"14.00\">entropy = 0.898</text>\n<text text-anchor=\"middle\" x=\"2821.5\" y=\"-585.8\" font-family=\"Helvetica,sans-Serif\" font-size=\"14.00\">samples = 2348</text>\n<text text-anchor=\"middle\" x=\"2821.5\" y=\"-570.8\" font-family=\"Helvetica,sans-Serif\" font-size=\"14.00\">value = [737, 1611]</text>\n<text text-anchor=\"middle\" x=\"2821.5\" y=\"-555.8\" font-family=\"Helvetica,sans-Serif\" font-size=\"14.00\">class = heart_yes</text>\n</g>\n<!-- 0&#45;&gt;334 -->\n<g id=\"edge52\" class=\"edge\">\n<title>0&#45;&gt;334</title>\n<path fill=\"none\" stroke=\"black\" d=\"M2396.52,-688.77C2492.55,-666.56 2651.36,-629.84 2745.25,-608.13\"/>\n<polygon fill=\"black\" stroke=\"black\" points=\"2746.3,-611.48 2755.25,-605.82 2744.72,-604.66 2746.3,-611.48\"/>\n<text text-anchor=\"middle\" x=\"2742.01\" y=\"-623.32\" font-family=\"Helvetica,sans-Serif\" font-size=\"14.00\">False</text>\n</g>\n<!-- 2 -->\n<g id=\"node3\" class=\"node\">\n<title>2</title>\n<path fill=\"#eca36f\" stroke=\"black\" d=\"M745.5,-512C745.5,-512 637.5,-512 637.5,-512 631.5,-512 625.5,-506 625.5,-500 625.5,-500 625.5,-441 625.5,-441 625.5,-435 631.5,-429 637.5,-429 637.5,-429 745.5,-429 745.5,-429 751.5,-429 757.5,-435 757.5,-441 757.5,-441 757.5,-500 757.5,-500 757.5,-506 751.5,-512 745.5,-512\"/>\n<text text-anchor=\"middle\" x=\"691.5\" y=\"-496.8\" font-family=\"Helvetica,sans-Serif\" font-size=\"14.00\">age &lt;= 47.5</text>\n<text text-anchor=\"middle\" x=\"691.5\" y=\"-481.8\" font-family=\"Helvetica,sans-Serif\" font-size=\"14.00\">entropy = 0.747</text>\n<text text-anchor=\"middle\" x=\"691.5\" y=\"-466.8\" font-family=\"Helvetica,sans-Serif\" font-size=\"14.00\">samples = 1818</text>\n<text text-anchor=\"middle\" x=\"691.5\" y=\"-451.8\" font-family=\"Helvetica,sans-Serif\" font-size=\"14.00\">value = [1431, 387]</text>\n<text text-anchor=\"middle\" x=\"691.5\" y=\"-436.8\" font-family=\"Helvetica,sans-Serif\" font-size=\"14.00\">class = heart_no</text>\n</g>\n<!-- 1&#45;&gt;2 -->\n<g id=\"edge2\" class=\"edge\">\n<title>1&#45;&gt;2</title>\n<path fill=\"none\" stroke=\"black\" d=\"M1613.86,-579.42C1426.86,-557.54 953.25,-502.12 767.71,-480.42\"/>\n<polygon fill=\"black\" stroke=\"black\" points=\"768.11,-476.94 757.77,-479.25 767.29,-483.89 768.11,-476.94\"/>\n</g>\n<!-- 187 -->\n<g id=\"node26\" class=\"node\">\n<title>187</title>\n<path fill=\"#cfe7f9\" stroke=\"black\" d=\"M1742,-512C1742,-512 1641,-512 1641,-512 1635,-512 1629,-506 1629,-500 1629,-500 1629,-441 1629,-441 1629,-435 1635,-429 1641,-429 1641,-429 1742,-429 1742,-429 1748,-429 1754,-435 1754,-441 1754,-441 1754,-500 1754,-500 1754,-506 1748,-512 1742,-512\"/>\n<text text-anchor=\"middle\" x=\"1691.5\" y=\"-496.8\" font-family=\"Helvetica,sans-Serif\" font-size=\"14.00\">age &lt;= 56.5</text>\n<text text-anchor=\"middle\" x=\"1691.5\" y=\"-481.8\" font-family=\"Helvetica,sans-Serif\" font-size=\"14.00\">entropy = 0.986</text>\n<text text-anchor=\"middle\" x=\"1691.5\" y=\"-466.8\" font-family=\"Helvetica,sans-Serif\" font-size=\"14.00\">samples = 834</text>\n<text text-anchor=\"middle\" x=\"1691.5\" y=\"-451.8\" font-family=\"Helvetica,sans-Serif\" font-size=\"14.00\">value = [360, 474]</text>\n<text text-anchor=\"middle\" x=\"1691.5\" y=\"-436.8\" font-family=\"Helvetica,sans-Serif\" font-size=\"14.00\">class = heart_yes</text>\n</g>\n<!-- 1&#45;&gt;187 -->\n<g id=\"edge25\" class=\"edge\">\n<title>1&#45;&gt;187</title>\n<path fill=\"none\" stroke=\"black\" d=\"M1691.5,-547.91C1691.5,-539.65 1691.5,-530.86 1691.5,-522.3\"/>\n<polygon fill=\"black\" stroke=\"black\" points=\"1695,-522.02 1691.5,-512.02 1688,-522.02 1695,-522.02\"/>\n</g>\n<!-- 3 -->\n<g id=\"node4\" class=\"node\">\n<title>3</title>\n<path fill=\"#e68641\" stroke=\"black\" d=\"M326.5,-393C326.5,-393 200.5,-393 200.5,-393 194.5,-393 188.5,-387 188.5,-381 188.5,-381 188.5,-322 188.5,-322 188.5,-316 194.5,-310 200.5,-310 200.5,-310 326.5,-310 326.5,-310 332.5,-310 338.5,-316 338.5,-322 338.5,-322 338.5,-381 338.5,-381 338.5,-387 332.5,-393 326.5,-393\"/>\n<text text-anchor=\"middle\" x=\"263.5\" y=\"-377.8\" font-family=\"Helvetica,sans-Serif\" font-size=\"14.00\">gender_female &lt;= 0.5</text>\n<text text-anchor=\"middle\" x=\"263.5\" y=\"-362.8\" font-family=\"Helvetica,sans-Serif\" font-size=\"14.00\">entropy = 0.232</text>\n<text text-anchor=\"middle\" x=\"263.5\" y=\"-347.8\" font-family=\"Helvetica,sans-Serif\" font-size=\"14.00\">samples = 529</text>\n<text text-anchor=\"middle\" x=\"263.5\" y=\"-332.8\" font-family=\"Helvetica,sans-Serif\" font-size=\"14.00\">value = [509, 20]</text>\n<text text-anchor=\"middle\" x=\"263.5\" y=\"-317.8\" font-family=\"Helvetica,sans-Serif\" font-size=\"14.00\">class = heart_no</text>\n</g>\n<!-- 2&#45;&gt;3 -->\n<g id=\"edge3\" class=\"edge\">\n<title>2&#45;&gt;3</title>\n<path fill=\"none\" stroke=\"black\" d=\"M625.09,-451.35C550.64,-430.99 429.7,-397.93 348.43,-375.72\"/>\n<polygon fill=\"black\" stroke=\"black\" points=\"349.29,-372.32 338.72,-373.06 347.44,-379.07 349.29,-372.32\"/>\n</g>\n<!-- 28 -->\n<g id=\"node13\" class=\"node\">\n<title>28</title>\n<path fill=\"#efb388\" stroke=\"black\" d=\"M757,-393C757,-393 626,-393 626,-393 620,-393 614,-387 614,-381 614,-381 614,-322 614,-322 614,-316 620,-310 626,-310 626,-310 757,-310 757,-310 763,-310 769,-316 769,-322 769,-322 769,-381 769,-381 769,-387 763,-393 757,-393\"/>\n<text text-anchor=\"middle\" x=\"691.5\" y=\"-377.8\" font-family=\"Helvetica,sans-Serif\" font-size=\"14.00\">family_income &lt;= 4.88</text>\n<text text-anchor=\"middle\" x=\"691.5\" y=\"-362.8\" font-family=\"Helvetica,sans-Serif\" font-size=\"14.00\">entropy = 0.862</text>\n<text text-anchor=\"middle\" x=\"691.5\" y=\"-347.8\" font-family=\"Helvetica,sans-Serif\" font-size=\"14.00\">samples = 1289</text>\n<text text-anchor=\"middle\" x=\"691.5\" y=\"-332.8\" font-family=\"Helvetica,sans-Serif\" font-size=\"14.00\">value = [922, 367]</text>\n<text text-anchor=\"middle\" x=\"691.5\" y=\"-317.8\" font-family=\"Helvetica,sans-Serif\" font-size=\"14.00\">class = heart_no</text>\n</g>\n<!-- 2&#45;&gt;28 -->\n<g id=\"edge12\" class=\"edge\">\n<title>2&#45;&gt;28</title>\n<path fill=\"none\" stroke=\"black\" d=\"M691.5,-428.91C691.5,-420.65 691.5,-411.86 691.5,-403.3\"/>\n<polygon fill=\"black\" stroke=\"black\" points=\"695,-403.02 691.5,-393.02 688,-403.02 695,-403.02\"/>\n</g>\n<!-- 4 -->\n<g id=\"node5\" class=\"node\">\n<title>4</title>\n<path fill=\"#e58139\" stroke=\"black\" d=\"M143.5,-266.5C143.5,-266.5 51.5,-266.5 51.5,-266.5 45.5,-266.5 39.5,-260.5 39.5,-254.5 39.5,-254.5 39.5,-210.5 39.5,-210.5 39.5,-204.5 45.5,-198.5 51.5,-198.5 51.5,-198.5 143.5,-198.5 143.5,-198.5 149.5,-198.5 155.5,-204.5 155.5,-210.5 155.5,-210.5 155.5,-254.5 155.5,-254.5 155.5,-260.5 149.5,-266.5 143.5,-266.5\"/>\n<text text-anchor=\"middle\" x=\"97.5\" y=\"-251.3\" font-family=\"Helvetica,sans-Serif\" font-size=\"14.00\">entropy = 0.0</text>\n<text text-anchor=\"middle\" x=\"97.5\" y=\"-236.3\" font-family=\"Helvetica,sans-Serif\" font-size=\"14.00\">samples = 235</text>\n<text text-anchor=\"middle\" x=\"97.5\" y=\"-221.3\" font-family=\"Helvetica,sans-Serif\" font-size=\"14.00\">value = [235, 0]</text>\n<text text-anchor=\"middle\" x=\"97.5\" y=\"-206.3\" font-family=\"Helvetica,sans-Serif\" font-size=\"14.00\">class = heart_no</text>\n</g>\n<!-- 3&#45;&gt;4 -->\n<g id=\"edge4\" class=\"edge\">\n<title>3&#45;&gt;4</title>\n<path fill=\"none\" stroke=\"black\" d=\"M205.91,-309.91C188.69,-297.77 169.85,-284.49 152.78,-272.46\"/>\n<polygon fill=\"black\" stroke=\"black\" points=\"154.75,-269.57 144.56,-266.67 150.71,-275.29 154.75,-269.57\"/>\n</g>\n<!-- 5 -->\n<g id=\"node6\" class=\"node\">\n<title>5</title>\n<path fill=\"#e78a47\" stroke=\"black\" d=\"M341.5,-274C341.5,-274 185.5,-274 185.5,-274 179.5,-274 173.5,-268 173.5,-262 173.5,-262 173.5,-203 173.5,-203 173.5,-197 179.5,-191 185.5,-191 185.5,-191 341.5,-191 341.5,-191 347.5,-191 353.5,-197 353.5,-203 353.5,-203 353.5,-262 353.5,-262 353.5,-268 347.5,-274 341.5,-274\"/>\n<text text-anchor=\"middle\" x=\"263.5\" y=\"-258.8\" font-family=\"Helvetica,sans-Serif\" font-size=\"14.00\">blood_cholesterol &lt;= 5.315</text>\n<text text-anchor=\"middle\" x=\"263.5\" y=\"-243.8\" font-family=\"Helvetica,sans-Serif\" font-size=\"14.00\">entropy = 0.359</text>\n<text text-anchor=\"middle\" x=\"263.5\" y=\"-228.8\" font-family=\"Helvetica,sans-Serif\" font-size=\"14.00\">samples = 294</text>\n<text text-anchor=\"middle\" x=\"263.5\" y=\"-213.8\" font-family=\"Helvetica,sans-Serif\" font-size=\"14.00\">value = [274.0, 20.0]</text>\n<text text-anchor=\"middle\" x=\"263.5\" y=\"-198.8\" font-family=\"Helvetica,sans-Serif\" font-size=\"14.00\">class = heart_no</text>\n</g>\n<!-- 3&#45;&gt;5 -->\n<g id=\"edge5\" class=\"edge\">\n<title>3&#45;&gt;5</title>\n<path fill=\"none\" stroke=\"black\" d=\"M263.5,-309.91C263.5,-301.65 263.5,-292.86 263.5,-284.3\"/>\n<polygon fill=\"black\" stroke=\"black\" points=\"267,-284.02 263.5,-274.02 260,-284.02 267,-284.02\"/>\n</g>\n<!-- 6 -->\n<g id=\"node7\" class=\"node\">\n<title>6</title>\n<path fill=\"#e68540\" stroke=\"black\" d=\"M143,-155C143,-155 12,-155 12,-155 6,-155 0,-149 0,-143 0,-143 0,-84 0,-84 0,-78 6,-72 12,-72 12,-72 143,-72 143,-72 149,-72 155,-78 155,-84 155,-84 155,-143 155,-143 155,-149 149,-155 143,-155\"/>\n<text text-anchor=\"middle\" x=\"77.5\" y=\"-139.8\" font-family=\"Helvetica,sans-Serif\" font-size=\"14.00\">family_income &lt;= 0.46</text>\n<text text-anchor=\"middle\" x=\"77.5\" y=\"-124.8\" font-family=\"Helvetica,sans-Serif\" font-size=\"14.00\">entropy = 0.215</text>\n<text text-anchor=\"middle\" x=\"77.5\" y=\"-109.8\" font-family=\"Helvetica,sans-Serif\" font-size=\"14.00\">samples = 234</text>\n<text text-anchor=\"middle\" x=\"77.5\" y=\"-94.8\" font-family=\"Helvetica,sans-Serif\" font-size=\"14.00\">value = [226, 8]</text>\n<text text-anchor=\"middle\" x=\"77.5\" y=\"-79.8\" font-family=\"Helvetica,sans-Serif\" font-size=\"14.00\">class = heart_no</text>\n</g>\n<!-- 5&#45;&gt;6 -->\n<g id=\"edge6\" class=\"edge\">\n<title>5&#45;&gt;6</title>\n<path fill=\"none\" stroke=\"black\" d=\"M198.97,-190.91C183.39,-181.11 166.63,-170.56 150.68,-160.53\"/>\n<polygon fill=\"black\" stroke=\"black\" points=\"152.25,-157.38 141.92,-155.02 148.52,-163.31 152.25,-157.38\"/>\n</g>\n<!-- 17 -->\n<g id=\"node10\" class=\"node\">\n<title>17</title>\n<path fill=\"#eca06a\" stroke=\"black\" d=\"M341.5,-155C341.5,-155 185.5,-155 185.5,-155 179.5,-155 173.5,-149 173.5,-143 173.5,-143 173.5,-84 173.5,-84 173.5,-78 179.5,-72 185.5,-72 185.5,-72 341.5,-72 341.5,-72 347.5,-72 353.5,-78 353.5,-84 353.5,-84 353.5,-143 353.5,-143 353.5,-149 347.5,-155 341.5,-155\"/>\n<text text-anchor=\"middle\" x=\"263.5\" y=\"-139.8\" font-family=\"Helvetica,sans-Serif\" font-size=\"14.00\">blood_cholesterol &lt;= 5.625</text>\n<text text-anchor=\"middle\" x=\"263.5\" y=\"-124.8\" font-family=\"Helvetica,sans-Serif\" font-size=\"14.00\">entropy = 0.722</text>\n<text text-anchor=\"middle\" x=\"263.5\" y=\"-109.8\" font-family=\"Helvetica,sans-Serif\" font-size=\"14.00\">samples = 60</text>\n<text text-anchor=\"middle\" x=\"263.5\" y=\"-94.8\" font-family=\"Helvetica,sans-Serif\" font-size=\"14.00\">value = [48, 12]</text>\n<text text-anchor=\"middle\" x=\"263.5\" y=\"-79.8\" font-family=\"Helvetica,sans-Serif\" font-size=\"14.00\">class = heart_no</text>\n</g>\n<!-- 5&#45;&gt;17 -->\n<g id=\"edge9\" class=\"edge\">\n<title>5&#45;&gt;17</title>\n<path fill=\"none\" stroke=\"black\" d=\"M263.5,-190.91C263.5,-182.65 263.5,-173.86 263.5,-165.3\"/>\n<polygon fill=\"black\" stroke=\"black\" points=\"267,-165.02 263.5,-155.02 260,-165.02 267,-165.02\"/>\n</g>\n<!-- 7 -->\n<g id=\"node8\" class=\"node\">\n<title>7</title>\n<path fill=\"#c0c0c0\" stroke=\"black\" d=\"M56.5,-36C56.5,-36 26.5,-36 26.5,-36 20.5,-36 14.5,-30 14.5,-24 14.5,-24 14.5,-12 14.5,-12 14.5,-6 20.5,0 26.5,0 26.5,0 56.5,0 56.5,0 62.5,0 68.5,-6 68.5,-12 68.5,-12 68.5,-24 68.5,-24 68.5,-30 62.5,-36 56.5,-36\"/>\n<text text-anchor=\"middle\" x=\"41.5\" y=\"-14.3\" font-family=\"Helvetica,sans-Serif\" font-size=\"14.00\">(...)</text>\n</g>\n<!-- 6&#45;&gt;7 -->\n<g id=\"edge7\" class=\"edge\">\n<title>6&#45;&gt;7</title>\n<path fill=\"none\" stroke=\"black\" d=\"M61.81,-71.76C58.46,-63.04 54.99,-54.04 51.89,-45.99\"/>\n<polygon fill=\"black\" stroke=\"black\" points=\"55.06,-44.48 48.2,-36.41 48.53,-46.99 55.06,-44.48\"/>\n</g>\n<!-- 10 -->\n<g id=\"node9\" class=\"node\">\n<title>10</title>\n<path fill=\"#c0c0c0\" stroke=\"black\" d=\"M128.5,-36C128.5,-36 98.5,-36 98.5,-36 92.5,-36 86.5,-30 86.5,-24 86.5,-24 86.5,-12 86.5,-12 86.5,-6 92.5,0 98.5,0 98.5,0 128.5,0 128.5,0 134.5,0 140.5,-6 140.5,-12 140.5,-12 140.5,-24 140.5,-24 140.5,-30 134.5,-36 128.5,-36\"/>\n<text text-anchor=\"middle\" x=\"113.5\" y=\"-14.3\" font-family=\"Helvetica,sans-Serif\" font-size=\"14.00\">(...)</text>\n</g>\n<!-- 6&#45;&gt;10 -->\n<g id=\"edge8\" class=\"edge\">\n<title>6&#45;&gt;10</title>\n<path fill=\"none\" stroke=\"black\" d=\"M93.19,-71.76C96.54,-63.04 100.01,-54.04 103.11,-45.99\"/>\n<polygon fill=\"black\" stroke=\"black\" points=\"106.47,-46.99 106.8,-36.41 99.94,-44.48 106.47,-46.99\"/>\n</g>\n<!-- 18 -->\n<g id=\"node11\" class=\"node\">\n<title>18</title>\n<path fill=\"#c0c0c0\" stroke=\"black\" d=\"M242.5,-36C242.5,-36 212.5,-36 212.5,-36 206.5,-36 200.5,-30 200.5,-24 200.5,-24 200.5,-12 200.5,-12 200.5,-6 206.5,0 212.5,0 212.5,0 242.5,0 242.5,0 248.5,0 254.5,-6 254.5,-12 254.5,-12 254.5,-24 254.5,-24 254.5,-30 248.5,-36 242.5,-36\"/>\n<text text-anchor=\"middle\" x=\"227.5\" y=\"-14.3\" font-family=\"Helvetica,sans-Serif\" font-size=\"14.00\">(...)</text>\n</g>\n<!-- 17&#45;&gt;18 -->\n<g id=\"edge10\" class=\"edge\">\n<title>17&#45;&gt;18</title>\n<path fill=\"none\" stroke=\"black\" d=\"M247.81,-71.76C244.46,-63.04 240.99,-54.04 237.89,-45.99\"/>\n<polygon fill=\"black\" stroke=\"black\" points=\"241.06,-44.48 234.2,-36.41 234.53,-46.99 241.06,-44.48\"/>\n</g>\n<!-- 27 -->\n<g id=\"node12\" class=\"node\">\n<title>27</title>\n<path fill=\"#c0c0c0\" stroke=\"black\" d=\"M314.5,-36C314.5,-36 284.5,-36 284.5,-36 278.5,-36 272.5,-30 272.5,-24 272.5,-24 272.5,-12 272.5,-12 272.5,-6 278.5,0 284.5,0 284.5,0 314.5,0 314.5,0 320.5,0 326.5,-6 326.5,-12 326.5,-12 326.5,-24 326.5,-24 326.5,-30 320.5,-36 314.5,-36\"/>\n<text text-anchor=\"middle\" x=\"299.5\" y=\"-14.3\" font-family=\"Helvetica,sans-Serif\" font-size=\"14.00\">(...)</text>\n</g>\n<!-- 17&#45;&gt;27 -->\n<g id=\"edge11\" class=\"edge\">\n<title>17&#45;&gt;27</title>\n<path fill=\"none\" stroke=\"black\" d=\"M279.19,-71.76C282.54,-63.04 286.01,-54.04 289.11,-45.99\"/>\n<polygon fill=\"black\" stroke=\"black\" points=\"292.47,-46.99 292.8,-36.41 285.94,-44.48 292.47,-46.99\"/>\n</g>\n<!-- 29 -->\n<g id=\"node14\" class=\"node\">\n<title>29</title>\n<path fill=\"#f3c4a3\" stroke=\"black\" d=\"M677,-274C677,-274 546,-274 546,-274 540,-274 534,-268 534,-262 534,-262 534,-203 534,-203 534,-197 540,-191 546,-191 546,-191 677,-191 677,-191 683,-191 689,-197 689,-203 689,-203 689,-262 689,-262 689,-268 683,-274 677,-274\"/>\n<text text-anchor=\"middle\" x=\"611.5\" y=\"-258.8\" font-family=\"Helvetica,sans-Serif\" font-size=\"14.00\">family_income &lt;= 2.92</text>\n<text text-anchor=\"middle\" x=\"611.5\" y=\"-243.8\" font-family=\"Helvetica,sans-Serif\" font-size=\"14.00\">entropy = 0.932</text>\n<text text-anchor=\"middle\" x=\"611.5\" y=\"-228.8\" font-family=\"Helvetica,sans-Serif\" font-size=\"14.00\">samples = 1026</text>\n<text text-anchor=\"middle\" x=\"611.5\" y=\"-213.8\" font-family=\"Helvetica,sans-Serif\" font-size=\"14.00\">value = [669, 357]</text>\n<text text-anchor=\"middle\" x=\"611.5\" y=\"-198.8\" font-family=\"Helvetica,sans-Serif\" font-size=\"14.00\">class = heart_no</text>\n</g>\n<!-- 28&#45;&gt;29 -->\n<g id=\"edge13\" class=\"edge\">\n<title>28&#45;&gt;29</title>\n<path fill=\"none\" stroke=\"black\" d=\"M663.74,-309.91C657.66,-301.01 651.16,-291.51 644.89,-282.33\"/>\n<polygon fill=\"black\" stroke=\"black\" points=\"647.74,-280.3 639.21,-274.02 641.96,-284.25 647.74,-280.3\"/>\n</g>\n<!-- 178 -->\n<g id=\"node21\" class=\"node\">\n<title>178</title>\n<path fill=\"#e68641\" stroke=\"black\" d=\"M823.5,-274C823.5,-274 719.5,-274 719.5,-274 713.5,-274 707.5,-268 707.5,-262 707.5,-262 707.5,-203 707.5,-203 707.5,-197 713.5,-191 719.5,-191 719.5,-191 823.5,-191 823.5,-191 829.5,-191 835.5,-197 835.5,-203 835.5,-203 835.5,-262 835.5,-262 835.5,-268 829.5,-274 823.5,-274\"/>\n<text text-anchor=\"middle\" x=\"771.5\" y=\"-258.8\" font-family=\"Helvetica,sans-Serif\" font-size=\"14.00\">re_hispanic &lt;= 0.5</text>\n<text text-anchor=\"middle\" x=\"771.5\" y=\"-243.8\" font-family=\"Helvetica,sans-Serif\" font-size=\"14.00\">entropy = 0.233</text>\n<text text-anchor=\"middle\" x=\"771.5\" y=\"-228.8\" font-family=\"Helvetica,sans-Serif\" font-size=\"14.00\">samples = 263</text>\n<text text-anchor=\"middle\" x=\"771.5\" y=\"-213.8\" font-family=\"Helvetica,sans-Serif\" font-size=\"14.00\">value = [253, 10]</text>\n<text text-anchor=\"middle\" x=\"771.5\" y=\"-198.8\" font-family=\"Helvetica,sans-Serif\" font-size=\"14.00\">class = heart_no</text>\n</g>\n<!-- 28&#45;&gt;178 -->\n<g id=\"edge20\" class=\"edge\">\n<title>28&#45;&gt;178</title>\n<path fill=\"none\" stroke=\"black\" d=\"M719.26,-309.91C725.34,-301.01 731.84,-291.51 738.11,-282.33\"/>\n<polygon fill=\"black\" stroke=\"black\" points=\"741.04,-284.25 743.79,-274.02 735.26,-280.3 741.04,-284.25\"/>\n</g>\n<!-- 30 -->\n<g id=\"node15\" class=\"node\">\n<title>30</title>\n<path fill=\"#f5cfb4\" stroke=\"black\" d=\"M507,-155C507,-155 384,-155 384,-155 378,-155 372,-149 372,-143 372,-143 372,-84 372,-84 372,-78 378,-72 384,-72 384,-72 507,-72 507,-72 513,-72 519,-78 519,-84 519,-84 519,-143 519,-143 519,-149 513,-155 507,-155\"/>\n<text text-anchor=\"middle\" x=\"445.5\" y=\"-139.8\" font-family=\"Helvetica,sans-Serif\" font-size=\"14.00\">diastolic_bp &lt;= 71.0</text>\n<text text-anchor=\"middle\" x=\"445.5\" y=\"-124.8\" font-family=\"Helvetica,sans-Serif\" font-size=\"14.00\">entropy = 0.96</text>\n<text text-anchor=\"middle\" x=\"445.5\" y=\"-109.8\" font-family=\"Helvetica,sans-Serif\" font-size=\"14.00\">samples = 812</text>\n<text text-anchor=\"middle\" x=\"445.5\" y=\"-94.8\" font-family=\"Helvetica,sans-Serif\" font-size=\"14.00\">value = [501.0, 311.0]</text>\n<text text-anchor=\"middle\" x=\"445.5\" y=\"-79.8\" font-family=\"Helvetica,sans-Serif\" font-size=\"14.00\">class = heart_no</text>\n</g>\n<!-- 29&#45;&gt;30 -->\n<g id=\"edge14\" class=\"edge\">\n<title>29&#45;&gt;30</title>\n<path fill=\"none\" stroke=\"black\" d=\"M553.91,-190.91C540.13,-181.2 525.32,-170.76 511.21,-160.81\"/>\n<polygon fill=\"black\" stroke=\"black\" points=\"513.18,-157.92 502.99,-155.02 509.15,-163.64 513.18,-157.92\"/>\n</g>\n<!-- 149 -->\n<g id=\"node18\" class=\"node\">\n<title>149</title>\n<path fill=\"#eca46f\" stroke=\"black\" d=\"M680,-155C680,-155 549,-155 549,-155 543,-155 537,-149 537,-143 537,-143 537,-84 537,-84 537,-78 543,-72 549,-72 549,-72 680,-72 680,-72 686,-72 692,-78 692,-84 692,-84 692,-143 692,-143 692,-149 686,-155 680,-155\"/>\n<text text-anchor=\"middle\" x=\"614.5\" y=\"-139.8\" font-family=\"Helvetica,sans-Serif\" font-size=\"14.00\">family_income &lt;= 4.27</text>\n<text text-anchor=\"middle\" x=\"614.5\" y=\"-124.8\" font-family=\"Helvetica,sans-Serif\" font-size=\"14.00\">entropy = 0.751</text>\n<text text-anchor=\"middle\" x=\"614.5\" y=\"-109.8\" font-family=\"Helvetica,sans-Serif\" font-size=\"14.00\">samples = 214</text>\n<text text-anchor=\"middle\" x=\"614.5\" y=\"-94.8\" font-family=\"Helvetica,sans-Serif\" font-size=\"14.00\">value = [168, 46]</text>\n<text text-anchor=\"middle\" x=\"614.5\" y=\"-79.8\" font-family=\"Helvetica,sans-Serif\" font-size=\"14.00\">class = heart_no</text>\n</g>\n<!-- 29&#45;&gt;149 -->\n<g id=\"edge17\" class=\"edge\">\n<title>29&#45;&gt;149</title>\n<path fill=\"none\" stroke=\"black\" d=\"M612.54,-190.91C612.75,-182.56 612.98,-173.67 613.2,-165.02\"/>\n<polygon fill=\"black\" stroke=\"black\" points=\"616.7,-165.11 613.46,-155.02 609.71,-164.93 616.7,-165.11\"/>\n</g>\n<!-- 31 -->\n<g id=\"node16\" class=\"node\">\n<title>31</title>\n<path fill=\"#c0c0c0\" stroke=\"black\" d=\"M441.5,-36C441.5,-36 411.5,-36 411.5,-36 405.5,-36 399.5,-30 399.5,-24 399.5,-24 399.5,-12 399.5,-12 399.5,-6 405.5,0 411.5,0 411.5,0 441.5,0 441.5,0 447.5,0 453.5,-6 453.5,-12 453.5,-12 453.5,-24 453.5,-24 453.5,-30 447.5,-36 441.5,-36\"/>\n<text text-anchor=\"middle\" x=\"426.5\" y=\"-14.3\" font-family=\"Helvetica,sans-Serif\" font-size=\"14.00\">(...)</text>\n</g>\n<!-- 30&#45;&gt;31 -->\n<g id=\"edge15\" class=\"edge\">\n<title>30&#45;&gt;31</title>\n<path fill=\"none\" stroke=\"black\" d=\"M437.22,-71.76C435.47,-63.14 433.66,-54.24 432.04,-46.26\"/>\n<polygon fill=\"black\" stroke=\"black\" points=\"435.46,-45.51 430.04,-36.41 428.6,-46.9 435.46,-45.51\"/>\n</g>\n<!-- 124 -->\n<g id=\"node17\" class=\"node\">\n<title>124</title>\n<path fill=\"#c0c0c0\" stroke=\"black\" d=\"M513.5,-36C513.5,-36 483.5,-36 483.5,-36 477.5,-36 471.5,-30 471.5,-24 471.5,-24 471.5,-12 471.5,-12 471.5,-6 477.5,0 483.5,0 483.5,0 513.5,0 513.5,0 519.5,0 525.5,-6 525.5,-12 525.5,-12 525.5,-24 525.5,-24 525.5,-30 519.5,-36 513.5,-36\"/>\n<text text-anchor=\"middle\" x=\"498.5\" y=\"-14.3\" font-family=\"Helvetica,sans-Serif\" font-size=\"14.00\">(...)</text>\n</g>\n<!-- 30&#45;&gt;124 -->\n<g id=\"edge16\" class=\"edge\">\n<title>30&#45;&gt;124</title>\n<path fill=\"none\" stroke=\"black\" d=\"M468.59,-71.76C473.7,-62.75 478.98,-53.44 483.65,-45.19\"/>\n<polygon fill=\"black\" stroke=\"black\" points=\"486.75,-46.83 488.63,-36.41 480.66,-43.38 486.75,-46.83\"/>\n</g>\n<!-- 150 -->\n<g id=\"node19\" class=\"node\">\n<title>150</title>\n<path fill=\"#c0c0c0\" stroke=\"black\" d=\"M607.5,-36C607.5,-36 577.5,-36 577.5,-36 571.5,-36 565.5,-30 565.5,-24 565.5,-24 565.5,-12 565.5,-12 565.5,-6 571.5,0 577.5,0 577.5,0 607.5,0 607.5,0 613.5,0 619.5,-6 619.5,-12 619.5,-12 619.5,-24 619.5,-24 619.5,-30 613.5,-36 607.5,-36\"/>\n<text text-anchor=\"middle\" x=\"592.5\" y=\"-14.3\" font-family=\"Helvetica,sans-Serif\" font-size=\"14.00\">(...)</text>\n</g>\n<!-- 149&#45;&gt;150 -->\n<g id=\"edge18\" class=\"edge\">\n<title>149&#45;&gt;150</title>\n<path fill=\"none\" stroke=\"black\" d=\"M604.91,-71.76C602.89,-63.14 600.79,-54.24 598.91,-46.26\"/>\n<polygon fill=\"black\" stroke=\"black\" points=\"602.29,-45.34 596.6,-36.41 595.48,-46.94 602.29,-45.34\"/>\n</g>\n<!-- 165 -->\n<g id=\"node20\" class=\"node\">\n<title>165</title>\n<path fill=\"#c0c0c0\" stroke=\"black\" d=\"M679.5,-36C679.5,-36 649.5,-36 649.5,-36 643.5,-36 637.5,-30 637.5,-24 637.5,-24 637.5,-12 637.5,-12 637.5,-6 643.5,0 649.5,0 649.5,0 679.5,0 679.5,0 685.5,0 691.5,-6 691.5,-12 691.5,-12 691.5,-24 691.5,-24 691.5,-30 685.5,-36 679.5,-36\"/>\n<text text-anchor=\"middle\" x=\"664.5\" y=\"-14.3\" font-family=\"Helvetica,sans-Serif\" font-size=\"14.00\">(...)</text>\n</g>\n<!-- 149&#45;&gt;165 -->\n<g id=\"edge19\" class=\"edge\">\n<title>149&#45;&gt;165</title>\n<path fill=\"none\" stroke=\"black\" d=\"M636.29,-71.76C641.05,-62.85 645.98,-53.64 650.35,-45.46\"/>\n<polygon fill=\"black\" stroke=\"black\" points=\"653.56,-46.87 655.19,-36.41 647.39,-43.57 653.56,-46.87\"/>\n</g>\n<!-- 179 -->\n<g id=\"node22\" class=\"node\">\n<title>179</title>\n<path fill=\"#e58139\" stroke=\"black\" d=\"M814.5,-147.5C814.5,-147.5 722.5,-147.5 722.5,-147.5 716.5,-147.5 710.5,-141.5 710.5,-135.5 710.5,-135.5 710.5,-91.5 710.5,-91.5 710.5,-85.5 716.5,-79.5 722.5,-79.5 722.5,-79.5 814.5,-79.5 814.5,-79.5 820.5,-79.5 826.5,-85.5 826.5,-91.5 826.5,-91.5 826.5,-135.5 826.5,-135.5 826.5,-141.5 820.5,-147.5 814.5,-147.5\"/>\n<text text-anchor=\"middle\" x=\"768.5\" y=\"-132.3\" font-family=\"Helvetica,sans-Serif\" font-size=\"14.00\">entropy = 0.0</text>\n<text text-anchor=\"middle\" x=\"768.5\" y=\"-117.3\" font-family=\"Helvetica,sans-Serif\" font-size=\"14.00\">samples = 218</text>\n<text text-anchor=\"middle\" x=\"768.5\" y=\"-102.3\" font-family=\"Helvetica,sans-Serif\" font-size=\"14.00\">value = [218, 0]</text>\n<text text-anchor=\"middle\" x=\"768.5\" y=\"-87.3\" font-family=\"Helvetica,sans-Serif\" font-size=\"14.00\">class = heart_no</text>\n</g>\n<!-- 178&#45;&gt;179 -->\n<g id=\"edge21\" class=\"edge\">\n<title>178&#45;&gt;179</title>\n<path fill=\"none\" stroke=\"black\" d=\"M770.46,-190.91C770.18,-180.2 769.89,-168.62 769.61,-157.78\"/>\n<polygon fill=\"black\" stroke=\"black\" points=\"773.11,-157.57 769.35,-147.67 766.11,-157.75 773.11,-157.57\"/>\n</g>\n<!-- 180 -->\n<g id=\"node23\" class=\"node\">\n<title>180</title>\n<path fill=\"#eca572\" stroke=\"black\" d=\"M948.5,-155C948.5,-155 856.5,-155 856.5,-155 850.5,-155 844.5,-149 844.5,-143 844.5,-143 844.5,-84 844.5,-84 844.5,-78 850.5,-72 856.5,-72 856.5,-72 948.5,-72 948.5,-72 954.5,-72 960.5,-78 960.5,-84 960.5,-84 960.5,-143 960.5,-143 960.5,-149 954.5,-155 948.5,-155\"/>\n<text text-anchor=\"middle\" x=\"902.5\" y=\"-139.8\" font-family=\"Helvetica,sans-Serif\" font-size=\"14.00\">age &lt;= 48.5</text>\n<text text-anchor=\"middle\" x=\"902.5\" y=\"-124.8\" font-family=\"Helvetica,sans-Serif\" font-size=\"14.00\">entropy = 0.764</text>\n<text text-anchor=\"middle\" x=\"902.5\" y=\"-109.8\" font-family=\"Helvetica,sans-Serif\" font-size=\"14.00\">samples = 45</text>\n<text text-anchor=\"middle\" x=\"902.5\" y=\"-94.8\" font-family=\"Helvetica,sans-Serif\" font-size=\"14.00\">value = [35, 10]</text>\n<text text-anchor=\"middle\" x=\"902.5\" y=\"-79.8\" font-family=\"Helvetica,sans-Serif\" font-size=\"14.00\">class = heart_no</text>\n</g>\n<!-- 178&#45;&gt;180 -->\n<g id=\"edge22\" class=\"edge\">\n<title>178&#45;&gt;180</title>\n<path fill=\"none\" stroke=\"black\" d=\"M816.95,-190.91C827.42,-181.56 838.64,-171.54 849.4,-161.93\"/>\n<polygon fill=\"black\" stroke=\"black\" points=\"852,-164.29 857.13,-155.02 847.34,-159.07 852,-164.29\"/>\n</g>\n<!-- 181 -->\n<g id=\"node24\" class=\"node\">\n<title>181</title>\n<path fill=\"#c0c0c0\" stroke=\"black\" d=\"M860.5,-36C860.5,-36 830.5,-36 830.5,-36 824.5,-36 818.5,-30 818.5,-24 818.5,-24 818.5,-12 818.5,-12 818.5,-6 824.5,0 830.5,0 830.5,0 860.5,0 860.5,0 866.5,0 872.5,-6 872.5,-12 872.5,-12 872.5,-24 872.5,-24 872.5,-30 866.5,-36 860.5,-36\"/>\n<text text-anchor=\"middle\" x=\"845.5\" y=\"-14.3\" font-family=\"Helvetica,sans-Serif\" font-size=\"14.00\">(...)</text>\n</g>\n<!-- 180&#45;&gt;181 -->\n<g id=\"edge23\" class=\"edge\">\n<title>180&#45;&gt;181</title>\n<path fill=\"none\" stroke=\"black\" d=\"M877.66,-71.76C872.17,-62.75 866.49,-53.44 861.47,-45.19\"/>\n<polygon fill=\"black\" stroke=\"black\" points=\"864.3,-43.12 856.11,-36.41 858.33,-46.77 864.3,-43.12\"/>\n</g>\n<!-- 182 -->\n<g id=\"node25\" class=\"node\">\n<title>182</title>\n<path fill=\"#c0c0c0\" stroke=\"black\" d=\"M932.5,-36C932.5,-36 902.5,-36 902.5,-36 896.5,-36 890.5,-30 890.5,-24 890.5,-24 890.5,-12 890.5,-12 890.5,-6 896.5,0 902.5,0 902.5,0 932.5,0 932.5,0 938.5,0 944.5,-6 944.5,-12 944.5,-12 944.5,-24 944.5,-24 944.5,-30 938.5,-36 932.5,-36\"/>\n<text text-anchor=\"middle\" x=\"917.5\" y=\"-14.3\" font-family=\"Helvetica,sans-Serif\" font-size=\"14.00\">(...)</text>\n</g>\n<!-- 180&#45;&gt;182 -->\n<g id=\"edge24\" class=\"edge\">\n<title>180&#45;&gt;182</title>\n<path fill=\"none\" stroke=\"black\" d=\"M909.04,-71.76C910.4,-63.24 911.81,-54.44 913.08,-46.53\"/>\n<polygon fill=\"black\" stroke=\"black\" points=\"916.58,-46.83 914.71,-36.41 909.67,-45.72 916.58,-46.83\"/>\n</g>\n<!-- 188 -->\n<g id=\"node27\" class=\"node\">\n<title>188</title>\n<path fill=\"#fae6d7\" stroke=\"black\" d=\"M1510,-393C1510,-393 1379,-393 1379,-393 1373,-393 1367,-387 1367,-381 1367,-381 1367,-322 1367,-322 1367,-316 1373,-310 1379,-310 1379,-310 1510,-310 1510,-310 1516,-310 1522,-316 1522,-322 1522,-322 1522,-381 1522,-381 1522,-387 1516,-393 1510,-393\"/>\n<text text-anchor=\"middle\" x=\"1444.5\" y=\"-377.8\" font-family=\"Helvetica,sans-Serif\" font-size=\"14.00\">family_income &lt;= 4.17</text>\n<text text-anchor=\"middle\" x=\"1444.5\" y=\"-362.8\" font-family=\"Helvetica,sans-Serif\" font-size=\"14.00\">entropy = 0.991</text>\n<text text-anchor=\"middle\" x=\"1444.5\" y=\"-347.8\" font-family=\"Helvetica,sans-Serif\" font-size=\"14.00\">samples = 448</text>\n<text text-anchor=\"middle\" x=\"1444.5\" y=\"-332.8\" font-family=\"Helvetica,sans-Serif\" font-size=\"14.00\">value = [249, 199]</text>\n<text text-anchor=\"middle\" x=\"1444.5\" y=\"-317.8\" font-family=\"Helvetica,sans-Serif\" font-size=\"14.00\">class = heart_no</text>\n</g>\n<!-- 187&#45;&gt;188 -->\n<g id=\"edge26\" class=\"edge\">\n<title>187&#45;&gt;188</title>\n<path fill=\"none\" stroke=\"black\" d=\"M1628.85,-439.82C1599.32,-425.84 1563.61,-408.92 1531.51,-393.71\"/>\n<polygon fill=\"black\" stroke=\"black\" points=\"1532.65,-390.38 1522.11,-389.26 1529.65,-396.71 1532.65,-390.38\"/>\n</g>\n<!-- 267 -->\n<g id=\"node40\" class=\"node\">\n<title>267</title>\n<path fill=\"#89c5ef\" stroke=\"black\" d=\"M1844,-393C1844,-393 1721,-393 1721,-393 1715,-393 1709,-387 1709,-381 1709,-381 1709,-322 1709,-322 1709,-316 1715,-310 1721,-310 1721,-310 1844,-310 1844,-310 1850,-310 1856,-316 1856,-322 1856,-322 1856,-381 1856,-381 1856,-387 1850,-393 1844,-393\"/>\n<text text-anchor=\"middle\" x=\"1782.5\" y=\"-377.8\" font-family=\"Helvetica,sans-Serif\" font-size=\"14.00\">age &lt;= 58.5</text>\n<text text-anchor=\"middle\" x=\"1782.5\" y=\"-362.8\" font-family=\"Helvetica,sans-Serif\" font-size=\"14.00\">entropy = 0.866</text>\n<text text-anchor=\"middle\" x=\"1782.5\" y=\"-347.8\" font-family=\"Helvetica,sans-Serif\" font-size=\"14.00\">samples = 386</text>\n<text text-anchor=\"middle\" x=\"1782.5\" y=\"-332.8\" font-family=\"Helvetica,sans-Serif\" font-size=\"14.00\">value = [111.0, 275.0]</text>\n<text text-anchor=\"middle\" x=\"1782.5\" y=\"-317.8\" font-family=\"Helvetica,sans-Serif\" font-size=\"14.00\">class = heart_yes</text>\n</g>\n<!-- 187&#45;&gt;267 -->\n<g id=\"edge39\" class=\"edge\">\n<title>187&#45;&gt;267</title>\n<path fill=\"none\" stroke=\"black\" d=\"M1723.07,-428.91C1730.06,-419.92 1737.53,-410.32 1744.74,-401.05\"/>\n<polygon fill=\"black\" stroke=\"black\" points=\"1747.61,-403.06 1750.98,-393.02 1742.08,-398.77 1747.61,-403.06\"/>\n</g>\n<!-- 189 -->\n<g id=\"node28\" class=\"node\">\n<title>189</title>\n<path fill=\"#f9fcfe\" stroke=\"black\" d=\"M1250,-274C1250,-274 1149,-274 1149,-274 1143,-274 1137,-268 1137,-262 1137,-262 1137,-203 1137,-203 1137,-197 1143,-191 1149,-191 1149,-191 1250,-191 1250,-191 1256,-191 1262,-197 1262,-203 1262,-203 1262,-262 1262,-262 1262,-268 1256,-274 1250,-274\"/>\n<text text-anchor=\"middle\" x=\"1199.5\" y=\"-258.8\" font-family=\"Helvetica,sans-Serif\" font-size=\"14.00\">age &lt;= 42.5</text>\n<text text-anchor=\"middle\" x=\"1199.5\" y=\"-243.8\" font-family=\"Helvetica,sans-Serif\" font-size=\"14.00\">entropy = 1.0</text>\n<text text-anchor=\"middle\" x=\"1199.5\" y=\"-228.8\" font-family=\"Helvetica,sans-Serif\" font-size=\"14.00\">samples = 380</text>\n<text text-anchor=\"middle\" x=\"1199.5\" y=\"-213.8\" font-family=\"Helvetica,sans-Serif\" font-size=\"14.00\">value = [187, 193]</text>\n<text text-anchor=\"middle\" x=\"1199.5\" y=\"-198.8\" font-family=\"Helvetica,sans-Serif\" font-size=\"14.00\">class = heart_yes</text>\n</g>\n<!-- 188&#45;&gt;189 -->\n<g id=\"edge27\" class=\"edge\">\n<title>188&#45;&gt;189</title>\n<path fill=\"none\" stroke=\"black\" d=\"M1366.98,-313.48C1336.36,-298.86 1301.39,-282.16 1271.35,-267.81\"/>\n<polygon fill=\"black\" stroke=\"black\" points=\"1272.73,-264.59 1262.2,-263.44 1269.71,-270.91 1272.73,-264.59\"/>\n</g>\n<!-- 260 -->\n<g id=\"node35\" class=\"node\">\n<title>260</title>\n<path fill=\"#e88d4c\" stroke=\"black\" d=\"M1530,-274C1530,-274 1359,-274 1359,-274 1353,-274 1347,-268 1347,-262 1347,-262 1347,-203 1347,-203 1347,-197 1353,-191 1359,-191 1359,-191 1530,-191 1530,-191 1536,-191 1542,-197 1542,-203 1542,-203 1542,-262 1542,-262 1542,-268 1536,-274 1530,-274\"/>\n<text text-anchor=\"middle\" x=\"1444.5\" y=\"-258.8\" font-family=\"Helvetica,sans-Serif\" font-size=\"14.00\">blood_pressure_sys &lt;= 159.0</text>\n<text text-anchor=\"middle\" x=\"1444.5\" y=\"-243.8\" font-family=\"Helvetica,sans-Serif\" font-size=\"14.00\">entropy = 0.431</text>\n<text text-anchor=\"middle\" x=\"1444.5\" y=\"-228.8\" font-family=\"Helvetica,sans-Serif\" font-size=\"14.00\">samples = 68</text>\n<text text-anchor=\"middle\" x=\"1444.5\" y=\"-213.8\" font-family=\"Helvetica,sans-Serif\" font-size=\"14.00\">value = [62, 6]</text>\n<text text-anchor=\"middle\" x=\"1444.5\" y=\"-198.8\" font-family=\"Helvetica,sans-Serif\" font-size=\"14.00\">class = heart_no</text>\n</g>\n<!-- 188&#45;&gt;260 -->\n<g id=\"edge34\" class=\"edge\">\n<title>188&#45;&gt;260</title>\n<path fill=\"none\" stroke=\"black\" d=\"M1444.5,-309.91C1444.5,-301.65 1444.5,-292.86 1444.5,-284.3\"/>\n<polygon fill=\"black\" stroke=\"black\" points=\"1448,-284.02 1444.5,-274.02 1441,-284.02 1448,-284.02\"/>\n</g>\n<!-- 190 -->\n<g id=\"node29\" class=\"node\">\n<title>190</title>\n<path fill=\"#e78c49\" stroke=\"black\" d=\"M1082.5,-155C1082.5,-155 990.5,-155 990.5,-155 984.5,-155 978.5,-149 978.5,-143 978.5,-143 978.5,-84 978.5,-84 978.5,-78 984.5,-72 990.5,-72 990.5,-72 1082.5,-72 1082.5,-72 1088.5,-72 1094.5,-78 1094.5,-84 1094.5,-84 1094.5,-143 1094.5,-143 1094.5,-149 1088.5,-155 1082.5,-155\"/>\n<text text-anchor=\"middle\" x=\"1036.5\" y=\"-139.8\" font-family=\"Helvetica,sans-Serif\" font-size=\"14.00\">BMI &lt;= 17.05</text>\n<text text-anchor=\"middle\" x=\"1036.5\" y=\"-124.8\" font-family=\"Helvetica,sans-Serif\" font-size=\"14.00\">entropy = 0.391</text>\n<text text-anchor=\"middle\" x=\"1036.5\" y=\"-109.8\" font-family=\"Helvetica,sans-Serif\" font-size=\"14.00\">samples = 39</text>\n<text text-anchor=\"middle\" x=\"1036.5\" y=\"-94.8\" font-family=\"Helvetica,sans-Serif\" font-size=\"14.00\">value = [36, 3]</text>\n<text text-anchor=\"middle\" x=\"1036.5\" y=\"-79.8\" font-family=\"Helvetica,sans-Serif\" font-size=\"14.00\">class = heart_no</text>\n</g>\n<!-- 189&#45;&gt;190 -->\n<g id=\"edge28\" class=\"edge\">\n<title>189&#45;&gt;190</title>\n<path fill=\"none\" stroke=\"black\" d=\"M1142.95,-190.91C1129.55,-181.29 1115.15,-170.95 1101.41,-161.09\"/>\n<polygon fill=\"black\" stroke=\"black\" points=\"1103.12,-158.01 1092.95,-155.02 1099.03,-163.7 1103.12,-158.01\"/>\n</g>\n<!-- 195 -->\n<g id=\"node32\" class=\"node\">\n<title>195</title>\n<path fill=\"#d6ebfa\" stroke=\"black\" d=\"M1274,-155C1274,-155 1125,-155 1125,-155 1119,-155 1113,-149 1113,-143 1113,-143 1113,-84 1113,-84 1113,-78 1119,-72 1125,-72 1125,-72 1274,-72 1274,-72 1280,-72 1286,-78 1286,-84 1286,-84 1286,-143 1286,-143 1286,-149 1280,-155 1274,-155\"/>\n<text text-anchor=\"middle\" x=\"1199.5\" y=\"-139.8\" font-family=\"Helvetica,sans-Serif\" font-size=\"14.00\">blood_cholesterol &lt;= 3.79</text>\n<text text-anchor=\"middle\" x=\"1199.5\" y=\"-124.8\" font-family=\"Helvetica,sans-Serif\" font-size=\"14.00\">entropy = 0.991</text>\n<text text-anchor=\"middle\" x=\"1199.5\" y=\"-109.8\" font-family=\"Helvetica,sans-Serif\" font-size=\"14.00\">samples = 341</text>\n<text text-anchor=\"middle\" x=\"1199.5\" y=\"-94.8\" font-family=\"Helvetica,sans-Serif\" font-size=\"14.00\">value = [151.0, 190.0]</text>\n<text text-anchor=\"middle\" x=\"1199.5\" y=\"-79.8\" font-family=\"Helvetica,sans-Serif\" font-size=\"14.00\">class = heart_yes</text>\n</g>\n<!-- 189&#45;&gt;195 -->\n<g id=\"edge31\" class=\"edge\">\n<title>189&#45;&gt;195</title>\n<path fill=\"none\" stroke=\"black\" d=\"M1199.5,-190.91C1199.5,-182.65 1199.5,-173.86 1199.5,-165.3\"/>\n<polygon fill=\"black\" stroke=\"black\" points=\"1203,-165.02 1199.5,-155.02 1196,-165.02 1203,-165.02\"/>\n</g>\n<!-- 191 -->\n<g id=\"node30\" class=\"node\">\n<title>191</title>\n<path fill=\"#c0c0c0\" stroke=\"black\" d=\"M1008.5,-36C1008.5,-36 978.5,-36 978.5,-36 972.5,-36 966.5,-30 966.5,-24 966.5,-24 966.5,-12 966.5,-12 966.5,-6 972.5,0 978.5,0 978.5,0 1008.5,0 1008.5,0 1014.5,0 1020.5,-6 1020.5,-12 1020.5,-12 1020.5,-24 1020.5,-24 1020.5,-30 1014.5,-36 1008.5,-36\"/>\n<text text-anchor=\"middle\" x=\"993.5\" y=\"-14.3\" font-family=\"Helvetica,sans-Serif\" font-size=\"14.00\">(...)</text>\n</g>\n<!-- 190&#45;&gt;191 -->\n<g id=\"edge29\" class=\"edge\">\n<title>190&#45;&gt;191</title>\n<path fill=\"none\" stroke=\"black\" d=\"M1017.76,-71.76C1013.71,-62.94 1009.52,-53.84 1005.79,-45.72\"/>\n<polygon fill=\"black\" stroke=\"black\" points=\"1008.86,-44.03 1001.5,-36.41 1002.5,-46.95 1008.86,-44.03\"/>\n</g>\n<!-- 194 -->\n<g id=\"node31\" class=\"node\">\n<title>194</title>\n<path fill=\"#c0c0c0\" stroke=\"black\" d=\"M1080.5,-36C1080.5,-36 1050.5,-36 1050.5,-36 1044.5,-36 1038.5,-30 1038.5,-24 1038.5,-24 1038.5,-12 1038.5,-12 1038.5,-6 1044.5,0 1050.5,0 1050.5,0 1080.5,0 1080.5,0 1086.5,0 1092.5,-6 1092.5,-12 1092.5,-12 1092.5,-24 1092.5,-24 1092.5,-30 1086.5,-36 1080.5,-36\"/>\n<text text-anchor=\"middle\" x=\"1065.5\" y=\"-14.3\" font-family=\"Helvetica,sans-Serif\" font-size=\"14.00\">(...)</text>\n</g>\n<!-- 190&#45;&gt;194 -->\n<g id=\"edge30\" class=\"edge\">\n<title>190&#45;&gt;194</title>\n<path fill=\"none\" stroke=\"black\" d=\"M1049.14,-71.76C1051.84,-63.04 1054.63,-54.04 1057.13,-45.99\"/>\n<polygon fill=\"black\" stroke=\"black\" points=\"1060.48,-46.99 1060.1,-36.41 1053.8,-44.92 1060.48,-46.99\"/>\n</g>\n<!-- 196 -->\n<g id=\"node33\" class=\"node\">\n<title>196</title>\n<path fill=\"#c0c0c0\" stroke=\"black\" d=\"M1154.5,-36C1154.5,-36 1124.5,-36 1124.5,-36 1118.5,-36 1112.5,-30 1112.5,-24 1112.5,-24 1112.5,-12 1112.5,-12 1112.5,-6 1118.5,0 1124.5,0 1124.5,0 1154.5,0 1154.5,0 1160.5,0 1166.5,-6 1166.5,-12 1166.5,-12 1166.5,-24 1166.5,-24 1166.5,-30 1160.5,-36 1154.5,-36\"/>\n<text text-anchor=\"middle\" x=\"1139.5\" y=\"-14.3\" font-family=\"Helvetica,sans-Serif\" font-size=\"14.00\">(...)</text>\n</g>\n<!-- 195&#45;&gt;196 -->\n<g id=\"edge32\" class=\"edge\">\n<title>195&#45;&gt;196</title>\n<path fill=\"none\" stroke=\"black\" d=\"M1173.36,-71.76C1167.51,-62.65 1161.47,-53.24 1156.14,-44.92\"/>\n<polygon fill=\"black\" stroke=\"black\" points=\"1159.02,-42.93 1150.67,-36.41 1153.12,-46.71 1159.02,-42.93\"/>\n</g>\n<!-- 211 -->\n<g id=\"node34\" class=\"node\">\n<title>211</title>\n<path fill=\"#c0c0c0\" stroke=\"black\" d=\"M1226.5,-36C1226.5,-36 1196.5,-36 1196.5,-36 1190.5,-36 1184.5,-30 1184.5,-24 1184.5,-24 1184.5,-12 1184.5,-12 1184.5,-6 1190.5,0 1196.5,0 1196.5,0 1226.5,0 1226.5,0 1232.5,0 1238.5,-6 1238.5,-12 1238.5,-12 1238.5,-24 1238.5,-24 1238.5,-30 1232.5,-36 1226.5,-36\"/>\n<text text-anchor=\"middle\" x=\"1211.5\" y=\"-14.3\" font-family=\"Helvetica,sans-Serif\" font-size=\"14.00\">(...)</text>\n</g>\n<!-- 195&#45;&gt;211 -->\n<g id=\"edge33\" class=\"edge\">\n<title>195&#45;&gt;211</title>\n<path fill=\"none\" stroke=\"black\" d=\"M1204.73,-71.76C1205.82,-63.24 1206.95,-54.44 1207.97,-46.53\"/>\n<polygon fill=\"black\" stroke=\"black\" points=\"1211.46,-46.77 1209.27,-36.41 1204.52,-45.88 1211.46,-46.77\"/>\n</g>\n<!-- 261 -->\n<g id=\"node36\" class=\"node\">\n<title>261</title>\n<path fill=\"#e6853f\" stroke=\"black\" d=\"M1420.5,-155C1420.5,-155 1316.5,-155 1316.5,-155 1310.5,-155 1304.5,-149 1304.5,-143 1304.5,-143 1304.5,-84 1304.5,-84 1304.5,-78 1310.5,-72 1316.5,-72 1316.5,-72 1420.5,-72 1420.5,-72 1426.5,-72 1432.5,-78 1432.5,-84 1432.5,-84 1432.5,-143 1432.5,-143 1432.5,-149 1426.5,-155 1420.5,-155\"/>\n<text text-anchor=\"middle\" x=\"1368.5\" y=\"-139.8\" font-family=\"Helvetica,sans-Serif\" font-size=\"14.00\">calories &lt;= 2412.5</text>\n<text text-anchor=\"middle\" x=\"1368.5\" y=\"-124.8\" font-family=\"Helvetica,sans-Serif\" font-size=\"14.00\">entropy = 0.201</text>\n<text text-anchor=\"middle\" x=\"1368.5\" y=\"-109.8\" font-family=\"Helvetica,sans-Serif\" font-size=\"14.00\">samples = 64</text>\n<text text-anchor=\"middle\" x=\"1368.5\" y=\"-94.8\" font-family=\"Helvetica,sans-Serif\" font-size=\"14.00\">value = [62, 2]</text>\n<text text-anchor=\"middle\" x=\"1368.5\" y=\"-79.8\" font-family=\"Helvetica,sans-Serif\" font-size=\"14.00\">class = heart_no</text>\n</g>\n<!-- 260&#45;&gt;261 -->\n<g id=\"edge35\" class=\"edge\">\n<title>260&#45;&gt;261</title>\n<path fill=\"none\" stroke=\"black\" d=\"M1418.13,-190.91C1412.41,-182.1 1406.31,-172.7 1400.4,-163.61\"/>\n<polygon fill=\"black\" stroke=\"black\" points=\"1403.2,-161.5 1394.82,-155.02 1397.33,-165.31 1403.2,-161.5\"/>\n</g>\n<!-- 266 -->\n<g id=\"node39\" class=\"node\">\n<title>266</title>\n<path fill=\"#399de5\" stroke=\"black\" d=\"M1560.5,-147.5C1560.5,-147.5 1462.5,-147.5 1462.5,-147.5 1456.5,-147.5 1450.5,-141.5 1450.5,-135.5 1450.5,-135.5 1450.5,-91.5 1450.5,-91.5 1450.5,-85.5 1456.5,-79.5 1462.5,-79.5 1462.5,-79.5 1560.5,-79.5 1560.5,-79.5 1566.5,-79.5 1572.5,-85.5 1572.5,-91.5 1572.5,-91.5 1572.5,-135.5 1572.5,-135.5 1572.5,-141.5 1566.5,-147.5 1560.5,-147.5\"/>\n<text text-anchor=\"middle\" x=\"1511.5\" y=\"-132.3\" font-family=\"Helvetica,sans-Serif\" font-size=\"14.00\">entropy = 0.0</text>\n<text text-anchor=\"middle\" x=\"1511.5\" y=\"-117.3\" font-family=\"Helvetica,sans-Serif\" font-size=\"14.00\">samples = 4</text>\n<text text-anchor=\"middle\" x=\"1511.5\" y=\"-102.3\" font-family=\"Helvetica,sans-Serif\" font-size=\"14.00\">value = [0, 4]</text>\n<text text-anchor=\"middle\" x=\"1511.5\" y=\"-87.3\" font-family=\"Helvetica,sans-Serif\" font-size=\"14.00\">class = heart_yes</text>\n</g>\n<!-- 260&#45;&gt;266 -->\n<g id=\"edge38\" class=\"edge\">\n<title>260&#45;&gt;266</title>\n<path fill=\"none\" stroke=\"black\" d=\"M1467.75,-190.91C1474.13,-179.76 1481.06,-167.66 1487.48,-156.44\"/>\n<polygon fill=\"black\" stroke=\"black\" points=\"1490.57,-158.08 1492.51,-147.67 1484.5,-154.61 1490.57,-158.08\"/>\n</g>\n<!-- 262 -->\n<g id=\"node37\" class=\"node\">\n<title>262</title>\n<path fill=\"#c0c0c0\" stroke=\"black\" d=\"M1347.5,-36C1347.5,-36 1317.5,-36 1317.5,-36 1311.5,-36 1305.5,-30 1305.5,-24 1305.5,-24 1305.5,-12 1305.5,-12 1305.5,-6 1311.5,0 1317.5,0 1317.5,0 1347.5,0 1347.5,0 1353.5,0 1359.5,-6 1359.5,-12 1359.5,-12 1359.5,-24 1359.5,-24 1359.5,-30 1353.5,-36 1347.5,-36\"/>\n<text text-anchor=\"middle\" x=\"1332.5\" y=\"-14.3\" font-family=\"Helvetica,sans-Serif\" font-size=\"14.00\">(...)</text>\n</g>\n<!-- 261&#45;&gt;262 -->\n<g id=\"edge36\" class=\"edge\">\n<title>261&#45;&gt;262</title>\n<path fill=\"none\" stroke=\"black\" d=\"M1352.81,-71.76C1349.46,-63.04 1345.99,-54.04 1342.89,-45.99\"/>\n<polygon fill=\"black\" stroke=\"black\" points=\"1346.06,-44.48 1339.2,-36.41 1339.53,-46.99 1346.06,-44.48\"/>\n</g>\n<!-- 263 -->\n<g id=\"node38\" class=\"node\">\n<title>263</title>\n<path fill=\"#c0c0c0\" stroke=\"black\" d=\"M1419.5,-36C1419.5,-36 1389.5,-36 1389.5,-36 1383.5,-36 1377.5,-30 1377.5,-24 1377.5,-24 1377.5,-12 1377.5,-12 1377.5,-6 1383.5,0 1389.5,0 1389.5,0 1419.5,0 1419.5,0 1425.5,0 1431.5,-6 1431.5,-12 1431.5,-12 1431.5,-24 1431.5,-24 1431.5,-30 1425.5,-36 1419.5,-36\"/>\n<text text-anchor=\"middle\" x=\"1404.5\" y=\"-14.3\" font-family=\"Helvetica,sans-Serif\" font-size=\"14.00\">(...)</text>\n</g>\n<!-- 261&#45;&gt;263 -->\n<g id=\"edge37\" class=\"edge\">\n<title>261&#45;&gt;263</title>\n<path fill=\"none\" stroke=\"black\" d=\"M1384.19,-71.76C1387.54,-63.04 1391.01,-54.04 1394.11,-45.99\"/>\n<polygon fill=\"black\" stroke=\"black\" points=\"1397.47,-46.99 1397.8,-36.41 1390.94,-44.48 1397.47,-46.99\"/>\n</g>\n<!-- 268 -->\n<g id=\"node41\" class=\"node\">\n<title>268</title>\n<path fill=\"#4ea7e8\" stroke=\"black\" d=\"M1831.5,-274C1831.5,-274 1733.5,-274 1733.5,-274 1727.5,-274 1721.5,-268 1721.5,-262 1721.5,-262 1721.5,-203 1721.5,-203 1721.5,-197 1727.5,-191 1733.5,-191 1733.5,-191 1831.5,-191 1831.5,-191 1837.5,-191 1843.5,-197 1843.5,-203 1843.5,-203 1843.5,-262 1843.5,-262 1843.5,-268 1837.5,-274 1831.5,-274\"/>\n<text text-anchor=\"middle\" x=\"1782.5\" y=\"-258.8\" font-family=\"Helvetica,sans-Serif\" font-size=\"14.00\">BMI &lt;= 16.1</text>\n<text text-anchor=\"middle\" x=\"1782.5\" y=\"-243.8\" font-family=\"Helvetica,sans-Serif\" font-size=\"14.00\">entropy = 0.455</text>\n<text text-anchor=\"middle\" x=\"1782.5\" y=\"-228.8\" font-family=\"Helvetica,sans-Serif\" font-size=\"14.00\">samples = 94</text>\n<text text-anchor=\"middle\" x=\"1782.5\" y=\"-213.8\" font-family=\"Helvetica,sans-Serif\" font-size=\"14.00\">value = [9, 85]</text>\n<text text-anchor=\"middle\" x=\"1782.5\" y=\"-198.8\" font-family=\"Helvetica,sans-Serif\" font-size=\"14.00\">class = heart_yes</text>\n</g>\n<!-- 267&#45;&gt;268 -->\n<g id=\"edge40\" class=\"edge\">\n<title>267&#45;&gt;268</title>\n<path fill=\"none\" stroke=\"black\" d=\"M1782.5,-309.91C1782.5,-301.65 1782.5,-292.86 1782.5,-284.3\"/>\n<polygon fill=\"black\" stroke=\"black\" points=\"1786,-284.02 1782.5,-274.02 1779,-284.02 1786,-284.02\"/>\n</g>\n<!-- 281 -->\n<g id=\"node48\" class=\"node\">\n<title>281</title>\n<path fill=\"#a3d2f3\" stroke=\"black\" d=\"M2101.5,-274C2101.5,-274 1987.5,-274 1987.5,-274 1981.5,-274 1975.5,-268 1975.5,-262 1975.5,-262 1975.5,-203 1975.5,-203 1975.5,-197 1981.5,-191 1987.5,-191 1987.5,-191 2101.5,-191 2101.5,-191 2107.5,-191 2113.5,-197 2113.5,-203 2113.5,-203 2113.5,-262 2113.5,-262 2113.5,-268 2107.5,-274 2101.5,-274\"/>\n<text text-anchor=\"middle\" x=\"2044.5\" y=\"-258.8\" font-family=\"Helvetica,sans-Serif\" font-size=\"14.00\">diastolic_bp &lt;= 81.0</text>\n<text text-anchor=\"middle\" x=\"2044.5\" y=\"-243.8\" font-family=\"Helvetica,sans-Serif\" font-size=\"14.00\">entropy = 0.933</text>\n<text text-anchor=\"middle\" x=\"2044.5\" y=\"-228.8\" font-family=\"Helvetica,sans-Serif\" font-size=\"14.00\">samples = 292</text>\n<text text-anchor=\"middle\" x=\"2044.5\" y=\"-213.8\" font-family=\"Helvetica,sans-Serif\" font-size=\"14.00\">value = [102, 190]</text>\n<text text-anchor=\"middle\" x=\"2044.5\" y=\"-198.8\" font-family=\"Helvetica,sans-Serif\" font-size=\"14.00\">class = heart_yes</text>\n</g>\n<!-- 267&#45;&gt;281 -->\n<g id=\"edge47\" class=\"edge\">\n<title>267&#45;&gt;281</title>\n<path fill=\"none\" stroke=\"black\" d=\"M1856.18,-317.6C1890.5,-302.27 1931.35,-284.03 1966.22,-268.46\"/>\n<polygon fill=\"black\" stroke=\"black\" points=\"1967.72,-271.62 1975.42,-264.35 1964.86,-265.23 1967.72,-271.62\"/>\n</g>\n<!-- 269 -->\n<g id=\"node42\" class=\"node\">\n<title>269</title>\n<path fill=\"#bddef6\" stroke=\"black\" d=\"M1752,-155C1752,-155 1603,-155 1603,-155 1597,-155 1591,-149 1591,-143 1591,-143 1591,-84 1591,-84 1591,-78 1597,-72 1603,-72 1603,-72 1752,-72 1752,-72 1758,-72 1764,-78 1764,-84 1764,-84 1764,-143 1764,-143 1764,-149 1758,-155 1752,-155\"/>\n<text text-anchor=\"middle\" x=\"1677.5\" y=\"-139.8\" font-family=\"Helvetica,sans-Serif\" font-size=\"14.00\">blood_cholesterol &lt;= 3.57</text>\n<text text-anchor=\"middle\" x=\"1677.5\" y=\"-124.8\" font-family=\"Helvetica,sans-Serif\" font-size=\"14.00\">entropy = 0.971</text>\n<text text-anchor=\"middle\" x=\"1677.5\" y=\"-109.8\" font-family=\"Helvetica,sans-Serif\" font-size=\"14.00\">samples = 10</text>\n<text text-anchor=\"middle\" x=\"1677.5\" y=\"-94.8\" font-family=\"Helvetica,sans-Serif\" font-size=\"14.00\">value = [4, 6]</text>\n<text text-anchor=\"middle\" x=\"1677.5\" y=\"-79.8\" font-family=\"Helvetica,sans-Serif\" font-size=\"14.00\">class = heart_yes</text>\n</g>\n<!-- 268&#45;&gt;269 -->\n<g id=\"edge41\" class=\"edge\">\n<title>268&#45;&gt;269</title>\n<path fill=\"none\" stroke=\"black\" d=\"M1746.07,-190.91C1737.85,-181.74 1729.04,-171.93 1720.57,-162.49\"/>\n<polygon fill=\"black\" stroke=\"black\" points=\"1723.15,-160.13 1713.86,-155.02 1717.94,-164.8 1723.15,-160.13\"/>\n</g>\n<!-- 272 -->\n<g id=\"node45\" class=\"node\">\n<title>272</title>\n<path fill=\"#46a3e7\" stroke=\"black\" d=\"M1950.5,-155C1950.5,-155 1794.5,-155 1794.5,-155 1788.5,-155 1782.5,-149 1782.5,-143 1782.5,-143 1782.5,-84 1782.5,-84 1782.5,-78 1788.5,-72 1794.5,-72 1794.5,-72 1950.5,-72 1950.5,-72 1956.5,-72 1962.5,-78 1962.5,-84 1962.5,-84 1962.5,-143 1962.5,-143 1962.5,-149 1956.5,-155 1950.5,-155\"/>\n<text text-anchor=\"middle\" x=\"1872.5\" y=\"-139.8\" font-family=\"Helvetica,sans-Serif\" font-size=\"14.00\">blood_cholesterol &lt;= 5.545</text>\n<text text-anchor=\"middle\" x=\"1872.5\" y=\"-124.8\" font-family=\"Helvetica,sans-Serif\" font-size=\"14.00\">entropy = 0.326</text>\n<text text-anchor=\"middle\" x=\"1872.5\" y=\"-109.8\" font-family=\"Helvetica,sans-Serif\" font-size=\"14.00\">samples = 84</text>\n<text text-anchor=\"middle\" x=\"1872.5\" y=\"-94.8\" font-family=\"Helvetica,sans-Serif\" font-size=\"14.00\">value = [5, 79]</text>\n<text text-anchor=\"middle\" x=\"1872.5\" y=\"-79.8\" font-family=\"Helvetica,sans-Serif\" font-size=\"14.00\">class = heart_yes</text>\n</g>\n<!-- 268&#45;&gt;272 -->\n<g id=\"edge44\" class=\"edge\">\n<title>268&#45;&gt;272</title>\n<path fill=\"none\" stroke=\"black\" d=\"M1813.73,-190.91C1820.64,-181.92 1828.03,-172.32 1835.15,-163.05\"/>\n<polygon fill=\"black\" stroke=\"black\" points=\"1838.01,-165.08 1841.33,-155.02 1832.46,-160.81 1838.01,-165.08\"/>\n</g>\n<!-- 270 -->\n<g id=\"node43\" class=\"node\">\n<title>270</title>\n<path fill=\"#c0c0c0\" stroke=\"black\" d=\"M1656.5,-36C1656.5,-36 1626.5,-36 1626.5,-36 1620.5,-36 1614.5,-30 1614.5,-24 1614.5,-24 1614.5,-12 1614.5,-12 1614.5,-6 1620.5,0 1626.5,0 1626.5,0 1656.5,0 1656.5,0 1662.5,0 1668.5,-6 1668.5,-12 1668.5,-12 1668.5,-24 1668.5,-24 1668.5,-30 1662.5,-36 1656.5,-36\"/>\n<text text-anchor=\"middle\" x=\"1641.5\" y=\"-14.3\" font-family=\"Helvetica,sans-Serif\" font-size=\"14.00\">(...)</text>\n</g>\n<!-- 269&#45;&gt;270 -->\n<g id=\"edge42\" class=\"edge\">\n<title>269&#45;&gt;270</title>\n<path fill=\"none\" stroke=\"black\" d=\"M1661.81,-71.76C1658.46,-63.04 1654.99,-54.04 1651.89,-45.99\"/>\n<polygon fill=\"black\" stroke=\"black\" points=\"1655.06,-44.48 1648.2,-36.41 1648.53,-46.99 1655.06,-44.48\"/>\n</g>\n<!-- 271 -->\n<g id=\"node44\" class=\"node\">\n<title>271</title>\n<path fill=\"#c0c0c0\" stroke=\"black\" d=\"M1728.5,-36C1728.5,-36 1698.5,-36 1698.5,-36 1692.5,-36 1686.5,-30 1686.5,-24 1686.5,-24 1686.5,-12 1686.5,-12 1686.5,-6 1692.5,0 1698.5,0 1698.5,0 1728.5,0 1728.5,0 1734.5,0 1740.5,-6 1740.5,-12 1740.5,-12 1740.5,-24 1740.5,-24 1740.5,-30 1734.5,-36 1728.5,-36\"/>\n<text text-anchor=\"middle\" x=\"1713.5\" y=\"-14.3\" font-family=\"Helvetica,sans-Serif\" font-size=\"14.00\">(...)</text>\n</g>\n<!-- 269&#45;&gt;271 -->\n<g id=\"edge43\" class=\"edge\">\n<title>269&#45;&gt;271</title>\n<path fill=\"none\" stroke=\"black\" d=\"M1693.19,-71.76C1696.54,-63.04 1700.01,-54.04 1703.11,-45.99\"/>\n<polygon fill=\"black\" stroke=\"black\" points=\"1706.47,-46.99 1706.8,-36.41 1699.94,-44.48 1706.47,-46.99\"/>\n</g>\n<!-- 273 -->\n<g id=\"node46\" class=\"node\">\n<title>273</title>\n<path fill=\"#c0c0c0\" stroke=\"black\" d=\"M1863.5,-36C1863.5,-36 1833.5,-36 1833.5,-36 1827.5,-36 1821.5,-30 1821.5,-24 1821.5,-24 1821.5,-12 1821.5,-12 1821.5,-6 1827.5,0 1833.5,0 1833.5,0 1863.5,0 1863.5,0 1869.5,0 1875.5,-6 1875.5,-12 1875.5,-12 1875.5,-24 1875.5,-24 1875.5,-30 1869.5,-36 1863.5,-36\"/>\n<text text-anchor=\"middle\" x=\"1848.5\" y=\"-14.3\" font-family=\"Helvetica,sans-Serif\" font-size=\"14.00\">(...)</text>\n</g>\n<!-- 272&#45;&gt;273 -->\n<g id=\"edge45\" class=\"edge\">\n<title>272&#45;&gt;273</title>\n<path fill=\"none\" stroke=\"black\" d=\"M1862.04,-71.76C1859.83,-63.14 1857.55,-54.24 1855.5,-46.26\"/>\n<polygon fill=\"black\" stroke=\"black\" points=\"1858.84,-45.22 1852.97,-36.41 1852.06,-46.96 1858.84,-45.22\"/>\n</g>\n<!-- 278 -->\n<g id=\"node47\" class=\"node\">\n<title>278</title>\n<path fill=\"#c0c0c0\" stroke=\"black\" d=\"M1935.5,-36C1935.5,-36 1905.5,-36 1905.5,-36 1899.5,-36 1893.5,-30 1893.5,-24 1893.5,-24 1893.5,-12 1893.5,-12 1893.5,-6 1899.5,0 1905.5,0 1905.5,0 1935.5,0 1935.5,0 1941.5,0 1947.5,-6 1947.5,-12 1947.5,-12 1947.5,-24 1947.5,-24 1947.5,-30 1941.5,-36 1935.5,-36\"/>\n<text text-anchor=\"middle\" x=\"1920.5\" y=\"-14.3\" font-family=\"Helvetica,sans-Serif\" font-size=\"14.00\">(...)</text>\n</g>\n<!-- 272&#45;&gt;278 -->\n<g id=\"edge46\" class=\"edge\">\n<title>272&#45;&gt;278</title>\n<path fill=\"none\" stroke=\"black\" d=\"M1893.41,-71.76C1897.99,-62.85 1902.72,-53.64 1906.92,-45.46\"/>\n<polygon fill=\"black\" stroke=\"black\" points=\"1910.11,-46.9 1911.56,-36.41 1903.88,-43.7 1910.11,-46.9\"/>\n</g>\n<!-- 282 -->\n<g id=\"node49\" class=\"node\">\n<title>282</title>\n<path fill=\"#97cbf1\" stroke=\"black\" d=\"M2096.5,-155C2096.5,-155 1992.5,-155 1992.5,-155 1986.5,-155 1980.5,-149 1980.5,-143 1980.5,-143 1980.5,-84 1980.5,-84 1980.5,-78 1986.5,-72 1992.5,-72 1992.5,-72 2096.5,-72 2096.5,-72 2102.5,-72 2108.5,-78 2108.5,-84 2108.5,-84 2108.5,-143 2108.5,-143 2108.5,-149 2102.5,-155 2096.5,-155\"/>\n<text text-anchor=\"middle\" x=\"2044.5\" y=\"-139.8\" font-family=\"Helvetica,sans-Serif\" font-size=\"14.00\">calories &lt;= 3316.5</text>\n<text text-anchor=\"middle\" x=\"2044.5\" y=\"-124.8\" font-family=\"Helvetica,sans-Serif\" font-size=\"14.00\">entropy = 0.906</text>\n<text text-anchor=\"middle\" x=\"2044.5\" y=\"-109.8\" font-family=\"Helvetica,sans-Serif\" font-size=\"14.00\">samples = 280</text>\n<text text-anchor=\"middle\" x=\"2044.5\" y=\"-94.8\" font-family=\"Helvetica,sans-Serif\" font-size=\"14.00\">value = [90, 190]</text>\n<text text-anchor=\"middle\" x=\"2044.5\" y=\"-79.8\" font-family=\"Helvetica,sans-Serif\" font-size=\"14.00\">class = heart_yes</text>\n</g>\n<!-- 281&#45;&gt;282 -->\n<g id=\"edge48\" class=\"edge\">\n<title>281&#45;&gt;282</title>\n<path fill=\"none\" stroke=\"black\" d=\"M2044.5,-190.91C2044.5,-182.65 2044.5,-173.86 2044.5,-165.3\"/>\n<polygon fill=\"black\" stroke=\"black\" points=\"2048,-165.02 2044.5,-155.02 2041,-165.02 2048,-165.02\"/>\n</g>\n<!-- 333 -->\n<g id=\"node52\" class=\"node\">\n<title>333</title>\n<path fill=\"#e58139\" stroke=\"black\" d=\"M2230.5,-147.5C2230.5,-147.5 2138.5,-147.5 2138.5,-147.5 2132.5,-147.5 2126.5,-141.5 2126.5,-135.5 2126.5,-135.5 2126.5,-91.5 2126.5,-91.5 2126.5,-85.5 2132.5,-79.5 2138.5,-79.5 2138.5,-79.5 2230.5,-79.5 2230.5,-79.5 2236.5,-79.5 2242.5,-85.5 2242.5,-91.5 2242.5,-91.5 2242.5,-135.5 2242.5,-135.5 2242.5,-141.5 2236.5,-147.5 2230.5,-147.5\"/>\n<text text-anchor=\"middle\" x=\"2184.5\" y=\"-132.3\" font-family=\"Helvetica,sans-Serif\" font-size=\"14.00\">entropy = 0.0</text>\n<text text-anchor=\"middle\" x=\"2184.5\" y=\"-117.3\" font-family=\"Helvetica,sans-Serif\" font-size=\"14.00\">samples = 12</text>\n<text text-anchor=\"middle\" x=\"2184.5\" y=\"-102.3\" font-family=\"Helvetica,sans-Serif\" font-size=\"14.00\">value = [12, 0]</text>\n<text text-anchor=\"middle\" x=\"2184.5\" y=\"-87.3\" font-family=\"Helvetica,sans-Serif\" font-size=\"14.00\">class = heart_no</text>\n</g>\n<!-- 281&#45;&gt;333 -->\n<g id=\"edge51\" class=\"edge\">\n<title>281&#45;&gt;333</title>\n<path fill=\"none\" stroke=\"black\" d=\"M2093.07,-190.91C2107.33,-178.99 2122.91,-165.98 2137.09,-154.12\"/>\n<polygon fill=\"black\" stroke=\"black\" points=\"2139.38,-156.77 2144.81,-147.67 2134.9,-151.39 2139.38,-156.77\"/>\n</g>\n<!-- 283 -->\n<g id=\"node50\" class=\"node\">\n<title>283</title>\n<path fill=\"#c0c0c0\" stroke=\"black\" d=\"M2010.5,-36C2010.5,-36 1980.5,-36 1980.5,-36 1974.5,-36 1968.5,-30 1968.5,-24 1968.5,-24 1968.5,-12 1968.5,-12 1968.5,-6 1974.5,0 1980.5,0 1980.5,0 2010.5,0 2010.5,0 2016.5,0 2022.5,-6 2022.5,-12 2022.5,-12 2022.5,-24 2022.5,-24 2022.5,-30 2016.5,-36 2010.5,-36\"/>\n<text text-anchor=\"middle\" x=\"1995.5\" y=\"-14.3\" font-family=\"Helvetica,sans-Serif\" font-size=\"14.00\">(...)</text>\n</g>\n<!-- 282&#45;&gt;283 -->\n<g id=\"edge49\" class=\"edge\">\n<title>282&#45;&gt;283</title>\n<path fill=\"none\" stroke=\"black\" d=\"M2023.15,-71.76C2018.48,-62.85 2013.65,-53.64 2009.37,-45.46\"/>\n<polygon fill=\"black\" stroke=\"black\" points=\"2012.36,-43.64 2004.62,-36.41 2006.16,-46.89 2012.36,-43.64\"/>\n</g>\n<!-- 332 -->\n<g id=\"node51\" class=\"node\">\n<title>332</title>\n<path fill=\"#c0c0c0\" stroke=\"black\" d=\"M2082.5,-36C2082.5,-36 2052.5,-36 2052.5,-36 2046.5,-36 2040.5,-30 2040.5,-24 2040.5,-24 2040.5,-12 2040.5,-12 2040.5,-6 2046.5,0 2052.5,0 2052.5,0 2082.5,0 2082.5,0 2088.5,0 2094.5,-6 2094.5,-12 2094.5,-12 2094.5,-24 2094.5,-24 2094.5,-30 2088.5,-36 2082.5,-36\"/>\n<text text-anchor=\"middle\" x=\"2067.5\" y=\"-14.3\" font-family=\"Helvetica,sans-Serif\" font-size=\"14.00\">(...)</text>\n</g>\n<!-- 282&#45;&gt;332 -->\n<g id=\"edge50\" class=\"edge\">\n<title>282&#45;&gt;332</title>\n<path fill=\"none\" stroke=\"black\" d=\"M2054.52,-71.76C2056.64,-63.14 2058.83,-54.24 2060.79,-46.26\"/>\n<polygon fill=\"black\" stroke=\"black\" points=\"2064.23,-46.95 2063.22,-36.41 2057.43,-45.28 2064.23,-46.95\"/>\n</g>\n<!-- 335 -->\n<g id=\"node54\" class=\"node\">\n<title>335</title>\n<path fill=\"#c8e4f8\" stroke=\"black\" d=\"M2883,-512C2883,-512 2760,-512 2760,-512 2754,-512 2748,-506 2748,-500 2748,-500 2748,-441 2748,-441 2748,-435 2754,-429 2760,-429 2760,-429 2883,-429 2883,-429 2889,-429 2895,-435 2895,-441 2895,-441 2895,-500 2895,-500 2895,-506 2889,-512 2883,-512\"/>\n<text text-anchor=\"middle\" x=\"2821.5\" y=\"-496.8\" font-family=\"Helvetica,sans-Serif\" font-size=\"14.00\">age &lt;= 77.5</text>\n<text text-anchor=\"middle\" x=\"2821.5\" y=\"-481.8\" font-family=\"Helvetica,sans-Serif\" font-size=\"14.00\">entropy = 0.981</text>\n<text text-anchor=\"middle\" x=\"2821.5\" y=\"-466.8\" font-family=\"Helvetica,sans-Serif\" font-size=\"14.00\">samples = 1465</text>\n<text text-anchor=\"middle\" x=\"2821.5\" y=\"-451.8\" font-family=\"Helvetica,sans-Serif\" font-size=\"14.00\">value = [614.0, 851.0]</text>\n<text text-anchor=\"middle\" x=\"2821.5\" y=\"-436.8\" font-family=\"Helvetica,sans-Serif\" font-size=\"14.00\">class = heart_yes</text>\n</g>\n<!-- 334&#45;&gt;335 -->\n<g id=\"edge53\" class=\"edge\">\n<title>334&#45;&gt;335</title>\n<path fill=\"none\" stroke=\"black\" d=\"M2821.5,-547.91C2821.5,-539.65 2821.5,-530.86 2821.5,-522.3\"/>\n<polygon fill=\"black\" stroke=\"black\" points=\"2825,-522.02 2821.5,-512.02 2818,-522.02 2825,-522.02\"/>\n</g>\n<!-- 572 -->\n<g id=\"node81\" class=\"node\">\n<title>572</title>\n<path fill=\"#59ade9\" stroke=\"black\" d=\"M3687.5,-512C3687.5,-512 3531.5,-512 3531.5,-512 3525.5,-512 3519.5,-506 3519.5,-500 3519.5,-500 3519.5,-441 3519.5,-441 3519.5,-435 3525.5,-429 3531.5,-429 3531.5,-429 3687.5,-429 3687.5,-429 3693.5,-429 3699.5,-435 3699.5,-441 3699.5,-441 3699.5,-500 3699.5,-500 3699.5,-506 3693.5,-512 3687.5,-512\"/>\n<text text-anchor=\"middle\" x=\"3609.5\" y=\"-496.8\" font-family=\"Helvetica,sans-Serif\" font-size=\"14.00\">blood_cholesterol &lt;= 3.605</text>\n<text text-anchor=\"middle\" x=\"3609.5\" y=\"-481.8\" font-family=\"Helvetica,sans-Serif\" font-size=\"14.00\">entropy = 0.582</text>\n<text text-anchor=\"middle\" x=\"3609.5\" y=\"-466.8\" font-family=\"Helvetica,sans-Serif\" font-size=\"14.00\">samples = 883</text>\n<text text-anchor=\"middle\" x=\"3609.5\" y=\"-451.8\" font-family=\"Helvetica,sans-Serif\" font-size=\"14.00\">value = [123.0, 760.0]</text>\n<text text-anchor=\"middle\" x=\"3609.5\" y=\"-436.8\" font-family=\"Helvetica,sans-Serif\" font-size=\"14.00\">class = heart_yes</text>\n</g>\n<!-- 334&#45;&gt;572 -->\n<g id=\"edge80\" class=\"edge\">\n<title>334&#45;&gt;572</title>\n<path fill=\"none\" stroke=\"black\" d=\"M2887.67,-578.68C3025.83,-558.16 3345.7,-510.67 3509.26,-486.38\"/>\n<polygon fill=\"black\" stroke=\"black\" points=\"3509.95,-489.82 3519.32,-484.89 3508.92,-482.9 3509.95,-489.82\"/>\n</g>\n<!-- 336 -->\n<g id=\"node55\" class=\"node\">\n<title>336</title>\n<path fill=\"#fefcfb\" stroke=\"black\" d=\"M2746,-393C2746,-393 2615,-393 2615,-393 2609,-393 2603,-387 2603,-381 2603,-381 2603,-322 2603,-322 2603,-316 2609,-310 2615,-310 2615,-310 2746,-310 2746,-310 2752,-310 2758,-316 2758,-322 2758,-322 2758,-381 2758,-381 2758,-387 2752,-393 2746,-393\"/>\n<text text-anchor=\"middle\" x=\"2680.5\" y=\"-377.8\" font-family=\"Helvetica,sans-Serif\" font-size=\"14.00\">family_income &lt;= 3.84</text>\n<text text-anchor=\"middle\" x=\"2680.5\" y=\"-362.8\" font-family=\"Helvetica,sans-Serif\" font-size=\"14.00\">entropy = 1.0</text>\n<text text-anchor=\"middle\" x=\"2680.5\" y=\"-347.8\" font-family=\"Helvetica,sans-Serif\" font-size=\"14.00\">samples = 936</text>\n<text text-anchor=\"middle\" x=\"2680.5\" y=\"-332.8\" font-family=\"Helvetica,sans-Serif\" font-size=\"14.00\">value = [473, 463]</text>\n<text text-anchor=\"middle\" x=\"2680.5\" y=\"-317.8\" font-family=\"Helvetica,sans-Serif\" font-size=\"14.00\">class = heart_no</text>\n</g>\n<!-- 335&#45;&gt;336 -->\n<g id=\"edge54\" class=\"edge\">\n<title>335&#45;&gt;336</title>\n<path fill=\"none\" stroke=\"black\" d=\"M2772.58,-428.91C2761.21,-419.47 2749,-409.34 2737.32,-399.65\"/>\n<polygon fill=\"black\" stroke=\"black\" points=\"2739.26,-396.71 2729.33,-393.02 2734.79,-402.1 2739.26,-396.71\"/>\n</g>\n<!-- 483 -->\n<g id=\"node70\" class=\"node\">\n<title>483</title>\n<path fill=\"#81c1ee\" stroke=\"black\" d=\"M3014.5,-393C3014.5,-393 2888.5,-393 2888.5,-393 2882.5,-393 2876.5,-387 2876.5,-381 2876.5,-381 2876.5,-322 2876.5,-322 2876.5,-316 2882.5,-310 2888.5,-310 2888.5,-310 3014.5,-310 3014.5,-310 3020.5,-310 3026.5,-316 3026.5,-322 3026.5,-322 3026.5,-381 3026.5,-381 3026.5,-387 3020.5,-393 3014.5,-393\"/>\n<text text-anchor=\"middle\" x=\"2951.5\" y=\"-377.8\" font-family=\"Helvetica,sans-Serif\" font-size=\"14.00\">gender_female &lt;= 0.5</text>\n<text text-anchor=\"middle\" x=\"2951.5\" y=\"-362.8\" font-family=\"Helvetica,sans-Serif\" font-size=\"14.00\">entropy = 0.836</text>\n<text text-anchor=\"middle\" x=\"2951.5\" y=\"-347.8\" font-family=\"Helvetica,sans-Serif\" font-size=\"14.00\">samples = 529</text>\n<text text-anchor=\"middle\" x=\"2951.5\" y=\"-332.8\" font-family=\"Helvetica,sans-Serif\" font-size=\"14.00\">value = [141, 388]</text>\n<text text-anchor=\"middle\" x=\"2951.5\" y=\"-317.8\" font-family=\"Helvetica,sans-Serif\" font-size=\"14.00\">class = heart_yes</text>\n</g>\n<!-- 335&#45;&gt;483 -->\n<g id=\"edge69\" class=\"edge\">\n<title>335&#45;&gt;483</title>\n<path fill=\"none\" stroke=\"black\" d=\"M2866.6,-428.91C2876.99,-419.56 2888.12,-409.54 2898.8,-399.93\"/>\n<polygon fill=\"black\" stroke=\"black\" points=\"2901.39,-402.31 2906.48,-393.02 2896.7,-397.11 2901.39,-402.31\"/>\n</g>\n<!-- 337 -->\n<g id=\"node56\" class=\"node\">\n<title>337</title>\n<path fill=\"#dbedfa\" stroke=\"black\" d=\"M2531,-274C2531,-274 2408,-274 2408,-274 2402,-274 2396,-268 2396,-262 2396,-262 2396,-203 2396,-203 2396,-197 2402,-191 2408,-191 2408,-191 2531,-191 2531,-191 2537,-191 2543,-197 2543,-203 2543,-203 2543,-262 2543,-262 2543,-268 2537,-274 2531,-274\"/>\n<text text-anchor=\"middle\" x=\"2469.5\" y=\"-258.8\" font-family=\"Helvetica,sans-Serif\" font-size=\"14.00\">BMI &lt;= 16.05</text>\n<text text-anchor=\"middle\" x=\"2469.5\" y=\"-243.8\" font-family=\"Helvetica,sans-Serif\" font-size=\"14.00\">entropy = 0.993</text>\n<text text-anchor=\"middle\" x=\"2469.5\" y=\"-228.8\" font-family=\"Helvetica,sans-Serif\" font-size=\"14.00\">samples = 737</text>\n<text text-anchor=\"middle\" x=\"2469.5\" y=\"-213.8\" font-family=\"Helvetica,sans-Serif\" font-size=\"14.00\">value = [332.0, 405.0]</text>\n<text text-anchor=\"middle\" x=\"2469.5\" y=\"-198.8\" font-family=\"Helvetica,sans-Serif\" font-size=\"14.00\">class = heart_yes</text>\n</g>\n<!-- 336&#45;&gt;337 -->\n<g id=\"edge55\" class=\"edge\">\n<title>336&#45;&gt;337</title>\n<path fill=\"none\" stroke=\"black\" d=\"M2607.29,-309.91C2589.29,-299.92 2569.9,-289.17 2551.51,-278.98\"/>\n<polygon fill=\"black\" stroke=\"black\" points=\"2553.02,-275.81 2542.58,-274.02 2549.62,-281.93 2553.02,-275.81\"/>\n</g>\n<!-- 458 -->\n<g id=\"node63\" class=\"node\">\n<title>458</title>\n<path fill=\"#f0b58a\" stroke=\"black\" d=\"M2727,-274C2727,-274 2634,-274 2634,-274 2628,-274 2622,-268 2622,-262 2622,-262 2622,-203 2622,-203 2622,-197 2628,-191 2634,-191 2634,-191 2727,-191 2727,-191 2733,-191 2739,-197 2739,-203 2739,-203 2739,-262 2739,-262 2739,-268 2733,-274 2727,-274\"/>\n<text text-anchor=\"middle\" x=\"2680.5\" y=\"-258.8\" font-family=\"Helvetica,sans-Serif\" font-size=\"14.00\">BMI &lt;= 23.25</text>\n<text text-anchor=\"middle\" x=\"2680.5\" y=\"-243.8\" font-family=\"Helvetica,sans-Serif\" font-size=\"14.00\">entropy = 0.871</text>\n<text text-anchor=\"middle\" x=\"2680.5\" y=\"-228.8\" font-family=\"Helvetica,sans-Serif\" font-size=\"14.00\">samples = 199</text>\n<text text-anchor=\"middle\" x=\"2680.5\" y=\"-213.8\" font-family=\"Helvetica,sans-Serif\" font-size=\"14.00\">value = [141, 58]</text>\n<text text-anchor=\"middle\" x=\"2680.5\" y=\"-198.8\" font-family=\"Helvetica,sans-Serif\" font-size=\"14.00\">class = heart_no</text>\n</g>\n<!-- 336&#45;&gt;458 -->\n<g id=\"edge62\" class=\"edge\">\n<title>336&#45;&gt;458</title>\n<path fill=\"none\" stroke=\"black\" d=\"M2680.5,-309.91C2680.5,-301.65 2680.5,-292.86 2680.5,-284.3\"/>\n<polygon fill=\"black\" stroke=\"black\" points=\"2684,-284.02 2680.5,-274.02 2677,-284.02 2684,-284.02\"/>\n</g>\n<!-- 338 -->\n<g id=\"node57\" class=\"node\">\n<title>338</title>\n<path fill=\"#67b4eb\" stroke=\"black\" d=\"M2370.5,-155C2370.5,-155 2272.5,-155 2272.5,-155 2266.5,-155 2260.5,-149 2260.5,-143 2260.5,-143 2260.5,-84 2260.5,-84 2260.5,-78 2266.5,-72 2272.5,-72 2272.5,-72 2370.5,-72 2370.5,-72 2376.5,-72 2382.5,-78 2382.5,-84 2382.5,-84 2382.5,-143 2382.5,-143 2382.5,-149 2376.5,-155 2370.5,-155\"/>\n<text text-anchor=\"middle\" x=\"2321.5\" y=\"-139.8\" font-family=\"Helvetica,sans-Serif\" font-size=\"14.00\">BMI &lt;= 13.85</text>\n<text text-anchor=\"middle\" x=\"2321.5\" y=\"-124.8\" font-family=\"Helvetica,sans-Serif\" font-size=\"14.00\">entropy = 0.701</text>\n<text text-anchor=\"middle\" x=\"2321.5\" y=\"-109.8\" font-family=\"Helvetica,sans-Serif\" font-size=\"14.00\">samples = 100</text>\n<text text-anchor=\"middle\" x=\"2321.5\" y=\"-94.8\" font-family=\"Helvetica,sans-Serif\" font-size=\"14.00\">value = [19, 81]</text>\n<text text-anchor=\"middle\" x=\"2321.5\" y=\"-79.8\" font-family=\"Helvetica,sans-Serif\" font-size=\"14.00\">class = heart_yes</text>\n</g>\n<!-- 337&#45;&gt;338 -->\n<g id=\"edge56\" class=\"edge\">\n<title>337&#45;&gt;338</title>\n<path fill=\"none\" stroke=\"black\" d=\"M2418.15,-190.91C2406.1,-181.38 2393.16,-171.15 2380.79,-161.37\"/>\n<polygon fill=\"black\" stroke=\"black\" points=\"2382.77,-158.48 2372.76,-155.02 2378.43,-163.97 2382.77,-158.48\"/>\n</g>\n<!-- 357 -->\n<g id=\"node60\" class=\"node\">\n<title>357</title>\n<path fill=\"#f8fcfe\" stroke=\"black\" d=\"M2526.5,-155C2526.5,-155 2412.5,-155 2412.5,-155 2406.5,-155 2400.5,-149 2400.5,-143 2400.5,-143 2400.5,-84 2400.5,-84 2400.5,-78 2406.5,-72 2412.5,-72 2412.5,-72 2526.5,-72 2526.5,-72 2532.5,-72 2538.5,-78 2538.5,-84 2538.5,-84 2538.5,-143 2538.5,-143 2538.5,-149 2532.5,-155 2526.5,-155\"/>\n<text text-anchor=\"middle\" x=\"2469.5\" y=\"-139.8\" font-family=\"Helvetica,sans-Serif\" font-size=\"14.00\">diastolic_bp &lt;= 83.0</text>\n<text text-anchor=\"middle\" x=\"2469.5\" y=\"-124.8\" font-family=\"Helvetica,sans-Serif\" font-size=\"14.00\">entropy = 1.0</text>\n<text text-anchor=\"middle\" x=\"2469.5\" y=\"-109.8\" font-family=\"Helvetica,sans-Serif\" font-size=\"14.00\">samples = 637</text>\n<text text-anchor=\"middle\" x=\"2469.5\" y=\"-94.8\" font-family=\"Helvetica,sans-Serif\" font-size=\"14.00\">value = [313, 324]</text>\n<text text-anchor=\"middle\" x=\"2469.5\" y=\"-79.8\" font-family=\"Helvetica,sans-Serif\" font-size=\"14.00\">class = heart_yes</text>\n</g>\n<!-- 337&#45;&gt;357 -->\n<g id=\"edge59\" class=\"edge\">\n<title>337&#45;&gt;357</title>\n<path fill=\"none\" stroke=\"black\" d=\"M2469.5,-190.91C2469.5,-182.65 2469.5,-173.86 2469.5,-165.3\"/>\n<polygon fill=\"black\" stroke=\"black\" points=\"2473,-165.02 2469.5,-155.02 2466,-165.02 2473,-165.02\"/>\n</g>\n<!-- 339 -->\n<g id=\"node58\" class=\"node\">\n<title>339</title>\n<path fill=\"#c0c0c0\" stroke=\"black\" d=\"M2269.5,-36C2269.5,-36 2239.5,-36 2239.5,-36 2233.5,-36 2227.5,-30 2227.5,-24 2227.5,-24 2227.5,-12 2227.5,-12 2227.5,-6 2233.5,0 2239.5,0 2239.5,0 2269.5,0 2269.5,0 2275.5,0 2281.5,-6 2281.5,-12 2281.5,-12 2281.5,-24 2281.5,-24 2281.5,-30 2275.5,-36 2269.5,-36\"/>\n<text text-anchor=\"middle\" x=\"2254.5\" y=\"-14.3\" font-family=\"Helvetica,sans-Serif\" font-size=\"14.00\">(...)</text>\n</g>\n<!-- 338&#45;&gt;339 -->\n<g id=\"edge57\" class=\"edge\">\n<title>338&#45;&gt;339</title>\n<path fill=\"none\" stroke=\"black\" d=\"M2292.31,-71.76C2285.71,-62.56 2278.89,-53.04 2272.89,-44.66\"/>\n<polygon fill=\"black\" stroke=\"black\" points=\"2275.64,-42.49 2266.97,-36.41 2269.95,-46.57 2275.64,-42.49\"/>\n</g>\n<!-- 340 -->\n<g id=\"node59\" class=\"node\">\n<title>340</title>\n<path fill=\"#c0c0c0\" stroke=\"black\" d=\"M2341.5,-36C2341.5,-36 2311.5,-36 2311.5,-36 2305.5,-36 2299.5,-30 2299.5,-24 2299.5,-24 2299.5,-12 2299.5,-12 2299.5,-6 2305.5,0 2311.5,0 2311.5,0 2341.5,0 2341.5,0 2347.5,0 2353.5,-6 2353.5,-12 2353.5,-12 2353.5,-24 2353.5,-24 2353.5,-30 2347.5,-36 2341.5,-36\"/>\n<text text-anchor=\"middle\" x=\"2326.5\" y=\"-14.3\" font-family=\"Helvetica,sans-Serif\" font-size=\"14.00\">(...)</text>\n</g>\n<!-- 338&#45;&gt;340 -->\n<g id=\"edge58\" class=\"edge\">\n<title>338&#45;&gt;340</title>\n<path fill=\"none\" stroke=\"black\" d=\"M2323.68,-71.76C2324.13,-63.24 2324.6,-54.44 2325.03,-46.53\"/>\n<polygon fill=\"black\" stroke=\"black\" points=\"2328.53,-46.58 2325.57,-36.41 2321.54,-46.2 2328.53,-46.58\"/>\n</g>\n<!-- 358 -->\n<g id=\"node61\" class=\"node\">\n<title>358</title>\n<path fill=\"#c0c0c0\" stroke=\"black\" d=\"M2451.5,-36C2451.5,-36 2421.5,-36 2421.5,-36 2415.5,-36 2409.5,-30 2409.5,-24 2409.5,-24 2409.5,-12 2409.5,-12 2409.5,-6 2415.5,0 2421.5,0 2421.5,0 2451.5,0 2451.5,0 2457.5,0 2463.5,-6 2463.5,-12 2463.5,-12 2463.5,-24 2463.5,-24 2463.5,-30 2457.5,-36 2451.5,-36\"/>\n<text text-anchor=\"middle\" x=\"2436.5\" y=\"-14.3\" font-family=\"Helvetica,sans-Serif\" font-size=\"14.00\">(...)</text>\n</g>\n<!-- 357&#45;&gt;358 -->\n<g id=\"edge60\" class=\"edge\">\n<title>357&#45;&gt;358</title>\n<path fill=\"none\" stroke=\"black\" d=\"M2455.12,-71.76C2452.04,-63.04 2448.87,-54.04 2446.03,-45.99\"/>\n<polygon fill=\"black\" stroke=\"black\" points=\"2449.27,-44.67 2442.64,-36.41 2442.67,-47 2449.27,-44.67\"/>\n</g>\n<!-- 457 -->\n<g id=\"node62\" class=\"node\">\n<title>457</title>\n<path fill=\"#c0c0c0\" stroke=\"black\" d=\"M2523.5,-36C2523.5,-36 2493.5,-36 2493.5,-36 2487.5,-36 2481.5,-30 2481.5,-24 2481.5,-24 2481.5,-12 2481.5,-12 2481.5,-6 2487.5,0 2493.5,0 2493.5,0 2523.5,0 2523.5,0 2529.5,0 2535.5,-6 2535.5,-12 2535.5,-12 2535.5,-24 2535.5,-24 2535.5,-30 2529.5,-36 2523.5,-36\"/>\n<text text-anchor=\"middle\" x=\"2508.5\" y=\"-14.3\" font-family=\"Helvetica,sans-Serif\" font-size=\"14.00\">(...)</text>\n</g>\n<!-- 357&#45;&gt;457 -->\n<g id=\"edge61\" class=\"edge\">\n<title>357&#45;&gt;457</title>\n<path fill=\"none\" stroke=\"black\" d=\"M2486.49,-71.76C2490.17,-62.94 2493.97,-53.84 2497.35,-45.72\"/>\n<polygon fill=\"black\" stroke=\"black\" points=\"2500.62,-46.98 2501.24,-36.41 2494.16,-44.29 2500.62,-46.98\"/>\n</g>\n<!-- 459 -->\n<g id=\"node64\" class=\"node\">\n<title>459</title>\n<path fill=\"#fae7d9\" stroke=\"black\" d=\"M2682.5,-155C2682.5,-155 2568.5,-155 2568.5,-155 2562.5,-155 2556.5,-149 2556.5,-143 2556.5,-143 2556.5,-84 2556.5,-84 2556.5,-78 2562.5,-72 2568.5,-72 2568.5,-72 2682.5,-72 2682.5,-72 2688.5,-72 2694.5,-78 2694.5,-84 2694.5,-84 2694.5,-143 2694.5,-143 2694.5,-149 2688.5,-155 2682.5,-155\"/>\n<text text-anchor=\"middle\" x=\"2625.5\" y=\"-139.8\" font-family=\"Helvetica,sans-Serif\" font-size=\"14.00\">diastolic_bp &lt;= 57.0</text>\n<text text-anchor=\"middle\" x=\"2625.5\" y=\"-124.8\" font-family=\"Helvetica,sans-Serif\" font-size=\"14.00\">entropy = 0.992</text>\n<text text-anchor=\"middle\" x=\"2625.5\" y=\"-109.8\" font-family=\"Helvetica,sans-Serif\" font-size=\"14.00\">samples = 114</text>\n<text text-anchor=\"middle\" x=\"2625.5\" y=\"-94.8\" font-family=\"Helvetica,sans-Serif\" font-size=\"14.00\">value = [63.0, 51.0]</text>\n<text text-anchor=\"middle\" x=\"2625.5\" y=\"-79.8\" font-family=\"Helvetica,sans-Serif\" font-size=\"14.00\">class = heart_no</text>\n</g>\n<!-- 458&#45;&gt;459 -->\n<g id=\"edge63\" class=\"edge\">\n<title>458&#45;&gt;459</title>\n<path fill=\"none\" stroke=\"black\" d=\"M2661.42,-190.91C2657.37,-182.29 2653.04,-173.09 2648.85,-164.17\"/>\n<polygon fill=\"black\" stroke=\"black\" points=\"2651.97,-162.58 2644.55,-155.02 2645.64,-165.56 2651.97,-162.58\"/>\n</g>\n<!-- 474 -->\n<g id=\"node67\" class=\"node\">\n<title>474</title>\n<path fill=\"#e78c4b\" stroke=\"black\" d=\"M2816.5,-155C2816.5,-155 2724.5,-155 2724.5,-155 2718.5,-155 2712.5,-149 2712.5,-143 2712.5,-143 2712.5,-84 2712.5,-84 2712.5,-78 2718.5,-72 2724.5,-72 2724.5,-72 2816.5,-72 2816.5,-72 2822.5,-72 2828.5,-78 2828.5,-84 2828.5,-84 2828.5,-143 2828.5,-143 2828.5,-149 2822.5,-155 2816.5,-155\"/>\n<text text-anchor=\"middle\" x=\"2770.5\" y=\"-139.8\" font-family=\"Helvetica,sans-Serif\" font-size=\"14.00\">age &lt;= 73.5</text>\n<text text-anchor=\"middle\" x=\"2770.5\" y=\"-124.8\" font-family=\"Helvetica,sans-Serif\" font-size=\"14.00\">entropy = 0.41</text>\n<text text-anchor=\"middle\" x=\"2770.5\" y=\"-109.8\" font-family=\"Helvetica,sans-Serif\" font-size=\"14.00\">samples = 85</text>\n<text text-anchor=\"middle\" x=\"2770.5\" y=\"-94.8\" font-family=\"Helvetica,sans-Serif\" font-size=\"14.00\">value = [78, 7]</text>\n<text text-anchor=\"middle\" x=\"2770.5\" y=\"-79.8\" font-family=\"Helvetica,sans-Serif\" font-size=\"14.00\">class = heart_no</text>\n</g>\n<!-- 458&#45;&gt;474 -->\n<g id=\"edge66\" class=\"edge\">\n<title>458&#45;&gt;474</title>\n<path fill=\"none\" stroke=\"black\" d=\"M2711.73,-190.91C2718.64,-181.92 2726.03,-172.32 2733.15,-163.05\"/>\n<polygon fill=\"black\" stroke=\"black\" points=\"2736.01,-165.08 2739.33,-155.02 2730.46,-160.81 2736.01,-165.08\"/>\n</g>\n<!-- 460 -->\n<g id=\"node65\" class=\"node\">\n<title>460</title>\n<path fill=\"#c0c0c0\" stroke=\"black\" d=\"M2601.5,-36C2601.5,-36 2571.5,-36 2571.5,-36 2565.5,-36 2559.5,-30 2559.5,-24 2559.5,-24 2559.5,-12 2559.5,-12 2559.5,-6 2565.5,0 2571.5,0 2571.5,0 2601.5,0 2601.5,0 2607.5,0 2613.5,-6 2613.5,-12 2613.5,-12 2613.5,-24 2613.5,-24 2613.5,-30 2607.5,-36 2601.5,-36\"/>\n<text text-anchor=\"middle\" x=\"2586.5\" y=\"-14.3\" font-family=\"Helvetica,sans-Serif\" font-size=\"14.00\">(...)</text>\n</g>\n<!-- 459&#45;&gt;460 -->\n<g id=\"edge64\" class=\"edge\">\n<title>459&#45;&gt;460</title>\n<path fill=\"none\" stroke=\"black\" d=\"M2608.51,-71.76C2604.83,-62.94 2601.03,-53.84 2597.65,-45.72\"/>\n<polygon fill=\"black\" stroke=\"black\" points=\"2600.84,-44.29 2593.76,-36.41 2594.38,-46.98 2600.84,-44.29\"/>\n</g>\n<!-- 463 -->\n<g id=\"node66\" class=\"node\">\n<title>463</title>\n<path fill=\"#c0c0c0\" stroke=\"black\" d=\"M2673.5,-36C2673.5,-36 2643.5,-36 2643.5,-36 2637.5,-36 2631.5,-30 2631.5,-24 2631.5,-24 2631.5,-12 2631.5,-12 2631.5,-6 2637.5,0 2643.5,0 2643.5,0 2673.5,0 2673.5,0 2679.5,0 2685.5,-6 2685.5,-12 2685.5,-12 2685.5,-24 2685.5,-24 2685.5,-30 2679.5,-36 2673.5,-36\"/>\n<text text-anchor=\"middle\" x=\"2658.5\" y=\"-14.3\" font-family=\"Helvetica,sans-Serif\" font-size=\"14.00\">(...)</text>\n</g>\n<!-- 459&#45;&gt;463 -->\n<g id=\"edge65\" class=\"edge\">\n<title>459&#45;&gt;463</title>\n<path fill=\"none\" stroke=\"black\" d=\"M2639.88,-71.76C2642.96,-63.04 2646.13,-54.04 2648.97,-45.99\"/>\n<polygon fill=\"black\" stroke=\"black\" points=\"2652.33,-47 2652.36,-36.41 2645.73,-44.67 2652.33,-47\"/>\n</g>\n<!-- 475 -->\n<g id=\"node68\" class=\"node\">\n<title>475</title>\n<path fill=\"#c0c0c0\" stroke=\"black\" d=\"M2745.5,-36C2745.5,-36 2715.5,-36 2715.5,-36 2709.5,-36 2703.5,-30 2703.5,-24 2703.5,-24 2703.5,-12 2703.5,-12 2703.5,-6 2709.5,0 2715.5,0 2715.5,0 2745.5,0 2745.5,0 2751.5,0 2757.5,-6 2757.5,-12 2757.5,-12 2757.5,-24 2757.5,-24 2757.5,-30 2751.5,-36 2745.5,-36\"/>\n<text text-anchor=\"middle\" x=\"2730.5\" y=\"-14.3\" font-family=\"Helvetica,sans-Serif\" font-size=\"14.00\">(...)</text>\n</g>\n<!-- 474&#45;&gt;475 -->\n<g id=\"edge67\" class=\"edge\">\n<title>474&#45;&gt;475</title>\n<path fill=\"none\" stroke=\"black\" d=\"M2753.07,-71.76C2749.3,-62.94 2745.4,-53.84 2741.93,-45.72\"/>\n<polygon fill=\"black\" stroke=\"black\" points=\"2745.1,-44.22 2737.95,-36.41 2738.66,-46.98 2745.1,-44.22\"/>\n</g>\n<!-- 476 -->\n<g id=\"node69\" class=\"node\">\n<title>476</title>\n<path fill=\"#c0c0c0\" stroke=\"black\" d=\"M2817.5,-36C2817.5,-36 2787.5,-36 2787.5,-36 2781.5,-36 2775.5,-30 2775.5,-24 2775.5,-24 2775.5,-12 2775.5,-12 2775.5,-6 2781.5,0 2787.5,0 2787.5,0 2817.5,0 2817.5,0 2823.5,0 2829.5,-6 2829.5,-12 2829.5,-12 2829.5,-24 2829.5,-24 2829.5,-30 2823.5,-36 2817.5,-36\"/>\n<text text-anchor=\"middle\" x=\"2802.5\" y=\"-14.3\" font-family=\"Helvetica,sans-Serif\" font-size=\"14.00\">(...)</text>\n</g>\n<!-- 474&#45;&gt;476 -->\n<g id=\"edge68\" class=\"edge\">\n<title>474&#45;&gt;476</title>\n<path fill=\"none\" stroke=\"black\" d=\"M2784.44,-71.76C2787.43,-63.04 2790.51,-54.04 2793.26,-45.99\"/>\n<polygon fill=\"black\" stroke=\"black\" points=\"2796.62,-47 2796.54,-36.41 2789.99,-44.73 2796.62,-47\"/>\n</g>\n<!-- 484 -->\n<g id=\"node71\" class=\"node\">\n<title>484</title>\n<path fill=\"#69b5eb\" stroke=\"black\" d=\"M3029.5,-274C3029.5,-274 2873.5,-274 2873.5,-274 2867.5,-274 2861.5,-268 2861.5,-262 2861.5,-262 2861.5,-203 2861.5,-203 2861.5,-197 2867.5,-191 2873.5,-191 2873.5,-191 3029.5,-191 3029.5,-191 3035.5,-191 3041.5,-197 3041.5,-203 3041.5,-203 3041.5,-262 3041.5,-262 3041.5,-268 3035.5,-274 3029.5,-274\"/>\n<text text-anchor=\"middle\" x=\"2951.5\" y=\"-258.8\" font-family=\"Helvetica,sans-Serif\" font-size=\"14.00\">blood_cholesterol &lt;= 3.375</text>\n<text text-anchor=\"middle\" x=\"2951.5\" y=\"-243.8\" font-family=\"Helvetica,sans-Serif\" font-size=\"14.00\">entropy = 0.71</text>\n<text text-anchor=\"middle\" x=\"2951.5\" y=\"-228.8\" font-family=\"Helvetica,sans-Serif\" font-size=\"14.00\">samples = 299</text>\n<text text-anchor=\"middle\" x=\"2951.5\" y=\"-213.8\" font-family=\"Helvetica,sans-Serif\" font-size=\"14.00\">value = [58, 241]</text>\n<text text-anchor=\"middle\" x=\"2951.5\" y=\"-198.8\" font-family=\"Helvetica,sans-Serif\" font-size=\"14.00\">class = heart_yes</text>\n</g>\n<!-- 483&#45;&gt;484 -->\n<g id=\"edge70\" class=\"edge\">\n<title>483&#45;&gt;484</title>\n<path fill=\"none\" stroke=\"black\" d=\"M2951.5,-309.91C2951.5,-301.65 2951.5,-292.86 2951.5,-284.3\"/>\n<polygon fill=\"black\" stroke=\"black\" points=\"2955,-284.02 2951.5,-274.02 2948,-284.02 2955,-284.02\"/>\n</g>\n<!-- 531 -->\n<g id=\"node76\" class=\"node\">\n<title>531</title>\n<path fill=\"#a9d4f4\" stroke=\"black\" d=\"M3288,-274C3288,-274 3117,-274 3117,-274 3111,-274 3105,-268 3105,-262 3105,-262 3105,-203 3105,-203 3105,-197 3111,-191 3117,-191 3117,-191 3288,-191 3288,-191 3294,-191 3300,-197 3300,-203 3300,-203 3300,-262 3300,-262 3300,-268 3294,-274 3288,-274\"/>\n<text text-anchor=\"middle\" x=\"3202.5\" y=\"-258.8\" font-family=\"Helvetica,sans-Serif\" font-size=\"14.00\">blood_pressure_sys &lt;= 101.0</text>\n<text text-anchor=\"middle\" x=\"3202.5\" y=\"-243.8\" font-family=\"Helvetica,sans-Serif\" font-size=\"14.00\">entropy = 0.943</text>\n<text text-anchor=\"middle\" x=\"3202.5\" y=\"-228.8\" font-family=\"Helvetica,sans-Serif\" font-size=\"14.00\">samples = 230</text>\n<text text-anchor=\"middle\" x=\"3202.5\" y=\"-213.8\" font-family=\"Helvetica,sans-Serif\" font-size=\"14.00\">value = [83, 147]</text>\n<text text-anchor=\"middle\" x=\"3202.5\" y=\"-198.8\" font-family=\"Helvetica,sans-Serif\" font-size=\"14.00\">class = heart_yes</text>\n</g>\n<!-- 483&#45;&gt;531 -->\n<g id=\"edge75\" class=\"edge\">\n<title>483&#45;&gt;531</title>\n<path fill=\"none\" stroke=\"black\" d=\"M3026.81,-315.4C3051.74,-303.78 3079.83,-290.68 3106.12,-278.43\"/>\n<polygon fill=\"black\" stroke=\"black\" points=\"3107.75,-281.53 3115.34,-274.13 3104.79,-275.18 3107.75,-281.53\"/>\n</g>\n<!-- 485 -->\n<g id=\"node72\" class=\"node\">\n<title>485</title>\n<path fill=\"#399de5\" stroke=\"black\" d=\"M2956.5,-147.5C2956.5,-147.5 2858.5,-147.5 2858.5,-147.5 2852.5,-147.5 2846.5,-141.5 2846.5,-135.5 2846.5,-135.5 2846.5,-91.5 2846.5,-91.5 2846.5,-85.5 2852.5,-79.5 2858.5,-79.5 2858.5,-79.5 2956.5,-79.5 2956.5,-79.5 2962.5,-79.5 2968.5,-85.5 2968.5,-91.5 2968.5,-91.5 2968.5,-135.5 2968.5,-135.5 2968.5,-141.5 2962.5,-147.5 2956.5,-147.5\"/>\n<text text-anchor=\"middle\" x=\"2907.5\" y=\"-132.3\" font-family=\"Helvetica,sans-Serif\" font-size=\"14.00\">entropy = 0.0</text>\n<text text-anchor=\"middle\" x=\"2907.5\" y=\"-117.3\" font-family=\"Helvetica,sans-Serif\" font-size=\"14.00\">samples = 46</text>\n<text text-anchor=\"middle\" x=\"2907.5\" y=\"-102.3\" font-family=\"Helvetica,sans-Serif\" font-size=\"14.00\">value = [0, 46]</text>\n<text text-anchor=\"middle\" x=\"2907.5\" y=\"-87.3\" font-family=\"Helvetica,sans-Serif\" font-size=\"14.00\">class = heart_yes</text>\n</g>\n<!-- 484&#45;&gt;485 -->\n<g id=\"edge71\" class=\"edge\">\n<title>484&#45;&gt;485</title>\n<path fill=\"none\" stroke=\"black\" d=\"M2936.23,-190.91C2932.13,-179.98 2927.67,-168.14 2923.52,-157.11\"/>\n<polygon fill=\"black\" stroke=\"black\" points=\"2926.77,-155.79 2919.97,-147.67 2920.22,-158.26 2926.77,-155.79\"/>\n</g>\n<!-- 486 -->\n<g id=\"node73\" class=\"node\">\n<title>486</title>\n<path fill=\"#74baed\" stroke=\"black\" d=\"M3114,-155C3114,-155 2999,-155 2999,-155 2993,-155 2987,-149 2987,-143 2987,-143 2987,-84 2987,-84 2987,-78 2993,-72 2999,-72 2999,-72 3114,-72 3114,-72 3120,-72 3126,-78 3126,-84 3126,-84 3126,-143 3126,-143 3126,-149 3120,-155 3114,-155\"/>\n<text text-anchor=\"middle\" x=\"3056.5\" y=\"-139.8\" font-family=\"Helvetica,sans-Serif\" font-size=\"14.00\">drink_alcohol &lt;= 0.5</text>\n<text text-anchor=\"middle\" x=\"3056.5\" y=\"-124.8\" font-family=\"Helvetica,sans-Serif\" font-size=\"14.00\">entropy = 0.777</text>\n<text text-anchor=\"middle\" x=\"3056.5\" y=\"-109.8\" font-family=\"Helvetica,sans-Serif\" font-size=\"14.00\">samples = 253</text>\n<text text-anchor=\"middle\" x=\"3056.5\" y=\"-94.8\" font-family=\"Helvetica,sans-Serif\" font-size=\"14.00\">value = [58, 195]</text>\n<text text-anchor=\"middle\" x=\"3056.5\" y=\"-79.8\" font-family=\"Helvetica,sans-Serif\" font-size=\"14.00\">class = heart_yes</text>\n</g>\n<!-- 484&#45;&gt;486 -->\n<g id=\"edge72\" class=\"edge\">\n<title>484&#45;&gt;486</title>\n<path fill=\"none\" stroke=\"black\" d=\"M2987.93,-190.91C2996.15,-181.74 3004.96,-171.93 3013.43,-162.49\"/>\n<polygon fill=\"black\" stroke=\"black\" points=\"3016.06,-164.8 3020.14,-155.02 3010.85,-160.13 3016.06,-164.8\"/>\n</g>\n<!-- 487 -->\n<g id=\"node74\" class=\"node\">\n<title>487</title>\n<path fill=\"#c0c0c0\" stroke=\"black\" d=\"M3035.5,-36C3035.5,-36 3005.5,-36 3005.5,-36 2999.5,-36 2993.5,-30 2993.5,-24 2993.5,-24 2993.5,-12 2993.5,-12 2993.5,-6 2999.5,0 3005.5,0 3005.5,0 3035.5,0 3035.5,0 3041.5,0 3047.5,-6 3047.5,-12 3047.5,-12 3047.5,-24 3047.5,-24 3047.5,-30 3041.5,-36 3035.5,-36\"/>\n<text text-anchor=\"middle\" x=\"3020.5\" y=\"-14.3\" font-family=\"Helvetica,sans-Serif\" font-size=\"14.00\">(...)</text>\n</g>\n<!-- 486&#45;&gt;487 -->\n<g id=\"edge73\" class=\"edge\">\n<title>486&#45;&gt;487</title>\n<path fill=\"none\" stroke=\"black\" d=\"M3040.81,-71.76C3037.46,-63.04 3033.99,-54.04 3030.89,-45.99\"/>\n<polygon fill=\"black\" stroke=\"black\" points=\"3034.06,-44.48 3027.2,-36.41 3027.53,-46.99 3034.06,-44.48\"/>\n</g>\n<!-- 496 -->\n<g id=\"node75\" class=\"node\">\n<title>496</title>\n<path fill=\"#c0c0c0\" stroke=\"black\" d=\"M3107.5,-36C3107.5,-36 3077.5,-36 3077.5,-36 3071.5,-36 3065.5,-30 3065.5,-24 3065.5,-24 3065.5,-12 3065.5,-12 3065.5,-6 3071.5,0 3077.5,0 3077.5,0 3107.5,0 3107.5,0 3113.5,0 3119.5,-6 3119.5,-12 3119.5,-12 3119.5,-24 3119.5,-24 3119.5,-30 3113.5,-36 3107.5,-36\"/>\n<text text-anchor=\"middle\" x=\"3092.5\" y=\"-14.3\" font-family=\"Helvetica,sans-Serif\" font-size=\"14.00\">(...)</text>\n</g>\n<!-- 486&#45;&gt;496 -->\n<g id=\"edge74\" class=\"edge\">\n<title>486&#45;&gt;496</title>\n<path fill=\"none\" stroke=\"black\" d=\"M3072.19,-71.76C3075.54,-63.04 3079.01,-54.04 3082.11,-45.99\"/>\n<polygon fill=\"black\" stroke=\"black\" points=\"3085.47,-46.99 3085.8,-36.41 3078.94,-44.48 3085.47,-46.99\"/>\n</g>\n<!-- 532 -->\n<g id=\"node77\" class=\"node\">\n<title>532</title>\n<path fill=\"#e58139\" stroke=\"black\" d=\"M3248.5,-147.5C3248.5,-147.5 3156.5,-147.5 3156.5,-147.5 3150.5,-147.5 3144.5,-141.5 3144.5,-135.5 3144.5,-135.5 3144.5,-91.5 3144.5,-91.5 3144.5,-85.5 3150.5,-79.5 3156.5,-79.5 3156.5,-79.5 3248.5,-79.5 3248.5,-79.5 3254.5,-79.5 3260.5,-85.5 3260.5,-91.5 3260.5,-91.5 3260.5,-135.5 3260.5,-135.5 3260.5,-141.5 3254.5,-147.5 3248.5,-147.5\"/>\n<text text-anchor=\"middle\" x=\"3202.5\" y=\"-132.3\" font-family=\"Helvetica,sans-Serif\" font-size=\"14.00\">entropy = 0.0</text>\n<text text-anchor=\"middle\" x=\"3202.5\" y=\"-117.3\" font-family=\"Helvetica,sans-Serif\" font-size=\"14.00\">samples = 9</text>\n<text text-anchor=\"middle\" x=\"3202.5\" y=\"-102.3\" font-family=\"Helvetica,sans-Serif\" font-size=\"14.00\">value = [9, 0]</text>\n<text text-anchor=\"middle\" x=\"3202.5\" y=\"-87.3\" font-family=\"Helvetica,sans-Serif\" font-size=\"14.00\">class = heart_no</text>\n</g>\n<!-- 531&#45;&gt;532 -->\n<g id=\"edge76\" class=\"edge\">\n<title>531&#45;&gt;532</title>\n<path fill=\"none\" stroke=\"black\" d=\"M3202.5,-190.91C3202.5,-180.2 3202.5,-168.62 3202.5,-157.78\"/>\n<polygon fill=\"black\" stroke=\"black\" points=\"3206,-157.67 3202.5,-147.67 3199,-157.67 3206,-157.67\"/>\n</g>\n<!-- 533 -->\n<g id=\"node78\" class=\"node\">\n<title>533</title>\n<path fill=\"#9dcef2\" stroke=\"black\" d=\"M3394.5,-155C3394.5,-155 3290.5,-155 3290.5,-155 3284.5,-155 3278.5,-149 3278.5,-143 3278.5,-143 3278.5,-84 3278.5,-84 3278.5,-78 3284.5,-72 3290.5,-72 3290.5,-72 3394.5,-72 3394.5,-72 3400.5,-72 3406.5,-78 3406.5,-84 3406.5,-84 3406.5,-143 3406.5,-143 3406.5,-149 3400.5,-155 3394.5,-155\"/>\n<text text-anchor=\"middle\" x=\"3342.5\" y=\"-139.8\" font-family=\"Helvetica,sans-Serif\" font-size=\"14.00\">calories &lt;= 2746.0</text>\n<text text-anchor=\"middle\" x=\"3342.5\" y=\"-124.8\" font-family=\"Helvetica,sans-Serif\" font-size=\"14.00\">entropy = 0.92</text>\n<text text-anchor=\"middle\" x=\"3342.5\" y=\"-109.8\" font-family=\"Helvetica,sans-Serif\" font-size=\"14.00\">samples = 221</text>\n<text text-anchor=\"middle\" x=\"3342.5\" y=\"-94.8\" font-family=\"Helvetica,sans-Serif\" font-size=\"14.00\">value = [74, 147]</text>\n<text text-anchor=\"middle\" x=\"3342.5\" y=\"-79.8\" font-family=\"Helvetica,sans-Serif\" font-size=\"14.00\">class = heart_yes</text>\n</g>\n<!-- 531&#45;&gt;533 -->\n<g id=\"edge77\" class=\"edge\">\n<title>531&#45;&gt;533</title>\n<path fill=\"none\" stroke=\"black\" d=\"M3251.07,-190.91C3262.37,-181.47 3274.48,-171.34 3286.08,-161.65\"/>\n<polygon fill=\"black\" stroke=\"black\" points=\"3288.58,-164.12 3294.01,-155.02 3284.1,-158.75 3288.58,-164.12\"/>\n</g>\n<!-- 534 -->\n<g id=\"node79\" class=\"node\">\n<title>534</title>\n<path fill=\"#c0c0c0\" stroke=\"black\" d=\"M3289.5,-36C3289.5,-36 3259.5,-36 3259.5,-36 3253.5,-36 3247.5,-30 3247.5,-24 3247.5,-24 3247.5,-12 3247.5,-12 3247.5,-6 3253.5,0 3259.5,0 3259.5,0 3289.5,0 3289.5,0 3295.5,0 3301.5,-6 3301.5,-12 3301.5,-12 3301.5,-24 3301.5,-24 3301.5,-30 3295.5,-36 3289.5,-36\"/>\n<text text-anchor=\"middle\" x=\"3274.5\" y=\"-14.3\" font-family=\"Helvetica,sans-Serif\" font-size=\"14.00\">(...)</text>\n</g>\n<!-- 533&#45;&gt;534 -->\n<g id=\"edge78\" class=\"edge\">\n<title>533&#45;&gt;534</title>\n<path fill=\"none\" stroke=\"black\" d=\"M3312.87,-71.76C3306.18,-62.56 3299.25,-53.04 3293.16,-44.66\"/>\n<polygon fill=\"black\" stroke=\"black\" points=\"3295.87,-42.43 3287.16,-36.41 3290.21,-46.55 3295.87,-42.43\"/>\n</g>\n<!-- 565 -->\n<g id=\"node80\" class=\"node\">\n<title>565</title>\n<path fill=\"#c0c0c0\" stroke=\"black\" d=\"M3361.5,-36C3361.5,-36 3331.5,-36 3331.5,-36 3325.5,-36 3319.5,-30 3319.5,-24 3319.5,-24 3319.5,-12 3319.5,-12 3319.5,-6 3325.5,0 3331.5,0 3331.5,0 3361.5,0 3361.5,0 3367.5,0 3373.5,-6 3373.5,-12 3373.5,-12 3373.5,-24 3373.5,-24 3373.5,-30 3367.5,-36 3361.5,-36\"/>\n<text text-anchor=\"middle\" x=\"3346.5\" y=\"-14.3\" font-family=\"Helvetica,sans-Serif\" font-size=\"14.00\">(...)</text>\n</g>\n<!-- 533&#45;&gt;565 -->\n<g id=\"edge79\" class=\"edge\">\n<title>533&#45;&gt;565</title>\n<path fill=\"none\" stroke=\"black\" d=\"M3344.24,-71.76C3344.61,-63.24 3344.98,-54.44 3345.32,-46.53\"/>\n<polygon fill=\"black\" stroke=\"black\" points=\"3348.82,-46.55 3345.76,-36.41 3341.83,-46.25 3348.82,-46.55\"/>\n</g>\n<!-- 573 -->\n<g id=\"node82\" class=\"node\">\n<title>573</title>\n<path fill=\"#bddef6\" stroke=\"black\" d=\"M3658.5,-393C3658.5,-393 3560.5,-393 3560.5,-393 3554.5,-393 3548.5,-387 3548.5,-381 3548.5,-381 3548.5,-322 3548.5,-322 3548.5,-316 3554.5,-310 3560.5,-310 3560.5,-310 3658.5,-310 3658.5,-310 3664.5,-310 3670.5,-316 3670.5,-322 3670.5,-322 3670.5,-381 3670.5,-381 3670.5,-387 3664.5,-393 3658.5,-393\"/>\n<text text-anchor=\"middle\" x=\"3609.5\" y=\"-377.8\" font-family=\"Helvetica,sans-Serif\" font-size=\"14.00\">BMI &lt;= 27.05</text>\n<text text-anchor=\"middle\" x=\"3609.5\" y=\"-362.8\" font-family=\"Helvetica,sans-Serif\" font-size=\"14.00\">entropy = 0.971</text>\n<text text-anchor=\"middle\" x=\"3609.5\" y=\"-347.8\" font-family=\"Helvetica,sans-Serif\" font-size=\"14.00\">samples = 60</text>\n<text text-anchor=\"middle\" x=\"3609.5\" y=\"-332.8\" font-family=\"Helvetica,sans-Serif\" font-size=\"14.00\">value = [24, 36]</text>\n<text text-anchor=\"middle\" x=\"3609.5\" y=\"-317.8\" font-family=\"Helvetica,sans-Serif\" font-size=\"14.00\">class = heart_yes</text>\n</g>\n<!-- 572&#45;&gt;573 -->\n<g id=\"edge81\" class=\"edge\">\n<title>572&#45;&gt;573</title>\n<path fill=\"none\" stroke=\"black\" d=\"M3609.5,-428.91C3609.5,-420.65 3609.5,-411.86 3609.5,-403.3\"/>\n<polygon fill=\"black\" stroke=\"black\" points=\"3613,-403.02 3609.5,-393.02 3606,-403.02 3613,-403.02\"/>\n</g>\n<!-- 582 -->\n<g id=\"node89\" class=\"node\">\n<title>582</title>\n<path fill=\"#54aae9\" stroke=\"black\" d=\"M3991,-393C3991,-393 3820,-393 3820,-393 3814,-393 3808,-387 3808,-381 3808,-381 3808,-322 3808,-322 3808,-316 3814,-310 3820,-310 3820,-310 3991,-310 3991,-310 3997,-310 4003,-316 4003,-322 4003,-322 4003,-381 4003,-381 4003,-387 3997,-393 3991,-393\"/>\n<text text-anchor=\"middle\" x=\"3905.5\" y=\"-377.8\" font-family=\"Helvetica,sans-Serif\" font-size=\"14.00\">blood_pressure_sys &lt;= 135.0</text>\n<text text-anchor=\"middle\" x=\"3905.5\" y=\"-362.8\" font-family=\"Helvetica,sans-Serif\" font-size=\"14.00\">entropy = 0.53</text>\n<text text-anchor=\"middle\" x=\"3905.5\" y=\"-347.8\" font-family=\"Helvetica,sans-Serif\" font-size=\"14.00\">samples = 823</text>\n<text text-anchor=\"middle\" x=\"3905.5\" y=\"-332.8\" font-family=\"Helvetica,sans-Serif\" font-size=\"14.00\">value = [99, 724]</text>\n<text text-anchor=\"middle\" x=\"3905.5\" y=\"-317.8\" font-family=\"Helvetica,sans-Serif\" font-size=\"14.00\">class = heart_yes</text>\n</g>\n<!-- 572&#45;&gt;582 -->\n<g id=\"edge88\" class=\"edge\">\n<title>572&#45;&gt;582</title>\n<path fill=\"none\" stroke=\"black\" d=\"M3699.52,-433.92C3730.71,-421.59 3765.98,-407.65 3798.42,-394.83\"/>\n<polygon fill=\"black\" stroke=\"black\" points=\"3799.92,-398 3807.93,-391.07 3797.34,-391.49 3799.92,-398\"/>\n</g>\n<!-- 574 -->\n<g id=\"node83\" class=\"node\">\n<title>574</title>\n<path fill=\"#6ab6ec\" stroke=\"black\" d=\"M3603,-274C3603,-274 3454,-274 3454,-274 3448,-274 3442,-268 3442,-262 3442,-262 3442,-203 3442,-203 3442,-197 3448,-191 3454,-191 3454,-191 3603,-191 3603,-191 3609,-191 3615,-197 3615,-203 3615,-203 3615,-262 3615,-262 3615,-268 3609,-274 3603,-274\"/>\n<text text-anchor=\"middle\" x=\"3528.5\" y=\"-258.8\" font-family=\"Helvetica,sans-Serif\" font-size=\"14.00\">blood_cholesterol &lt;= 3.48</text>\n<text text-anchor=\"middle\" x=\"3528.5\" y=\"-243.8\" font-family=\"Helvetica,sans-Serif\" font-size=\"14.00\">entropy = 0.722</text>\n<text text-anchor=\"middle\" x=\"3528.5\" y=\"-228.8\" font-family=\"Helvetica,sans-Serif\" font-size=\"14.00\">samples = 45</text>\n<text text-anchor=\"middle\" x=\"3528.5\" y=\"-213.8\" font-family=\"Helvetica,sans-Serif\" font-size=\"14.00\">value = [9, 36]</text>\n<text text-anchor=\"middle\" x=\"3528.5\" y=\"-198.8\" font-family=\"Helvetica,sans-Serif\" font-size=\"14.00\">class = heart_yes</text>\n</g>\n<!-- 573&#45;&gt;574 -->\n<g id=\"edge82\" class=\"edge\">\n<title>573&#45;&gt;574</title>\n<path fill=\"none\" stroke=\"black\" d=\"M3581.4,-309.91C3575.24,-301.01 3568.66,-291.51 3562.31,-282.33\"/>\n<polygon fill=\"black\" stroke=\"black\" points=\"3565.12,-280.25 3556.55,-274.02 3559.37,-284.24 3565.12,-280.25\"/>\n</g>\n<!-- 581 -->\n<g id=\"node88\" class=\"node\">\n<title>581</title>\n<path fill=\"#e58139\" stroke=\"black\" d=\"M3737.5,-266.5C3737.5,-266.5 3645.5,-266.5 3645.5,-266.5 3639.5,-266.5 3633.5,-260.5 3633.5,-254.5 3633.5,-254.5 3633.5,-210.5 3633.5,-210.5 3633.5,-204.5 3639.5,-198.5 3645.5,-198.5 3645.5,-198.5 3737.5,-198.5 3737.5,-198.5 3743.5,-198.5 3749.5,-204.5 3749.5,-210.5 3749.5,-210.5 3749.5,-254.5 3749.5,-254.5 3749.5,-260.5 3743.5,-266.5 3737.5,-266.5\"/>\n<text text-anchor=\"middle\" x=\"3691.5\" y=\"-251.3\" font-family=\"Helvetica,sans-Serif\" font-size=\"14.00\">entropy = 0.0</text>\n<text text-anchor=\"middle\" x=\"3691.5\" y=\"-236.3\" font-family=\"Helvetica,sans-Serif\" font-size=\"14.00\">samples = 15</text>\n<text text-anchor=\"middle\" x=\"3691.5\" y=\"-221.3\" font-family=\"Helvetica,sans-Serif\" font-size=\"14.00\">value = [15, 0]</text>\n<text text-anchor=\"middle\" x=\"3691.5\" y=\"-206.3\" font-family=\"Helvetica,sans-Serif\" font-size=\"14.00\">class = heart_no</text>\n</g>\n<!-- 573&#45;&gt;581 -->\n<g id=\"edge87\" class=\"edge\">\n<title>573&#45;&gt;581</title>\n<path fill=\"none\" stroke=\"black\" d=\"M3637.95,-309.91C3645.84,-298.65 3654.41,-286.42 3662.34,-275.11\"/>\n<polygon fill=\"black\" stroke=\"black\" points=\"3665.38,-276.86 3668.25,-266.67 3659.65,-272.85 3665.38,-276.86\"/>\n</g>\n<!-- 575 -->\n<g id=\"node84\" class=\"node\">\n<title>575</title>\n<path fill=\"#4fa8e8\" stroke=\"black\" d=\"M3552,-155C3552,-155 3437,-155 3437,-155 3431,-155 3425,-149 3425,-143 3425,-143 3425,-84 3425,-84 3425,-78 3431,-72 3437,-72 3437,-72 3552,-72 3552,-72 3558,-72 3564,-78 3564,-84 3564,-84 3564,-143 3564,-143 3564,-149 3558,-155 3552,-155\"/>\n<text text-anchor=\"middle\" x=\"3494.5\" y=\"-139.8\" font-family=\"Helvetica,sans-Serif\" font-size=\"14.00\">drink_alcohol &lt;= 0.5</text>\n<text text-anchor=\"middle\" x=\"3494.5\" y=\"-124.8\" font-family=\"Helvetica,sans-Serif\" font-size=\"14.00\">entropy = 0.469</text>\n<text text-anchor=\"middle\" x=\"3494.5\" y=\"-109.8\" font-family=\"Helvetica,sans-Serif\" font-size=\"14.00\">samples = 40</text>\n<text text-anchor=\"middle\" x=\"3494.5\" y=\"-94.8\" font-family=\"Helvetica,sans-Serif\" font-size=\"14.00\">value = [4, 36]</text>\n<text text-anchor=\"middle\" x=\"3494.5\" y=\"-79.8\" font-family=\"Helvetica,sans-Serif\" font-size=\"14.00\">class = heart_yes</text>\n</g>\n<!-- 574&#45;&gt;575 -->\n<g id=\"edge83\" class=\"edge\">\n<title>574&#45;&gt;575</title>\n<path fill=\"none\" stroke=\"black\" d=\"M3516.7,-190.91C3514.25,-182.47 3511.64,-173.48 3509.1,-164.74\"/>\n<polygon fill=\"black\" stroke=\"black\" points=\"3512.43,-163.65 3506.28,-155.02 3505.7,-165.6 3512.43,-163.65\"/>\n</g>\n<!-- 580 -->\n<g id=\"node87\" class=\"node\">\n<title>580</title>\n<path fill=\"#e58139\" stroke=\"black\" d=\"M3686.5,-147.5C3686.5,-147.5 3594.5,-147.5 3594.5,-147.5 3588.5,-147.5 3582.5,-141.5 3582.5,-135.5 3582.5,-135.5 3582.5,-91.5 3582.5,-91.5 3582.5,-85.5 3588.5,-79.5 3594.5,-79.5 3594.5,-79.5 3686.5,-79.5 3686.5,-79.5 3692.5,-79.5 3698.5,-85.5 3698.5,-91.5 3698.5,-91.5 3698.5,-135.5 3698.5,-135.5 3698.5,-141.5 3692.5,-147.5 3686.5,-147.5\"/>\n<text text-anchor=\"middle\" x=\"3640.5\" y=\"-132.3\" font-family=\"Helvetica,sans-Serif\" font-size=\"14.00\">entropy = 0.0</text>\n<text text-anchor=\"middle\" x=\"3640.5\" y=\"-117.3\" font-family=\"Helvetica,sans-Serif\" font-size=\"14.00\">samples = 5</text>\n<text text-anchor=\"middle\" x=\"3640.5\" y=\"-102.3\" font-family=\"Helvetica,sans-Serif\" font-size=\"14.00\">value = [5, 0]</text>\n<text text-anchor=\"middle\" x=\"3640.5\" y=\"-87.3\" font-family=\"Helvetica,sans-Serif\" font-size=\"14.00\">class = heart_no</text>\n</g>\n<!-- 574&#45;&gt;580 -->\n<g id=\"edge86\" class=\"edge\">\n<title>574&#45;&gt;580</title>\n<path fill=\"none\" stroke=\"black\" d=\"M3567.36,-190.91C3578.45,-179.32 3590.53,-166.7 3601.62,-155.11\"/>\n<polygon fill=\"black\" stroke=\"black\" points=\"3604.36,-157.31 3608.75,-147.67 3599.31,-152.47 3604.36,-157.31\"/>\n</g>\n<!-- 576 -->\n<g id=\"node85\" class=\"node\">\n<title>576</title>\n<path fill=\"#c0c0c0\" stroke=\"black\" d=\"M3473.5,-36C3473.5,-36 3443.5,-36 3443.5,-36 3437.5,-36 3431.5,-30 3431.5,-24 3431.5,-24 3431.5,-12 3431.5,-12 3431.5,-6 3437.5,0 3443.5,0 3443.5,0 3473.5,0 3473.5,0 3479.5,0 3485.5,-6 3485.5,-12 3485.5,-12 3485.5,-24 3485.5,-24 3485.5,-30 3479.5,-36 3473.5,-36\"/>\n<text text-anchor=\"middle\" x=\"3458.5\" y=\"-14.3\" font-family=\"Helvetica,sans-Serif\" font-size=\"14.00\">(...)</text>\n</g>\n<!-- 575&#45;&gt;576 -->\n<g id=\"edge84\" class=\"edge\">\n<title>575&#45;&gt;576</title>\n<path fill=\"none\" stroke=\"black\" d=\"M3478.81,-71.76C3475.46,-63.04 3471.99,-54.04 3468.89,-45.99\"/>\n<polygon fill=\"black\" stroke=\"black\" points=\"3472.06,-44.48 3465.2,-36.41 3465.53,-46.99 3472.06,-44.48\"/>\n</g>\n<!-- 579 -->\n<g id=\"node86\" class=\"node\">\n<title>579</title>\n<path fill=\"#c0c0c0\" stroke=\"black\" d=\"M3545.5,-36C3545.5,-36 3515.5,-36 3515.5,-36 3509.5,-36 3503.5,-30 3503.5,-24 3503.5,-24 3503.5,-12 3503.5,-12 3503.5,-6 3509.5,0 3515.5,0 3515.5,0 3545.5,0 3545.5,0 3551.5,0 3557.5,-6 3557.5,-12 3557.5,-12 3557.5,-24 3557.5,-24 3557.5,-30 3551.5,-36 3545.5,-36\"/>\n<text text-anchor=\"middle\" x=\"3530.5\" y=\"-14.3\" font-family=\"Helvetica,sans-Serif\" font-size=\"14.00\">(...)</text>\n</g>\n<!-- 575&#45;&gt;579 -->\n<g id=\"edge85\" class=\"edge\">\n<title>575&#45;&gt;579</title>\n<path fill=\"none\" stroke=\"black\" d=\"M3510.19,-71.76C3513.54,-63.04 3517.01,-54.04 3520.11,-45.99\"/>\n<polygon fill=\"black\" stroke=\"black\" points=\"3523.47,-46.99 3523.8,-36.41 3516.94,-44.48 3523.47,-46.99\"/>\n</g>\n<!-- 583 -->\n<g id=\"node90\" class=\"node\">\n<title>583</title>\n<path fill=\"#59ade9\" stroke=\"black\" d=\"M3962.5,-274C3962.5,-274 3848.5,-274 3848.5,-274 3842.5,-274 3836.5,-268 3836.5,-262 3836.5,-262 3836.5,-203 3836.5,-203 3836.5,-197 3842.5,-191 3848.5,-191 3848.5,-191 3962.5,-191 3962.5,-191 3968.5,-191 3974.5,-197 3974.5,-203 3974.5,-203 3974.5,-262 3974.5,-262 3974.5,-268 3968.5,-274 3962.5,-274\"/>\n<text text-anchor=\"middle\" x=\"3905.5\" y=\"-258.8\" font-family=\"Helvetica,sans-Serif\" font-size=\"14.00\">diastolic_bp &lt;= 57.0</text>\n<text text-anchor=\"middle\" x=\"3905.5\" y=\"-243.8\" font-family=\"Helvetica,sans-Serif\" font-size=\"14.00\">entropy = 0.586</text>\n<text text-anchor=\"middle\" x=\"3905.5\" y=\"-228.8\" font-family=\"Helvetica,sans-Serif\" font-size=\"14.00\">samples = 668</text>\n<text text-anchor=\"middle\" x=\"3905.5\" y=\"-213.8\" font-family=\"Helvetica,sans-Serif\" font-size=\"14.00\">value = [94, 574]</text>\n<text text-anchor=\"middle\" x=\"3905.5\" y=\"-198.8\" font-family=\"Helvetica,sans-Serif\" font-size=\"14.00\">class = heart_yes</text>\n</g>\n<!-- 582&#45;&gt;583 -->\n<g id=\"edge89\" class=\"edge\">\n<title>582&#45;&gt;583</title>\n<path fill=\"none\" stroke=\"black\" d=\"M3905.5,-309.91C3905.5,-301.65 3905.5,-292.86 3905.5,-284.3\"/>\n<polygon fill=\"black\" stroke=\"black\" points=\"3909,-284.02 3905.5,-274.02 3902,-284.02 3909,-284.02\"/>\n</g>\n<!-- 668 -->\n<g id=\"node97\" class=\"node\">\n<title>668</title>\n<path fill=\"#40a0e6\" stroke=\"black\" d=\"M4143.5,-274C4143.5,-274 4039.5,-274 4039.5,-274 4033.5,-274 4027.5,-268 4027.5,-262 4027.5,-262 4027.5,-203 4027.5,-203 4027.5,-197 4033.5,-191 4039.5,-191 4039.5,-191 4143.5,-191 4143.5,-191 4149.5,-191 4155.5,-197 4155.5,-203 4155.5,-203 4155.5,-262 4155.5,-262 4155.5,-268 4149.5,-274 4143.5,-274\"/>\n<text text-anchor=\"middle\" x=\"4091.5\" y=\"-258.8\" font-family=\"Helvetica,sans-Serif\" font-size=\"14.00\">calories &lt;= 1992.5</text>\n<text text-anchor=\"middle\" x=\"4091.5\" y=\"-243.8\" font-family=\"Helvetica,sans-Serif\" font-size=\"14.00\">entropy = 0.206</text>\n<text text-anchor=\"middle\" x=\"4091.5\" y=\"-228.8\" font-family=\"Helvetica,sans-Serif\" font-size=\"14.00\">samples = 155</text>\n<text text-anchor=\"middle\" x=\"4091.5\" y=\"-213.8\" font-family=\"Helvetica,sans-Serif\" font-size=\"14.00\">value = [5, 150]</text>\n<text text-anchor=\"middle\" x=\"4091.5\" y=\"-198.8\" font-family=\"Helvetica,sans-Serif\" font-size=\"14.00\">class = heart_yes</text>\n</g>\n<!-- 582&#45;&gt;668 -->\n<g id=\"edge96\" class=\"edge\">\n<title>582&#45;&gt;668</title>\n<path fill=\"none\" stroke=\"black\" d=\"M3970.03,-309.91C3985.7,-300.05 4002.56,-289.44 4018.59,-279.36\"/>\n<polygon fill=\"black\" stroke=\"black\" points=\"4020.8,-282.11 4027.4,-273.82 4017.07,-276.18 4020.8,-282.11\"/>\n</g>\n<!-- 584 -->\n<g id=\"node91\" class=\"node\">\n<title>584</title>\n<path fill=\"#9acdf2\" stroke=\"black\" d=\"M3860,-155C3860,-155 3729,-155 3729,-155 3723,-155 3717,-149 3717,-143 3717,-143 3717,-84 3717,-84 3717,-78 3723,-72 3729,-72 3729,-72 3860,-72 3860,-72 3866,-72 3872,-78 3872,-84 3872,-84 3872,-143 3872,-143 3872,-149 3866,-155 3860,-155\"/>\n<text text-anchor=\"middle\" x=\"3794.5\" y=\"-139.8\" font-family=\"Helvetica,sans-Serif\" font-size=\"14.00\">family_income &lt;= 1.19</text>\n<text text-anchor=\"middle\" x=\"3794.5\" y=\"-124.8\" font-family=\"Helvetica,sans-Serif\" font-size=\"14.00\">entropy = 0.914</text>\n<text text-anchor=\"middle\" x=\"3794.5\" y=\"-109.8\" font-family=\"Helvetica,sans-Serif\" font-size=\"14.00\">samples = 76</text>\n<text text-anchor=\"middle\" x=\"3794.5\" y=\"-94.8\" font-family=\"Helvetica,sans-Serif\" font-size=\"14.00\">value = [25, 51]</text>\n<text text-anchor=\"middle\" x=\"3794.5\" y=\"-79.8\" font-family=\"Helvetica,sans-Serif\" font-size=\"14.00\">class = heart_yes</text>\n</g>\n<!-- 583&#45;&gt;584 -->\n<g id=\"edge90\" class=\"edge\">\n<title>583&#45;&gt;584</title>\n<path fill=\"none\" stroke=\"black\" d=\"M3866.99,-190.91C3858.29,-181.74 3848.98,-171.93 3840.03,-162.49\"/>\n<polygon fill=\"black\" stroke=\"black\" points=\"3842.36,-159.87 3832.94,-155.02 3837.29,-164.68 3842.36,-159.87\"/>\n</g>\n<!-- 597 -->\n<g id=\"node94\" class=\"node\">\n<title>597</title>\n<path fill=\"#53aae8\" stroke=\"black\" d=\"M4000.5,-155C4000.5,-155 3902.5,-155 3902.5,-155 3896.5,-155 3890.5,-149 3890.5,-143 3890.5,-143 3890.5,-84 3890.5,-84 3890.5,-78 3896.5,-72 3902.5,-72 3902.5,-72 4000.5,-72 4000.5,-72 4006.5,-72 4012.5,-78 4012.5,-84 4012.5,-84 4012.5,-143 4012.5,-143 4012.5,-149 4006.5,-155 4000.5,-155\"/>\n<text text-anchor=\"middle\" x=\"3951.5\" y=\"-139.8\" font-family=\"Helvetica,sans-Serif\" font-size=\"14.00\">calories &lt;= 522.0</text>\n<text text-anchor=\"middle\" x=\"3951.5\" y=\"-124.8\" font-family=\"Helvetica,sans-Serif\" font-size=\"14.00\">entropy = 0.519</text>\n<text text-anchor=\"middle\" x=\"3951.5\" y=\"-109.8\" font-family=\"Helvetica,sans-Serif\" font-size=\"14.00\">samples = 592</text>\n<text text-anchor=\"middle\" x=\"3951.5\" y=\"-94.8\" font-family=\"Helvetica,sans-Serif\" font-size=\"14.00\">value = [69, 523]</text>\n<text text-anchor=\"middle\" x=\"3951.5\" y=\"-79.8\" font-family=\"Helvetica,sans-Serif\" font-size=\"14.00\">class = heart_yes</text>\n</g>\n<!-- 583&#45;&gt;597 -->\n<g id=\"edge93\" class=\"edge\">\n<title>583&#45;&gt;597</title>\n<path fill=\"none\" stroke=\"black\" d=\"M3921.46,-190.91C3924.81,-182.38 3928.39,-173.28 3931.86,-164.46\"/>\n<polygon fill=\"black\" stroke=\"black\" points=\"3935.17,-165.61 3935.57,-155.02 3928.65,-163.05 3935.17,-165.61\"/>\n</g>\n<!-- 585 -->\n<g id=\"node92\" class=\"node\">\n<title>585</title>\n<path fill=\"#c0c0c0\" stroke=\"black\" d=\"M3743.5,-36C3743.5,-36 3713.5,-36 3713.5,-36 3707.5,-36 3701.5,-30 3701.5,-24 3701.5,-24 3701.5,-12 3701.5,-12 3701.5,-6 3707.5,0 3713.5,0 3713.5,0 3743.5,0 3743.5,0 3749.5,0 3755.5,-6 3755.5,-12 3755.5,-12 3755.5,-24 3755.5,-24 3755.5,-30 3749.5,-36 3743.5,-36\"/>\n<text text-anchor=\"middle\" x=\"3728.5\" y=\"-14.3\" font-family=\"Helvetica,sans-Serif\" font-size=\"14.00\">(...)</text>\n</g>\n<!-- 584&#45;&gt;585 -->\n<g id=\"edge91\" class=\"edge\">\n<title>584&#45;&gt;585</title>\n<path fill=\"none\" stroke=\"black\" d=\"M3765.74,-71.76C3759.25,-62.56 3752.53,-53.04 3746.61,-44.66\"/>\n<polygon fill=\"black\" stroke=\"black\" points=\"3749.41,-42.56 3740.79,-36.41 3743.69,-46.59 3749.41,-42.56\"/>\n</g>\n<!-- 586 -->\n<g id=\"node93\" class=\"node\">\n<title>586</title>\n<path fill=\"#c0c0c0\" stroke=\"black\" d=\"M3815.5,-36C3815.5,-36 3785.5,-36 3785.5,-36 3779.5,-36 3773.5,-30 3773.5,-24 3773.5,-24 3773.5,-12 3773.5,-12 3773.5,-6 3779.5,0 3785.5,0 3785.5,0 3815.5,0 3815.5,0 3821.5,0 3827.5,-6 3827.5,-12 3827.5,-12 3827.5,-24 3827.5,-24 3827.5,-30 3821.5,-36 3815.5,-36\"/>\n<text text-anchor=\"middle\" x=\"3800.5\" y=\"-14.3\" font-family=\"Helvetica,sans-Serif\" font-size=\"14.00\">(...)</text>\n</g>\n<!-- 584&#45;&gt;586 -->\n<g id=\"edge92\" class=\"edge\">\n<title>584&#45;&gt;586</title>\n<path fill=\"none\" stroke=\"black\" d=\"M3797.11,-71.76C3797.66,-63.24 3798.23,-54.44 3798.73,-46.53\"/>\n<polygon fill=\"black\" stroke=\"black\" points=\"3802.24,-46.61 3799.38,-36.41 3795.25,-46.16 3802.24,-46.61\"/>\n</g>\n<!-- 598 -->\n<g id=\"node95\" class=\"node\">\n<title>598</title>\n<path fill=\"#c0c0c0\" stroke=\"black\" d=\"M3930.5,-36C3930.5,-36 3900.5,-36 3900.5,-36 3894.5,-36 3888.5,-30 3888.5,-24 3888.5,-24 3888.5,-12 3888.5,-12 3888.5,-6 3894.5,0 3900.5,0 3900.5,0 3930.5,0 3930.5,0 3936.5,0 3942.5,-6 3942.5,-12 3942.5,-12 3942.5,-24 3942.5,-24 3942.5,-30 3936.5,-36 3930.5,-36\"/>\n<text text-anchor=\"middle\" x=\"3915.5\" y=\"-14.3\" font-family=\"Helvetica,sans-Serif\" font-size=\"14.00\">(...)</text>\n</g>\n<!-- 597&#45;&gt;598 -->\n<g id=\"edge94\" class=\"edge\">\n<title>597&#45;&gt;598</title>\n<path fill=\"none\" stroke=\"black\" d=\"M3935.81,-71.76C3932.46,-63.04 3928.99,-54.04 3925.89,-45.99\"/>\n<polygon fill=\"black\" stroke=\"black\" points=\"3929.06,-44.48 3922.2,-36.41 3922.53,-46.99 3929.06,-44.48\"/>\n</g>\n<!-- 599 -->\n<g id=\"node96\" class=\"node\">\n<title>599</title>\n<path fill=\"#c0c0c0\" stroke=\"black\" d=\"M4002.5,-36C4002.5,-36 3972.5,-36 3972.5,-36 3966.5,-36 3960.5,-30 3960.5,-24 3960.5,-24 3960.5,-12 3960.5,-12 3960.5,-6 3966.5,0 3972.5,0 3972.5,0 4002.5,0 4002.5,0 4008.5,0 4014.5,-6 4014.5,-12 4014.5,-12 4014.5,-24 4014.5,-24 4014.5,-30 4008.5,-36 4002.5,-36\"/>\n<text text-anchor=\"middle\" x=\"3987.5\" y=\"-14.3\" font-family=\"Helvetica,sans-Serif\" font-size=\"14.00\">(...)</text>\n</g>\n<!-- 597&#45;&gt;599 -->\n<g id=\"edge95\" class=\"edge\">\n<title>597&#45;&gt;599</title>\n<path fill=\"none\" stroke=\"black\" d=\"M3967.19,-71.76C3970.54,-63.04 3974.01,-54.04 3977.11,-45.99\"/>\n<polygon fill=\"black\" stroke=\"black\" points=\"3980.47,-46.99 3980.8,-36.41 3973.94,-44.48 3980.47,-46.99\"/>\n</g>\n<!-- 669 -->\n<g id=\"node98\" class=\"node\">\n<title>669</title>\n<path fill=\"#399de5\" stroke=\"black\" d=\"M4140.5,-147.5C4140.5,-147.5 4042.5,-147.5 4042.5,-147.5 4036.5,-147.5 4030.5,-141.5 4030.5,-135.5 4030.5,-135.5 4030.5,-91.5 4030.5,-91.5 4030.5,-85.5 4036.5,-79.5 4042.5,-79.5 4042.5,-79.5 4140.5,-79.5 4140.5,-79.5 4146.5,-79.5 4152.5,-85.5 4152.5,-91.5 4152.5,-91.5 4152.5,-135.5 4152.5,-135.5 4152.5,-141.5 4146.5,-147.5 4140.5,-147.5\"/>\n<text text-anchor=\"middle\" x=\"4091.5\" y=\"-132.3\" font-family=\"Helvetica,sans-Serif\" font-size=\"14.00\">entropy = 0.0</text>\n<text text-anchor=\"middle\" x=\"4091.5\" y=\"-117.3\" font-family=\"Helvetica,sans-Serif\" font-size=\"14.00\">samples = 110</text>\n<text text-anchor=\"middle\" x=\"4091.5\" y=\"-102.3\" font-family=\"Helvetica,sans-Serif\" font-size=\"14.00\">value = [0, 110]</text>\n<text text-anchor=\"middle\" x=\"4091.5\" y=\"-87.3\" font-family=\"Helvetica,sans-Serif\" font-size=\"14.00\">class = heart_yes</text>\n</g>\n<!-- 668&#45;&gt;669 -->\n<g id=\"edge97\" class=\"edge\">\n<title>668&#45;&gt;669</title>\n<path fill=\"none\" stroke=\"black\" d=\"M4091.5,-190.91C4091.5,-180.2 4091.5,-168.62 4091.5,-157.78\"/>\n<polygon fill=\"black\" stroke=\"black\" points=\"4095,-157.67 4091.5,-147.67 4088,-157.67 4095,-157.67\"/>\n</g>\n<!-- 670 -->\n<g id=\"node99\" class=\"node\">\n<title>670</title>\n<path fill=\"#52a9e8\" stroke=\"black\" d=\"M4332,-155C4332,-155 4183,-155 4183,-155 4177,-155 4171,-149 4171,-143 4171,-143 4171,-84 4171,-84 4171,-78 4177,-72 4183,-72 4183,-72 4332,-72 4332,-72 4338,-72 4344,-78 4344,-84 4344,-84 4344,-143 4344,-143 4344,-149 4338,-155 4332,-155\"/>\n<text text-anchor=\"middle\" x=\"4257.5\" y=\"-139.8\" font-family=\"Helvetica,sans-Serif\" font-size=\"14.00\">blood_cholesterol &lt;= 4.72</text>\n<text text-anchor=\"middle\" x=\"4257.5\" y=\"-124.8\" font-family=\"Helvetica,sans-Serif\" font-size=\"14.00\">entropy = 0.503</text>\n<text text-anchor=\"middle\" x=\"4257.5\" y=\"-109.8\" font-family=\"Helvetica,sans-Serif\" font-size=\"14.00\">samples = 45</text>\n<text text-anchor=\"middle\" x=\"4257.5\" y=\"-94.8\" font-family=\"Helvetica,sans-Serif\" font-size=\"14.00\">value = [5, 40]</text>\n<text text-anchor=\"middle\" x=\"4257.5\" y=\"-79.8\" font-family=\"Helvetica,sans-Serif\" font-size=\"14.00\">class = heart_yes</text>\n</g>\n<!-- 668&#45;&gt;670 -->\n<g id=\"edge98\" class=\"edge\">\n<title>668&#45;&gt;670</title>\n<path fill=\"none\" stroke=\"black\" d=\"M4149.09,-190.91C4162.87,-181.2 4177.68,-170.76 4191.79,-160.81\"/>\n<polygon fill=\"black\" stroke=\"black\" points=\"4193.85,-163.64 4200.01,-155.02 4189.82,-157.92 4193.85,-163.64\"/>\n</g>\n<!-- 671 -->\n<g id=\"node100\" class=\"node\">\n<title>671</title>\n<path fill=\"#c0c0c0\" stroke=\"black\" d=\"M4236.5,-36C4236.5,-36 4206.5,-36 4206.5,-36 4200.5,-36 4194.5,-30 4194.5,-24 4194.5,-24 4194.5,-12 4194.5,-12 4194.5,-6 4200.5,0 4206.5,0 4206.5,0 4236.5,0 4236.5,0 4242.5,0 4248.5,-6 4248.5,-12 4248.5,-12 4248.5,-24 4248.5,-24 4248.5,-30 4242.5,-36 4236.5,-36\"/>\n<text text-anchor=\"middle\" x=\"4221.5\" y=\"-14.3\" font-family=\"Helvetica,sans-Serif\" font-size=\"14.00\">(...)</text>\n</g>\n<!-- 670&#45;&gt;671 -->\n<g id=\"edge99\" class=\"edge\">\n<title>670&#45;&gt;671</title>\n<path fill=\"none\" stroke=\"black\" d=\"M4241.81,-71.76C4238.46,-63.04 4234.99,-54.04 4231.89,-45.99\"/>\n<polygon fill=\"black\" stroke=\"black\" points=\"4235.06,-44.48 4228.2,-36.41 4228.53,-46.99 4235.06,-44.48\"/>\n</g>\n<!-- 674 -->\n<g id=\"node101\" class=\"node\">\n<title>674</title>\n<path fill=\"#c0c0c0\" stroke=\"black\" d=\"M4308.5,-36C4308.5,-36 4278.5,-36 4278.5,-36 4272.5,-36 4266.5,-30 4266.5,-24 4266.5,-24 4266.5,-12 4266.5,-12 4266.5,-6 4272.5,0 4278.5,0 4278.5,0 4308.5,0 4308.5,0 4314.5,0 4320.5,-6 4320.5,-12 4320.5,-12 4320.5,-24 4320.5,-24 4320.5,-30 4314.5,-36 4308.5,-36\"/>\n<text text-anchor=\"middle\" x=\"4293.5\" y=\"-14.3\" font-family=\"Helvetica,sans-Serif\" font-size=\"14.00\">(...)</text>\n</g>\n<!-- 670&#45;&gt;674 -->\n<g id=\"edge100\" class=\"edge\">\n<title>670&#45;&gt;674</title>\n<path fill=\"none\" stroke=\"black\" d=\"M4273.19,-71.76C4276.54,-63.04 4280.01,-54.04 4283.11,-45.99\"/>\n<polygon fill=\"black\" stroke=\"black\" points=\"4286.47,-46.99 4286.8,-36.41 4279.94,-44.48 4286.47,-46.99\"/>\n</g>\n</g>\n</svg>\n",
            "text/plain": [
              "<graphviz.sources.Source at 0x7874f42d3a10>"
            ]
          },
          "metadata": {}
        }
      ],
      "source": [
        "# TODO\n",
        "# Create a DecisionTreeClassifier with a very large max_depth to overfit\n",
        "overfit_tree = DecisionTreeClassifier(criterion=\"entropy\", max_depth=50)  # large depth to overfit\n",
        "\n",
        "# Fit it to the training data\n",
        "overfit_tree.fit(X_train, t_train)\n",
        "\n",
        "# Print the training and validation accuracy\n",
        "print(\"Training Accuracy:\", overfit_tree.score(X_train, t_train))\n",
        "print(\"Validation Accuracy:\", overfit_tree.score(X_valid, t_valid))\n",
        "\n",
        "# Visualize the tree (default max_depth=5 for readability)\n",
        "visualize_tree(overfit_tree)\n"
      ]
    },
    {
      "cell_type": "markdown",
      "id": "baad0980",
      "metadata": {
        "id": "baad0980"
      },
      "source": [
        "**Task:** What value of `max_depth` did you choose to make the tree underfit, or overfit? Why do these values cause the graph to underfit, or overfit?"
      ]
    },
    {
      "cell_type": "code",
      "execution_count": 100,
      "id": "1806f508",
      "metadata": {
        "id": "1806f508"
      },
      "outputs": [],
      "source": [
        "# TODO\n",
        "# Underfit tree: I chose max_depth = 1. This value is very small, which forces\n",
        "# the decision tree to make only a single split. As a result, the model cannot\n",
        "# capture most of the relationships between features and the target, so both\n",
        "# training and validation accuracy are low.\n",
        "# The tree is too simple to model the complexity in the data → underfitting.\n",
        "\n",
        "# Overfit tree: I chose max_depth = 50. This value is very large relative to the\n",
        "# complexity of the data, allowing the tree to split until almost every training\n",
        "# sample is perfectly classified. While training accuracy is extremely high, the\n",
        "# model captures noise and peculiarities in the training data that do not\n",
        "# generalize to new data, so validation accuracy may be lower → overfitting."
      ]
    },
    {
      "cell_type": "markdown",
      "id": "1f72607d",
      "metadata": {
        "id": "1f72607d"
      },
      "source": [
        "We will now repeat the same computation as above, but vary the `min_samples_split` parameter instead of `max_depth`.\n",
        "\n",
        "**Task:** Similar to what we've been doing above, create another `DecisionTreeClassifier` that uses `entropy` to measure the quality of a split. This time set `min_samples_split` to a value that would cause the tree to *underfit*.  Omit the `max_depth` parameter. Report the accuracy (obtained via the `score()` method) on the validation and training sets. Visualize the tree."
      ]
    },
    {
      "cell_type": "code",
      "execution_count": 101,
      "id": "1689b6bd",
      "metadata": {
        "id": "1689b6bd",
        "outputId": "4696a29b-1d32-4c10-bbeb-fd2dfe86bb14",
        "colab": {
          "base_uri": "https://localhost:8080/",
          "height": 475
        }
      },
      "outputs": [
        {
          "output_type": "stream",
          "name": "stdout",
          "text": [
            "Training Accuracy: 0.7032\n",
            "Validation Accuracy: 0.7113333333333334\n"
          ]
        },
        {
          "output_type": "display_data",
          "data": {
            "image/svg+xml": "<?xml version=\"1.0\" encoding=\"UTF-8\" standalone=\"no\"?>\n<!DOCTYPE svg PUBLIC \"-//W3C//DTD SVG 1.1//EN\"\n \"http://www.w3.org/Graphics/SVG/1.1/DTD/svg11.dtd\">\n<!-- Generated by graphviz version 2.43.0 (0)\n -->\n<!-- Title: Tree Pages: 1 -->\n<svg width=\"618pt\" height=\"314pt\"\n viewBox=\"0.00 0.00 617.50 314.00\" xmlns=\"http://www.w3.org/2000/svg\" xmlns:xlink=\"http://www.w3.org/1999/xlink\">\n<g id=\"graph0\" class=\"graph\" transform=\"scale(1 1) rotate(0) translate(4 310)\">\n<title>Tree</title>\n<polygon fill=\"white\" stroke=\"transparent\" points=\"-4,4 -4,-310 613.5,-310 613.5,4 -4,4\"/>\n<!-- 0 -->\n<g id=\"node1\" class=\"node\">\n<title>0</title>\n<path fill=\"#fefcfb\" stroke=\"black\" d=\"M361,-306C361,-306 223,-306 223,-306 217,-306 211,-300 211,-294 211,-294 211,-235 211,-235 211,-229 217,-223 223,-223 223,-223 361,-223 361,-223 367,-223 373,-229 373,-235 373,-235 373,-294 373,-294 373,-300 367,-306 361,-306\"/>\n<text text-anchor=\"middle\" x=\"292\" y=\"-290.8\" font-family=\"Helvetica,sans-Serif\" font-size=\"14.00\">age &lt;= 64.5</text>\n<text text-anchor=\"middle\" x=\"292\" y=\"-275.8\" font-family=\"Helvetica,sans-Serif\" font-size=\"14.00\">entropy = 1.0</text>\n<text text-anchor=\"middle\" x=\"292\" y=\"-260.8\" font-family=\"Helvetica,sans-Serif\" font-size=\"14.00\">samples = 5000</text>\n<text text-anchor=\"middle\" x=\"292\" y=\"-245.8\" font-family=\"Helvetica,sans-Serif\" font-size=\"14.00\">value = [2528.0, 2472.0]</text>\n<text text-anchor=\"middle\" x=\"292\" y=\"-230.8\" font-family=\"Helvetica,sans-Serif\" font-size=\"14.00\">class = heart_no</text>\n</g>\n<!-- 1 -->\n<g id=\"node2\" class=\"node\">\n<title>1</title>\n<path fill=\"#f1be98\" stroke=\"black\" d=\"M276.5,-187C276.5,-187 145.5,-187 145.5,-187 139.5,-187 133.5,-181 133.5,-175 133.5,-175 133.5,-116 133.5,-116 133.5,-110 139.5,-104 145.5,-104 145.5,-104 276.5,-104 276.5,-104 282.5,-104 288.5,-110 288.5,-116 288.5,-116 288.5,-175 288.5,-175 288.5,-181 282.5,-187 276.5,-187\"/>\n<text text-anchor=\"middle\" x=\"211\" y=\"-171.8\" font-family=\"Helvetica,sans-Serif\" font-size=\"14.00\">chest_pain &lt;= 0.5</text>\n<text text-anchor=\"middle\" x=\"211\" y=\"-156.8\" font-family=\"Helvetica,sans-Serif\" font-size=\"14.00\">entropy = 0.909</text>\n<text text-anchor=\"middle\" x=\"211\" y=\"-141.8\" font-family=\"Helvetica,sans-Serif\" font-size=\"14.00\">samples = 2652</text>\n<text text-anchor=\"middle\" x=\"211\" y=\"-126.8\" font-family=\"Helvetica,sans-Serif\" font-size=\"14.00\">value = [1791.0, 861.0]</text>\n<text text-anchor=\"middle\" x=\"211\" y=\"-111.8\" font-family=\"Helvetica,sans-Serif\" font-size=\"14.00\">class = heart_no</text>\n</g>\n<!-- 0&#45;&gt;1 -->\n<g id=\"edge1\" class=\"edge\">\n<title>0&#45;&gt;1</title>\n<path fill=\"none\" stroke=\"black\" d=\"M263.9,-222.91C257.74,-214.01 251.16,-204.51 244.81,-195.33\"/>\n<polygon fill=\"black\" stroke=\"black\" points=\"247.62,-193.25 239.05,-187.02 241.87,-197.24 247.62,-193.25\"/>\n<text text-anchor=\"middle\" x=\"234.58\" y=\"-207.92\" font-family=\"Helvetica,sans-Serif\" font-size=\"14.00\">True</text>\n</g>\n<!-- 4 -->\n<g id=\"node5\" class=\"node\">\n<title>4</title>\n<path fill=\"#94caf1\" stroke=\"black\" d=\"M427,-187C427,-187 319,-187 319,-187 313,-187 307,-181 307,-175 307,-175 307,-116 307,-116 307,-110 313,-104 319,-104 319,-104 427,-104 427,-104 433,-104 439,-110 439,-116 439,-116 439,-175 439,-175 439,-181 433,-187 427,-187\"/>\n<text text-anchor=\"middle\" x=\"373\" y=\"-171.8\" font-family=\"Helvetica,sans-Serif\" font-size=\"14.00\">chest_pain &lt;= 0.5</text>\n<text text-anchor=\"middle\" x=\"373\" y=\"-156.8\" font-family=\"Helvetica,sans-Serif\" font-size=\"14.00\">entropy = 0.898</text>\n<text text-anchor=\"middle\" x=\"373\" y=\"-141.8\" font-family=\"Helvetica,sans-Serif\" font-size=\"14.00\">samples = 2348</text>\n<text text-anchor=\"middle\" x=\"373\" y=\"-126.8\" font-family=\"Helvetica,sans-Serif\" font-size=\"14.00\">value = [737, 1611]</text>\n<text text-anchor=\"middle\" x=\"373\" y=\"-111.8\" font-family=\"Helvetica,sans-Serif\" font-size=\"14.00\">class = heart_yes</text>\n</g>\n<!-- 0&#45;&gt;4 -->\n<g id=\"edge4\" class=\"edge\">\n<title>0&#45;&gt;4</title>\n<path fill=\"none\" stroke=\"black\" d=\"M320.1,-222.91C326.26,-214.01 332.84,-204.51 339.19,-195.33\"/>\n<polygon fill=\"black\" stroke=\"black\" points=\"342.13,-197.24 344.95,-187.02 336.38,-193.25 342.13,-197.24\"/>\n<text text-anchor=\"middle\" x=\"349.42\" y=\"-207.92\" font-family=\"Helvetica,sans-Serif\" font-size=\"14.00\">False</text>\n</g>\n<!-- 2 -->\n<g id=\"node3\" class=\"node\">\n<title>2</title>\n<path fill=\"#eca36f\" stroke=\"black\" d=\"M120,-68C120,-68 12,-68 12,-68 6,-68 0,-62 0,-56 0,-56 0,-12 0,-12 0,-6 6,0 12,0 12,0 120,0 120,0 126,0 132,-6 132,-12 132,-12 132,-56 132,-56 132,-62 126,-68 120,-68\"/>\n<text text-anchor=\"middle\" x=\"66\" y=\"-52.8\" font-family=\"Helvetica,sans-Serif\" font-size=\"14.00\">entropy = 0.747</text>\n<text text-anchor=\"middle\" x=\"66\" y=\"-37.8\" font-family=\"Helvetica,sans-Serif\" font-size=\"14.00\">samples = 1818</text>\n<text text-anchor=\"middle\" x=\"66\" y=\"-22.8\" font-family=\"Helvetica,sans-Serif\" font-size=\"14.00\">value = [1431, 387]</text>\n<text text-anchor=\"middle\" x=\"66\" y=\"-7.8\" font-family=\"Helvetica,sans-Serif\" font-size=\"14.00\">class = heart_no</text>\n</g>\n<!-- 1&#45;&gt;2 -->\n<g id=\"edge2\" class=\"edge\">\n<title>1&#45;&gt;2</title>\n<path fill=\"none\" stroke=\"black\" d=\"M157.01,-103.73C144.33,-94.15 130.83,-83.96 118.23,-74.44\"/>\n<polygon fill=\"black\" stroke=\"black\" points=\"120.18,-71.53 110.1,-68.3 115.97,-77.12 120.18,-71.53\"/>\n</g>\n<!-- 3 -->\n<g id=\"node4\" class=\"node\">\n<title>3</title>\n<path fill=\"#cfe7f9\" stroke=\"black\" d=\"M263.5,-68C263.5,-68 162.5,-68 162.5,-68 156.5,-68 150.5,-62 150.5,-56 150.5,-56 150.5,-12 150.5,-12 150.5,-6 156.5,0 162.5,0 162.5,0 263.5,0 263.5,0 269.5,0 275.5,-6 275.5,-12 275.5,-12 275.5,-56 275.5,-56 275.5,-62 269.5,-68 263.5,-68\"/>\n<text text-anchor=\"middle\" x=\"213\" y=\"-52.8\" font-family=\"Helvetica,sans-Serif\" font-size=\"14.00\">entropy = 0.986</text>\n<text text-anchor=\"middle\" x=\"213\" y=\"-37.8\" font-family=\"Helvetica,sans-Serif\" font-size=\"14.00\">samples = 834</text>\n<text text-anchor=\"middle\" x=\"213\" y=\"-22.8\" font-family=\"Helvetica,sans-Serif\" font-size=\"14.00\">value = [360, 474]</text>\n<text text-anchor=\"middle\" x=\"213\" y=\"-7.8\" font-family=\"Helvetica,sans-Serif\" font-size=\"14.00\">class = heart_yes</text>\n</g>\n<!-- 1&#45;&gt;3 -->\n<g id=\"edge3\" class=\"edge\">\n<title>1&#45;&gt;3</title>\n<path fill=\"none\" stroke=\"black\" d=\"M211.74,-103.73C211.89,-95.52 212.05,-86.86 212.2,-78.56\"/>\n<polygon fill=\"black\" stroke=\"black\" points=\"215.71,-78.36 212.39,-68.3 208.71,-78.23 215.71,-78.36\"/>\n</g>\n<!-- 5 -->\n<g id=\"node6\" class=\"node\">\n<title>5</title>\n<path fill=\"#c8e4f8\" stroke=\"black\" d=\"M432.5,-68C432.5,-68 309.5,-68 309.5,-68 303.5,-68 297.5,-62 297.5,-56 297.5,-56 297.5,-12 297.5,-12 297.5,-6 303.5,0 309.5,0 309.5,0 432.5,0 432.5,0 438.5,0 444.5,-6 444.5,-12 444.5,-12 444.5,-56 444.5,-56 444.5,-62 438.5,-68 432.5,-68\"/>\n<text text-anchor=\"middle\" x=\"371\" y=\"-52.8\" font-family=\"Helvetica,sans-Serif\" font-size=\"14.00\">entropy = 0.981</text>\n<text text-anchor=\"middle\" x=\"371\" y=\"-37.8\" font-family=\"Helvetica,sans-Serif\" font-size=\"14.00\">samples = 1465</text>\n<text text-anchor=\"middle\" x=\"371\" y=\"-22.8\" font-family=\"Helvetica,sans-Serif\" font-size=\"14.00\">value = [614.0, 851.0]</text>\n<text text-anchor=\"middle\" x=\"371\" y=\"-7.8\" font-family=\"Helvetica,sans-Serif\" font-size=\"14.00\">class = heart_yes</text>\n</g>\n<!-- 4&#45;&gt;5 -->\n<g id=\"edge5\" class=\"edge\">\n<title>4&#45;&gt;5</title>\n<path fill=\"none\" stroke=\"black\" d=\"M372.26,-103.73C372.11,-95.52 371.95,-86.86 371.8,-78.56\"/>\n<polygon fill=\"black\" stroke=\"black\" points=\"375.29,-78.23 371.61,-68.3 368.29,-78.36 375.29,-78.23\"/>\n</g>\n<!-- 6 -->\n<g id=\"node7\" class=\"node\">\n<title>6</title>\n<path fill=\"#59ade9\" stroke=\"black\" d=\"M597.5,-68C597.5,-68 474.5,-68 474.5,-68 468.5,-68 462.5,-62 462.5,-56 462.5,-56 462.5,-12 462.5,-12 462.5,-6 468.5,0 474.5,0 474.5,0 597.5,0 597.5,0 603.5,0 609.5,-6 609.5,-12 609.5,-12 609.5,-56 609.5,-56 609.5,-62 603.5,-68 597.5,-68\"/>\n<text text-anchor=\"middle\" x=\"536\" y=\"-52.8\" font-family=\"Helvetica,sans-Serif\" font-size=\"14.00\">entropy = 0.582</text>\n<text text-anchor=\"middle\" x=\"536\" y=\"-37.8\" font-family=\"Helvetica,sans-Serif\" font-size=\"14.00\">samples = 883</text>\n<text text-anchor=\"middle\" x=\"536\" y=\"-22.8\" font-family=\"Helvetica,sans-Serif\" font-size=\"14.00\">value = [123.0, 760.0]</text>\n<text text-anchor=\"middle\" x=\"536\" y=\"-7.8\" font-family=\"Helvetica,sans-Serif\" font-size=\"14.00\">class = heart_yes</text>\n</g>\n<!-- 4&#45;&gt;6 -->\n<g id=\"edge6\" class=\"edge\">\n<title>4&#45;&gt;6</title>\n<path fill=\"none\" stroke=\"black\" d=\"M433.7,-103.73C448.3,-93.92 463.86,-83.46 478.32,-73.75\"/>\n<polygon fill=\"black\" stroke=\"black\" points=\"480.34,-76.61 486.69,-68.13 476.44,-70.8 480.34,-76.61\"/>\n</g>\n</g>\n</svg>\n",
            "text/plain": [
              "<graphviz.sources.Source at 0x7874f189a870>"
            ]
          },
          "metadata": {}
        }
      ],
      "source": [
        "# TODO\n",
        "# Create a DecisionTreeClassifier with a high min_samples_split to underfit\n",
        "underfit_tree_split = DecisionTreeClassifier(criterion=\"entropy\", min_samples_split=2000)\n",
        "\n",
        "# Fit it to the training data\n",
        "underfit_tree_split.fit(X_train, t_train)\n",
        "\n",
        "# Print the training and validation accuracy\n",
        "print(\"Training Accuracy:\", underfit_tree_split.score(X_train, t_train))\n",
        "print(\"Validation Accuracy:\", underfit_tree_split.score(X_valid, t_valid))\n",
        "\n",
        "# Visualize the tree\n",
        "visualize_tree(underfit_tree_split)\n"
      ]
    },
    {
      "cell_type": "markdown",
      "id": "99e23799",
      "metadata": {
        "id": "99e23799"
      },
      "source": [
        "**Task:** Repeat the same thing you did above. Set `min_samples_split` to a value that would cause the tree to *overfit*. Omit the `max_depth` parameter. Report the accuracy on the validation and training sets. When using `visualize_tree` to visualize the tree, you can leave the default max depth parameter as 5."
      ]
    },
    {
      "cell_type": "code",
      "execution_count": 102,
      "id": "35dbe52e",
      "metadata": {
        "id": "35dbe52e",
        "outputId": "e0903507-d4d7-4279-a404-4bad2d0304ff",
        "colab": {
          "base_uri": "https://localhost:8080/",
          "height": 1000
        }
      },
      "outputs": [
        {
          "output_type": "stream",
          "name": "stdout",
          "text": [
            "Training Accuracy: 1.0\n",
            "Validation Accuracy: 0.9653333333333334\n"
          ]
        },
        {
          "output_type": "display_data",
          "data": {
            "image/svg+xml": "<?xml version=\"1.0\" encoding=\"UTF-8\" standalone=\"no\"?>\n<!DOCTYPE svg PUBLIC \"-//W3C//DTD SVG 1.1//EN\"\n \"http://www.w3.org/Graphics/SVG/1.1/DTD/svg11.dtd\">\n<!-- Generated by graphviz version 2.43.0 (0)\n -->\n<!-- Title: Tree Pages: 1 -->\n<svg width=\"4362pt\" height=\"758pt\"\n viewBox=\"0.00 0.00 4362.00 758.00\" xmlns=\"http://www.w3.org/2000/svg\" xmlns:xlink=\"http://www.w3.org/1999/xlink\">\n<g id=\"graph0\" class=\"graph\" transform=\"scale(1 1) rotate(0) translate(4 754)\">\n<title>Tree</title>\n<polygon fill=\"white\" stroke=\"transparent\" points=\"-4,4 -4,-754 4358,-754 4358,4 -4,4\"/>\n<!-- 0 -->\n<g id=\"node1\" class=\"node\">\n<title>0</title>\n<path fill=\"#fefcfb\" stroke=\"black\" d=\"M2389.5,-750C2389.5,-750 2251.5,-750 2251.5,-750 2245.5,-750 2239.5,-744 2239.5,-738 2239.5,-738 2239.5,-679 2239.5,-679 2239.5,-673 2245.5,-667 2251.5,-667 2251.5,-667 2389.5,-667 2389.5,-667 2395.5,-667 2401.5,-673 2401.5,-679 2401.5,-679 2401.5,-738 2401.5,-738 2401.5,-744 2395.5,-750 2389.5,-750\"/>\n<text text-anchor=\"middle\" x=\"2320.5\" y=\"-734.8\" font-family=\"Helvetica,sans-Serif\" font-size=\"14.00\">age &lt;= 64.5</text>\n<text text-anchor=\"middle\" x=\"2320.5\" y=\"-719.8\" font-family=\"Helvetica,sans-Serif\" font-size=\"14.00\">entropy = 1.0</text>\n<text text-anchor=\"middle\" x=\"2320.5\" y=\"-704.8\" font-family=\"Helvetica,sans-Serif\" font-size=\"14.00\">samples = 5000</text>\n<text text-anchor=\"middle\" x=\"2320.5\" y=\"-689.8\" font-family=\"Helvetica,sans-Serif\" font-size=\"14.00\">value = [2528.0, 2472.0]</text>\n<text text-anchor=\"middle\" x=\"2320.5\" y=\"-674.8\" font-family=\"Helvetica,sans-Serif\" font-size=\"14.00\">class = heart_no</text>\n</g>\n<!-- 1 -->\n<g id=\"node2\" class=\"node\">\n<title>1</title>\n<path fill=\"#f1be98\" stroke=\"black\" d=\"M1757,-631C1757,-631 1626,-631 1626,-631 1620,-631 1614,-625 1614,-619 1614,-619 1614,-560 1614,-560 1614,-554 1620,-548 1626,-548 1626,-548 1757,-548 1757,-548 1763,-548 1769,-554 1769,-560 1769,-560 1769,-619 1769,-619 1769,-625 1763,-631 1757,-631\"/>\n<text text-anchor=\"middle\" x=\"1691.5\" y=\"-615.8\" font-family=\"Helvetica,sans-Serif\" font-size=\"14.00\">chest_pain &lt;= 0.5</text>\n<text text-anchor=\"middle\" x=\"1691.5\" y=\"-600.8\" font-family=\"Helvetica,sans-Serif\" font-size=\"14.00\">entropy = 0.909</text>\n<text text-anchor=\"middle\" x=\"1691.5\" y=\"-585.8\" font-family=\"Helvetica,sans-Serif\" font-size=\"14.00\">samples = 2652</text>\n<text text-anchor=\"middle\" x=\"1691.5\" y=\"-570.8\" font-family=\"Helvetica,sans-Serif\" font-size=\"14.00\">value = [1791.0, 861.0]</text>\n<text text-anchor=\"middle\" x=\"1691.5\" y=\"-555.8\" font-family=\"Helvetica,sans-Serif\" font-size=\"14.00\">class = heart_no</text>\n</g>\n<!-- 0&#45;&gt;1 -->\n<g id=\"edge1\" class=\"edge\">\n<title>0&#45;&gt;1</title>\n<path fill=\"none\" stroke=\"black\" d=\"M2239.24,-692.38C2120.69,-670.33 1901.2,-629.51 1779.14,-606.8\"/>\n<polygon fill=\"black\" stroke=\"black\" points=\"1779.55,-603.32 1769.08,-604.93 1778.27,-610.2 1779.55,-603.32\"/>\n<text text-anchor=\"middle\" x=\"1783.23\" y=\"-621.84\" font-family=\"Helvetica,sans-Serif\" font-size=\"14.00\">True</text>\n</g>\n<!-- 330 -->\n<g id=\"node53\" class=\"node\">\n<title>330</title>\n<path fill=\"#94caf1\" stroke=\"black\" d=\"M2885.5,-631C2885.5,-631 2777.5,-631 2777.5,-631 2771.5,-631 2765.5,-625 2765.5,-619 2765.5,-619 2765.5,-560 2765.5,-560 2765.5,-554 2771.5,-548 2777.5,-548 2777.5,-548 2885.5,-548 2885.5,-548 2891.5,-548 2897.5,-554 2897.5,-560 2897.5,-560 2897.5,-619 2897.5,-619 2897.5,-625 2891.5,-631 2885.5,-631\"/>\n<text text-anchor=\"middle\" x=\"2831.5\" y=\"-615.8\" font-family=\"Helvetica,sans-Serif\" font-size=\"14.00\">chest_pain &lt;= 0.5</text>\n<text text-anchor=\"middle\" x=\"2831.5\" y=\"-600.8\" font-family=\"Helvetica,sans-Serif\" font-size=\"14.00\">entropy = 0.898</text>\n<text text-anchor=\"middle\" x=\"2831.5\" y=\"-585.8\" font-family=\"Helvetica,sans-Serif\" font-size=\"14.00\">samples = 2348</text>\n<text text-anchor=\"middle\" x=\"2831.5\" y=\"-570.8\" font-family=\"Helvetica,sans-Serif\" font-size=\"14.00\">value = [737, 1611]</text>\n<text text-anchor=\"middle\" x=\"2831.5\" y=\"-555.8\" font-family=\"Helvetica,sans-Serif\" font-size=\"14.00\">class = heart_yes</text>\n</g>\n<!-- 0&#45;&gt;330 -->\n<g id=\"edge52\" class=\"edge\">\n<title>0&#45;&gt;330</title>\n<path fill=\"none\" stroke=\"black\" d=\"M2401.75,-688.9C2498.98,-666.63 2660.52,-629.65 2755.4,-607.92\"/>\n<polygon fill=\"black\" stroke=\"black\" points=\"2756.26,-611.32 2765.22,-605.68 2754.69,-604.5 2756.26,-611.32\"/>\n<text text-anchor=\"middle\" x=\"2751.94\" y=\"-623.15\" font-family=\"Helvetica,sans-Serif\" font-size=\"14.00\">False</text>\n</g>\n<!-- 2 -->\n<g id=\"node3\" class=\"node\">\n<title>2</title>\n<path fill=\"#eca36f\" stroke=\"black\" d=\"M745.5,-512C745.5,-512 637.5,-512 637.5,-512 631.5,-512 625.5,-506 625.5,-500 625.5,-500 625.5,-441 625.5,-441 625.5,-435 631.5,-429 637.5,-429 637.5,-429 745.5,-429 745.5,-429 751.5,-429 757.5,-435 757.5,-441 757.5,-441 757.5,-500 757.5,-500 757.5,-506 751.5,-512 745.5,-512\"/>\n<text text-anchor=\"middle\" x=\"691.5\" y=\"-496.8\" font-family=\"Helvetica,sans-Serif\" font-size=\"14.00\">age &lt;= 47.5</text>\n<text text-anchor=\"middle\" x=\"691.5\" y=\"-481.8\" font-family=\"Helvetica,sans-Serif\" font-size=\"14.00\">entropy = 0.747</text>\n<text text-anchor=\"middle\" x=\"691.5\" y=\"-466.8\" font-family=\"Helvetica,sans-Serif\" font-size=\"14.00\">samples = 1818</text>\n<text text-anchor=\"middle\" x=\"691.5\" y=\"-451.8\" font-family=\"Helvetica,sans-Serif\" font-size=\"14.00\">value = [1431, 387]</text>\n<text text-anchor=\"middle\" x=\"691.5\" y=\"-436.8\" font-family=\"Helvetica,sans-Serif\" font-size=\"14.00\">class = heart_no</text>\n</g>\n<!-- 1&#45;&gt;2 -->\n<g id=\"edge2\" class=\"edge\">\n<title>1&#45;&gt;2</title>\n<path fill=\"none\" stroke=\"black\" d=\"M1613.86,-579.42C1426.86,-557.54 953.25,-502.12 767.71,-480.42\"/>\n<polygon fill=\"black\" stroke=\"black\" points=\"768.11,-476.94 757.77,-479.25 767.29,-483.89 768.11,-476.94\"/>\n</g>\n<!-- 187 -->\n<g id=\"node26\" class=\"node\">\n<title>187</title>\n<path fill=\"#cfe7f9\" stroke=\"black\" d=\"M1742,-512C1742,-512 1641,-512 1641,-512 1635,-512 1629,-506 1629,-500 1629,-500 1629,-441 1629,-441 1629,-435 1635,-429 1641,-429 1641,-429 1742,-429 1742,-429 1748,-429 1754,-435 1754,-441 1754,-441 1754,-500 1754,-500 1754,-506 1748,-512 1742,-512\"/>\n<text text-anchor=\"middle\" x=\"1691.5\" y=\"-496.8\" font-family=\"Helvetica,sans-Serif\" font-size=\"14.00\">age &lt;= 56.5</text>\n<text text-anchor=\"middle\" x=\"1691.5\" y=\"-481.8\" font-family=\"Helvetica,sans-Serif\" font-size=\"14.00\">entropy = 0.986</text>\n<text text-anchor=\"middle\" x=\"1691.5\" y=\"-466.8\" font-family=\"Helvetica,sans-Serif\" font-size=\"14.00\">samples = 834</text>\n<text text-anchor=\"middle\" x=\"1691.5\" y=\"-451.8\" font-family=\"Helvetica,sans-Serif\" font-size=\"14.00\">value = [360, 474]</text>\n<text text-anchor=\"middle\" x=\"1691.5\" y=\"-436.8\" font-family=\"Helvetica,sans-Serif\" font-size=\"14.00\">class = heart_yes</text>\n</g>\n<!-- 1&#45;&gt;187 -->\n<g id=\"edge25\" class=\"edge\">\n<title>1&#45;&gt;187</title>\n<path fill=\"none\" stroke=\"black\" d=\"M1691.5,-547.91C1691.5,-539.65 1691.5,-530.86 1691.5,-522.3\"/>\n<polygon fill=\"black\" stroke=\"black\" points=\"1695,-522.02 1691.5,-512.02 1688,-522.02 1695,-522.02\"/>\n</g>\n<!-- 3 -->\n<g id=\"node4\" class=\"node\">\n<title>3</title>\n<path fill=\"#e68641\" stroke=\"black\" d=\"M326.5,-393C326.5,-393 200.5,-393 200.5,-393 194.5,-393 188.5,-387 188.5,-381 188.5,-381 188.5,-322 188.5,-322 188.5,-316 194.5,-310 200.5,-310 200.5,-310 326.5,-310 326.5,-310 332.5,-310 338.5,-316 338.5,-322 338.5,-322 338.5,-381 338.5,-381 338.5,-387 332.5,-393 326.5,-393\"/>\n<text text-anchor=\"middle\" x=\"263.5\" y=\"-377.8\" font-family=\"Helvetica,sans-Serif\" font-size=\"14.00\">gender_female &lt;= 0.5</text>\n<text text-anchor=\"middle\" x=\"263.5\" y=\"-362.8\" font-family=\"Helvetica,sans-Serif\" font-size=\"14.00\">entropy = 0.232</text>\n<text text-anchor=\"middle\" x=\"263.5\" y=\"-347.8\" font-family=\"Helvetica,sans-Serif\" font-size=\"14.00\">samples = 529</text>\n<text text-anchor=\"middle\" x=\"263.5\" y=\"-332.8\" font-family=\"Helvetica,sans-Serif\" font-size=\"14.00\">value = [509, 20]</text>\n<text text-anchor=\"middle\" x=\"263.5\" y=\"-317.8\" font-family=\"Helvetica,sans-Serif\" font-size=\"14.00\">class = heart_no</text>\n</g>\n<!-- 2&#45;&gt;3 -->\n<g id=\"edge3\" class=\"edge\">\n<title>2&#45;&gt;3</title>\n<path fill=\"none\" stroke=\"black\" d=\"M625.09,-451.35C550.64,-430.99 429.7,-397.93 348.43,-375.72\"/>\n<polygon fill=\"black\" stroke=\"black\" points=\"349.29,-372.32 338.72,-373.06 347.44,-379.07 349.29,-372.32\"/>\n</g>\n<!-- 28 -->\n<g id=\"node13\" class=\"node\">\n<title>28</title>\n<path fill=\"#efb388\" stroke=\"black\" d=\"M757,-393C757,-393 626,-393 626,-393 620,-393 614,-387 614,-381 614,-381 614,-322 614,-322 614,-316 620,-310 626,-310 626,-310 757,-310 757,-310 763,-310 769,-316 769,-322 769,-322 769,-381 769,-381 769,-387 763,-393 757,-393\"/>\n<text text-anchor=\"middle\" x=\"691.5\" y=\"-377.8\" font-family=\"Helvetica,sans-Serif\" font-size=\"14.00\">family_income &lt;= 4.88</text>\n<text text-anchor=\"middle\" x=\"691.5\" y=\"-362.8\" font-family=\"Helvetica,sans-Serif\" font-size=\"14.00\">entropy = 0.862</text>\n<text text-anchor=\"middle\" x=\"691.5\" y=\"-347.8\" font-family=\"Helvetica,sans-Serif\" font-size=\"14.00\">samples = 1289</text>\n<text text-anchor=\"middle\" x=\"691.5\" y=\"-332.8\" font-family=\"Helvetica,sans-Serif\" font-size=\"14.00\">value = [922, 367]</text>\n<text text-anchor=\"middle\" x=\"691.5\" y=\"-317.8\" font-family=\"Helvetica,sans-Serif\" font-size=\"14.00\">class = heart_no</text>\n</g>\n<!-- 2&#45;&gt;28 -->\n<g id=\"edge12\" class=\"edge\">\n<title>2&#45;&gt;28</title>\n<path fill=\"none\" stroke=\"black\" d=\"M691.5,-428.91C691.5,-420.65 691.5,-411.86 691.5,-403.3\"/>\n<polygon fill=\"black\" stroke=\"black\" points=\"695,-403.02 691.5,-393.02 688,-403.02 695,-403.02\"/>\n</g>\n<!-- 4 -->\n<g id=\"node5\" class=\"node\">\n<title>4</title>\n<path fill=\"#e58139\" stroke=\"black\" d=\"M143.5,-266.5C143.5,-266.5 51.5,-266.5 51.5,-266.5 45.5,-266.5 39.5,-260.5 39.5,-254.5 39.5,-254.5 39.5,-210.5 39.5,-210.5 39.5,-204.5 45.5,-198.5 51.5,-198.5 51.5,-198.5 143.5,-198.5 143.5,-198.5 149.5,-198.5 155.5,-204.5 155.5,-210.5 155.5,-210.5 155.5,-254.5 155.5,-254.5 155.5,-260.5 149.5,-266.5 143.5,-266.5\"/>\n<text text-anchor=\"middle\" x=\"97.5\" y=\"-251.3\" font-family=\"Helvetica,sans-Serif\" font-size=\"14.00\">entropy = 0.0</text>\n<text text-anchor=\"middle\" x=\"97.5\" y=\"-236.3\" font-family=\"Helvetica,sans-Serif\" font-size=\"14.00\">samples = 235</text>\n<text text-anchor=\"middle\" x=\"97.5\" y=\"-221.3\" font-family=\"Helvetica,sans-Serif\" font-size=\"14.00\">value = [235, 0]</text>\n<text text-anchor=\"middle\" x=\"97.5\" y=\"-206.3\" font-family=\"Helvetica,sans-Serif\" font-size=\"14.00\">class = heart_no</text>\n</g>\n<!-- 3&#45;&gt;4 -->\n<g id=\"edge4\" class=\"edge\">\n<title>3&#45;&gt;4</title>\n<path fill=\"none\" stroke=\"black\" d=\"M205.91,-309.91C188.69,-297.77 169.85,-284.49 152.78,-272.46\"/>\n<polygon fill=\"black\" stroke=\"black\" points=\"154.75,-269.57 144.56,-266.67 150.71,-275.29 154.75,-269.57\"/>\n</g>\n<!-- 5 -->\n<g id=\"node6\" class=\"node\">\n<title>5</title>\n<path fill=\"#e78a47\" stroke=\"black\" d=\"M341.5,-274C341.5,-274 185.5,-274 185.5,-274 179.5,-274 173.5,-268 173.5,-262 173.5,-262 173.5,-203 173.5,-203 173.5,-197 179.5,-191 185.5,-191 185.5,-191 341.5,-191 341.5,-191 347.5,-191 353.5,-197 353.5,-203 353.5,-203 353.5,-262 353.5,-262 353.5,-268 347.5,-274 341.5,-274\"/>\n<text text-anchor=\"middle\" x=\"263.5\" y=\"-258.8\" font-family=\"Helvetica,sans-Serif\" font-size=\"14.00\">blood_cholesterol &lt;= 5.315</text>\n<text text-anchor=\"middle\" x=\"263.5\" y=\"-243.8\" font-family=\"Helvetica,sans-Serif\" font-size=\"14.00\">entropy = 0.359</text>\n<text text-anchor=\"middle\" x=\"263.5\" y=\"-228.8\" font-family=\"Helvetica,sans-Serif\" font-size=\"14.00\">samples = 294</text>\n<text text-anchor=\"middle\" x=\"263.5\" y=\"-213.8\" font-family=\"Helvetica,sans-Serif\" font-size=\"14.00\">value = [274.0, 20.0]</text>\n<text text-anchor=\"middle\" x=\"263.5\" y=\"-198.8\" font-family=\"Helvetica,sans-Serif\" font-size=\"14.00\">class = heart_no</text>\n</g>\n<!-- 3&#45;&gt;5 -->\n<g id=\"edge5\" class=\"edge\">\n<title>3&#45;&gt;5</title>\n<path fill=\"none\" stroke=\"black\" d=\"M263.5,-309.91C263.5,-301.65 263.5,-292.86 263.5,-284.3\"/>\n<polygon fill=\"black\" stroke=\"black\" points=\"267,-284.02 263.5,-274.02 260,-284.02 267,-284.02\"/>\n</g>\n<!-- 6 -->\n<g id=\"node7\" class=\"node\">\n<title>6</title>\n<path fill=\"#e68540\" stroke=\"black\" d=\"M143,-155C143,-155 12,-155 12,-155 6,-155 0,-149 0,-143 0,-143 0,-84 0,-84 0,-78 6,-72 12,-72 12,-72 143,-72 143,-72 149,-72 155,-78 155,-84 155,-84 155,-143 155,-143 155,-149 149,-155 143,-155\"/>\n<text text-anchor=\"middle\" x=\"77.5\" y=\"-139.8\" font-family=\"Helvetica,sans-Serif\" font-size=\"14.00\">family_income &lt;= 0.46</text>\n<text text-anchor=\"middle\" x=\"77.5\" y=\"-124.8\" font-family=\"Helvetica,sans-Serif\" font-size=\"14.00\">entropy = 0.215</text>\n<text text-anchor=\"middle\" x=\"77.5\" y=\"-109.8\" font-family=\"Helvetica,sans-Serif\" font-size=\"14.00\">samples = 234</text>\n<text text-anchor=\"middle\" x=\"77.5\" y=\"-94.8\" font-family=\"Helvetica,sans-Serif\" font-size=\"14.00\">value = [226, 8]</text>\n<text text-anchor=\"middle\" x=\"77.5\" y=\"-79.8\" font-family=\"Helvetica,sans-Serif\" font-size=\"14.00\">class = heart_no</text>\n</g>\n<!-- 5&#45;&gt;6 -->\n<g id=\"edge6\" class=\"edge\">\n<title>5&#45;&gt;6</title>\n<path fill=\"none\" stroke=\"black\" d=\"M198.97,-190.91C183.39,-181.11 166.63,-170.56 150.68,-160.53\"/>\n<polygon fill=\"black\" stroke=\"black\" points=\"152.25,-157.38 141.92,-155.02 148.52,-163.31 152.25,-157.38\"/>\n</g>\n<!-- 17 -->\n<g id=\"node10\" class=\"node\">\n<title>17</title>\n<path fill=\"#eca06a\" stroke=\"black\" d=\"M341.5,-155C341.5,-155 185.5,-155 185.5,-155 179.5,-155 173.5,-149 173.5,-143 173.5,-143 173.5,-84 173.5,-84 173.5,-78 179.5,-72 185.5,-72 185.5,-72 341.5,-72 341.5,-72 347.5,-72 353.5,-78 353.5,-84 353.5,-84 353.5,-143 353.5,-143 353.5,-149 347.5,-155 341.5,-155\"/>\n<text text-anchor=\"middle\" x=\"263.5\" y=\"-139.8\" font-family=\"Helvetica,sans-Serif\" font-size=\"14.00\">blood_cholesterol &lt;= 5.625</text>\n<text text-anchor=\"middle\" x=\"263.5\" y=\"-124.8\" font-family=\"Helvetica,sans-Serif\" font-size=\"14.00\">entropy = 0.722</text>\n<text text-anchor=\"middle\" x=\"263.5\" y=\"-109.8\" font-family=\"Helvetica,sans-Serif\" font-size=\"14.00\">samples = 60</text>\n<text text-anchor=\"middle\" x=\"263.5\" y=\"-94.8\" font-family=\"Helvetica,sans-Serif\" font-size=\"14.00\">value = [48, 12]</text>\n<text text-anchor=\"middle\" x=\"263.5\" y=\"-79.8\" font-family=\"Helvetica,sans-Serif\" font-size=\"14.00\">class = heart_no</text>\n</g>\n<!-- 5&#45;&gt;17 -->\n<g id=\"edge9\" class=\"edge\">\n<title>5&#45;&gt;17</title>\n<path fill=\"none\" stroke=\"black\" d=\"M263.5,-190.91C263.5,-182.65 263.5,-173.86 263.5,-165.3\"/>\n<polygon fill=\"black\" stroke=\"black\" points=\"267,-165.02 263.5,-155.02 260,-165.02 267,-165.02\"/>\n</g>\n<!-- 7 -->\n<g id=\"node8\" class=\"node\">\n<title>7</title>\n<path fill=\"#c0c0c0\" stroke=\"black\" d=\"M56.5,-36C56.5,-36 26.5,-36 26.5,-36 20.5,-36 14.5,-30 14.5,-24 14.5,-24 14.5,-12 14.5,-12 14.5,-6 20.5,0 26.5,0 26.5,0 56.5,0 56.5,0 62.5,0 68.5,-6 68.5,-12 68.5,-12 68.5,-24 68.5,-24 68.5,-30 62.5,-36 56.5,-36\"/>\n<text text-anchor=\"middle\" x=\"41.5\" y=\"-14.3\" font-family=\"Helvetica,sans-Serif\" font-size=\"14.00\">(...)</text>\n</g>\n<!-- 6&#45;&gt;7 -->\n<g id=\"edge7\" class=\"edge\">\n<title>6&#45;&gt;7</title>\n<path fill=\"none\" stroke=\"black\" d=\"M61.81,-71.76C58.46,-63.04 54.99,-54.04 51.89,-45.99\"/>\n<polygon fill=\"black\" stroke=\"black\" points=\"55.06,-44.48 48.2,-36.41 48.53,-46.99 55.06,-44.48\"/>\n</g>\n<!-- 10 -->\n<g id=\"node9\" class=\"node\">\n<title>10</title>\n<path fill=\"#c0c0c0\" stroke=\"black\" d=\"M128.5,-36C128.5,-36 98.5,-36 98.5,-36 92.5,-36 86.5,-30 86.5,-24 86.5,-24 86.5,-12 86.5,-12 86.5,-6 92.5,0 98.5,0 98.5,0 128.5,0 128.5,0 134.5,0 140.5,-6 140.5,-12 140.5,-12 140.5,-24 140.5,-24 140.5,-30 134.5,-36 128.5,-36\"/>\n<text text-anchor=\"middle\" x=\"113.5\" y=\"-14.3\" font-family=\"Helvetica,sans-Serif\" font-size=\"14.00\">(...)</text>\n</g>\n<!-- 6&#45;&gt;10 -->\n<g id=\"edge8\" class=\"edge\">\n<title>6&#45;&gt;10</title>\n<path fill=\"none\" stroke=\"black\" d=\"M93.19,-71.76C96.54,-63.04 100.01,-54.04 103.11,-45.99\"/>\n<polygon fill=\"black\" stroke=\"black\" points=\"106.47,-46.99 106.8,-36.41 99.94,-44.48 106.47,-46.99\"/>\n</g>\n<!-- 18 -->\n<g id=\"node11\" class=\"node\">\n<title>18</title>\n<path fill=\"#c0c0c0\" stroke=\"black\" d=\"M242.5,-36C242.5,-36 212.5,-36 212.5,-36 206.5,-36 200.5,-30 200.5,-24 200.5,-24 200.5,-12 200.5,-12 200.5,-6 206.5,0 212.5,0 212.5,0 242.5,0 242.5,0 248.5,0 254.5,-6 254.5,-12 254.5,-12 254.5,-24 254.5,-24 254.5,-30 248.5,-36 242.5,-36\"/>\n<text text-anchor=\"middle\" x=\"227.5\" y=\"-14.3\" font-family=\"Helvetica,sans-Serif\" font-size=\"14.00\">(...)</text>\n</g>\n<!-- 17&#45;&gt;18 -->\n<g id=\"edge10\" class=\"edge\">\n<title>17&#45;&gt;18</title>\n<path fill=\"none\" stroke=\"black\" d=\"M247.81,-71.76C244.46,-63.04 240.99,-54.04 237.89,-45.99\"/>\n<polygon fill=\"black\" stroke=\"black\" points=\"241.06,-44.48 234.2,-36.41 234.53,-46.99 241.06,-44.48\"/>\n</g>\n<!-- 27 -->\n<g id=\"node12\" class=\"node\">\n<title>27</title>\n<path fill=\"#c0c0c0\" stroke=\"black\" d=\"M314.5,-36C314.5,-36 284.5,-36 284.5,-36 278.5,-36 272.5,-30 272.5,-24 272.5,-24 272.5,-12 272.5,-12 272.5,-6 278.5,0 284.5,0 284.5,0 314.5,0 314.5,0 320.5,0 326.5,-6 326.5,-12 326.5,-12 326.5,-24 326.5,-24 326.5,-30 320.5,-36 314.5,-36\"/>\n<text text-anchor=\"middle\" x=\"299.5\" y=\"-14.3\" font-family=\"Helvetica,sans-Serif\" font-size=\"14.00\">(...)</text>\n</g>\n<!-- 17&#45;&gt;27 -->\n<g id=\"edge11\" class=\"edge\">\n<title>17&#45;&gt;27</title>\n<path fill=\"none\" stroke=\"black\" d=\"M279.19,-71.76C282.54,-63.04 286.01,-54.04 289.11,-45.99\"/>\n<polygon fill=\"black\" stroke=\"black\" points=\"292.47,-46.99 292.8,-36.41 285.94,-44.48 292.47,-46.99\"/>\n</g>\n<!-- 29 -->\n<g id=\"node14\" class=\"node\">\n<title>29</title>\n<path fill=\"#f3c4a3\" stroke=\"black\" d=\"M677,-274C677,-274 546,-274 546,-274 540,-274 534,-268 534,-262 534,-262 534,-203 534,-203 534,-197 540,-191 546,-191 546,-191 677,-191 677,-191 683,-191 689,-197 689,-203 689,-203 689,-262 689,-262 689,-268 683,-274 677,-274\"/>\n<text text-anchor=\"middle\" x=\"611.5\" y=\"-258.8\" font-family=\"Helvetica,sans-Serif\" font-size=\"14.00\">family_income &lt;= 2.92</text>\n<text text-anchor=\"middle\" x=\"611.5\" y=\"-243.8\" font-family=\"Helvetica,sans-Serif\" font-size=\"14.00\">entropy = 0.932</text>\n<text text-anchor=\"middle\" x=\"611.5\" y=\"-228.8\" font-family=\"Helvetica,sans-Serif\" font-size=\"14.00\">samples = 1026</text>\n<text text-anchor=\"middle\" x=\"611.5\" y=\"-213.8\" font-family=\"Helvetica,sans-Serif\" font-size=\"14.00\">value = [669, 357]</text>\n<text text-anchor=\"middle\" x=\"611.5\" y=\"-198.8\" font-family=\"Helvetica,sans-Serif\" font-size=\"14.00\">class = heart_no</text>\n</g>\n<!-- 28&#45;&gt;29 -->\n<g id=\"edge13\" class=\"edge\">\n<title>28&#45;&gt;29</title>\n<path fill=\"none\" stroke=\"black\" d=\"M663.74,-309.91C657.66,-301.01 651.16,-291.51 644.89,-282.33\"/>\n<polygon fill=\"black\" stroke=\"black\" points=\"647.74,-280.3 639.21,-274.02 641.96,-284.25 647.74,-280.3\"/>\n</g>\n<!-- 178 -->\n<g id=\"node21\" class=\"node\">\n<title>178</title>\n<path fill=\"#e68641\" stroke=\"black\" d=\"M823.5,-274C823.5,-274 719.5,-274 719.5,-274 713.5,-274 707.5,-268 707.5,-262 707.5,-262 707.5,-203 707.5,-203 707.5,-197 713.5,-191 719.5,-191 719.5,-191 823.5,-191 823.5,-191 829.5,-191 835.5,-197 835.5,-203 835.5,-203 835.5,-262 835.5,-262 835.5,-268 829.5,-274 823.5,-274\"/>\n<text text-anchor=\"middle\" x=\"771.5\" y=\"-258.8\" font-family=\"Helvetica,sans-Serif\" font-size=\"14.00\">re_hispanic &lt;= 0.5</text>\n<text text-anchor=\"middle\" x=\"771.5\" y=\"-243.8\" font-family=\"Helvetica,sans-Serif\" font-size=\"14.00\">entropy = 0.233</text>\n<text text-anchor=\"middle\" x=\"771.5\" y=\"-228.8\" font-family=\"Helvetica,sans-Serif\" font-size=\"14.00\">samples = 263</text>\n<text text-anchor=\"middle\" x=\"771.5\" y=\"-213.8\" font-family=\"Helvetica,sans-Serif\" font-size=\"14.00\">value = [253, 10]</text>\n<text text-anchor=\"middle\" x=\"771.5\" y=\"-198.8\" font-family=\"Helvetica,sans-Serif\" font-size=\"14.00\">class = heart_no</text>\n</g>\n<!-- 28&#45;&gt;178 -->\n<g id=\"edge20\" class=\"edge\">\n<title>28&#45;&gt;178</title>\n<path fill=\"none\" stroke=\"black\" d=\"M719.26,-309.91C725.34,-301.01 731.84,-291.51 738.11,-282.33\"/>\n<polygon fill=\"black\" stroke=\"black\" points=\"741.04,-284.25 743.79,-274.02 735.26,-280.3 741.04,-284.25\"/>\n</g>\n<!-- 30 -->\n<g id=\"node15\" class=\"node\">\n<title>30</title>\n<path fill=\"#f5cfb4\" stroke=\"black\" d=\"M507,-155C507,-155 384,-155 384,-155 378,-155 372,-149 372,-143 372,-143 372,-84 372,-84 372,-78 378,-72 384,-72 384,-72 507,-72 507,-72 513,-72 519,-78 519,-84 519,-84 519,-143 519,-143 519,-149 513,-155 507,-155\"/>\n<text text-anchor=\"middle\" x=\"445.5\" y=\"-139.8\" font-family=\"Helvetica,sans-Serif\" font-size=\"14.00\">diastolic_bp &lt;= 71.0</text>\n<text text-anchor=\"middle\" x=\"445.5\" y=\"-124.8\" font-family=\"Helvetica,sans-Serif\" font-size=\"14.00\">entropy = 0.96</text>\n<text text-anchor=\"middle\" x=\"445.5\" y=\"-109.8\" font-family=\"Helvetica,sans-Serif\" font-size=\"14.00\">samples = 812</text>\n<text text-anchor=\"middle\" x=\"445.5\" y=\"-94.8\" font-family=\"Helvetica,sans-Serif\" font-size=\"14.00\">value = [501.0, 311.0]</text>\n<text text-anchor=\"middle\" x=\"445.5\" y=\"-79.8\" font-family=\"Helvetica,sans-Serif\" font-size=\"14.00\">class = heart_no</text>\n</g>\n<!-- 29&#45;&gt;30 -->\n<g id=\"edge14\" class=\"edge\">\n<title>29&#45;&gt;30</title>\n<path fill=\"none\" stroke=\"black\" d=\"M553.91,-190.91C540.13,-181.2 525.32,-170.76 511.21,-160.81\"/>\n<polygon fill=\"black\" stroke=\"black\" points=\"513.18,-157.92 502.99,-155.02 509.15,-163.64 513.18,-157.92\"/>\n</g>\n<!-- 149 -->\n<g id=\"node18\" class=\"node\">\n<title>149</title>\n<path fill=\"#eca46f\" stroke=\"black\" d=\"M680,-155C680,-155 549,-155 549,-155 543,-155 537,-149 537,-143 537,-143 537,-84 537,-84 537,-78 543,-72 549,-72 549,-72 680,-72 680,-72 686,-72 692,-78 692,-84 692,-84 692,-143 692,-143 692,-149 686,-155 680,-155\"/>\n<text text-anchor=\"middle\" x=\"614.5\" y=\"-139.8\" font-family=\"Helvetica,sans-Serif\" font-size=\"14.00\">family_income &lt;= 4.27</text>\n<text text-anchor=\"middle\" x=\"614.5\" y=\"-124.8\" font-family=\"Helvetica,sans-Serif\" font-size=\"14.00\">entropy = 0.751</text>\n<text text-anchor=\"middle\" x=\"614.5\" y=\"-109.8\" font-family=\"Helvetica,sans-Serif\" font-size=\"14.00\">samples = 214</text>\n<text text-anchor=\"middle\" x=\"614.5\" y=\"-94.8\" font-family=\"Helvetica,sans-Serif\" font-size=\"14.00\">value = [168, 46]</text>\n<text text-anchor=\"middle\" x=\"614.5\" y=\"-79.8\" font-family=\"Helvetica,sans-Serif\" font-size=\"14.00\">class = heart_no</text>\n</g>\n<!-- 29&#45;&gt;149 -->\n<g id=\"edge17\" class=\"edge\">\n<title>29&#45;&gt;149</title>\n<path fill=\"none\" stroke=\"black\" d=\"M612.54,-190.91C612.75,-182.56 612.98,-173.67 613.2,-165.02\"/>\n<polygon fill=\"black\" stroke=\"black\" points=\"616.7,-165.11 613.46,-155.02 609.71,-164.93 616.7,-165.11\"/>\n</g>\n<!-- 31 -->\n<g id=\"node16\" class=\"node\">\n<title>31</title>\n<path fill=\"#c0c0c0\" stroke=\"black\" d=\"M441.5,-36C441.5,-36 411.5,-36 411.5,-36 405.5,-36 399.5,-30 399.5,-24 399.5,-24 399.5,-12 399.5,-12 399.5,-6 405.5,0 411.5,0 411.5,0 441.5,0 441.5,0 447.5,0 453.5,-6 453.5,-12 453.5,-12 453.5,-24 453.5,-24 453.5,-30 447.5,-36 441.5,-36\"/>\n<text text-anchor=\"middle\" x=\"426.5\" y=\"-14.3\" font-family=\"Helvetica,sans-Serif\" font-size=\"14.00\">(...)</text>\n</g>\n<!-- 30&#45;&gt;31 -->\n<g id=\"edge15\" class=\"edge\">\n<title>30&#45;&gt;31</title>\n<path fill=\"none\" stroke=\"black\" d=\"M437.22,-71.76C435.47,-63.14 433.66,-54.24 432.04,-46.26\"/>\n<polygon fill=\"black\" stroke=\"black\" points=\"435.46,-45.51 430.04,-36.41 428.6,-46.9 435.46,-45.51\"/>\n</g>\n<!-- 124 -->\n<g id=\"node17\" class=\"node\">\n<title>124</title>\n<path fill=\"#c0c0c0\" stroke=\"black\" d=\"M513.5,-36C513.5,-36 483.5,-36 483.5,-36 477.5,-36 471.5,-30 471.5,-24 471.5,-24 471.5,-12 471.5,-12 471.5,-6 477.5,0 483.5,0 483.5,0 513.5,0 513.5,0 519.5,0 525.5,-6 525.5,-12 525.5,-12 525.5,-24 525.5,-24 525.5,-30 519.5,-36 513.5,-36\"/>\n<text text-anchor=\"middle\" x=\"498.5\" y=\"-14.3\" font-family=\"Helvetica,sans-Serif\" font-size=\"14.00\">(...)</text>\n</g>\n<!-- 30&#45;&gt;124 -->\n<g id=\"edge16\" class=\"edge\">\n<title>30&#45;&gt;124</title>\n<path fill=\"none\" stroke=\"black\" d=\"M468.59,-71.76C473.7,-62.75 478.98,-53.44 483.65,-45.19\"/>\n<polygon fill=\"black\" stroke=\"black\" points=\"486.75,-46.83 488.63,-36.41 480.66,-43.38 486.75,-46.83\"/>\n</g>\n<!-- 150 -->\n<g id=\"node19\" class=\"node\">\n<title>150</title>\n<path fill=\"#c0c0c0\" stroke=\"black\" d=\"M607.5,-36C607.5,-36 577.5,-36 577.5,-36 571.5,-36 565.5,-30 565.5,-24 565.5,-24 565.5,-12 565.5,-12 565.5,-6 571.5,0 577.5,0 577.5,0 607.5,0 607.5,0 613.5,0 619.5,-6 619.5,-12 619.5,-12 619.5,-24 619.5,-24 619.5,-30 613.5,-36 607.5,-36\"/>\n<text text-anchor=\"middle\" x=\"592.5\" y=\"-14.3\" font-family=\"Helvetica,sans-Serif\" font-size=\"14.00\">(...)</text>\n</g>\n<!-- 149&#45;&gt;150 -->\n<g id=\"edge18\" class=\"edge\">\n<title>149&#45;&gt;150</title>\n<path fill=\"none\" stroke=\"black\" d=\"M604.91,-71.76C602.89,-63.14 600.79,-54.24 598.91,-46.26\"/>\n<polygon fill=\"black\" stroke=\"black\" points=\"602.29,-45.34 596.6,-36.41 595.48,-46.94 602.29,-45.34\"/>\n</g>\n<!-- 165 -->\n<g id=\"node20\" class=\"node\">\n<title>165</title>\n<path fill=\"#c0c0c0\" stroke=\"black\" d=\"M679.5,-36C679.5,-36 649.5,-36 649.5,-36 643.5,-36 637.5,-30 637.5,-24 637.5,-24 637.5,-12 637.5,-12 637.5,-6 643.5,0 649.5,0 649.5,0 679.5,0 679.5,0 685.5,0 691.5,-6 691.5,-12 691.5,-12 691.5,-24 691.5,-24 691.5,-30 685.5,-36 679.5,-36\"/>\n<text text-anchor=\"middle\" x=\"664.5\" y=\"-14.3\" font-family=\"Helvetica,sans-Serif\" font-size=\"14.00\">(...)</text>\n</g>\n<!-- 149&#45;&gt;165 -->\n<g id=\"edge19\" class=\"edge\">\n<title>149&#45;&gt;165</title>\n<path fill=\"none\" stroke=\"black\" d=\"M636.29,-71.76C641.05,-62.85 645.98,-53.64 650.35,-45.46\"/>\n<polygon fill=\"black\" stroke=\"black\" points=\"653.56,-46.87 655.19,-36.41 647.39,-43.57 653.56,-46.87\"/>\n</g>\n<!-- 179 -->\n<g id=\"node22\" class=\"node\">\n<title>179</title>\n<path fill=\"#e58139\" stroke=\"black\" d=\"M814.5,-147.5C814.5,-147.5 722.5,-147.5 722.5,-147.5 716.5,-147.5 710.5,-141.5 710.5,-135.5 710.5,-135.5 710.5,-91.5 710.5,-91.5 710.5,-85.5 716.5,-79.5 722.5,-79.5 722.5,-79.5 814.5,-79.5 814.5,-79.5 820.5,-79.5 826.5,-85.5 826.5,-91.5 826.5,-91.5 826.5,-135.5 826.5,-135.5 826.5,-141.5 820.5,-147.5 814.5,-147.5\"/>\n<text text-anchor=\"middle\" x=\"768.5\" y=\"-132.3\" font-family=\"Helvetica,sans-Serif\" font-size=\"14.00\">entropy = 0.0</text>\n<text text-anchor=\"middle\" x=\"768.5\" y=\"-117.3\" font-family=\"Helvetica,sans-Serif\" font-size=\"14.00\">samples = 218</text>\n<text text-anchor=\"middle\" x=\"768.5\" y=\"-102.3\" font-family=\"Helvetica,sans-Serif\" font-size=\"14.00\">value = [218, 0]</text>\n<text text-anchor=\"middle\" x=\"768.5\" y=\"-87.3\" font-family=\"Helvetica,sans-Serif\" font-size=\"14.00\">class = heart_no</text>\n</g>\n<!-- 178&#45;&gt;179 -->\n<g id=\"edge21\" class=\"edge\">\n<title>178&#45;&gt;179</title>\n<path fill=\"none\" stroke=\"black\" d=\"M770.46,-190.91C770.18,-180.2 769.89,-168.62 769.61,-157.78\"/>\n<polygon fill=\"black\" stroke=\"black\" points=\"773.11,-157.57 769.35,-147.67 766.11,-157.75 773.11,-157.57\"/>\n</g>\n<!-- 180 -->\n<g id=\"node23\" class=\"node\">\n<title>180</title>\n<path fill=\"#eca572\" stroke=\"black\" d=\"M948.5,-155C948.5,-155 856.5,-155 856.5,-155 850.5,-155 844.5,-149 844.5,-143 844.5,-143 844.5,-84 844.5,-84 844.5,-78 850.5,-72 856.5,-72 856.5,-72 948.5,-72 948.5,-72 954.5,-72 960.5,-78 960.5,-84 960.5,-84 960.5,-143 960.5,-143 960.5,-149 954.5,-155 948.5,-155\"/>\n<text text-anchor=\"middle\" x=\"902.5\" y=\"-139.8\" font-family=\"Helvetica,sans-Serif\" font-size=\"14.00\">age &lt;= 48.5</text>\n<text text-anchor=\"middle\" x=\"902.5\" y=\"-124.8\" font-family=\"Helvetica,sans-Serif\" font-size=\"14.00\">entropy = 0.764</text>\n<text text-anchor=\"middle\" x=\"902.5\" y=\"-109.8\" font-family=\"Helvetica,sans-Serif\" font-size=\"14.00\">samples = 45</text>\n<text text-anchor=\"middle\" x=\"902.5\" y=\"-94.8\" font-family=\"Helvetica,sans-Serif\" font-size=\"14.00\">value = [35, 10]</text>\n<text text-anchor=\"middle\" x=\"902.5\" y=\"-79.8\" font-family=\"Helvetica,sans-Serif\" font-size=\"14.00\">class = heart_no</text>\n</g>\n<!-- 178&#45;&gt;180 -->\n<g id=\"edge22\" class=\"edge\">\n<title>178&#45;&gt;180</title>\n<path fill=\"none\" stroke=\"black\" d=\"M816.95,-190.91C827.42,-181.56 838.64,-171.54 849.4,-161.93\"/>\n<polygon fill=\"black\" stroke=\"black\" points=\"852,-164.29 857.13,-155.02 847.34,-159.07 852,-164.29\"/>\n</g>\n<!-- 181 -->\n<g id=\"node24\" class=\"node\">\n<title>181</title>\n<path fill=\"#c0c0c0\" stroke=\"black\" d=\"M860.5,-36C860.5,-36 830.5,-36 830.5,-36 824.5,-36 818.5,-30 818.5,-24 818.5,-24 818.5,-12 818.5,-12 818.5,-6 824.5,0 830.5,0 830.5,0 860.5,0 860.5,0 866.5,0 872.5,-6 872.5,-12 872.5,-12 872.5,-24 872.5,-24 872.5,-30 866.5,-36 860.5,-36\"/>\n<text text-anchor=\"middle\" x=\"845.5\" y=\"-14.3\" font-family=\"Helvetica,sans-Serif\" font-size=\"14.00\">(...)</text>\n</g>\n<!-- 180&#45;&gt;181 -->\n<g id=\"edge23\" class=\"edge\">\n<title>180&#45;&gt;181</title>\n<path fill=\"none\" stroke=\"black\" d=\"M877.66,-71.76C872.17,-62.75 866.49,-53.44 861.47,-45.19\"/>\n<polygon fill=\"black\" stroke=\"black\" points=\"864.3,-43.12 856.11,-36.41 858.33,-46.77 864.3,-43.12\"/>\n</g>\n<!-- 182 -->\n<g id=\"node25\" class=\"node\">\n<title>182</title>\n<path fill=\"#c0c0c0\" stroke=\"black\" d=\"M932.5,-36C932.5,-36 902.5,-36 902.5,-36 896.5,-36 890.5,-30 890.5,-24 890.5,-24 890.5,-12 890.5,-12 890.5,-6 896.5,0 902.5,0 902.5,0 932.5,0 932.5,0 938.5,0 944.5,-6 944.5,-12 944.5,-12 944.5,-24 944.5,-24 944.5,-30 938.5,-36 932.5,-36\"/>\n<text text-anchor=\"middle\" x=\"917.5\" y=\"-14.3\" font-family=\"Helvetica,sans-Serif\" font-size=\"14.00\">(...)</text>\n</g>\n<!-- 180&#45;&gt;182 -->\n<g id=\"edge24\" class=\"edge\">\n<title>180&#45;&gt;182</title>\n<path fill=\"none\" stroke=\"black\" d=\"M909.04,-71.76C910.4,-63.24 911.81,-54.44 913.08,-46.53\"/>\n<polygon fill=\"black\" stroke=\"black\" points=\"916.58,-46.83 914.71,-36.41 909.67,-45.72 916.58,-46.83\"/>\n</g>\n<!-- 188 -->\n<g id=\"node27\" class=\"node\">\n<title>188</title>\n<path fill=\"#fae6d7\" stroke=\"black\" d=\"M1510,-393C1510,-393 1379,-393 1379,-393 1373,-393 1367,-387 1367,-381 1367,-381 1367,-322 1367,-322 1367,-316 1373,-310 1379,-310 1379,-310 1510,-310 1510,-310 1516,-310 1522,-316 1522,-322 1522,-322 1522,-381 1522,-381 1522,-387 1516,-393 1510,-393\"/>\n<text text-anchor=\"middle\" x=\"1444.5\" y=\"-377.8\" font-family=\"Helvetica,sans-Serif\" font-size=\"14.00\">family_income &lt;= 4.17</text>\n<text text-anchor=\"middle\" x=\"1444.5\" y=\"-362.8\" font-family=\"Helvetica,sans-Serif\" font-size=\"14.00\">entropy = 0.991</text>\n<text text-anchor=\"middle\" x=\"1444.5\" y=\"-347.8\" font-family=\"Helvetica,sans-Serif\" font-size=\"14.00\">samples = 448</text>\n<text text-anchor=\"middle\" x=\"1444.5\" y=\"-332.8\" font-family=\"Helvetica,sans-Serif\" font-size=\"14.00\">value = [249, 199]</text>\n<text text-anchor=\"middle\" x=\"1444.5\" y=\"-317.8\" font-family=\"Helvetica,sans-Serif\" font-size=\"14.00\">class = heart_no</text>\n</g>\n<!-- 187&#45;&gt;188 -->\n<g id=\"edge26\" class=\"edge\">\n<title>187&#45;&gt;188</title>\n<path fill=\"none\" stroke=\"black\" d=\"M1628.85,-439.82C1599.32,-425.84 1563.61,-408.92 1531.51,-393.71\"/>\n<polygon fill=\"black\" stroke=\"black\" points=\"1532.65,-390.38 1522.11,-389.26 1529.65,-396.71 1532.65,-390.38\"/>\n</g>\n<!-- 267 -->\n<g id=\"node40\" class=\"node\">\n<title>267</title>\n<path fill=\"#89c5ef\" stroke=\"black\" d=\"M1844,-393C1844,-393 1721,-393 1721,-393 1715,-393 1709,-387 1709,-381 1709,-381 1709,-322 1709,-322 1709,-316 1715,-310 1721,-310 1721,-310 1844,-310 1844,-310 1850,-310 1856,-316 1856,-322 1856,-322 1856,-381 1856,-381 1856,-387 1850,-393 1844,-393\"/>\n<text text-anchor=\"middle\" x=\"1782.5\" y=\"-377.8\" font-family=\"Helvetica,sans-Serif\" font-size=\"14.00\">age &lt;= 58.5</text>\n<text text-anchor=\"middle\" x=\"1782.5\" y=\"-362.8\" font-family=\"Helvetica,sans-Serif\" font-size=\"14.00\">entropy = 0.866</text>\n<text text-anchor=\"middle\" x=\"1782.5\" y=\"-347.8\" font-family=\"Helvetica,sans-Serif\" font-size=\"14.00\">samples = 386</text>\n<text text-anchor=\"middle\" x=\"1782.5\" y=\"-332.8\" font-family=\"Helvetica,sans-Serif\" font-size=\"14.00\">value = [111.0, 275.0]</text>\n<text text-anchor=\"middle\" x=\"1782.5\" y=\"-317.8\" font-family=\"Helvetica,sans-Serif\" font-size=\"14.00\">class = heart_yes</text>\n</g>\n<!-- 187&#45;&gt;267 -->\n<g id=\"edge39\" class=\"edge\">\n<title>187&#45;&gt;267</title>\n<path fill=\"none\" stroke=\"black\" d=\"M1723.07,-428.91C1730.06,-419.92 1737.53,-410.32 1744.74,-401.05\"/>\n<polygon fill=\"black\" stroke=\"black\" points=\"1747.61,-403.06 1750.98,-393.02 1742.08,-398.77 1747.61,-403.06\"/>\n</g>\n<!-- 189 -->\n<g id=\"node28\" class=\"node\">\n<title>189</title>\n<path fill=\"#f9fcfe\" stroke=\"black\" d=\"M1250,-274C1250,-274 1149,-274 1149,-274 1143,-274 1137,-268 1137,-262 1137,-262 1137,-203 1137,-203 1137,-197 1143,-191 1149,-191 1149,-191 1250,-191 1250,-191 1256,-191 1262,-197 1262,-203 1262,-203 1262,-262 1262,-262 1262,-268 1256,-274 1250,-274\"/>\n<text text-anchor=\"middle\" x=\"1199.5\" y=\"-258.8\" font-family=\"Helvetica,sans-Serif\" font-size=\"14.00\">age &lt;= 42.5</text>\n<text text-anchor=\"middle\" x=\"1199.5\" y=\"-243.8\" font-family=\"Helvetica,sans-Serif\" font-size=\"14.00\">entropy = 1.0</text>\n<text text-anchor=\"middle\" x=\"1199.5\" y=\"-228.8\" font-family=\"Helvetica,sans-Serif\" font-size=\"14.00\">samples = 380</text>\n<text text-anchor=\"middle\" x=\"1199.5\" y=\"-213.8\" font-family=\"Helvetica,sans-Serif\" font-size=\"14.00\">value = [187, 193]</text>\n<text text-anchor=\"middle\" x=\"1199.5\" y=\"-198.8\" font-family=\"Helvetica,sans-Serif\" font-size=\"14.00\">class = heart_yes</text>\n</g>\n<!-- 188&#45;&gt;189 -->\n<g id=\"edge27\" class=\"edge\">\n<title>188&#45;&gt;189</title>\n<path fill=\"none\" stroke=\"black\" d=\"M1366.98,-313.48C1336.36,-298.86 1301.39,-282.16 1271.35,-267.81\"/>\n<polygon fill=\"black\" stroke=\"black\" points=\"1272.73,-264.59 1262.2,-263.44 1269.71,-270.91 1272.73,-264.59\"/>\n</g>\n<!-- 260 -->\n<g id=\"node35\" class=\"node\">\n<title>260</title>\n<path fill=\"#e88d4c\" stroke=\"black\" d=\"M1530,-274C1530,-274 1359,-274 1359,-274 1353,-274 1347,-268 1347,-262 1347,-262 1347,-203 1347,-203 1347,-197 1353,-191 1359,-191 1359,-191 1530,-191 1530,-191 1536,-191 1542,-197 1542,-203 1542,-203 1542,-262 1542,-262 1542,-268 1536,-274 1530,-274\"/>\n<text text-anchor=\"middle\" x=\"1444.5\" y=\"-258.8\" font-family=\"Helvetica,sans-Serif\" font-size=\"14.00\">blood_pressure_sys &lt;= 159.0</text>\n<text text-anchor=\"middle\" x=\"1444.5\" y=\"-243.8\" font-family=\"Helvetica,sans-Serif\" font-size=\"14.00\">entropy = 0.431</text>\n<text text-anchor=\"middle\" x=\"1444.5\" y=\"-228.8\" font-family=\"Helvetica,sans-Serif\" font-size=\"14.00\">samples = 68</text>\n<text text-anchor=\"middle\" x=\"1444.5\" y=\"-213.8\" font-family=\"Helvetica,sans-Serif\" font-size=\"14.00\">value = [62, 6]</text>\n<text text-anchor=\"middle\" x=\"1444.5\" y=\"-198.8\" font-family=\"Helvetica,sans-Serif\" font-size=\"14.00\">class = heart_no</text>\n</g>\n<!-- 188&#45;&gt;260 -->\n<g id=\"edge34\" class=\"edge\">\n<title>188&#45;&gt;260</title>\n<path fill=\"none\" stroke=\"black\" d=\"M1444.5,-309.91C1444.5,-301.65 1444.5,-292.86 1444.5,-284.3\"/>\n<polygon fill=\"black\" stroke=\"black\" points=\"1448,-284.02 1444.5,-274.02 1441,-284.02 1448,-284.02\"/>\n</g>\n<!-- 190 -->\n<g id=\"node29\" class=\"node\">\n<title>190</title>\n<path fill=\"#e78c49\" stroke=\"black\" d=\"M1082.5,-155C1082.5,-155 990.5,-155 990.5,-155 984.5,-155 978.5,-149 978.5,-143 978.5,-143 978.5,-84 978.5,-84 978.5,-78 984.5,-72 990.5,-72 990.5,-72 1082.5,-72 1082.5,-72 1088.5,-72 1094.5,-78 1094.5,-84 1094.5,-84 1094.5,-143 1094.5,-143 1094.5,-149 1088.5,-155 1082.5,-155\"/>\n<text text-anchor=\"middle\" x=\"1036.5\" y=\"-139.8\" font-family=\"Helvetica,sans-Serif\" font-size=\"14.00\">BMI &lt;= 17.05</text>\n<text text-anchor=\"middle\" x=\"1036.5\" y=\"-124.8\" font-family=\"Helvetica,sans-Serif\" font-size=\"14.00\">entropy = 0.391</text>\n<text text-anchor=\"middle\" x=\"1036.5\" y=\"-109.8\" font-family=\"Helvetica,sans-Serif\" font-size=\"14.00\">samples = 39</text>\n<text text-anchor=\"middle\" x=\"1036.5\" y=\"-94.8\" font-family=\"Helvetica,sans-Serif\" font-size=\"14.00\">value = [36, 3]</text>\n<text text-anchor=\"middle\" x=\"1036.5\" y=\"-79.8\" font-family=\"Helvetica,sans-Serif\" font-size=\"14.00\">class = heart_no</text>\n</g>\n<!-- 189&#45;&gt;190 -->\n<g id=\"edge28\" class=\"edge\">\n<title>189&#45;&gt;190</title>\n<path fill=\"none\" stroke=\"black\" d=\"M1142.95,-190.91C1129.55,-181.29 1115.15,-170.95 1101.41,-161.09\"/>\n<polygon fill=\"black\" stroke=\"black\" points=\"1103.12,-158.01 1092.95,-155.02 1099.03,-163.7 1103.12,-158.01\"/>\n</g>\n<!-- 195 -->\n<g id=\"node32\" class=\"node\">\n<title>195</title>\n<path fill=\"#d6ebfa\" stroke=\"black\" d=\"M1274,-155C1274,-155 1125,-155 1125,-155 1119,-155 1113,-149 1113,-143 1113,-143 1113,-84 1113,-84 1113,-78 1119,-72 1125,-72 1125,-72 1274,-72 1274,-72 1280,-72 1286,-78 1286,-84 1286,-84 1286,-143 1286,-143 1286,-149 1280,-155 1274,-155\"/>\n<text text-anchor=\"middle\" x=\"1199.5\" y=\"-139.8\" font-family=\"Helvetica,sans-Serif\" font-size=\"14.00\">blood_cholesterol &lt;= 3.79</text>\n<text text-anchor=\"middle\" x=\"1199.5\" y=\"-124.8\" font-family=\"Helvetica,sans-Serif\" font-size=\"14.00\">entropy = 0.991</text>\n<text text-anchor=\"middle\" x=\"1199.5\" y=\"-109.8\" font-family=\"Helvetica,sans-Serif\" font-size=\"14.00\">samples = 341</text>\n<text text-anchor=\"middle\" x=\"1199.5\" y=\"-94.8\" font-family=\"Helvetica,sans-Serif\" font-size=\"14.00\">value = [151.0, 190.0]</text>\n<text text-anchor=\"middle\" x=\"1199.5\" y=\"-79.8\" font-family=\"Helvetica,sans-Serif\" font-size=\"14.00\">class = heart_yes</text>\n</g>\n<!-- 189&#45;&gt;195 -->\n<g id=\"edge31\" class=\"edge\">\n<title>189&#45;&gt;195</title>\n<path fill=\"none\" stroke=\"black\" d=\"M1199.5,-190.91C1199.5,-182.65 1199.5,-173.86 1199.5,-165.3\"/>\n<polygon fill=\"black\" stroke=\"black\" points=\"1203,-165.02 1199.5,-155.02 1196,-165.02 1203,-165.02\"/>\n</g>\n<!-- 191 -->\n<g id=\"node30\" class=\"node\">\n<title>191</title>\n<path fill=\"#c0c0c0\" stroke=\"black\" d=\"M1008.5,-36C1008.5,-36 978.5,-36 978.5,-36 972.5,-36 966.5,-30 966.5,-24 966.5,-24 966.5,-12 966.5,-12 966.5,-6 972.5,0 978.5,0 978.5,0 1008.5,0 1008.5,0 1014.5,0 1020.5,-6 1020.5,-12 1020.5,-12 1020.5,-24 1020.5,-24 1020.5,-30 1014.5,-36 1008.5,-36\"/>\n<text text-anchor=\"middle\" x=\"993.5\" y=\"-14.3\" font-family=\"Helvetica,sans-Serif\" font-size=\"14.00\">(...)</text>\n</g>\n<!-- 190&#45;&gt;191 -->\n<g id=\"edge29\" class=\"edge\">\n<title>190&#45;&gt;191</title>\n<path fill=\"none\" stroke=\"black\" d=\"M1017.76,-71.76C1013.71,-62.94 1009.52,-53.84 1005.79,-45.72\"/>\n<polygon fill=\"black\" stroke=\"black\" points=\"1008.86,-44.03 1001.5,-36.41 1002.5,-46.95 1008.86,-44.03\"/>\n</g>\n<!-- 194 -->\n<g id=\"node31\" class=\"node\">\n<title>194</title>\n<path fill=\"#c0c0c0\" stroke=\"black\" d=\"M1080.5,-36C1080.5,-36 1050.5,-36 1050.5,-36 1044.5,-36 1038.5,-30 1038.5,-24 1038.5,-24 1038.5,-12 1038.5,-12 1038.5,-6 1044.5,0 1050.5,0 1050.5,0 1080.5,0 1080.5,0 1086.5,0 1092.5,-6 1092.5,-12 1092.5,-12 1092.5,-24 1092.5,-24 1092.5,-30 1086.5,-36 1080.5,-36\"/>\n<text text-anchor=\"middle\" x=\"1065.5\" y=\"-14.3\" font-family=\"Helvetica,sans-Serif\" font-size=\"14.00\">(...)</text>\n</g>\n<!-- 190&#45;&gt;194 -->\n<g id=\"edge30\" class=\"edge\">\n<title>190&#45;&gt;194</title>\n<path fill=\"none\" stroke=\"black\" d=\"M1049.14,-71.76C1051.84,-63.04 1054.63,-54.04 1057.13,-45.99\"/>\n<polygon fill=\"black\" stroke=\"black\" points=\"1060.48,-46.99 1060.1,-36.41 1053.8,-44.92 1060.48,-46.99\"/>\n</g>\n<!-- 196 -->\n<g id=\"node33\" class=\"node\">\n<title>196</title>\n<path fill=\"#c0c0c0\" stroke=\"black\" d=\"M1154.5,-36C1154.5,-36 1124.5,-36 1124.5,-36 1118.5,-36 1112.5,-30 1112.5,-24 1112.5,-24 1112.5,-12 1112.5,-12 1112.5,-6 1118.5,0 1124.5,0 1124.5,0 1154.5,0 1154.5,0 1160.5,0 1166.5,-6 1166.5,-12 1166.5,-12 1166.5,-24 1166.5,-24 1166.5,-30 1160.5,-36 1154.5,-36\"/>\n<text text-anchor=\"middle\" x=\"1139.5\" y=\"-14.3\" font-family=\"Helvetica,sans-Serif\" font-size=\"14.00\">(...)</text>\n</g>\n<!-- 195&#45;&gt;196 -->\n<g id=\"edge32\" class=\"edge\">\n<title>195&#45;&gt;196</title>\n<path fill=\"none\" stroke=\"black\" d=\"M1173.36,-71.76C1167.51,-62.65 1161.47,-53.24 1156.14,-44.92\"/>\n<polygon fill=\"black\" stroke=\"black\" points=\"1159.02,-42.93 1150.67,-36.41 1153.12,-46.71 1159.02,-42.93\"/>\n</g>\n<!-- 211 -->\n<g id=\"node34\" class=\"node\">\n<title>211</title>\n<path fill=\"#c0c0c0\" stroke=\"black\" d=\"M1226.5,-36C1226.5,-36 1196.5,-36 1196.5,-36 1190.5,-36 1184.5,-30 1184.5,-24 1184.5,-24 1184.5,-12 1184.5,-12 1184.5,-6 1190.5,0 1196.5,0 1196.5,0 1226.5,0 1226.5,0 1232.5,0 1238.5,-6 1238.5,-12 1238.5,-12 1238.5,-24 1238.5,-24 1238.5,-30 1232.5,-36 1226.5,-36\"/>\n<text text-anchor=\"middle\" x=\"1211.5\" y=\"-14.3\" font-family=\"Helvetica,sans-Serif\" font-size=\"14.00\">(...)</text>\n</g>\n<!-- 195&#45;&gt;211 -->\n<g id=\"edge33\" class=\"edge\">\n<title>195&#45;&gt;211</title>\n<path fill=\"none\" stroke=\"black\" d=\"M1204.73,-71.76C1205.82,-63.24 1206.95,-54.44 1207.97,-46.53\"/>\n<polygon fill=\"black\" stroke=\"black\" points=\"1211.46,-46.77 1209.27,-36.41 1204.52,-45.88 1211.46,-46.77\"/>\n</g>\n<!-- 261 -->\n<g id=\"node36\" class=\"node\">\n<title>261</title>\n<path fill=\"#e6853f\" stroke=\"black\" d=\"M1420.5,-155C1420.5,-155 1316.5,-155 1316.5,-155 1310.5,-155 1304.5,-149 1304.5,-143 1304.5,-143 1304.5,-84 1304.5,-84 1304.5,-78 1310.5,-72 1316.5,-72 1316.5,-72 1420.5,-72 1420.5,-72 1426.5,-72 1432.5,-78 1432.5,-84 1432.5,-84 1432.5,-143 1432.5,-143 1432.5,-149 1426.5,-155 1420.5,-155\"/>\n<text text-anchor=\"middle\" x=\"1368.5\" y=\"-139.8\" font-family=\"Helvetica,sans-Serif\" font-size=\"14.00\">calories &lt;= 2412.5</text>\n<text text-anchor=\"middle\" x=\"1368.5\" y=\"-124.8\" font-family=\"Helvetica,sans-Serif\" font-size=\"14.00\">entropy = 0.201</text>\n<text text-anchor=\"middle\" x=\"1368.5\" y=\"-109.8\" font-family=\"Helvetica,sans-Serif\" font-size=\"14.00\">samples = 64</text>\n<text text-anchor=\"middle\" x=\"1368.5\" y=\"-94.8\" font-family=\"Helvetica,sans-Serif\" font-size=\"14.00\">value = [62, 2]</text>\n<text text-anchor=\"middle\" x=\"1368.5\" y=\"-79.8\" font-family=\"Helvetica,sans-Serif\" font-size=\"14.00\">class = heart_no</text>\n</g>\n<!-- 260&#45;&gt;261 -->\n<g id=\"edge35\" class=\"edge\">\n<title>260&#45;&gt;261</title>\n<path fill=\"none\" stroke=\"black\" d=\"M1418.13,-190.91C1412.41,-182.1 1406.31,-172.7 1400.4,-163.61\"/>\n<polygon fill=\"black\" stroke=\"black\" points=\"1403.2,-161.5 1394.82,-155.02 1397.33,-165.31 1403.2,-161.5\"/>\n</g>\n<!-- 266 -->\n<g id=\"node39\" class=\"node\">\n<title>266</title>\n<path fill=\"#399de5\" stroke=\"black\" d=\"M1560.5,-147.5C1560.5,-147.5 1462.5,-147.5 1462.5,-147.5 1456.5,-147.5 1450.5,-141.5 1450.5,-135.5 1450.5,-135.5 1450.5,-91.5 1450.5,-91.5 1450.5,-85.5 1456.5,-79.5 1462.5,-79.5 1462.5,-79.5 1560.5,-79.5 1560.5,-79.5 1566.5,-79.5 1572.5,-85.5 1572.5,-91.5 1572.5,-91.5 1572.5,-135.5 1572.5,-135.5 1572.5,-141.5 1566.5,-147.5 1560.5,-147.5\"/>\n<text text-anchor=\"middle\" x=\"1511.5\" y=\"-132.3\" font-family=\"Helvetica,sans-Serif\" font-size=\"14.00\">entropy = 0.0</text>\n<text text-anchor=\"middle\" x=\"1511.5\" y=\"-117.3\" font-family=\"Helvetica,sans-Serif\" font-size=\"14.00\">samples = 4</text>\n<text text-anchor=\"middle\" x=\"1511.5\" y=\"-102.3\" font-family=\"Helvetica,sans-Serif\" font-size=\"14.00\">value = [0, 4]</text>\n<text text-anchor=\"middle\" x=\"1511.5\" y=\"-87.3\" font-family=\"Helvetica,sans-Serif\" font-size=\"14.00\">class = heart_yes</text>\n</g>\n<!-- 260&#45;&gt;266 -->\n<g id=\"edge38\" class=\"edge\">\n<title>260&#45;&gt;266</title>\n<path fill=\"none\" stroke=\"black\" d=\"M1467.75,-190.91C1474.13,-179.76 1481.06,-167.66 1487.48,-156.44\"/>\n<polygon fill=\"black\" stroke=\"black\" points=\"1490.57,-158.08 1492.51,-147.67 1484.5,-154.61 1490.57,-158.08\"/>\n</g>\n<!-- 262 -->\n<g id=\"node37\" class=\"node\">\n<title>262</title>\n<path fill=\"#c0c0c0\" stroke=\"black\" d=\"M1347.5,-36C1347.5,-36 1317.5,-36 1317.5,-36 1311.5,-36 1305.5,-30 1305.5,-24 1305.5,-24 1305.5,-12 1305.5,-12 1305.5,-6 1311.5,0 1317.5,0 1317.5,0 1347.5,0 1347.5,0 1353.5,0 1359.5,-6 1359.5,-12 1359.5,-12 1359.5,-24 1359.5,-24 1359.5,-30 1353.5,-36 1347.5,-36\"/>\n<text text-anchor=\"middle\" x=\"1332.5\" y=\"-14.3\" font-family=\"Helvetica,sans-Serif\" font-size=\"14.00\">(...)</text>\n</g>\n<!-- 261&#45;&gt;262 -->\n<g id=\"edge36\" class=\"edge\">\n<title>261&#45;&gt;262</title>\n<path fill=\"none\" stroke=\"black\" d=\"M1352.81,-71.76C1349.46,-63.04 1345.99,-54.04 1342.89,-45.99\"/>\n<polygon fill=\"black\" stroke=\"black\" points=\"1346.06,-44.48 1339.2,-36.41 1339.53,-46.99 1346.06,-44.48\"/>\n</g>\n<!-- 263 -->\n<g id=\"node38\" class=\"node\">\n<title>263</title>\n<path fill=\"#c0c0c0\" stroke=\"black\" d=\"M1419.5,-36C1419.5,-36 1389.5,-36 1389.5,-36 1383.5,-36 1377.5,-30 1377.5,-24 1377.5,-24 1377.5,-12 1377.5,-12 1377.5,-6 1383.5,0 1389.5,0 1389.5,0 1419.5,0 1419.5,0 1425.5,0 1431.5,-6 1431.5,-12 1431.5,-12 1431.5,-24 1431.5,-24 1431.5,-30 1425.5,-36 1419.5,-36\"/>\n<text text-anchor=\"middle\" x=\"1404.5\" y=\"-14.3\" font-family=\"Helvetica,sans-Serif\" font-size=\"14.00\">(...)</text>\n</g>\n<!-- 261&#45;&gt;263 -->\n<g id=\"edge37\" class=\"edge\">\n<title>261&#45;&gt;263</title>\n<path fill=\"none\" stroke=\"black\" d=\"M1384.19,-71.76C1387.54,-63.04 1391.01,-54.04 1394.11,-45.99\"/>\n<polygon fill=\"black\" stroke=\"black\" points=\"1397.47,-46.99 1397.8,-36.41 1390.94,-44.48 1397.47,-46.99\"/>\n</g>\n<!-- 268 -->\n<g id=\"node41\" class=\"node\">\n<title>268</title>\n<path fill=\"#4ea7e8\" stroke=\"black\" d=\"M1831.5,-274C1831.5,-274 1733.5,-274 1733.5,-274 1727.5,-274 1721.5,-268 1721.5,-262 1721.5,-262 1721.5,-203 1721.5,-203 1721.5,-197 1727.5,-191 1733.5,-191 1733.5,-191 1831.5,-191 1831.5,-191 1837.5,-191 1843.5,-197 1843.5,-203 1843.5,-203 1843.5,-262 1843.5,-262 1843.5,-268 1837.5,-274 1831.5,-274\"/>\n<text text-anchor=\"middle\" x=\"1782.5\" y=\"-258.8\" font-family=\"Helvetica,sans-Serif\" font-size=\"14.00\">BMI &lt;= 16.1</text>\n<text text-anchor=\"middle\" x=\"1782.5\" y=\"-243.8\" font-family=\"Helvetica,sans-Serif\" font-size=\"14.00\">entropy = 0.455</text>\n<text text-anchor=\"middle\" x=\"1782.5\" y=\"-228.8\" font-family=\"Helvetica,sans-Serif\" font-size=\"14.00\">samples = 94</text>\n<text text-anchor=\"middle\" x=\"1782.5\" y=\"-213.8\" font-family=\"Helvetica,sans-Serif\" font-size=\"14.00\">value = [9, 85]</text>\n<text text-anchor=\"middle\" x=\"1782.5\" y=\"-198.8\" font-family=\"Helvetica,sans-Serif\" font-size=\"14.00\">class = heart_yes</text>\n</g>\n<!-- 267&#45;&gt;268 -->\n<g id=\"edge40\" class=\"edge\">\n<title>267&#45;&gt;268</title>\n<path fill=\"none\" stroke=\"black\" d=\"M1782.5,-309.91C1782.5,-301.65 1782.5,-292.86 1782.5,-284.3\"/>\n<polygon fill=\"black\" stroke=\"black\" points=\"1786,-284.02 1782.5,-274.02 1779,-284.02 1786,-284.02\"/>\n</g>\n<!-- 281 -->\n<g id=\"node48\" class=\"node\">\n<title>281</title>\n<path fill=\"#a3d2f3\" stroke=\"black\" d=\"M2101.5,-274C2101.5,-274 1997.5,-274 1997.5,-274 1991.5,-274 1985.5,-268 1985.5,-262 1985.5,-262 1985.5,-203 1985.5,-203 1985.5,-197 1991.5,-191 1997.5,-191 1997.5,-191 2101.5,-191 2101.5,-191 2107.5,-191 2113.5,-197 2113.5,-203 2113.5,-203 2113.5,-262 2113.5,-262 2113.5,-268 2107.5,-274 2101.5,-274\"/>\n<text text-anchor=\"middle\" x=\"2049.5\" y=\"-258.8\" font-family=\"Helvetica,sans-Serif\" font-size=\"14.00\">calories &lt;= 3316.5</text>\n<text text-anchor=\"middle\" x=\"2049.5\" y=\"-243.8\" font-family=\"Helvetica,sans-Serif\" font-size=\"14.00\">entropy = 0.933</text>\n<text text-anchor=\"middle\" x=\"2049.5\" y=\"-228.8\" font-family=\"Helvetica,sans-Serif\" font-size=\"14.00\">samples = 292</text>\n<text text-anchor=\"middle\" x=\"2049.5\" y=\"-213.8\" font-family=\"Helvetica,sans-Serif\" font-size=\"14.00\">value = [102, 190]</text>\n<text text-anchor=\"middle\" x=\"2049.5\" y=\"-198.8\" font-family=\"Helvetica,sans-Serif\" font-size=\"14.00\">class = heart_yes</text>\n</g>\n<!-- 267&#45;&gt;281 -->\n<g id=\"edge47\" class=\"edge\">\n<title>267&#45;&gt;281</title>\n<path fill=\"none\" stroke=\"black\" d=\"M1856.17,-318.22C1893.45,-301.88 1938.58,-282.11 1975.86,-265.77\"/>\n<polygon fill=\"black\" stroke=\"black\" points=\"1977.4,-268.91 1985.16,-261.7 1974.59,-262.5 1977.4,-268.91\"/>\n</g>\n<!-- 269 -->\n<g id=\"node42\" class=\"node\">\n<title>269</title>\n<path fill=\"#bddef6\" stroke=\"black\" d=\"M1752,-155C1752,-155 1603,-155 1603,-155 1597,-155 1591,-149 1591,-143 1591,-143 1591,-84 1591,-84 1591,-78 1597,-72 1603,-72 1603,-72 1752,-72 1752,-72 1758,-72 1764,-78 1764,-84 1764,-84 1764,-143 1764,-143 1764,-149 1758,-155 1752,-155\"/>\n<text text-anchor=\"middle\" x=\"1677.5\" y=\"-139.8\" font-family=\"Helvetica,sans-Serif\" font-size=\"14.00\">blood_cholesterol &lt;= 3.57</text>\n<text text-anchor=\"middle\" x=\"1677.5\" y=\"-124.8\" font-family=\"Helvetica,sans-Serif\" font-size=\"14.00\">entropy = 0.971</text>\n<text text-anchor=\"middle\" x=\"1677.5\" y=\"-109.8\" font-family=\"Helvetica,sans-Serif\" font-size=\"14.00\">samples = 10</text>\n<text text-anchor=\"middle\" x=\"1677.5\" y=\"-94.8\" font-family=\"Helvetica,sans-Serif\" font-size=\"14.00\">value = [4, 6]</text>\n<text text-anchor=\"middle\" x=\"1677.5\" y=\"-79.8\" font-family=\"Helvetica,sans-Serif\" font-size=\"14.00\">class = heart_yes</text>\n</g>\n<!-- 268&#45;&gt;269 -->\n<g id=\"edge41\" class=\"edge\">\n<title>268&#45;&gt;269</title>\n<path fill=\"none\" stroke=\"black\" d=\"M1746.07,-190.91C1737.85,-181.74 1729.04,-171.93 1720.57,-162.49\"/>\n<polygon fill=\"black\" stroke=\"black\" points=\"1723.15,-160.13 1713.86,-155.02 1717.94,-164.8 1723.15,-160.13\"/>\n</g>\n<!-- 272 -->\n<g id=\"node45\" class=\"node\">\n<title>272</title>\n<path fill=\"#46a3e7\" stroke=\"black\" d=\"M1950.5,-155C1950.5,-155 1794.5,-155 1794.5,-155 1788.5,-155 1782.5,-149 1782.5,-143 1782.5,-143 1782.5,-84 1782.5,-84 1782.5,-78 1788.5,-72 1794.5,-72 1794.5,-72 1950.5,-72 1950.5,-72 1956.5,-72 1962.5,-78 1962.5,-84 1962.5,-84 1962.5,-143 1962.5,-143 1962.5,-149 1956.5,-155 1950.5,-155\"/>\n<text text-anchor=\"middle\" x=\"1872.5\" y=\"-139.8\" font-family=\"Helvetica,sans-Serif\" font-size=\"14.00\">blood_cholesterol &lt;= 5.545</text>\n<text text-anchor=\"middle\" x=\"1872.5\" y=\"-124.8\" font-family=\"Helvetica,sans-Serif\" font-size=\"14.00\">entropy = 0.326</text>\n<text text-anchor=\"middle\" x=\"1872.5\" y=\"-109.8\" font-family=\"Helvetica,sans-Serif\" font-size=\"14.00\">samples = 84</text>\n<text text-anchor=\"middle\" x=\"1872.5\" y=\"-94.8\" font-family=\"Helvetica,sans-Serif\" font-size=\"14.00\">value = [5, 79]</text>\n<text text-anchor=\"middle\" x=\"1872.5\" y=\"-79.8\" font-family=\"Helvetica,sans-Serif\" font-size=\"14.00\">class = heart_yes</text>\n</g>\n<!-- 268&#45;&gt;272 -->\n<g id=\"edge44\" class=\"edge\">\n<title>268&#45;&gt;272</title>\n<path fill=\"none\" stroke=\"black\" d=\"M1813.73,-190.91C1820.64,-181.92 1828.03,-172.32 1835.15,-163.05\"/>\n<polygon fill=\"black\" stroke=\"black\" points=\"1838.01,-165.08 1841.33,-155.02 1832.46,-160.81 1838.01,-165.08\"/>\n</g>\n<!-- 270 -->\n<g id=\"node43\" class=\"node\">\n<title>270</title>\n<path fill=\"#c0c0c0\" stroke=\"black\" d=\"M1656.5,-36C1656.5,-36 1626.5,-36 1626.5,-36 1620.5,-36 1614.5,-30 1614.5,-24 1614.5,-24 1614.5,-12 1614.5,-12 1614.5,-6 1620.5,0 1626.5,0 1626.5,0 1656.5,0 1656.5,0 1662.5,0 1668.5,-6 1668.5,-12 1668.5,-12 1668.5,-24 1668.5,-24 1668.5,-30 1662.5,-36 1656.5,-36\"/>\n<text text-anchor=\"middle\" x=\"1641.5\" y=\"-14.3\" font-family=\"Helvetica,sans-Serif\" font-size=\"14.00\">(...)</text>\n</g>\n<!-- 269&#45;&gt;270 -->\n<g id=\"edge42\" class=\"edge\">\n<title>269&#45;&gt;270</title>\n<path fill=\"none\" stroke=\"black\" d=\"M1661.81,-71.76C1658.46,-63.04 1654.99,-54.04 1651.89,-45.99\"/>\n<polygon fill=\"black\" stroke=\"black\" points=\"1655.06,-44.48 1648.2,-36.41 1648.53,-46.99 1655.06,-44.48\"/>\n</g>\n<!-- 271 -->\n<g id=\"node44\" class=\"node\">\n<title>271</title>\n<path fill=\"#c0c0c0\" stroke=\"black\" d=\"M1728.5,-36C1728.5,-36 1698.5,-36 1698.5,-36 1692.5,-36 1686.5,-30 1686.5,-24 1686.5,-24 1686.5,-12 1686.5,-12 1686.5,-6 1692.5,0 1698.5,0 1698.5,0 1728.5,0 1728.5,0 1734.5,0 1740.5,-6 1740.5,-12 1740.5,-12 1740.5,-24 1740.5,-24 1740.5,-30 1734.5,-36 1728.5,-36\"/>\n<text text-anchor=\"middle\" x=\"1713.5\" y=\"-14.3\" font-family=\"Helvetica,sans-Serif\" font-size=\"14.00\">(...)</text>\n</g>\n<!-- 269&#45;&gt;271 -->\n<g id=\"edge43\" class=\"edge\">\n<title>269&#45;&gt;271</title>\n<path fill=\"none\" stroke=\"black\" d=\"M1693.19,-71.76C1696.54,-63.04 1700.01,-54.04 1703.11,-45.99\"/>\n<polygon fill=\"black\" stroke=\"black\" points=\"1706.47,-46.99 1706.8,-36.41 1699.94,-44.48 1706.47,-46.99\"/>\n</g>\n<!-- 273 -->\n<g id=\"node46\" class=\"node\">\n<title>273</title>\n<path fill=\"#c0c0c0\" stroke=\"black\" d=\"M1864.5,-36C1864.5,-36 1834.5,-36 1834.5,-36 1828.5,-36 1822.5,-30 1822.5,-24 1822.5,-24 1822.5,-12 1822.5,-12 1822.5,-6 1828.5,0 1834.5,0 1834.5,0 1864.5,0 1864.5,0 1870.5,0 1876.5,-6 1876.5,-12 1876.5,-12 1876.5,-24 1876.5,-24 1876.5,-30 1870.5,-36 1864.5,-36\"/>\n<text text-anchor=\"middle\" x=\"1849.5\" y=\"-14.3\" font-family=\"Helvetica,sans-Serif\" font-size=\"14.00\">(...)</text>\n</g>\n<!-- 272&#45;&gt;273 -->\n<g id=\"edge45\" class=\"edge\">\n<title>272&#45;&gt;273</title>\n<path fill=\"none\" stroke=\"black\" d=\"M1862.48,-71.76C1860.36,-63.14 1858.17,-54.24 1856.21,-46.26\"/>\n<polygon fill=\"black\" stroke=\"black\" points=\"1859.57,-45.28 1853.78,-36.41 1852.77,-46.95 1859.57,-45.28\"/>\n</g>\n<!-- 278 -->\n<g id=\"node47\" class=\"node\">\n<title>278</title>\n<path fill=\"#c0c0c0\" stroke=\"black\" d=\"M1936.5,-36C1936.5,-36 1906.5,-36 1906.5,-36 1900.5,-36 1894.5,-30 1894.5,-24 1894.5,-24 1894.5,-12 1894.5,-12 1894.5,-6 1900.5,0 1906.5,0 1906.5,0 1936.5,0 1936.5,0 1942.5,0 1948.5,-6 1948.5,-12 1948.5,-12 1948.5,-24 1948.5,-24 1948.5,-30 1942.5,-36 1936.5,-36\"/>\n<text text-anchor=\"middle\" x=\"1921.5\" y=\"-14.3\" font-family=\"Helvetica,sans-Serif\" font-size=\"14.00\">(...)</text>\n</g>\n<!-- 272&#45;&gt;278 -->\n<g id=\"edge46\" class=\"edge\">\n<title>272&#45;&gt;278</title>\n<path fill=\"none\" stroke=\"black\" d=\"M1893.85,-71.76C1898.52,-62.85 1903.35,-53.64 1907.63,-45.46\"/>\n<polygon fill=\"black\" stroke=\"black\" points=\"1910.84,-46.89 1912.38,-36.41 1904.64,-43.64 1910.84,-46.89\"/>\n</g>\n<!-- 282 -->\n<g id=\"node49\" class=\"node\">\n<title>282</title>\n<path fill=\"#97cbf1\" stroke=\"black\" d=\"M2106.5,-155C2106.5,-155 1992.5,-155 1992.5,-155 1986.5,-155 1980.5,-149 1980.5,-143 1980.5,-143 1980.5,-84 1980.5,-84 1980.5,-78 1986.5,-72 1992.5,-72 1992.5,-72 2106.5,-72 2106.5,-72 2112.5,-72 2118.5,-78 2118.5,-84 2118.5,-84 2118.5,-143 2118.5,-143 2118.5,-149 2112.5,-155 2106.5,-155\"/>\n<text text-anchor=\"middle\" x=\"2049.5\" y=\"-139.8\" font-family=\"Helvetica,sans-Serif\" font-size=\"14.00\">diastolic_bp &lt;= 61.0</text>\n<text text-anchor=\"middle\" x=\"2049.5\" y=\"-124.8\" font-family=\"Helvetica,sans-Serif\" font-size=\"14.00\">entropy = 0.906</text>\n<text text-anchor=\"middle\" x=\"2049.5\" y=\"-109.8\" font-family=\"Helvetica,sans-Serif\" font-size=\"14.00\">samples = 280</text>\n<text text-anchor=\"middle\" x=\"2049.5\" y=\"-94.8\" font-family=\"Helvetica,sans-Serif\" font-size=\"14.00\">value = [90, 190]</text>\n<text text-anchor=\"middle\" x=\"2049.5\" y=\"-79.8\" font-family=\"Helvetica,sans-Serif\" font-size=\"14.00\">class = heart_yes</text>\n</g>\n<!-- 281&#45;&gt;282 -->\n<g id=\"edge48\" class=\"edge\">\n<title>281&#45;&gt;282</title>\n<path fill=\"none\" stroke=\"black\" d=\"M2049.5,-190.91C2049.5,-182.65 2049.5,-173.86 2049.5,-165.3\"/>\n<polygon fill=\"black\" stroke=\"black\" points=\"2053,-165.02 2049.5,-155.02 2046,-165.02 2053,-165.02\"/>\n</g>\n<!-- 329 -->\n<g id=\"node52\" class=\"node\">\n<title>329</title>\n<path fill=\"#e58139\" stroke=\"black\" d=\"M2240.5,-147.5C2240.5,-147.5 2148.5,-147.5 2148.5,-147.5 2142.5,-147.5 2136.5,-141.5 2136.5,-135.5 2136.5,-135.5 2136.5,-91.5 2136.5,-91.5 2136.5,-85.5 2142.5,-79.5 2148.5,-79.5 2148.5,-79.5 2240.5,-79.5 2240.5,-79.5 2246.5,-79.5 2252.5,-85.5 2252.5,-91.5 2252.5,-91.5 2252.5,-135.5 2252.5,-135.5 2252.5,-141.5 2246.5,-147.5 2240.5,-147.5\"/>\n<text text-anchor=\"middle\" x=\"2194.5\" y=\"-132.3\" font-family=\"Helvetica,sans-Serif\" font-size=\"14.00\">entropy = 0.0</text>\n<text text-anchor=\"middle\" x=\"2194.5\" y=\"-117.3\" font-family=\"Helvetica,sans-Serif\" font-size=\"14.00\">samples = 12</text>\n<text text-anchor=\"middle\" x=\"2194.5\" y=\"-102.3\" font-family=\"Helvetica,sans-Serif\" font-size=\"14.00\">value = [12, 0]</text>\n<text text-anchor=\"middle\" x=\"2194.5\" y=\"-87.3\" font-family=\"Helvetica,sans-Serif\" font-size=\"14.00\">class = heart_no</text>\n</g>\n<!-- 281&#45;&gt;329 -->\n<g id=\"edge51\" class=\"edge\">\n<title>281&#45;&gt;329</title>\n<path fill=\"none\" stroke=\"black\" d=\"M2099.81,-190.91C2114.58,-178.99 2130.71,-165.98 2145.4,-154.12\"/>\n<polygon fill=\"black\" stroke=\"black\" points=\"2147.81,-156.67 2153.4,-147.67 2143.42,-151.22 2147.81,-156.67\"/>\n</g>\n<!-- 283 -->\n<g id=\"node50\" class=\"node\">\n<title>283</title>\n<path fill=\"#c0c0c0\" stroke=\"black\" d=\"M2014.5,-36C2014.5,-36 1984.5,-36 1984.5,-36 1978.5,-36 1972.5,-30 1972.5,-24 1972.5,-24 1972.5,-12 1972.5,-12 1972.5,-6 1978.5,0 1984.5,0 1984.5,0 2014.5,0 2014.5,0 2020.5,0 2026.5,-6 2026.5,-12 2026.5,-12 2026.5,-24 2026.5,-24 2026.5,-30 2020.5,-36 2014.5,-36\"/>\n<text text-anchor=\"middle\" x=\"1999.5\" y=\"-14.3\" font-family=\"Helvetica,sans-Serif\" font-size=\"14.00\">(...)</text>\n</g>\n<!-- 282&#45;&gt;283 -->\n<g id=\"edge49\" class=\"edge\">\n<title>282&#45;&gt;283</title>\n<path fill=\"none\" stroke=\"black\" d=\"M2027.71,-71.76C2022.95,-62.85 2018.02,-53.64 2013.65,-45.46\"/>\n<polygon fill=\"black\" stroke=\"black\" points=\"2016.61,-43.57 2008.81,-36.41 2010.44,-46.87 2016.61,-43.57\"/>\n</g>\n<!-- 294 -->\n<g id=\"node51\" class=\"node\">\n<title>294</title>\n<path fill=\"#c0c0c0\" stroke=\"black\" d=\"M2086.5,-36C2086.5,-36 2056.5,-36 2056.5,-36 2050.5,-36 2044.5,-30 2044.5,-24 2044.5,-24 2044.5,-12 2044.5,-12 2044.5,-6 2050.5,0 2056.5,0 2056.5,0 2086.5,0 2086.5,0 2092.5,0 2098.5,-6 2098.5,-12 2098.5,-12 2098.5,-24 2098.5,-24 2098.5,-30 2092.5,-36 2086.5,-36\"/>\n<text text-anchor=\"middle\" x=\"2071.5\" y=\"-14.3\" font-family=\"Helvetica,sans-Serif\" font-size=\"14.00\">(...)</text>\n</g>\n<!-- 282&#45;&gt;294 -->\n<g id=\"edge50\" class=\"edge\">\n<title>282&#45;&gt;294</title>\n<path fill=\"none\" stroke=\"black\" d=\"M2059.09,-71.76C2061.11,-63.14 2063.21,-54.24 2065.09,-46.26\"/>\n<polygon fill=\"black\" stroke=\"black\" points=\"2068.52,-46.94 2067.4,-36.41 2061.71,-45.34 2068.52,-46.94\"/>\n</g>\n<!-- 331 -->\n<g id=\"node54\" class=\"node\">\n<title>331</title>\n<path fill=\"#c8e4f8\" stroke=\"black\" d=\"M2893,-512C2893,-512 2770,-512 2770,-512 2764,-512 2758,-506 2758,-500 2758,-500 2758,-441 2758,-441 2758,-435 2764,-429 2770,-429 2770,-429 2893,-429 2893,-429 2899,-429 2905,-435 2905,-441 2905,-441 2905,-500 2905,-500 2905,-506 2899,-512 2893,-512\"/>\n<text text-anchor=\"middle\" x=\"2831.5\" y=\"-496.8\" font-family=\"Helvetica,sans-Serif\" font-size=\"14.00\">age &lt;= 77.5</text>\n<text text-anchor=\"middle\" x=\"2831.5\" y=\"-481.8\" font-family=\"Helvetica,sans-Serif\" font-size=\"14.00\">entropy = 0.981</text>\n<text text-anchor=\"middle\" x=\"2831.5\" y=\"-466.8\" font-family=\"Helvetica,sans-Serif\" font-size=\"14.00\">samples = 1465</text>\n<text text-anchor=\"middle\" x=\"2831.5\" y=\"-451.8\" font-family=\"Helvetica,sans-Serif\" font-size=\"14.00\">value = [614.0, 851.0]</text>\n<text text-anchor=\"middle\" x=\"2831.5\" y=\"-436.8\" font-family=\"Helvetica,sans-Serif\" font-size=\"14.00\">class = heart_yes</text>\n</g>\n<!-- 330&#45;&gt;331 -->\n<g id=\"edge53\" class=\"edge\">\n<title>330&#45;&gt;331</title>\n<path fill=\"none\" stroke=\"black\" d=\"M2831.5,-547.91C2831.5,-539.65 2831.5,-530.86 2831.5,-522.3\"/>\n<polygon fill=\"black\" stroke=\"black\" points=\"2835,-522.02 2831.5,-512.02 2828,-522.02 2835,-522.02\"/>\n</g>\n<!-- 568 -->\n<g id=\"node81\" class=\"node\">\n<title>568</title>\n<path fill=\"#59ade9\" stroke=\"black\" d=\"M3697.5,-512C3697.5,-512 3541.5,-512 3541.5,-512 3535.5,-512 3529.5,-506 3529.5,-500 3529.5,-500 3529.5,-441 3529.5,-441 3529.5,-435 3535.5,-429 3541.5,-429 3541.5,-429 3697.5,-429 3697.5,-429 3703.5,-429 3709.5,-435 3709.5,-441 3709.5,-441 3709.5,-500 3709.5,-500 3709.5,-506 3703.5,-512 3697.5,-512\"/>\n<text text-anchor=\"middle\" x=\"3619.5\" y=\"-496.8\" font-family=\"Helvetica,sans-Serif\" font-size=\"14.00\">blood_cholesterol &lt;= 3.605</text>\n<text text-anchor=\"middle\" x=\"3619.5\" y=\"-481.8\" font-family=\"Helvetica,sans-Serif\" font-size=\"14.00\">entropy = 0.582</text>\n<text text-anchor=\"middle\" x=\"3619.5\" y=\"-466.8\" font-family=\"Helvetica,sans-Serif\" font-size=\"14.00\">samples = 883</text>\n<text text-anchor=\"middle\" x=\"3619.5\" y=\"-451.8\" font-family=\"Helvetica,sans-Serif\" font-size=\"14.00\">value = [123.0, 760.0]</text>\n<text text-anchor=\"middle\" x=\"3619.5\" y=\"-436.8\" font-family=\"Helvetica,sans-Serif\" font-size=\"14.00\">class = heart_yes</text>\n</g>\n<!-- 330&#45;&gt;568 -->\n<g id=\"edge80\" class=\"edge\">\n<title>330&#45;&gt;568</title>\n<path fill=\"none\" stroke=\"black\" d=\"M2897.67,-578.68C3035.83,-558.16 3355.7,-510.67 3519.26,-486.38\"/>\n<polygon fill=\"black\" stroke=\"black\" points=\"3519.95,-489.82 3529.32,-484.89 3518.92,-482.9 3519.95,-489.82\"/>\n</g>\n<!-- 332 -->\n<g id=\"node55\" class=\"node\">\n<title>332</title>\n<path fill=\"#fefcfb\" stroke=\"black\" d=\"M2756,-393C2756,-393 2625,-393 2625,-393 2619,-393 2613,-387 2613,-381 2613,-381 2613,-322 2613,-322 2613,-316 2619,-310 2625,-310 2625,-310 2756,-310 2756,-310 2762,-310 2768,-316 2768,-322 2768,-322 2768,-381 2768,-381 2768,-387 2762,-393 2756,-393\"/>\n<text text-anchor=\"middle\" x=\"2690.5\" y=\"-377.8\" font-family=\"Helvetica,sans-Serif\" font-size=\"14.00\">family_income &lt;= 3.84</text>\n<text text-anchor=\"middle\" x=\"2690.5\" y=\"-362.8\" font-family=\"Helvetica,sans-Serif\" font-size=\"14.00\">entropy = 1.0</text>\n<text text-anchor=\"middle\" x=\"2690.5\" y=\"-347.8\" font-family=\"Helvetica,sans-Serif\" font-size=\"14.00\">samples = 936</text>\n<text text-anchor=\"middle\" x=\"2690.5\" y=\"-332.8\" font-family=\"Helvetica,sans-Serif\" font-size=\"14.00\">value = [473, 463]</text>\n<text text-anchor=\"middle\" x=\"2690.5\" y=\"-317.8\" font-family=\"Helvetica,sans-Serif\" font-size=\"14.00\">class = heart_no</text>\n</g>\n<!-- 331&#45;&gt;332 -->\n<g id=\"edge54\" class=\"edge\">\n<title>331&#45;&gt;332</title>\n<path fill=\"none\" stroke=\"black\" d=\"M2782.58,-428.91C2771.21,-419.47 2759,-409.34 2747.32,-399.65\"/>\n<polygon fill=\"black\" stroke=\"black\" points=\"2749.26,-396.71 2739.33,-393.02 2744.79,-402.1 2749.26,-396.71\"/>\n</g>\n<!-- 479 -->\n<g id=\"node70\" class=\"node\">\n<title>479</title>\n<path fill=\"#81c1ee\" stroke=\"black\" d=\"M3024.5,-393C3024.5,-393 2898.5,-393 2898.5,-393 2892.5,-393 2886.5,-387 2886.5,-381 2886.5,-381 2886.5,-322 2886.5,-322 2886.5,-316 2892.5,-310 2898.5,-310 2898.5,-310 3024.5,-310 3024.5,-310 3030.5,-310 3036.5,-316 3036.5,-322 3036.5,-322 3036.5,-381 3036.5,-381 3036.5,-387 3030.5,-393 3024.5,-393\"/>\n<text text-anchor=\"middle\" x=\"2961.5\" y=\"-377.8\" font-family=\"Helvetica,sans-Serif\" font-size=\"14.00\">gender_female &lt;= 0.5</text>\n<text text-anchor=\"middle\" x=\"2961.5\" y=\"-362.8\" font-family=\"Helvetica,sans-Serif\" font-size=\"14.00\">entropy = 0.836</text>\n<text text-anchor=\"middle\" x=\"2961.5\" y=\"-347.8\" font-family=\"Helvetica,sans-Serif\" font-size=\"14.00\">samples = 529</text>\n<text text-anchor=\"middle\" x=\"2961.5\" y=\"-332.8\" font-family=\"Helvetica,sans-Serif\" font-size=\"14.00\">value = [141, 388]</text>\n<text text-anchor=\"middle\" x=\"2961.5\" y=\"-317.8\" font-family=\"Helvetica,sans-Serif\" font-size=\"14.00\">class = heart_yes</text>\n</g>\n<!-- 331&#45;&gt;479 -->\n<g id=\"edge69\" class=\"edge\">\n<title>331&#45;&gt;479</title>\n<path fill=\"none\" stroke=\"black\" d=\"M2876.6,-428.91C2886.99,-419.56 2898.12,-409.54 2908.8,-399.93\"/>\n<polygon fill=\"black\" stroke=\"black\" points=\"2911.39,-402.31 2916.48,-393.02 2906.7,-397.11 2911.39,-402.31\"/>\n</g>\n<!-- 333 -->\n<g id=\"node56\" class=\"node\">\n<title>333</title>\n<path fill=\"#dbedfa\" stroke=\"black\" d=\"M2541,-274C2541,-274 2418,-274 2418,-274 2412,-274 2406,-268 2406,-262 2406,-262 2406,-203 2406,-203 2406,-197 2412,-191 2418,-191 2418,-191 2541,-191 2541,-191 2547,-191 2553,-197 2553,-203 2553,-203 2553,-262 2553,-262 2553,-268 2547,-274 2541,-274\"/>\n<text text-anchor=\"middle\" x=\"2479.5\" y=\"-258.8\" font-family=\"Helvetica,sans-Serif\" font-size=\"14.00\">BMI &lt;= 16.05</text>\n<text text-anchor=\"middle\" x=\"2479.5\" y=\"-243.8\" font-family=\"Helvetica,sans-Serif\" font-size=\"14.00\">entropy = 0.993</text>\n<text text-anchor=\"middle\" x=\"2479.5\" y=\"-228.8\" font-family=\"Helvetica,sans-Serif\" font-size=\"14.00\">samples = 737</text>\n<text text-anchor=\"middle\" x=\"2479.5\" y=\"-213.8\" font-family=\"Helvetica,sans-Serif\" font-size=\"14.00\">value = [332.0, 405.0]</text>\n<text text-anchor=\"middle\" x=\"2479.5\" y=\"-198.8\" font-family=\"Helvetica,sans-Serif\" font-size=\"14.00\">class = heart_yes</text>\n</g>\n<!-- 332&#45;&gt;333 -->\n<g id=\"edge55\" class=\"edge\">\n<title>332&#45;&gt;333</title>\n<path fill=\"none\" stroke=\"black\" d=\"M2617.29,-309.91C2599.29,-299.92 2579.9,-289.17 2561.51,-278.98\"/>\n<polygon fill=\"black\" stroke=\"black\" points=\"2563.02,-275.81 2552.58,-274.02 2559.62,-281.93 2563.02,-275.81\"/>\n</g>\n<!-- 454 -->\n<g id=\"node63\" class=\"node\">\n<title>454</title>\n<path fill=\"#f0b58a\" stroke=\"black\" d=\"M2737,-274C2737,-274 2644,-274 2644,-274 2638,-274 2632,-268 2632,-262 2632,-262 2632,-203 2632,-203 2632,-197 2638,-191 2644,-191 2644,-191 2737,-191 2737,-191 2743,-191 2749,-197 2749,-203 2749,-203 2749,-262 2749,-262 2749,-268 2743,-274 2737,-274\"/>\n<text text-anchor=\"middle\" x=\"2690.5\" y=\"-258.8\" font-family=\"Helvetica,sans-Serif\" font-size=\"14.00\">BMI &lt;= 23.25</text>\n<text text-anchor=\"middle\" x=\"2690.5\" y=\"-243.8\" font-family=\"Helvetica,sans-Serif\" font-size=\"14.00\">entropy = 0.871</text>\n<text text-anchor=\"middle\" x=\"2690.5\" y=\"-228.8\" font-family=\"Helvetica,sans-Serif\" font-size=\"14.00\">samples = 199</text>\n<text text-anchor=\"middle\" x=\"2690.5\" y=\"-213.8\" font-family=\"Helvetica,sans-Serif\" font-size=\"14.00\">value = [141, 58]</text>\n<text text-anchor=\"middle\" x=\"2690.5\" y=\"-198.8\" font-family=\"Helvetica,sans-Serif\" font-size=\"14.00\">class = heart_no</text>\n</g>\n<!-- 332&#45;&gt;454 -->\n<g id=\"edge62\" class=\"edge\">\n<title>332&#45;&gt;454</title>\n<path fill=\"none\" stroke=\"black\" d=\"M2690.5,-309.91C2690.5,-301.65 2690.5,-292.86 2690.5,-284.3\"/>\n<polygon fill=\"black\" stroke=\"black\" points=\"2694,-284.02 2690.5,-274.02 2687,-284.02 2694,-284.02\"/>\n</g>\n<!-- 334 -->\n<g id=\"node57\" class=\"node\">\n<title>334</title>\n<path fill=\"#67b4eb\" stroke=\"black\" d=\"M2380.5,-155C2380.5,-155 2282.5,-155 2282.5,-155 2276.5,-155 2270.5,-149 2270.5,-143 2270.5,-143 2270.5,-84 2270.5,-84 2270.5,-78 2276.5,-72 2282.5,-72 2282.5,-72 2380.5,-72 2380.5,-72 2386.5,-72 2392.5,-78 2392.5,-84 2392.5,-84 2392.5,-143 2392.5,-143 2392.5,-149 2386.5,-155 2380.5,-155\"/>\n<text text-anchor=\"middle\" x=\"2331.5\" y=\"-139.8\" font-family=\"Helvetica,sans-Serif\" font-size=\"14.00\">BMI &lt;= 13.85</text>\n<text text-anchor=\"middle\" x=\"2331.5\" y=\"-124.8\" font-family=\"Helvetica,sans-Serif\" font-size=\"14.00\">entropy = 0.701</text>\n<text text-anchor=\"middle\" x=\"2331.5\" y=\"-109.8\" font-family=\"Helvetica,sans-Serif\" font-size=\"14.00\">samples = 100</text>\n<text text-anchor=\"middle\" x=\"2331.5\" y=\"-94.8\" font-family=\"Helvetica,sans-Serif\" font-size=\"14.00\">value = [19, 81]</text>\n<text text-anchor=\"middle\" x=\"2331.5\" y=\"-79.8\" font-family=\"Helvetica,sans-Serif\" font-size=\"14.00\">class = heart_yes</text>\n</g>\n<!-- 333&#45;&gt;334 -->\n<g id=\"edge56\" class=\"edge\">\n<title>333&#45;&gt;334</title>\n<path fill=\"none\" stroke=\"black\" d=\"M2428.15,-190.91C2416.1,-181.38 2403.16,-171.15 2390.79,-161.37\"/>\n<polygon fill=\"black\" stroke=\"black\" points=\"2392.77,-158.48 2382.76,-155.02 2388.43,-163.97 2392.77,-158.48\"/>\n</g>\n<!-- 353 -->\n<g id=\"node60\" class=\"node\">\n<title>353</title>\n<path fill=\"#f8fcfe\" stroke=\"black\" d=\"M2536.5,-155C2536.5,-155 2422.5,-155 2422.5,-155 2416.5,-155 2410.5,-149 2410.5,-143 2410.5,-143 2410.5,-84 2410.5,-84 2410.5,-78 2416.5,-72 2422.5,-72 2422.5,-72 2536.5,-72 2536.5,-72 2542.5,-72 2548.5,-78 2548.5,-84 2548.5,-84 2548.5,-143 2548.5,-143 2548.5,-149 2542.5,-155 2536.5,-155\"/>\n<text text-anchor=\"middle\" x=\"2479.5\" y=\"-139.8\" font-family=\"Helvetica,sans-Serif\" font-size=\"14.00\">diastolic_bp &lt;= 83.0</text>\n<text text-anchor=\"middle\" x=\"2479.5\" y=\"-124.8\" font-family=\"Helvetica,sans-Serif\" font-size=\"14.00\">entropy = 1.0</text>\n<text text-anchor=\"middle\" x=\"2479.5\" y=\"-109.8\" font-family=\"Helvetica,sans-Serif\" font-size=\"14.00\">samples = 637</text>\n<text text-anchor=\"middle\" x=\"2479.5\" y=\"-94.8\" font-family=\"Helvetica,sans-Serif\" font-size=\"14.00\">value = [313, 324]</text>\n<text text-anchor=\"middle\" x=\"2479.5\" y=\"-79.8\" font-family=\"Helvetica,sans-Serif\" font-size=\"14.00\">class = heart_yes</text>\n</g>\n<!-- 333&#45;&gt;353 -->\n<g id=\"edge59\" class=\"edge\">\n<title>333&#45;&gt;353</title>\n<path fill=\"none\" stroke=\"black\" d=\"M2479.5,-190.91C2479.5,-182.65 2479.5,-173.86 2479.5,-165.3\"/>\n<polygon fill=\"black\" stroke=\"black\" points=\"2483,-165.02 2479.5,-155.02 2476,-165.02 2483,-165.02\"/>\n</g>\n<!-- 335 -->\n<g id=\"node58\" class=\"node\">\n<title>335</title>\n<path fill=\"#c0c0c0\" stroke=\"black\" d=\"M2279.5,-36C2279.5,-36 2249.5,-36 2249.5,-36 2243.5,-36 2237.5,-30 2237.5,-24 2237.5,-24 2237.5,-12 2237.5,-12 2237.5,-6 2243.5,0 2249.5,0 2249.5,0 2279.5,0 2279.5,0 2285.5,0 2291.5,-6 2291.5,-12 2291.5,-12 2291.5,-24 2291.5,-24 2291.5,-30 2285.5,-36 2279.5,-36\"/>\n<text text-anchor=\"middle\" x=\"2264.5\" y=\"-14.3\" font-family=\"Helvetica,sans-Serif\" font-size=\"14.00\">(...)</text>\n</g>\n<!-- 334&#45;&gt;335 -->\n<g id=\"edge57\" class=\"edge\">\n<title>334&#45;&gt;335</title>\n<path fill=\"none\" stroke=\"black\" d=\"M2302.31,-71.76C2295.71,-62.56 2288.89,-53.04 2282.89,-44.66\"/>\n<polygon fill=\"black\" stroke=\"black\" points=\"2285.64,-42.49 2276.97,-36.41 2279.95,-46.57 2285.64,-42.49\"/>\n</g>\n<!-- 336 -->\n<g id=\"node59\" class=\"node\">\n<title>336</title>\n<path fill=\"#c0c0c0\" stroke=\"black\" d=\"M2351.5,-36C2351.5,-36 2321.5,-36 2321.5,-36 2315.5,-36 2309.5,-30 2309.5,-24 2309.5,-24 2309.5,-12 2309.5,-12 2309.5,-6 2315.5,0 2321.5,0 2321.5,0 2351.5,0 2351.5,0 2357.5,0 2363.5,-6 2363.5,-12 2363.5,-12 2363.5,-24 2363.5,-24 2363.5,-30 2357.5,-36 2351.5,-36\"/>\n<text text-anchor=\"middle\" x=\"2336.5\" y=\"-14.3\" font-family=\"Helvetica,sans-Serif\" font-size=\"14.00\">(...)</text>\n</g>\n<!-- 334&#45;&gt;336 -->\n<g id=\"edge58\" class=\"edge\">\n<title>334&#45;&gt;336</title>\n<path fill=\"none\" stroke=\"black\" d=\"M2333.68,-71.76C2334.13,-63.24 2334.6,-54.44 2335.03,-46.53\"/>\n<polygon fill=\"black\" stroke=\"black\" points=\"2338.53,-46.58 2335.57,-36.41 2331.54,-46.2 2338.53,-46.58\"/>\n</g>\n<!-- 354 -->\n<g id=\"node61\" class=\"node\">\n<title>354</title>\n<path fill=\"#c0c0c0\" stroke=\"black\" d=\"M2461.5,-36C2461.5,-36 2431.5,-36 2431.5,-36 2425.5,-36 2419.5,-30 2419.5,-24 2419.5,-24 2419.5,-12 2419.5,-12 2419.5,-6 2425.5,0 2431.5,0 2431.5,0 2461.5,0 2461.5,0 2467.5,0 2473.5,-6 2473.5,-12 2473.5,-12 2473.5,-24 2473.5,-24 2473.5,-30 2467.5,-36 2461.5,-36\"/>\n<text text-anchor=\"middle\" x=\"2446.5\" y=\"-14.3\" font-family=\"Helvetica,sans-Serif\" font-size=\"14.00\">(...)</text>\n</g>\n<!-- 353&#45;&gt;354 -->\n<g id=\"edge60\" class=\"edge\">\n<title>353&#45;&gt;354</title>\n<path fill=\"none\" stroke=\"black\" d=\"M2465.12,-71.76C2462.04,-63.04 2458.87,-54.04 2456.03,-45.99\"/>\n<polygon fill=\"black\" stroke=\"black\" points=\"2459.27,-44.67 2452.64,-36.41 2452.67,-47 2459.27,-44.67\"/>\n</g>\n<!-- 453 -->\n<g id=\"node62\" class=\"node\">\n<title>453</title>\n<path fill=\"#c0c0c0\" stroke=\"black\" d=\"M2533.5,-36C2533.5,-36 2503.5,-36 2503.5,-36 2497.5,-36 2491.5,-30 2491.5,-24 2491.5,-24 2491.5,-12 2491.5,-12 2491.5,-6 2497.5,0 2503.5,0 2503.5,0 2533.5,0 2533.5,0 2539.5,0 2545.5,-6 2545.5,-12 2545.5,-12 2545.5,-24 2545.5,-24 2545.5,-30 2539.5,-36 2533.5,-36\"/>\n<text text-anchor=\"middle\" x=\"2518.5\" y=\"-14.3\" font-family=\"Helvetica,sans-Serif\" font-size=\"14.00\">(...)</text>\n</g>\n<!-- 353&#45;&gt;453 -->\n<g id=\"edge61\" class=\"edge\">\n<title>353&#45;&gt;453</title>\n<path fill=\"none\" stroke=\"black\" d=\"M2496.49,-71.76C2500.17,-62.94 2503.97,-53.84 2507.35,-45.72\"/>\n<polygon fill=\"black\" stroke=\"black\" points=\"2510.62,-46.98 2511.24,-36.41 2504.16,-44.29 2510.62,-46.98\"/>\n</g>\n<!-- 455 -->\n<g id=\"node64\" class=\"node\">\n<title>455</title>\n<path fill=\"#fae7d9\" stroke=\"black\" d=\"M2692.5,-155C2692.5,-155 2578.5,-155 2578.5,-155 2572.5,-155 2566.5,-149 2566.5,-143 2566.5,-143 2566.5,-84 2566.5,-84 2566.5,-78 2572.5,-72 2578.5,-72 2578.5,-72 2692.5,-72 2692.5,-72 2698.5,-72 2704.5,-78 2704.5,-84 2704.5,-84 2704.5,-143 2704.5,-143 2704.5,-149 2698.5,-155 2692.5,-155\"/>\n<text text-anchor=\"middle\" x=\"2635.5\" y=\"-139.8\" font-family=\"Helvetica,sans-Serif\" font-size=\"14.00\">diastolic_bp &lt;= 57.0</text>\n<text text-anchor=\"middle\" x=\"2635.5\" y=\"-124.8\" font-family=\"Helvetica,sans-Serif\" font-size=\"14.00\">entropy = 0.992</text>\n<text text-anchor=\"middle\" x=\"2635.5\" y=\"-109.8\" font-family=\"Helvetica,sans-Serif\" font-size=\"14.00\">samples = 114</text>\n<text text-anchor=\"middle\" x=\"2635.5\" y=\"-94.8\" font-family=\"Helvetica,sans-Serif\" font-size=\"14.00\">value = [63.0, 51.0]</text>\n<text text-anchor=\"middle\" x=\"2635.5\" y=\"-79.8\" font-family=\"Helvetica,sans-Serif\" font-size=\"14.00\">class = heart_no</text>\n</g>\n<!-- 454&#45;&gt;455 -->\n<g id=\"edge63\" class=\"edge\">\n<title>454&#45;&gt;455</title>\n<path fill=\"none\" stroke=\"black\" d=\"M2671.42,-190.91C2667.37,-182.29 2663.04,-173.09 2658.85,-164.17\"/>\n<polygon fill=\"black\" stroke=\"black\" points=\"2661.97,-162.58 2654.55,-155.02 2655.64,-165.56 2661.97,-162.58\"/>\n</g>\n<!-- 470 -->\n<g id=\"node67\" class=\"node\">\n<title>470</title>\n<path fill=\"#e78c4b\" stroke=\"black\" d=\"M2826.5,-155C2826.5,-155 2734.5,-155 2734.5,-155 2728.5,-155 2722.5,-149 2722.5,-143 2722.5,-143 2722.5,-84 2722.5,-84 2722.5,-78 2728.5,-72 2734.5,-72 2734.5,-72 2826.5,-72 2826.5,-72 2832.5,-72 2838.5,-78 2838.5,-84 2838.5,-84 2838.5,-143 2838.5,-143 2838.5,-149 2832.5,-155 2826.5,-155\"/>\n<text text-anchor=\"middle\" x=\"2780.5\" y=\"-139.8\" font-family=\"Helvetica,sans-Serif\" font-size=\"14.00\">age &lt;= 73.5</text>\n<text text-anchor=\"middle\" x=\"2780.5\" y=\"-124.8\" font-family=\"Helvetica,sans-Serif\" font-size=\"14.00\">entropy = 0.41</text>\n<text text-anchor=\"middle\" x=\"2780.5\" y=\"-109.8\" font-family=\"Helvetica,sans-Serif\" font-size=\"14.00\">samples = 85</text>\n<text text-anchor=\"middle\" x=\"2780.5\" y=\"-94.8\" font-family=\"Helvetica,sans-Serif\" font-size=\"14.00\">value = [78, 7]</text>\n<text text-anchor=\"middle\" x=\"2780.5\" y=\"-79.8\" font-family=\"Helvetica,sans-Serif\" font-size=\"14.00\">class = heart_no</text>\n</g>\n<!-- 454&#45;&gt;470 -->\n<g id=\"edge66\" class=\"edge\">\n<title>454&#45;&gt;470</title>\n<path fill=\"none\" stroke=\"black\" d=\"M2721.73,-190.91C2728.64,-181.92 2736.03,-172.32 2743.15,-163.05\"/>\n<polygon fill=\"black\" stroke=\"black\" points=\"2746.01,-165.08 2749.33,-155.02 2740.46,-160.81 2746.01,-165.08\"/>\n</g>\n<!-- 456 -->\n<g id=\"node65\" class=\"node\">\n<title>456</title>\n<path fill=\"#c0c0c0\" stroke=\"black\" d=\"M2611.5,-36C2611.5,-36 2581.5,-36 2581.5,-36 2575.5,-36 2569.5,-30 2569.5,-24 2569.5,-24 2569.5,-12 2569.5,-12 2569.5,-6 2575.5,0 2581.5,0 2581.5,0 2611.5,0 2611.5,0 2617.5,0 2623.5,-6 2623.5,-12 2623.5,-12 2623.5,-24 2623.5,-24 2623.5,-30 2617.5,-36 2611.5,-36\"/>\n<text text-anchor=\"middle\" x=\"2596.5\" y=\"-14.3\" font-family=\"Helvetica,sans-Serif\" font-size=\"14.00\">(...)</text>\n</g>\n<!-- 455&#45;&gt;456 -->\n<g id=\"edge64\" class=\"edge\">\n<title>455&#45;&gt;456</title>\n<path fill=\"none\" stroke=\"black\" d=\"M2618.51,-71.76C2614.83,-62.94 2611.03,-53.84 2607.65,-45.72\"/>\n<polygon fill=\"black\" stroke=\"black\" points=\"2610.84,-44.29 2603.76,-36.41 2604.38,-46.98 2610.84,-44.29\"/>\n</g>\n<!-- 459 -->\n<g id=\"node66\" class=\"node\">\n<title>459</title>\n<path fill=\"#c0c0c0\" stroke=\"black\" d=\"M2683.5,-36C2683.5,-36 2653.5,-36 2653.5,-36 2647.5,-36 2641.5,-30 2641.5,-24 2641.5,-24 2641.5,-12 2641.5,-12 2641.5,-6 2647.5,0 2653.5,0 2653.5,0 2683.5,0 2683.5,0 2689.5,0 2695.5,-6 2695.5,-12 2695.5,-12 2695.5,-24 2695.5,-24 2695.5,-30 2689.5,-36 2683.5,-36\"/>\n<text text-anchor=\"middle\" x=\"2668.5\" y=\"-14.3\" font-family=\"Helvetica,sans-Serif\" font-size=\"14.00\">(...)</text>\n</g>\n<!-- 455&#45;&gt;459 -->\n<g id=\"edge65\" class=\"edge\">\n<title>455&#45;&gt;459</title>\n<path fill=\"none\" stroke=\"black\" d=\"M2649.88,-71.76C2652.96,-63.04 2656.13,-54.04 2658.97,-45.99\"/>\n<polygon fill=\"black\" stroke=\"black\" points=\"2662.33,-47 2662.36,-36.41 2655.73,-44.67 2662.33,-47\"/>\n</g>\n<!-- 471 -->\n<g id=\"node68\" class=\"node\">\n<title>471</title>\n<path fill=\"#c0c0c0\" stroke=\"black\" d=\"M2755.5,-36C2755.5,-36 2725.5,-36 2725.5,-36 2719.5,-36 2713.5,-30 2713.5,-24 2713.5,-24 2713.5,-12 2713.5,-12 2713.5,-6 2719.5,0 2725.5,0 2725.5,0 2755.5,0 2755.5,0 2761.5,0 2767.5,-6 2767.5,-12 2767.5,-12 2767.5,-24 2767.5,-24 2767.5,-30 2761.5,-36 2755.5,-36\"/>\n<text text-anchor=\"middle\" x=\"2740.5\" y=\"-14.3\" font-family=\"Helvetica,sans-Serif\" font-size=\"14.00\">(...)</text>\n</g>\n<!-- 470&#45;&gt;471 -->\n<g id=\"edge67\" class=\"edge\">\n<title>470&#45;&gt;471</title>\n<path fill=\"none\" stroke=\"black\" d=\"M2763.07,-71.76C2759.3,-62.94 2755.4,-53.84 2751.93,-45.72\"/>\n<polygon fill=\"black\" stroke=\"black\" points=\"2755.1,-44.22 2747.95,-36.41 2748.66,-46.98 2755.1,-44.22\"/>\n</g>\n<!-- 472 -->\n<g id=\"node69\" class=\"node\">\n<title>472</title>\n<path fill=\"#c0c0c0\" stroke=\"black\" d=\"M2827.5,-36C2827.5,-36 2797.5,-36 2797.5,-36 2791.5,-36 2785.5,-30 2785.5,-24 2785.5,-24 2785.5,-12 2785.5,-12 2785.5,-6 2791.5,0 2797.5,0 2797.5,0 2827.5,0 2827.5,0 2833.5,0 2839.5,-6 2839.5,-12 2839.5,-12 2839.5,-24 2839.5,-24 2839.5,-30 2833.5,-36 2827.5,-36\"/>\n<text text-anchor=\"middle\" x=\"2812.5\" y=\"-14.3\" font-family=\"Helvetica,sans-Serif\" font-size=\"14.00\">(...)</text>\n</g>\n<!-- 470&#45;&gt;472 -->\n<g id=\"edge68\" class=\"edge\">\n<title>470&#45;&gt;472</title>\n<path fill=\"none\" stroke=\"black\" d=\"M2794.44,-71.76C2797.43,-63.04 2800.51,-54.04 2803.26,-45.99\"/>\n<polygon fill=\"black\" stroke=\"black\" points=\"2806.62,-47 2806.54,-36.41 2799.99,-44.73 2806.62,-47\"/>\n</g>\n<!-- 480 -->\n<g id=\"node71\" class=\"node\">\n<title>480</title>\n<path fill=\"#69b5eb\" stroke=\"black\" d=\"M3039.5,-274C3039.5,-274 2883.5,-274 2883.5,-274 2877.5,-274 2871.5,-268 2871.5,-262 2871.5,-262 2871.5,-203 2871.5,-203 2871.5,-197 2877.5,-191 2883.5,-191 2883.5,-191 3039.5,-191 3039.5,-191 3045.5,-191 3051.5,-197 3051.5,-203 3051.5,-203 3051.5,-262 3051.5,-262 3051.5,-268 3045.5,-274 3039.5,-274\"/>\n<text text-anchor=\"middle\" x=\"2961.5\" y=\"-258.8\" font-family=\"Helvetica,sans-Serif\" font-size=\"14.00\">blood_cholesterol &lt;= 3.375</text>\n<text text-anchor=\"middle\" x=\"2961.5\" y=\"-243.8\" font-family=\"Helvetica,sans-Serif\" font-size=\"14.00\">entropy = 0.71</text>\n<text text-anchor=\"middle\" x=\"2961.5\" y=\"-228.8\" font-family=\"Helvetica,sans-Serif\" font-size=\"14.00\">samples = 299</text>\n<text text-anchor=\"middle\" x=\"2961.5\" y=\"-213.8\" font-family=\"Helvetica,sans-Serif\" font-size=\"14.00\">value = [58, 241]</text>\n<text text-anchor=\"middle\" x=\"2961.5\" y=\"-198.8\" font-family=\"Helvetica,sans-Serif\" font-size=\"14.00\">class = heart_yes</text>\n</g>\n<!-- 479&#45;&gt;480 -->\n<g id=\"edge70\" class=\"edge\">\n<title>479&#45;&gt;480</title>\n<path fill=\"none\" stroke=\"black\" d=\"M2961.5,-309.91C2961.5,-301.65 2961.5,-292.86 2961.5,-284.3\"/>\n<polygon fill=\"black\" stroke=\"black\" points=\"2965,-284.02 2961.5,-274.02 2958,-284.02 2965,-284.02\"/>\n</g>\n<!-- 527 -->\n<g id=\"node76\" class=\"node\">\n<title>527</title>\n<path fill=\"#a9d4f4\" stroke=\"black\" d=\"M3298,-274C3298,-274 3127,-274 3127,-274 3121,-274 3115,-268 3115,-262 3115,-262 3115,-203 3115,-203 3115,-197 3121,-191 3127,-191 3127,-191 3298,-191 3298,-191 3304,-191 3310,-197 3310,-203 3310,-203 3310,-262 3310,-262 3310,-268 3304,-274 3298,-274\"/>\n<text text-anchor=\"middle\" x=\"3212.5\" y=\"-258.8\" font-family=\"Helvetica,sans-Serif\" font-size=\"14.00\">blood_pressure_sys &lt;= 101.0</text>\n<text text-anchor=\"middle\" x=\"3212.5\" y=\"-243.8\" font-family=\"Helvetica,sans-Serif\" font-size=\"14.00\">entropy = 0.943</text>\n<text text-anchor=\"middle\" x=\"3212.5\" y=\"-228.8\" font-family=\"Helvetica,sans-Serif\" font-size=\"14.00\">samples = 230</text>\n<text text-anchor=\"middle\" x=\"3212.5\" y=\"-213.8\" font-family=\"Helvetica,sans-Serif\" font-size=\"14.00\">value = [83, 147]</text>\n<text text-anchor=\"middle\" x=\"3212.5\" y=\"-198.8\" font-family=\"Helvetica,sans-Serif\" font-size=\"14.00\">class = heart_yes</text>\n</g>\n<!-- 479&#45;&gt;527 -->\n<g id=\"edge75\" class=\"edge\">\n<title>479&#45;&gt;527</title>\n<path fill=\"none\" stroke=\"black\" d=\"M3036.81,-315.4C3061.74,-303.78 3089.83,-290.68 3116.12,-278.43\"/>\n<polygon fill=\"black\" stroke=\"black\" points=\"3117.75,-281.53 3125.34,-274.13 3114.79,-275.18 3117.75,-281.53\"/>\n</g>\n<!-- 481 -->\n<g id=\"node72\" class=\"node\">\n<title>481</title>\n<path fill=\"#399de5\" stroke=\"black\" d=\"M2966.5,-147.5C2966.5,-147.5 2868.5,-147.5 2868.5,-147.5 2862.5,-147.5 2856.5,-141.5 2856.5,-135.5 2856.5,-135.5 2856.5,-91.5 2856.5,-91.5 2856.5,-85.5 2862.5,-79.5 2868.5,-79.5 2868.5,-79.5 2966.5,-79.5 2966.5,-79.5 2972.5,-79.5 2978.5,-85.5 2978.5,-91.5 2978.5,-91.5 2978.5,-135.5 2978.5,-135.5 2978.5,-141.5 2972.5,-147.5 2966.5,-147.5\"/>\n<text text-anchor=\"middle\" x=\"2917.5\" y=\"-132.3\" font-family=\"Helvetica,sans-Serif\" font-size=\"14.00\">entropy = 0.0</text>\n<text text-anchor=\"middle\" x=\"2917.5\" y=\"-117.3\" font-family=\"Helvetica,sans-Serif\" font-size=\"14.00\">samples = 46</text>\n<text text-anchor=\"middle\" x=\"2917.5\" y=\"-102.3\" font-family=\"Helvetica,sans-Serif\" font-size=\"14.00\">value = [0, 46]</text>\n<text text-anchor=\"middle\" x=\"2917.5\" y=\"-87.3\" font-family=\"Helvetica,sans-Serif\" font-size=\"14.00\">class = heart_yes</text>\n</g>\n<!-- 480&#45;&gt;481 -->\n<g id=\"edge71\" class=\"edge\">\n<title>480&#45;&gt;481</title>\n<path fill=\"none\" stroke=\"black\" d=\"M2946.23,-190.91C2942.13,-179.98 2937.67,-168.14 2933.52,-157.11\"/>\n<polygon fill=\"black\" stroke=\"black\" points=\"2936.77,-155.79 2929.97,-147.67 2930.22,-158.26 2936.77,-155.79\"/>\n</g>\n<!-- 482 -->\n<g id=\"node73\" class=\"node\">\n<title>482</title>\n<path fill=\"#74baed\" stroke=\"black\" d=\"M3124,-155C3124,-155 3009,-155 3009,-155 3003,-155 2997,-149 2997,-143 2997,-143 2997,-84 2997,-84 2997,-78 3003,-72 3009,-72 3009,-72 3124,-72 3124,-72 3130,-72 3136,-78 3136,-84 3136,-84 3136,-143 3136,-143 3136,-149 3130,-155 3124,-155\"/>\n<text text-anchor=\"middle\" x=\"3066.5\" y=\"-139.8\" font-family=\"Helvetica,sans-Serif\" font-size=\"14.00\">drink_alcohol &lt;= 0.5</text>\n<text text-anchor=\"middle\" x=\"3066.5\" y=\"-124.8\" font-family=\"Helvetica,sans-Serif\" font-size=\"14.00\">entropy = 0.777</text>\n<text text-anchor=\"middle\" x=\"3066.5\" y=\"-109.8\" font-family=\"Helvetica,sans-Serif\" font-size=\"14.00\">samples = 253</text>\n<text text-anchor=\"middle\" x=\"3066.5\" y=\"-94.8\" font-family=\"Helvetica,sans-Serif\" font-size=\"14.00\">value = [58, 195]</text>\n<text text-anchor=\"middle\" x=\"3066.5\" y=\"-79.8\" font-family=\"Helvetica,sans-Serif\" font-size=\"14.00\">class = heart_yes</text>\n</g>\n<!-- 480&#45;&gt;482 -->\n<g id=\"edge72\" class=\"edge\">\n<title>480&#45;&gt;482</title>\n<path fill=\"none\" stroke=\"black\" d=\"M2997.93,-190.91C3006.15,-181.74 3014.96,-171.93 3023.43,-162.49\"/>\n<polygon fill=\"black\" stroke=\"black\" points=\"3026.06,-164.8 3030.14,-155.02 3020.85,-160.13 3026.06,-164.8\"/>\n</g>\n<!-- 483 -->\n<g id=\"node74\" class=\"node\">\n<title>483</title>\n<path fill=\"#c0c0c0\" stroke=\"black\" d=\"M3045.5,-36C3045.5,-36 3015.5,-36 3015.5,-36 3009.5,-36 3003.5,-30 3003.5,-24 3003.5,-24 3003.5,-12 3003.5,-12 3003.5,-6 3009.5,0 3015.5,0 3015.5,0 3045.5,0 3045.5,0 3051.5,0 3057.5,-6 3057.5,-12 3057.5,-12 3057.5,-24 3057.5,-24 3057.5,-30 3051.5,-36 3045.5,-36\"/>\n<text text-anchor=\"middle\" x=\"3030.5\" y=\"-14.3\" font-family=\"Helvetica,sans-Serif\" font-size=\"14.00\">(...)</text>\n</g>\n<!-- 482&#45;&gt;483 -->\n<g id=\"edge73\" class=\"edge\">\n<title>482&#45;&gt;483</title>\n<path fill=\"none\" stroke=\"black\" d=\"M3050.81,-71.76C3047.46,-63.04 3043.99,-54.04 3040.89,-45.99\"/>\n<polygon fill=\"black\" stroke=\"black\" points=\"3044.06,-44.48 3037.2,-36.41 3037.53,-46.99 3044.06,-44.48\"/>\n</g>\n<!-- 492 -->\n<g id=\"node75\" class=\"node\">\n<title>492</title>\n<path fill=\"#c0c0c0\" stroke=\"black\" d=\"M3117.5,-36C3117.5,-36 3087.5,-36 3087.5,-36 3081.5,-36 3075.5,-30 3075.5,-24 3075.5,-24 3075.5,-12 3075.5,-12 3075.5,-6 3081.5,0 3087.5,0 3087.5,0 3117.5,0 3117.5,0 3123.5,0 3129.5,-6 3129.5,-12 3129.5,-12 3129.5,-24 3129.5,-24 3129.5,-30 3123.5,-36 3117.5,-36\"/>\n<text text-anchor=\"middle\" x=\"3102.5\" y=\"-14.3\" font-family=\"Helvetica,sans-Serif\" font-size=\"14.00\">(...)</text>\n</g>\n<!-- 482&#45;&gt;492 -->\n<g id=\"edge74\" class=\"edge\">\n<title>482&#45;&gt;492</title>\n<path fill=\"none\" stroke=\"black\" d=\"M3082.19,-71.76C3085.54,-63.04 3089.01,-54.04 3092.11,-45.99\"/>\n<polygon fill=\"black\" stroke=\"black\" points=\"3095.47,-46.99 3095.8,-36.41 3088.94,-44.48 3095.47,-46.99\"/>\n</g>\n<!-- 528 -->\n<g id=\"node77\" class=\"node\">\n<title>528</title>\n<path fill=\"#e58139\" stroke=\"black\" d=\"M3258.5,-147.5C3258.5,-147.5 3166.5,-147.5 3166.5,-147.5 3160.5,-147.5 3154.5,-141.5 3154.5,-135.5 3154.5,-135.5 3154.5,-91.5 3154.5,-91.5 3154.5,-85.5 3160.5,-79.5 3166.5,-79.5 3166.5,-79.5 3258.5,-79.5 3258.5,-79.5 3264.5,-79.5 3270.5,-85.5 3270.5,-91.5 3270.5,-91.5 3270.5,-135.5 3270.5,-135.5 3270.5,-141.5 3264.5,-147.5 3258.5,-147.5\"/>\n<text text-anchor=\"middle\" x=\"3212.5\" y=\"-132.3\" font-family=\"Helvetica,sans-Serif\" font-size=\"14.00\">entropy = 0.0</text>\n<text text-anchor=\"middle\" x=\"3212.5\" y=\"-117.3\" font-family=\"Helvetica,sans-Serif\" font-size=\"14.00\">samples = 9</text>\n<text text-anchor=\"middle\" x=\"3212.5\" y=\"-102.3\" font-family=\"Helvetica,sans-Serif\" font-size=\"14.00\">value = [9, 0]</text>\n<text text-anchor=\"middle\" x=\"3212.5\" y=\"-87.3\" font-family=\"Helvetica,sans-Serif\" font-size=\"14.00\">class = heart_no</text>\n</g>\n<!-- 527&#45;&gt;528 -->\n<g id=\"edge76\" class=\"edge\">\n<title>527&#45;&gt;528</title>\n<path fill=\"none\" stroke=\"black\" d=\"M3212.5,-190.91C3212.5,-180.2 3212.5,-168.62 3212.5,-157.78\"/>\n<polygon fill=\"black\" stroke=\"black\" points=\"3216,-157.67 3212.5,-147.67 3209,-157.67 3216,-157.67\"/>\n</g>\n<!-- 529 -->\n<g id=\"node78\" class=\"node\">\n<title>529</title>\n<path fill=\"#9dcef2\" stroke=\"black\" d=\"M3404.5,-155C3404.5,-155 3300.5,-155 3300.5,-155 3294.5,-155 3288.5,-149 3288.5,-143 3288.5,-143 3288.5,-84 3288.5,-84 3288.5,-78 3294.5,-72 3300.5,-72 3300.5,-72 3404.5,-72 3404.5,-72 3410.5,-72 3416.5,-78 3416.5,-84 3416.5,-84 3416.5,-143 3416.5,-143 3416.5,-149 3410.5,-155 3404.5,-155\"/>\n<text text-anchor=\"middle\" x=\"3352.5\" y=\"-139.8\" font-family=\"Helvetica,sans-Serif\" font-size=\"14.00\">calories &lt;= 2746.0</text>\n<text text-anchor=\"middle\" x=\"3352.5\" y=\"-124.8\" font-family=\"Helvetica,sans-Serif\" font-size=\"14.00\">entropy = 0.92</text>\n<text text-anchor=\"middle\" x=\"3352.5\" y=\"-109.8\" font-family=\"Helvetica,sans-Serif\" font-size=\"14.00\">samples = 221</text>\n<text text-anchor=\"middle\" x=\"3352.5\" y=\"-94.8\" font-family=\"Helvetica,sans-Serif\" font-size=\"14.00\">value = [74, 147]</text>\n<text text-anchor=\"middle\" x=\"3352.5\" y=\"-79.8\" font-family=\"Helvetica,sans-Serif\" font-size=\"14.00\">class = heart_yes</text>\n</g>\n<!-- 527&#45;&gt;529 -->\n<g id=\"edge77\" class=\"edge\">\n<title>527&#45;&gt;529</title>\n<path fill=\"none\" stroke=\"black\" d=\"M3261.07,-190.91C3272.37,-181.47 3284.48,-171.34 3296.08,-161.65\"/>\n<polygon fill=\"black\" stroke=\"black\" points=\"3298.58,-164.12 3304.01,-155.02 3294.1,-158.75 3298.58,-164.12\"/>\n</g>\n<!-- 530 -->\n<g id=\"node79\" class=\"node\">\n<title>530</title>\n<path fill=\"#c0c0c0\" stroke=\"black\" d=\"M3299.5,-36C3299.5,-36 3269.5,-36 3269.5,-36 3263.5,-36 3257.5,-30 3257.5,-24 3257.5,-24 3257.5,-12 3257.5,-12 3257.5,-6 3263.5,0 3269.5,0 3269.5,0 3299.5,0 3299.5,0 3305.5,0 3311.5,-6 3311.5,-12 3311.5,-12 3311.5,-24 3311.5,-24 3311.5,-30 3305.5,-36 3299.5,-36\"/>\n<text text-anchor=\"middle\" x=\"3284.5\" y=\"-14.3\" font-family=\"Helvetica,sans-Serif\" font-size=\"14.00\">(...)</text>\n</g>\n<!-- 529&#45;&gt;530 -->\n<g id=\"edge78\" class=\"edge\">\n<title>529&#45;&gt;530</title>\n<path fill=\"none\" stroke=\"black\" d=\"M3322.87,-71.76C3316.18,-62.56 3309.25,-53.04 3303.16,-44.66\"/>\n<polygon fill=\"black\" stroke=\"black\" points=\"3305.87,-42.43 3297.16,-36.41 3300.21,-46.55 3305.87,-42.43\"/>\n</g>\n<!-- 561 -->\n<g id=\"node80\" class=\"node\">\n<title>561</title>\n<path fill=\"#c0c0c0\" stroke=\"black\" d=\"M3371.5,-36C3371.5,-36 3341.5,-36 3341.5,-36 3335.5,-36 3329.5,-30 3329.5,-24 3329.5,-24 3329.5,-12 3329.5,-12 3329.5,-6 3335.5,0 3341.5,0 3341.5,0 3371.5,0 3371.5,0 3377.5,0 3383.5,-6 3383.5,-12 3383.5,-12 3383.5,-24 3383.5,-24 3383.5,-30 3377.5,-36 3371.5,-36\"/>\n<text text-anchor=\"middle\" x=\"3356.5\" y=\"-14.3\" font-family=\"Helvetica,sans-Serif\" font-size=\"14.00\">(...)</text>\n</g>\n<!-- 529&#45;&gt;561 -->\n<g id=\"edge79\" class=\"edge\">\n<title>529&#45;&gt;561</title>\n<path fill=\"none\" stroke=\"black\" d=\"M3354.24,-71.76C3354.61,-63.24 3354.98,-54.44 3355.32,-46.53\"/>\n<polygon fill=\"black\" stroke=\"black\" points=\"3358.82,-46.55 3355.76,-36.41 3351.83,-46.25 3358.82,-46.55\"/>\n</g>\n<!-- 569 -->\n<g id=\"node82\" class=\"node\">\n<title>569</title>\n<path fill=\"#bddef6\" stroke=\"black\" d=\"M3668.5,-393C3668.5,-393 3570.5,-393 3570.5,-393 3564.5,-393 3558.5,-387 3558.5,-381 3558.5,-381 3558.5,-322 3558.5,-322 3558.5,-316 3564.5,-310 3570.5,-310 3570.5,-310 3668.5,-310 3668.5,-310 3674.5,-310 3680.5,-316 3680.5,-322 3680.5,-322 3680.5,-381 3680.5,-381 3680.5,-387 3674.5,-393 3668.5,-393\"/>\n<text text-anchor=\"middle\" x=\"3619.5\" y=\"-377.8\" font-family=\"Helvetica,sans-Serif\" font-size=\"14.00\">BMI &lt;= 27.05</text>\n<text text-anchor=\"middle\" x=\"3619.5\" y=\"-362.8\" font-family=\"Helvetica,sans-Serif\" font-size=\"14.00\">entropy = 0.971</text>\n<text text-anchor=\"middle\" x=\"3619.5\" y=\"-347.8\" font-family=\"Helvetica,sans-Serif\" font-size=\"14.00\">samples = 60</text>\n<text text-anchor=\"middle\" x=\"3619.5\" y=\"-332.8\" font-family=\"Helvetica,sans-Serif\" font-size=\"14.00\">value = [24, 36]</text>\n<text text-anchor=\"middle\" x=\"3619.5\" y=\"-317.8\" font-family=\"Helvetica,sans-Serif\" font-size=\"14.00\">class = heart_yes</text>\n</g>\n<!-- 568&#45;&gt;569 -->\n<g id=\"edge81\" class=\"edge\">\n<title>568&#45;&gt;569</title>\n<path fill=\"none\" stroke=\"black\" d=\"M3619.5,-428.91C3619.5,-420.65 3619.5,-411.86 3619.5,-403.3\"/>\n<polygon fill=\"black\" stroke=\"black\" points=\"3623,-403.02 3619.5,-393.02 3616,-403.02 3623,-403.02\"/>\n</g>\n<!-- 578 -->\n<g id=\"node89\" class=\"node\">\n<title>578</title>\n<path fill=\"#54aae9\" stroke=\"black\" d=\"M4001,-393C4001,-393 3830,-393 3830,-393 3824,-393 3818,-387 3818,-381 3818,-381 3818,-322 3818,-322 3818,-316 3824,-310 3830,-310 3830,-310 4001,-310 4001,-310 4007,-310 4013,-316 4013,-322 4013,-322 4013,-381 4013,-381 4013,-387 4007,-393 4001,-393\"/>\n<text text-anchor=\"middle\" x=\"3915.5\" y=\"-377.8\" font-family=\"Helvetica,sans-Serif\" font-size=\"14.00\">blood_pressure_sys &lt;= 135.0</text>\n<text text-anchor=\"middle\" x=\"3915.5\" y=\"-362.8\" font-family=\"Helvetica,sans-Serif\" font-size=\"14.00\">entropy = 0.53</text>\n<text text-anchor=\"middle\" x=\"3915.5\" y=\"-347.8\" font-family=\"Helvetica,sans-Serif\" font-size=\"14.00\">samples = 823</text>\n<text text-anchor=\"middle\" x=\"3915.5\" y=\"-332.8\" font-family=\"Helvetica,sans-Serif\" font-size=\"14.00\">value = [99, 724]</text>\n<text text-anchor=\"middle\" x=\"3915.5\" y=\"-317.8\" font-family=\"Helvetica,sans-Serif\" font-size=\"14.00\">class = heart_yes</text>\n</g>\n<!-- 568&#45;&gt;578 -->\n<g id=\"edge88\" class=\"edge\">\n<title>568&#45;&gt;578</title>\n<path fill=\"none\" stroke=\"black\" d=\"M3709.52,-433.92C3740.71,-421.59 3775.98,-407.65 3808.42,-394.83\"/>\n<polygon fill=\"black\" stroke=\"black\" points=\"3809.92,-398 3817.93,-391.07 3807.34,-391.49 3809.92,-398\"/>\n</g>\n<!-- 570 -->\n<g id=\"node83\" class=\"node\">\n<title>570</title>\n<path fill=\"#6ab6ec\" stroke=\"black\" d=\"M3613,-274C3613,-274 3464,-274 3464,-274 3458,-274 3452,-268 3452,-262 3452,-262 3452,-203 3452,-203 3452,-197 3458,-191 3464,-191 3464,-191 3613,-191 3613,-191 3619,-191 3625,-197 3625,-203 3625,-203 3625,-262 3625,-262 3625,-268 3619,-274 3613,-274\"/>\n<text text-anchor=\"middle\" x=\"3538.5\" y=\"-258.8\" font-family=\"Helvetica,sans-Serif\" font-size=\"14.00\">blood_cholesterol &lt;= 3.48</text>\n<text text-anchor=\"middle\" x=\"3538.5\" y=\"-243.8\" font-family=\"Helvetica,sans-Serif\" font-size=\"14.00\">entropy = 0.722</text>\n<text text-anchor=\"middle\" x=\"3538.5\" y=\"-228.8\" font-family=\"Helvetica,sans-Serif\" font-size=\"14.00\">samples = 45</text>\n<text text-anchor=\"middle\" x=\"3538.5\" y=\"-213.8\" font-family=\"Helvetica,sans-Serif\" font-size=\"14.00\">value = [9, 36]</text>\n<text text-anchor=\"middle\" x=\"3538.5\" y=\"-198.8\" font-family=\"Helvetica,sans-Serif\" font-size=\"14.00\">class = heart_yes</text>\n</g>\n<!-- 569&#45;&gt;570 -->\n<g id=\"edge82\" class=\"edge\">\n<title>569&#45;&gt;570</title>\n<path fill=\"none\" stroke=\"black\" d=\"M3591.4,-309.91C3585.24,-301.01 3578.66,-291.51 3572.31,-282.33\"/>\n<polygon fill=\"black\" stroke=\"black\" points=\"3575.12,-280.25 3566.55,-274.02 3569.37,-284.24 3575.12,-280.25\"/>\n</g>\n<!-- 577 -->\n<g id=\"node88\" class=\"node\">\n<title>577</title>\n<path fill=\"#e58139\" stroke=\"black\" d=\"M3747.5,-266.5C3747.5,-266.5 3655.5,-266.5 3655.5,-266.5 3649.5,-266.5 3643.5,-260.5 3643.5,-254.5 3643.5,-254.5 3643.5,-210.5 3643.5,-210.5 3643.5,-204.5 3649.5,-198.5 3655.5,-198.5 3655.5,-198.5 3747.5,-198.5 3747.5,-198.5 3753.5,-198.5 3759.5,-204.5 3759.5,-210.5 3759.5,-210.5 3759.5,-254.5 3759.5,-254.5 3759.5,-260.5 3753.5,-266.5 3747.5,-266.5\"/>\n<text text-anchor=\"middle\" x=\"3701.5\" y=\"-251.3\" font-family=\"Helvetica,sans-Serif\" font-size=\"14.00\">entropy = 0.0</text>\n<text text-anchor=\"middle\" x=\"3701.5\" y=\"-236.3\" font-family=\"Helvetica,sans-Serif\" font-size=\"14.00\">samples = 15</text>\n<text text-anchor=\"middle\" x=\"3701.5\" y=\"-221.3\" font-family=\"Helvetica,sans-Serif\" font-size=\"14.00\">value = [15, 0]</text>\n<text text-anchor=\"middle\" x=\"3701.5\" y=\"-206.3\" font-family=\"Helvetica,sans-Serif\" font-size=\"14.00\">class = heart_no</text>\n</g>\n<!-- 569&#45;&gt;577 -->\n<g id=\"edge87\" class=\"edge\">\n<title>569&#45;&gt;577</title>\n<path fill=\"none\" stroke=\"black\" d=\"M3647.95,-309.91C3655.84,-298.65 3664.41,-286.42 3672.34,-275.11\"/>\n<polygon fill=\"black\" stroke=\"black\" points=\"3675.38,-276.86 3678.25,-266.67 3669.65,-272.85 3675.38,-276.86\"/>\n</g>\n<!-- 571 -->\n<g id=\"node84\" class=\"node\">\n<title>571</title>\n<path fill=\"#4fa8e8\" stroke=\"black\" d=\"M3562,-155C3562,-155 3447,-155 3447,-155 3441,-155 3435,-149 3435,-143 3435,-143 3435,-84 3435,-84 3435,-78 3441,-72 3447,-72 3447,-72 3562,-72 3562,-72 3568,-72 3574,-78 3574,-84 3574,-84 3574,-143 3574,-143 3574,-149 3568,-155 3562,-155\"/>\n<text text-anchor=\"middle\" x=\"3504.5\" y=\"-139.8\" font-family=\"Helvetica,sans-Serif\" font-size=\"14.00\">drink_alcohol &lt;= 0.5</text>\n<text text-anchor=\"middle\" x=\"3504.5\" y=\"-124.8\" font-family=\"Helvetica,sans-Serif\" font-size=\"14.00\">entropy = 0.469</text>\n<text text-anchor=\"middle\" x=\"3504.5\" y=\"-109.8\" font-family=\"Helvetica,sans-Serif\" font-size=\"14.00\">samples = 40</text>\n<text text-anchor=\"middle\" x=\"3504.5\" y=\"-94.8\" font-family=\"Helvetica,sans-Serif\" font-size=\"14.00\">value = [4, 36]</text>\n<text text-anchor=\"middle\" x=\"3504.5\" y=\"-79.8\" font-family=\"Helvetica,sans-Serif\" font-size=\"14.00\">class = heart_yes</text>\n</g>\n<!-- 570&#45;&gt;571 -->\n<g id=\"edge83\" class=\"edge\">\n<title>570&#45;&gt;571</title>\n<path fill=\"none\" stroke=\"black\" d=\"M3526.7,-190.91C3524.25,-182.47 3521.64,-173.48 3519.1,-164.74\"/>\n<polygon fill=\"black\" stroke=\"black\" points=\"3522.43,-163.65 3516.28,-155.02 3515.7,-165.6 3522.43,-163.65\"/>\n</g>\n<!-- 576 -->\n<g id=\"node87\" class=\"node\">\n<title>576</title>\n<path fill=\"#e58139\" stroke=\"black\" d=\"M3696.5,-147.5C3696.5,-147.5 3604.5,-147.5 3604.5,-147.5 3598.5,-147.5 3592.5,-141.5 3592.5,-135.5 3592.5,-135.5 3592.5,-91.5 3592.5,-91.5 3592.5,-85.5 3598.5,-79.5 3604.5,-79.5 3604.5,-79.5 3696.5,-79.5 3696.5,-79.5 3702.5,-79.5 3708.5,-85.5 3708.5,-91.5 3708.5,-91.5 3708.5,-135.5 3708.5,-135.5 3708.5,-141.5 3702.5,-147.5 3696.5,-147.5\"/>\n<text text-anchor=\"middle\" x=\"3650.5\" y=\"-132.3\" font-family=\"Helvetica,sans-Serif\" font-size=\"14.00\">entropy = 0.0</text>\n<text text-anchor=\"middle\" x=\"3650.5\" y=\"-117.3\" font-family=\"Helvetica,sans-Serif\" font-size=\"14.00\">samples = 5</text>\n<text text-anchor=\"middle\" x=\"3650.5\" y=\"-102.3\" font-family=\"Helvetica,sans-Serif\" font-size=\"14.00\">value = [5, 0]</text>\n<text text-anchor=\"middle\" x=\"3650.5\" y=\"-87.3\" font-family=\"Helvetica,sans-Serif\" font-size=\"14.00\">class = heart_no</text>\n</g>\n<!-- 570&#45;&gt;576 -->\n<g id=\"edge86\" class=\"edge\">\n<title>570&#45;&gt;576</title>\n<path fill=\"none\" stroke=\"black\" d=\"M3577.36,-190.91C3588.45,-179.32 3600.53,-166.7 3611.62,-155.11\"/>\n<polygon fill=\"black\" stroke=\"black\" points=\"3614.36,-157.31 3618.75,-147.67 3609.31,-152.47 3614.36,-157.31\"/>\n</g>\n<!-- 572 -->\n<g id=\"node85\" class=\"node\">\n<title>572</title>\n<path fill=\"#c0c0c0\" stroke=\"black\" d=\"M3483.5,-36C3483.5,-36 3453.5,-36 3453.5,-36 3447.5,-36 3441.5,-30 3441.5,-24 3441.5,-24 3441.5,-12 3441.5,-12 3441.5,-6 3447.5,0 3453.5,0 3453.5,0 3483.5,0 3483.5,0 3489.5,0 3495.5,-6 3495.5,-12 3495.5,-12 3495.5,-24 3495.5,-24 3495.5,-30 3489.5,-36 3483.5,-36\"/>\n<text text-anchor=\"middle\" x=\"3468.5\" y=\"-14.3\" font-family=\"Helvetica,sans-Serif\" font-size=\"14.00\">(...)</text>\n</g>\n<!-- 571&#45;&gt;572 -->\n<g id=\"edge84\" class=\"edge\">\n<title>571&#45;&gt;572</title>\n<path fill=\"none\" stroke=\"black\" d=\"M3488.81,-71.76C3485.46,-63.04 3481.99,-54.04 3478.89,-45.99\"/>\n<polygon fill=\"black\" stroke=\"black\" points=\"3482.06,-44.48 3475.2,-36.41 3475.53,-46.99 3482.06,-44.48\"/>\n</g>\n<!-- 575 -->\n<g id=\"node86\" class=\"node\">\n<title>575</title>\n<path fill=\"#c0c0c0\" stroke=\"black\" d=\"M3555.5,-36C3555.5,-36 3525.5,-36 3525.5,-36 3519.5,-36 3513.5,-30 3513.5,-24 3513.5,-24 3513.5,-12 3513.5,-12 3513.5,-6 3519.5,0 3525.5,0 3525.5,0 3555.5,0 3555.5,0 3561.5,0 3567.5,-6 3567.5,-12 3567.5,-12 3567.5,-24 3567.5,-24 3567.5,-30 3561.5,-36 3555.5,-36\"/>\n<text text-anchor=\"middle\" x=\"3540.5\" y=\"-14.3\" font-family=\"Helvetica,sans-Serif\" font-size=\"14.00\">(...)</text>\n</g>\n<!-- 571&#45;&gt;575 -->\n<g id=\"edge85\" class=\"edge\">\n<title>571&#45;&gt;575</title>\n<path fill=\"none\" stroke=\"black\" d=\"M3520.19,-71.76C3523.54,-63.04 3527.01,-54.04 3530.11,-45.99\"/>\n<polygon fill=\"black\" stroke=\"black\" points=\"3533.47,-46.99 3533.8,-36.41 3526.94,-44.48 3533.47,-46.99\"/>\n</g>\n<!-- 579 -->\n<g id=\"node90\" class=\"node\">\n<title>579</title>\n<path fill=\"#59ade9\" stroke=\"black\" d=\"M3972.5,-274C3972.5,-274 3858.5,-274 3858.5,-274 3852.5,-274 3846.5,-268 3846.5,-262 3846.5,-262 3846.5,-203 3846.5,-203 3846.5,-197 3852.5,-191 3858.5,-191 3858.5,-191 3972.5,-191 3972.5,-191 3978.5,-191 3984.5,-197 3984.5,-203 3984.5,-203 3984.5,-262 3984.5,-262 3984.5,-268 3978.5,-274 3972.5,-274\"/>\n<text text-anchor=\"middle\" x=\"3915.5\" y=\"-258.8\" font-family=\"Helvetica,sans-Serif\" font-size=\"14.00\">diastolic_bp &lt;= 57.0</text>\n<text text-anchor=\"middle\" x=\"3915.5\" y=\"-243.8\" font-family=\"Helvetica,sans-Serif\" font-size=\"14.00\">entropy = 0.586</text>\n<text text-anchor=\"middle\" x=\"3915.5\" y=\"-228.8\" font-family=\"Helvetica,sans-Serif\" font-size=\"14.00\">samples = 668</text>\n<text text-anchor=\"middle\" x=\"3915.5\" y=\"-213.8\" font-family=\"Helvetica,sans-Serif\" font-size=\"14.00\">value = [94, 574]</text>\n<text text-anchor=\"middle\" x=\"3915.5\" y=\"-198.8\" font-family=\"Helvetica,sans-Serif\" font-size=\"14.00\">class = heart_yes</text>\n</g>\n<!-- 578&#45;&gt;579 -->\n<g id=\"edge89\" class=\"edge\">\n<title>578&#45;&gt;579</title>\n<path fill=\"none\" stroke=\"black\" d=\"M3915.5,-309.91C3915.5,-301.65 3915.5,-292.86 3915.5,-284.3\"/>\n<polygon fill=\"black\" stroke=\"black\" points=\"3919,-284.02 3915.5,-274.02 3912,-284.02 3919,-284.02\"/>\n</g>\n<!-- 664 -->\n<g id=\"node97\" class=\"node\">\n<title>664</title>\n<path fill=\"#40a0e6\" stroke=\"black\" d=\"M4153.5,-274C4153.5,-274 4049.5,-274 4049.5,-274 4043.5,-274 4037.5,-268 4037.5,-262 4037.5,-262 4037.5,-203 4037.5,-203 4037.5,-197 4043.5,-191 4049.5,-191 4049.5,-191 4153.5,-191 4153.5,-191 4159.5,-191 4165.5,-197 4165.5,-203 4165.5,-203 4165.5,-262 4165.5,-262 4165.5,-268 4159.5,-274 4153.5,-274\"/>\n<text text-anchor=\"middle\" x=\"4101.5\" y=\"-258.8\" font-family=\"Helvetica,sans-Serif\" font-size=\"14.00\">calories &lt;= 1992.5</text>\n<text text-anchor=\"middle\" x=\"4101.5\" y=\"-243.8\" font-family=\"Helvetica,sans-Serif\" font-size=\"14.00\">entropy = 0.206</text>\n<text text-anchor=\"middle\" x=\"4101.5\" y=\"-228.8\" font-family=\"Helvetica,sans-Serif\" font-size=\"14.00\">samples = 155</text>\n<text text-anchor=\"middle\" x=\"4101.5\" y=\"-213.8\" font-family=\"Helvetica,sans-Serif\" font-size=\"14.00\">value = [5, 150]</text>\n<text text-anchor=\"middle\" x=\"4101.5\" y=\"-198.8\" font-family=\"Helvetica,sans-Serif\" font-size=\"14.00\">class = heart_yes</text>\n</g>\n<!-- 578&#45;&gt;664 -->\n<g id=\"edge96\" class=\"edge\">\n<title>578&#45;&gt;664</title>\n<path fill=\"none\" stroke=\"black\" d=\"M3980.03,-309.91C3995.7,-300.05 4012.56,-289.44 4028.59,-279.36\"/>\n<polygon fill=\"black\" stroke=\"black\" points=\"4030.8,-282.11 4037.4,-273.82 4027.07,-276.18 4030.8,-282.11\"/>\n</g>\n<!-- 580 -->\n<g id=\"node91\" class=\"node\">\n<title>580</title>\n<path fill=\"#9acdf2\" stroke=\"black\" d=\"M3870,-155C3870,-155 3739,-155 3739,-155 3733,-155 3727,-149 3727,-143 3727,-143 3727,-84 3727,-84 3727,-78 3733,-72 3739,-72 3739,-72 3870,-72 3870,-72 3876,-72 3882,-78 3882,-84 3882,-84 3882,-143 3882,-143 3882,-149 3876,-155 3870,-155\"/>\n<text text-anchor=\"middle\" x=\"3804.5\" y=\"-139.8\" font-family=\"Helvetica,sans-Serif\" font-size=\"14.00\">family_income &lt;= 1.19</text>\n<text text-anchor=\"middle\" x=\"3804.5\" y=\"-124.8\" font-family=\"Helvetica,sans-Serif\" font-size=\"14.00\">entropy = 0.914</text>\n<text text-anchor=\"middle\" x=\"3804.5\" y=\"-109.8\" font-family=\"Helvetica,sans-Serif\" font-size=\"14.00\">samples = 76</text>\n<text text-anchor=\"middle\" x=\"3804.5\" y=\"-94.8\" font-family=\"Helvetica,sans-Serif\" font-size=\"14.00\">value = [25, 51]</text>\n<text text-anchor=\"middle\" x=\"3804.5\" y=\"-79.8\" font-family=\"Helvetica,sans-Serif\" font-size=\"14.00\">class = heart_yes</text>\n</g>\n<!-- 579&#45;&gt;580 -->\n<g id=\"edge90\" class=\"edge\">\n<title>579&#45;&gt;580</title>\n<path fill=\"none\" stroke=\"black\" d=\"M3876.99,-190.91C3868.29,-181.74 3858.98,-171.93 3850.03,-162.49\"/>\n<polygon fill=\"black\" stroke=\"black\" points=\"3852.36,-159.87 3842.94,-155.02 3847.29,-164.68 3852.36,-159.87\"/>\n</g>\n<!-- 593 -->\n<g id=\"node94\" class=\"node\">\n<title>593</title>\n<path fill=\"#53aae8\" stroke=\"black\" d=\"M4010.5,-155C4010.5,-155 3912.5,-155 3912.5,-155 3906.5,-155 3900.5,-149 3900.5,-143 3900.5,-143 3900.5,-84 3900.5,-84 3900.5,-78 3906.5,-72 3912.5,-72 3912.5,-72 4010.5,-72 4010.5,-72 4016.5,-72 4022.5,-78 4022.5,-84 4022.5,-84 4022.5,-143 4022.5,-143 4022.5,-149 4016.5,-155 4010.5,-155\"/>\n<text text-anchor=\"middle\" x=\"3961.5\" y=\"-139.8\" font-family=\"Helvetica,sans-Serif\" font-size=\"14.00\">calories &lt;= 522.0</text>\n<text text-anchor=\"middle\" x=\"3961.5\" y=\"-124.8\" font-family=\"Helvetica,sans-Serif\" font-size=\"14.00\">entropy = 0.519</text>\n<text text-anchor=\"middle\" x=\"3961.5\" y=\"-109.8\" font-family=\"Helvetica,sans-Serif\" font-size=\"14.00\">samples = 592</text>\n<text text-anchor=\"middle\" x=\"3961.5\" y=\"-94.8\" font-family=\"Helvetica,sans-Serif\" font-size=\"14.00\">value = [69, 523]</text>\n<text text-anchor=\"middle\" x=\"3961.5\" y=\"-79.8\" font-family=\"Helvetica,sans-Serif\" font-size=\"14.00\">class = heart_yes</text>\n</g>\n<!-- 579&#45;&gt;593 -->\n<g id=\"edge93\" class=\"edge\">\n<title>579&#45;&gt;593</title>\n<path fill=\"none\" stroke=\"black\" d=\"M3931.46,-190.91C3934.81,-182.38 3938.39,-173.28 3941.86,-164.46\"/>\n<polygon fill=\"black\" stroke=\"black\" points=\"3945.17,-165.61 3945.57,-155.02 3938.65,-163.05 3945.17,-165.61\"/>\n</g>\n<!-- 581 -->\n<g id=\"node92\" class=\"node\">\n<title>581</title>\n<path fill=\"#c0c0c0\" stroke=\"black\" d=\"M3753.5,-36C3753.5,-36 3723.5,-36 3723.5,-36 3717.5,-36 3711.5,-30 3711.5,-24 3711.5,-24 3711.5,-12 3711.5,-12 3711.5,-6 3717.5,0 3723.5,0 3723.5,0 3753.5,0 3753.5,0 3759.5,0 3765.5,-6 3765.5,-12 3765.5,-12 3765.5,-24 3765.5,-24 3765.5,-30 3759.5,-36 3753.5,-36\"/>\n<text text-anchor=\"middle\" x=\"3738.5\" y=\"-14.3\" font-family=\"Helvetica,sans-Serif\" font-size=\"14.00\">(...)</text>\n</g>\n<!-- 580&#45;&gt;581 -->\n<g id=\"edge91\" class=\"edge\">\n<title>580&#45;&gt;581</title>\n<path fill=\"none\" stroke=\"black\" d=\"M3775.74,-71.76C3769.25,-62.56 3762.53,-53.04 3756.61,-44.66\"/>\n<polygon fill=\"black\" stroke=\"black\" points=\"3759.41,-42.56 3750.79,-36.41 3753.69,-46.59 3759.41,-42.56\"/>\n</g>\n<!-- 582 -->\n<g id=\"node93\" class=\"node\">\n<title>582</title>\n<path fill=\"#c0c0c0\" stroke=\"black\" d=\"M3825.5,-36C3825.5,-36 3795.5,-36 3795.5,-36 3789.5,-36 3783.5,-30 3783.5,-24 3783.5,-24 3783.5,-12 3783.5,-12 3783.5,-6 3789.5,0 3795.5,0 3795.5,0 3825.5,0 3825.5,0 3831.5,0 3837.5,-6 3837.5,-12 3837.5,-12 3837.5,-24 3837.5,-24 3837.5,-30 3831.5,-36 3825.5,-36\"/>\n<text text-anchor=\"middle\" x=\"3810.5\" y=\"-14.3\" font-family=\"Helvetica,sans-Serif\" font-size=\"14.00\">(...)</text>\n</g>\n<!-- 580&#45;&gt;582 -->\n<g id=\"edge92\" class=\"edge\">\n<title>580&#45;&gt;582</title>\n<path fill=\"none\" stroke=\"black\" d=\"M3807.11,-71.76C3807.66,-63.24 3808.23,-54.44 3808.73,-46.53\"/>\n<polygon fill=\"black\" stroke=\"black\" points=\"3812.24,-46.61 3809.38,-36.41 3805.25,-46.16 3812.24,-46.61\"/>\n</g>\n<!-- 594 -->\n<g id=\"node95\" class=\"node\">\n<title>594</title>\n<path fill=\"#c0c0c0\" stroke=\"black\" d=\"M3940.5,-36C3940.5,-36 3910.5,-36 3910.5,-36 3904.5,-36 3898.5,-30 3898.5,-24 3898.5,-24 3898.5,-12 3898.5,-12 3898.5,-6 3904.5,0 3910.5,0 3910.5,0 3940.5,0 3940.5,0 3946.5,0 3952.5,-6 3952.5,-12 3952.5,-12 3952.5,-24 3952.5,-24 3952.5,-30 3946.5,-36 3940.5,-36\"/>\n<text text-anchor=\"middle\" x=\"3925.5\" y=\"-14.3\" font-family=\"Helvetica,sans-Serif\" font-size=\"14.00\">(...)</text>\n</g>\n<!-- 593&#45;&gt;594 -->\n<g id=\"edge94\" class=\"edge\">\n<title>593&#45;&gt;594</title>\n<path fill=\"none\" stroke=\"black\" d=\"M3945.81,-71.76C3942.46,-63.04 3938.99,-54.04 3935.89,-45.99\"/>\n<polygon fill=\"black\" stroke=\"black\" points=\"3939.06,-44.48 3932.2,-36.41 3932.53,-46.99 3939.06,-44.48\"/>\n</g>\n<!-- 595 -->\n<g id=\"node96\" class=\"node\">\n<title>595</title>\n<path fill=\"#c0c0c0\" stroke=\"black\" d=\"M4012.5,-36C4012.5,-36 3982.5,-36 3982.5,-36 3976.5,-36 3970.5,-30 3970.5,-24 3970.5,-24 3970.5,-12 3970.5,-12 3970.5,-6 3976.5,0 3982.5,0 3982.5,0 4012.5,0 4012.5,0 4018.5,0 4024.5,-6 4024.5,-12 4024.5,-12 4024.5,-24 4024.5,-24 4024.5,-30 4018.5,-36 4012.5,-36\"/>\n<text text-anchor=\"middle\" x=\"3997.5\" y=\"-14.3\" font-family=\"Helvetica,sans-Serif\" font-size=\"14.00\">(...)</text>\n</g>\n<!-- 593&#45;&gt;595 -->\n<g id=\"edge95\" class=\"edge\">\n<title>593&#45;&gt;595</title>\n<path fill=\"none\" stroke=\"black\" d=\"M3977.19,-71.76C3980.54,-63.04 3984.01,-54.04 3987.11,-45.99\"/>\n<polygon fill=\"black\" stroke=\"black\" points=\"3990.47,-46.99 3990.8,-36.41 3983.94,-44.48 3990.47,-46.99\"/>\n</g>\n<!-- 665 -->\n<g id=\"node98\" class=\"node\">\n<title>665</title>\n<path fill=\"#399de5\" stroke=\"black\" d=\"M4150.5,-147.5C4150.5,-147.5 4052.5,-147.5 4052.5,-147.5 4046.5,-147.5 4040.5,-141.5 4040.5,-135.5 4040.5,-135.5 4040.5,-91.5 4040.5,-91.5 4040.5,-85.5 4046.5,-79.5 4052.5,-79.5 4052.5,-79.5 4150.5,-79.5 4150.5,-79.5 4156.5,-79.5 4162.5,-85.5 4162.5,-91.5 4162.5,-91.5 4162.5,-135.5 4162.5,-135.5 4162.5,-141.5 4156.5,-147.5 4150.5,-147.5\"/>\n<text text-anchor=\"middle\" x=\"4101.5\" y=\"-132.3\" font-family=\"Helvetica,sans-Serif\" font-size=\"14.00\">entropy = 0.0</text>\n<text text-anchor=\"middle\" x=\"4101.5\" y=\"-117.3\" font-family=\"Helvetica,sans-Serif\" font-size=\"14.00\">samples = 110</text>\n<text text-anchor=\"middle\" x=\"4101.5\" y=\"-102.3\" font-family=\"Helvetica,sans-Serif\" font-size=\"14.00\">value = [0, 110]</text>\n<text text-anchor=\"middle\" x=\"4101.5\" y=\"-87.3\" font-family=\"Helvetica,sans-Serif\" font-size=\"14.00\">class = heart_yes</text>\n</g>\n<!-- 664&#45;&gt;665 -->\n<g id=\"edge97\" class=\"edge\">\n<title>664&#45;&gt;665</title>\n<path fill=\"none\" stroke=\"black\" d=\"M4101.5,-190.91C4101.5,-180.2 4101.5,-168.62 4101.5,-157.78\"/>\n<polygon fill=\"black\" stroke=\"black\" points=\"4105,-157.67 4101.5,-147.67 4098,-157.67 4105,-157.67\"/>\n</g>\n<!-- 666 -->\n<g id=\"node99\" class=\"node\">\n<title>666</title>\n<path fill=\"#52a9e8\" stroke=\"black\" d=\"M4342,-155C4342,-155 4193,-155 4193,-155 4187,-155 4181,-149 4181,-143 4181,-143 4181,-84 4181,-84 4181,-78 4187,-72 4193,-72 4193,-72 4342,-72 4342,-72 4348,-72 4354,-78 4354,-84 4354,-84 4354,-143 4354,-143 4354,-149 4348,-155 4342,-155\"/>\n<text text-anchor=\"middle\" x=\"4267.5\" y=\"-139.8\" font-family=\"Helvetica,sans-Serif\" font-size=\"14.00\">blood_cholesterol &lt;= 4.72</text>\n<text text-anchor=\"middle\" x=\"4267.5\" y=\"-124.8\" font-family=\"Helvetica,sans-Serif\" font-size=\"14.00\">entropy = 0.503</text>\n<text text-anchor=\"middle\" x=\"4267.5\" y=\"-109.8\" font-family=\"Helvetica,sans-Serif\" font-size=\"14.00\">samples = 45</text>\n<text text-anchor=\"middle\" x=\"4267.5\" y=\"-94.8\" font-family=\"Helvetica,sans-Serif\" font-size=\"14.00\">value = [5, 40]</text>\n<text text-anchor=\"middle\" x=\"4267.5\" y=\"-79.8\" font-family=\"Helvetica,sans-Serif\" font-size=\"14.00\">class = heart_yes</text>\n</g>\n<!-- 664&#45;&gt;666 -->\n<g id=\"edge98\" class=\"edge\">\n<title>664&#45;&gt;666</title>\n<path fill=\"none\" stroke=\"black\" d=\"M4159.09,-190.91C4172.87,-181.2 4187.68,-170.76 4201.79,-160.81\"/>\n<polygon fill=\"black\" stroke=\"black\" points=\"4203.85,-163.64 4210.01,-155.02 4199.82,-157.92 4203.85,-163.64\"/>\n</g>\n<!-- 667 -->\n<g id=\"node100\" class=\"node\">\n<title>667</title>\n<path fill=\"#c0c0c0\" stroke=\"black\" d=\"M4246.5,-36C4246.5,-36 4216.5,-36 4216.5,-36 4210.5,-36 4204.5,-30 4204.5,-24 4204.5,-24 4204.5,-12 4204.5,-12 4204.5,-6 4210.5,0 4216.5,0 4216.5,0 4246.5,0 4246.5,0 4252.5,0 4258.5,-6 4258.5,-12 4258.5,-12 4258.5,-24 4258.5,-24 4258.5,-30 4252.5,-36 4246.5,-36\"/>\n<text text-anchor=\"middle\" x=\"4231.5\" y=\"-14.3\" font-family=\"Helvetica,sans-Serif\" font-size=\"14.00\">(...)</text>\n</g>\n<!-- 666&#45;&gt;667 -->\n<g id=\"edge99\" class=\"edge\">\n<title>666&#45;&gt;667</title>\n<path fill=\"none\" stroke=\"black\" d=\"M4251.81,-71.76C4248.46,-63.04 4244.99,-54.04 4241.89,-45.99\"/>\n<polygon fill=\"black\" stroke=\"black\" points=\"4245.06,-44.48 4238.2,-36.41 4238.53,-46.99 4245.06,-44.48\"/>\n</g>\n<!-- 670 -->\n<g id=\"node101\" class=\"node\">\n<title>670</title>\n<path fill=\"#c0c0c0\" stroke=\"black\" d=\"M4318.5,-36C4318.5,-36 4288.5,-36 4288.5,-36 4282.5,-36 4276.5,-30 4276.5,-24 4276.5,-24 4276.5,-12 4276.5,-12 4276.5,-6 4282.5,0 4288.5,0 4288.5,0 4318.5,0 4318.5,0 4324.5,0 4330.5,-6 4330.5,-12 4330.5,-12 4330.5,-24 4330.5,-24 4330.5,-30 4324.5,-36 4318.5,-36\"/>\n<text text-anchor=\"middle\" x=\"4303.5\" y=\"-14.3\" font-family=\"Helvetica,sans-Serif\" font-size=\"14.00\">(...)</text>\n</g>\n<!-- 666&#45;&gt;670 -->\n<g id=\"edge100\" class=\"edge\">\n<title>666&#45;&gt;670</title>\n<path fill=\"none\" stroke=\"black\" d=\"M4283.19,-71.76C4286.54,-63.04 4290.01,-54.04 4293.11,-45.99\"/>\n<polygon fill=\"black\" stroke=\"black\" points=\"4296.47,-46.99 4296.8,-36.41 4289.94,-44.48 4296.47,-46.99\"/>\n</g>\n</g>\n</svg>\n",
            "text/plain": [
              "<graphviz.sources.Source at 0x7874f185ab40>"
            ]
          },
          "metadata": {}
        }
      ],
      "source": [
        "# TODO\n",
        "# Create a DecisionTreeClassifier with a very low min_samples_split to overfit\n",
        "overfit_tree_split = DecisionTreeClassifier(criterion=\"entropy\", min_samples_split=2)\n",
        "\n",
        "# Fit it to the training data\n",
        "overfit_tree_split.fit(X_train, t_train)\n",
        "\n",
        "# Print the training and validation accuracy\n",
        "print(\"Training Accuracy:\", overfit_tree_split.score(X_train, t_train))\n",
        "print(\"Validation Accuracy:\", overfit_tree_split.score(X_valid, t_valid))\n",
        "\n",
        "# Visualize the tree (max_depth defaults to 5)\n",
        "visualize_tree(overfit_tree_split)\n"
      ]
    },
    {
      "cell_type": "markdown",
      "id": "5a1705a5",
      "metadata": {
        "id": "5a1705a5"
      },
      "source": [
        "**Task:** What value of `min_samples_split` did you choose to make the tree underfit, or overfit? Why do these values cause the graph to underfit, or overfit?"
      ]
    },
    {
      "cell_type": "code",
      "execution_count": 103,
      "id": "91d7b7eb",
      "metadata": {
        "id": "91d7b7eb"
      },
      "outputs": [],
      "source": [
        "# TODO\n",
        "# Underfit: min_samples_split = 2000 → tree is shallow, misses patterns,\n",
        "# low accuracy.\n",
        "\n",
        "# Overfit: min_samples_split = 2 → tree is very deep, fits noise, high training\n",
        "# but lower validation accuracy."
      ]
    },
    {
      "cell_type": "markdown",
      "id": "35c38184",
      "metadata": {
        "id": "35c38184"
      },
      "source": [
        "**Task:** What differences in training accuracy do you see between your underfitted and overfitted decision trees? Why might this be the case?"
      ]
    },
    {
      "cell_type": "code",
      "execution_count": 104,
      "id": "5e9fbe74",
      "metadata": {
        "id": "5e9fbe74"
      },
      "outputs": [],
      "source": [
        "# TODO\n",
        "# The underfitted tree has lower training accuracy because it is too simple to\n",
        "# capture patterns in the data. The overfitted tree has very high training\n",
        "# accuracy because it models almost every detail, including noise."
      ]
    },
    {
      "cell_type": "markdown",
      "id": "1f755244",
      "metadata": {
        "id": "1f755244"
      },
      "source": [
        "## Part 3. Hyperparameter Tuning\n",
        "\n",
        "So far, we have experimented with two Decision Tree hyperparameters: `max_depth` and `min_samples_split`. Another hyperparameter we can vary is the `criterion` for measuring split quality.\n",
        "Earlier in this lab, we used `entropy` as the criterion.\n",
        "Another criterion that Sklearn supports is `gini` (Gini impurity index). You don't need to know the implementation details behind this as we'll rely on Sklearn to compute it. However, if you are interested in learning more about this alternative impurity index, we encourage you to [read more about it](https://en.wikipedia.org/wiki/Gini_coefficient).\n",
        "\n",
        "Our goal is now to figure out what combination of `max_depth`, `min_samples_split` and `criterion` results in the \"best\" decision tree. It is up to you to determine what \"best\" means in this context.\n",
        "\n",
        "**Task:** Start by completing `build_all_models` based on the function specification.\n",
        "This function builds many trees, one for each combination of hyperparameters, and\n",
        "then compares them."
      ]
    },
    {
      "cell_type": "code",
      "execution_count": 105,
      "id": "6c6c22a8",
      "metadata": {
        "id": "6c6c22a8"
      },
      "outputs": [],
      "source": [
        "def build_all_models(max_depths,\n",
        "                     min_samples_split,\n",
        "                     criterion,\n",
        "                     X_train=X_train,\n",
        "                     t_train=t_train,\n",
        "                     X_valid=X_valid,\n",
        "                     t_valid=t_valid):\n",
        "    \"\"\"\n",
        "    Parameters:\n",
        "        `max_depths` - A list of values representing the max_depth values to be\n",
        "                       try as hyperparameter values\n",
        "        `min_samples_split` - An list of values representing the min_samples_split\n",
        "                       values to try as hyperpareameter values\n",
        "        `criterion` -  A string; either \"entropy\" or \"gini\"\n",
        "\n",
        "    Returns a dictionary, `out`, whose keys are the the hyperparameter choices, and whose values are\n",
        "    the training and validation accuracies (via the `score()` method).\n",
        "    In other words, out[(max_depth, min_samples_split)]['val'] = validation score and\n",
        "                    out[(max_depth, min_samples_split)]['train'] = training score\n",
        "    For that combination of (max_depth, min_samples_split) hyperparameters.\n",
        "    \"\"\"\n",
        "    out = {}\n",
        "\n",
        "    for d in max_depths:\n",
        "        for s in min_samples_splits:\n",
        "            tree = DecisionTreeClassifier(criterion=criterion,\n",
        "                                          max_depth=d,\n",
        "                                          min_samples_split=s)\n",
        "            tree.fit(X_train, t_train)\n",
        "            out[(d, s)] = {\n",
        "                'train': tree.score(X_train, t_train),\n",
        "                'val': tree.score(X_valid, t_valid)\n",
        "            }\n",
        "    return out"
      ]
    },
    {
      "cell_type": "markdown",
      "id": "3eb91685",
      "metadata": {
        "id": "3eb91685"
      },
      "source": [
        "**Task:** In this task, we will use an approach called **grid search** to\n",
        "tune hyperparameters: we will list possible values for each hyperparameter,\n",
        "and then attempt every combination of hyperparameter choices. In our case,\n",
        "we will start with some possible values for `max_depth`, `min_samples_split` and `criterion`. Then we will try all combinations\n",
        "of these hyperparameter choices.\n",
        "\n",
        "Complete the code below that performs grid search, by using `build_all_models`\n",
        "to build models and evaluate hyperparameter choices.\n",
        "Print the best parameters and corresponding scores (accuracy) for each of\n",
        "criterion=entropy and criterion=gini (i.e. you should have 2 print statements, 1 for each criterion)."
      ]
    },
    {
      "cell_type": "code",
      "execution_count": 106,
      "id": "8d6b86a2",
      "metadata": {
        "id": "8d6b86a2",
        "outputId": "8d39b5b6-692a-4490-b94c-6f49c2a5d9be",
        "colab": {
          "base_uri": "https://localhost:8080/"
        }
      },
      "outputs": [
        {
          "output_type": "stream",
          "name": "stdout",
          "text": [
            "\n",
            "Using criterion entropy\n",
            "Best params: max_depth=25, min_samples_split=4\n",
            "Training Accuracy: 1.000\n",
            "Validation Accuracy: 0.967\n",
            "\n",
            "Using criterion gini\n",
            "Best params: max_depth=30, min_samples_split=2\n",
            "Training Accuracy: 1.000\n",
            "Validation Accuracy: 0.959\n"
          ]
        }
      ],
      "source": [
        "# Hyperparameter values to try\n",
        "criterions = [\"entropy\", \"gini\"]\n",
        "max_depths = [1, 5, 10, 15, 20, 25, 30, 50, 100]\n",
        "min_samples_splits = [2, 4, 8, 16, 32, 64, 128, 256, 512, 1024]\n",
        "\n",
        "for criterion in criterions:\n",
        "    print(\"\\nUsing criterion {}\".format(criterion))\n",
        "    res = build_all_models(max_depths, min_samples_splits, criterion)\n",
        "\n",
        "    # Find the best combination of max_depth and min_samples_split\n",
        "    best_score = 0\n",
        "    best_params = None\n",
        "    for (d, s), scores in res.items():\n",
        "        if scores['val'] > best_score:\n",
        "            best_score = scores['val']\n",
        "            best_params = (d, s)\n",
        "\n",
        "    print(f\"Best params: max_depth={best_params[0]}, min_samples_split={best_params[1]}\")\n",
        "    print(f\"Training Accuracy: {res[best_params]['train']:.3f}\")\n",
        "    print(f\"Validation Accuracy: {res[best_params]['val']:.3f}\")"
      ]
    },
    {
      "cell_type": "markdown",
      "id": "7a35f0ef",
      "metadata": {
        "id": "7a35f0ef"
      },
      "source": [
        "## Part 4. Test accuracy\n",
        "\n",
        "**Task:** Use the optimal set of hyperparameters you previously discovered to fit a new Decision Tree model to the data. Report the test score."
      ]
    },
    {
      "cell_type": "code",
      "execution_count": 107,
      "id": "8267499c",
      "metadata": {
        "id": "8267499c",
        "outputId": "a7a7c441-804b-4d35-9697-bfce43b0dfd6",
        "colab": {
          "base_uri": "https://localhost:8080/"
        }
      },
      "outputs": [
        {
          "output_type": "stream",
          "name": "stdout",
          "text": [
            "Entropy Decision Tree Test Accuracy: 0.9633333333333334\n",
            "Gini Decision Tree Test Accuracy: 0.9633333333333334\n"
          ]
        }
      ],
      "source": [
        "# Using entropy\n",
        "best_tree_entropy = DecisionTreeClassifier(\n",
        "    criterion=\"entropy\",\n",
        "    max_depth=25,\n",
        "    min_samples_split=4\n",
        ")\n",
        "best_tree_entropy.fit(X_train, t_train)\n",
        "print(\"Entropy Decision Tree Test Accuracy:\", best_tree_entropy.score(X_test, t_test))\n",
        "\n",
        "# Using gini\n",
        "best_tree_gini = DecisionTreeClassifier(\n",
        "    criterion=\"gini\",\n",
        "    max_depth=20,\n",
        "    min_samples_split=4\n",
        ")\n",
        "best_tree_gini.fit(X_train, t_train)\n",
        "print(\"Gini Decision Tree Test Accuracy:\", best_tree_gini.score(X_test, t_test))\n"
      ]
    },
    {
      "cell_type": "markdown",
      "id": "1e6d4bbb",
      "metadata": {
        "id": "1e6d4bbb"
      },
      "source": [
        "The accuracy measure above considers every mis-classification that is made by our model an `error`, and it assumes that each and every error is of equal importance. However, in many domains, not all errors are of equal importance at all! Some mistakes may have significant negative impacts on people, while others may not.  In future labs, we'll look more closely at different kinds of errors that our models may make and reflect on how these errors might be related to risks.\n",
        "\n",
        "For now, however, let's simply reflect on some shortcomings of the accuracy measure above.\n",
        "\n",
        "**Task:** Assume we have two decision trees that both report 95% accuracy on our validation set.\n",
        "Why might a doctor prefer to use one tree rather than the other?  Answer below in 100 words or less."
      ]
    },
    {
      "cell_type": "code",
      "execution_count": 108,
      "id": "33a49dba",
      "metadata": {
        "id": "33a49dba"
      },
      "outputs": [],
      "source": [
        "# TODO\n",
        "# Even if two trees have the same overall accuracy, they may differ in how they\n",
        "# classify critical cases. For example, one tree might correctly identify most\n",
        "# patients with heart disease (true positives) but misclassify healthy patients\n",
        "# as sick (false positives), while the other might do the opposite.\n",
        "# In medical contexts, missing a patient with heart disease is far more serious\n",
        "# than a false alarm, so a doctor would prefer the tree that minimizes false\n",
        "# negatives, even if overall accuracy is identical. Accuracy alone doesn’t\n",
        "# capture the cost or risk associated with different types of errors."
      ]
    }
  ],
  "metadata": {
    "colab": {
      "provenance": []
    },
    "language_info": {
      "name": "python"
    },
    "kernelspec": {
      "name": "python3",
      "display_name": "Python 3"
    }
  },
  "nbformat": 4,
  "nbformat_minor": 5
}