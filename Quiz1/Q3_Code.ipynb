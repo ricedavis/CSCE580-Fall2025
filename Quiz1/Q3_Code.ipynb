{
  "nbformat": 4,
  "nbformat_minor": 0,
  "metadata": {
    "colab": {
      "provenance": [],
      "authorship_tag": "ABX9TyNSurNyfuEQal7j2+XDtXi3",
      "include_colab_link": true
    },
    "kernelspec": {
      "name": "python3",
      "display_name": "Python 3"
    },
    "language_info": {
      "name": "python"
    }
  },
  "cells": [
    {
      "cell_type": "markdown",
      "metadata": {
        "id": "view-in-github",
        "colab_type": "text"
      },
      "source": [
        "<a href=\"https://colab.research.google.com/github/ricedavis/CSCE580-Fall2025/blob/main/Quiz1/Q3_Code.ipynb\" target=\"_parent\"><img src=\"https://colab.research.google.com/assets/colab-badge.svg\" alt=\"Open In Colab\"/></a>"
      ]
    },
    {
      "cell_type": "markdown",
      "source": [
        "# a. Data Issues"
      ],
      "metadata": {
        "id": "nQPomX8pQqny"
      }
    },
    {
      "cell_type": "code",
      "execution_count": 114,
      "metadata": {
        "id": "w2BR1hdfMI0K",
        "colab": {
          "base_uri": "https://localhost:8080/"
        },
        "outputId": "6bbfa1a0-39f7-4f41-f762-1ae070f07342"
      },
      "outputs": [
        {
          "output_type": "stream",
          "name": "stdout",
          "text": [
            "Drive already mounted at /content/drive; to attempt to forcibly remount, call drive.mount(\"/content/drive\", force_remount=True).\n"
          ]
        }
      ],
      "source": [
        "from google.colab import drive\n",
        "drive.mount('/content/drive')"
      ]
    },
    {
      "cell_type": "code",
      "source": [
        "import pandas as pd"
      ],
      "metadata": {
        "id": "co2UP8DlOK9x"
      },
      "execution_count": 115,
      "outputs": []
    },
    {
      "cell_type": "code",
      "source": [
        "df = pd.read_csv('/content/drive/MyDrive/Redacted-Department _ CAD Reconciliation.csv')"
      ],
      "metadata": {
        "id": "DC31bIQ4OOwx"
      },
      "execution_count": 116,
      "outputs": []
    },
    {
      "cell_type": "code",
      "source": [
        "df.head()"
      ],
      "metadata": {
        "colab": {
          "base_uri": "https://localhost:8080/",
          "height": 206
        },
        "id": "OS2FZ5Z2O1Rj",
        "outputId": "91c1bb8c-8c1a-4215-f48f-86db714427f1"
      },
      "execution_count": 117,
      "outputs": [
        {
          "output_type": "execute_result",
          "data": {
            "text/plain": [
              "      XREF ID         DISPATCH UNIT DISPATCH CREATED DATE INCIDENT NUMBER  \\\n",
              "0  2025107105  BAT111, E171, LDR175         3/24/25 15:54         25-1368   \n",
              "1  2025107223                BAT111         3/24/25 17:28         25-1369   \n",
              "2  2025107415                  E171         3/24/25 21:03         25-1370   \n",
              "3  2025107411                  E171         3/24/25 21:03         25-1371   \n",
              "4  2025107384  BAT111, E171, LDR175         3/24/25 21:43         25-1374   \n",
              "\n",
              "  1ST UNIT ON SCENE ALARM DATE TIME CALL COMPLETE SHIFT  \n",
              "0            BC-111   3/24/25 15:46  9/5/25 16:20     C  \n",
              "1            BC-111   3/24/25 17:23  9/5/25 17:55     C  \n",
              "2             E-171   3/24/25 21:02  9/4/25 21:09     C  \n",
              "3               NaN   3/24/25 20:58  9/4/25 21:02     C  \n",
              "4            BC-111   3/24/25 20:30  9/4/25 21:36     C  "
            ],
            "text/html": [
              "\n",
              "  <div id=\"df-80839acb-26da-4554-b77b-250a843e30f7\" class=\"colab-df-container\">\n",
              "    <div>\n",
              "<style scoped>\n",
              "    .dataframe tbody tr th:only-of-type {\n",
              "        vertical-align: middle;\n",
              "    }\n",
              "\n",
              "    .dataframe tbody tr th {\n",
              "        vertical-align: top;\n",
              "    }\n",
              "\n",
              "    .dataframe thead th {\n",
              "        text-align: right;\n",
              "    }\n",
              "</style>\n",
              "<table border=\"1\" class=\"dataframe\">\n",
              "  <thead>\n",
              "    <tr style=\"text-align: right;\">\n",
              "      <th></th>\n",
              "      <th>XREF ID</th>\n",
              "      <th>DISPATCH UNIT</th>\n",
              "      <th>DISPATCH CREATED DATE</th>\n",
              "      <th>INCIDENT NUMBER</th>\n",
              "      <th>1ST UNIT ON SCENE</th>\n",
              "      <th>ALARM DATE TIME</th>\n",
              "      <th>CALL COMPLETE</th>\n",
              "      <th>SHIFT</th>\n",
              "    </tr>\n",
              "  </thead>\n",
              "  <tbody>\n",
              "    <tr>\n",
              "      <th>0</th>\n",
              "      <td>2025107105</td>\n",
              "      <td>BAT111, E171, LDR175</td>\n",
              "      <td>3/24/25 15:54</td>\n",
              "      <td>25-1368</td>\n",
              "      <td>BC-111</td>\n",
              "      <td>3/24/25 15:46</td>\n",
              "      <td>9/5/25 16:20</td>\n",
              "      <td>C</td>\n",
              "    </tr>\n",
              "    <tr>\n",
              "      <th>1</th>\n",
              "      <td>2025107223</td>\n",
              "      <td>BAT111</td>\n",
              "      <td>3/24/25 17:28</td>\n",
              "      <td>25-1369</td>\n",
              "      <td>BC-111</td>\n",
              "      <td>3/24/25 17:23</td>\n",
              "      <td>9/5/25 17:55</td>\n",
              "      <td>C</td>\n",
              "    </tr>\n",
              "    <tr>\n",
              "      <th>2</th>\n",
              "      <td>2025107415</td>\n",
              "      <td>E171</td>\n",
              "      <td>3/24/25 21:03</td>\n",
              "      <td>25-1370</td>\n",
              "      <td>E-171</td>\n",
              "      <td>3/24/25 21:02</td>\n",
              "      <td>9/4/25 21:09</td>\n",
              "      <td>C</td>\n",
              "    </tr>\n",
              "    <tr>\n",
              "      <th>3</th>\n",
              "      <td>2025107411</td>\n",
              "      <td>E171</td>\n",
              "      <td>3/24/25 21:03</td>\n",
              "      <td>25-1371</td>\n",
              "      <td>NaN</td>\n",
              "      <td>3/24/25 20:58</td>\n",
              "      <td>9/4/25 21:02</td>\n",
              "      <td>C</td>\n",
              "    </tr>\n",
              "    <tr>\n",
              "      <th>4</th>\n",
              "      <td>2025107384</td>\n",
              "      <td>BAT111, E171, LDR175</td>\n",
              "      <td>3/24/25 21:43</td>\n",
              "      <td>25-1374</td>\n",
              "      <td>BC-111</td>\n",
              "      <td>3/24/25 20:30</td>\n",
              "      <td>9/4/25 21:36</td>\n",
              "      <td>C</td>\n",
              "    </tr>\n",
              "  </tbody>\n",
              "</table>\n",
              "</div>\n",
              "    <div class=\"colab-df-buttons\">\n",
              "\n",
              "  <div class=\"colab-df-container\">\n",
              "    <button class=\"colab-df-convert\" onclick=\"convertToInteractive('df-80839acb-26da-4554-b77b-250a843e30f7')\"\n",
              "            title=\"Convert this dataframe to an interactive table.\"\n",
              "            style=\"display:none;\">\n",
              "\n",
              "  <svg xmlns=\"http://www.w3.org/2000/svg\" height=\"24px\" viewBox=\"0 -960 960 960\">\n",
              "    <path d=\"M120-120v-720h720v720H120Zm60-500h600v-160H180v160Zm220 220h160v-160H400v160Zm0 220h160v-160H400v160ZM180-400h160v-160H180v160Zm440 0h160v-160H620v160ZM180-180h160v-160H180v160Zm440 0h160v-160H620v160Z\"/>\n",
              "  </svg>\n",
              "    </button>\n",
              "\n",
              "  <style>\n",
              "    .colab-df-container {\n",
              "      display:flex;\n",
              "      gap: 12px;\n",
              "    }\n",
              "\n",
              "    .colab-df-convert {\n",
              "      background-color: #E8F0FE;\n",
              "      border: none;\n",
              "      border-radius: 50%;\n",
              "      cursor: pointer;\n",
              "      display: none;\n",
              "      fill: #1967D2;\n",
              "      height: 32px;\n",
              "      padding: 0 0 0 0;\n",
              "      width: 32px;\n",
              "    }\n",
              "\n",
              "    .colab-df-convert:hover {\n",
              "      background-color: #E2EBFA;\n",
              "      box-shadow: 0px 1px 2px rgba(60, 64, 67, 0.3), 0px 1px 3px 1px rgba(60, 64, 67, 0.15);\n",
              "      fill: #174EA6;\n",
              "    }\n",
              "\n",
              "    .colab-df-buttons div {\n",
              "      margin-bottom: 4px;\n",
              "    }\n",
              "\n",
              "    [theme=dark] .colab-df-convert {\n",
              "      background-color: #3B4455;\n",
              "      fill: #D2E3FC;\n",
              "    }\n",
              "\n",
              "    [theme=dark] .colab-df-convert:hover {\n",
              "      background-color: #434B5C;\n",
              "      box-shadow: 0px 1px 3px 1px rgba(0, 0, 0, 0.15);\n",
              "      filter: drop-shadow(0px 1px 2px rgba(0, 0, 0, 0.3));\n",
              "      fill: #FFFFFF;\n",
              "    }\n",
              "  </style>\n",
              "\n",
              "    <script>\n",
              "      const buttonEl =\n",
              "        document.querySelector('#df-80839acb-26da-4554-b77b-250a843e30f7 button.colab-df-convert');\n",
              "      buttonEl.style.display =\n",
              "        google.colab.kernel.accessAllowed ? 'block' : 'none';\n",
              "\n",
              "      async function convertToInteractive(key) {\n",
              "        const element = document.querySelector('#df-80839acb-26da-4554-b77b-250a843e30f7');\n",
              "        const dataTable =\n",
              "          await google.colab.kernel.invokeFunction('convertToInteractive',\n",
              "                                                    [key], {});\n",
              "        if (!dataTable) return;\n",
              "\n",
              "        const docLinkHtml = 'Like what you see? Visit the ' +\n",
              "          '<a target=\"_blank\" href=https://colab.research.google.com/notebooks/data_table.ipynb>data table notebook</a>'\n",
              "          + ' to learn more about interactive tables.';\n",
              "        element.innerHTML = '';\n",
              "        dataTable['output_type'] = 'display_data';\n",
              "        await google.colab.output.renderOutput(dataTable, element);\n",
              "        const docLink = document.createElement('div');\n",
              "        docLink.innerHTML = docLinkHtml;\n",
              "        element.appendChild(docLink);\n",
              "      }\n",
              "    </script>\n",
              "  </div>\n",
              "\n",
              "\n",
              "    <div id=\"df-6eecd070-a914-412c-83d4-5347351b9584\">\n",
              "      <button class=\"colab-df-quickchart\" onclick=\"quickchart('df-6eecd070-a914-412c-83d4-5347351b9584')\"\n",
              "                title=\"Suggest charts\"\n",
              "                style=\"display:none;\">\n",
              "\n",
              "<svg xmlns=\"http://www.w3.org/2000/svg\" height=\"24px\"viewBox=\"0 0 24 24\"\n",
              "     width=\"24px\">\n",
              "    <g>\n",
              "        <path d=\"M19 3H5c-1.1 0-2 .9-2 2v14c0 1.1.9 2 2 2h14c1.1 0 2-.9 2-2V5c0-1.1-.9-2-2-2zM9 17H7v-7h2v7zm4 0h-2V7h2v10zm4 0h-2v-4h2v4z\"/>\n",
              "    </g>\n",
              "</svg>\n",
              "      </button>\n",
              "\n",
              "<style>\n",
              "  .colab-df-quickchart {\n",
              "      --bg-color: #E8F0FE;\n",
              "      --fill-color: #1967D2;\n",
              "      --hover-bg-color: #E2EBFA;\n",
              "      --hover-fill-color: #174EA6;\n",
              "      --disabled-fill-color: #AAA;\n",
              "      --disabled-bg-color: #DDD;\n",
              "  }\n",
              "\n",
              "  [theme=dark] .colab-df-quickchart {\n",
              "      --bg-color: #3B4455;\n",
              "      --fill-color: #D2E3FC;\n",
              "      --hover-bg-color: #434B5C;\n",
              "      --hover-fill-color: #FFFFFF;\n",
              "      --disabled-bg-color: #3B4455;\n",
              "      --disabled-fill-color: #666;\n",
              "  }\n",
              "\n",
              "  .colab-df-quickchart {\n",
              "    background-color: var(--bg-color);\n",
              "    border: none;\n",
              "    border-radius: 50%;\n",
              "    cursor: pointer;\n",
              "    display: none;\n",
              "    fill: var(--fill-color);\n",
              "    height: 32px;\n",
              "    padding: 0;\n",
              "    width: 32px;\n",
              "  }\n",
              "\n",
              "  .colab-df-quickchart:hover {\n",
              "    background-color: var(--hover-bg-color);\n",
              "    box-shadow: 0 1px 2px rgba(60, 64, 67, 0.3), 0 1px 3px 1px rgba(60, 64, 67, 0.15);\n",
              "    fill: var(--button-hover-fill-color);\n",
              "  }\n",
              "\n",
              "  .colab-df-quickchart-complete:disabled,\n",
              "  .colab-df-quickchart-complete:disabled:hover {\n",
              "    background-color: var(--disabled-bg-color);\n",
              "    fill: var(--disabled-fill-color);\n",
              "    box-shadow: none;\n",
              "  }\n",
              "\n",
              "  .colab-df-spinner {\n",
              "    border: 2px solid var(--fill-color);\n",
              "    border-color: transparent;\n",
              "    border-bottom-color: var(--fill-color);\n",
              "    animation:\n",
              "      spin 1s steps(1) infinite;\n",
              "  }\n",
              "\n",
              "  @keyframes spin {\n",
              "    0% {\n",
              "      border-color: transparent;\n",
              "      border-bottom-color: var(--fill-color);\n",
              "      border-left-color: var(--fill-color);\n",
              "    }\n",
              "    20% {\n",
              "      border-color: transparent;\n",
              "      border-left-color: var(--fill-color);\n",
              "      border-top-color: var(--fill-color);\n",
              "    }\n",
              "    30% {\n",
              "      border-color: transparent;\n",
              "      border-left-color: var(--fill-color);\n",
              "      border-top-color: var(--fill-color);\n",
              "      border-right-color: var(--fill-color);\n",
              "    }\n",
              "    40% {\n",
              "      border-color: transparent;\n",
              "      border-right-color: var(--fill-color);\n",
              "      border-top-color: var(--fill-color);\n",
              "    }\n",
              "    60% {\n",
              "      border-color: transparent;\n",
              "      border-right-color: var(--fill-color);\n",
              "    }\n",
              "    80% {\n",
              "      border-color: transparent;\n",
              "      border-right-color: var(--fill-color);\n",
              "      border-bottom-color: var(--fill-color);\n",
              "    }\n",
              "    90% {\n",
              "      border-color: transparent;\n",
              "      border-bottom-color: var(--fill-color);\n",
              "    }\n",
              "  }\n",
              "</style>\n",
              "\n",
              "      <script>\n",
              "        async function quickchart(key) {\n",
              "          const quickchartButtonEl =\n",
              "            document.querySelector('#' + key + ' button');\n",
              "          quickchartButtonEl.disabled = true;  // To prevent multiple clicks.\n",
              "          quickchartButtonEl.classList.add('colab-df-spinner');\n",
              "          try {\n",
              "            const charts = await google.colab.kernel.invokeFunction(\n",
              "                'suggestCharts', [key], {});\n",
              "          } catch (error) {\n",
              "            console.error('Error during call to suggestCharts:', error);\n",
              "          }\n",
              "          quickchartButtonEl.classList.remove('colab-df-spinner');\n",
              "          quickchartButtonEl.classList.add('colab-df-quickchart-complete');\n",
              "        }\n",
              "        (() => {\n",
              "          let quickchartButtonEl =\n",
              "            document.querySelector('#df-6eecd070-a914-412c-83d4-5347351b9584 button');\n",
              "          quickchartButtonEl.style.display =\n",
              "            google.colab.kernel.accessAllowed ? 'block' : 'none';\n",
              "        })();\n",
              "      </script>\n",
              "    </div>\n",
              "\n",
              "    </div>\n",
              "  </div>\n"
            ],
            "application/vnd.google.colaboratory.intrinsic+json": {
              "type": "dataframe",
              "variable_name": "df",
              "summary": "{\n  \"name\": \"df\",\n  \"rows\": 2200,\n  \"fields\": [\n    {\n      \"column\": \"XREF ID\",\n      \"properties\": {\n        \"dtype\": \"number\",\n        \"std\": 63599,\n        \"min\": 2025107105,\n        \"max\": 2025326922,\n        \"num_unique_values\": 2200,\n        \"samples\": [\n          2025239234,\n          2025228929,\n          2025276247\n        ],\n        \"semantic_type\": \"\",\n        \"description\": \"\"\n      }\n    },\n    {\n      \"column\": \"DISPATCH UNIT\",\n      \"properties\": {\n        \"dtype\": \"category\",\n        \"num_unique_values\": 53,\n        \"samples\": [\n          \"BAT111, E173, LDR175\",\n          \"BAT111, C101, C102, E171, E172, LDR175, M105\",\n          \"B117, BAT111, E171, E172, LDR175\"\n        ],\n        \"semantic_type\": \"\",\n        \"description\": \"\"\n      }\n    },\n    {\n      \"column\": \"DISPATCH CREATED DATE\",\n      \"properties\": {\n        \"dtype\": \"object\",\n        \"num_unique_values\": 2133,\n        \"samples\": [\n          \"4/11/25 13:38\",\n          \"8/21/25 15:42\",\n          \"7/26/25 4:13\"\n        ],\n        \"semantic_type\": \"\",\n        \"description\": \"\"\n      }\n    },\n    {\n      \"column\": \"INCIDENT NUMBER\",\n      \"properties\": {\n        \"dtype\": \"string\",\n        \"num_unique_values\": 2199,\n        \"samples\": [\n          \"25-1827\",\n          \"25-2563\",\n          \"25-1763\"\n        ],\n        \"semantic_type\": \"\",\n        \"description\": \"\"\n      }\n    },\n    {\n      \"column\": \"1ST UNIT ON SCENE\",\n      \"properties\": {\n        \"dtype\": \"category\",\n        \"num_unique_values\": 10,\n        \"samples\": [\n          \"SRT-117\",\n          \"E-171\",\n          \"C-103\"\n        ],\n        \"semantic_type\": \"\",\n        \"description\": \"\"\n      }\n    },\n    {\n      \"column\": \"ALARM DATE TIME\",\n      \"properties\": {\n        \"dtype\": \"object\",\n        \"num_unique_values\": 2158,\n        \"samples\": [\n          \"5/28/25 2:16\",\n          \"4/16/25 6:00\",\n          \"4/20/25 0:20\"\n        ],\n        \"semantic_type\": \"\",\n        \"description\": \"\"\n      }\n    },\n    {\n      \"column\": \"CALL COMPLETE\",\n      \"properties\": {\n        \"dtype\": \"object\",\n        \"num_unique_values\": 1078,\n        \"samples\": [\n          \"9/4/25 23:42\",\n          \"9/5/25 1:15\",\n          \"9/5/25 3:43\"\n        ],\n        \"semantic_type\": \"\",\n        \"description\": \"\"\n      }\n    },\n    {\n      \"column\": \"SHIFT\",\n      \"properties\": {\n        \"dtype\": \"category\",\n        \"num_unique_values\": 3,\n        \"samples\": [\n          \"C\",\n          \"A\",\n          \"B\"\n        ],\n        \"semantic_type\": \"\",\n        \"description\": \"\"\n      }\n    }\n  ]\n}"
            }
          },
          "metadata": {},
          "execution_count": 117
        }
      ]
    },
    {
      "cell_type": "markdown",
      "source": [
        "## 1. Range of Data"
      ],
      "metadata": {
        "id": "QK0y6R5HQvYr"
      }
    },
    {
      "cell_type": "code",
      "source": [
        "df['DISPATCH CREATED DATE'] = pd.to_datetime(df['DISPATCH CREATED DATE'], errors = 'coerce')"
      ],
      "metadata": {
        "colab": {
          "base_uri": "https://localhost:8080/"
        },
        "id": "Kc6mfUC5PwCX",
        "outputId": "4f843e62-4289-439b-cead-c81f9bb8617b"
      },
      "execution_count": 118,
      "outputs": [
        {
          "output_type": "stream",
          "name": "stderr",
          "text": [
            "/tmp/ipython-input-3650422554.py:1: UserWarning: Could not infer format, so each element will be parsed individually, falling back to `dateutil`. To ensure parsing is consistent and as-expected, please specify a format.\n",
            "  df['DISPATCH CREATED DATE'] = pd.to_datetime(df['DISPATCH CREATED DATE'], errors = 'coerce')\n"
          ]
        }
      ]
    },
    {
      "cell_type": "code",
      "source": [
        "# Calculate the range of data by taking the last entry time minus the first entry time\n",
        "print(f\"min: {df['DISPATCH CREATED DATE'].min()}, max: {df['DISPATCH CREATED DATE'].max()}\")\n",
        "time_range = df['DISPATCH CREATED DATE'].max() - df['DISPATCH CREATED DATE'].min()\n",
        "time_range"
      ],
      "metadata": {
        "colab": {
          "base_uri": "https://localhost:8080/"
        },
        "id": "bAMradT6QKHW",
        "outputId": "6a9dff6f-f2cf-45f8-cbba-ba0a6faa228f"
      },
      "execution_count": 119,
      "outputs": [
        {
          "output_type": "stream",
          "name": "stdout",
          "text": [
            "min: 2025-03-24 15:54:00, max: 2025-08-31 23:03:00\n"
          ]
        },
        {
          "output_type": "execute_result",
          "data": {
            "text/plain": [
              "Timedelta('160 days 07:09:00')"
            ]
          },
          "metadata": {},
          "execution_count": 119
        }
      ]
    },
    {
      "cell_type": "markdown",
      "source": [
        "The range of data is from 2025-03-24 15:54:00 to 2025-08-31 23:03:00, the total change in time being 160 days, 7 hours and 9 minutes."
      ],
      "metadata": {
        "id": "kRPLXpIfQ6WO"
      }
    },
    {
      "cell_type": "markdown",
      "source": [
        "## 2. Percent of data missing from each column"
      ],
      "metadata": {
        "id": "f_zd1ukHQn6U"
      }
    },
    {
      "cell_type": "code",
      "source": [
        "# Find number of null values for each column\n",
        "df.isna().sum()"
      ],
      "metadata": {
        "colab": {
          "base_uri": "https://localhost:8080/",
          "height": 335
        },
        "id": "nLvQWmHDQ5N3",
        "outputId": "af39dce5-ef86-4e6a-ba2a-72cd529f607c"
      },
      "execution_count": 120,
      "outputs": [
        {
          "output_type": "execute_result",
          "data": {
            "text/plain": [
              "XREF ID                    0\n",
              "DISPATCH UNIT              0\n",
              "DISPATCH CREATED DATE      0\n",
              "INCIDENT NUMBER            0\n",
              "1ST UNIT ON SCENE        428\n",
              "ALARM DATE TIME           31\n",
              "CALL COMPLETE             31\n",
              "SHIFT                     69\n",
              "dtype: int64"
            ],
            "text/html": [
              "<div>\n",
              "<style scoped>\n",
              "    .dataframe tbody tr th:only-of-type {\n",
              "        vertical-align: middle;\n",
              "    }\n",
              "\n",
              "    .dataframe tbody tr th {\n",
              "        vertical-align: top;\n",
              "    }\n",
              "\n",
              "    .dataframe thead th {\n",
              "        text-align: right;\n",
              "    }\n",
              "</style>\n",
              "<table border=\"1\" class=\"dataframe\">\n",
              "  <thead>\n",
              "    <tr style=\"text-align: right;\">\n",
              "      <th></th>\n",
              "      <th>0</th>\n",
              "    </tr>\n",
              "  </thead>\n",
              "  <tbody>\n",
              "    <tr>\n",
              "      <th>XREF ID</th>\n",
              "      <td>0</td>\n",
              "    </tr>\n",
              "    <tr>\n",
              "      <th>DISPATCH UNIT</th>\n",
              "      <td>0</td>\n",
              "    </tr>\n",
              "    <tr>\n",
              "      <th>DISPATCH CREATED DATE</th>\n",
              "      <td>0</td>\n",
              "    </tr>\n",
              "    <tr>\n",
              "      <th>INCIDENT NUMBER</th>\n",
              "      <td>0</td>\n",
              "    </tr>\n",
              "    <tr>\n",
              "      <th>1ST UNIT ON SCENE</th>\n",
              "      <td>428</td>\n",
              "    </tr>\n",
              "    <tr>\n",
              "      <th>ALARM DATE TIME</th>\n",
              "      <td>31</td>\n",
              "    </tr>\n",
              "    <tr>\n",
              "      <th>CALL COMPLETE</th>\n",
              "      <td>31</td>\n",
              "    </tr>\n",
              "    <tr>\n",
              "      <th>SHIFT</th>\n",
              "      <td>69</td>\n",
              "    </tr>\n",
              "  </tbody>\n",
              "</table>\n",
              "</div><br><label><b>dtype:</b> int64</label>"
            ]
          },
          "metadata": {},
          "execution_count": 120
        }
      ]
    },
    {
      "cell_type": "code",
      "source": [
        "# Amount of values that should be in each column\n",
        "len(df)\n",
        "\n",
        "# Calculate percent of missing values per column\n",
        "def calc_percent(column):\n",
        "  percent_missing = df[column].isna().sum()/2200*100\n",
        "  return f\"{column} percent of missing values = {percent_missing:.2f}%\"\n",
        "\n",
        "for column in df:\n",
        "  result = calc_percent(column)\n",
        "  print(result)"
      ],
      "metadata": {
        "colab": {
          "base_uri": "https://localhost:8080/"
        },
        "id": "XAjE7-UBSRsB",
        "outputId": "e1562bb2-49a7-4d50-c854-3db35e1d5c9b"
      },
      "execution_count": 121,
      "outputs": [
        {
          "output_type": "stream",
          "name": "stdout",
          "text": [
            "XREF ID percent of missing values = 0.00%\n",
            "DISPATCH UNIT percent of missing values = 0.00%\n",
            "DISPATCH CREATED DATE percent of missing values = 0.00%\n",
            "INCIDENT NUMBER percent of missing values = 0.00%\n",
            "1ST UNIT ON SCENE percent of missing values = 19.45%\n",
            "ALARM DATE TIME percent of missing values = 1.41%\n",
            "CALL COMPLETE percent of missing values = 1.41%\n",
            "SHIFT percent of missing values = 3.14%\n"
          ]
        }
      ]
    },
    {
      "cell_type": "markdown",
      "source": [
        "Calculated the percent of missing values for each column, with the column '1ST UNIT ON SCENE' having the highest rate of missing values."
      ],
      "metadata": {
        "id": "Mj-palIEVYdt"
      }
    },
    {
      "cell_type": "markdown",
      "source": [
        "## 3. Identifying Issues in the Data"
      ],
      "metadata": {
        "id": "h0Jm4Di1VgzP"
      }
    },
    {
      "cell_type": "markdown",
      "source": [
        "Based on the prior task, we know that there are lots of **missing values**, that is one issue with the data."
      ],
      "metadata": {
        "id": "YdEXiucCW78i"
      }
    },
    {
      "cell_type": "code",
      "source": [
        "df.dtypes"
      ],
      "metadata": {
        "colab": {
          "base_uri": "https://localhost:8080/",
          "height": 335
        },
        "id": "trUe0AbtWIOI",
        "outputId": "b150538b-4ee6-4805-f992-d6524c903fc6"
      },
      "execution_count": 122,
      "outputs": [
        {
          "output_type": "execute_result",
          "data": {
            "text/plain": [
              "XREF ID                           int64\n",
              "DISPATCH UNIT                    object\n",
              "DISPATCH CREATED DATE    datetime64[ns]\n",
              "INCIDENT NUMBER                  object\n",
              "1ST UNIT ON SCENE                object\n",
              "ALARM DATE TIME                  object\n",
              "CALL COMPLETE                    object\n",
              "SHIFT                            object\n",
              "dtype: object"
            ],
            "text/html": [
              "<div>\n",
              "<style scoped>\n",
              "    .dataframe tbody tr th:only-of-type {\n",
              "        vertical-align: middle;\n",
              "    }\n",
              "\n",
              "    .dataframe tbody tr th {\n",
              "        vertical-align: top;\n",
              "    }\n",
              "\n",
              "    .dataframe thead th {\n",
              "        text-align: right;\n",
              "    }\n",
              "</style>\n",
              "<table border=\"1\" class=\"dataframe\">\n",
              "  <thead>\n",
              "    <tr style=\"text-align: right;\">\n",
              "      <th></th>\n",
              "      <th>0</th>\n",
              "    </tr>\n",
              "  </thead>\n",
              "  <tbody>\n",
              "    <tr>\n",
              "      <th>XREF ID</th>\n",
              "      <td>int64</td>\n",
              "    </tr>\n",
              "    <tr>\n",
              "      <th>DISPATCH UNIT</th>\n",
              "      <td>object</td>\n",
              "    </tr>\n",
              "    <tr>\n",
              "      <th>DISPATCH CREATED DATE</th>\n",
              "      <td>datetime64[ns]</td>\n",
              "    </tr>\n",
              "    <tr>\n",
              "      <th>INCIDENT NUMBER</th>\n",
              "      <td>object</td>\n",
              "    </tr>\n",
              "    <tr>\n",
              "      <th>1ST UNIT ON SCENE</th>\n",
              "      <td>object</td>\n",
              "    </tr>\n",
              "    <tr>\n",
              "      <th>ALARM DATE TIME</th>\n",
              "      <td>object</td>\n",
              "    </tr>\n",
              "    <tr>\n",
              "      <th>CALL COMPLETE</th>\n",
              "      <td>object</td>\n",
              "    </tr>\n",
              "    <tr>\n",
              "      <th>SHIFT</th>\n",
              "      <td>object</td>\n",
              "    </tr>\n",
              "  </tbody>\n",
              "</table>\n",
              "</div><br><label><b>dtype:</b> object</label>"
            ]
          },
          "metadata": {},
          "execution_count": 122
        }
      ]
    },
    {
      "cell_type": "code",
      "source": [
        "df.head()"
      ],
      "metadata": {
        "colab": {
          "base_uri": "https://localhost:8080/",
          "height": 206
        },
        "id": "LED2fvNxZjn7",
        "outputId": "3ca7e8fa-39e9-40fc-876e-9e55c4b25814"
      },
      "execution_count": 123,
      "outputs": [
        {
          "output_type": "execute_result",
          "data": {
            "text/plain": [
              "      XREF ID         DISPATCH UNIT DISPATCH CREATED DATE INCIDENT NUMBER  \\\n",
              "0  2025107105  BAT111, E171, LDR175   2025-03-24 15:54:00         25-1368   \n",
              "1  2025107223                BAT111   2025-03-24 17:28:00         25-1369   \n",
              "2  2025107415                  E171   2025-03-24 21:03:00         25-1370   \n",
              "3  2025107411                  E171   2025-03-24 21:03:00         25-1371   \n",
              "4  2025107384  BAT111, E171, LDR175   2025-03-24 21:43:00         25-1374   \n",
              "\n",
              "  1ST UNIT ON SCENE ALARM DATE TIME CALL COMPLETE SHIFT  \n",
              "0            BC-111   3/24/25 15:46  9/5/25 16:20     C  \n",
              "1            BC-111   3/24/25 17:23  9/5/25 17:55     C  \n",
              "2             E-171   3/24/25 21:02  9/4/25 21:09     C  \n",
              "3               NaN   3/24/25 20:58  9/4/25 21:02     C  \n",
              "4            BC-111   3/24/25 20:30  9/4/25 21:36     C  "
            ],
            "text/html": [
              "\n",
              "  <div id=\"df-5f0efc93-f0d7-4b65-9c0c-586f67fa64a9\" class=\"colab-df-container\">\n",
              "    <div>\n",
              "<style scoped>\n",
              "    .dataframe tbody tr th:only-of-type {\n",
              "        vertical-align: middle;\n",
              "    }\n",
              "\n",
              "    .dataframe tbody tr th {\n",
              "        vertical-align: top;\n",
              "    }\n",
              "\n",
              "    .dataframe thead th {\n",
              "        text-align: right;\n",
              "    }\n",
              "</style>\n",
              "<table border=\"1\" class=\"dataframe\">\n",
              "  <thead>\n",
              "    <tr style=\"text-align: right;\">\n",
              "      <th></th>\n",
              "      <th>XREF ID</th>\n",
              "      <th>DISPATCH UNIT</th>\n",
              "      <th>DISPATCH CREATED DATE</th>\n",
              "      <th>INCIDENT NUMBER</th>\n",
              "      <th>1ST UNIT ON SCENE</th>\n",
              "      <th>ALARM DATE TIME</th>\n",
              "      <th>CALL COMPLETE</th>\n",
              "      <th>SHIFT</th>\n",
              "    </tr>\n",
              "  </thead>\n",
              "  <tbody>\n",
              "    <tr>\n",
              "      <th>0</th>\n",
              "      <td>2025107105</td>\n",
              "      <td>BAT111, E171, LDR175</td>\n",
              "      <td>2025-03-24 15:54:00</td>\n",
              "      <td>25-1368</td>\n",
              "      <td>BC-111</td>\n",
              "      <td>3/24/25 15:46</td>\n",
              "      <td>9/5/25 16:20</td>\n",
              "      <td>C</td>\n",
              "    </tr>\n",
              "    <tr>\n",
              "      <th>1</th>\n",
              "      <td>2025107223</td>\n",
              "      <td>BAT111</td>\n",
              "      <td>2025-03-24 17:28:00</td>\n",
              "      <td>25-1369</td>\n",
              "      <td>BC-111</td>\n",
              "      <td>3/24/25 17:23</td>\n",
              "      <td>9/5/25 17:55</td>\n",
              "      <td>C</td>\n",
              "    </tr>\n",
              "    <tr>\n",
              "      <th>2</th>\n",
              "      <td>2025107415</td>\n",
              "      <td>E171</td>\n",
              "      <td>2025-03-24 21:03:00</td>\n",
              "      <td>25-1370</td>\n",
              "      <td>E-171</td>\n",
              "      <td>3/24/25 21:02</td>\n",
              "      <td>9/4/25 21:09</td>\n",
              "      <td>C</td>\n",
              "    </tr>\n",
              "    <tr>\n",
              "      <th>3</th>\n",
              "      <td>2025107411</td>\n",
              "      <td>E171</td>\n",
              "      <td>2025-03-24 21:03:00</td>\n",
              "      <td>25-1371</td>\n",
              "      <td>NaN</td>\n",
              "      <td>3/24/25 20:58</td>\n",
              "      <td>9/4/25 21:02</td>\n",
              "      <td>C</td>\n",
              "    </tr>\n",
              "    <tr>\n",
              "      <th>4</th>\n",
              "      <td>2025107384</td>\n",
              "      <td>BAT111, E171, LDR175</td>\n",
              "      <td>2025-03-24 21:43:00</td>\n",
              "      <td>25-1374</td>\n",
              "      <td>BC-111</td>\n",
              "      <td>3/24/25 20:30</td>\n",
              "      <td>9/4/25 21:36</td>\n",
              "      <td>C</td>\n",
              "    </tr>\n",
              "  </tbody>\n",
              "</table>\n",
              "</div>\n",
              "    <div class=\"colab-df-buttons\">\n",
              "\n",
              "  <div class=\"colab-df-container\">\n",
              "    <button class=\"colab-df-convert\" onclick=\"convertToInteractive('df-5f0efc93-f0d7-4b65-9c0c-586f67fa64a9')\"\n",
              "            title=\"Convert this dataframe to an interactive table.\"\n",
              "            style=\"display:none;\">\n",
              "\n",
              "  <svg xmlns=\"http://www.w3.org/2000/svg\" height=\"24px\" viewBox=\"0 -960 960 960\">\n",
              "    <path d=\"M120-120v-720h720v720H120Zm60-500h600v-160H180v160Zm220 220h160v-160H400v160Zm0 220h160v-160H400v160ZM180-400h160v-160H180v160Zm440 0h160v-160H620v160ZM180-180h160v-160H180v160Zm440 0h160v-160H620v160Z\"/>\n",
              "  </svg>\n",
              "    </button>\n",
              "\n",
              "  <style>\n",
              "    .colab-df-container {\n",
              "      display:flex;\n",
              "      gap: 12px;\n",
              "    }\n",
              "\n",
              "    .colab-df-convert {\n",
              "      background-color: #E8F0FE;\n",
              "      border: none;\n",
              "      border-radius: 50%;\n",
              "      cursor: pointer;\n",
              "      display: none;\n",
              "      fill: #1967D2;\n",
              "      height: 32px;\n",
              "      padding: 0 0 0 0;\n",
              "      width: 32px;\n",
              "    }\n",
              "\n",
              "    .colab-df-convert:hover {\n",
              "      background-color: #E2EBFA;\n",
              "      box-shadow: 0px 1px 2px rgba(60, 64, 67, 0.3), 0px 1px 3px 1px rgba(60, 64, 67, 0.15);\n",
              "      fill: #174EA6;\n",
              "    }\n",
              "\n",
              "    .colab-df-buttons div {\n",
              "      margin-bottom: 4px;\n",
              "    }\n",
              "\n",
              "    [theme=dark] .colab-df-convert {\n",
              "      background-color: #3B4455;\n",
              "      fill: #D2E3FC;\n",
              "    }\n",
              "\n",
              "    [theme=dark] .colab-df-convert:hover {\n",
              "      background-color: #434B5C;\n",
              "      box-shadow: 0px 1px 3px 1px rgba(0, 0, 0, 0.15);\n",
              "      filter: drop-shadow(0px 1px 2px rgba(0, 0, 0, 0.3));\n",
              "      fill: #FFFFFF;\n",
              "    }\n",
              "  </style>\n",
              "\n",
              "    <script>\n",
              "      const buttonEl =\n",
              "        document.querySelector('#df-5f0efc93-f0d7-4b65-9c0c-586f67fa64a9 button.colab-df-convert');\n",
              "      buttonEl.style.display =\n",
              "        google.colab.kernel.accessAllowed ? 'block' : 'none';\n",
              "\n",
              "      async function convertToInteractive(key) {\n",
              "        const element = document.querySelector('#df-5f0efc93-f0d7-4b65-9c0c-586f67fa64a9');\n",
              "        const dataTable =\n",
              "          await google.colab.kernel.invokeFunction('convertToInteractive',\n",
              "                                                    [key], {});\n",
              "        if (!dataTable) return;\n",
              "\n",
              "        const docLinkHtml = 'Like what you see? Visit the ' +\n",
              "          '<a target=\"_blank\" href=https://colab.research.google.com/notebooks/data_table.ipynb>data table notebook</a>'\n",
              "          + ' to learn more about interactive tables.';\n",
              "        element.innerHTML = '';\n",
              "        dataTable['output_type'] = 'display_data';\n",
              "        await google.colab.output.renderOutput(dataTable, element);\n",
              "        const docLink = document.createElement('div');\n",
              "        docLink.innerHTML = docLinkHtml;\n",
              "        element.appendChild(docLink);\n",
              "      }\n",
              "    </script>\n",
              "  </div>\n",
              "\n",
              "\n",
              "    <div id=\"df-d11a1e84-ade0-4437-bf90-40ea6b4b8a63\">\n",
              "      <button class=\"colab-df-quickchart\" onclick=\"quickchart('df-d11a1e84-ade0-4437-bf90-40ea6b4b8a63')\"\n",
              "                title=\"Suggest charts\"\n",
              "                style=\"display:none;\">\n",
              "\n",
              "<svg xmlns=\"http://www.w3.org/2000/svg\" height=\"24px\"viewBox=\"0 0 24 24\"\n",
              "     width=\"24px\">\n",
              "    <g>\n",
              "        <path d=\"M19 3H5c-1.1 0-2 .9-2 2v14c0 1.1.9 2 2 2h14c1.1 0 2-.9 2-2V5c0-1.1-.9-2-2-2zM9 17H7v-7h2v7zm4 0h-2V7h2v10zm4 0h-2v-4h2v4z\"/>\n",
              "    </g>\n",
              "</svg>\n",
              "      </button>\n",
              "\n",
              "<style>\n",
              "  .colab-df-quickchart {\n",
              "      --bg-color: #E8F0FE;\n",
              "      --fill-color: #1967D2;\n",
              "      --hover-bg-color: #E2EBFA;\n",
              "      --hover-fill-color: #174EA6;\n",
              "      --disabled-fill-color: #AAA;\n",
              "      --disabled-bg-color: #DDD;\n",
              "  }\n",
              "\n",
              "  [theme=dark] .colab-df-quickchart {\n",
              "      --bg-color: #3B4455;\n",
              "      --fill-color: #D2E3FC;\n",
              "      --hover-bg-color: #434B5C;\n",
              "      --hover-fill-color: #FFFFFF;\n",
              "      --disabled-bg-color: #3B4455;\n",
              "      --disabled-fill-color: #666;\n",
              "  }\n",
              "\n",
              "  .colab-df-quickchart {\n",
              "    background-color: var(--bg-color);\n",
              "    border: none;\n",
              "    border-radius: 50%;\n",
              "    cursor: pointer;\n",
              "    display: none;\n",
              "    fill: var(--fill-color);\n",
              "    height: 32px;\n",
              "    padding: 0;\n",
              "    width: 32px;\n",
              "  }\n",
              "\n",
              "  .colab-df-quickchart:hover {\n",
              "    background-color: var(--hover-bg-color);\n",
              "    box-shadow: 0 1px 2px rgba(60, 64, 67, 0.3), 0 1px 3px 1px rgba(60, 64, 67, 0.15);\n",
              "    fill: var(--button-hover-fill-color);\n",
              "  }\n",
              "\n",
              "  .colab-df-quickchart-complete:disabled,\n",
              "  .colab-df-quickchart-complete:disabled:hover {\n",
              "    background-color: var(--disabled-bg-color);\n",
              "    fill: var(--disabled-fill-color);\n",
              "    box-shadow: none;\n",
              "  }\n",
              "\n",
              "  .colab-df-spinner {\n",
              "    border: 2px solid var(--fill-color);\n",
              "    border-color: transparent;\n",
              "    border-bottom-color: var(--fill-color);\n",
              "    animation:\n",
              "      spin 1s steps(1) infinite;\n",
              "  }\n",
              "\n",
              "  @keyframes spin {\n",
              "    0% {\n",
              "      border-color: transparent;\n",
              "      border-bottom-color: var(--fill-color);\n",
              "      border-left-color: var(--fill-color);\n",
              "    }\n",
              "    20% {\n",
              "      border-color: transparent;\n",
              "      border-left-color: var(--fill-color);\n",
              "      border-top-color: var(--fill-color);\n",
              "    }\n",
              "    30% {\n",
              "      border-color: transparent;\n",
              "      border-left-color: var(--fill-color);\n",
              "      border-top-color: var(--fill-color);\n",
              "      border-right-color: var(--fill-color);\n",
              "    }\n",
              "    40% {\n",
              "      border-color: transparent;\n",
              "      border-right-color: var(--fill-color);\n",
              "      border-top-color: var(--fill-color);\n",
              "    }\n",
              "    60% {\n",
              "      border-color: transparent;\n",
              "      border-right-color: var(--fill-color);\n",
              "    }\n",
              "    80% {\n",
              "      border-color: transparent;\n",
              "      border-right-color: var(--fill-color);\n",
              "      border-bottom-color: var(--fill-color);\n",
              "    }\n",
              "    90% {\n",
              "      border-color: transparent;\n",
              "      border-bottom-color: var(--fill-color);\n",
              "    }\n",
              "  }\n",
              "</style>\n",
              "\n",
              "      <script>\n",
              "        async function quickchart(key) {\n",
              "          const quickchartButtonEl =\n",
              "            document.querySelector('#' + key + ' button');\n",
              "          quickchartButtonEl.disabled = true;  // To prevent multiple clicks.\n",
              "          quickchartButtonEl.classList.add('colab-df-spinner');\n",
              "          try {\n",
              "            const charts = await google.colab.kernel.invokeFunction(\n",
              "                'suggestCharts', [key], {});\n",
              "          } catch (error) {\n",
              "            console.error('Error during call to suggestCharts:', error);\n",
              "          }\n",
              "          quickchartButtonEl.classList.remove('colab-df-spinner');\n",
              "          quickchartButtonEl.classList.add('colab-df-quickchart-complete');\n",
              "        }\n",
              "        (() => {\n",
              "          let quickchartButtonEl =\n",
              "            document.querySelector('#df-d11a1e84-ade0-4437-bf90-40ea6b4b8a63 button');\n",
              "          quickchartButtonEl.style.display =\n",
              "            google.colab.kernel.accessAllowed ? 'block' : 'none';\n",
              "        })();\n",
              "      </script>\n",
              "    </div>\n",
              "\n",
              "    </div>\n",
              "  </div>\n"
            ],
            "application/vnd.google.colaboratory.intrinsic+json": {
              "type": "dataframe",
              "variable_name": "df",
              "summary": "{\n  \"name\": \"df\",\n  \"rows\": 2200,\n  \"fields\": [\n    {\n      \"column\": \"XREF ID\",\n      \"properties\": {\n        \"dtype\": \"number\",\n        \"std\": 63599,\n        \"min\": 2025107105,\n        \"max\": 2025326922,\n        \"num_unique_values\": 2200,\n        \"samples\": [\n          2025239234,\n          2025228929,\n          2025276247\n        ],\n        \"semantic_type\": \"\",\n        \"description\": \"\"\n      }\n    },\n    {\n      \"column\": \"DISPATCH UNIT\",\n      \"properties\": {\n        \"dtype\": \"category\",\n        \"num_unique_values\": 53,\n        \"samples\": [\n          \"BAT111, E173, LDR175\",\n          \"BAT111, C101, C102, E171, E172, LDR175, M105\",\n          \"B117, BAT111, E171, E172, LDR175\"\n        ],\n        \"semantic_type\": \"\",\n        \"description\": \"\"\n      }\n    },\n    {\n      \"column\": \"DISPATCH CREATED DATE\",\n      \"properties\": {\n        \"dtype\": \"date\",\n        \"min\": \"2025-03-24 15:54:00\",\n        \"max\": \"2025-08-31 23:03:00\",\n        \"num_unique_values\": 2133,\n        \"samples\": [\n          \"2025-04-11 13:38:00\",\n          \"2025-08-21 15:42:00\",\n          \"2025-07-26 04:13:00\"\n        ],\n        \"semantic_type\": \"\",\n        \"description\": \"\"\n      }\n    },\n    {\n      \"column\": \"INCIDENT NUMBER\",\n      \"properties\": {\n        \"dtype\": \"string\",\n        \"num_unique_values\": 2199,\n        \"samples\": [\n          \"25-1827\",\n          \"25-2563\",\n          \"25-1763\"\n        ],\n        \"semantic_type\": \"\",\n        \"description\": \"\"\n      }\n    },\n    {\n      \"column\": \"1ST UNIT ON SCENE\",\n      \"properties\": {\n        \"dtype\": \"category\",\n        \"num_unique_values\": 10,\n        \"samples\": [\n          \"SRT-117\",\n          \"E-171\",\n          \"C-103\"\n        ],\n        \"semantic_type\": \"\",\n        \"description\": \"\"\n      }\n    },\n    {\n      \"column\": \"ALARM DATE TIME\",\n      \"properties\": {\n        \"dtype\": \"object\",\n        \"num_unique_values\": 2158,\n        \"samples\": [\n          \"5/28/25 2:16\",\n          \"4/16/25 6:00\",\n          \"4/20/25 0:20\"\n        ],\n        \"semantic_type\": \"\",\n        \"description\": \"\"\n      }\n    },\n    {\n      \"column\": \"CALL COMPLETE\",\n      \"properties\": {\n        \"dtype\": \"object\",\n        \"num_unique_values\": 1078,\n        \"samples\": [\n          \"9/4/25 23:42\",\n          \"9/5/25 1:15\",\n          \"9/5/25 3:43\"\n        ],\n        \"semantic_type\": \"\",\n        \"description\": \"\"\n      }\n    },\n    {\n      \"column\": \"SHIFT\",\n      \"properties\": {\n        \"dtype\": \"category\",\n        \"num_unique_values\": 3,\n        \"samples\": [\n          \"C\",\n          \"A\",\n          \"B\"\n        ],\n        \"semantic_type\": \"\",\n        \"description\": \"\"\n      }\n    }\n  ]\n}"
            }
          },
          "metadata": {},
          "execution_count": 123
        }
      ]
    },
    {
      "cell_type": "markdown",
      "source": [
        "Some issues highlighted here are that some columns which represent dates are not in the proper datetime format for manipulation. \"ALARM DATE TIME\" and \"CALL COMPLETE\" are examples of these columns."
      ],
      "metadata": {
        "id": "50V8rfoSZPT8"
      }
    },
    {
      "cell_type": "markdown",
      "source": [
        "Other formatting issues can be found within the \"DISPATCH UNIT\" column, where some rows include different units seperated by commas. This inconsistency can make it tricky to analyze."
      ],
      "metadata": {
        "id": "IiGFlz5VZm15"
      }
    },
    {
      "cell_type": "markdown",
      "source": [
        "Logical errors may exist as well. It is important to check that the value in the \"CALL COMPLETE\" column does not exceed the \"ALARM DATE TIME\" as that wouldn't make sense in this context."
      ],
      "metadata": {
        "id": "iGS3xancZyCS"
      }
    },
    {
      "cell_type": "markdown",
      "source": [
        "Finally, it's important to check for duplicates within the data as well."
      ],
      "metadata": {
        "id": "d5Lno4YBaIwr"
      }
    },
    {
      "cell_type": "markdown",
      "source": [
        "## 4. Resolving Data Issues"
      ],
      "metadata": {
        "id": "plq34f8TaPig"
      }
    },
    {
      "cell_type": "code",
      "source": [
        "# Start by fixing data types\n",
        "df['ALARM DATE TIME'] = pd.to_datetime(df['ALARM DATE TIME'], errors = 'coerce')\n",
        "df['CALL COMPLETE'] = pd.to_datetime(df['CALL COMPLETE'], errors = 'coerce')"
      ],
      "metadata": {
        "id": "5f5x585p0DJE",
        "outputId": "d06f9672-e889-4588-a47c-d1e40e24bd32",
        "colab": {
          "base_uri": "https://localhost:8080/"
        }
      },
      "execution_count": 124,
      "outputs": [
        {
          "output_type": "stream",
          "name": "stderr",
          "text": [
            "/tmp/ipython-input-3653844370.py:2: UserWarning: Could not infer format, so each element will be parsed individually, falling back to `dateutil`. To ensure parsing is consistent and as-expected, please specify a format.\n",
            "  df['ALARM DATE TIME'] = pd.to_datetime(df['ALARM DATE TIME'], errors = 'coerce')\n",
            "/tmp/ipython-input-3653844370.py:3: UserWarning: Could not infer format, so each element will be parsed individually, falling back to `dateutil`. To ensure parsing is consistent and as-expected, please specify a format.\n",
            "  df['CALL COMPLETE'] = pd.to_datetime(df['CALL COMPLETE'], errors = 'coerce')\n"
          ]
        }
      ]
    },
    {
      "cell_type": "code",
      "source": [
        "# Fix dispatch unit column to be split into a list\n",
        "#df['DISPATCH UNIT'] = df['DISPATCH UNIT'].str.split(\", \")"
      ],
      "metadata": {
        "id": "4M3vu8dR0R1W"
      },
      "execution_count": 125,
      "outputs": []
    },
    {
      "cell_type": "code",
      "source": [
        "# Check for logical errors in timestamps\n",
        "df[df['CALL COMPLETE'] < df['ALARM DATE TIME']]\n",
        "# Returns empty df so no issues here"
      ],
      "metadata": {
        "id": "kDtmS-a10raQ",
        "outputId": "c3d91047-a958-48dc-8b8a-eeb800e27cf8",
        "colab": {
          "base_uri": "https://localhost:8080/",
          "height": 53
        }
      },
      "execution_count": 126,
      "outputs": [
        {
          "output_type": "execute_result",
          "data": {
            "text/plain": [
              "Empty DataFrame\n",
              "Columns: [XREF ID, DISPATCH UNIT, DISPATCH CREATED DATE, INCIDENT NUMBER, 1ST UNIT ON SCENE, ALARM DATE TIME, CALL COMPLETE, SHIFT]\n",
              "Index: []"
            ],
            "text/html": [
              "\n",
              "  <div id=\"df-d83ca36d-a5be-4c5e-8936-86833f45a6d2\" class=\"colab-df-container\">\n",
              "    <div>\n",
              "<style scoped>\n",
              "    .dataframe tbody tr th:only-of-type {\n",
              "        vertical-align: middle;\n",
              "    }\n",
              "\n",
              "    .dataframe tbody tr th {\n",
              "        vertical-align: top;\n",
              "    }\n",
              "\n",
              "    .dataframe thead th {\n",
              "        text-align: right;\n",
              "    }\n",
              "</style>\n",
              "<table border=\"1\" class=\"dataframe\">\n",
              "  <thead>\n",
              "    <tr style=\"text-align: right;\">\n",
              "      <th></th>\n",
              "      <th>XREF ID</th>\n",
              "      <th>DISPATCH UNIT</th>\n",
              "      <th>DISPATCH CREATED DATE</th>\n",
              "      <th>INCIDENT NUMBER</th>\n",
              "      <th>1ST UNIT ON SCENE</th>\n",
              "      <th>ALARM DATE TIME</th>\n",
              "      <th>CALL COMPLETE</th>\n",
              "      <th>SHIFT</th>\n",
              "    </tr>\n",
              "  </thead>\n",
              "  <tbody>\n",
              "  </tbody>\n",
              "</table>\n",
              "</div>\n",
              "    <div class=\"colab-df-buttons\">\n",
              "\n",
              "  <div class=\"colab-df-container\">\n",
              "    <button class=\"colab-df-convert\" onclick=\"convertToInteractive('df-d83ca36d-a5be-4c5e-8936-86833f45a6d2')\"\n",
              "            title=\"Convert this dataframe to an interactive table.\"\n",
              "            style=\"display:none;\">\n",
              "\n",
              "  <svg xmlns=\"http://www.w3.org/2000/svg\" height=\"24px\" viewBox=\"0 -960 960 960\">\n",
              "    <path d=\"M120-120v-720h720v720H120Zm60-500h600v-160H180v160Zm220 220h160v-160H400v160Zm0 220h160v-160H400v160ZM180-400h160v-160H180v160Zm440 0h160v-160H620v160ZM180-180h160v-160H180v160Zm440 0h160v-160H620v160Z\"/>\n",
              "  </svg>\n",
              "    </button>\n",
              "\n",
              "  <style>\n",
              "    .colab-df-container {\n",
              "      display:flex;\n",
              "      gap: 12px;\n",
              "    }\n",
              "\n",
              "    .colab-df-convert {\n",
              "      background-color: #E8F0FE;\n",
              "      border: none;\n",
              "      border-radius: 50%;\n",
              "      cursor: pointer;\n",
              "      display: none;\n",
              "      fill: #1967D2;\n",
              "      height: 32px;\n",
              "      padding: 0 0 0 0;\n",
              "      width: 32px;\n",
              "    }\n",
              "\n",
              "    .colab-df-convert:hover {\n",
              "      background-color: #E2EBFA;\n",
              "      box-shadow: 0px 1px 2px rgba(60, 64, 67, 0.3), 0px 1px 3px 1px rgba(60, 64, 67, 0.15);\n",
              "      fill: #174EA6;\n",
              "    }\n",
              "\n",
              "    .colab-df-buttons div {\n",
              "      margin-bottom: 4px;\n",
              "    }\n",
              "\n",
              "    [theme=dark] .colab-df-convert {\n",
              "      background-color: #3B4455;\n",
              "      fill: #D2E3FC;\n",
              "    }\n",
              "\n",
              "    [theme=dark] .colab-df-convert:hover {\n",
              "      background-color: #434B5C;\n",
              "      box-shadow: 0px 1px 3px 1px rgba(0, 0, 0, 0.15);\n",
              "      filter: drop-shadow(0px 1px 2px rgba(0, 0, 0, 0.3));\n",
              "      fill: #FFFFFF;\n",
              "    }\n",
              "  </style>\n",
              "\n",
              "    <script>\n",
              "      const buttonEl =\n",
              "        document.querySelector('#df-d83ca36d-a5be-4c5e-8936-86833f45a6d2 button.colab-df-convert');\n",
              "      buttonEl.style.display =\n",
              "        google.colab.kernel.accessAllowed ? 'block' : 'none';\n",
              "\n",
              "      async function convertToInteractive(key) {\n",
              "        const element = document.querySelector('#df-d83ca36d-a5be-4c5e-8936-86833f45a6d2');\n",
              "        const dataTable =\n",
              "          await google.colab.kernel.invokeFunction('convertToInteractive',\n",
              "                                                    [key], {});\n",
              "        if (!dataTable) return;\n",
              "\n",
              "        const docLinkHtml = 'Like what you see? Visit the ' +\n",
              "          '<a target=\"_blank\" href=https://colab.research.google.com/notebooks/data_table.ipynb>data table notebook</a>'\n",
              "          + ' to learn more about interactive tables.';\n",
              "        element.innerHTML = '';\n",
              "        dataTable['output_type'] = 'display_data';\n",
              "        await google.colab.output.renderOutput(dataTable, element);\n",
              "        const docLink = document.createElement('div');\n",
              "        docLink.innerHTML = docLinkHtml;\n",
              "        element.appendChild(docLink);\n",
              "      }\n",
              "    </script>\n",
              "  </div>\n",
              "\n",
              "\n",
              "    </div>\n",
              "  </div>\n"
            ],
            "application/vnd.google.colaboratory.intrinsic+json": {
              "type": "dataframe",
              "repr_error": "Out of range float values are not JSON compliant: nan"
            }
          },
          "metadata": {},
          "execution_count": 126
        }
      ]
    },
    {
      "cell_type": "code",
      "source": [
        "# Check for duplicates\n",
        "df.duplicated().sum()\n",
        "# No duplicate rows in the dataset"
      ],
      "metadata": {
        "id": "wCtFfmmw04Br",
        "outputId": "01b09548-97e0-4a90-d6b8-3a998056506a",
        "colab": {
          "base_uri": "https://localhost:8080/"
        }
      },
      "execution_count": 127,
      "outputs": [
        {
          "output_type": "execute_result",
          "data": {
            "text/plain": [
              "np.int64(0)"
            ]
          },
          "metadata": {},
          "execution_count": 127
        }
      ]
    },
    {
      "cell_type": "markdown",
      "source": [
        "Assigning ID's to cases:"
      ],
      "metadata": {
        "id": "8dGWxbgu2FIF"
      }
    },
    {
      "cell_type": "code",
      "source": [
        "# Add a new unique ID column starting from 1\n",
        "df.insert(0, \"ID\", range(1, len(df) + 1))\n"
      ],
      "metadata": {
        "id": "rev07Ihz2YXf"
      },
      "execution_count": 128,
      "outputs": []
    },
    {
      "cell_type": "markdown",
      "source": [
        "Dealing with missing values/data:"
      ],
      "metadata": {
        "id": "nyeiZJrW2dFP"
      }
    },
    {
      "cell_type": "code",
      "source": [
        "df.isna().sum()"
      ],
      "metadata": {
        "id": "WqZwpoFa2kBE",
        "outputId": "db0755ae-c5d9-4b77-9d49-8cb5852476b9",
        "colab": {
          "base_uri": "https://localhost:8080/",
          "height": 366
        }
      },
      "execution_count": 129,
      "outputs": [
        {
          "output_type": "execute_result",
          "data": {
            "text/plain": [
              "ID                         0\n",
              "XREF ID                    0\n",
              "DISPATCH UNIT              0\n",
              "DISPATCH CREATED DATE      0\n",
              "INCIDENT NUMBER            0\n",
              "1ST UNIT ON SCENE        428\n",
              "ALARM DATE TIME           31\n",
              "CALL COMPLETE             31\n",
              "SHIFT                     69\n",
              "dtype: int64"
            ],
            "text/html": [
              "<div>\n",
              "<style scoped>\n",
              "    .dataframe tbody tr th:only-of-type {\n",
              "        vertical-align: middle;\n",
              "    }\n",
              "\n",
              "    .dataframe tbody tr th {\n",
              "        vertical-align: top;\n",
              "    }\n",
              "\n",
              "    .dataframe thead th {\n",
              "        text-align: right;\n",
              "    }\n",
              "</style>\n",
              "<table border=\"1\" class=\"dataframe\">\n",
              "  <thead>\n",
              "    <tr style=\"text-align: right;\">\n",
              "      <th></th>\n",
              "      <th>0</th>\n",
              "    </tr>\n",
              "  </thead>\n",
              "  <tbody>\n",
              "    <tr>\n",
              "      <th>ID</th>\n",
              "      <td>0</td>\n",
              "    </tr>\n",
              "    <tr>\n",
              "      <th>XREF ID</th>\n",
              "      <td>0</td>\n",
              "    </tr>\n",
              "    <tr>\n",
              "      <th>DISPATCH UNIT</th>\n",
              "      <td>0</td>\n",
              "    </tr>\n",
              "    <tr>\n",
              "      <th>DISPATCH CREATED DATE</th>\n",
              "      <td>0</td>\n",
              "    </tr>\n",
              "    <tr>\n",
              "      <th>INCIDENT NUMBER</th>\n",
              "      <td>0</td>\n",
              "    </tr>\n",
              "    <tr>\n",
              "      <th>1ST UNIT ON SCENE</th>\n",
              "      <td>428</td>\n",
              "    </tr>\n",
              "    <tr>\n",
              "      <th>ALARM DATE TIME</th>\n",
              "      <td>31</td>\n",
              "    </tr>\n",
              "    <tr>\n",
              "      <th>CALL COMPLETE</th>\n",
              "      <td>31</td>\n",
              "    </tr>\n",
              "    <tr>\n",
              "      <th>SHIFT</th>\n",
              "      <td>69</td>\n",
              "    </tr>\n",
              "  </tbody>\n",
              "</table>\n",
              "</div><br><label><b>dtype:</b> int64</label>"
            ]
          },
          "metadata": {},
          "execution_count": 129
        }
      ]
    },
    {
      "cell_type": "markdown",
      "source": [
        "Replacing missing 1st unit on the scene with 'UNKNOWN' because it is categorical data."
      ],
      "metadata": {
        "id": "iRFG9NIDAlOJ"
      }
    },
    {
      "cell_type": "code",
      "source": [
        "# If there was not a first unit on the scene, no first unit arrived based on the alarm date times and call completes.\n",
        "# Likely attributed to hoaxes or non-emergencies that did not require a dispatch to arrive.\n",
        "# I will choose to replace nulls with \"UKNOWN\", as there could be failed data entry as well.\n",
        "df['1ST UNIT ON SCENE'] = df['1ST UNIT ON SCENE'].fillna(\"UNKNOWN\")\n",
        "df['1ST UNIT ON SCENE'].value_counts()"
      ],
      "metadata": {
        "id": "bNgUIcPo9P93",
        "outputId": "9c0ddbee-6166-40f6-b2bb-efad031ff8bf",
        "colab": {
          "base_uri": "https://localhost:8080/",
          "height": 460
        }
      },
      "execution_count": 130,
      "outputs": [
        {
          "output_type": "execute_result",
          "data": {
            "text/plain": [
              "1ST UNIT ON SCENE\n",
              "L-175      740\n",
              "E-171      507\n",
              "UNKNOWN    428\n",
              "E-172      409\n",
              "BC-111      96\n",
              "C-102        7\n",
              "M-105        4\n",
              "SRT-117      3\n",
              "C-103        2\n",
              "C-107        2\n",
              "C-108        2\n",
              "Name: count, dtype: int64"
            ],
            "text/html": [
              "<div>\n",
              "<style scoped>\n",
              "    .dataframe tbody tr th:only-of-type {\n",
              "        vertical-align: middle;\n",
              "    }\n",
              "\n",
              "    .dataframe tbody tr th {\n",
              "        vertical-align: top;\n",
              "    }\n",
              "\n",
              "    .dataframe thead th {\n",
              "        text-align: right;\n",
              "    }\n",
              "</style>\n",
              "<table border=\"1\" class=\"dataframe\">\n",
              "  <thead>\n",
              "    <tr style=\"text-align: right;\">\n",
              "      <th></th>\n",
              "      <th>count</th>\n",
              "    </tr>\n",
              "    <tr>\n",
              "      <th>1ST UNIT ON SCENE</th>\n",
              "      <th></th>\n",
              "    </tr>\n",
              "  </thead>\n",
              "  <tbody>\n",
              "    <tr>\n",
              "      <th>L-175</th>\n",
              "      <td>740</td>\n",
              "    </tr>\n",
              "    <tr>\n",
              "      <th>E-171</th>\n",
              "      <td>507</td>\n",
              "    </tr>\n",
              "    <tr>\n",
              "      <th>UNKNOWN</th>\n",
              "      <td>428</td>\n",
              "    </tr>\n",
              "    <tr>\n",
              "      <th>E-172</th>\n",
              "      <td>409</td>\n",
              "    </tr>\n",
              "    <tr>\n",
              "      <th>BC-111</th>\n",
              "      <td>96</td>\n",
              "    </tr>\n",
              "    <tr>\n",
              "      <th>C-102</th>\n",
              "      <td>7</td>\n",
              "    </tr>\n",
              "    <tr>\n",
              "      <th>M-105</th>\n",
              "      <td>4</td>\n",
              "    </tr>\n",
              "    <tr>\n",
              "      <th>SRT-117</th>\n",
              "      <td>3</td>\n",
              "    </tr>\n",
              "    <tr>\n",
              "      <th>C-103</th>\n",
              "      <td>2</td>\n",
              "    </tr>\n",
              "    <tr>\n",
              "      <th>C-107</th>\n",
              "      <td>2</td>\n",
              "    </tr>\n",
              "    <tr>\n",
              "      <th>C-108</th>\n",
              "      <td>2</td>\n",
              "    </tr>\n",
              "  </tbody>\n",
              "</table>\n",
              "</div><br><label><b>dtype:</b> int64</label>"
            ]
          },
          "metadata": {},
          "execution_count": 130
        }
      ]
    },
    {
      "cell_type": "code",
      "source": [
        "# This line proves that the alarm date time and call complete values are both null at the same time\n",
        "len(df[df['ALARM DATE TIME'].isna() & df['CALL COMPLETE'].isna()])"
      ],
      "metadata": {
        "id": "6F59Bryn75qA",
        "outputId": "d91ff4a6-57ae-41ba-d4ab-cfc0a998650d",
        "colab": {
          "base_uri": "https://localhost:8080/"
        }
      },
      "execution_count": 131,
      "outputs": [
        {
          "output_type": "execute_result",
          "data": {
            "text/plain": [
              "31"
            ]
          },
          "metadata": {},
          "execution_count": 131
        }
      ]
    },
    {
      "cell_type": "markdown",
      "source": [
        "Time stamps will be replaced with their average difference from \"DISPATCH CREATED DATE\" column"
      ],
      "metadata": {
        "id": "jwdCa_tIAXv4"
      }
    },
    {
      "cell_type": "code",
      "source": [
        "# Replace ALARM DATE TIME with average difference between DISPATCH CREATED DATE and ALARM DATE TIME of recorded values\n",
        "# Replace CALL COMPLETE with average difference between DISPATCH CREATED DATE and CALL COMPLETE of recorded values\n",
        "\n",
        "# For ALARM DATE TIME\n",
        "alarm_diffs = (df[\"ALARM DATE TIME\"] - df[\"DISPATCH CREATED DATE\"]).dropna()\n",
        "avg_alarm_diff = alarm_diffs.mean()\n",
        "\n",
        "# For CALL COMPLETE\n",
        "complete_diffs = (df[\"CALL COMPLETE\"] - df[\"DISPATCH CREATED DATE\"]).dropna()\n",
        "avg_complete_diff = complete_diffs.mean()\n",
        "\n",
        "df.loc[df[\"ALARM DATE TIME\"].isna(), \"ALARM DATE TIME\"] = (\n",
        "    df.loc[df[\"ALARM DATE TIME\"].isna(), \"DISPATCH CREATED DATE\"] + avg_alarm_diff\n",
        ")\n",
        "\n",
        "df.loc[df[\"CALL COMPLETE\"].isna(), \"CALL COMPLETE\"] = (\n",
        "    df.loc[df[\"CALL COMPLETE\"].isna(), \"DISPATCH CREATED DATE\"] + avg_complete_diff\n",
        ")\n"
      ],
      "metadata": {
        "id": "l7eLVwBL88ZG"
      },
      "execution_count": 132,
      "outputs": []
    },
    {
      "cell_type": "markdown",
      "source": [
        "At first I thought that shifts may be able to be calculated based on the time of day but..."
      ],
      "metadata": {
        "id": "ryYIuRhHATlH"
      }
    },
    {
      "cell_type": "code",
      "source": [
        "df[\"HOUR\"] = df[\"DISPATCH CREATED DATE\"].dt.hour\n",
        "\n",
        "shift_hours = df.groupby(\"SHIFT\")[\"HOUR\"].describe()\n",
        "print(shift_hours)"
      ],
      "metadata": {
        "id": "Na0S1Uaz_aO1",
        "outputId": "d7964325-7281-4c03-8590-299a6ab08e56",
        "colab": {
          "base_uri": "https://localhost:8080/"
        }
      },
      "execution_count": 133,
      "outputs": [
        {
          "output_type": "stream",
          "name": "stdout",
          "text": [
            "       count       mean       std  min   25%   50%   75%   max\n",
            "SHIFT                                                         \n",
            "A      735.0  13.458503  5.879638  0.0  10.0  14.0  18.0  23.0\n",
            "B      677.0  13.567208  5.776174  0.0  10.0  14.0  18.0  23.0\n",
            "C      719.0  13.150209  6.030306  0.0   9.0  14.0  18.0  23.0\n"
          ]
        }
      ]
    },
    {
      "cell_type": "markdown",
      "source": [
        "Looking at the min and max values, we can see that the shifts are not assigned by time of day. In that case, we will treat the shifts as categorical and set them as \"UNKNOWN\""
      ],
      "metadata": {
        "id": "yYnubno2BQ6b"
      }
    },
    {
      "cell_type": "code",
      "source": [
        "df['SHIFT'] = df['SHIFT'].fillna('UNKNOWN')"
      ],
      "metadata": {
        "id": "AH4s4b88Bt-U"
      },
      "execution_count": 134,
      "outputs": []
    },
    {
      "cell_type": "code",
      "source": [
        "df.isna().sum()\n",
        "# Finally we have no more null values:"
      ],
      "metadata": {
        "id": "RHqZhPDmBzpM",
        "outputId": "78873adc-41a6-44e5-8872-d077a6831b93",
        "colab": {
          "base_uri": "https://localhost:8080/",
          "height": 398
        }
      },
      "execution_count": 136,
      "outputs": [
        {
          "output_type": "execute_result",
          "data": {
            "text/plain": [
              "ID                       0\n",
              "XREF ID                  0\n",
              "DISPATCH UNIT            0\n",
              "DISPATCH CREATED DATE    0\n",
              "INCIDENT NUMBER          0\n",
              "1ST UNIT ON SCENE        0\n",
              "ALARM DATE TIME          0\n",
              "CALL COMPLETE            0\n",
              "SHIFT                    0\n",
              "HOUR                     0\n",
              "dtype: int64"
            ],
            "text/html": [
              "<div>\n",
              "<style scoped>\n",
              "    .dataframe tbody tr th:only-of-type {\n",
              "        vertical-align: middle;\n",
              "    }\n",
              "\n",
              "    .dataframe tbody tr th {\n",
              "        vertical-align: top;\n",
              "    }\n",
              "\n",
              "    .dataframe thead th {\n",
              "        text-align: right;\n",
              "    }\n",
              "</style>\n",
              "<table border=\"1\" class=\"dataframe\">\n",
              "  <thead>\n",
              "    <tr style=\"text-align: right;\">\n",
              "      <th></th>\n",
              "      <th>0</th>\n",
              "    </tr>\n",
              "  </thead>\n",
              "  <tbody>\n",
              "    <tr>\n",
              "      <th>ID</th>\n",
              "      <td>0</td>\n",
              "    </tr>\n",
              "    <tr>\n",
              "      <th>XREF ID</th>\n",
              "      <td>0</td>\n",
              "    </tr>\n",
              "    <tr>\n",
              "      <th>DISPATCH UNIT</th>\n",
              "      <td>0</td>\n",
              "    </tr>\n",
              "    <tr>\n",
              "      <th>DISPATCH CREATED DATE</th>\n",
              "      <td>0</td>\n",
              "    </tr>\n",
              "    <tr>\n",
              "      <th>INCIDENT NUMBER</th>\n",
              "      <td>0</td>\n",
              "    </tr>\n",
              "    <tr>\n",
              "      <th>1ST UNIT ON SCENE</th>\n",
              "      <td>0</td>\n",
              "    </tr>\n",
              "    <tr>\n",
              "      <th>ALARM DATE TIME</th>\n",
              "      <td>0</td>\n",
              "    </tr>\n",
              "    <tr>\n",
              "      <th>CALL COMPLETE</th>\n",
              "      <td>0</td>\n",
              "    </tr>\n",
              "    <tr>\n",
              "      <th>SHIFT</th>\n",
              "      <td>0</td>\n",
              "    </tr>\n",
              "    <tr>\n",
              "      <th>HOUR</th>\n",
              "      <td>0</td>\n",
              "    </tr>\n",
              "  </tbody>\n",
              "</table>\n",
              "</div><br><label><b>dtype:</b> int64</label>"
            ]
          },
          "metadata": {},
          "execution_count": 136
        }
      ]
    },
    {
      "cell_type": "markdown",
      "source": [],
      "metadata": {
        "id": "lF9_cJwnB_JC"
      }
    }
  ]
}