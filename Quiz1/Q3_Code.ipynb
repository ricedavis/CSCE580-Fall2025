{
  "nbformat": 4,
  "nbformat_minor": 0,
  "metadata": {
    "colab": {
      "provenance": [],
      "authorship_tag": "ABX9TyMjycJf71LaX1eaiVFU+axs",
      "include_colab_link": true
    },
    "kernelspec": {
      "name": "python3",
      "display_name": "Python 3"
    },
    "language_info": {
      "name": "python"
    }
  },
  "cells": [
    {
      "cell_type": "markdown",
      "metadata": {
        "id": "view-in-github",
        "colab_type": "text"
      },
      "source": [
        "<a href=\"https://colab.research.google.com/github/ricedavis/CSCE580-Fall2025/blob/main/Quiz1/Q3_Code.ipynb\" target=\"_parent\"><img src=\"https://colab.research.google.com/assets/colab-badge.svg\" alt=\"Open In Colab\"/></a>"
      ]
    },
    {
      "cell_type": "markdown",
      "source": [
        "# a. Data Issues"
      ],
      "metadata": {
        "id": "nQPomX8pQqny"
      }
    },
    {
      "cell_type": "code",
      "execution_count": 149,
      "metadata": {
        "id": "w2BR1hdfMI0K",
        "colab": {
          "base_uri": "https://localhost:8080/"
        },
        "outputId": "f5320345-7d90-4edb-e9a8-b48b0d1ba5aa"
      },
      "outputs": [
        {
          "output_type": "stream",
          "name": "stdout",
          "text": [
            "Drive already mounted at /content/drive; to attempt to forcibly remount, call drive.mount(\"/content/drive\", force_remount=True).\n"
          ]
        }
      ],
      "source": [
        "from google.colab import drive\n",
        "drive.mount('/content/drive')"
      ]
    },
    {
      "cell_type": "code",
      "source": [
        "import pandas as pd"
      ],
      "metadata": {
        "id": "co2UP8DlOK9x"
      },
      "execution_count": 150,
      "outputs": []
    },
    {
      "cell_type": "code",
      "source": [
        "df = pd.read_csv('/content/drive/MyDrive/Redacted-Department _ CAD Reconciliation.csv')"
      ],
      "metadata": {
        "id": "DC31bIQ4OOwx"
      },
      "execution_count": 151,
      "outputs": []
    },
    {
      "cell_type": "code",
      "source": [
        "df.head()"
      ],
      "metadata": {
        "colab": {
          "base_uri": "https://localhost:8080/",
          "height": 206
        },
        "id": "OS2FZ5Z2O1Rj",
        "outputId": "4dae4326-f606-4c40-ee9b-21d12b47e97f"
      },
      "execution_count": 152,
      "outputs": [
        {
          "output_type": "execute_result",
          "data": {
            "text/plain": [
              "      XREF ID         DISPATCH UNIT DISPATCH CREATED DATE INCIDENT NUMBER  \\\n",
              "0  2025107105  BAT111, E171, LDR175         3/24/25 15:54         25-1368   \n",
              "1  2025107223                BAT111         3/24/25 17:28         25-1369   \n",
              "2  2025107415                  E171         3/24/25 21:03         25-1370   \n",
              "3  2025107411                  E171         3/24/25 21:03         25-1371   \n",
              "4  2025107384  BAT111, E171, LDR175         3/24/25 21:43         25-1374   \n",
              "\n",
              "  1ST UNIT ON SCENE ALARM DATE TIME CALL COMPLETE SHIFT  \n",
              "0            BC-111   3/24/25 15:46  9/5/25 16:20     C  \n",
              "1            BC-111   3/24/25 17:23  9/5/25 17:55     C  \n",
              "2             E-171   3/24/25 21:02  9/4/25 21:09     C  \n",
              "3               NaN   3/24/25 20:58  9/4/25 21:02     C  \n",
              "4            BC-111   3/24/25 20:30  9/4/25 21:36     C  "
            ],
            "text/html": [
              "\n",
              "  <div id=\"df-fef40fc6-3e8b-4d88-bbff-2dda425294b3\" class=\"colab-df-container\">\n",
              "    <div>\n",
              "<style scoped>\n",
              "    .dataframe tbody tr th:only-of-type {\n",
              "        vertical-align: middle;\n",
              "    }\n",
              "\n",
              "    .dataframe tbody tr th {\n",
              "        vertical-align: top;\n",
              "    }\n",
              "\n",
              "    .dataframe thead th {\n",
              "        text-align: right;\n",
              "    }\n",
              "</style>\n",
              "<table border=\"1\" class=\"dataframe\">\n",
              "  <thead>\n",
              "    <tr style=\"text-align: right;\">\n",
              "      <th></th>\n",
              "      <th>XREF ID</th>\n",
              "      <th>DISPATCH UNIT</th>\n",
              "      <th>DISPATCH CREATED DATE</th>\n",
              "      <th>INCIDENT NUMBER</th>\n",
              "      <th>1ST UNIT ON SCENE</th>\n",
              "      <th>ALARM DATE TIME</th>\n",
              "      <th>CALL COMPLETE</th>\n",
              "      <th>SHIFT</th>\n",
              "    </tr>\n",
              "  </thead>\n",
              "  <tbody>\n",
              "    <tr>\n",
              "      <th>0</th>\n",
              "      <td>2025107105</td>\n",
              "      <td>BAT111, E171, LDR175</td>\n",
              "      <td>3/24/25 15:54</td>\n",
              "      <td>25-1368</td>\n",
              "      <td>BC-111</td>\n",
              "      <td>3/24/25 15:46</td>\n",
              "      <td>9/5/25 16:20</td>\n",
              "      <td>C</td>\n",
              "    </tr>\n",
              "    <tr>\n",
              "      <th>1</th>\n",
              "      <td>2025107223</td>\n",
              "      <td>BAT111</td>\n",
              "      <td>3/24/25 17:28</td>\n",
              "      <td>25-1369</td>\n",
              "      <td>BC-111</td>\n",
              "      <td>3/24/25 17:23</td>\n",
              "      <td>9/5/25 17:55</td>\n",
              "      <td>C</td>\n",
              "    </tr>\n",
              "    <tr>\n",
              "      <th>2</th>\n",
              "      <td>2025107415</td>\n",
              "      <td>E171</td>\n",
              "      <td>3/24/25 21:03</td>\n",
              "      <td>25-1370</td>\n",
              "      <td>E-171</td>\n",
              "      <td>3/24/25 21:02</td>\n",
              "      <td>9/4/25 21:09</td>\n",
              "      <td>C</td>\n",
              "    </tr>\n",
              "    <tr>\n",
              "      <th>3</th>\n",
              "      <td>2025107411</td>\n",
              "      <td>E171</td>\n",
              "      <td>3/24/25 21:03</td>\n",
              "      <td>25-1371</td>\n",
              "      <td>NaN</td>\n",
              "      <td>3/24/25 20:58</td>\n",
              "      <td>9/4/25 21:02</td>\n",
              "      <td>C</td>\n",
              "    </tr>\n",
              "    <tr>\n",
              "      <th>4</th>\n",
              "      <td>2025107384</td>\n",
              "      <td>BAT111, E171, LDR175</td>\n",
              "      <td>3/24/25 21:43</td>\n",
              "      <td>25-1374</td>\n",
              "      <td>BC-111</td>\n",
              "      <td>3/24/25 20:30</td>\n",
              "      <td>9/4/25 21:36</td>\n",
              "      <td>C</td>\n",
              "    </tr>\n",
              "  </tbody>\n",
              "</table>\n",
              "</div>\n",
              "    <div class=\"colab-df-buttons\">\n",
              "\n",
              "  <div class=\"colab-df-container\">\n",
              "    <button class=\"colab-df-convert\" onclick=\"convertToInteractive('df-fef40fc6-3e8b-4d88-bbff-2dda425294b3')\"\n",
              "            title=\"Convert this dataframe to an interactive table.\"\n",
              "            style=\"display:none;\">\n",
              "\n",
              "  <svg xmlns=\"http://www.w3.org/2000/svg\" height=\"24px\" viewBox=\"0 -960 960 960\">\n",
              "    <path d=\"M120-120v-720h720v720H120Zm60-500h600v-160H180v160Zm220 220h160v-160H400v160Zm0 220h160v-160H400v160ZM180-400h160v-160H180v160Zm440 0h160v-160H620v160ZM180-180h160v-160H180v160Zm440 0h160v-160H620v160Z\"/>\n",
              "  </svg>\n",
              "    </button>\n",
              "\n",
              "  <style>\n",
              "    .colab-df-container {\n",
              "      display:flex;\n",
              "      gap: 12px;\n",
              "    }\n",
              "\n",
              "    .colab-df-convert {\n",
              "      background-color: #E8F0FE;\n",
              "      border: none;\n",
              "      border-radius: 50%;\n",
              "      cursor: pointer;\n",
              "      display: none;\n",
              "      fill: #1967D2;\n",
              "      height: 32px;\n",
              "      padding: 0 0 0 0;\n",
              "      width: 32px;\n",
              "    }\n",
              "\n",
              "    .colab-df-convert:hover {\n",
              "      background-color: #E2EBFA;\n",
              "      box-shadow: 0px 1px 2px rgba(60, 64, 67, 0.3), 0px 1px 3px 1px rgba(60, 64, 67, 0.15);\n",
              "      fill: #174EA6;\n",
              "    }\n",
              "\n",
              "    .colab-df-buttons div {\n",
              "      margin-bottom: 4px;\n",
              "    }\n",
              "\n",
              "    [theme=dark] .colab-df-convert {\n",
              "      background-color: #3B4455;\n",
              "      fill: #D2E3FC;\n",
              "    }\n",
              "\n",
              "    [theme=dark] .colab-df-convert:hover {\n",
              "      background-color: #434B5C;\n",
              "      box-shadow: 0px 1px 3px 1px rgba(0, 0, 0, 0.15);\n",
              "      filter: drop-shadow(0px 1px 2px rgba(0, 0, 0, 0.3));\n",
              "      fill: #FFFFFF;\n",
              "    }\n",
              "  </style>\n",
              "\n",
              "    <script>\n",
              "      const buttonEl =\n",
              "        document.querySelector('#df-fef40fc6-3e8b-4d88-bbff-2dda425294b3 button.colab-df-convert');\n",
              "      buttonEl.style.display =\n",
              "        google.colab.kernel.accessAllowed ? 'block' : 'none';\n",
              "\n",
              "      async function convertToInteractive(key) {\n",
              "        const element = document.querySelector('#df-fef40fc6-3e8b-4d88-bbff-2dda425294b3');\n",
              "        const dataTable =\n",
              "          await google.colab.kernel.invokeFunction('convertToInteractive',\n",
              "                                                    [key], {});\n",
              "        if (!dataTable) return;\n",
              "\n",
              "        const docLinkHtml = 'Like what you see? Visit the ' +\n",
              "          '<a target=\"_blank\" href=https://colab.research.google.com/notebooks/data_table.ipynb>data table notebook</a>'\n",
              "          + ' to learn more about interactive tables.';\n",
              "        element.innerHTML = '';\n",
              "        dataTable['output_type'] = 'display_data';\n",
              "        await google.colab.output.renderOutput(dataTable, element);\n",
              "        const docLink = document.createElement('div');\n",
              "        docLink.innerHTML = docLinkHtml;\n",
              "        element.appendChild(docLink);\n",
              "      }\n",
              "    </script>\n",
              "  </div>\n",
              "\n",
              "\n",
              "    <div id=\"df-13eb3c76-6339-4554-9d42-edd1109b1424\">\n",
              "      <button class=\"colab-df-quickchart\" onclick=\"quickchart('df-13eb3c76-6339-4554-9d42-edd1109b1424')\"\n",
              "                title=\"Suggest charts\"\n",
              "                style=\"display:none;\">\n",
              "\n",
              "<svg xmlns=\"http://www.w3.org/2000/svg\" height=\"24px\"viewBox=\"0 0 24 24\"\n",
              "     width=\"24px\">\n",
              "    <g>\n",
              "        <path d=\"M19 3H5c-1.1 0-2 .9-2 2v14c0 1.1.9 2 2 2h14c1.1 0 2-.9 2-2V5c0-1.1-.9-2-2-2zM9 17H7v-7h2v7zm4 0h-2V7h2v10zm4 0h-2v-4h2v4z\"/>\n",
              "    </g>\n",
              "</svg>\n",
              "      </button>\n",
              "\n",
              "<style>\n",
              "  .colab-df-quickchart {\n",
              "      --bg-color: #E8F0FE;\n",
              "      --fill-color: #1967D2;\n",
              "      --hover-bg-color: #E2EBFA;\n",
              "      --hover-fill-color: #174EA6;\n",
              "      --disabled-fill-color: #AAA;\n",
              "      --disabled-bg-color: #DDD;\n",
              "  }\n",
              "\n",
              "  [theme=dark] .colab-df-quickchart {\n",
              "      --bg-color: #3B4455;\n",
              "      --fill-color: #D2E3FC;\n",
              "      --hover-bg-color: #434B5C;\n",
              "      --hover-fill-color: #FFFFFF;\n",
              "      --disabled-bg-color: #3B4455;\n",
              "      --disabled-fill-color: #666;\n",
              "  }\n",
              "\n",
              "  .colab-df-quickchart {\n",
              "    background-color: var(--bg-color);\n",
              "    border: none;\n",
              "    border-radius: 50%;\n",
              "    cursor: pointer;\n",
              "    display: none;\n",
              "    fill: var(--fill-color);\n",
              "    height: 32px;\n",
              "    padding: 0;\n",
              "    width: 32px;\n",
              "  }\n",
              "\n",
              "  .colab-df-quickchart:hover {\n",
              "    background-color: var(--hover-bg-color);\n",
              "    box-shadow: 0 1px 2px rgba(60, 64, 67, 0.3), 0 1px 3px 1px rgba(60, 64, 67, 0.15);\n",
              "    fill: var(--button-hover-fill-color);\n",
              "  }\n",
              "\n",
              "  .colab-df-quickchart-complete:disabled,\n",
              "  .colab-df-quickchart-complete:disabled:hover {\n",
              "    background-color: var(--disabled-bg-color);\n",
              "    fill: var(--disabled-fill-color);\n",
              "    box-shadow: none;\n",
              "  }\n",
              "\n",
              "  .colab-df-spinner {\n",
              "    border: 2px solid var(--fill-color);\n",
              "    border-color: transparent;\n",
              "    border-bottom-color: var(--fill-color);\n",
              "    animation:\n",
              "      spin 1s steps(1) infinite;\n",
              "  }\n",
              "\n",
              "  @keyframes spin {\n",
              "    0% {\n",
              "      border-color: transparent;\n",
              "      border-bottom-color: var(--fill-color);\n",
              "      border-left-color: var(--fill-color);\n",
              "    }\n",
              "    20% {\n",
              "      border-color: transparent;\n",
              "      border-left-color: var(--fill-color);\n",
              "      border-top-color: var(--fill-color);\n",
              "    }\n",
              "    30% {\n",
              "      border-color: transparent;\n",
              "      border-left-color: var(--fill-color);\n",
              "      border-top-color: var(--fill-color);\n",
              "      border-right-color: var(--fill-color);\n",
              "    }\n",
              "    40% {\n",
              "      border-color: transparent;\n",
              "      border-right-color: var(--fill-color);\n",
              "      border-top-color: var(--fill-color);\n",
              "    }\n",
              "    60% {\n",
              "      border-color: transparent;\n",
              "      border-right-color: var(--fill-color);\n",
              "    }\n",
              "    80% {\n",
              "      border-color: transparent;\n",
              "      border-right-color: var(--fill-color);\n",
              "      border-bottom-color: var(--fill-color);\n",
              "    }\n",
              "    90% {\n",
              "      border-color: transparent;\n",
              "      border-bottom-color: var(--fill-color);\n",
              "    }\n",
              "  }\n",
              "</style>\n",
              "\n",
              "      <script>\n",
              "        async function quickchart(key) {\n",
              "          const quickchartButtonEl =\n",
              "            document.querySelector('#' + key + ' button');\n",
              "          quickchartButtonEl.disabled = true;  // To prevent multiple clicks.\n",
              "          quickchartButtonEl.classList.add('colab-df-spinner');\n",
              "          try {\n",
              "            const charts = await google.colab.kernel.invokeFunction(\n",
              "                'suggestCharts', [key], {});\n",
              "          } catch (error) {\n",
              "            console.error('Error during call to suggestCharts:', error);\n",
              "          }\n",
              "          quickchartButtonEl.classList.remove('colab-df-spinner');\n",
              "          quickchartButtonEl.classList.add('colab-df-quickchart-complete');\n",
              "        }\n",
              "        (() => {\n",
              "          let quickchartButtonEl =\n",
              "            document.querySelector('#df-13eb3c76-6339-4554-9d42-edd1109b1424 button');\n",
              "          quickchartButtonEl.style.display =\n",
              "            google.colab.kernel.accessAllowed ? 'block' : 'none';\n",
              "        })();\n",
              "      </script>\n",
              "    </div>\n",
              "\n",
              "    </div>\n",
              "  </div>\n"
            ],
            "application/vnd.google.colaboratory.intrinsic+json": {
              "type": "dataframe",
              "variable_name": "df",
              "summary": "{\n  \"name\": \"df\",\n  \"rows\": 2200,\n  \"fields\": [\n    {\n      \"column\": \"XREF ID\",\n      \"properties\": {\n        \"dtype\": \"number\",\n        \"std\": 63599,\n        \"min\": 2025107105,\n        \"max\": 2025326922,\n        \"num_unique_values\": 2200,\n        \"samples\": [\n          2025239234,\n          2025228929,\n          2025276247\n        ],\n        \"semantic_type\": \"\",\n        \"description\": \"\"\n      }\n    },\n    {\n      \"column\": \"DISPATCH UNIT\",\n      \"properties\": {\n        \"dtype\": \"category\",\n        \"num_unique_values\": 53,\n        \"samples\": [\n          \"BAT111, E173, LDR175\",\n          \"BAT111, C101, C102, E171, E172, LDR175, M105\",\n          \"B117, BAT111, E171, E172, LDR175\"\n        ],\n        \"semantic_type\": \"\",\n        \"description\": \"\"\n      }\n    },\n    {\n      \"column\": \"DISPATCH CREATED DATE\",\n      \"properties\": {\n        \"dtype\": \"object\",\n        \"num_unique_values\": 2133,\n        \"samples\": [\n          \"4/11/25 13:38\",\n          \"8/21/25 15:42\",\n          \"7/26/25 4:13\"\n        ],\n        \"semantic_type\": \"\",\n        \"description\": \"\"\n      }\n    },\n    {\n      \"column\": \"INCIDENT NUMBER\",\n      \"properties\": {\n        \"dtype\": \"string\",\n        \"num_unique_values\": 2199,\n        \"samples\": [\n          \"25-1827\",\n          \"25-2563\",\n          \"25-1763\"\n        ],\n        \"semantic_type\": \"\",\n        \"description\": \"\"\n      }\n    },\n    {\n      \"column\": \"1ST UNIT ON SCENE\",\n      \"properties\": {\n        \"dtype\": \"category\",\n        \"num_unique_values\": 10,\n        \"samples\": [\n          \"SRT-117\",\n          \"E-171\",\n          \"C-103\"\n        ],\n        \"semantic_type\": \"\",\n        \"description\": \"\"\n      }\n    },\n    {\n      \"column\": \"ALARM DATE TIME\",\n      \"properties\": {\n        \"dtype\": \"object\",\n        \"num_unique_values\": 2158,\n        \"samples\": [\n          \"5/28/25 2:16\",\n          \"4/16/25 6:00\",\n          \"4/20/25 0:20\"\n        ],\n        \"semantic_type\": \"\",\n        \"description\": \"\"\n      }\n    },\n    {\n      \"column\": \"CALL COMPLETE\",\n      \"properties\": {\n        \"dtype\": \"object\",\n        \"num_unique_values\": 1078,\n        \"samples\": [\n          \"9/4/25 23:42\",\n          \"9/5/25 1:15\",\n          \"9/5/25 3:43\"\n        ],\n        \"semantic_type\": \"\",\n        \"description\": \"\"\n      }\n    },\n    {\n      \"column\": \"SHIFT\",\n      \"properties\": {\n        \"dtype\": \"category\",\n        \"num_unique_values\": 3,\n        \"samples\": [\n          \"C\",\n          \"A\",\n          \"B\"\n        ],\n        \"semantic_type\": \"\",\n        \"description\": \"\"\n      }\n    }\n  ]\n}"
            }
          },
          "metadata": {},
          "execution_count": 152
        }
      ]
    },
    {
      "cell_type": "markdown",
      "source": [
        "## 1. Range of Data"
      ],
      "metadata": {
        "id": "QK0y6R5HQvYr"
      }
    },
    {
      "cell_type": "code",
      "source": [
        "df['DISPATCH CREATED DATE'] = pd.to_datetime(df['DISPATCH CREATED DATE'], errors = 'coerce')"
      ],
      "metadata": {
        "colab": {
          "base_uri": "https://localhost:8080/"
        },
        "id": "Kc6mfUC5PwCX",
        "outputId": "25a1c9fb-4728-4145-9013-6cda85c4aa73"
      },
      "execution_count": 153,
      "outputs": [
        {
          "output_type": "stream",
          "name": "stderr",
          "text": [
            "/tmp/ipython-input-3650422554.py:1: UserWarning: Could not infer format, so each element will be parsed individually, falling back to `dateutil`. To ensure parsing is consistent and as-expected, please specify a format.\n",
            "  df['DISPATCH CREATED DATE'] = pd.to_datetime(df['DISPATCH CREATED DATE'], errors = 'coerce')\n"
          ]
        }
      ]
    },
    {
      "cell_type": "code",
      "source": [
        "# Calculate the range of data by taking the last entry time minus the first entry time\n",
        "print(f\"min: {df['DISPATCH CREATED DATE'].min()}, max: {df['DISPATCH CREATED DATE'].max()}\")\n",
        "time_range = df['DISPATCH CREATED DATE'].max() - df['DISPATCH CREATED DATE'].min()\n",
        "time_range"
      ],
      "metadata": {
        "colab": {
          "base_uri": "https://localhost:8080/"
        },
        "id": "bAMradT6QKHW",
        "outputId": "95839fbd-7d82-49e8-bafb-b9ba8447a797"
      },
      "execution_count": 154,
      "outputs": [
        {
          "output_type": "stream",
          "name": "stdout",
          "text": [
            "min: 2025-03-24 15:54:00, max: 2025-08-31 23:03:00\n"
          ]
        },
        {
          "output_type": "execute_result",
          "data": {
            "text/plain": [
              "Timedelta('160 days 07:09:00')"
            ]
          },
          "metadata": {},
          "execution_count": 154
        }
      ]
    },
    {
      "cell_type": "markdown",
      "source": [
        "The range of data is from 2025-03-24 15:54:00 to 2025-08-31 23:03:00, the total change in time being 160 days, 7 hours and 9 minutes."
      ],
      "metadata": {
        "id": "kRPLXpIfQ6WO"
      }
    },
    {
      "cell_type": "markdown",
      "source": [
        "## 2. Percent of data missing from each column"
      ],
      "metadata": {
        "id": "f_zd1ukHQn6U"
      }
    },
    {
      "cell_type": "code",
      "source": [
        "# Find number of null values for each column\n",
        "df.isna().sum()"
      ],
      "metadata": {
        "colab": {
          "base_uri": "https://localhost:8080/",
          "height": 335
        },
        "id": "nLvQWmHDQ5N3",
        "outputId": "cdcf4a34-708e-4573-a756-9553c37b4043"
      },
      "execution_count": 155,
      "outputs": [
        {
          "output_type": "execute_result",
          "data": {
            "text/plain": [
              "XREF ID                    0\n",
              "DISPATCH UNIT              0\n",
              "DISPATCH CREATED DATE      0\n",
              "INCIDENT NUMBER            0\n",
              "1ST UNIT ON SCENE        428\n",
              "ALARM DATE TIME           31\n",
              "CALL COMPLETE             31\n",
              "SHIFT                     69\n",
              "dtype: int64"
            ],
            "text/html": [
              "<div>\n",
              "<style scoped>\n",
              "    .dataframe tbody tr th:only-of-type {\n",
              "        vertical-align: middle;\n",
              "    }\n",
              "\n",
              "    .dataframe tbody tr th {\n",
              "        vertical-align: top;\n",
              "    }\n",
              "\n",
              "    .dataframe thead th {\n",
              "        text-align: right;\n",
              "    }\n",
              "</style>\n",
              "<table border=\"1\" class=\"dataframe\">\n",
              "  <thead>\n",
              "    <tr style=\"text-align: right;\">\n",
              "      <th></th>\n",
              "      <th>0</th>\n",
              "    </tr>\n",
              "  </thead>\n",
              "  <tbody>\n",
              "    <tr>\n",
              "      <th>XREF ID</th>\n",
              "      <td>0</td>\n",
              "    </tr>\n",
              "    <tr>\n",
              "      <th>DISPATCH UNIT</th>\n",
              "      <td>0</td>\n",
              "    </tr>\n",
              "    <tr>\n",
              "      <th>DISPATCH CREATED DATE</th>\n",
              "      <td>0</td>\n",
              "    </tr>\n",
              "    <tr>\n",
              "      <th>INCIDENT NUMBER</th>\n",
              "      <td>0</td>\n",
              "    </tr>\n",
              "    <tr>\n",
              "      <th>1ST UNIT ON SCENE</th>\n",
              "      <td>428</td>\n",
              "    </tr>\n",
              "    <tr>\n",
              "      <th>ALARM DATE TIME</th>\n",
              "      <td>31</td>\n",
              "    </tr>\n",
              "    <tr>\n",
              "      <th>CALL COMPLETE</th>\n",
              "      <td>31</td>\n",
              "    </tr>\n",
              "    <tr>\n",
              "      <th>SHIFT</th>\n",
              "      <td>69</td>\n",
              "    </tr>\n",
              "  </tbody>\n",
              "</table>\n",
              "</div><br><label><b>dtype:</b> int64</label>"
            ]
          },
          "metadata": {},
          "execution_count": 155
        }
      ]
    },
    {
      "cell_type": "code",
      "source": [
        "# Amount of values that should be in each column\n",
        "len(df)\n",
        "\n",
        "# Calculate percent of missing values per column\n",
        "def calc_percent(column):\n",
        "  percent_missing = df[column].isna().sum()/2200*100\n",
        "  return f\"{column} percent of missing values = {percent_missing:.2f}%\"\n",
        "\n",
        "for column in df:\n",
        "  result = calc_percent(column)\n",
        "  print(result)"
      ],
      "metadata": {
        "colab": {
          "base_uri": "https://localhost:8080/"
        },
        "id": "XAjE7-UBSRsB",
        "outputId": "f339e8e7-f67d-41a1-a16c-c7aec0b2caf6"
      },
      "execution_count": 156,
      "outputs": [
        {
          "output_type": "stream",
          "name": "stdout",
          "text": [
            "XREF ID percent of missing values = 0.00%\n",
            "DISPATCH UNIT percent of missing values = 0.00%\n",
            "DISPATCH CREATED DATE percent of missing values = 0.00%\n",
            "INCIDENT NUMBER percent of missing values = 0.00%\n",
            "1ST UNIT ON SCENE percent of missing values = 19.45%\n",
            "ALARM DATE TIME percent of missing values = 1.41%\n",
            "CALL COMPLETE percent of missing values = 1.41%\n",
            "SHIFT percent of missing values = 3.14%\n"
          ]
        }
      ]
    },
    {
      "cell_type": "markdown",
      "source": [
        "Calculated the percent of missing values for each column, with the column '1ST UNIT ON SCENE' having the highest rate of missing values."
      ],
      "metadata": {
        "id": "Mj-palIEVYdt"
      }
    },
    {
      "cell_type": "markdown",
      "source": [
        "## 3. Identifying Issues in the Data"
      ],
      "metadata": {
        "id": "h0Jm4Di1VgzP"
      }
    },
    {
      "cell_type": "markdown",
      "source": [
        "Based on the prior task, we know that there are lots of **missing values**, that is one issue with the data."
      ],
      "metadata": {
        "id": "YdEXiucCW78i"
      }
    },
    {
      "cell_type": "code",
      "source": [
        "df.dtypes"
      ],
      "metadata": {
        "colab": {
          "base_uri": "https://localhost:8080/",
          "height": 335
        },
        "id": "trUe0AbtWIOI",
        "outputId": "d41d65a5-de7e-46cb-b777-3ec18eae5ed2"
      },
      "execution_count": 157,
      "outputs": [
        {
          "output_type": "execute_result",
          "data": {
            "text/plain": [
              "XREF ID                           int64\n",
              "DISPATCH UNIT                    object\n",
              "DISPATCH CREATED DATE    datetime64[ns]\n",
              "INCIDENT NUMBER                  object\n",
              "1ST UNIT ON SCENE                object\n",
              "ALARM DATE TIME                  object\n",
              "CALL COMPLETE                    object\n",
              "SHIFT                            object\n",
              "dtype: object"
            ],
            "text/html": [
              "<div>\n",
              "<style scoped>\n",
              "    .dataframe tbody tr th:only-of-type {\n",
              "        vertical-align: middle;\n",
              "    }\n",
              "\n",
              "    .dataframe tbody tr th {\n",
              "        vertical-align: top;\n",
              "    }\n",
              "\n",
              "    .dataframe thead th {\n",
              "        text-align: right;\n",
              "    }\n",
              "</style>\n",
              "<table border=\"1\" class=\"dataframe\">\n",
              "  <thead>\n",
              "    <tr style=\"text-align: right;\">\n",
              "      <th></th>\n",
              "      <th>0</th>\n",
              "    </tr>\n",
              "  </thead>\n",
              "  <tbody>\n",
              "    <tr>\n",
              "      <th>XREF ID</th>\n",
              "      <td>int64</td>\n",
              "    </tr>\n",
              "    <tr>\n",
              "      <th>DISPATCH UNIT</th>\n",
              "      <td>object</td>\n",
              "    </tr>\n",
              "    <tr>\n",
              "      <th>DISPATCH CREATED DATE</th>\n",
              "      <td>datetime64[ns]</td>\n",
              "    </tr>\n",
              "    <tr>\n",
              "      <th>INCIDENT NUMBER</th>\n",
              "      <td>object</td>\n",
              "    </tr>\n",
              "    <tr>\n",
              "      <th>1ST UNIT ON SCENE</th>\n",
              "      <td>object</td>\n",
              "    </tr>\n",
              "    <tr>\n",
              "      <th>ALARM DATE TIME</th>\n",
              "      <td>object</td>\n",
              "    </tr>\n",
              "    <tr>\n",
              "      <th>CALL COMPLETE</th>\n",
              "      <td>object</td>\n",
              "    </tr>\n",
              "    <tr>\n",
              "      <th>SHIFT</th>\n",
              "      <td>object</td>\n",
              "    </tr>\n",
              "  </tbody>\n",
              "</table>\n",
              "</div><br><label><b>dtype:</b> object</label>"
            ]
          },
          "metadata": {},
          "execution_count": 157
        }
      ]
    },
    {
      "cell_type": "code",
      "source": [
        "df.head()"
      ],
      "metadata": {
        "colab": {
          "base_uri": "https://localhost:8080/",
          "height": 206
        },
        "id": "LED2fvNxZjn7",
        "outputId": "da6c4023-ed30-439e-c65e-73e32bc91a1b"
      },
      "execution_count": 158,
      "outputs": [
        {
          "output_type": "execute_result",
          "data": {
            "text/plain": [
              "      XREF ID         DISPATCH UNIT DISPATCH CREATED DATE INCIDENT NUMBER  \\\n",
              "0  2025107105  BAT111, E171, LDR175   2025-03-24 15:54:00         25-1368   \n",
              "1  2025107223                BAT111   2025-03-24 17:28:00         25-1369   \n",
              "2  2025107415                  E171   2025-03-24 21:03:00         25-1370   \n",
              "3  2025107411                  E171   2025-03-24 21:03:00         25-1371   \n",
              "4  2025107384  BAT111, E171, LDR175   2025-03-24 21:43:00         25-1374   \n",
              "\n",
              "  1ST UNIT ON SCENE ALARM DATE TIME CALL COMPLETE SHIFT  \n",
              "0            BC-111   3/24/25 15:46  9/5/25 16:20     C  \n",
              "1            BC-111   3/24/25 17:23  9/5/25 17:55     C  \n",
              "2             E-171   3/24/25 21:02  9/4/25 21:09     C  \n",
              "3               NaN   3/24/25 20:58  9/4/25 21:02     C  \n",
              "4            BC-111   3/24/25 20:30  9/4/25 21:36     C  "
            ],
            "text/html": [
              "\n",
              "  <div id=\"df-7509d09e-f711-4231-b894-cc15625c50c2\" class=\"colab-df-container\">\n",
              "    <div>\n",
              "<style scoped>\n",
              "    .dataframe tbody tr th:only-of-type {\n",
              "        vertical-align: middle;\n",
              "    }\n",
              "\n",
              "    .dataframe tbody tr th {\n",
              "        vertical-align: top;\n",
              "    }\n",
              "\n",
              "    .dataframe thead th {\n",
              "        text-align: right;\n",
              "    }\n",
              "</style>\n",
              "<table border=\"1\" class=\"dataframe\">\n",
              "  <thead>\n",
              "    <tr style=\"text-align: right;\">\n",
              "      <th></th>\n",
              "      <th>XREF ID</th>\n",
              "      <th>DISPATCH UNIT</th>\n",
              "      <th>DISPATCH CREATED DATE</th>\n",
              "      <th>INCIDENT NUMBER</th>\n",
              "      <th>1ST UNIT ON SCENE</th>\n",
              "      <th>ALARM DATE TIME</th>\n",
              "      <th>CALL COMPLETE</th>\n",
              "      <th>SHIFT</th>\n",
              "    </tr>\n",
              "  </thead>\n",
              "  <tbody>\n",
              "    <tr>\n",
              "      <th>0</th>\n",
              "      <td>2025107105</td>\n",
              "      <td>BAT111, E171, LDR175</td>\n",
              "      <td>2025-03-24 15:54:00</td>\n",
              "      <td>25-1368</td>\n",
              "      <td>BC-111</td>\n",
              "      <td>3/24/25 15:46</td>\n",
              "      <td>9/5/25 16:20</td>\n",
              "      <td>C</td>\n",
              "    </tr>\n",
              "    <tr>\n",
              "      <th>1</th>\n",
              "      <td>2025107223</td>\n",
              "      <td>BAT111</td>\n",
              "      <td>2025-03-24 17:28:00</td>\n",
              "      <td>25-1369</td>\n",
              "      <td>BC-111</td>\n",
              "      <td>3/24/25 17:23</td>\n",
              "      <td>9/5/25 17:55</td>\n",
              "      <td>C</td>\n",
              "    </tr>\n",
              "    <tr>\n",
              "      <th>2</th>\n",
              "      <td>2025107415</td>\n",
              "      <td>E171</td>\n",
              "      <td>2025-03-24 21:03:00</td>\n",
              "      <td>25-1370</td>\n",
              "      <td>E-171</td>\n",
              "      <td>3/24/25 21:02</td>\n",
              "      <td>9/4/25 21:09</td>\n",
              "      <td>C</td>\n",
              "    </tr>\n",
              "    <tr>\n",
              "      <th>3</th>\n",
              "      <td>2025107411</td>\n",
              "      <td>E171</td>\n",
              "      <td>2025-03-24 21:03:00</td>\n",
              "      <td>25-1371</td>\n",
              "      <td>NaN</td>\n",
              "      <td>3/24/25 20:58</td>\n",
              "      <td>9/4/25 21:02</td>\n",
              "      <td>C</td>\n",
              "    </tr>\n",
              "    <tr>\n",
              "      <th>4</th>\n",
              "      <td>2025107384</td>\n",
              "      <td>BAT111, E171, LDR175</td>\n",
              "      <td>2025-03-24 21:43:00</td>\n",
              "      <td>25-1374</td>\n",
              "      <td>BC-111</td>\n",
              "      <td>3/24/25 20:30</td>\n",
              "      <td>9/4/25 21:36</td>\n",
              "      <td>C</td>\n",
              "    </tr>\n",
              "  </tbody>\n",
              "</table>\n",
              "</div>\n",
              "    <div class=\"colab-df-buttons\">\n",
              "\n",
              "  <div class=\"colab-df-container\">\n",
              "    <button class=\"colab-df-convert\" onclick=\"convertToInteractive('df-7509d09e-f711-4231-b894-cc15625c50c2')\"\n",
              "            title=\"Convert this dataframe to an interactive table.\"\n",
              "            style=\"display:none;\">\n",
              "\n",
              "  <svg xmlns=\"http://www.w3.org/2000/svg\" height=\"24px\" viewBox=\"0 -960 960 960\">\n",
              "    <path d=\"M120-120v-720h720v720H120Zm60-500h600v-160H180v160Zm220 220h160v-160H400v160Zm0 220h160v-160H400v160ZM180-400h160v-160H180v160Zm440 0h160v-160H620v160ZM180-180h160v-160H180v160Zm440 0h160v-160H620v160Z\"/>\n",
              "  </svg>\n",
              "    </button>\n",
              "\n",
              "  <style>\n",
              "    .colab-df-container {\n",
              "      display:flex;\n",
              "      gap: 12px;\n",
              "    }\n",
              "\n",
              "    .colab-df-convert {\n",
              "      background-color: #E8F0FE;\n",
              "      border: none;\n",
              "      border-radius: 50%;\n",
              "      cursor: pointer;\n",
              "      display: none;\n",
              "      fill: #1967D2;\n",
              "      height: 32px;\n",
              "      padding: 0 0 0 0;\n",
              "      width: 32px;\n",
              "    }\n",
              "\n",
              "    .colab-df-convert:hover {\n",
              "      background-color: #E2EBFA;\n",
              "      box-shadow: 0px 1px 2px rgba(60, 64, 67, 0.3), 0px 1px 3px 1px rgba(60, 64, 67, 0.15);\n",
              "      fill: #174EA6;\n",
              "    }\n",
              "\n",
              "    .colab-df-buttons div {\n",
              "      margin-bottom: 4px;\n",
              "    }\n",
              "\n",
              "    [theme=dark] .colab-df-convert {\n",
              "      background-color: #3B4455;\n",
              "      fill: #D2E3FC;\n",
              "    }\n",
              "\n",
              "    [theme=dark] .colab-df-convert:hover {\n",
              "      background-color: #434B5C;\n",
              "      box-shadow: 0px 1px 3px 1px rgba(0, 0, 0, 0.15);\n",
              "      filter: drop-shadow(0px 1px 2px rgba(0, 0, 0, 0.3));\n",
              "      fill: #FFFFFF;\n",
              "    }\n",
              "  </style>\n",
              "\n",
              "    <script>\n",
              "      const buttonEl =\n",
              "        document.querySelector('#df-7509d09e-f711-4231-b894-cc15625c50c2 button.colab-df-convert');\n",
              "      buttonEl.style.display =\n",
              "        google.colab.kernel.accessAllowed ? 'block' : 'none';\n",
              "\n",
              "      async function convertToInteractive(key) {\n",
              "        const element = document.querySelector('#df-7509d09e-f711-4231-b894-cc15625c50c2');\n",
              "        const dataTable =\n",
              "          await google.colab.kernel.invokeFunction('convertToInteractive',\n",
              "                                                    [key], {});\n",
              "        if (!dataTable) return;\n",
              "\n",
              "        const docLinkHtml = 'Like what you see? Visit the ' +\n",
              "          '<a target=\"_blank\" href=https://colab.research.google.com/notebooks/data_table.ipynb>data table notebook</a>'\n",
              "          + ' to learn more about interactive tables.';\n",
              "        element.innerHTML = '';\n",
              "        dataTable['output_type'] = 'display_data';\n",
              "        await google.colab.output.renderOutput(dataTable, element);\n",
              "        const docLink = document.createElement('div');\n",
              "        docLink.innerHTML = docLinkHtml;\n",
              "        element.appendChild(docLink);\n",
              "      }\n",
              "    </script>\n",
              "  </div>\n",
              "\n",
              "\n",
              "    <div id=\"df-e67fff27-10e5-413d-bf46-21840eaac77d\">\n",
              "      <button class=\"colab-df-quickchart\" onclick=\"quickchart('df-e67fff27-10e5-413d-bf46-21840eaac77d')\"\n",
              "                title=\"Suggest charts\"\n",
              "                style=\"display:none;\">\n",
              "\n",
              "<svg xmlns=\"http://www.w3.org/2000/svg\" height=\"24px\"viewBox=\"0 0 24 24\"\n",
              "     width=\"24px\">\n",
              "    <g>\n",
              "        <path d=\"M19 3H5c-1.1 0-2 .9-2 2v14c0 1.1.9 2 2 2h14c1.1 0 2-.9 2-2V5c0-1.1-.9-2-2-2zM9 17H7v-7h2v7zm4 0h-2V7h2v10zm4 0h-2v-4h2v4z\"/>\n",
              "    </g>\n",
              "</svg>\n",
              "      </button>\n",
              "\n",
              "<style>\n",
              "  .colab-df-quickchart {\n",
              "      --bg-color: #E8F0FE;\n",
              "      --fill-color: #1967D2;\n",
              "      --hover-bg-color: #E2EBFA;\n",
              "      --hover-fill-color: #174EA6;\n",
              "      --disabled-fill-color: #AAA;\n",
              "      --disabled-bg-color: #DDD;\n",
              "  }\n",
              "\n",
              "  [theme=dark] .colab-df-quickchart {\n",
              "      --bg-color: #3B4455;\n",
              "      --fill-color: #D2E3FC;\n",
              "      --hover-bg-color: #434B5C;\n",
              "      --hover-fill-color: #FFFFFF;\n",
              "      --disabled-bg-color: #3B4455;\n",
              "      --disabled-fill-color: #666;\n",
              "  }\n",
              "\n",
              "  .colab-df-quickchart {\n",
              "    background-color: var(--bg-color);\n",
              "    border: none;\n",
              "    border-radius: 50%;\n",
              "    cursor: pointer;\n",
              "    display: none;\n",
              "    fill: var(--fill-color);\n",
              "    height: 32px;\n",
              "    padding: 0;\n",
              "    width: 32px;\n",
              "  }\n",
              "\n",
              "  .colab-df-quickchart:hover {\n",
              "    background-color: var(--hover-bg-color);\n",
              "    box-shadow: 0 1px 2px rgba(60, 64, 67, 0.3), 0 1px 3px 1px rgba(60, 64, 67, 0.15);\n",
              "    fill: var(--button-hover-fill-color);\n",
              "  }\n",
              "\n",
              "  .colab-df-quickchart-complete:disabled,\n",
              "  .colab-df-quickchart-complete:disabled:hover {\n",
              "    background-color: var(--disabled-bg-color);\n",
              "    fill: var(--disabled-fill-color);\n",
              "    box-shadow: none;\n",
              "  }\n",
              "\n",
              "  .colab-df-spinner {\n",
              "    border: 2px solid var(--fill-color);\n",
              "    border-color: transparent;\n",
              "    border-bottom-color: var(--fill-color);\n",
              "    animation:\n",
              "      spin 1s steps(1) infinite;\n",
              "  }\n",
              "\n",
              "  @keyframes spin {\n",
              "    0% {\n",
              "      border-color: transparent;\n",
              "      border-bottom-color: var(--fill-color);\n",
              "      border-left-color: var(--fill-color);\n",
              "    }\n",
              "    20% {\n",
              "      border-color: transparent;\n",
              "      border-left-color: var(--fill-color);\n",
              "      border-top-color: var(--fill-color);\n",
              "    }\n",
              "    30% {\n",
              "      border-color: transparent;\n",
              "      border-left-color: var(--fill-color);\n",
              "      border-top-color: var(--fill-color);\n",
              "      border-right-color: var(--fill-color);\n",
              "    }\n",
              "    40% {\n",
              "      border-color: transparent;\n",
              "      border-right-color: var(--fill-color);\n",
              "      border-top-color: var(--fill-color);\n",
              "    }\n",
              "    60% {\n",
              "      border-color: transparent;\n",
              "      border-right-color: var(--fill-color);\n",
              "    }\n",
              "    80% {\n",
              "      border-color: transparent;\n",
              "      border-right-color: var(--fill-color);\n",
              "      border-bottom-color: var(--fill-color);\n",
              "    }\n",
              "    90% {\n",
              "      border-color: transparent;\n",
              "      border-bottom-color: var(--fill-color);\n",
              "    }\n",
              "  }\n",
              "</style>\n",
              "\n",
              "      <script>\n",
              "        async function quickchart(key) {\n",
              "          const quickchartButtonEl =\n",
              "            document.querySelector('#' + key + ' button');\n",
              "          quickchartButtonEl.disabled = true;  // To prevent multiple clicks.\n",
              "          quickchartButtonEl.classList.add('colab-df-spinner');\n",
              "          try {\n",
              "            const charts = await google.colab.kernel.invokeFunction(\n",
              "                'suggestCharts', [key], {});\n",
              "          } catch (error) {\n",
              "            console.error('Error during call to suggestCharts:', error);\n",
              "          }\n",
              "          quickchartButtonEl.classList.remove('colab-df-spinner');\n",
              "          quickchartButtonEl.classList.add('colab-df-quickchart-complete');\n",
              "        }\n",
              "        (() => {\n",
              "          let quickchartButtonEl =\n",
              "            document.querySelector('#df-e67fff27-10e5-413d-bf46-21840eaac77d button');\n",
              "          quickchartButtonEl.style.display =\n",
              "            google.colab.kernel.accessAllowed ? 'block' : 'none';\n",
              "        })();\n",
              "      </script>\n",
              "    </div>\n",
              "\n",
              "    </div>\n",
              "  </div>\n"
            ],
            "application/vnd.google.colaboratory.intrinsic+json": {
              "type": "dataframe",
              "variable_name": "df",
              "summary": "{\n  \"name\": \"df\",\n  \"rows\": 2200,\n  \"fields\": [\n    {\n      \"column\": \"XREF ID\",\n      \"properties\": {\n        \"dtype\": \"number\",\n        \"std\": 63599,\n        \"min\": 2025107105,\n        \"max\": 2025326922,\n        \"num_unique_values\": 2200,\n        \"samples\": [\n          2025239234,\n          2025228929,\n          2025276247\n        ],\n        \"semantic_type\": \"\",\n        \"description\": \"\"\n      }\n    },\n    {\n      \"column\": \"DISPATCH UNIT\",\n      \"properties\": {\n        \"dtype\": \"category\",\n        \"num_unique_values\": 53,\n        \"samples\": [\n          \"BAT111, E173, LDR175\",\n          \"BAT111, C101, C102, E171, E172, LDR175, M105\",\n          \"B117, BAT111, E171, E172, LDR175\"\n        ],\n        \"semantic_type\": \"\",\n        \"description\": \"\"\n      }\n    },\n    {\n      \"column\": \"DISPATCH CREATED DATE\",\n      \"properties\": {\n        \"dtype\": \"date\",\n        \"min\": \"2025-03-24 15:54:00\",\n        \"max\": \"2025-08-31 23:03:00\",\n        \"num_unique_values\": 2133,\n        \"samples\": [\n          \"2025-04-11 13:38:00\",\n          \"2025-08-21 15:42:00\",\n          \"2025-07-26 04:13:00\"\n        ],\n        \"semantic_type\": \"\",\n        \"description\": \"\"\n      }\n    },\n    {\n      \"column\": \"INCIDENT NUMBER\",\n      \"properties\": {\n        \"dtype\": \"string\",\n        \"num_unique_values\": 2199,\n        \"samples\": [\n          \"25-1827\",\n          \"25-2563\",\n          \"25-1763\"\n        ],\n        \"semantic_type\": \"\",\n        \"description\": \"\"\n      }\n    },\n    {\n      \"column\": \"1ST UNIT ON SCENE\",\n      \"properties\": {\n        \"dtype\": \"category\",\n        \"num_unique_values\": 10,\n        \"samples\": [\n          \"SRT-117\",\n          \"E-171\",\n          \"C-103\"\n        ],\n        \"semantic_type\": \"\",\n        \"description\": \"\"\n      }\n    },\n    {\n      \"column\": \"ALARM DATE TIME\",\n      \"properties\": {\n        \"dtype\": \"object\",\n        \"num_unique_values\": 2158,\n        \"samples\": [\n          \"5/28/25 2:16\",\n          \"4/16/25 6:00\",\n          \"4/20/25 0:20\"\n        ],\n        \"semantic_type\": \"\",\n        \"description\": \"\"\n      }\n    },\n    {\n      \"column\": \"CALL COMPLETE\",\n      \"properties\": {\n        \"dtype\": \"object\",\n        \"num_unique_values\": 1078,\n        \"samples\": [\n          \"9/4/25 23:42\",\n          \"9/5/25 1:15\",\n          \"9/5/25 3:43\"\n        ],\n        \"semantic_type\": \"\",\n        \"description\": \"\"\n      }\n    },\n    {\n      \"column\": \"SHIFT\",\n      \"properties\": {\n        \"dtype\": \"category\",\n        \"num_unique_values\": 3,\n        \"samples\": [\n          \"C\",\n          \"A\",\n          \"B\"\n        ],\n        \"semantic_type\": \"\",\n        \"description\": \"\"\n      }\n    }\n  ]\n}"
            }
          },
          "metadata": {},
          "execution_count": 158
        }
      ]
    },
    {
      "cell_type": "markdown",
      "source": [
        "Some issues highlighted here are that some columns which represent dates are not in the proper datetime format for manipulation. \"ALARM DATE TIME\" and \"CALL COMPLETE\" are examples of these columns."
      ],
      "metadata": {
        "id": "50V8rfoSZPT8"
      }
    },
    {
      "cell_type": "markdown",
      "source": [
        "Other formatting issues can be found within the \"DISPATCH UNIT\" column, where some rows include different units seperated by commas. This inconsistency can make it tricky to analyze."
      ],
      "metadata": {
        "id": "IiGFlz5VZm15"
      }
    },
    {
      "cell_type": "markdown",
      "source": [
        "Logical errors may exist as well. It is important to check that the value in the \"CALL COMPLETE\" column does not exceed the \"ALARM DATE TIME\" as that wouldn't make sense in this context."
      ],
      "metadata": {
        "id": "iGS3xancZyCS"
      }
    },
    {
      "cell_type": "markdown",
      "source": [
        "Finally, it's important to check for duplicates within the data as well."
      ],
      "metadata": {
        "id": "d5Lno4YBaIwr"
      }
    },
    {
      "cell_type": "markdown",
      "source": [
        "## 4. Resolving Data Issues"
      ],
      "metadata": {
        "id": "plq34f8TaPig"
      }
    },
    {
      "cell_type": "code",
      "source": [
        "# Start by fixing data types\n",
        "df['ALARM DATE TIME'] = pd.to_datetime(df['ALARM DATE TIME'], errors = 'coerce')\n",
        "df['CALL COMPLETE'] = pd.to_datetime(df['CALL COMPLETE'], errors = 'coerce')"
      ],
      "metadata": {
        "colab": {
          "base_uri": "https://localhost:8080/"
        },
        "id": "5f5x585p0DJE",
        "outputId": "969cac97-981b-4f4e-92ec-0b4ae3d976d2"
      },
      "execution_count": 159,
      "outputs": [
        {
          "output_type": "stream",
          "name": "stderr",
          "text": [
            "/tmp/ipython-input-3653844370.py:2: UserWarning: Could not infer format, so each element will be parsed individually, falling back to `dateutil`. To ensure parsing is consistent and as-expected, please specify a format.\n",
            "  df['ALARM DATE TIME'] = pd.to_datetime(df['ALARM DATE TIME'], errors = 'coerce')\n",
            "/tmp/ipython-input-3653844370.py:3: UserWarning: Could not infer format, so each element will be parsed individually, falling back to `dateutil`. To ensure parsing is consistent and as-expected, please specify a format.\n",
            "  df['CALL COMPLETE'] = pd.to_datetime(df['CALL COMPLETE'], errors = 'coerce')\n"
          ]
        }
      ]
    },
    {
      "cell_type": "code",
      "source": [
        "# Check for logical errors in timestamps\n",
        "df[df['CALL COMPLETE'] < df['ALARM DATE TIME']]\n",
        "# Returns empty df so no issues here"
      ],
      "metadata": {
        "colab": {
          "base_uri": "https://localhost:8080/",
          "height": 53
        },
        "id": "kDtmS-a10raQ",
        "outputId": "49df2265-324b-49f8-9566-5630f464f137"
      },
      "execution_count": 160,
      "outputs": [
        {
          "output_type": "execute_result",
          "data": {
            "text/plain": [
              "Empty DataFrame\n",
              "Columns: [XREF ID, DISPATCH UNIT, DISPATCH CREATED DATE, INCIDENT NUMBER, 1ST UNIT ON SCENE, ALARM DATE TIME, CALL COMPLETE, SHIFT]\n",
              "Index: []"
            ],
            "text/html": [
              "\n",
              "  <div id=\"df-58ec7fcd-eb53-4873-8314-a1c42392983f\" class=\"colab-df-container\">\n",
              "    <div>\n",
              "<style scoped>\n",
              "    .dataframe tbody tr th:only-of-type {\n",
              "        vertical-align: middle;\n",
              "    }\n",
              "\n",
              "    .dataframe tbody tr th {\n",
              "        vertical-align: top;\n",
              "    }\n",
              "\n",
              "    .dataframe thead th {\n",
              "        text-align: right;\n",
              "    }\n",
              "</style>\n",
              "<table border=\"1\" class=\"dataframe\">\n",
              "  <thead>\n",
              "    <tr style=\"text-align: right;\">\n",
              "      <th></th>\n",
              "      <th>XREF ID</th>\n",
              "      <th>DISPATCH UNIT</th>\n",
              "      <th>DISPATCH CREATED DATE</th>\n",
              "      <th>INCIDENT NUMBER</th>\n",
              "      <th>1ST UNIT ON SCENE</th>\n",
              "      <th>ALARM DATE TIME</th>\n",
              "      <th>CALL COMPLETE</th>\n",
              "      <th>SHIFT</th>\n",
              "    </tr>\n",
              "  </thead>\n",
              "  <tbody>\n",
              "  </tbody>\n",
              "</table>\n",
              "</div>\n",
              "    <div class=\"colab-df-buttons\">\n",
              "\n",
              "  <div class=\"colab-df-container\">\n",
              "    <button class=\"colab-df-convert\" onclick=\"convertToInteractive('df-58ec7fcd-eb53-4873-8314-a1c42392983f')\"\n",
              "            title=\"Convert this dataframe to an interactive table.\"\n",
              "            style=\"display:none;\">\n",
              "\n",
              "  <svg xmlns=\"http://www.w3.org/2000/svg\" height=\"24px\" viewBox=\"0 -960 960 960\">\n",
              "    <path d=\"M120-120v-720h720v720H120Zm60-500h600v-160H180v160Zm220 220h160v-160H400v160Zm0 220h160v-160H400v160ZM180-400h160v-160H180v160Zm440 0h160v-160H620v160ZM180-180h160v-160H180v160Zm440 0h160v-160H620v160Z\"/>\n",
              "  </svg>\n",
              "    </button>\n",
              "\n",
              "  <style>\n",
              "    .colab-df-container {\n",
              "      display:flex;\n",
              "      gap: 12px;\n",
              "    }\n",
              "\n",
              "    .colab-df-convert {\n",
              "      background-color: #E8F0FE;\n",
              "      border: none;\n",
              "      border-radius: 50%;\n",
              "      cursor: pointer;\n",
              "      display: none;\n",
              "      fill: #1967D2;\n",
              "      height: 32px;\n",
              "      padding: 0 0 0 0;\n",
              "      width: 32px;\n",
              "    }\n",
              "\n",
              "    .colab-df-convert:hover {\n",
              "      background-color: #E2EBFA;\n",
              "      box-shadow: 0px 1px 2px rgba(60, 64, 67, 0.3), 0px 1px 3px 1px rgba(60, 64, 67, 0.15);\n",
              "      fill: #174EA6;\n",
              "    }\n",
              "\n",
              "    .colab-df-buttons div {\n",
              "      margin-bottom: 4px;\n",
              "    }\n",
              "\n",
              "    [theme=dark] .colab-df-convert {\n",
              "      background-color: #3B4455;\n",
              "      fill: #D2E3FC;\n",
              "    }\n",
              "\n",
              "    [theme=dark] .colab-df-convert:hover {\n",
              "      background-color: #434B5C;\n",
              "      box-shadow: 0px 1px 3px 1px rgba(0, 0, 0, 0.15);\n",
              "      filter: drop-shadow(0px 1px 2px rgba(0, 0, 0, 0.3));\n",
              "      fill: #FFFFFF;\n",
              "    }\n",
              "  </style>\n",
              "\n",
              "    <script>\n",
              "      const buttonEl =\n",
              "        document.querySelector('#df-58ec7fcd-eb53-4873-8314-a1c42392983f button.colab-df-convert');\n",
              "      buttonEl.style.display =\n",
              "        google.colab.kernel.accessAllowed ? 'block' : 'none';\n",
              "\n",
              "      async function convertToInteractive(key) {\n",
              "        const element = document.querySelector('#df-58ec7fcd-eb53-4873-8314-a1c42392983f');\n",
              "        const dataTable =\n",
              "          await google.colab.kernel.invokeFunction('convertToInteractive',\n",
              "                                                    [key], {});\n",
              "        if (!dataTable) return;\n",
              "\n",
              "        const docLinkHtml = 'Like what you see? Visit the ' +\n",
              "          '<a target=\"_blank\" href=https://colab.research.google.com/notebooks/data_table.ipynb>data table notebook</a>'\n",
              "          + ' to learn more about interactive tables.';\n",
              "        element.innerHTML = '';\n",
              "        dataTable['output_type'] = 'display_data';\n",
              "        await google.colab.output.renderOutput(dataTable, element);\n",
              "        const docLink = document.createElement('div');\n",
              "        docLink.innerHTML = docLinkHtml;\n",
              "        element.appendChild(docLink);\n",
              "      }\n",
              "    </script>\n",
              "  </div>\n",
              "\n",
              "\n",
              "    </div>\n",
              "  </div>\n"
            ],
            "application/vnd.google.colaboratory.intrinsic+json": {
              "type": "dataframe",
              "repr_error": "Out of range float values are not JSON compliant: nan"
            }
          },
          "metadata": {},
          "execution_count": 160
        }
      ]
    },
    {
      "cell_type": "code",
      "source": [
        "# Check for duplicates\n",
        "df.duplicated().sum()\n",
        "# No duplicate rows in the dataset"
      ],
      "metadata": {
        "colab": {
          "base_uri": "https://localhost:8080/"
        },
        "id": "wCtFfmmw04Br",
        "outputId": "83cb520e-ade5-43cc-b549-6657e7e4ba9e"
      },
      "execution_count": 161,
      "outputs": [
        {
          "output_type": "execute_result",
          "data": {
            "text/plain": [
              "np.int64(0)"
            ]
          },
          "metadata": {},
          "execution_count": 161
        }
      ]
    },
    {
      "cell_type": "markdown",
      "source": [
        "Assigning ID's to cases:"
      ],
      "metadata": {
        "id": "8dGWxbgu2FIF"
      }
    },
    {
      "cell_type": "code",
      "source": [
        "# Add a new unique ID column starting from 1\n",
        "df.insert(0, \"ID\", range(1, len(df) + 1))\n"
      ],
      "metadata": {
        "id": "rev07Ihz2YXf"
      },
      "execution_count": 162,
      "outputs": []
    },
    {
      "cell_type": "markdown",
      "source": [
        "Dealing with missing values/data:"
      ],
      "metadata": {
        "id": "nyeiZJrW2dFP"
      }
    },
    {
      "cell_type": "code",
      "source": [
        "df.isna().sum()"
      ],
      "metadata": {
        "colab": {
          "base_uri": "https://localhost:8080/",
          "height": 366
        },
        "id": "WqZwpoFa2kBE",
        "outputId": "1afb045b-ee99-45ce-d52a-b61644bb72c2"
      },
      "execution_count": 163,
      "outputs": [
        {
          "output_type": "execute_result",
          "data": {
            "text/plain": [
              "ID                         0\n",
              "XREF ID                    0\n",
              "DISPATCH UNIT              0\n",
              "DISPATCH CREATED DATE      0\n",
              "INCIDENT NUMBER            0\n",
              "1ST UNIT ON SCENE        428\n",
              "ALARM DATE TIME           31\n",
              "CALL COMPLETE             31\n",
              "SHIFT                     69\n",
              "dtype: int64"
            ],
            "text/html": [
              "<div>\n",
              "<style scoped>\n",
              "    .dataframe tbody tr th:only-of-type {\n",
              "        vertical-align: middle;\n",
              "    }\n",
              "\n",
              "    .dataframe tbody tr th {\n",
              "        vertical-align: top;\n",
              "    }\n",
              "\n",
              "    .dataframe thead th {\n",
              "        text-align: right;\n",
              "    }\n",
              "</style>\n",
              "<table border=\"1\" class=\"dataframe\">\n",
              "  <thead>\n",
              "    <tr style=\"text-align: right;\">\n",
              "      <th></th>\n",
              "      <th>0</th>\n",
              "    </tr>\n",
              "  </thead>\n",
              "  <tbody>\n",
              "    <tr>\n",
              "      <th>ID</th>\n",
              "      <td>0</td>\n",
              "    </tr>\n",
              "    <tr>\n",
              "      <th>XREF ID</th>\n",
              "      <td>0</td>\n",
              "    </tr>\n",
              "    <tr>\n",
              "      <th>DISPATCH UNIT</th>\n",
              "      <td>0</td>\n",
              "    </tr>\n",
              "    <tr>\n",
              "      <th>DISPATCH CREATED DATE</th>\n",
              "      <td>0</td>\n",
              "    </tr>\n",
              "    <tr>\n",
              "      <th>INCIDENT NUMBER</th>\n",
              "      <td>0</td>\n",
              "    </tr>\n",
              "    <tr>\n",
              "      <th>1ST UNIT ON SCENE</th>\n",
              "      <td>428</td>\n",
              "    </tr>\n",
              "    <tr>\n",
              "      <th>ALARM DATE TIME</th>\n",
              "      <td>31</td>\n",
              "    </tr>\n",
              "    <tr>\n",
              "      <th>CALL COMPLETE</th>\n",
              "      <td>31</td>\n",
              "    </tr>\n",
              "    <tr>\n",
              "      <th>SHIFT</th>\n",
              "      <td>69</td>\n",
              "    </tr>\n",
              "  </tbody>\n",
              "</table>\n",
              "</div><br><label><b>dtype:</b> int64</label>"
            ]
          },
          "metadata": {},
          "execution_count": 163
        }
      ]
    },
    {
      "cell_type": "markdown",
      "source": [
        "Replacing missing 1st unit on the scene with 'UNKNOWN' because it is categorical data."
      ],
      "metadata": {
        "id": "iRFG9NIDAlOJ"
      }
    },
    {
      "cell_type": "code",
      "source": [
        "# If there was not a first unit on the scene, no first unit arrived based on the alarm date times and call completes.\n",
        "# Likely attributed to hoaxes or non-emergencies that did not require a dispatch to arrive.\n",
        "# I will choose to replace nulls with \"UKNOWN\", as there could be failed data entry as well.\n",
        "df['1ST UNIT ON SCENE'] = df['1ST UNIT ON SCENE'].fillna(\"UNKNOWN\")\n",
        "df['1ST UNIT ON SCENE'].value_counts()"
      ],
      "metadata": {
        "colab": {
          "base_uri": "https://localhost:8080/",
          "height": 460
        },
        "id": "bNgUIcPo9P93",
        "outputId": "50e73cd0-93cc-419c-c96f-d82230790971"
      },
      "execution_count": 164,
      "outputs": [
        {
          "output_type": "execute_result",
          "data": {
            "text/plain": [
              "1ST UNIT ON SCENE\n",
              "L-175      740\n",
              "E-171      507\n",
              "UNKNOWN    428\n",
              "E-172      409\n",
              "BC-111      96\n",
              "C-102        7\n",
              "M-105        4\n",
              "SRT-117      3\n",
              "C-103        2\n",
              "C-107        2\n",
              "C-108        2\n",
              "Name: count, dtype: int64"
            ],
            "text/html": [
              "<div>\n",
              "<style scoped>\n",
              "    .dataframe tbody tr th:only-of-type {\n",
              "        vertical-align: middle;\n",
              "    }\n",
              "\n",
              "    .dataframe tbody tr th {\n",
              "        vertical-align: top;\n",
              "    }\n",
              "\n",
              "    .dataframe thead th {\n",
              "        text-align: right;\n",
              "    }\n",
              "</style>\n",
              "<table border=\"1\" class=\"dataframe\">\n",
              "  <thead>\n",
              "    <tr style=\"text-align: right;\">\n",
              "      <th></th>\n",
              "      <th>count</th>\n",
              "    </tr>\n",
              "    <tr>\n",
              "      <th>1ST UNIT ON SCENE</th>\n",
              "      <th></th>\n",
              "    </tr>\n",
              "  </thead>\n",
              "  <tbody>\n",
              "    <tr>\n",
              "      <th>L-175</th>\n",
              "      <td>740</td>\n",
              "    </tr>\n",
              "    <tr>\n",
              "      <th>E-171</th>\n",
              "      <td>507</td>\n",
              "    </tr>\n",
              "    <tr>\n",
              "      <th>UNKNOWN</th>\n",
              "      <td>428</td>\n",
              "    </tr>\n",
              "    <tr>\n",
              "      <th>E-172</th>\n",
              "      <td>409</td>\n",
              "    </tr>\n",
              "    <tr>\n",
              "      <th>BC-111</th>\n",
              "      <td>96</td>\n",
              "    </tr>\n",
              "    <tr>\n",
              "      <th>C-102</th>\n",
              "      <td>7</td>\n",
              "    </tr>\n",
              "    <tr>\n",
              "      <th>M-105</th>\n",
              "      <td>4</td>\n",
              "    </tr>\n",
              "    <tr>\n",
              "      <th>SRT-117</th>\n",
              "      <td>3</td>\n",
              "    </tr>\n",
              "    <tr>\n",
              "      <th>C-103</th>\n",
              "      <td>2</td>\n",
              "    </tr>\n",
              "    <tr>\n",
              "      <th>C-107</th>\n",
              "      <td>2</td>\n",
              "    </tr>\n",
              "    <tr>\n",
              "      <th>C-108</th>\n",
              "      <td>2</td>\n",
              "    </tr>\n",
              "  </tbody>\n",
              "</table>\n",
              "</div><br><label><b>dtype:</b> int64</label>"
            ]
          },
          "metadata": {},
          "execution_count": 164
        }
      ]
    },
    {
      "cell_type": "code",
      "source": [
        "# This line proves that the alarm date time and call complete values are both null at the same time\n",
        "len(df[df['ALARM DATE TIME'].isna() & df['CALL COMPLETE'].isna()])"
      ],
      "metadata": {
        "colab": {
          "base_uri": "https://localhost:8080/"
        },
        "id": "6F59Bryn75qA",
        "outputId": "496257f3-52ac-4393-e93c-9a9e77c4f9fe"
      },
      "execution_count": 165,
      "outputs": [
        {
          "output_type": "execute_result",
          "data": {
            "text/plain": [
              "31"
            ]
          },
          "metadata": {},
          "execution_count": 165
        }
      ]
    },
    {
      "cell_type": "markdown",
      "source": [
        "Time stamps will be replaced with their average difference from \"DISPATCH CREATED DATE\" column"
      ],
      "metadata": {
        "id": "jwdCa_tIAXv4"
      }
    },
    {
      "cell_type": "code",
      "source": [
        "# Replace ALARM DATE TIME with average difference between DISPATCH CREATED DATE and ALARM DATE TIME of recorded values\n",
        "# Replace CALL COMPLETE with average difference between DISPATCH CREATED DATE and CALL COMPLETE of recorded values\n",
        "\n",
        "# For ALARM DATE TIME\n",
        "alarm_diffs = (df[\"ALARM DATE TIME\"] - df[\"DISPATCH CREATED DATE\"]).dropna()\n",
        "avg_alarm_diff = alarm_diffs.mean()\n",
        "\n",
        "# For CALL COMPLETE\n",
        "complete_diffs = (df[\"CALL COMPLETE\"] - df[\"DISPATCH CREATED DATE\"]).dropna()\n",
        "avg_complete_diff = complete_diffs.mean()\n",
        "\n",
        "df.loc[df[\"ALARM DATE TIME\"].isna(), \"ALARM DATE TIME\"] = (\n",
        "    df.loc[df[\"ALARM DATE TIME\"].isna(), \"DISPATCH CREATED DATE\"] + avg_alarm_diff\n",
        ")\n",
        "\n",
        "df.loc[df[\"CALL COMPLETE\"].isna(), \"CALL COMPLETE\"] = (\n",
        "    df.loc[df[\"CALL COMPLETE\"].isna(), \"DISPATCH CREATED DATE\"] + avg_complete_diff\n",
        ")\n"
      ],
      "metadata": {
        "id": "l7eLVwBL88ZG"
      },
      "execution_count": 166,
      "outputs": []
    },
    {
      "cell_type": "markdown",
      "source": [
        "At first I thought that shifts may be able to be calculated based on the time of day but..."
      ],
      "metadata": {
        "id": "ryYIuRhHATlH"
      }
    },
    {
      "cell_type": "code",
      "source": [
        "df[\"HOUR\"] = df[\"DISPATCH CREATED DATE\"].dt.hour\n",
        "\n",
        "shift_hours = df.groupby(\"SHIFT\")[\"HOUR\"].describe()\n",
        "print(shift_hours)"
      ],
      "metadata": {
        "colab": {
          "base_uri": "https://localhost:8080/"
        },
        "id": "Na0S1Uaz_aO1",
        "outputId": "2dcf72ee-6ed0-4a58-d2b2-73860ee878df"
      },
      "execution_count": 167,
      "outputs": [
        {
          "output_type": "stream",
          "name": "stdout",
          "text": [
            "       count       mean       std  min   25%   50%   75%   max\n",
            "SHIFT                                                         \n",
            "A      735.0  13.458503  5.879638  0.0  10.0  14.0  18.0  23.0\n",
            "B      677.0  13.567208  5.776174  0.0  10.0  14.0  18.0  23.0\n",
            "C      719.0  13.150209  6.030306  0.0   9.0  14.0  18.0  23.0\n"
          ]
        }
      ]
    },
    {
      "cell_type": "markdown",
      "source": [
        "Looking at the min and max values, we can see that the shifts are not assigned by time of day. In that case, we will treat the shifts as categorical and set them as \"UNKNOWN\""
      ],
      "metadata": {
        "id": "yYnubno2BQ6b"
      }
    },
    {
      "cell_type": "code",
      "source": [
        "df['SHIFT'] = df['SHIFT'].fillna('UNKNOWN')"
      ],
      "metadata": {
        "id": "AH4s4b88Bt-U"
      },
      "execution_count": 168,
      "outputs": []
    },
    {
      "cell_type": "code",
      "source": [
        "df.isna().sum()\n",
        "# Finally we have no more null values:"
      ],
      "metadata": {
        "colab": {
          "base_uri": "https://localhost:8080/",
          "height": 398
        },
        "id": "RHqZhPDmBzpM",
        "outputId": "55565292-185d-4f9d-f23d-f88f59cca9b5"
      },
      "execution_count": 169,
      "outputs": [
        {
          "output_type": "execute_result",
          "data": {
            "text/plain": [
              "ID                       0\n",
              "XREF ID                  0\n",
              "DISPATCH UNIT            0\n",
              "DISPATCH CREATED DATE    0\n",
              "INCIDENT NUMBER          0\n",
              "1ST UNIT ON SCENE        0\n",
              "ALARM DATE TIME          0\n",
              "CALL COMPLETE            0\n",
              "SHIFT                    0\n",
              "HOUR                     0\n",
              "dtype: int64"
            ],
            "text/html": [
              "<div>\n",
              "<style scoped>\n",
              "    .dataframe tbody tr th:only-of-type {\n",
              "        vertical-align: middle;\n",
              "    }\n",
              "\n",
              "    .dataframe tbody tr th {\n",
              "        vertical-align: top;\n",
              "    }\n",
              "\n",
              "    .dataframe thead th {\n",
              "        text-align: right;\n",
              "    }\n",
              "</style>\n",
              "<table border=\"1\" class=\"dataframe\">\n",
              "  <thead>\n",
              "    <tr style=\"text-align: right;\">\n",
              "      <th></th>\n",
              "      <th>0</th>\n",
              "    </tr>\n",
              "  </thead>\n",
              "  <tbody>\n",
              "    <tr>\n",
              "      <th>ID</th>\n",
              "      <td>0</td>\n",
              "    </tr>\n",
              "    <tr>\n",
              "      <th>XREF ID</th>\n",
              "      <td>0</td>\n",
              "    </tr>\n",
              "    <tr>\n",
              "      <th>DISPATCH UNIT</th>\n",
              "      <td>0</td>\n",
              "    </tr>\n",
              "    <tr>\n",
              "      <th>DISPATCH CREATED DATE</th>\n",
              "      <td>0</td>\n",
              "    </tr>\n",
              "    <tr>\n",
              "      <th>INCIDENT NUMBER</th>\n",
              "      <td>0</td>\n",
              "    </tr>\n",
              "    <tr>\n",
              "      <th>1ST UNIT ON SCENE</th>\n",
              "      <td>0</td>\n",
              "    </tr>\n",
              "    <tr>\n",
              "      <th>ALARM DATE TIME</th>\n",
              "      <td>0</td>\n",
              "    </tr>\n",
              "    <tr>\n",
              "      <th>CALL COMPLETE</th>\n",
              "      <td>0</td>\n",
              "    </tr>\n",
              "    <tr>\n",
              "      <th>SHIFT</th>\n",
              "      <td>0</td>\n",
              "    </tr>\n",
              "    <tr>\n",
              "      <th>HOUR</th>\n",
              "      <td>0</td>\n",
              "    </tr>\n",
              "  </tbody>\n",
              "</table>\n",
              "</div><br><label><b>dtype:</b> int64</label>"
            ]
          },
          "metadata": {},
          "execution_count": 169
        }
      ]
    },
    {
      "cell_type": "markdown",
      "source": [
        "# b. Exploratory Data Analysis"
      ],
      "metadata": {
        "id": "lF9_cJwnB_JC"
      }
    },
    {
      "cell_type": "markdown",
      "source": [
        "## 1. Average time for an alarm to be resolved"
      ],
      "metadata": {
        "id": "48bAtZzoCffh"
      }
    },
    {
      "cell_type": "code",
      "source": [
        "df['CALL DURATION'] = df['CALL COMPLETE'] - df['ALARM DATE TIME']\n",
        "avg_duration = df['CALL DURATION'].mean()\n",
        "avg_duration\n"
      ],
      "metadata": {
        "id": "5JLr8_sYCS3O",
        "outputId": "9a7768fd-3994-418c-c4aa-dfcaa7300398",
        "colab": {
          "base_uri": "https://localhost:8080/"
        }
      },
      "execution_count": 170,
      "outputs": [
        {
          "output_type": "execute_result",
          "data": {
            "text/plain": [
              "Timedelta('90 days 18:28:08.907330567')"
            ]
          },
          "metadata": {},
          "execution_count": 170
        }
      ]
    },
    {
      "cell_type": "markdown",
      "source": [
        "On average, a call takes 90 days, 18 hours, 28 minutes and 8 seconds from the alarm going off to the call being complete."
      ],
      "metadata": {
        "id": "J5PDJDnPGcV8"
      }
    },
    {
      "cell_type": "markdown",
      "source": [
        "## 2. Number of Fire Units, on average, that are usually sent for a fire alarm"
      ],
      "metadata": {
        "id": "h0ZOzs3NG639"
      }
    },
    {
      "cell_type": "code",
      "source": [
        "df.dtypes"
      ],
      "metadata": {
        "id": "qlXoR8J7HjWu",
        "outputId": "0f32dd53-6df3-4051-8552-8a104651a9e3",
        "colab": {
          "base_uri": "https://localhost:8080/",
          "height": 429
        }
      },
      "execution_count": 176,
      "outputs": [
        {
          "output_type": "execute_result",
          "data": {
            "text/plain": [
              "ID                                 int64\n",
              "XREF ID                            int64\n",
              "DISPATCH UNIT                     object\n",
              "DISPATCH CREATED DATE     datetime64[ns]\n",
              "INCIDENT NUMBER                   object\n",
              "1ST UNIT ON SCENE                 object\n",
              "ALARM DATE TIME           datetime64[ns]\n",
              "CALL COMPLETE             datetime64[ns]\n",
              "SHIFT                             object\n",
              "HOUR                               int32\n",
              "CALL DURATION            timedelta64[ns]\n",
              "dtype: object"
            ],
            "text/html": [
              "<div>\n",
              "<style scoped>\n",
              "    .dataframe tbody tr th:only-of-type {\n",
              "        vertical-align: middle;\n",
              "    }\n",
              "\n",
              "    .dataframe tbody tr th {\n",
              "        vertical-align: top;\n",
              "    }\n",
              "\n",
              "    .dataframe thead th {\n",
              "        text-align: right;\n",
              "    }\n",
              "</style>\n",
              "<table border=\"1\" class=\"dataframe\">\n",
              "  <thead>\n",
              "    <tr style=\"text-align: right;\">\n",
              "      <th></th>\n",
              "      <th>0</th>\n",
              "    </tr>\n",
              "  </thead>\n",
              "  <tbody>\n",
              "    <tr>\n",
              "      <th>ID</th>\n",
              "      <td>int64</td>\n",
              "    </tr>\n",
              "    <tr>\n",
              "      <th>XREF ID</th>\n",
              "      <td>int64</td>\n",
              "    </tr>\n",
              "    <tr>\n",
              "      <th>DISPATCH UNIT</th>\n",
              "      <td>object</td>\n",
              "    </tr>\n",
              "    <tr>\n",
              "      <th>DISPATCH CREATED DATE</th>\n",
              "      <td>datetime64[ns]</td>\n",
              "    </tr>\n",
              "    <tr>\n",
              "      <th>INCIDENT NUMBER</th>\n",
              "      <td>object</td>\n",
              "    </tr>\n",
              "    <tr>\n",
              "      <th>1ST UNIT ON SCENE</th>\n",
              "      <td>object</td>\n",
              "    </tr>\n",
              "    <tr>\n",
              "      <th>ALARM DATE TIME</th>\n",
              "      <td>datetime64[ns]</td>\n",
              "    </tr>\n",
              "    <tr>\n",
              "      <th>CALL COMPLETE</th>\n",
              "      <td>datetime64[ns]</td>\n",
              "    </tr>\n",
              "    <tr>\n",
              "      <th>SHIFT</th>\n",
              "      <td>object</td>\n",
              "    </tr>\n",
              "    <tr>\n",
              "      <th>HOUR</th>\n",
              "      <td>int32</td>\n",
              "    </tr>\n",
              "    <tr>\n",
              "      <th>CALL DURATION</th>\n",
              "      <td>timedelta64[ns]</td>\n",
              "    </tr>\n",
              "  </tbody>\n",
              "</table>\n",
              "</div><br><label><b>dtype:</b> object</label>"
            ]
          },
          "metadata": {},
          "execution_count": 176
        }
      ]
    },
    {
      "cell_type": "code",
      "source": [
        "# Fix dispatch unit column to be split into a list\n",
        "df['DISPATCH UNIT'] = df['DISPATCH UNIT'].astype(str)\n",
        "df['DISPATCH UNIT'] = df['DISPATCH UNIT'].str.split(\", \")\n",
        "\n",
        "df['NUMBER OF UNITS'] = df['DISPATCH UNIT'].apply(len)\n",
        "avg_num_of_units = df['NUMBER OF UNITS'].mean()\n",
        "avg_num_of_units"
      ],
      "metadata": {
        "id": "-DcwCG8KHGkW",
        "outputId": "099f9954-1889-4ef8-da61-46dd43cc9bb7",
        "colab": {
          "base_uri": "https://localhost:8080/"
        }
      },
      "execution_count": 180,
      "outputs": [
        {
          "output_type": "execute_result",
          "data": {
            "text/plain": [
              "np.float64(1.440909090909091)"
            ]
          },
          "metadata": {},
          "execution_count": 180
        }
      ]
    },
    {
      "cell_type": "markdown",
      "source": [
        "Average number of units sent for a fire alarm is 1.441 units."
      ],
      "metadata": {
        "id": "AsMR0WG7Idym"
      }
    },
    {
      "cell_type": "markdown",
      "source": [
        "## 3. Which shift is busiest between A, B and C"
      ],
      "metadata": {
        "id": "1L6BVMIpIl6G"
      }
    },
    {
      "cell_type": "code",
      "source": [
        "df['SHIFT'].value_counts()"
      ],
      "metadata": {
        "id": "xrIaKrg5IpuF",
        "outputId": "9dcee0bb-ee21-478c-8fe8-3bdd12782c0a",
        "colab": {
          "base_uri": "https://localhost:8080/",
          "height": 241
        }
      },
      "execution_count": 181,
      "outputs": [
        {
          "output_type": "execute_result",
          "data": {
            "text/plain": [
              "SHIFT\n",
              "A          735\n",
              "C          719\n",
              "B          677\n",
              "UNKNOWN     69\n",
              "Name: count, dtype: int64"
            ],
            "text/html": [
              "<div>\n",
              "<style scoped>\n",
              "    .dataframe tbody tr th:only-of-type {\n",
              "        vertical-align: middle;\n",
              "    }\n",
              "\n",
              "    .dataframe tbody tr th {\n",
              "        vertical-align: top;\n",
              "    }\n",
              "\n",
              "    .dataframe thead th {\n",
              "        text-align: right;\n",
              "    }\n",
              "</style>\n",
              "<table border=\"1\" class=\"dataframe\">\n",
              "  <thead>\n",
              "    <tr style=\"text-align: right;\">\n",
              "      <th></th>\n",
              "      <th>count</th>\n",
              "    </tr>\n",
              "    <tr>\n",
              "      <th>SHIFT</th>\n",
              "      <th></th>\n",
              "    </tr>\n",
              "  </thead>\n",
              "  <tbody>\n",
              "    <tr>\n",
              "      <th>A</th>\n",
              "      <td>735</td>\n",
              "    </tr>\n",
              "    <tr>\n",
              "      <th>C</th>\n",
              "      <td>719</td>\n",
              "    </tr>\n",
              "    <tr>\n",
              "      <th>B</th>\n",
              "      <td>677</td>\n",
              "    </tr>\n",
              "    <tr>\n",
              "      <th>UNKNOWN</th>\n",
              "      <td>69</td>\n",
              "    </tr>\n",
              "  </tbody>\n",
              "</table>\n",
              "</div><br><label><b>dtype:</b> int64</label>"
            ]
          },
          "metadata": {},
          "execution_count": 181
        }
      ]
    },
    {
      "cell_type": "markdown",
      "source": [
        "By looking at the value counts, we see that **shift A** has the most occurances (735) in the dataset, making them the busiest."
      ],
      "metadata": {
        "id": "PXhL88ONIycv"
      }
    },
    {
      "cell_type": "markdown",
      "source": [
        "## 4. Matrix of number of file alarms organized by the day of the week and hour of the day"
      ],
      "metadata": {
        "id": "ZXRbRT2hI7p0"
      }
    },
    {
      "cell_type": "code",
      "source": [
        "# Ensure datetime\n",
        "df['DISPATCH CREATED DATE'] = pd.to_datetime(df['DISPATCH CREATED DATE'])\n",
        "\n",
        "# Extract hour (0–23)\n",
        "df['HOUR'] = df['DISPATCH CREATED DATE'].dt.hour\n",
        "\n",
        "# Extract day of week (0=Monday, 6=Sunday)\n",
        "df['DAY_OF_WEEK'] = df['DISPATCH CREATED DATE'].dt.day_name()\n"
      ],
      "metadata": {
        "id": "UPwtYD8CJd4v"
      },
      "execution_count": 182,
      "outputs": []
    },
    {
      "cell_type": "code",
      "source": [
        "# Count number of dispatches per day-of-week and hour\n",
        "matrix = pd.pivot_table(\n",
        "    df,\n",
        "    values='ID',\n",
        "    index='HOUR',               # y-axis\n",
        "    columns='DAY_OF_WEEK',      # x-axis\n",
        "    aggfunc='count',\n",
        "    margins=True,\n",
        "    margins_name='Total'\n",
        ")\n",
        "\n",
        "matrix\n"
      ],
      "metadata": {
        "id": "n__exRkKJfPB",
        "outputId": "23cbe600-66ce-44ff-c159-108ee48e1545",
        "colab": {
          "base_uri": "https://localhost:8080/",
          "height": 865
        }
      },
      "execution_count": 184,
      "outputs": [
        {
          "output_type": "execute_result",
          "data": {
            "text/plain": [
              "DAY_OF_WEEK  Friday  Monday  Saturday  Sunday  Thursday  Tuesday  Wednesday  \\\n",
              "HOUR                                                                          \n",
              "0                 3       8         7       4         2        8          6   \n",
              "1                 3      11         8      10         8        8          7   \n",
              "2                 4       4         8       8         3        5          3   \n",
              "3                 9       9         4       9         1       10          8   \n",
              "4                 7       4         6       4         2        4          4   \n",
              "5                 6       9         4       5         4        3          8   \n",
              "6                10       4         6      10         7        5          7   \n",
              "7                14      15         5      10        11       15          8   \n",
              "8                 8      13         7      14         8       13         18   \n",
              "9                14      11        10      14        14       18         14   \n",
              "10               16      17        18      11        16       22         18   \n",
              "11               18      24        15      12        25       20         15   \n",
              "12               29      16        13      18        20       15         16   \n",
              "13               11      18        18      20        15       13         13   \n",
              "14               24      22        16      12        21       27         18   \n",
              "15               17      20        17      20        25       23         25   \n",
              "16               17      24        14      11        21       17         14   \n",
              "17               28      28        17      20        12       16         17   \n",
              "18               15      19        16      13        22       22         27   \n",
              "19               18      20        17      11        17       12         20   \n",
              "20               14      17        23      11        17       11         21   \n",
              "21               14      16        13       7        13       16         15   \n",
              "22               13       3        13      16         8       12         18   \n",
              "23                9      12        29       9         8        8          9   \n",
              "Total           321     344       304     279       300      323        329   \n",
              "\n",
              "DAY_OF_WEEK  Total  \n",
              "HOUR                \n",
              "0               38  \n",
              "1               55  \n",
              "2               35  \n",
              "3               50  \n",
              "4               31  \n",
              "5               39  \n",
              "6               49  \n",
              "7               78  \n",
              "8               81  \n",
              "9               95  \n",
              "10             118  \n",
              "11             129  \n",
              "12             127  \n",
              "13             108  \n",
              "14             140  \n",
              "15             147  \n",
              "16             118  \n",
              "17             138  \n",
              "18             134  \n",
              "19             115  \n",
              "20             114  \n",
              "21              94  \n",
              "22              83  \n",
              "23              84  \n",
              "Total         2200  "
            ],
            "text/html": [
              "\n",
              "  <div id=\"df-5c56ba58-8652-4e9e-ab00-34a2a25e8c74\" class=\"colab-df-container\">\n",
              "    <div>\n",
              "<style scoped>\n",
              "    .dataframe tbody tr th:only-of-type {\n",
              "        vertical-align: middle;\n",
              "    }\n",
              "\n",
              "    .dataframe tbody tr th {\n",
              "        vertical-align: top;\n",
              "    }\n",
              "\n",
              "    .dataframe thead th {\n",
              "        text-align: right;\n",
              "    }\n",
              "</style>\n",
              "<table border=\"1\" class=\"dataframe\">\n",
              "  <thead>\n",
              "    <tr style=\"text-align: right;\">\n",
              "      <th>DAY_OF_WEEK</th>\n",
              "      <th>Friday</th>\n",
              "      <th>Monday</th>\n",
              "      <th>Saturday</th>\n",
              "      <th>Sunday</th>\n",
              "      <th>Thursday</th>\n",
              "      <th>Tuesday</th>\n",
              "      <th>Wednesday</th>\n",
              "      <th>Total</th>\n",
              "    </tr>\n",
              "    <tr>\n",
              "      <th>HOUR</th>\n",
              "      <th></th>\n",
              "      <th></th>\n",
              "      <th></th>\n",
              "      <th></th>\n",
              "      <th></th>\n",
              "      <th></th>\n",
              "      <th></th>\n",
              "      <th></th>\n",
              "    </tr>\n",
              "  </thead>\n",
              "  <tbody>\n",
              "    <tr>\n",
              "      <th>0</th>\n",
              "      <td>3</td>\n",
              "      <td>8</td>\n",
              "      <td>7</td>\n",
              "      <td>4</td>\n",
              "      <td>2</td>\n",
              "      <td>8</td>\n",
              "      <td>6</td>\n",
              "      <td>38</td>\n",
              "    </tr>\n",
              "    <tr>\n",
              "      <th>1</th>\n",
              "      <td>3</td>\n",
              "      <td>11</td>\n",
              "      <td>8</td>\n",
              "      <td>10</td>\n",
              "      <td>8</td>\n",
              "      <td>8</td>\n",
              "      <td>7</td>\n",
              "      <td>55</td>\n",
              "    </tr>\n",
              "    <tr>\n",
              "      <th>2</th>\n",
              "      <td>4</td>\n",
              "      <td>4</td>\n",
              "      <td>8</td>\n",
              "      <td>8</td>\n",
              "      <td>3</td>\n",
              "      <td>5</td>\n",
              "      <td>3</td>\n",
              "      <td>35</td>\n",
              "    </tr>\n",
              "    <tr>\n",
              "      <th>3</th>\n",
              "      <td>9</td>\n",
              "      <td>9</td>\n",
              "      <td>4</td>\n",
              "      <td>9</td>\n",
              "      <td>1</td>\n",
              "      <td>10</td>\n",
              "      <td>8</td>\n",
              "      <td>50</td>\n",
              "    </tr>\n",
              "    <tr>\n",
              "      <th>4</th>\n",
              "      <td>7</td>\n",
              "      <td>4</td>\n",
              "      <td>6</td>\n",
              "      <td>4</td>\n",
              "      <td>2</td>\n",
              "      <td>4</td>\n",
              "      <td>4</td>\n",
              "      <td>31</td>\n",
              "    </tr>\n",
              "    <tr>\n",
              "      <th>5</th>\n",
              "      <td>6</td>\n",
              "      <td>9</td>\n",
              "      <td>4</td>\n",
              "      <td>5</td>\n",
              "      <td>4</td>\n",
              "      <td>3</td>\n",
              "      <td>8</td>\n",
              "      <td>39</td>\n",
              "    </tr>\n",
              "    <tr>\n",
              "      <th>6</th>\n",
              "      <td>10</td>\n",
              "      <td>4</td>\n",
              "      <td>6</td>\n",
              "      <td>10</td>\n",
              "      <td>7</td>\n",
              "      <td>5</td>\n",
              "      <td>7</td>\n",
              "      <td>49</td>\n",
              "    </tr>\n",
              "    <tr>\n",
              "      <th>7</th>\n",
              "      <td>14</td>\n",
              "      <td>15</td>\n",
              "      <td>5</td>\n",
              "      <td>10</td>\n",
              "      <td>11</td>\n",
              "      <td>15</td>\n",
              "      <td>8</td>\n",
              "      <td>78</td>\n",
              "    </tr>\n",
              "    <tr>\n",
              "      <th>8</th>\n",
              "      <td>8</td>\n",
              "      <td>13</td>\n",
              "      <td>7</td>\n",
              "      <td>14</td>\n",
              "      <td>8</td>\n",
              "      <td>13</td>\n",
              "      <td>18</td>\n",
              "      <td>81</td>\n",
              "    </tr>\n",
              "    <tr>\n",
              "      <th>9</th>\n",
              "      <td>14</td>\n",
              "      <td>11</td>\n",
              "      <td>10</td>\n",
              "      <td>14</td>\n",
              "      <td>14</td>\n",
              "      <td>18</td>\n",
              "      <td>14</td>\n",
              "      <td>95</td>\n",
              "    </tr>\n",
              "    <tr>\n",
              "      <th>10</th>\n",
              "      <td>16</td>\n",
              "      <td>17</td>\n",
              "      <td>18</td>\n",
              "      <td>11</td>\n",
              "      <td>16</td>\n",
              "      <td>22</td>\n",
              "      <td>18</td>\n",
              "      <td>118</td>\n",
              "    </tr>\n",
              "    <tr>\n",
              "      <th>11</th>\n",
              "      <td>18</td>\n",
              "      <td>24</td>\n",
              "      <td>15</td>\n",
              "      <td>12</td>\n",
              "      <td>25</td>\n",
              "      <td>20</td>\n",
              "      <td>15</td>\n",
              "      <td>129</td>\n",
              "    </tr>\n",
              "    <tr>\n",
              "      <th>12</th>\n",
              "      <td>29</td>\n",
              "      <td>16</td>\n",
              "      <td>13</td>\n",
              "      <td>18</td>\n",
              "      <td>20</td>\n",
              "      <td>15</td>\n",
              "      <td>16</td>\n",
              "      <td>127</td>\n",
              "    </tr>\n",
              "    <tr>\n",
              "      <th>13</th>\n",
              "      <td>11</td>\n",
              "      <td>18</td>\n",
              "      <td>18</td>\n",
              "      <td>20</td>\n",
              "      <td>15</td>\n",
              "      <td>13</td>\n",
              "      <td>13</td>\n",
              "      <td>108</td>\n",
              "    </tr>\n",
              "    <tr>\n",
              "      <th>14</th>\n",
              "      <td>24</td>\n",
              "      <td>22</td>\n",
              "      <td>16</td>\n",
              "      <td>12</td>\n",
              "      <td>21</td>\n",
              "      <td>27</td>\n",
              "      <td>18</td>\n",
              "      <td>140</td>\n",
              "    </tr>\n",
              "    <tr>\n",
              "      <th>15</th>\n",
              "      <td>17</td>\n",
              "      <td>20</td>\n",
              "      <td>17</td>\n",
              "      <td>20</td>\n",
              "      <td>25</td>\n",
              "      <td>23</td>\n",
              "      <td>25</td>\n",
              "      <td>147</td>\n",
              "    </tr>\n",
              "    <tr>\n",
              "      <th>16</th>\n",
              "      <td>17</td>\n",
              "      <td>24</td>\n",
              "      <td>14</td>\n",
              "      <td>11</td>\n",
              "      <td>21</td>\n",
              "      <td>17</td>\n",
              "      <td>14</td>\n",
              "      <td>118</td>\n",
              "    </tr>\n",
              "    <tr>\n",
              "      <th>17</th>\n",
              "      <td>28</td>\n",
              "      <td>28</td>\n",
              "      <td>17</td>\n",
              "      <td>20</td>\n",
              "      <td>12</td>\n",
              "      <td>16</td>\n",
              "      <td>17</td>\n",
              "      <td>138</td>\n",
              "    </tr>\n",
              "    <tr>\n",
              "      <th>18</th>\n",
              "      <td>15</td>\n",
              "      <td>19</td>\n",
              "      <td>16</td>\n",
              "      <td>13</td>\n",
              "      <td>22</td>\n",
              "      <td>22</td>\n",
              "      <td>27</td>\n",
              "      <td>134</td>\n",
              "    </tr>\n",
              "    <tr>\n",
              "      <th>19</th>\n",
              "      <td>18</td>\n",
              "      <td>20</td>\n",
              "      <td>17</td>\n",
              "      <td>11</td>\n",
              "      <td>17</td>\n",
              "      <td>12</td>\n",
              "      <td>20</td>\n",
              "      <td>115</td>\n",
              "    </tr>\n",
              "    <tr>\n",
              "      <th>20</th>\n",
              "      <td>14</td>\n",
              "      <td>17</td>\n",
              "      <td>23</td>\n",
              "      <td>11</td>\n",
              "      <td>17</td>\n",
              "      <td>11</td>\n",
              "      <td>21</td>\n",
              "      <td>114</td>\n",
              "    </tr>\n",
              "    <tr>\n",
              "      <th>21</th>\n",
              "      <td>14</td>\n",
              "      <td>16</td>\n",
              "      <td>13</td>\n",
              "      <td>7</td>\n",
              "      <td>13</td>\n",
              "      <td>16</td>\n",
              "      <td>15</td>\n",
              "      <td>94</td>\n",
              "    </tr>\n",
              "    <tr>\n",
              "      <th>22</th>\n",
              "      <td>13</td>\n",
              "      <td>3</td>\n",
              "      <td>13</td>\n",
              "      <td>16</td>\n",
              "      <td>8</td>\n",
              "      <td>12</td>\n",
              "      <td>18</td>\n",
              "      <td>83</td>\n",
              "    </tr>\n",
              "    <tr>\n",
              "      <th>23</th>\n",
              "      <td>9</td>\n",
              "      <td>12</td>\n",
              "      <td>29</td>\n",
              "      <td>9</td>\n",
              "      <td>8</td>\n",
              "      <td>8</td>\n",
              "      <td>9</td>\n",
              "      <td>84</td>\n",
              "    </tr>\n",
              "    <tr>\n",
              "      <th>Total</th>\n",
              "      <td>321</td>\n",
              "      <td>344</td>\n",
              "      <td>304</td>\n",
              "      <td>279</td>\n",
              "      <td>300</td>\n",
              "      <td>323</td>\n",
              "      <td>329</td>\n",
              "      <td>2200</td>\n",
              "    </tr>\n",
              "  </tbody>\n",
              "</table>\n",
              "</div>\n",
              "    <div class=\"colab-df-buttons\">\n",
              "\n",
              "  <div class=\"colab-df-container\">\n",
              "    <button class=\"colab-df-convert\" onclick=\"convertToInteractive('df-5c56ba58-8652-4e9e-ab00-34a2a25e8c74')\"\n",
              "            title=\"Convert this dataframe to an interactive table.\"\n",
              "            style=\"display:none;\">\n",
              "\n",
              "  <svg xmlns=\"http://www.w3.org/2000/svg\" height=\"24px\" viewBox=\"0 -960 960 960\">\n",
              "    <path d=\"M120-120v-720h720v720H120Zm60-500h600v-160H180v160Zm220 220h160v-160H400v160Zm0 220h160v-160H400v160ZM180-400h160v-160H180v160Zm440 0h160v-160H620v160ZM180-180h160v-160H180v160Zm440 0h160v-160H620v160Z\"/>\n",
              "  </svg>\n",
              "    </button>\n",
              "\n",
              "  <style>\n",
              "    .colab-df-container {\n",
              "      display:flex;\n",
              "      gap: 12px;\n",
              "    }\n",
              "\n",
              "    .colab-df-convert {\n",
              "      background-color: #E8F0FE;\n",
              "      border: none;\n",
              "      border-radius: 50%;\n",
              "      cursor: pointer;\n",
              "      display: none;\n",
              "      fill: #1967D2;\n",
              "      height: 32px;\n",
              "      padding: 0 0 0 0;\n",
              "      width: 32px;\n",
              "    }\n",
              "\n",
              "    .colab-df-convert:hover {\n",
              "      background-color: #E2EBFA;\n",
              "      box-shadow: 0px 1px 2px rgba(60, 64, 67, 0.3), 0px 1px 3px 1px rgba(60, 64, 67, 0.15);\n",
              "      fill: #174EA6;\n",
              "    }\n",
              "\n",
              "    .colab-df-buttons div {\n",
              "      margin-bottom: 4px;\n",
              "    }\n",
              "\n",
              "    [theme=dark] .colab-df-convert {\n",
              "      background-color: #3B4455;\n",
              "      fill: #D2E3FC;\n",
              "    }\n",
              "\n",
              "    [theme=dark] .colab-df-convert:hover {\n",
              "      background-color: #434B5C;\n",
              "      box-shadow: 0px 1px 3px 1px rgba(0, 0, 0, 0.15);\n",
              "      filter: drop-shadow(0px 1px 2px rgba(0, 0, 0, 0.3));\n",
              "      fill: #FFFFFF;\n",
              "    }\n",
              "  </style>\n",
              "\n",
              "    <script>\n",
              "      const buttonEl =\n",
              "        document.querySelector('#df-5c56ba58-8652-4e9e-ab00-34a2a25e8c74 button.colab-df-convert');\n",
              "      buttonEl.style.display =\n",
              "        google.colab.kernel.accessAllowed ? 'block' : 'none';\n",
              "\n",
              "      async function convertToInteractive(key) {\n",
              "        const element = document.querySelector('#df-5c56ba58-8652-4e9e-ab00-34a2a25e8c74');\n",
              "        const dataTable =\n",
              "          await google.colab.kernel.invokeFunction('convertToInteractive',\n",
              "                                                    [key], {});\n",
              "        if (!dataTable) return;\n",
              "\n",
              "        const docLinkHtml = 'Like what you see? Visit the ' +\n",
              "          '<a target=\"_blank\" href=https://colab.research.google.com/notebooks/data_table.ipynb>data table notebook</a>'\n",
              "          + ' to learn more about interactive tables.';\n",
              "        element.innerHTML = '';\n",
              "        dataTable['output_type'] = 'display_data';\n",
              "        await google.colab.output.renderOutput(dataTable, element);\n",
              "        const docLink = document.createElement('div');\n",
              "        docLink.innerHTML = docLinkHtml;\n",
              "        element.appendChild(docLink);\n",
              "      }\n",
              "    </script>\n",
              "  </div>\n",
              "\n",
              "\n",
              "    <div id=\"df-0c09a846-86a4-4596-9448-a554528f3ede\">\n",
              "      <button class=\"colab-df-quickchart\" onclick=\"quickchart('df-0c09a846-86a4-4596-9448-a554528f3ede')\"\n",
              "                title=\"Suggest charts\"\n",
              "                style=\"display:none;\">\n",
              "\n",
              "<svg xmlns=\"http://www.w3.org/2000/svg\" height=\"24px\"viewBox=\"0 0 24 24\"\n",
              "     width=\"24px\">\n",
              "    <g>\n",
              "        <path d=\"M19 3H5c-1.1 0-2 .9-2 2v14c0 1.1.9 2 2 2h14c1.1 0 2-.9 2-2V5c0-1.1-.9-2-2-2zM9 17H7v-7h2v7zm4 0h-2V7h2v10zm4 0h-2v-4h2v4z\"/>\n",
              "    </g>\n",
              "</svg>\n",
              "      </button>\n",
              "\n",
              "<style>\n",
              "  .colab-df-quickchart {\n",
              "      --bg-color: #E8F0FE;\n",
              "      --fill-color: #1967D2;\n",
              "      --hover-bg-color: #E2EBFA;\n",
              "      --hover-fill-color: #174EA6;\n",
              "      --disabled-fill-color: #AAA;\n",
              "      --disabled-bg-color: #DDD;\n",
              "  }\n",
              "\n",
              "  [theme=dark] .colab-df-quickchart {\n",
              "      --bg-color: #3B4455;\n",
              "      --fill-color: #D2E3FC;\n",
              "      --hover-bg-color: #434B5C;\n",
              "      --hover-fill-color: #FFFFFF;\n",
              "      --disabled-bg-color: #3B4455;\n",
              "      --disabled-fill-color: #666;\n",
              "  }\n",
              "\n",
              "  .colab-df-quickchart {\n",
              "    background-color: var(--bg-color);\n",
              "    border: none;\n",
              "    border-radius: 50%;\n",
              "    cursor: pointer;\n",
              "    display: none;\n",
              "    fill: var(--fill-color);\n",
              "    height: 32px;\n",
              "    padding: 0;\n",
              "    width: 32px;\n",
              "  }\n",
              "\n",
              "  .colab-df-quickchart:hover {\n",
              "    background-color: var(--hover-bg-color);\n",
              "    box-shadow: 0 1px 2px rgba(60, 64, 67, 0.3), 0 1px 3px 1px rgba(60, 64, 67, 0.15);\n",
              "    fill: var(--button-hover-fill-color);\n",
              "  }\n",
              "\n",
              "  .colab-df-quickchart-complete:disabled,\n",
              "  .colab-df-quickchart-complete:disabled:hover {\n",
              "    background-color: var(--disabled-bg-color);\n",
              "    fill: var(--disabled-fill-color);\n",
              "    box-shadow: none;\n",
              "  }\n",
              "\n",
              "  .colab-df-spinner {\n",
              "    border: 2px solid var(--fill-color);\n",
              "    border-color: transparent;\n",
              "    border-bottom-color: var(--fill-color);\n",
              "    animation:\n",
              "      spin 1s steps(1) infinite;\n",
              "  }\n",
              "\n",
              "  @keyframes spin {\n",
              "    0% {\n",
              "      border-color: transparent;\n",
              "      border-bottom-color: var(--fill-color);\n",
              "      border-left-color: var(--fill-color);\n",
              "    }\n",
              "    20% {\n",
              "      border-color: transparent;\n",
              "      border-left-color: var(--fill-color);\n",
              "      border-top-color: var(--fill-color);\n",
              "    }\n",
              "    30% {\n",
              "      border-color: transparent;\n",
              "      border-left-color: var(--fill-color);\n",
              "      border-top-color: var(--fill-color);\n",
              "      border-right-color: var(--fill-color);\n",
              "    }\n",
              "    40% {\n",
              "      border-color: transparent;\n",
              "      border-right-color: var(--fill-color);\n",
              "      border-top-color: var(--fill-color);\n",
              "    }\n",
              "    60% {\n",
              "      border-color: transparent;\n",
              "      border-right-color: var(--fill-color);\n",
              "    }\n",
              "    80% {\n",
              "      border-color: transparent;\n",
              "      border-right-color: var(--fill-color);\n",
              "      border-bottom-color: var(--fill-color);\n",
              "    }\n",
              "    90% {\n",
              "      border-color: transparent;\n",
              "      border-bottom-color: var(--fill-color);\n",
              "    }\n",
              "  }\n",
              "</style>\n",
              "\n",
              "      <script>\n",
              "        async function quickchart(key) {\n",
              "          const quickchartButtonEl =\n",
              "            document.querySelector('#' + key + ' button');\n",
              "          quickchartButtonEl.disabled = true;  // To prevent multiple clicks.\n",
              "          quickchartButtonEl.classList.add('colab-df-spinner');\n",
              "          try {\n",
              "            const charts = await google.colab.kernel.invokeFunction(\n",
              "                'suggestCharts', [key], {});\n",
              "          } catch (error) {\n",
              "            console.error('Error during call to suggestCharts:', error);\n",
              "          }\n",
              "          quickchartButtonEl.classList.remove('colab-df-spinner');\n",
              "          quickchartButtonEl.classList.add('colab-df-quickchart-complete');\n",
              "        }\n",
              "        (() => {\n",
              "          let quickchartButtonEl =\n",
              "            document.querySelector('#df-0c09a846-86a4-4596-9448-a554528f3ede button');\n",
              "          quickchartButtonEl.style.display =\n",
              "            google.colab.kernel.accessAllowed ? 'block' : 'none';\n",
              "        })();\n",
              "      </script>\n",
              "    </div>\n",
              "\n",
              "  <div id=\"id_0735acd0-966f-46b2-b6b2-793185fd2caa\">\n",
              "    <style>\n",
              "      .colab-df-generate {\n",
              "        background-color: #E8F0FE;\n",
              "        border: none;\n",
              "        border-radius: 50%;\n",
              "        cursor: pointer;\n",
              "        display: none;\n",
              "        fill: #1967D2;\n",
              "        height: 32px;\n",
              "        padding: 0 0 0 0;\n",
              "        width: 32px;\n",
              "      }\n",
              "\n",
              "      .colab-df-generate:hover {\n",
              "        background-color: #E2EBFA;\n",
              "        box-shadow: 0px 1px 2px rgba(60, 64, 67, 0.3), 0px 1px 3px 1px rgba(60, 64, 67, 0.15);\n",
              "        fill: #174EA6;\n",
              "      }\n",
              "\n",
              "      [theme=dark] .colab-df-generate {\n",
              "        background-color: #3B4455;\n",
              "        fill: #D2E3FC;\n",
              "      }\n",
              "\n",
              "      [theme=dark] .colab-df-generate:hover {\n",
              "        background-color: #434B5C;\n",
              "        box-shadow: 0px 1px 3px 1px rgba(0, 0, 0, 0.15);\n",
              "        filter: drop-shadow(0px 1px 2px rgba(0, 0, 0, 0.3));\n",
              "        fill: #FFFFFF;\n",
              "      }\n",
              "    </style>\n",
              "    <button class=\"colab-df-generate\" onclick=\"generateWithVariable('matrix')\"\n",
              "            title=\"Generate code using this dataframe.\"\n",
              "            style=\"display:none;\">\n",
              "\n",
              "  <svg xmlns=\"http://www.w3.org/2000/svg\" height=\"24px\"viewBox=\"0 0 24 24\"\n",
              "       width=\"24px\">\n",
              "    <path d=\"M7,19H8.4L18.45,9,17,7.55,7,17.6ZM5,21V16.75L18.45,3.32a2,2,0,0,1,2.83,0l1.4,1.43a1.91,1.91,0,0,1,.58,1.4,1.91,1.91,0,0,1-.58,1.4L9.25,21ZM18.45,9,17,7.55Zm-12,3A5.31,5.31,0,0,0,4.9,8.1,5.31,5.31,0,0,0,1,6.5,5.31,5.31,0,0,0,4.9,4.9,5.31,5.31,0,0,0,6.5,1,5.31,5.31,0,0,0,8.1,4.9,5.31,5.31,0,0,0,12,6.5,5.46,5.46,0,0,0,6.5,12Z\"/>\n",
              "  </svg>\n",
              "    </button>\n",
              "    <script>\n",
              "      (() => {\n",
              "      const buttonEl =\n",
              "        document.querySelector('#id_0735acd0-966f-46b2-b6b2-793185fd2caa button.colab-df-generate');\n",
              "      buttonEl.style.display =\n",
              "        google.colab.kernel.accessAllowed ? 'block' : 'none';\n",
              "\n",
              "      buttonEl.onclick = () => {\n",
              "        google.colab.notebook.generateWithVariable('matrix');\n",
              "      }\n",
              "      })();\n",
              "    </script>\n",
              "  </div>\n",
              "\n",
              "    </div>\n",
              "  </div>\n"
            ],
            "application/vnd.google.colaboratory.intrinsic+json": {
              "type": "dataframe",
              "variable_name": "matrix",
              "summary": "{\n  \"name\": \"matrix\",\n  \"rows\": 25,\n  \"fields\": [\n    {\n      \"column\": \"HOUR\",\n      \"properties\": {\n        \"dtype\": \"string\",\n        \"num_unique_values\": 25,\n        \"samples\": [\n          8,\n          16,\n          0\n        ],\n        \"semantic_type\": \"\",\n        \"description\": \"\"\n      }\n    },\n    {\n      \"column\": \"Friday\",\n      \"properties\": {\n        \"dtype\": \"number\",\n        \"std\": 61,\n        \"min\": 3,\n        \"max\": 321,\n        \"num_unique_values\": 18,\n        \"samples\": [\n          3,\n          4,\n          16\n        ],\n        \"semantic_type\": \"\",\n        \"description\": \"\"\n      }\n    },\n    {\n      \"column\": \"Monday\",\n      \"properties\": {\n        \"dtype\": \"number\",\n        \"std\": 66,\n        \"min\": 3,\n        \"max\": 344,\n        \"num_unique_values\": 17,\n        \"samples\": [\n          8,\n          11,\n          13\n        ],\n        \"semantic_type\": \"\",\n        \"description\": \"\"\n      }\n    },\n    {\n      \"column\": \"Saturday\",\n      \"properties\": {\n        \"dtype\": \"number\",\n        \"std\": 58,\n        \"min\": 4,\n        \"max\": 304,\n        \"num_unique_values\": 15,\n        \"samples\": [\n          16,\n          14,\n          7\n        ],\n        \"semantic_type\": \"\",\n        \"description\": \"\"\n      }\n    },\n    {\n      \"column\": \"Sunday\",\n      \"properties\": {\n        \"dtype\": \"number\",\n        \"std\": 53,\n        \"min\": 4,\n        \"max\": 279,\n        \"num_unique_values\": 14,\n        \"samples\": [\n          20,\n          7,\n          4\n        ],\n        \"semantic_type\": \"\",\n        \"description\": \"\"\n      }\n    },\n    {\n      \"column\": \"Thursday\",\n      \"properties\": {\n        \"dtype\": \"number\",\n        \"std\": 57,\n        \"min\": 1,\n        \"max\": 300,\n        \"num_unique_values\": 18,\n        \"samples\": [\n          2,\n          8,\n          16\n        ],\n        \"semantic_type\": \"\",\n        \"description\": \"\"\n      }\n    },\n    {\n      \"column\": \"Tuesday\",\n      \"properties\": {\n        \"dtype\": \"number\",\n        \"std\": 62,\n        \"min\": 3,\n        \"max\": 323,\n        \"num_unique_values\": 17,\n        \"samples\": [\n          8,\n          5,\n          15\n        ],\n        \"semantic_type\": \"\",\n        \"description\": \"\"\n      }\n    },\n    {\n      \"column\": \"Wednesday\",\n      \"properties\": {\n        \"dtype\": \"number\",\n        \"std\": 63,\n        \"min\": 3,\n        \"max\": 329,\n        \"num_unique_values\": 17,\n        \"samples\": [\n          6,\n          7,\n          18\n        ],\n        \"semantic_type\": \"\",\n        \"description\": \"\"\n      }\n    },\n    {\n      \"column\": \"Total\",\n      \"properties\": {\n        \"dtype\": \"number\",\n        \"std\": 423,\n        \"min\": 31,\n        \"max\": 2200,\n        \"num_unique_values\": 24,\n        \"samples\": [\n          81,\n          138,\n          38\n        ],\n        \"semantic_type\": \"\",\n        \"description\": \"\"\n      }\n    }\n  ]\n}"
            }
          },
          "metadata": {},
          "execution_count": 184
        }
      ]
    },
    {
      "cell_type": "markdown",
      "source": [
        "# c. Unsupervised Learning"
      ],
      "metadata": {
        "id": "GKNlfy7XKmRe"
      }
    },
    {
      "cell_type": "markdown",
      "source": [
        "## 1. Clustering data"
      ],
      "metadata": {
        "id": "nP7IxosuKsXU"
      }
    },
    {
      "cell_type": "code",
      "source": [],
      "metadata": {
        "id": "f9FmZzzVKvG4"
      },
      "execution_count": null,
      "outputs": []
    },
    {
      "cell_type": "code",
      "source": [],
      "metadata": {
        "id": "Zal6qyuYKrks"
      },
      "execution_count": null,
      "outputs": []
    }
  ]
}