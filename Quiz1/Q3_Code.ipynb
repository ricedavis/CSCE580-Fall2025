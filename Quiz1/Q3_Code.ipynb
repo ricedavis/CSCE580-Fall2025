{
  "nbformat": 4,
  "nbformat_minor": 0,
  "metadata": {
    "colab": {
      "provenance": [],
      "authorship_tag": "ABX9TyOhxCXsS6LNVncG6oxduvtN",
      "include_colab_link": true
    },
    "kernelspec": {
      "name": "python3",
      "display_name": "Python 3"
    },
    "language_info": {
      "name": "python"
    }
  },
  "cells": [
    {
      "cell_type": "markdown",
      "metadata": {
        "id": "view-in-github",
        "colab_type": "text"
      },
      "source": [
        "<a href=\"https://colab.research.google.com/github/ricedavis/CSCE580-Fall2025/blob/main/Quiz1/Q3_Code.ipynb\" target=\"_parent\"><img src=\"https://colab.research.google.com/assets/colab-badge.svg\" alt=\"Open In Colab\"/></a>"
      ]
    },
    {
      "cell_type": "markdown",
      "source": [
        "# a. Data Issues"
      ],
      "metadata": {
        "id": "nQPomX8pQqny"
      }
    },
    {
      "cell_type": "code",
      "execution_count": 1,
      "metadata": {
        "id": "w2BR1hdfMI0K",
        "colab": {
          "base_uri": "https://localhost:8080/"
        },
        "outputId": "1ca284aa-4041-4b21-8825-49478db3bb81"
      },
      "outputs": [
        {
          "output_type": "stream",
          "name": "stdout",
          "text": [
            "Mounted at /content/drive\n"
          ]
        }
      ],
      "source": [
        "from google.colab import drive\n",
        "drive.mount('/content/drive')"
      ]
    },
    {
      "cell_type": "code",
      "source": [
        "import pandas as pd"
      ],
      "metadata": {
        "id": "co2UP8DlOK9x"
      },
      "execution_count": 7,
      "outputs": []
    },
    {
      "cell_type": "code",
      "source": [
        "df = pd.read_csv('/content/drive/MyDrive/Redacted-Department _ CAD Reconciliation.csv')"
      ],
      "metadata": {
        "id": "DC31bIQ4OOwx"
      },
      "execution_count": 18,
      "outputs": []
    },
    {
      "cell_type": "code",
      "source": [
        "df.head()"
      ],
      "metadata": {
        "colab": {
          "base_uri": "https://localhost:8080/",
          "height": 206
        },
        "id": "OS2FZ5Z2O1Rj",
        "outputId": "816d63b6-9f5e-4945-d9e8-33a8e0d6c9ff"
      },
      "execution_count": 29,
      "outputs": [
        {
          "output_type": "execute_result",
          "data": {
            "text/plain": [
              "      XREF ID         DISPATCH UNIT  ... CALL COMPLETE SHIFT\n",
              "0  2025107105  BAT111, E171, LDR175  ...  9/5/25 16:20     C\n",
              "1  2025107223                BAT111  ...  9/5/25 17:55     C\n",
              "2  2025107415                  E171  ...  9/4/25 21:09     C\n",
              "3  2025107411                  E171  ...  9/4/25 21:02     C\n",
              "4  2025107384  BAT111, E171, LDR175  ...  9/4/25 21:36     C\n",
              "\n",
              "[5 rows x 8 columns]"
            ],
            "text/html": [
              "\n",
              "  <div id=\"df-2f21277d-a043-4b54-a748-d15597af55e4\" class=\"colab-df-container\">\n",
              "    <div>\n",
              "<style scoped>\n",
              "    .dataframe tbody tr th:only-of-type {\n",
              "        vertical-align: middle;\n",
              "    }\n",
              "\n",
              "    .dataframe tbody tr th {\n",
              "        vertical-align: top;\n",
              "    }\n",
              "\n",
              "    .dataframe thead th {\n",
              "        text-align: right;\n",
              "    }\n",
              "</style>\n",
              "<table border=\"1\" class=\"dataframe\">\n",
              "  <thead>\n",
              "    <tr style=\"text-align: right;\">\n",
              "      <th></th>\n",
              "      <th>XREF ID</th>\n",
              "      <th>DISPATCH UNIT</th>\n",
              "      <th>DISPATCH CREATED DATE</th>\n",
              "      <th>INCIDENT NUMBER</th>\n",
              "      <th>1ST UNIT ON SCENE</th>\n",
              "      <th>ALARM DATE TIME</th>\n",
              "      <th>CALL COMPLETE</th>\n",
              "      <th>SHIFT</th>\n",
              "    </tr>\n",
              "  </thead>\n",
              "  <tbody>\n",
              "    <tr>\n",
              "      <th>0</th>\n",
              "      <td>2025107105</td>\n",
              "      <td>BAT111, E171, LDR175</td>\n",
              "      <td>2025-03-24 15:54:00</td>\n",
              "      <td>25-1368</td>\n",
              "      <td>BC-111</td>\n",
              "      <td>3/24/25 15:46</td>\n",
              "      <td>9/5/25 16:20</td>\n",
              "      <td>C</td>\n",
              "    </tr>\n",
              "    <tr>\n",
              "      <th>1</th>\n",
              "      <td>2025107223</td>\n",
              "      <td>BAT111</td>\n",
              "      <td>2025-03-24 17:28:00</td>\n",
              "      <td>25-1369</td>\n",
              "      <td>BC-111</td>\n",
              "      <td>3/24/25 17:23</td>\n",
              "      <td>9/5/25 17:55</td>\n",
              "      <td>C</td>\n",
              "    </tr>\n",
              "    <tr>\n",
              "      <th>2</th>\n",
              "      <td>2025107415</td>\n",
              "      <td>E171</td>\n",
              "      <td>2025-03-24 21:03:00</td>\n",
              "      <td>25-1370</td>\n",
              "      <td>E-171</td>\n",
              "      <td>3/24/25 21:02</td>\n",
              "      <td>9/4/25 21:09</td>\n",
              "      <td>C</td>\n",
              "    </tr>\n",
              "    <tr>\n",
              "      <th>3</th>\n",
              "      <td>2025107411</td>\n",
              "      <td>E171</td>\n",
              "      <td>2025-03-24 21:03:00</td>\n",
              "      <td>25-1371</td>\n",
              "      <td>NaN</td>\n",
              "      <td>3/24/25 20:58</td>\n",
              "      <td>9/4/25 21:02</td>\n",
              "      <td>C</td>\n",
              "    </tr>\n",
              "    <tr>\n",
              "      <th>4</th>\n",
              "      <td>2025107384</td>\n",
              "      <td>BAT111, E171, LDR175</td>\n",
              "      <td>2025-03-24 21:43:00</td>\n",
              "      <td>25-1374</td>\n",
              "      <td>BC-111</td>\n",
              "      <td>3/24/25 20:30</td>\n",
              "      <td>9/4/25 21:36</td>\n",
              "      <td>C</td>\n",
              "    </tr>\n",
              "  </tbody>\n",
              "</table>\n",
              "</div>\n",
              "    <div class=\"colab-df-buttons\">\n",
              "\n",
              "  <div class=\"colab-df-container\">\n",
              "    <button class=\"colab-df-convert\" onclick=\"convertToInteractive('df-2f21277d-a043-4b54-a748-d15597af55e4')\"\n",
              "            title=\"Convert this dataframe to an interactive table.\"\n",
              "            style=\"display:none;\">\n",
              "\n",
              "  <svg xmlns=\"http://www.w3.org/2000/svg\" height=\"24px\" viewBox=\"0 -960 960 960\">\n",
              "    <path d=\"M120-120v-720h720v720H120Zm60-500h600v-160H180v160Zm220 220h160v-160H400v160Zm0 220h160v-160H400v160ZM180-400h160v-160H180v160Zm440 0h160v-160H620v160ZM180-180h160v-160H180v160Zm440 0h160v-160H620v160Z\"/>\n",
              "  </svg>\n",
              "    </button>\n",
              "\n",
              "  <style>\n",
              "    .colab-df-container {\n",
              "      display:flex;\n",
              "      gap: 12px;\n",
              "    }\n",
              "\n",
              "    .colab-df-convert {\n",
              "      background-color: #E8F0FE;\n",
              "      border: none;\n",
              "      border-radius: 50%;\n",
              "      cursor: pointer;\n",
              "      display: none;\n",
              "      fill: #1967D2;\n",
              "      height: 32px;\n",
              "      padding: 0 0 0 0;\n",
              "      width: 32px;\n",
              "    }\n",
              "\n",
              "    .colab-df-convert:hover {\n",
              "      background-color: #E2EBFA;\n",
              "      box-shadow: 0px 1px 2px rgba(60, 64, 67, 0.3), 0px 1px 3px 1px rgba(60, 64, 67, 0.15);\n",
              "      fill: #174EA6;\n",
              "    }\n",
              "\n",
              "    .colab-df-buttons div {\n",
              "      margin-bottom: 4px;\n",
              "    }\n",
              "\n",
              "    [theme=dark] .colab-df-convert {\n",
              "      background-color: #3B4455;\n",
              "      fill: #D2E3FC;\n",
              "    }\n",
              "\n",
              "    [theme=dark] .colab-df-convert:hover {\n",
              "      background-color: #434B5C;\n",
              "      box-shadow: 0px 1px 3px 1px rgba(0, 0, 0, 0.15);\n",
              "      filter: drop-shadow(0px 1px 2px rgba(0, 0, 0, 0.3));\n",
              "      fill: #FFFFFF;\n",
              "    }\n",
              "  </style>\n",
              "\n",
              "    <script>\n",
              "      const buttonEl =\n",
              "        document.querySelector('#df-2f21277d-a043-4b54-a748-d15597af55e4 button.colab-df-convert');\n",
              "      buttonEl.style.display =\n",
              "        google.colab.kernel.accessAllowed ? 'block' : 'none';\n",
              "\n",
              "      async function convertToInteractive(key) {\n",
              "        const element = document.querySelector('#df-2f21277d-a043-4b54-a748-d15597af55e4');\n",
              "        const dataTable =\n",
              "          await google.colab.kernel.invokeFunction('convertToInteractive',\n",
              "                                                    [key], {});\n",
              "        if (!dataTable) return;\n",
              "\n",
              "        const docLinkHtml = 'Like what you see? Visit the ' +\n",
              "          '<a target=\"_blank\" href=https://colab.research.google.com/notebooks/data_table.ipynb>data table notebook</a>'\n",
              "          + ' to learn more about interactive tables.';\n",
              "        element.innerHTML = '';\n",
              "        dataTable['output_type'] = 'display_data';\n",
              "        await google.colab.output.renderOutput(dataTable, element);\n",
              "        const docLink = document.createElement('div');\n",
              "        docLink.innerHTML = docLinkHtml;\n",
              "        element.appendChild(docLink);\n",
              "      }\n",
              "    </script>\n",
              "  </div>\n",
              "\n",
              "\n",
              "    <div id=\"df-ba92e3e3-8a5e-4be7-9b8a-79b6c84e51f5\">\n",
              "      <button class=\"colab-df-quickchart\" onclick=\"quickchart('df-ba92e3e3-8a5e-4be7-9b8a-79b6c84e51f5')\"\n",
              "                title=\"Suggest charts\"\n",
              "                style=\"display:none;\">\n",
              "\n",
              "<svg xmlns=\"http://www.w3.org/2000/svg\" height=\"24px\"viewBox=\"0 0 24 24\"\n",
              "     width=\"24px\">\n",
              "    <g>\n",
              "        <path d=\"M19 3H5c-1.1 0-2 .9-2 2v14c0 1.1.9 2 2 2h14c1.1 0 2-.9 2-2V5c0-1.1-.9-2-2-2zM9 17H7v-7h2v7zm4 0h-2V7h2v10zm4 0h-2v-4h2v4z\"/>\n",
              "    </g>\n",
              "</svg>\n",
              "      </button>\n",
              "\n",
              "<style>\n",
              "  .colab-df-quickchart {\n",
              "      --bg-color: #E8F0FE;\n",
              "      --fill-color: #1967D2;\n",
              "      --hover-bg-color: #E2EBFA;\n",
              "      --hover-fill-color: #174EA6;\n",
              "      --disabled-fill-color: #AAA;\n",
              "      --disabled-bg-color: #DDD;\n",
              "  }\n",
              "\n",
              "  [theme=dark] .colab-df-quickchart {\n",
              "      --bg-color: #3B4455;\n",
              "      --fill-color: #D2E3FC;\n",
              "      --hover-bg-color: #434B5C;\n",
              "      --hover-fill-color: #FFFFFF;\n",
              "      --disabled-bg-color: #3B4455;\n",
              "      --disabled-fill-color: #666;\n",
              "  }\n",
              "\n",
              "  .colab-df-quickchart {\n",
              "    background-color: var(--bg-color);\n",
              "    border: none;\n",
              "    border-radius: 50%;\n",
              "    cursor: pointer;\n",
              "    display: none;\n",
              "    fill: var(--fill-color);\n",
              "    height: 32px;\n",
              "    padding: 0;\n",
              "    width: 32px;\n",
              "  }\n",
              "\n",
              "  .colab-df-quickchart:hover {\n",
              "    background-color: var(--hover-bg-color);\n",
              "    box-shadow: 0 1px 2px rgba(60, 64, 67, 0.3), 0 1px 3px 1px rgba(60, 64, 67, 0.15);\n",
              "    fill: var(--button-hover-fill-color);\n",
              "  }\n",
              "\n",
              "  .colab-df-quickchart-complete:disabled,\n",
              "  .colab-df-quickchart-complete:disabled:hover {\n",
              "    background-color: var(--disabled-bg-color);\n",
              "    fill: var(--disabled-fill-color);\n",
              "    box-shadow: none;\n",
              "  }\n",
              "\n",
              "  .colab-df-spinner {\n",
              "    border: 2px solid var(--fill-color);\n",
              "    border-color: transparent;\n",
              "    border-bottom-color: var(--fill-color);\n",
              "    animation:\n",
              "      spin 1s steps(1) infinite;\n",
              "  }\n",
              "\n",
              "  @keyframes spin {\n",
              "    0% {\n",
              "      border-color: transparent;\n",
              "      border-bottom-color: var(--fill-color);\n",
              "      border-left-color: var(--fill-color);\n",
              "    }\n",
              "    20% {\n",
              "      border-color: transparent;\n",
              "      border-left-color: var(--fill-color);\n",
              "      border-top-color: var(--fill-color);\n",
              "    }\n",
              "    30% {\n",
              "      border-color: transparent;\n",
              "      border-left-color: var(--fill-color);\n",
              "      border-top-color: var(--fill-color);\n",
              "      border-right-color: var(--fill-color);\n",
              "    }\n",
              "    40% {\n",
              "      border-color: transparent;\n",
              "      border-right-color: var(--fill-color);\n",
              "      border-top-color: var(--fill-color);\n",
              "    }\n",
              "    60% {\n",
              "      border-color: transparent;\n",
              "      border-right-color: var(--fill-color);\n",
              "    }\n",
              "    80% {\n",
              "      border-color: transparent;\n",
              "      border-right-color: var(--fill-color);\n",
              "      border-bottom-color: var(--fill-color);\n",
              "    }\n",
              "    90% {\n",
              "      border-color: transparent;\n",
              "      border-bottom-color: var(--fill-color);\n",
              "    }\n",
              "  }\n",
              "</style>\n",
              "\n",
              "      <script>\n",
              "        async function quickchart(key) {\n",
              "          const quickchartButtonEl =\n",
              "            document.querySelector('#' + key + ' button');\n",
              "          quickchartButtonEl.disabled = true;  // To prevent multiple clicks.\n",
              "          quickchartButtonEl.classList.add('colab-df-spinner');\n",
              "          try {\n",
              "            const charts = await google.colab.kernel.invokeFunction(\n",
              "                'suggestCharts', [key], {});\n",
              "          } catch (error) {\n",
              "            console.error('Error during call to suggestCharts:', error);\n",
              "          }\n",
              "          quickchartButtonEl.classList.remove('colab-df-spinner');\n",
              "          quickchartButtonEl.classList.add('colab-df-quickchart-complete');\n",
              "        }\n",
              "        (() => {\n",
              "          let quickchartButtonEl =\n",
              "            document.querySelector('#df-ba92e3e3-8a5e-4be7-9b8a-79b6c84e51f5 button');\n",
              "          quickchartButtonEl.style.display =\n",
              "            google.colab.kernel.accessAllowed ? 'block' : 'none';\n",
              "        })();\n",
              "      </script>\n",
              "    </div>\n",
              "\n",
              "    </div>\n",
              "  </div>\n"
            ],
            "application/vnd.google.colaboratory.intrinsic+json": {
              "type": "dataframe",
              "variable_name": "df",
              "summary": "{\n  \"name\": \"df\",\n  \"rows\": 2200,\n  \"fields\": [\n    {\n      \"column\": \"XREF ID\",\n      \"properties\": {\n        \"dtype\": \"number\",\n        \"std\": 63599,\n        \"min\": 2025107105,\n        \"max\": 2025326922,\n        \"num_unique_values\": 2200,\n        \"samples\": [\n          2025239234,\n          2025228929,\n          2025276247\n        ],\n        \"semantic_type\": \"\",\n        \"description\": \"\"\n      }\n    },\n    {\n      \"column\": \"DISPATCH UNIT\",\n      \"properties\": {\n        \"dtype\": \"category\",\n        \"num_unique_values\": 53,\n        \"samples\": [\n          \"BAT111, E173, LDR175\",\n          \"BAT111, C101, C102, E171, E172, LDR175, M105\",\n          \"B117, BAT111, E171, E172, LDR175\"\n        ],\n        \"semantic_type\": \"\",\n        \"description\": \"\"\n      }\n    },\n    {\n      \"column\": \"DISPATCH CREATED DATE\",\n      \"properties\": {\n        \"dtype\": \"date\",\n        \"min\": \"2025-03-24 15:54:00\",\n        \"max\": \"2025-08-31 23:03:00\",\n        \"num_unique_values\": 2133,\n        \"samples\": [\n          \"2025-04-11 13:38:00\",\n          \"2025-08-21 15:42:00\",\n          \"2025-07-26 04:13:00\"\n        ],\n        \"semantic_type\": \"\",\n        \"description\": \"\"\n      }\n    },\n    {\n      \"column\": \"INCIDENT NUMBER\",\n      \"properties\": {\n        \"dtype\": \"string\",\n        \"num_unique_values\": 2199,\n        \"samples\": [\n          \"25-1827\",\n          \"25-2563\",\n          \"25-1763\"\n        ],\n        \"semantic_type\": \"\",\n        \"description\": \"\"\n      }\n    },\n    {\n      \"column\": \"1ST UNIT ON SCENE\",\n      \"properties\": {\n        \"dtype\": \"category\",\n        \"num_unique_values\": 10,\n        \"samples\": [\n          \"SRT-117\",\n          \"E-171\",\n          \"C-103\"\n        ],\n        \"semantic_type\": \"\",\n        \"description\": \"\"\n      }\n    },\n    {\n      \"column\": \"ALARM DATE TIME\",\n      \"properties\": {\n        \"dtype\": \"object\",\n        \"num_unique_values\": 2158,\n        \"samples\": [\n          \"5/28/25 2:16\",\n          \"4/16/25 6:00\",\n          \"4/20/25 0:20\"\n        ],\n        \"semantic_type\": \"\",\n        \"description\": \"\"\n      }\n    },\n    {\n      \"column\": \"CALL COMPLETE\",\n      \"properties\": {\n        \"dtype\": \"object\",\n        \"num_unique_values\": 1078,\n        \"samples\": [\n          \"9/4/25 23:42\",\n          \"9/5/25 1:15\",\n          \"9/5/25 3:43\"\n        ],\n        \"semantic_type\": \"\",\n        \"description\": \"\"\n      }\n    },\n    {\n      \"column\": \"SHIFT\",\n      \"properties\": {\n        \"dtype\": \"category\",\n        \"num_unique_values\": 3,\n        \"samples\": [\n          \"C\",\n          \"A\",\n          \"B\"\n        ],\n        \"semantic_type\": \"\",\n        \"description\": \"\"\n      }\n    }\n  ]\n}"
            }
          },
          "metadata": {},
          "execution_count": 29
        }
      ]
    },
    {
      "cell_type": "markdown",
      "source": [
        "## 1. Range of Data"
      ],
      "metadata": {
        "id": "QK0y6R5HQvYr"
      }
    },
    {
      "cell_type": "code",
      "source": [
        "df['DISPATCH CREATED DATE'] = pd.to_datetime(df['DISPATCH CREATED DATE'], errors = 'coerce')"
      ],
      "metadata": {
        "id": "Kc6mfUC5PwCX"
      },
      "execution_count": 34,
      "outputs": []
    },
    {
      "cell_type": "code",
      "source": [
        "# Calculate the range of data by taking the last entry time minus the first entry time\n",
        "print(f\"min: {df['DISPATCH CREATED DATE'].min()}, max: {df['DISPATCH CREATED DATE'].max()}\")\n",
        "time_range = df['DISPATCH CREATED DATE'].max() - df['DISPATCH CREATED DATE'].min()\n",
        "time_range"
      ],
      "metadata": {
        "colab": {
          "base_uri": "https://localhost:8080/"
        },
        "id": "bAMradT6QKHW",
        "outputId": "2cdbd7bf-b542-444a-a430-4c535a3a9c06"
      },
      "execution_count": 33,
      "outputs": [
        {
          "output_type": "stream",
          "name": "stdout",
          "text": [
            "min: 2025-03-24 15:54:00, max: 2025-08-31 23:03:00\n"
          ]
        },
        {
          "output_type": "execute_result",
          "data": {
            "text/plain": [
              "Timedelta('160 days 07:09:00')"
            ]
          },
          "metadata": {},
          "execution_count": 33
        }
      ]
    },
    {
      "cell_type": "markdown",
      "source": [
        "The range of data is from 2025-03-24 15:54:00 to 2025-08-31 23:03:00, the total change in time being 160 days, 7 hours and 9 minutes."
      ],
      "metadata": {
        "id": "kRPLXpIfQ6WO"
      }
    },
    {
      "cell_type": "markdown",
      "source": [
        "## 2. Percent of data missing from each column"
      ],
      "metadata": {
        "id": "f_zd1ukHQn6U"
      }
    },
    {
      "cell_type": "code",
      "source": [
        "# Find number of null values for each column\n",
        "df.isna().sum()"
      ],
      "metadata": {
        "colab": {
          "base_uri": "https://localhost:8080/",
          "height": 335
        },
        "id": "nLvQWmHDQ5N3",
        "outputId": "73680a7e-2af4-4d55-b7b5-51280eda6b37"
      },
      "execution_count": 39,
      "outputs": [
        {
          "output_type": "execute_result",
          "data": {
            "text/plain": [
              "XREF ID                    0\n",
              "DISPATCH UNIT              0\n",
              "DISPATCH CREATED DATE      0\n",
              "INCIDENT NUMBER            0\n",
              "1ST UNIT ON SCENE        428\n",
              "ALARM DATE TIME           31\n",
              "CALL COMPLETE             31\n",
              "SHIFT                     69\n",
              "dtype: int64"
            ],
            "text/html": [
              "<div>\n",
              "<style scoped>\n",
              "    .dataframe tbody tr th:only-of-type {\n",
              "        vertical-align: middle;\n",
              "    }\n",
              "\n",
              "    .dataframe tbody tr th {\n",
              "        vertical-align: top;\n",
              "    }\n",
              "\n",
              "    .dataframe thead th {\n",
              "        text-align: right;\n",
              "    }\n",
              "</style>\n",
              "<table border=\"1\" class=\"dataframe\">\n",
              "  <thead>\n",
              "    <tr style=\"text-align: right;\">\n",
              "      <th></th>\n",
              "      <th>0</th>\n",
              "    </tr>\n",
              "  </thead>\n",
              "  <tbody>\n",
              "    <tr>\n",
              "      <th>XREF ID</th>\n",
              "      <td>0</td>\n",
              "    </tr>\n",
              "    <tr>\n",
              "      <th>DISPATCH UNIT</th>\n",
              "      <td>0</td>\n",
              "    </tr>\n",
              "    <tr>\n",
              "      <th>DISPATCH CREATED DATE</th>\n",
              "      <td>0</td>\n",
              "    </tr>\n",
              "    <tr>\n",
              "      <th>INCIDENT NUMBER</th>\n",
              "      <td>0</td>\n",
              "    </tr>\n",
              "    <tr>\n",
              "      <th>1ST UNIT ON SCENE</th>\n",
              "      <td>428</td>\n",
              "    </tr>\n",
              "    <tr>\n",
              "      <th>ALARM DATE TIME</th>\n",
              "      <td>31</td>\n",
              "    </tr>\n",
              "    <tr>\n",
              "      <th>CALL COMPLETE</th>\n",
              "      <td>31</td>\n",
              "    </tr>\n",
              "    <tr>\n",
              "      <th>SHIFT</th>\n",
              "      <td>69</td>\n",
              "    </tr>\n",
              "  </tbody>\n",
              "</table>\n",
              "</div><br><label><b>dtype:</b> int64</label>"
            ]
          },
          "metadata": {},
          "execution_count": 39
        }
      ]
    },
    {
      "cell_type": "code",
      "source": [
        "# Amount of values that should be in each column\n",
        "len(df)\n",
        "\n",
        "# Calculate percent of missing values per column\n",
        "def calc_percent(column):\n",
        "  percent_missing = df[column].isna().sum()/2200*100\n",
        "  return f\"{column} percent of missing values = {percent_missing:.2f}%\"\n",
        "\n",
        "for column in df:\n",
        "  result = calc_percent(column)\n",
        "  print(result)"
      ],
      "metadata": {
        "colab": {
          "base_uri": "https://localhost:8080/"
        },
        "id": "XAjE7-UBSRsB",
        "outputId": "68eecc4d-6efc-404c-b023-3c9e4eeab791"
      },
      "execution_count": 60,
      "outputs": [
        {
          "output_type": "stream",
          "name": "stdout",
          "text": [
            "XREF ID percent of missing values = 0.00%\n",
            "DISPATCH UNIT percent of missing values = 0.00%\n",
            "DISPATCH CREATED DATE percent of missing values = 0.00%\n",
            "INCIDENT NUMBER percent of missing values = 0.00%\n",
            "1ST UNIT ON SCENE percent of missing values = 19.45%\n",
            "ALARM DATE TIME percent of missing values = 1.41%\n",
            "CALL COMPLETE percent of missing values = 1.41%\n",
            "SHIFT percent of missing values = 3.14%\n"
          ]
        }
      ]
    },
    {
      "cell_type": "markdown",
      "source": [
        "Calculated the percent of missing values for each column, with the column '1ST UNIT ON SCENE' having the highest rate of missing values."
      ],
      "metadata": {
        "id": "Mj-palIEVYdt"
      }
    },
    {
      "cell_type": "markdown",
      "source": [
        "## 3. Identifying Issues in the Data"
      ],
      "metadata": {
        "id": "h0Jm4Di1VgzP"
      }
    },
    {
      "cell_type": "markdown",
      "source": [
        "Based on the prior task, we know that there are lots of **missing values**, that is one issue with the data."
      ],
      "metadata": {
        "id": "YdEXiucCW78i"
      }
    },
    {
      "cell_type": "code",
      "source": [
        "df.dtypes"
      ],
      "metadata": {
        "id": "trUe0AbtWIOI",
        "outputId": "c3b626f3-b066-4da3-c1b9-6ad3cf2757b4",
        "colab": {
          "base_uri": "https://localhost:8080/",
          "height": 335
        }
      },
      "execution_count": 61,
      "outputs": [
        {
          "output_type": "execute_result",
          "data": {
            "text/plain": [
              "XREF ID                           int64\n",
              "DISPATCH UNIT                    object\n",
              "DISPATCH CREATED DATE    datetime64[ns]\n",
              "INCIDENT NUMBER                  object\n",
              "1ST UNIT ON SCENE                object\n",
              "ALARM DATE TIME                  object\n",
              "CALL COMPLETE                    object\n",
              "SHIFT                            object\n",
              "dtype: object"
            ],
            "text/html": [
              "<div>\n",
              "<style scoped>\n",
              "    .dataframe tbody tr th:only-of-type {\n",
              "        vertical-align: middle;\n",
              "    }\n",
              "\n",
              "    .dataframe tbody tr th {\n",
              "        vertical-align: top;\n",
              "    }\n",
              "\n",
              "    .dataframe thead th {\n",
              "        text-align: right;\n",
              "    }\n",
              "</style>\n",
              "<table border=\"1\" class=\"dataframe\">\n",
              "  <thead>\n",
              "    <tr style=\"text-align: right;\">\n",
              "      <th></th>\n",
              "      <th>0</th>\n",
              "    </tr>\n",
              "  </thead>\n",
              "  <tbody>\n",
              "    <tr>\n",
              "      <th>XREF ID</th>\n",
              "      <td>int64</td>\n",
              "    </tr>\n",
              "    <tr>\n",
              "      <th>DISPATCH UNIT</th>\n",
              "      <td>object</td>\n",
              "    </tr>\n",
              "    <tr>\n",
              "      <th>DISPATCH CREATED DATE</th>\n",
              "      <td>datetime64[ns]</td>\n",
              "    </tr>\n",
              "    <tr>\n",
              "      <th>INCIDENT NUMBER</th>\n",
              "      <td>object</td>\n",
              "    </tr>\n",
              "    <tr>\n",
              "      <th>1ST UNIT ON SCENE</th>\n",
              "      <td>object</td>\n",
              "    </tr>\n",
              "    <tr>\n",
              "      <th>ALARM DATE TIME</th>\n",
              "      <td>object</td>\n",
              "    </tr>\n",
              "    <tr>\n",
              "      <th>CALL COMPLETE</th>\n",
              "      <td>object</td>\n",
              "    </tr>\n",
              "    <tr>\n",
              "      <th>SHIFT</th>\n",
              "      <td>object</td>\n",
              "    </tr>\n",
              "  </tbody>\n",
              "</table>\n",
              "</div><br><label><b>dtype:</b> object</label>"
            ]
          },
          "metadata": {},
          "execution_count": 61
        }
      ]
    },
    {
      "cell_type": "code",
      "source": [
        "df.head()"
      ],
      "metadata": {
        "id": "LED2fvNxZjn7",
        "outputId": "0a7c8de9-8204-453b-bf80-64838116f47f",
        "colab": {
          "base_uri": "https://localhost:8080/",
          "height": 206
        }
      },
      "execution_count": 63,
      "outputs": [
        {
          "output_type": "execute_result",
          "data": {
            "text/plain": [
              "      XREF ID         DISPATCH UNIT  ... CALL COMPLETE SHIFT\n",
              "0  2025107105  BAT111, E171, LDR175  ...  9/5/25 16:20     C\n",
              "1  2025107223                BAT111  ...  9/5/25 17:55     C\n",
              "2  2025107415                  E171  ...  9/4/25 21:09     C\n",
              "3  2025107411                  E171  ...  9/4/25 21:02     C\n",
              "4  2025107384  BAT111, E171, LDR175  ...  9/4/25 21:36     C\n",
              "\n",
              "[5 rows x 8 columns]"
            ],
            "text/html": [
              "\n",
              "  <div id=\"df-ba6b9102-1d7f-4023-9c7c-e8076cacf47e\" class=\"colab-df-container\">\n",
              "    <div>\n",
              "<style scoped>\n",
              "    .dataframe tbody tr th:only-of-type {\n",
              "        vertical-align: middle;\n",
              "    }\n",
              "\n",
              "    .dataframe tbody tr th {\n",
              "        vertical-align: top;\n",
              "    }\n",
              "\n",
              "    .dataframe thead th {\n",
              "        text-align: right;\n",
              "    }\n",
              "</style>\n",
              "<table border=\"1\" class=\"dataframe\">\n",
              "  <thead>\n",
              "    <tr style=\"text-align: right;\">\n",
              "      <th></th>\n",
              "      <th>XREF ID</th>\n",
              "      <th>DISPATCH UNIT</th>\n",
              "      <th>DISPATCH CREATED DATE</th>\n",
              "      <th>INCIDENT NUMBER</th>\n",
              "      <th>1ST UNIT ON SCENE</th>\n",
              "      <th>ALARM DATE TIME</th>\n",
              "      <th>CALL COMPLETE</th>\n",
              "      <th>SHIFT</th>\n",
              "    </tr>\n",
              "  </thead>\n",
              "  <tbody>\n",
              "    <tr>\n",
              "      <th>0</th>\n",
              "      <td>2025107105</td>\n",
              "      <td>BAT111, E171, LDR175</td>\n",
              "      <td>2025-03-24 15:54:00</td>\n",
              "      <td>25-1368</td>\n",
              "      <td>BC-111</td>\n",
              "      <td>3/24/25 15:46</td>\n",
              "      <td>9/5/25 16:20</td>\n",
              "      <td>C</td>\n",
              "    </tr>\n",
              "    <tr>\n",
              "      <th>1</th>\n",
              "      <td>2025107223</td>\n",
              "      <td>BAT111</td>\n",
              "      <td>2025-03-24 17:28:00</td>\n",
              "      <td>25-1369</td>\n",
              "      <td>BC-111</td>\n",
              "      <td>3/24/25 17:23</td>\n",
              "      <td>9/5/25 17:55</td>\n",
              "      <td>C</td>\n",
              "    </tr>\n",
              "    <tr>\n",
              "      <th>2</th>\n",
              "      <td>2025107415</td>\n",
              "      <td>E171</td>\n",
              "      <td>2025-03-24 21:03:00</td>\n",
              "      <td>25-1370</td>\n",
              "      <td>E-171</td>\n",
              "      <td>3/24/25 21:02</td>\n",
              "      <td>9/4/25 21:09</td>\n",
              "      <td>C</td>\n",
              "    </tr>\n",
              "    <tr>\n",
              "      <th>3</th>\n",
              "      <td>2025107411</td>\n",
              "      <td>E171</td>\n",
              "      <td>2025-03-24 21:03:00</td>\n",
              "      <td>25-1371</td>\n",
              "      <td>NaN</td>\n",
              "      <td>3/24/25 20:58</td>\n",
              "      <td>9/4/25 21:02</td>\n",
              "      <td>C</td>\n",
              "    </tr>\n",
              "    <tr>\n",
              "      <th>4</th>\n",
              "      <td>2025107384</td>\n",
              "      <td>BAT111, E171, LDR175</td>\n",
              "      <td>2025-03-24 21:43:00</td>\n",
              "      <td>25-1374</td>\n",
              "      <td>BC-111</td>\n",
              "      <td>3/24/25 20:30</td>\n",
              "      <td>9/4/25 21:36</td>\n",
              "      <td>C</td>\n",
              "    </tr>\n",
              "  </tbody>\n",
              "</table>\n",
              "</div>\n",
              "    <div class=\"colab-df-buttons\">\n",
              "\n",
              "  <div class=\"colab-df-container\">\n",
              "    <button class=\"colab-df-convert\" onclick=\"convertToInteractive('df-ba6b9102-1d7f-4023-9c7c-e8076cacf47e')\"\n",
              "            title=\"Convert this dataframe to an interactive table.\"\n",
              "            style=\"display:none;\">\n",
              "\n",
              "  <svg xmlns=\"http://www.w3.org/2000/svg\" height=\"24px\" viewBox=\"0 -960 960 960\">\n",
              "    <path d=\"M120-120v-720h720v720H120Zm60-500h600v-160H180v160Zm220 220h160v-160H400v160Zm0 220h160v-160H400v160ZM180-400h160v-160H180v160Zm440 0h160v-160H620v160ZM180-180h160v-160H180v160Zm440 0h160v-160H620v160Z\"/>\n",
              "  </svg>\n",
              "    </button>\n",
              "\n",
              "  <style>\n",
              "    .colab-df-container {\n",
              "      display:flex;\n",
              "      gap: 12px;\n",
              "    }\n",
              "\n",
              "    .colab-df-convert {\n",
              "      background-color: #E8F0FE;\n",
              "      border: none;\n",
              "      border-radius: 50%;\n",
              "      cursor: pointer;\n",
              "      display: none;\n",
              "      fill: #1967D2;\n",
              "      height: 32px;\n",
              "      padding: 0 0 0 0;\n",
              "      width: 32px;\n",
              "    }\n",
              "\n",
              "    .colab-df-convert:hover {\n",
              "      background-color: #E2EBFA;\n",
              "      box-shadow: 0px 1px 2px rgba(60, 64, 67, 0.3), 0px 1px 3px 1px rgba(60, 64, 67, 0.15);\n",
              "      fill: #174EA6;\n",
              "    }\n",
              "\n",
              "    .colab-df-buttons div {\n",
              "      margin-bottom: 4px;\n",
              "    }\n",
              "\n",
              "    [theme=dark] .colab-df-convert {\n",
              "      background-color: #3B4455;\n",
              "      fill: #D2E3FC;\n",
              "    }\n",
              "\n",
              "    [theme=dark] .colab-df-convert:hover {\n",
              "      background-color: #434B5C;\n",
              "      box-shadow: 0px 1px 3px 1px rgba(0, 0, 0, 0.15);\n",
              "      filter: drop-shadow(0px 1px 2px rgba(0, 0, 0, 0.3));\n",
              "      fill: #FFFFFF;\n",
              "    }\n",
              "  </style>\n",
              "\n",
              "    <script>\n",
              "      const buttonEl =\n",
              "        document.querySelector('#df-ba6b9102-1d7f-4023-9c7c-e8076cacf47e button.colab-df-convert');\n",
              "      buttonEl.style.display =\n",
              "        google.colab.kernel.accessAllowed ? 'block' : 'none';\n",
              "\n",
              "      async function convertToInteractive(key) {\n",
              "        const element = document.querySelector('#df-ba6b9102-1d7f-4023-9c7c-e8076cacf47e');\n",
              "        const dataTable =\n",
              "          await google.colab.kernel.invokeFunction('convertToInteractive',\n",
              "                                                    [key], {});\n",
              "        if (!dataTable) return;\n",
              "\n",
              "        const docLinkHtml = 'Like what you see? Visit the ' +\n",
              "          '<a target=\"_blank\" href=https://colab.research.google.com/notebooks/data_table.ipynb>data table notebook</a>'\n",
              "          + ' to learn more about interactive tables.';\n",
              "        element.innerHTML = '';\n",
              "        dataTable['output_type'] = 'display_data';\n",
              "        await google.colab.output.renderOutput(dataTable, element);\n",
              "        const docLink = document.createElement('div');\n",
              "        docLink.innerHTML = docLinkHtml;\n",
              "        element.appendChild(docLink);\n",
              "      }\n",
              "    </script>\n",
              "  </div>\n",
              "\n",
              "\n",
              "    <div id=\"df-7c1f2317-4180-4994-b723-d262b5aa3a71\">\n",
              "      <button class=\"colab-df-quickchart\" onclick=\"quickchart('df-7c1f2317-4180-4994-b723-d262b5aa3a71')\"\n",
              "                title=\"Suggest charts\"\n",
              "                style=\"display:none;\">\n",
              "\n",
              "<svg xmlns=\"http://www.w3.org/2000/svg\" height=\"24px\"viewBox=\"0 0 24 24\"\n",
              "     width=\"24px\">\n",
              "    <g>\n",
              "        <path d=\"M19 3H5c-1.1 0-2 .9-2 2v14c0 1.1.9 2 2 2h14c1.1 0 2-.9 2-2V5c0-1.1-.9-2-2-2zM9 17H7v-7h2v7zm4 0h-2V7h2v10zm4 0h-2v-4h2v4z\"/>\n",
              "    </g>\n",
              "</svg>\n",
              "      </button>\n",
              "\n",
              "<style>\n",
              "  .colab-df-quickchart {\n",
              "      --bg-color: #E8F0FE;\n",
              "      --fill-color: #1967D2;\n",
              "      --hover-bg-color: #E2EBFA;\n",
              "      --hover-fill-color: #174EA6;\n",
              "      --disabled-fill-color: #AAA;\n",
              "      --disabled-bg-color: #DDD;\n",
              "  }\n",
              "\n",
              "  [theme=dark] .colab-df-quickchart {\n",
              "      --bg-color: #3B4455;\n",
              "      --fill-color: #D2E3FC;\n",
              "      --hover-bg-color: #434B5C;\n",
              "      --hover-fill-color: #FFFFFF;\n",
              "      --disabled-bg-color: #3B4455;\n",
              "      --disabled-fill-color: #666;\n",
              "  }\n",
              "\n",
              "  .colab-df-quickchart {\n",
              "    background-color: var(--bg-color);\n",
              "    border: none;\n",
              "    border-radius: 50%;\n",
              "    cursor: pointer;\n",
              "    display: none;\n",
              "    fill: var(--fill-color);\n",
              "    height: 32px;\n",
              "    padding: 0;\n",
              "    width: 32px;\n",
              "  }\n",
              "\n",
              "  .colab-df-quickchart:hover {\n",
              "    background-color: var(--hover-bg-color);\n",
              "    box-shadow: 0 1px 2px rgba(60, 64, 67, 0.3), 0 1px 3px 1px rgba(60, 64, 67, 0.15);\n",
              "    fill: var(--button-hover-fill-color);\n",
              "  }\n",
              "\n",
              "  .colab-df-quickchart-complete:disabled,\n",
              "  .colab-df-quickchart-complete:disabled:hover {\n",
              "    background-color: var(--disabled-bg-color);\n",
              "    fill: var(--disabled-fill-color);\n",
              "    box-shadow: none;\n",
              "  }\n",
              "\n",
              "  .colab-df-spinner {\n",
              "    border: 2px solid var(--fill-color);\n",
              "    border-color: transparent;\n",
              "    border-bottom-color: var(--fill-color);\n",
              "    animation:\n",
              "      spin 1s steps(1) infinite;\n",
              "  }\n",
              "\n",
              "  @keyframes spin {\n",
              "    0% {\n",
              "      border-color: transparent;\n",
              "      border-bottom-color: var(--fill-color);\n",
              "      border-left-color: var(--fill-color);\n",
              "    }\n",
              "    20% {\n",
              "      border-color: transparent;\n",
              "      border-left-color: var(--fill-color);\n",
              "      border-top-color: var(--fill-color);\n",
              "    }\n",
              "    30% {\n",
              "      border-color: transparent;\n",
              "      border-left-color: var(--fill-color);\n",
              "      border-top-color: var(--fill-color);\n",
              "      border-right-color: var(--fill-color);\n",
              "    }\n",
              "    40% {\n",
              "      border-color: transparent;\n",
              "      border-right-color: var(--fill-color);\n",
              "      border-top-color: var(--fill-color);\n",
              "    }\n",
              "    60% {\n",
              "      border-color: transparent;\n",
              "      border-right-color: var(--fill-color);\n",
              "    }\n",
              "    80% {\n",
              "      border-color: transparent;\n",
              "      border-right-color: var(--fill-color);\n",
              "      border-bottom-color: var(--fill-color);\n",
              "    }\n",
              "    90% {\n",
              "      border-color: transparent;\n",
              "      border-bottom-color: var(--fill-color);\n",
              "    }\n",
              "  }\n",
              "</style>\n",
              "\n",
              "      <script>\n",
              "        async function quickchart(key) {\n",
              "          const quickchartButtonEl =\n",
              "            document.querySelector('#' + key + ' button');\n",
              "          quickchartButtonEl.disabled = true;  // To prevent multiple clicks.\n",
              "          quickchartButtonEl.classList.add('colab-df-spinner');\n",
              "          try {\n",
              "            const charts = await google.colab.kernel.invokeFunction(\n",
              "                'suggestCharts', [key], {});\n",
              "          } catch (error) {\n",
              "            console.error('Error during call to suggestCharts:', error);\n",
              "          }\n",
              "          quickchartButtonEl.classList.remove('colab-df-spinner');\n",
              "          quickchartButtonEl.classList.add('colab-df-quickchart-complete');\n",
              "        }\n",
              "        (() => {\n",
              "          let quickchartButtonEl =\n",
              "            document.querySelector('#df-7c1f2317-4180-4994-b723-d262b5aa3a71 button');\n",
              "          quickchartButtonEl.style.display =\n",
              "            google.colab.kernel.accessAllowed ? 'block' : 'none';\n",
              "        })();\n",
              "      </script>\n",
              "    </div>\n",
              "\n",
              "    </div>\n",
              "  </div>\n"
            ],
            "application/vnd.google.colaboratory.intrinsic+json": {
              "type": "dataframe",
              "variable_name": "df",
              "summary": "{\n  \"name\": \"df\",\n  \"rows\": 2200,\n  \"fields\": [\n    {\n      \"column\": \"XREF ID\",\n      \"properties\": {\n        \"dtype\": \"number\",\n        \"std\": 63599,\n        \"min\": 2025107105,\n        \"max\": 2025326922,\n        \"num_unique_values\": 2200,\n        \"samples\": [\n          2025239234,\n          2025228929,\n          2025276247\n        ],\n        \"semantic_type\": \"\",\n        \"description\": \"\"\n      }\n    },\n    {\n      \"column\": \"DISPATCH UNIT\",\n      \"properties\": {\n        \"dtype\": \"category\",\n        \"num_unique_values\": 53,\n        \"samples\": [\n          \"BAT111, E173, LDR175\",\n          \"BAT111, C101, C102, E171, E172, LDR175, M105\",\n          \"B117, BAT111, E171, E172, LDR175\"\n        ],\n        \"semantic_type\": \"\",\n        \"description\": \"\"\n      }\n    },\n    {\n      \"column\": \"DISPATCH CREATED DATE\",\n      \"properties\": {\n        \"dtype\": \"date\",\n        \"min\": \"2025-03-24 15:54:00\",\n        \"max\": \"2025-08-31 23:03:00\",\n        \"num_unique_values\": 2133,\n        \"samples\": [\n          \"2025-04-11 13:38:00\",\n          \"2025-08-21 15:42:00\",\n          \"2025-07-26 04:13:00\"\n        ],\n        \"semantic_type\": \"\",\n        \"description\": \"\"\n      }\n    },\n    {\n      \"column\": \"INCIDENT NUMBER\",\n      \"properties\": {\n        \"dtype\": \"string\",\n        \"num_unique_values\": 2199,\n        \"samples\": [\n          \"25-1827\",\n          \"25-2563\",\n          \"25-1763\"\n        ],\n        \"semantic_type\": \"\",\n        \"description\": \"\"\n      }\n    },\n    {\n      \"column\": \"1ST UNIT ON SCENE\",\n      \"properties\": {\n        \"dtype\": \"category\",\n        \"num_unique_values\": 10,\n        \"samples\": [\n          \"SRT-117\",\n          \"E-171\",\n          \"C-103\"\n        ],\n        \"semantic_type\": \"\",\n        \"description\": \"\"\n      }\n    },\n    {\n      \"column\": \"ALARM DATE TIME\",\n      \"properties\": {\n        \"dtype\": \"object\",\n        \"num_unique_values\": 2158,\n        \"samples\": [\n          \"5/28/25 2:16\",\n          \"4/16/25 6:00\",\n          \"4/20/25 0:20\"\n        ],\n        \"semantic_type\": \"\",\n        \"description\": \"\"\n      }\n    },\n    {\n      \"column\": \"CALL COMPLETE\",\n      \"properties\": {\n        \"dtype\": \"object\",\n        \"num_unique_values\": 1078,\n        \"samples\": [\n          \"9/4/25 23:42\",\n          \"9/5/25 1:15\",\n          \"9/5/25 3:43\"\n        ],\n        \"semantic_type\": \"\",\n        \"description\": \"\"\n      }\n    },\n    {\n      \"column\": \"SHIFT\",\n      \"properties\": {\n        \"dtype\": \"category\",\n        \"num_unique_values\": 3,\n        \"samples\": [\n          \"C\",\n          \"A\",\n          \"B\"\n        ],\n        \"semantic_type\": \"\",\n        \"description\": \"\"\n      }\n    }\n  ]\n}"
            }
          },
          "metadata": {},
          "execution_count": 63
        }
      ]
    },
    {
      "cell_type": "markdown",
      "source": [
        "Some issues highlighted here are that some columns which represent dates are not in the proper datetime format for manipulation. \"ALARM DATE TIME\" and \"CALL COMPLETE\" are examples of these columns."
      ],
      "metadata": {
        "id": "50V8rfoSZPT8"
      }
    },
    {
      "cell_type": "markdown",
      "source": [
        "Other formatting issues can be found within the \"DISPATCH UNIT\" column, where some rows include different units seperated by commas. This inconsistency can make it tricky to analyze."
      ],
      "metadata": {
        "id": "IiGFlz5VZm15"
      }
    },
    {
      "cell_type": "markdown",
      "source": [
        "Logical errors may exist as well. It is important to check that the value in the \"CALL COMPLETE\" column does not exceed the \"ALARM DATE TIME\" as that wouldn't make sense in this context."
      ],
      "metadata": {
        "id": "iGS3xancZyCS"
      }
    },
    {
      "cell_type": "markdown",
      "source": [
        "Finally, it's important to check for duplicates within the data as well."
      ],
      "metadata": {
        "id": "d5Lno4YBaIwr"
      }
    },
    {
      "cell_type": "markdown",
      "source": [
        "## 4. Resolving Data Issues"
      ],
      "metadata": {
        "id": "plq34f8TaPig"
      }
    },
    {
      "cell_type": "code",
      "source": [],
      "metadata": {
        "id": "PnBum5BdaPLk"
      },
      "execution_count": null,
      "outputs": []
    }
  ]
}