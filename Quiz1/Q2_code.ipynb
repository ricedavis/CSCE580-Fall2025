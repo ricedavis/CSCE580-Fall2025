{
  "nbformat": 4,
  "nbformat_minor": 0,
  "metadata": {
    "colab": {
      "provenance": [],
      "authorship_tag": "ABX9TyPeVFzLFq+s0cUoPTko4JM3"
    },
    "kernelspec": {
      "name": "python3",
      "display_name": "Python 3"
    },
    "language_info": {
      "name": "python"
    }
  },
  "cells": [
    {
      "cell_type": "markdown",
      "source": [
        "# Task 1"
      ],
      "metadata": {
        "id": "VPDcRHrBXgWe"
      }
    },
    {
      "cell_type": "markdown",
      "source": [
        "Import packages"
      ],
      "metadata": {
        "id": "gtoU756aXvPM"
      }
    },
    {
      "cell_type": "code",
      "source": [
        "!pip install PyPDF2"
      ],
      "metadata": {
        "id": "t0M256S8YXbT"
      },
      "execution_count": null,
      "outputs": []
    },
    {
      "cell_type": "code",
      "source": [
        "import pandas as pd\n",
        "import matplotlib.pyplot as plt\n",
        "import PyPDF2\n",
        "import re"
      ],
      "metadata": {
        "id": "wD0DGGYrXuaQ"
      },
      "execution_count": 16,
      "outputs": []
    },
    {
      "cell_type": "markdown",
      "source": [
        "Upload resume file"
      ],
      "metadata": {
        "id": "iBLNsyyeVTr_"
      }
    },
    {
      "cell_type": "code",
      "source": [
        "from google.colab import files"
      ],
      "metadata": {
        "id": "OvAv5UVJSQ7R"
      },
      "execution_count": 6,
      "outputs": []
    },
    {
      "cell_type": "code",
      "source": [
        "uploaded = files.upload()"
      ],
      "metadata": {
        "colab": {
          "base_uri": "https://localhost:8080/",
          "height": 74
        },
        "id": "khpTnYMaVBf0",
        "outputId": "6a7236f3-4eae-4564-db69-4c4e3f0e5ec4"
      },
      "execution_count": 8,
      "outputs": [
        {
          "output_type": "display_data",
          "data": {
            "text/plain": [
              "<IPython.core.display.HTML object>"
            ],
            "text/html": [
              "\n",
              "     <input type=\"file\" id=\"files-ca8e61c0-9748-4ef4-8108-319e9ee10f57\" name=\"files[]\" multiple disabled\n",
              "        style=\"border:none\" />\n",
              "     <output id=\"result-ca8e61c0-9748-4ef4-8108-319e9ee10f57\">\n",
              "      Upload widget is only available when the cell has been executed in the\n",
              "      current browser session. Please rerun this cell to enable.\n",
              "      </output>\n",
              "      <script>// Copyright 2017 Google LLC\n",
              "//\n",
              "// Licensed under the Apache License, Version 2.0 (the \"License\");\n",
              "// you may not use this file except in compliance with the License.\n",
              "// You may obtain a copy of the License at\n",
              "//\n",
              "//      http://www.apache.org/licenses/LICENSE-2.0\n",
              "//\n",
              "// Unless required by applicable law or agreed to in writing, software\n",
              "// distributed under the License is distributed on an \"AS IS\" BASIS,\n",
              "// WITHOUT WARRANTIES OR CONDITIONS OF ANY KIND, either express or implied.\n",
              "// See the License for the specific language governing permissions and\n",
              "// limitations under the License.\n",
              "\n",
              "/**\n",
              " * @fileoverview Helpers for google.colab Python module.\n",
              " */\n",
              "(function(scope) {\n",
              "function span(text, styleAttributes = {}) {\n",
              "  const element = document.createElement('span');\n",
              "  element.textContent = text;\n",
              "  for (const key of Object.keys(styleAttributes)) {\n",
              "    element.style[key] = styleAttributes[key];\n",
              "  }\n",
              "  return element;\n",
              "}\n",
              "\n",
              "// Max number of bytes which will be uploaded at a time.\n",
              "const MAX_PAYLOAD_SIZE = 100 * 1024;\n",
              "\n",
              "function _uploadFiles(inputId, outputId) {\n",
              "  const steps = uploadFilesStep(inputId, outputId);\n",
              "  const outputElement = document.getElementById(outputId);\n",
              "  // Cache steps on the outputElement to make it available for the next call\n",
              "  // to uploadFilesContinue from Python.\n",
              "  outputElement.steps = steps;\n",
              "\n",
              "  return _uploadFilesContinue(outputId);\n",
              "}\n",
              "\n",
              "// This is roughly an async generator (not supported in the browser yet),\n",
              "// where there are multiple asynchronous steps and the Python side is going\n",
              "// to poll for completion of each step.\n",
              "// This uses a Promise to block the python side on completion of each step,\n",
              "// then passes the result of the previous step as the input to the next step.\n",
              "function _uploadFilesContinue(outputId) {\n",
              "  const outputElement = document.getElementById(outputId);\n",
              "  const steps = outputElement.steps;\n",
              "\n",
              "  const next = steps.next(outputElement.lastPromiseValue);\n",
              "  return Promise.resolve(next.value.promise).then((value) => {\n",
              "    // Cache the last promise value to make it available to the next\n",
              "    // step of the generator.\n",
              "    outputElement.lastPromiseValue = value;\n",
              "    return next.value.response;\n",
              "  });\n",
              "}\n",
              "\n",
              "/**\n",
              " * Generator function which is called between each async step of the upload\n",
              " * process.\n",
              " * @param {string} inputId Element ID of the input file picker element.\n",
              " * @param {string} outputId Element ID of the output display.\n",
              " * @return {!Iterable<!Object>} Iterable of next steps.\n",
              " */\n",
              "function* uploadFilesStep(inputId, outputId) {\n",
              "  const inputElement = document.getElementById(inputId);\n",
              "  inputElement.disabled = false;\n",
              "\n",
              "  const outputElement = document.getElementById(outputId);\n",
              "  outputElement.innerHTML = '';\n",
              "\n",
              "  const pickedPromise = new Promise((resolve) => {\n",
              "    inputElement.addEventListener('change', (e) => {\n",
              "      resolve(e.target.files);\n",
              "    });\n",
              "  });\n",
              "\n",
              "  const cancel = document.createElement('button');\n",
              "  inputElement.parentElement.appendChild(cancel);\n",
              "  cancel.textContent = 'Cancel upload';\n",
              "  const cancelPromise = new Promise((resolve) => {\n",
              "    cancel.onclick = () => {\n",
              "      resolve(null);\n",
              "    };\n",
              "  });\n",
              "\n",
              "  // Wait for the user to pick the files.\n",
              "  const files = yield {\n",
              "    promise: Promise.race([pickedPromise, cancelPromise]),\n",
              "    response: {\n",
              "      action: 'starting',\n",
              "    }\n",
              "  };\n",
              "\n",
              "  cancel.remove();\n",
              "\n",
              "  // Disable the input element since further picks are not allowed.\n",
              "  inputElement.disabled = true;\n",
              "\n",
              "  if (!files) {\n",
              "    return {\n",
              "      response: {\n",
              "        action: 'complete',\n",
              "      }\n",
              "    };\n",
              "  }\n",
              "\n",
              "  for (const file of files) {\n",
              "    const li = document.createElement('li');\n",
              "    li.append(span(file.name, {fontWeight: 'bold'}));\n",
              "    li.append(span(\n",
              "        `(${file.type || 'n/a'}) - ${file.size} bytes, ` +\n",
              "        `last modified: ${\n",
              "            file.lastModifiedDate ? file.lastModifiedDate.toLocaleDateString() :\n",
              "                                    'n/a'} - `));\n",
              "    const percent = span('0% done');\n",
              "    li.appendChild(percent);\n",
              "\n",
              "    outputElement.appendChild(li);\n",
              "\n",
              "    const fileDataPromise = new Promise((resolve) => {\n",
              "      const reader = new FileReader();\n",
              "      reader.onload = (e) => {\n",
              "        resolve(e.target.result);\n",
              "      };\n",
              "      reader.readAsArrayBuffer(file);\n",
              "    });\n",
              "    // Wait for the data to be ready.\n",
              "    let fileData = yield {\n",
              "      promise: fileDataPromise,\n",
              "      response: {\n",
              "        action: 'continue',\n",
              "      }\n",
              "    };\n",
              "\n",
              "    // Use a chunked sending to avoid message size limits. See b/62115660.\n",
              "    let position = 0;\n",
              "    do {\n",
              "      const length = Math.min(fileData.byteLength - position, MAX_PAYLOAD_SIZE);\n",
              "      const chunk = new Uint8Array(fileData, position, length);\n",
              "      position += length;\n",
              "\n",
              "      const base64 = btoa(String.fromCharCode.apply(null, chunk));\n",
              "      yield {\n",
              "        response: {\n",
              "          action: 'append',\n",
              "          file: file.name,\n",
              "          data: base64,\n",
              "        },\n",
              "      };\n",
              "\n",
              "      let percentDone = fileData.byteLength === 0 ?\n",
              "          100 :\n",
              "          Math.round((position / fileData.byteLength) * 100);\n",
              "      percent.textContent = `${percentDone}% done`;\n",
              "\n",
              "    } while (position < fileData.byteLength);\n",
              "  }\n",
              "\n",
              "  // All done.\n",
              "  yield {\n",
              "    response: {\n",
              "      action: 'complete',\n",
              "    }\n",
              "  };\n",
              "}\n",
              "\n",
              "scope.google = scope.google || {};\n",
              "scope.google.colab = scope.google.colab || {};\n",
              "scope.google.colab._files = {\n",
              "  _uploadFiles,\n",
              "  _uploadFilesContinue,\n",
              "};\n",
              "})(self);\n",
              "</script> "
            ]
          },
          "metadata": {}
        },
        {
          "output_type": "stream",
          "name": "stdout",
          "text": [
            "Saving Rice Davis Resume.pdf to Rice Davis Resume (1).pdf\n"
          ]
        }
      ]
    },
    {
      "cell_type": "markdown",
      "source": [
        "Read resume PDF as a list of words"
      ],
      "metadata": {
        "id": "1RJCfHqoXmYX"
      }
    },
    {
      "cell_type": "code",
      "source": [
        "filename = \"Rice Davis Resume.pdf\"\n",
        "\n",
        "# Read PDF text\n",
        "text = \"\"\n",
        "with open(filename, \"rb\") as f:\n",
        "    reader = PyPDF2.PdfReader(f)\n",
        "    for page in reader.pages:\n",
        "        text += page.extract_text()\n",
        "\n",
        "\n",
        "resume_words = re.findall(r'\\b\\w+\\b', text.lower())\n",
        "print(resume_words)"
      ],
      "metadata": {
        "colab": {
          "base_uri": "https://localhost:8080/"
        },
        "id": "3m0cb8WQVk8w",
        "outputId": "e934d665-5b8f-4639-a984-9446724126f1"
      },
      "execution_count": 13,
      "outputs": [
        {
          "output_type": "stream",
          "name": "stdout",
          "text": [
            "['rice', 'davis', 'trd7', 'email', 'sc', 'edu', '203', '520', '5755', 'redding', 'ct', 'education', 'university', 'of', 'south', 'carolina', 'molinaroli', 'college', 'of', 'engineering', 'and', 'computing', 'columbia', 'sc', 'candidate', 'for', 'bachelor', 'of', 'science', 'in', 'computer', 'engineering', 'expected', 'may', '2026', 'major', 'computer', 'engineering', 'minor', 'business', 'administration', 'concentration', 'data', 'science', 'gpa', '3', '95', '4', '0', 'achieved', 'dean', 's', 'list', '5', 'consecutive', 'semesters', 'presidents', 'list', '4', '6', 'semesters', 'activities', 'tau', 'beta', 'pi', 'professional', 'engineering', 'fraternity', 'member', 'of', 'pi', 'kappa', 'phi', 'fraternity', 'intramural', 'soccer', 'technical', 'skills', 'languages', 'python', 'r', 'sql', 'c', 'tech', 'stack', 'git', 'databricks', 'jupyter', 'notebook', 'anaconda', 'pycharm', 'spotfire', 'tableau', 'ms', 'office', 'professional', 'experience', 'asml', 'wilton', 'ct', 'business', 'engineering', 'intern', 'june', '2025', 'august', '2025', 'applied', 'agile', 'scrum', 'methodologies', 'within', 'the', 'business', 'engineering', 'department', 'to', 'guide', 'project', 'development', 'cleaned', 'transformed', 'and', 'structured', 'large', 'datasets', 'to', 'enable', 'reliable', 'analysis', 'and', 'modeling', 'built', 'and', 'optimized', 'predictive', 'models', 'in', 'databricks', 'using', 'python', 'libraries', 'including', 'pandas', 'numpy', 'scikit', 'learn', 'matplotlib', 'and', 'seaborn', 'implemented', 'advanced', 'forecasting', 'techniques', 'with', 'xgboost', 'and', 'prophet', 'to', 'improve', 'prediction', 'accuracy', 'evaluated', 'model', 'performance', 'using', 'rmse', '2', '5', 'days', 'mae', '1', '8', 'days', 'and', 'mape', '6', 'achieving', 'a', 'prediction', 'error', 'of', 'less', 'than', '10', 'on', 'median', 'monthly', 'cycle', 'times', 'ensured', 'code', 'integrity', 'and', 'collaboration', 'by', 'adhering', 'to', 'gitlab', 'version', 'control', 'best', 'practices', 'delivered', 'clear', 'and', 'impactful', 'ms', 'powerpoint', 'presentations', 'of', 'technical', 'findings', 'to', 'both', 'technical', 'and', 'non', 'technical', 'stakeholders', 'artech', 'packaging', 'and', 'lubricants', 'bethel', 'ct', 'production', 'associate', 'june', '2021', 'august', '2024', 'streamlined', 'inventory', 'management', 'using', 'advanced', 'excel', 'functions', 'including', 'visualization', 'tools', 'and', 'conditional', 'formatting', 'to', 'track', 'and', 'optimize', 'supply', 'levels', 'programmed', 'and', 'implemented', 'automation', 'timing', 'systems', 'for', 'product', 'conveyors', 'improving', 'efficiency', 'and', 'reducing', 'manual', 'intervention', 'ensured', 'quality', 'control', 'by', 'monitoring', 'production', 'lines', 'troubleshooting', 'machinery', 'and', 'maintaining', 'safety', 'compliance', 'packaged', '2', '000', 'units', 'daily', 'ensuring', 'accuracy', 'and', 'meeting', 'production', 'targets', 'leadership', 'experience', 'study', 'group', 'leader', 'university', 'of', 'south', 'carolina', 'columbia', 'sc', 'leader', 'of', 'study', 'sessions', '2', '3', 'times', 'a', 'week', 'august', '2022', 'present', 'hosted', 'multiple', 'effective', 'study', 'groups', 'for', 'varying', 'courses', 'including', 'physics', 'digital', 'logic', 'design', 'and', 'vector', 'calculus', 'promoted', 'discussion', 'and', 'teamwork', 'by', 'facilitating', 'instruction', 'and', 'allowing', 'students', 'to', 'discuss', 'their', 'own', 'questions', 'and', 'ideas', 'relevant', 'coursework', 'statistics', 'for', 'engineers', 'big', 'data', 'analytics', 'visualization', 'techniques', 'computer', 'information', 'systems', 'in', 'business', 'advanced', 'programming', 'techniques', 'finance', 'and', 'markets']\n"
          ]
        }
      ]
    },
    {
      "cell_type": "markdown",
      "source": [
        "## a. Histogram of top 20 resume_words"
      ],
      "metadata": {
        "id": "p7qR7WmzXMTJ"
      }
    },
    {
      "cell_type": "code",
      "source": [
        "# Count word occurances\n",
        "word_counter = {}\n",
        "for word in resume_words:\n",
        "  if word in word_counter:\n",
        "    word_counter[word] += 1\n",
        "  else:\n",
        "    word_counter[word] = 1\n",
        "\n",
        "popular_words = sorted(word_counter, key = word_counter.get, reverse = True)\n",
        "top_20_words = popular_words[:20]\n",
        "top_20_counts = [word_counter[w] for w in top_20_words]"
      ],
      "metadata": {
        "id": "RNF9WmlWVXiO"
      },
      "execution_count": 22,
      "outputs": []
    },
    {
      "cell_type": "code",
      "source": [
        "plt.figure(figsize=(10,6))\n",
        "plt.bar(top_20_words, top_20_counts)\n",
        "plt.xticks(rotation=75)\n",
        "plt.xlabel(\"Words\")\n",
        "plt.ylabel(\"Count\")\n",
        "plt.title(\"Top 20 Words in Resume\")\n",
        "plt.show()"
      ],
      "metadata": {
        "id": "c9Y58Z3LaVo1",
        "outputId": "1bc5a366-fa8e-4b42-dbef-d2d716d8b09f",
        "colab": {
          "base_uri": "https://localhost:8080/",
          "height": 634
        }
      },
      "execution_count": 26,
      "outputs": [
        {
          "output_type": "display_data",
          "data": {
            "text/plain": [
              "<Figure size 1000x600 with 1 Axes>"
            ],
            "image/png": "[encoded data removed]"
          },
          "metadata": {}
        }
      ]
    }
  ]
}