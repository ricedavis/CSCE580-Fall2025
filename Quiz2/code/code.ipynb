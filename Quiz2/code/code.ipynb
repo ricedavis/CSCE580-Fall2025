{
  "nbformat": 4,
  "nbformat_minor": 0,
  "metadata": {
    "colab": {
      "provenance": [],
      "authorship_tag": "ABX9TyN4FXeKrA6HC1HaWgO+zDnu",
      "include_colab_link": true
    },
    "kernelspec": {
      "name": "python3",
      "display_name": "Python 3"
    },
    "language_info": {
      "name": "python"
    }
  },
  "cells": [
    {
      "cell_type": "markdown",
      "metadata": {
        "id": "view-in-github",
        "colab_type": "text"
      },
      "source": [
        "<a href=\"https://colab.research.google.com/github/ricedavis/CSCE580-Fall2025/blob/main/Quiz2/code/code.ipynb\" target=\"_parent\"><img src=\"https://colab.research.google.com/assets/colab-badge.svg\" alt=\"Open In Colab\"/></a>"
      ]
    },
    {
      "cell_type": "code",
      "source": [
        "!wget https://github.com/username/repo/raw/main/path/PF1_recipe1.json -O PF1_recipe1.json\n",
        "!wget https://github.com/username/repo/raw/main/path/PF1_recipe1.json -O PF2_recipe1.json\n",
        "!wget https://github.com/username/repo/raw/main/path/PF1_recipe1.json -O PF3_recipe1.json\n",
        "!wget https://github.com/username/repo/raw/main/path/PF1_recipe1.json -O PF1_recipe2.json\n",
        "!wget https://github.com/username/repo/raw/main/path/PF1_recipe1.json -O PF2_recipe2.json\n",
        "!wget https://github.com/username/repo/raw/main/path/PF1_recipe1.json -O PF3_recipe2.json\n",
        "!wget https://github.com/username/repo/raw/main/path/PP-1_recipe1.json -O PP-1_recipe1.json\n",
        "!wget https://github.com/username/repo/raw/main/path/PP-1_recipe1.json -O PP-2_recipe1.json\n",
        "!wget https://github.com/username/repo/raw/main/path/PP-1_recipe1.json -O PP-1_recipe2.json\n",
        "!wget https://github.com/username/repo/raw/main/path/PP-1_recipe1.json -O PP-2_recipe2.json"
      ],
      "metadata": {
        "id": "R2KHdNVZlWNM",
        "outputId": "b284746f-0dd5-407b-c39e-b5b8ba140b0a",
        "colab": {
          "base_uri": "https://localhost:8080/"
        }
      },
      "execution_count": 2,
      "outputs": [
        {
          "output_type": "stream",
          "name": "stdout",
          "text": [
            "--2025-10-07 21:31:31--  https://github.com/username/repo/raw/main/path/PF1_recipe1.json\n",
            "Resolving github.com (github.com)... 140.82.113.4\n",
            "Connecting to github.com (github.com)|140.82.113.4|:443... connected.\n",
            "HTTP request sent, awaiting response... 404 Not Found\n",
            "2025-10-07 21:31:31 ERROR 404: Not Found.\n",
            "\n",
            "--2025-10-07 21:31:31--  https://github.com/username/repo/raw/main/path/PF1_recipe1.json\n",
            "Resolving github.com (github.com)... 140.82.112.4\n",
            "Connecting to github.com (github.com)|140.82.112.4|:443... connected.\n",
            "HTTP request sent, awaiting response... 404 Not Found\n",
            "2025-10-07 21:31:32 ERROR 404: Not Found.\n",
            "\n",
            "--2025-10-07 21:31:32--  https://github.com/username/repo/raw/main/path/PF1_recipe1.json\n",
            "Resolving github.com (github.com)... 140.82.112.4\n",
            "Connecting to github.com (github.com)|140.82.112.4|:443... connected.\n",
            "HTTP request sent, awaiting response... 404 Not Found\n",
            "2025-10-07 21:31:32 ERROR 404: Not Found.\n",
            "\n",
            "--2025-10-07 21:31:32--  https://github.com/username/repo/raw/main/path/PF1_recipe1.json\n",
            "Resolving github.com (github.com)... 140.82.112.4\n",
            "Connecting to github.com (github.com)|140.82.112.4|:443... connected.\n",
            "HTTP request sent, awaiting response... 404 Not Found\n",
            "2025-10-07 21:31:32 ERROR 404: Not Found.\n",
            "\n",
            "--2025-10-07 21:31:32--  https://github.com/username/repo/raw/main/path/PF1_recipe1.json\n",
            "Resolving github.com (github.com)... 140.82.112.4\n",
            "Connecting to github.com (github.com)|140.82.112.4|:443... connected.\n",
            "HTTP request sent, awaiting response... 404 Not Found\n",
            "2025-10-07 21:31:32 ERROR 404: Not Found.\n",
            "\n",
            "--2025-10-07 21:31:32--  https://github.com/username/repo/raw/main/path/PF1_recipe1.json\n",
            "Resolving github.com (github.com)... 140.82.113.4\n",
            "Connecting to github.com (github.com)|140.82.113.4|:443... connected.\n",
            "HTTP request sent, awaiting response... 404 Not Found\n",
            "2025-10-07 21:31:32 ERROR 404: Not Found.\n",
            "\n",
            "--2025-10-07 21:31:32--  https://github.com/username/repo/raw/main/path/PP-1_recipe1.json\n",
            "Resolving github.com (github.com)... 140.82.112.4\n",
            "Connecting to github.com (github.com)|140.82.112.4|:443... connected.\n",
            "HTTP request sent, awaiting response... 404 Not Found\n",
            "2025-10-07 21:31:32 ERROR 404: Not Found.\n",
            "\n",
            "--2025-10-07 21:31:32--  https://github.com/username/repo/raw/main/path/PP-1_recipe1.json\n",
            "Resolving github.com (github.com)... 140.82.113.3\n",
            "Connecting to github.com (github.com)|140.82.113.3|:443... connected.\n",
            "HTTP request sent, awaiting response... 404 Not Found\n",
            "2025-10-07 21:31:32 ERROR 404: Not Found.\n",
            "\n",
            "--2025-10-07 21:31:33--  https://github.com/username/repo/raw/main/path/PP-1_recipe1.json\n",
            "Resolving github.com (github.com)... 140.82.113.3\n",
            "Connecting to github.com (github.com)|140.82.113.3|:443... connected.\n",
            "HTTP request sent, awaiting response... 404 Not Found\n",
            "2025-10-07 21:31:33 ERROR 404: Not Found.\n",
            "\n",
            "--2025-10-07 21:31:33--  https://github.com/username/repo/raw/main/path/PP-1_recipe1.json\n",
            "Resolving github.com (github.com)... 140.82.112.3\n",
            "Connecting to github.com (github.com)|140.82.112.3|:443... connected.\n",
            "HTTP request sent, awaiting response... 404 Not Found\n",
            "2025-10-07 21:31:33 ERROR 404: Not Found.\n",
            "\n"
          ]
        }
      ]
    },
    {
      "cell_type": "code",
      "execution_count": 3,
      "metadata": {
        "id": "JJ1F5MZQkV3d",
        "outputId": "a309e520-c764-4a43-cec6-803d21530c81",
        "colab": {
          "base_uri": "https://localhost:8080/"
        }
      },
      "outputs": [
        {
          "output_type": "stream",
          "name": "stdout",
          "text": [
            "Invalid JSON format: /content/PF1_recipe1.json\n",
            "/content/PF1_recipe1.json: 0/100\n"
          ]
        }
      ],
      "source": [
        "import json\n",
        "\n",
        "def evaluate_r3_json(file_path):\n",
        "    \"\"\"\n",
        "    Evaluate an R3 JSON file according to the provided goodness score rubric.\n",
        "    Returns a score out of 100.\n",
        "    \"\"\"\n",
        "    score = 0\n",
        "\n",
        "    # First, try loading the JSON to check format validity\n",
        "    try:\n",
        "        with open(file_path, 'r') as f:\n",
        "            data = json.load(f)\n",
        "        score += 50  # Correct JSON format\n",
        "    except:\n",
        "        print(f\"Invalid JSON format: {file_path}\")\n",
        "        return score  # 0 if invalid format\n",
        "\n",
        "    # Metadata checks: 10 points each\n",
        "    metadata_fields = ['recipe_name', 'data_provenance', 'macronutrients', 'ingredients', 'instructions']\n",
        "    for field in metadata_fields:\n",
        "        if field in data:\n",
        "            score += 10\n",
        "\n",
        "    return score\n",
        "\n",
        "# Example usage for a single file:\n",
        "file_path = \"/content/PF1_recipe1.json\"\n",
        "goodness_score = evaluate_r3_json(file_path)\n",
        "print(f\"{file_path}: {goodness_score}/100\")\n"
      ]
    },
    {
      "cell_type": "code",
      "source": [
        "import glob\n",
        "\n",
        "# Get a list of all JSON files in the folder\n",
        "json_files = glob.glob(\"/content/*.json\")\n",
        "\n",
        "# Evaluate each file\n",
        "for file in json_files:\n",
        "    score = evaluate_r3_json(file)\n",
        "    print(f\"{file}: {score}/100\")\n"
      ],
      "metadata": {
        "id": "OhfevqpxlwOm",
        "outputId": "fe89a60f-fa33-46ac-e3ba-53101a4dfca5",
        "colab": {
          "base_uri": "https://localhost:8080/"
        }
      },
      "execution_count": 4,
      "outputs": [
        {
          "output_type": "stream",
          "name": "stdout",
          "text": [
            "Invalid JSON format: /content/PP-1_recipe1.json\n",
            "/content/PP-1_recipe1.json: 0/100\n",
            "Invalid JSON format: /content/PF2_recipe2.json\n",
            "/content/PF2_recipe2.json: 0/100\n",
            "Invalid JSON format: /content/PP-1_recipe2.json\n",
            "/content/PP-1_recipe2.json: 0/100\n",
            "Invalid JSON format: /content/PF1_recipe1.json\n",
            "/content/PF1_recipe1.json: 0/100\n",
            "Invalid JSON format: /content/PP-2_recipe2.json\n",
            "/content/PP-2_recipe2.json: 0/100\n",
            "Invalid JSON format: /content/PF2_recipe1.json\n",
            "/content/PF2_recipe1.json: 0/100\n",
            "Invalid JSON format: /content/PF1_recipe2.json\n",
            "/content/PF1_recipe2.json: 0/100\n",
            "Invalid JSON format: /content/PP-2_recipe1.json\n",
            "/content/PP-2_recipe1.json: 0/100\n",
            "Invalid JSON format: /content/PF3_recipe1.json\n",
            "/content/PF3_recipe1.json: 0/100\n",
            "Invalid JSON format: /content/PF3_recipe2.json\n",
            "/content/PF3_recipe2.json: 0/100\n"
          ]
        }
      ]
    }
  ]
}